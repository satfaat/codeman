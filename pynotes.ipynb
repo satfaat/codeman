{
 "cells": [
  {
   "cell_type": "code",
   "execution_count": 5,
   "metadata": {
    "tags": []
   },
   "outputs": [
    {
     "output_type": "stream",
     "name": "stdout",
     "text": "<class 'str'>\n<class 'int'>\nsplit\nsplitlines\nstartswith\nstrip\nswapcase\n"
    }
   ],
   "source": [
    "# help\n",
    "\n",
    "txt = 'text'\n",
    "num = 20\n",
    "print(type(txt))\n",
    "print(type(num))\n",
    "#help(str.split)\n",
    "#dir(str)\n",
    "#dir(int)\n",
    "\n",
    "#for i in range(5):\n",
    "#    print(dir(str)[i])\n",
    "#print(len(dir(str)))\n",
    "\n",
    "for i in range(len(dir(str))):\n",
    "    if dir(str)[i][0] == 's':\n",
    "        print (dir(str)[i])"
   ]
  },
  {
   "cell_type": "code",
   "execution_count": null,
   "metadata": {},
   "outputs": [],
   "source": [
    "# var.py\n",
    "\n",
    "x, y, z = \"orange\", \"banana\", \"cherry\"\n",
    "\n",
    "x=y=z = \"orange\"\n",
    "\n",
    "x = \"python is \"\n",
    "y = \"awesome\"\n",
    "z = x + y;\n",
    "print(z)"
   ]
  }
 ],
 "metadata": {
  "language_info": {
   "codemirror_mode": {
    "name": "ipython",
    "version": 3
   },
   "file_extension": ".py",
   "mimetype": "text/x-python",
   "name": "python",
   "nbconvert_exporter": "python",
   "pygments_lexer": "ipython3",
   "version": "3.8.5-final"
  },
  "orig_nbformat": 2,
  "kernelspec": {
   "name": "python38364bit93b64ca63c7743489b3b311c62aa3ce5",
   "display_name": "Python 3.8.3 64-bit"
  }
 },
 "nbformat": 4,
 "nbformat_minor": 2
}