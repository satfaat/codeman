{
 "cells": [
  {
   "cell_type": "code",
   "execution_count": 12,
   "metadata": {
    "tags": []
   },
   "outputs": [
    {
     "output_type": "stream",
     "name": "stdout",
     "text": "2020-07-21 14:00:12\n3.8.3 (tags/v3.8.3:6f8c832, May 13 2020, 22:37:02) [MSC v.1924 64 bit (AMD64)] \n sys.version_info(major=3, minor=8, micro=3, releaselevel='final', serial=0)\n"
    }
   ],
   "source": [
    "def what_time():\n",
    "    import datetime\n",
    "    now = datetime.datetime.now()\n",
    "    return now.strftime('%Y-%m-%d %H:%M:%S')\n",
    "#print (what_time())\n",
    "\n",
    "import sys\n",
    "print(sys.version, '\\n', sys.version_info)"
   ]
  },
  {
   "cell_type": "code",
   "execution_count": 26,
   "metadata": {
    "tags": []
   },
   "outputs": [
    {
     "output_type": "stream",
     "name": "stdout",
     "text": "{'upper_case': 3, 'lower_case': 13, 'white_space': 3}\n"
    }
   ],
   "source": [
    "#dir(list)\n",
    "#help(list.append)\n",
    "\n",
    "name = \" ada lovelace \"\n",
    "name_title = name.title()\n",
    "name_upper = name.upper()\n",
    "name_lower = name.lower()\n",
    "name_strip = name.strip() #.rstrip() and name.lstrip()\n",
    "\n",
    "names_tuple = name, name_title, name_upper, name_lower, name_strip # tuple\n",
    "names_list = list(names_tuple) #list\n",
    "\n",
    "#print( name, ' - \\n', '\\t', name_title)\n",
    "#print(f'list = {names_list} \\nlength of list: {len(names_list)}')\n",
    "\n",
    "#values = input('input some comma seprated numbers: ')\n",
    "num_list = values.split(',')\n",
    "num_tuple = tuple(num_list)\n",
    "\n",
    "#print(f'List: {num_list} \\nTuple: {num_tuple}')\n",
    "\n",
    "def str_reverse(phrase):\n",
    "    reverse_str = ''\n",
    "    index = len(phrase)\n",
    "    while index > 0:\n",
    "        reverse_str += phrase[index - 1]\n",
    "        index -= 1\n",
    "    return reverse_str\n",
    "#print (str_reverse('pinocio'))\n",
    "\n",
    "def case_count(phrase):\n",
    "    counter = {\n",
    "        'upper_case':0,\n",
    "        'lower_case':0,\n",
    "        'white_space':0}\n",
    "    for char in phrase:\n",
    "        if char.isupper(): #.islower\n",
    "            counter['upper_case']+=1\n",
    "        elif char.islower():\n",
    "            counter['lower_case']+=1\n",
    "        else:\n",
    "            counter['white_space']+=1\n",
    "    return counter\n",
    "print(case_count('The quick Brown Fox'))\n"
   ]
  },
  {
   "cell_type": "code",
   "execution_count": 10,
   "metadata": {
    "tags": []
   },
   "outputs": [
    {
     "output_type": "stream",
     "name": "stdout",
     "text": "Help on built-in function repr in module builtins:\n\nrepr(obj, /)\n    Return the canonical string representation of the object.\n    \n    For many object types, including most builtins, eval(repr(obj)) == obj.\n\nada lovelace\nHello, Ada Lovelace!\n<class 'str'>\n"
    }
   ],
   "source": [
    "first_name = input('Input your first name: ')\n",
    "last_name = \"lovelace\"\n",
    "full_name = f\"{first_name} {last_name}\"\n",
    "#help(repr)\n",
    "\n",
    "#print(full_name)\n",
    "#print(f\"Hello, {full_name.title()}!\")\n",
    "#print(type(repr(last_name)))\n"
   ]
  },
  {
   "cell_type": "code",
   "execution_count": 5,
   "metadata": {
    "tags": []
   },
   "outputs": [
    {
     "output_type": "stream",
     "name": "stdout",
     "text": "2.0 = 12.566370614359172\n"
    }
   ],
   "source": [
    "from math import pi\n",
    "\n",
    "r = float(input('Input the radius of the circle: '))\n",
    "print (f'{str(r)} = {str(pi * r**2)}')\n",
    "\n",
    "def max_of_array(x, y):\n",
    "    #str_a = ''\n",
    "    #for num in range(x, y):\n",
    "    #    str_a += str(num)\n",
    "    #str_list = list(str_a)\n",
    "    #print(str_list)\n",
    "\n",
    "    big_one = 0\n",
    "    for num in range(x, y):\n",
    "        if big_one < num:\n",
    "            big_one = num\n",
    "    return big_one\n"
   ]
  },
  {
   "cell_type": "code",
   "execution_count": null,
   "metadata": {},
   "outputs": [],
   "source": []
  }
 ],
 "metadata": {
  "language_info": {
   "codemirror_mode": {
    "name": "ipython",
    "version": 3
   },
   "file_extension": ".py",
   "mimetype": "text/x-python",
   "name": "python",
   "nbconvert_exporter": "python",
   "pygments_lexer": "ipython3",
   "version": "3.8.3-final"
  },
  "orig_nbformat": 2,
  "kernelspec": {
   "name": "python38364bit93b64ca63c7743489b3b311c62aa3ce5",
   "display_name": "Python 3.8.3 64-bit"
  }
 },
 "nbformat": 4,
 "nbformat_minor": 2
}