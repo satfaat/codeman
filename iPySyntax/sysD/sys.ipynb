{
 "cells": [
  {
   "cell_type": "code",
   "execution_count": 1,
   "metadata": {},
   "outputs": [],
   "source": [
    "import os\n",
    "import sys\n",
    "import datetime"
   ]
  },
  {
   "cell_type": "code",
   "execution_count": null,
   "metadata": {},
   "outputs": [],
   "source": [
    "def sys_info() -> None:\n",
    "    print(sys.version, '\\n', sys.version_info)\n",
    "\n",
    "# introspection\n",
    "\n",
    "type()\n",
    "dir()\n",
    "help()\n",
    "\n",
    "# help\n",
    "\n",
    "txt = 'text'\n",
    "num = 20\n",
    "print(type(txt))\n",
    "print(type(num))\n",
    "#help(str.split)\n",
    "#dir(str)\n",
    "#dir(int)\n",
    "\n",
    "#for i in range(5):\n",
    "#    print(dir(str)[i])\n",
    "#print(len(dir(str)))\n",
    "\n",
    "for i in range(len(dir(str))):\n",
    "    if dir(str)[i][0] == 's':\n",
    "        print (dir(str)[i])"
   ]
  },
  {
   "cell_type": "code",
   "execution_count": null,
   "metadata": {},
   "outputs": [],
   "source": [
    "root = os.path.join('..\\..\\..\\.tmp\\\\tst.sys', 'food')\n",
    "for directory, subdir_list, file_list in os.walk(root):\n",
    "    print('Directory:', directory)\n",
    "    for name in subdir_list:\n",
    "        print('Subdirectory:', name)\n",
    "    for name in file_list:\n",
    "        print('File:', name)\n",
    "    # print()"
   ]
  },
  {
   "cell_type": "code",
   "execution_count": 8,
   "metadata": {},
   "outputs": [
    {
     "name": "stdout",
     "output_type": "stream",
     "text": [
      "d:\\dev\\py\\ipynb\n"
     ]
    }
   ],
   "source": [
    "\n",
    "# root = os.path.join('..\\..\\..\\.tmp\\\\tst.sys', 'food')\n",
    "# print(root)\n",
    "\n",
    "CURR_DIR = os.getcwd()\n",
    "print(CURR_DIR)"
   ]
  },
  {
   "cell_type": "code",
   "execution_count": 10,
   "metadata": {},
   "outputs": [
    {
     "name": "stdout",
     "output_type": "stream",
     "text": [
      "Renaming: ..\\..\\..\\.tmp\\tst.sys\\food\\fruits\\banana.txt to: ..\\..\\..\\.tmp\\tst.sys\\food\\fruits\\2021-11-07 19.28.10.290542_banana.txt\n",
      "Renaming: ..\\..\\..\\.tmp\\tst.sys\\food\\fruits\\blueberry.txt to: ..\\..\\..\\.tmp\\tst.sys\\food\\fruits\\2021-11-07 19.28.10.357924_blueberry.txt\n",
      "Renaming: ..\\..\\..\\.tmp\\tst.sys\\food\\fruits\\strawberry.txt to: ..\\..\\..\\.tmp\\tst.sys\\food\\fruits\\2021-11-07 19.28.10.353915_strawberry.txt\n",
      "Renaming: ..\\..\\..\\.tmp\\tst.sys\\food\\fruits\\apples\\honeycrisp.txt to: ..\\..\\..\\.tmp\\tst.sys\\food\\fruits\\apples\\2021-11-07 19.28.10.361924_honeycrisp.txt\n",
      "Renaming: ..\\..\\..\\.tmp\\tst.sys\\food\\fruits\\oranges\\mandarin.txt to: ..\\..\\..\\.tmp\\tst.sys\\food\\fruits\\oranges\\2021-11-07 19.28.10.365923_mandarin.txt\n",
      "Renaming: ..\\..\\..\\.tmp\\tst.sys\\food\\vegetables\\carrot.txt to: ..\\..\\..\\.tmp\\tst.sys\\food\\vegetables\\2021-11-07 19.28.10.369926_carrot.txt\n"
     ]
    }
   ],
   "source": [
    "root = os.path.join('..\\..\\..\\.tmp\\\\tst.sys', 'food')\n",
    "for directory, subdir_list, file_list in os.walk(root):\n",
    "    for name in file_list:\n",
    "        source_name = os.path.join(directory, name)\n",
    "        timestamp = os.path.getmtime(source_name)\n",
    "        modified_date = str(datetime.datetime.fromtimestamp(timestamp)).replace(':', '.')\n",
    "        target_name = os.path.join(directory, f'{modified_date}_{name}')\n",
    "\n",
    "        print(f'Renaming: {source_name} to: {target_name}')\n",
    "\n",
    "        os.rename(source_name, target_name)"
   ]
  },
  {
   "cell_type": "code",
   "execution_count": 18,
   "metadata": {},
   "outputs": [
    {
     "name": "stdout",
     "output_type": "stream",
     "text": [
      "this is a test file\n",
      "\n",
      "line 2\n",
      "\n",
      "line 3\n",
      "\n",
      "this line intentionally left blank\n"
     ]
    }
   ],
   "source": [
    "try:\n",
    "    file_1 = open('../db.tst/tst.txt', 'r')\n",
    "    #file_1.read()\n",
    "    #file_1.readline()\n",
    "\n",
    "    for line in file_1:\n",
    "        print(line)\n",
    "except IOError:\n",
    "    print('An IOerror has occurred')\n",
    "finally:\n",
    "    file_1.close()"
   ]
  },
  {
   "cell_type": "code",
   "execution_count": 16,
   "metadata": {},
   "outputs": [
    {
     "name": "stdout",
     "output_type": "stream",
     "text": [
      "this is a test file\n",
      "line 2\n",
      "line 3\n",
      "this line intentionally left blank\n",
      "\n"
     ]
    }
   ],
   "source": [
    "file_1 = open('../db.tst/tst.txt', 'r')\n",
    "file_2 = open('../db.tst/tst2.txt', 'w')\n",
    "\n",
    "while True:\n",
    "    data = file_1.read(1024)\n",
    "    print(data)\n",
    "    if not data:\n",
    "        break\n",
    "\n",
    "file_2.write('Some new data text')\n",
    "file_2.close()"
   ]
  },
  {
   "cell_type": "code",
   "execution_count": null,
   "metadata": {},
   "outputs": [],
   "source": [
    "# Read a binary file\n",
    "\n",
    "try:\n",
    "    file_3 = open('test.pdf', 'rb')  # rb is read binary\n",
    "except IOError:\n",
    "    print('An IOError has occurred')\n",
    "finally:\n",
    "    file_3.close()"
   ]
  },
  {
   "cell_type": "code",
   "execution_count": 20,
   "metadata": {},
   "outputs": [
    {
     "name": "stdout",
     "output_type": "stream",
     "text": [
      "An IOerror has occurred\n"
     ]
    }
   ],
   "source": [
    "try:\n",
    "    with open('../db.tst/tst2.txt') as file_2:\n",
    "        for line in file_2:\n",
    "            print(line)\n",
    "except IOError:\n",
    "    print('An IOerror has occurred')"
   ]
  }
 ],
 "metadata": {
  "kernelspec": {
   "display_name": "Python 3.10.0 ('.env_jupyter': venv)",
   "language": "python",
   "name": "python3"
  },
  "language_info": {
   "codemirror_mode": {
    "name": "ipython",
    "version": 3
   },
   "file_extension": ".py",
   "mimetype": "text/x-python",
   "name": "python",
   "nbconvert_exporter": "python",
   "pygments_lexer": "ipython3",
   "version": "3.11.4"
  },
  "orig_nbformat": 4,
  "vscode": {
   "interpreter": {
    "hash": "acd7119d548134a99e6f9d1f29df8db3a357202429f0f56f73b34e23b90bc877"
   }
  }
 },
 "nbformat": 4,
 "nbformat_minor": 2
}
