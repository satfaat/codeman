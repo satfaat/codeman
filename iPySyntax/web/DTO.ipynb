{
 "cells": [
  {
   "attachments": {},
   "cell_type": "markdown",
   "metadata": {},
   "source": [
    "api list\n",
    "    - https://jsonplaceholder.typicode.com/\n",
    "    - https://jsonplaceholder.typicode.com/guide/\n",
    "    - https://www.appsloveworld.com/free-online-sample-rest-api-url-for-testing\n",
    "    - https://sampleapis.com/api-list\n"
   ]
  },
  {
   "cell_type": "code",
   "execution_count": 1,
   "metadata": {},
   "outputs": [],
   "source": [
    "import pydantic"
   ]
  },
  {
   "cell_type": "code",
   "execution_count": 2,
   "metadata": {},
   "outputs": [],
   "source": [
    "from datetime import datetime\n",
    "from ipaddress import IPv4Address"
   ]
  },
  {
   "cell_type": "code",
   "execution_count": 3,
   "metadata": {},
   "outputs": [],
   "source": [
    "from typing import TypedDict, List, Optional"
   ]
  },
  {
   "cell_type": "code",
   "execution_count": 24,
   "metadata": {},
   "outputs": [],
   "source": [
    "from enum import Enum"
   ]
  },
  {
   "cell_type": "code",
   "execution_count": 4,
   "metadata": {},
   "outputs": [],
   "source": [
    "class User(pydantic.BaseModel):\n",
    "    id: int\n",
    "    name: str = 'Jane Doe'\n",
    "    signup_ts: Optional[datetime] = None\n",
    "    friends: List[int] = []"
   ]
  },
  {
   "cell_type": "code",
   "execution_count": 5,
   "metadata": {},
   "outputs": [
    {
     "data": {
      "text/plain": [
       "(User(id=123, name='Jane Doe', signup_ts=None, friends=[]),\n",
       " User(id=123, name='Jane Doe', signup_ts=datetime.datetime(2017, 6, 1, 12, 22), friends=[1, 2, 3]))"
      ]
     },
     "execution_count": 5,
     "metadata": {},
     "output_type": "execute_result"
    }
   ],
   "source": [
    "external_data = {'id': '123', 'signup_ts': '2017-06-01 12:22', 'friends': [1, '2', b'3']}\n",
    "user = User(id='123')\n",
    "user2 = User(**external_data)\n",
    "user, \\\n",
    "    user2"
   ]
  },
  {
   "cell_type": "code",
   "execution_count": 6,
   "metadata": {},
   "outputs": [],
   "source": [
    "assert user.name == 'Jane Doe'"
   ]
  },
  {
   "cell_type": "code",
   "execution_count": 16,
   "metadata": {},
   "outputs": [
    {
     "name": "stdout",
     "output_type": "stream",
     "text": [
      "{'id': 123, 'name': 'Jane Doe', 'signup_ts': None, 'friends': []}\n",
      "{'id': 123, 'name': 'Jane Doe', 'signup_ts': datetime.datetime(2017, 6, 1, 12, 22), 'friends': [1, 2, 3]}\n"
     ]
    }
   ],
   "source": [
    "# lambda usr: usr in [user.dict(), user2.dict()]\n",
    "for usr in [user.dict(), user2.dict()]:\n",
    "    print(usr)\n"
   ]
  },
  {
   "cell_type": "code",
   "execution_count": 19,
   "metadata": {},
   "outputs": [
    {
     "name": "stdout",
     "output_type": "stream",
     "text": [
      "Not an integer\n"
     ]
    }
   ],
   "source": [
    "try:\n",
    "    user_x = User(id='123.45')\n",
    "    assert isinstance(user_x.id, int)\n",
    "except:\n",
    "    print(\"Not an integer\")\n"
   ]
  },
  {
   "cell_type": "code",
   "execution_count": 30,
   "metadata": {},
   "outputs": [],
   "source": [
    "class Endpoints(str, Enum):\n",
    "    AUTH = 'auth'\n",
    "    INFO = 'info'\n",
    "    CAST = 'cast'\n",
    "    EPISODES = 'episodes'\n",
    "    QUESTIONS = 'questions'\n",
    "    INVENTORY = 'inventory'\n",
    "    CHARACTERS = 'characters'\n",
    "\n",
    "    def __str__(self) -> str:\n",
    "        return self.value"
   ]
  },
  {
   "cell_type": "code",
   "execution_count": 32,
   "metadata": {},
   "outputs": [
    {
     "data": {
      "text/plain": [
       "(<enum 'Endpoints'>, 'string auth')"
      ]
     },
     "execution_count": 32,
     "metadata": {},
     "output_type": "execute_result"
    }
   ],
   "source": [
    "type(Endpoints.AUTH), \\\n",
    "\"string \" +  Endpoints.AUTH"
   ]
  }
 ],
 "metadata": {
  "kernelspec": {
   "display_name": "env-jnb",
   "language": "python",
   "name": "python3"
  },
  "language_info": {
   "codemirror_mode": {
    "name": "ipython",
    "version": 3
   },
   "file_extension": ".py",
   "mimetype": "text/x-python",
   "name": "python",
   "nbconvert_exporter": "python",
   "pygments_lexer": "ipython3",
   "version": "3.11.3"
  },
  "orig_nbformat": 4
 },
 "nbformat": 4,
 "nbformat_minor": 2
}
