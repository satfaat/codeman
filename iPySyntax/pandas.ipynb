{
 "cells": [
  {
   "cell_type": "markdown",
   "metadata": {},
   "source": [
    "- Retention Rate aka коэффициент удержания\n",
    "- Churn Rate aka коэффициент отскока-\n",
    "- CR aka conversion rate\n",
    "- LTV aka Lifetime Value aka пожизненная ценность\n",
    "- CAC aka Customer Acquisition Cost aka стоимость привлечения клиента\n",
    "- ROI aka Return On Investment aka возврат на инвестиции: LTV / CAC\n",
    "- ROMI aka Return On Marketing Investment\n",
    "- ARPU aka Average Revenue Per User aka средняя выручка с пользователя\n",
    "- ARPPU aka Average Revenue Per Paying User aka средняя выручка с платящего пользователя\n",
    "- DAU aka daily active users\n",
    "- WAU aka weekly active users\n",
    "- MAU aka monthly active users"
   ]
  },
  {
   "cell_type": "code",
   "execution_count": 1,
   "metadata": {},
   "outputs": [],
   "source": [
    "import pandas as pd\n",
    "import json"
   ]
  },
  {
   "cell_type": "code",
   "execution_count": 6,
   "metadata": {},
   "outputs": [],
   "source": [
    "links = {\n",
    "    'csv': [\n",
    "        '../db.tst/yandex_music_project.csv',\n",
    "        'https://code.s3.yandex.net/datasets/ad_data.csv',\n",
    "        'https://code.s3.yandex.net/datasets/site_data.csv'\n",
    "    ],\n",
    "    'json': [\n",
    "        '../../.dts/tmp/e1.json'\n",
    "    ],\n",
    "    'urls': [\n",
    "        'https://www.w3schools.com/html/html_tables.asp'\n",
    "    ]\n",
    "}"
   ]
  },
  {
   "cell_type": "code",
   "execution_count": 13,
   "metadata": {},
   "outputs": [],
   "source": [
    "t_ad = pd.read_csv(links['csv'][1])"
   ]
  },
  {
   "cell_type": "code",
   "execution_count": 14,
   "metadata": {},
   "outputs": [],
   "source": [
    "t_site = pd.read_csv(links['csv'][2])"
   ]
  },
  {
   "cell_type": "code",
   "execution_count": 10,
   "metadata": {},
   "outputs": [],
   "source": [
    "df = pd.read_html(links['urls'][0])"
   ]
  },
  {
   "cell_type": "code",
   "execution_count": 5,
   "metadata": {},
   "outputs": [],
   "source": [
    "df = pd.read_json(links['json'][0], orient='index')\n",
    "\n",
    "# orient= [\n",
    "#     'index',\n",
    "#     'columns',\n",
    "#     'split',\n",
    "#     'records'\n",
    "#     ]"
   ]
  },
  {
   "cell_type": "code",
   "execution_count": null,
   "metadata": {},
   "outputs": [],
   "source": [
    "# save to json\n",
    "#df.to_json('example.json')"
   ]
  },
  {
   "cell_type": "code",
   "execution_count": 15,
   "metadata": {},
   "outputs": [],
   "source": [
    "funnel = pd.merge(t_ad, t_site, on='date')"
   ]
  },
  {
   "cell_type": "code",
   "execution_count": 18,
   "metadata": {},
   "outputs": [
    {
     "data": {
      "text/html": [
       "<div>\n",
       "<style scoped>\n",
       "    .dataframe tbody tr th:only-of-type {\n",
       "        vertical-align: middle;\n",
       "    }\n",
       "\n",
       "    .dataframe tbody tr th {\n",
       "        vertical-align: top;\n",
       "    }\n",
       "\n",
       "    .dataframe thead th {\n",
       "        text-align: right;\n",
       "    }\n",
       "</style>\n",
       "<table border=\"1\" class=\"dataframe\">\n",
       "  <thead>\n",
       "    <tr style=\"text-align: right;\">\n",
       "      <th></th>\n",
       "      <th>date</th>\n",
       "      <th>impressions</th>\n",
       "      <th>clicks</th>\n",
       "    </tr>\n",
       "  </thead>\n",
       "  <tbody>\n",
       "    <tr>\n",
       "      <th>12</th>\n",
       "      <td>2019-08-13</td>\n",
       "      <td>9682</td>\n",
       "      <td>78</td>\n",
       "    </tr>\n",
       "    <tr>\n",
       "      <th>26</th>\n",
       "      <td>2019-08-27</td>\n",
       "      <td>7878</td>\n",
       "      <td>73</td>\n",
       "    </tr>\n",
       "  </tbody>\n",
       "</table>\n",
       "</div>"
      ],
      "text/plain": [
       "          date  impressions  clicks\n",
       "12  2019-08-13         9682      78\n",
       "26  2019-08-27         7878      73"
      ]
     },
     "execution_count": 18,
     "metadata": {},
     "output_type": "execute_result"
    }
   ],
   "source": [
    "t_ad.sample(2)"
   ]
  },
  {
   "cell_type": "code",
   "execution_count": 30,
   "metadata": {},
   "outputs": [
    {
     "data": {
      "text/html": [
       "<div>\n",
       "<style scoped>\n",
       "    .dataframe tbody tr th:only-of-type {\n",
       "        vertical-align: middle;\n",
       "    }\n",
       "\n",
       "    .dataframe tbody tr th {\n",
       "        vertical-align: top;\n",
       "    }\n",
       "\n",
       "    .dataframe thead th {\n",
       "        text-align: right;\n",
       "    }\n",
       "</style>\n",
       "<table border=\"1\" class=\"dataframe\">\n",
       "  <thead>\n",
       "    <tr style=\"text-align: right;\">\n",
       "      <th></th>\n",
       "      <th>date</th>\n",
       "      <th>impressions</th>\n",
       "      <th>clicks</th>\n",
       "      <th>registrations</th>\n",
       "      <th>ctr, %</th>\n",
       "      <th>cr, %</th>\n",
       "      <th>week</th>\n",
       "      <th>month</th>\n",
       "    </tr>\n",
       "  </thead>\n",
       "  <tbody>\n",
       "    <tr>\n",
       "      <th>0</th>\n",
       "      <td>2019-08-01</td>\n",
       "      <td>6153</td>\n",
       "      <td>61</td>\n",
       "      <td>6</td>\n",
       "      <td>0.991386</td>\n",
       "      <td>9.836066</td>\n",
       "      <td>31</td>\n",
       "      <td>8</td>\n",
       "    </tr>\n",
       "    <tr>\n",
       "      <th>1</th>\n",
       "      <td>2019-08-02</td>\n",
       "      <td>8254</td>\n",
       "      <td>81</td>\n",
       "      <td>6</td>\n",
       "      <td>0.981342</td>\n",
       "      <td>7.407407</td>\n",
       "      <td>31</td>\n",
       "      <td>8</td>\n",
       "    </tr>\n",
       "    <tr>\n",
       "      <th>2</th>\n",
       "      <td>2019-08-03</td>\n",
       "      <td>4434</td>\n",
       "      <td>43</td>\n",
       "      <td>4</td>\n",
       "      <td>0.969779</td>\n",
       "      <td>9.302326</td>\n",
       "      <td>31</td>\n",
       "      <td>8</td>\n",
       "    </tr>\n",
       "    <tr>\n",
       "      <th>3</th>\n",
       "      <td>2019-08-04</td>\n",
       "      <td>9510</td>\n",
       "      <td>79</td>\n",
       "      <td>7</td>\n",
       "      <td>0.830705</td>\n",
       "      <td>8.860759</td>\n",
       "      <td>31</td>\n",
       "      <td>8</td>\n",
       "    </tr>\n",
       "    <tr>\n",
       "      <th>4</th>\n",
       "      <td>2019-08-05</td>\n",
       "      <td>7167</td>\n",
       "      <td>70</td>\n",
       "      <td>6</td>\n",
       "      <td>0.976699</td>\n",
       "      <td>8.571429</td>\n",
       "      <td>32</td>\n",
       "      <td>8</td>\n",
       "    </tr>\n",
       "  </tbody>\n",
       "</table>\n",
       "</div>"
      ],
      "text/plain": [
       "        date  impressions  clicks  registrations    ctr, %     cr, %  week  \\\n",
       "0 2019-08-01         6153      61              6  0.991386  9.836066    31   \n",
       "1 2019-08-02         8254      81              6  0.981342  7.407407    31   \n",
       "2 2019-08-03         4434      43              4  0.969779  9.302326    31   \n",
       "3 2019-08-04         9510      79              7  0.830705  8.860759    31   \n",
       "4 2019-08-05         7167      70              6  0.976699  8.571429    32   \n",
       "\n",
       "   month  \n",
       "0      8  \n",
       "1      8  \n",
       "2      8  \n",
       "3      8  \n",
       "4      8  "
      ]
     },
     "execution_count": 30,
     "metadata": {},
     "output_type": "execute_result"
    }
   ],
   "source": [
    "funnel.head(5)\n",
    "#df.loc['info']"
   ]
  },
  {
   "cell_type": "code",
   "execution_count": 19,
   "metadata": {},
   "outputs": [],
   "source": [
    "# CR aka conversion rate\n",
    "# CTR aka click-through rate\n",
    "funnel['ctr, %'] = (funnel['clicks']/funnel['impressions'])*100\n",
    "funnel['cr, %'] = (funnel['registrations']/funnel['clicks'])*100"
   ]
  },
  {
   "cell_type": "code",
   "execution_count": 22,
   "metadata": {},
   "outputs": [],
   "source": [
    "funnel['date'] = pd.to_datetime(funnel['date'])\n",
    "funnel['week'] = funnel['date'].dt.isocalendar().week"
   ]
  },
  {
   "cell_type": "code",
   "execution_count": 29,
   "metadata": {},
   "outputs": [],
   "source": [
    "funnel['month'] = funnel['date'].dt.month"
   ]
  },
  {
   "cell_type": "code",
   "execution_count": 26,
   "metadata": {},
   "outputs": [
    {
     "data": {
      "text/html": [
       "<div>\n",
       "<style scoped>\n",
       "    .dataframe tbody tr th:only-of-type {\n",
       "        vertical-align: middle;\n",
       "    }\n",
       "\n",
       "    .dataframe tbody tr th {\n",
       "        vertical-align: top;\n",
       "    }\n",
       "\n",
       "    .dataframe thead th {\n",
       "        text-align: right;\n",
       "    }\n",
       "</style>\n",
       "<table border=\"1\" class=\"dataframe\">\n",
       "  <thead>\n",
       "    <tr style=\"text-align: right;\">\n",
       "      <th></th>\n",
       "      <th>registrations</th>\n",
       "      <th>clicks</th>\n",
       "    </tr>\n",
       "    <tr>\n",
       "      <th>week</th>\n",
       "      <th></th>\n",
       "      <th></th>\n",
       "    </tr>\n",
       "  </thead>\n",
       "  <tbody>\n",
       "    <tr>\n",
       "      <th>32</th>\n",
       "      <td>43</td>\n",
       "      <td>503</td>\n",
       "    </tr>\n",
       "    <tr>\n",
       "      <th>31</th>\n",
       "      <td>23</td>\n",
       "      <td>264</td>\n",
       "    </tr>\n",
       "    <tr>\n",
       "      <th>33</th>\n",
       "      <td>39</td>\n",
       "      <td>471</td>\n",
       "    </tr>\n",
       "  </tbody>\n",
       "</table>\n",
       "</div>"
      ],
      "text/plain": [
       "      registrations  clicks\n",
       "week                       \n",
       "32               43     503\n",
       "31               23     264\n",
       "33               39     471"
      ]
     },
     "execution_count": 26,
     "metadata": {},
     "output_type": "execute_result"
    }
   ],
   "source": [
    "funnel_ = funnel.groupby('week')[['registrations', 'clicks']].sum()\n",
    "funnel_.sample(3)"
   ]
  },
  {
   "cell_type": "code",
   "execution_count": 27,
   "metadata": {},
   "outputs": [
    {
     "data": {
      "text/plain": [
       "week\n",
       "31    8.712121\n",
       "32    8.548708\n",
       "33    8.280255\n",
       "34    8.726415\n",
       "35    8.143322\n",
       "dtype: float64"
      ]
     },
     "execution_count": 27,
     "metadata": {},
     "output_type": "execute_result"
    }
   ],
   "source": [
    "funnel_['registrations'] / funnel_['clicks'] * 100"
   ]
  },
  {
   "cell_type": "code",
   "execution_count": 23,
   "metadata": {},
   "outputs": [
    {
     "name": "stdout",
     "output_type": "stream",
     "text": [
      "<class 'pandas.core.frame.DataFrame'>\n",
      "Int64Index: 30 entries, 0 to 29\n",
      "Data columns (total 7 columns):\n",
      " #   Column         Non-Null Count  Dtype         \n",
      "---  ------         --------------  -----         \n",
      " 0   date           30 non-null     datetime64[ns]\n",
      " 1   impressions    30 non-null     int64         \n",
      " 2   clicks         30 non-null     int64         \n",
      " 3   registrations  30 non-null     int64         \n",
      " 4   ctr, %         30 non-null     float64       \n",
      " 5   cr, %          30 non-null     float64       \n",
      " 6   week           30 non-null     UInt32        \n",
      "dtypes: UInt32(1), datetime64[ns](1), float64(2), int64(3)\n",
      "memory usage: 1.8 KB\n"
     ]
    }
   ],
   "source": [
    "funnel.info()"
   ]
  },
  {
   "cell_type": "code",
   "execution_count": 6,
   "metadata": {},
   "outputs": [
    {
     "ename": "AttributeError",
     "evalue": "'list' object has no attribute 'columns'",
     "output_type": "error",
     "traceback": [
      "\u001b[1;31m---------------------------------------------------------------------------\u001b[0m",
      "\u001b[1;31mAttributeError\u001b[0m                            Traceback (most recent call last)",
      "\u001b[1;32m~\\AppData\\Local\\Temp/ipykernel_24556/3948010069.py\u001b[0m in \u001b[0;36m<module>\u001b[1;34m\u001b[0m\n\u001b[1;32m----> 1\u001b[1;33m \u001b[0mdf\u001b[0m\u001b[1;33m.\u001b[0m\u001b[0mcolumns\u001b[0m \u001b[1;31m# duplicate columns from info()\u001b[0m\u001b[1;33m\u001b[0m\u001b[1;33m\u001b[0m\u001b[0m\n\u001b[0m",
      "\u001b[1;31mAttributeError\u001b[0m: 'list' object has no attribute 'columns'"
     ]
    }
   ],
   "source": [
    "df.columns # duplicate columns from info()"
   ]
  },
  {
   "cell_type": "code",
   "execution_count": 7,
   "metadata": {},
   "outputs": [
    {
     "name": "stdout",
     "output_type": "stream",
     "text": [
      "Sasha     6\n",
      "Plan B    6\n",
      "Koala     6\n",
      "Name: artist, dtype: int64\n"
     ]
    }
   ],
   "source": [
    "# counts of unique values\n",
    "print(df['artist'].value_counts().head(3)) "
   ]
  },
  {
   "cell_type": "code",
   "execution_count": 6,
   "metadata": {},
   "outputs": [],
   "source": [
    "df = df.rename(columns={\n",
    "    '  userID': 'user_id',\n",
    "    'Track': 'track',\n",
    "    '  City  ': 'city',\n",
    "    'Day': 'day'\n",
    "})"
   ]
  },
  {
   "cell_type": "code",
   "execution_count": 8,
   "metadata": {},
   "outputs": [
    {
     "data": {
      "text/plain": [
       "user_id       0\n",
       "track      1231\n",
       "artist     7203\n",
       "genre      1198\n",
       "city          0\n",
       "time          0\n",
       "day           0\n",
       "dtype: int64"
      ]
     },
     "execution_count": 8,
     "metadata": {},
     "output_type": "execute_result"
    }
   ],
   "source": [
    "df.isna().sum()"
   ]
  },
  {
   "cell_type": "code",
   "execution_count": 9,
   "metadata": {},
   "outputs": [],
   "source": [
    "columns_to_replace = ['track', 'artist', 'genre']\n",
    "for column in columns_to_replace:\n",
    "    df[column] = df[column].fillna('unknown') "
   ]
  },
  {
   "cell_type": "code",
   "execution_count": 12,
   "metadata": {},
   "outputs": [
    {
     "data": {
      "text/plain": [
       "0"
      ]
     },
     "execution_count": 12,
     "metadata": {},
     "output_type": "execute_result"
    }
   ],
   "source": [
    "df.duplicated().sum()"
   ]
  },
  {
   "cell_type": "code",
   "execution_count": 11,
   "metadata": {},
   "outputs": [],
   "source": [
    "# duplicate resolving\n",
    "df = df.drop_duplicates().reset_index(drop=True) "
   ]
  },
  {
   "cell_type": "code",
   "execution_count": 5,
   "metadata": {},
   "outputs": [
    {
     "name": "stdout",
     "output_type": "stream",
     "text": [
      "         userID            Track            artist        genre  \\\n",
      "6501     1D4661      Раз два три             Какао  электроника   \n",
      "8514   A439123F          Flip It               NaN          ïîï   \n",
      "28665  D7FB50DA  Drumming Circle  Professor Trance    worldbeat   \n",
      "\n",
      "                 City        time        Day  \n",
      "6501   Saint-Petersburg  08:54:15  Wednesday  \n",
      "8514             Moscow  09:08:51     Friday  \n",
      "28665            Moscow  09:30:47     Monday  \n"
     ]
    }
   ],
   "source": [
    "#print(df['genre'].sort_values().unique()[:10])\n",
    "print(df.sort_values('genre', ascending=False)[:3])"
   ]
  },
  {
   "cell_type": "code",
   "execution_count": 15,
   "metadata": {},
   "outputs": [],
   "source": [
    "duplicates_genre = ['hip', 'hop', 'hip-hop']\n",
    "df['genre'] = df['genre'].replace(duplicates_genre, 'hiphop')"
   ]
  },
  {
   "cell_type": "code",
   "execution_count": 16,
   "metadata": {},
   "outputs": [
    {
     "data": {
      "text/plain": [
       "city\n",
       "Moscow              42741\n",
       "Saint-Petersburg    18512\n",
       "Name: track, dtype: int64"
      ]
     },
     "execution_count": 16,
     "metadata": {},
     "output_type": "execute_result"
    }
   ],
   "source": [
    "df.groupby('city')['track'].count()"
   ]
  },
  {
   "cell_type": "code",
   "execution_count": 5,
   "metadata": {},
   "outputs": [
    {
     "name": "stdout",
     "output_type": "stream",
     "text": [
      "         userID            Track   artist       genre            City    \\\n",
      "40006  30B60957         Big City   Gus G.       metal            Moscow   \n",
      "30942  176A5342         Классика    Jenee      rusrap            Moscow   \n",
      "64600  A1C42156  Hold On To Love   Netsky  electronic  Saint-Petersburg   \n",
      "\n",
      "           time     Day  \n",
      "40006  20:13:26  Friday  \n",
      "30942  09:18:18  Monday  \n",
      "64600  08:16:39  Monday  \n"
     ]
    }
   ],
   "source": [
    "# sorting methods\n",
    "\n",
    "print(df.sort_values('artist')[:3])"
   ]
  }
 ],
 "metadata": {
  "kernelspec": {
   "display_name": "Python 3.10.0 ('.env_jupyter': venv)",
   "language": "python",
   "name": "python3"
  },
  "language_info": {
   "codemirror_mode": {
    "name": "ipython",
    "version": 3
   },
   "file_extension": ".py",
   "mimetype": "text/x-python",
   "name": "python",
   "nbconvert_exporter": "python",
   "pygments_lexer": "ipython3",
   "version": "3.10.0"
  },
  "orig_nbformat": 4,
  "vscode": {
   "interpreter": {
    "hash": "acd7119d548134a99e6f9d1f29df8db3a357202429f0f56f73b34e23b90bc877"
   }
  }
 },
 "nbformat": 4,
 "nbformat_minor": 2
}
