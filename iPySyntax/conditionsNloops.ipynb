{
 "cells": [
  {
   "cell_type": "code",
   "execution_count": 6,
   "metadata": {},
   "outputs": [
    {
     "name": "stdout",
     "output_type": "stream",
     "text": [
      "(<class 'int'>, 5) greater than 2\n"
     ]
    },
    {
     "data": {
      "text/plain": [
       "'\\nthis is a comment\\nwritten in\\nmore than just one line\\n'"
      ]
     },
     "execution_count": 6,
     "metadata": {},
     "output_type": "execute_result"
    }
   ],
   "source": [
    "# Condition\n",
    "num_1 = 5\n",
    "num_2 = 2\n",
    "\n",
    "if num_1 > num_2:\n",
    "    print(f\"{type(num_1), num_1} greater than {num_2}\") # output\n",
    "\n",
    "\"\"\"\n",
    "this is a comment\n",
    "written in\n",
    "more than just one line\n",
    "\"\"\""
   ]
  },
  {
   "cell_type": "code",
   "execution_count": 19,
   "metadata": {},
   "outputs": [
    {
     "name": "stdout",
     "output_type": "stream",
     "text": [
      "this weather in our list: sunny\n"
     ]
    }
   ],
   "source": [
    "weather = [\"sunny\", \"cloudy\", \"rainy\"]\n",
    "one = \"sunny\"\n",
    "\n",
    "if one in weather:\n",
    "    print(f\"this weather in our list: {one}\")\n",
    "elif one == 'sunny':\n",
    "    print(\"It is sunny weather\")\n",
    "else:\n",
    "    print(f\"Today is {one}\")"
   ]
  },
  {
   "attachments": {},
   "cell_type": "markdown",
   "metadata": {},
   "source": [
    "## Cycles\n",
    " - for"
   ]
  },
  {
   "cell_type": "code",
   "execution_count": 4,
   "metadata": {},
   "outputs": [
    {
     "data": {
      "text/plain": [
       "list"
      ]
     },
     "execution_count": 4,
     "metadata": {},
     "output_type": "execute_result"
    }
   ],
   "source": [
    "nums = [1, 2, 3]\n",
    "\n",
    "type(nums)"
   ]
  },
  {
   "cell_type": "code",
   "execution_count": 5,
   "metadata": {},
   "outputs": [
    {
     "name": "stdout",
     "output_type": "stream",
     "text": [
      "<class 'int'> 1\n",
      "<class 'int'> 2\n",
      "<class 'int'> 3\n"
     ]
    }
   ],
   "source": [
    "for i in nums:\n",
    "  print(type(i), i)"
   ]
  },
  {
   "cell_type": "code",
   "execution_count": 7,
   "metadata": {},
   "outputs": [
    {
     "name": "stdout",
     "output_type": "stream",
     "text": [
      "<class 'str'> H\n",
      "<class 'str'> i\n",
      "<class 'str'> !\n"
     ]
    }
   ],
   "source": [
    "h = \"Hi!\"\n",
    "for ch in h:\n",
    "  print(type(ch), ch)"
   ]
  },
  {
   "cell_type": "code",
   "execution_count": 10,
   "metadata": {},
   "outputs": [
    {
     "name": "stdout",
     "output_type": "stream",
     "text": [
      "Rocks!\n",
      "Rocks!\n",
      "Rocks!\n"
     ]
    }
   ],
   "source": [
    "for _ in range(3):\n",
    "  print('Rocks!')"
   ]
  },
  {
   "cell_type": "code",
   "execution_count": 16,
   "metadata": {},
   "outputs": [
    {
     "name": "stdout",
     "output_type": "stream",
     "text": [
      "init list []\n",
      "feltered word: ['a', 'e']\n",
      "a\n",
      "e\n"
     ]
    }
   ],
   "source": [
    "vowels = ['a', 'e', 'i', 'o', 'u']\n",
    "word = input(\"Provide a word to search for volwels: \")\n",
    "found = []\n",
    "print(f\"init list {found}\")\n",
    "\n",
    "for letter in word:\n",
    "  if letter in vowels: # filter\n",
    "    if letter not in found:\n",
    "      found.append(letter)\n",
    "print(f\"feltered word: {found}\")\n",
    "\n",
    "for vowel in found:\n",
    "  print(vowel)\n"
   ]
  }
 ],
 "metadata": {
  "kernelspec": {
   "display_name": ".envpy",
   "language": "python",
   "name": "python3"
  },
  "language_info": {
   "codemirror_mode": {
    "name": "ipython",
    "version": 3
   },
   "file_extension": ".py",
   "mimetype": "text/x-python",
   "name": "python",
   "nbconvert_exporter": "python",
   "pygments_lexer": "ipython3",
   "version": "3.11.1 (tags/v3.11.1:a7a450f, Dec  6 2022, 19:58:39) [MSC v.1934 64 bit (AMD64)]"
  },
  "orig_nbformat": 4,
  "vscode": {
   "interpreter": {
    "hash": "d466f5a145533eacc584c6d911e4e9caf56217c1cef976a2b5467cc7558a574d"
   }
  }
 },
 "nbformat": 4,
 "nbformat_minor": 2
}
