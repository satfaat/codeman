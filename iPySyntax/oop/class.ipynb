{
 "cells": [
  {
   "cell_type": "code",
   "execution_count": null,
   "metadata": {},
   "outputs": [],
   "source": [
    "class Human:\n",
    "    def __init__(self, name):\n",
    "        self.name = name\n",
    "\n",
    "    # ответ по умолчанию для всех одинаковый, можно \n",
    "    # доверить его родительскому классу\n",
    "    def answer_question(self, question):\n",
    "        print('Очень интересный вопрос! Не знаю.')\n",
    "\n",
    "class Student(Human):\n",
    "    def __init__(self, name):\n",
    "        super().__init__(name)\n",
    "        \n",
    "    #  метод ask_question() принимает параметр someone:\n",
    "    #  это объект, экземпляр класса Curator, Mentor или CodeReviewer,\n",
    "    #  которому Student задаёт вопрос; \n",
    "    #  параметр question — это просто строка\n",
    "    #  имя объекта и текст вопроса задаются при вызове метода ask_question\n",
    "    def ask_question(self, someone, question):\n",
    "        # напечатайте на экран вопрос в нужном формате\n",
    "        print(f'{someone.name}, {question}')\n",
    "        # запросите ответ на вопрос у someone\n",
    "        someone.answer_question(question)\n",
    "        print('')  # этот print выводит разделительную пустую строку\t\n",
    "\n",
    "class Curator(Human):\n",
    "    def __init__(self, name):\n",
    "        super().__init__(name)\n",
    "        \n",
    "    def answer_question(self, question):\n",
    "        # здесь нужно проверить, пришёл куратору знакомый вопрос или нет\n",
    "        # если да - ответить на него\n",
    "        # если нет - вызвать метод answer_question() у родительского класса\n",
    "        if question == 'мне грустненько, что делать?':\n",
    "            print('Держись, всё получится. Хочешь видео с котиками?')\n",
    "        else:\n",
    "            super().answer_question(question)\n",
    "            \n",
    "# объявите и реализуйте классы CodeReviewer и Mentor\n",
    "class CodeReviewer(Human):\n",
    "    def __init__(self, name):\n",
    "        super().__init__(name)\n",
    "        \n",
    "    def answer_question(self, question):\n",
    "        # здесь нужно проверить, пришёл куратору знакомый вопрос или нет\n",
    "        # если да - ответить на него\n",
    "        # если нет - вызвать метод answer_question() у родительского класса\n",
    "        if question == 'что не так с моим проектом?':\n",
    "            print('О, вопрос про проект, это я люблю.')\n",
    "        else:\n",
    "            super().answer_question(question)\n",
    "\n",
    "class Mentor(Human): # Ира\n",
    "    def __init__(self, name):\n",
    "        super().__init__(name)\n",
    "        \n",
    "    def answer_question(self, question):\n",
    "        # здесь нужно проверить, пришёл куратору знакомый вопрос или нет\n",
    "        # если да - ответить на него\n",
    "        # если нет - вызвать метод answer_question() у родительского класса\n",
    "        if question == 'мне грустненько, что делать?':\n",
    "            print('Отдохни и возвращайся с вопросами по теории.')\n",
    "        elif question == 'как устроиться работать питонистом?':\n",
    "            print('Сейчас расскажу.')\n",
    "        else:\n",
    "            super().answer_question(question)\n",
    "            \n",
    "# следующий код менять не нужно, он работает, мы проверяли\n",
    "student1 = Student('Тимофей')\n",
    "curator = Curator('Марина')\n",
    "mentor = Mentor('Ира')\n",
    "reviewer = CodeReviewer('Евгений')\n",
    "friend = Human('Виталя')\n",
    "\n",
    "student1.ask_question(curator, 'мне грустненько, что делать?')\n",
    "student1.ask_question(mentor, 'мне грустненько, что делать?')\n",
    "student1.ask_question(reviewer, 'когда каникулы?')\n",
    "student1.ask_question(reviewer, 'что не так с моим проектом?')\n",
    "student1.ask_question(friend, 'как устроиться на работу питонистом?')\n",
    "student1.ask_question(mentor, 'как устроиться работать питонистом?')"
   ]
  },
  {
   "cell_type": "code",
   "execution_count": 15,
   "metadata": {
    "tags": []
   },
   "outputs": [
    {
     "name": "stdout",
     "output_type": "stream",
     "text": [
      "Марина, мне грустненько, что делать?\n",
      "Держись, всё получится. Хочешь видео с котиками?\n"
     ]
    }
   ],
   "source": [
    "class Human:\n",
    "    def __init__(self, name):\n",
    "        self.name = name\n",
    "    def answer_question(self, question):\n",
    "        print('Очень интересный вопрос! Не знаю.')\n",
    "\n",
    "class Student(Human):\n",
    "    def __init__(self, name):\n",
    "        super().__init__(name)\n",
    "    def ask_question(self, someone, question):\n",
    "        print(f'{someone.name}, {question}')\n",
    "        #print(' ')  # этот print выводит разделительную пустую строку\n",
    "\n",
    "class Curator(Human):\n",
    "    def __init__(self, name):\n",
    "        super().__init__(name)\n",
    "        \n",
    "    def answer_question(self, question):\n",
    "        # здесь нужно проверить, пришёл куратору знакомый вопрос или нет\n",
    "        # если да - ответить на него\n",
    "        # если нет - вызвать метод answer_question() у родительского класса\n",
    "        if question == 'мне грустненько, что делать?':\n",
    "            print('Держись, всё получится. Хочешь видео с котиками?')\n",
    "        else:\n",
    "            super().answer_question(question)\n",
    "\n",
    "student1 = Student('Тимофей')\n",
    "curator = Curator('Марина')\n",
    "\n",
    "#student1.ask_question(student1, 'когда каникулы?')\n",
    "student1.ask_question(curator, 'мне грустненько, что делать?')\n",
    "curator.answer_question('мне грустненько, что делать?')"
   ]
  },
  {
   "cell_type": "code",
   "execution_count": 1,
   "metadata": {},
   "outputs": [
    {
     "name": "stdout",
     "output_type": "stream",
     "text": [
      "In Class2\n"
     ]
    }
   ],
   "source": [
    "class Class1:\n",
    "    def m(self):\n",
    "        print(\"In Class1\")\n",
    "\n",
    "class Class2(Class1):\n",
    "    def m(self):\n",
    "        print(\"In Class2\")\n",
    "\n",
    "class Class3(Class1):\n",
    "    def m(self):\n",
    "        print(\"In Class3\")\n",
    "\n",
    "class Class4(Class2, Class3):\n",
    "        pass\n",
    "\n",
    "def main():\n",
    "    obj = Class4()\n",
    "    obj.m() \n",
    "\n",
    "main()"
   ]
  },
  {
   "cell_type": "code",
   "execution_count": null,
   "metadata": {},
   "outputs": [],
   "source": [
    "class Point:\n",
    "    'this class represent the Point'\n",
    "    pass\n",
    "\n",
    "\n",
    "inst_point = Point()\n",
    "inst_point.x = 1\n",
    "inst_point.y = 2\n",
    "\n",
    "print(inst_point.x, inst_point.y)\n",
    "\n",
    "#print(inst_point.__doc__)\n",
    "print(help(inst_point))"
   ]
  },
  {
   "cell_type": "code",
   "execution_count": 2,
   "metadata": {},
   "outputs": [
    {
     "name": "stdout",
     "output_type": "stream",
     "text": [
      "blue\n",
      "red\n"
     ]
    }
   ],
   "source": [
    "class Vehicle(object):\n",
    "    \"\"\"docstring\"\"\"\n",
    "\n",
    "    def __init__(self, color, doors, tires) -> None:\n",
    "        \"\"\"Constructor\"\"\"\n",
    "        #super().__init__()\n",
    "        self.color = color\n",
    "        self.doors = doors\n",
    "        self.tiers = tires\n",
    "\n",
    "    def brake(self):\n",
    "        \"\"\"Stop the caar\"\"\"\n",
    "        return \"braking\"\n",
    "\n",
    "    def drive(self):\n",
    "        \"\"\"Drive the car\"\"\"\n",
    "        return \"i'm driving\"\n",
    "\n",
    "if __name__ == \"__main__\":\n",
    "    car = Vehicle('blue', 5, 4)\n",
    "    print(car.color)\n",
    "\n",
    "    truck = Vehicle('red', 3, 6)\n",
    "    print(truck.color)"
   ]
  }
 ],
 "metadata": {
  "kernelspec": {
   "display_name": ".envpy",
   "language": "python",
   "name": "python3"
  },
  "language_info": {
   "codemirror_mode": {
    "name": "ipython",
    "version": 3
   },
   "file_extension": ".py",
   "mimetype": "text/x-python",
   "name": "python",
   "nbconvert_exporter": "python",
   "pygments_lexer": "ipython3",
   "version": "3.11.1"
  },
  "orig_nbformat": 2,
  "vscode": {
   "interpreter": {
    "hash": "d466f5a145533eacc584c6d911e4e9caf56217c1cef976a2b5467cc7558a574d"
   }
  }
 },
 "nbformat": 4,
 "nbformat_minor": 2
}
