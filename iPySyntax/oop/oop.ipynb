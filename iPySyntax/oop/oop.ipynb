{
 "cells": [
  {
   "attachments": {},
   "cell_type": "markdown",
   "metadata": {},
   "source": [
    "Abstraction means the implementation is hidden from the user, and only the relevant data or information is shown\n",
    "\n",
    "A class method can modify the state of the class, but they can’t directly modify the state of an instance that inherits from that class\n",
    "\n",
    "Suppose a Game class inherits from two parent classes: BoardGame and LogicGame. Which statement is true about the methods of an object instantiated from the Game class?\n",
    "\n",
    "An instance of the Game class will inherit whatever methods the BoardGame and LogicGame classes have"
   ]
  },
  {
   "attachments": {},
   "cell_type": "markdown",
   "metadata": {},
   "source": [
    "What does a class’s init() method do?\n",
    "\n",
    "The __init__ method is a constructor method that is called automatically whenever a new object is created from a class. It sets the initial state of a new object"
   ]
  },
  {
   "attachments": {},
   "cell_type": "markdown",
   "metadata": {},
   "source": [
    "What is the purpose of the self keyword when defining or calling methods on an instance of an object?\n",
    "\n",
    "self refers to the instance whose method was called\n",
    "\n",
    "Why would you create an abstract class, if it can have no real instances?\n",
    "to avoid redundant coding in children\n",
    "to have common behavior in derived classes\n",
    "\n",
    "What is encapsulation?\n",
    "hiding the data and implementation details within a class\n",
    "\n",
    "Which two blocks are used to handle and check errors?\n",
    "try and catch\n",
    "\n",
    "What are the five Creational Design patterns by the Gang of Four?\n",
    "Abstract Factory, Builder, Factory Method, Prototype, and Singleton"
   ]
  },
  {
   "cell_type": "code",
   "execution_count": null,
   "metadata": {},
   "outputs": [],
   "source": []
  }
 ],
 "metadata": {
  "language_info": {
   "name": "python"
  },
  "orig_nbformat": 4
 },
 "nbformat": 4,
 "nbformat_minor": 2
}
