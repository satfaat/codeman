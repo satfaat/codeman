{
 "cells": [
  {
   "cell_type": "code",
   "execution_count": 1,
   "metadata": {
    "tags": []
   },
   "outputs": [
    {
     "name": "stderr",
     "output_type": "stream",
     "text": [
      " 2021-01-29 11:44:31,135 - INFO - Start of example\n",
      " 2021-01-29 11:44:31,137 - DEBUG - Yes, 'quick' is in the list\n",
      " 2021-01-29 11:44:31,137 - DEBUG - ['The', 'quick']\n",
      " 2021-01-29 11:44:31,138 - INFO - End of example\n"
     ]
    }
   ],
   "source": [
    "# conditions\n",
    "\n",
    "import logging\n",
    "logging.basicConfig(level=logging.DEBUG, format=' %(asctime)s - %(levelname)s - %(message)s')\n",
    "# (filename=log.txt, level=...)\n",
    "# logging.disable(logging.CRITICAL)\n",
    "\n",
    "logging.info('Start of example')\n",
    "\n",
    "list = 'The quick brown fox jumps over the lazy dog'.split(' ')\n",
    "\n",
    "if \"quick\" in list:\n",
    "    logging.debug(\"Yes, 'quick' is in the list\")\n",
    "    #print (list[2:])\n",
    "    logging.debug(list[0:2])\n",
    "elif 'fox' in list:\n",
    "    logging.debug(list[3:9])\n",
    "else:\n",
    "    list.append('word') # Add Items\n",
    "#loggin.debug(list)\n",
    "logging.info('End of example')\n"
   ]
  },
  {
   "cell_type": "code",
   "execution_count": 3,
   "metadata": {},
   "outputs": [
    {
     "name": "stdout",
     "output_type": "stream",
     "text": [
      "YES\n"
     ]
    }
   ],
   "source": [
    "class myclass():\n",
    "  def __len__(self):\n",
    "    return 1\n",
    "\n",
    "myobj = myclass()\n",
    "#print(bool(myobj))\n",
    "if myobj:\n",
    "  print('YES')\n",
    "else:\n",
    "  print('No') "
   ]
  },
  {
   "cell_type": "code",
   "execution_count": 1,
   "metadata": {},
   "outputs": [
    {
     "name": "stdout",
     "output_type": "stream",
     "text": [
      "Мой любимый робокот сломался!\n",
      "Очень жаль! С ними такое обычно не случается. Попробуйте перезагрузить.\n"
     ]
    }
   ],
   "source": [
    "client_message = 'Мой любимый робокот сломался!'\n",
    "print(client_message)\n",
    "\n",
    "if ('Здравствуйте' in client_message or \n",
    "\t\t'Добрый день' in client_message or\n",
    "\t\t'Доброе утро' in client_message or\n",
    "\t\t'Добрый вечер' in client_message or\n",
    "        'Привет' in client_message):\n",
    "    print('Здравствуйте, с вами говорит искусственный интеллект: Агент Роберт I')\n",
    "elif ('поломался' in client_message or \n",
    "    'сломался' in client_message or\n",
    "    'не работает' in client_message or\n",
    "    'кусается' in client_message or\n",
    "    'завис' in client_message):\n",
    "    print('Очень жаль! С ними такое обычно не случается. Попробуйте перезагрузить.')\n",
    "else:\n",
    "    print('Спасибо, что обратились! До свидания!')"
   ]
  },
  {
   "cell_type": "code",
   "execution_count": 1,
   "metadata": {},
   "outputs": [
    {
     "name": "stdout",
     "output_type": "stream",
     "text": [
      "There is an imposter\n"
     ]
    }
   ],
   "source": [
    "# The all() function returns True if all items in the list evaluate to True. Otherwise, it returns False\n",
    "# filter check\n",
    "\n",
    "test: list[bool] = [True,False,False,False]\n",
    "if all(test) is True:\n",
    "    print('Yeah all are True')\n",
    "else:\n",
    "    print('There is an imposter')"
   ]
  },
  {
   "cell_type": "code",
   "execution_count": 2,
   "metadata": {},
   "outputs": [
    {
     "name": "stdout",
     "output_type": "stream",
     "text": [
      "Yes, there is True\n"
     ]
    }
   ],
   "source": [
    "if any([True, False, False, False]) == True:\n",
    "    print('Yes, there is True')"
   ]
  },
  {
   "cell_type": "code",
   "execution_count": 3,
   "metadata": {},
   "outputs": [
    {
     "data": {
      "text/plain": [
       "True"
      ]
     },
     "execution_count": 3,
     "metadata": {},
     "output_type": "execute_result"
    }
   ],
   "source": [
    "any([False, 0, 11, False])"
   ]
  },
  {
   "cell_type": "code",
   "execution_count": 4,
   "metadata": {},
   "outputs": [
    {
     "name": "stdout",
     "output_type": "stream",
     "text": [
      "a 1\n",
      "a 2\n",
      "a 3\n",
      "b 1\n",
      "b 2\n",
      "b 3\n",
      "c 1\n",
      "c 2\n",
      "c 3\n"
     ]
    }
   ],
   "source": [
    "def print_alpha_nums(abc_list, num_list) -> None:\n",
    "    for char in abc_list:\n",
    "        for num in num_list:\n",
    "            print(char, num)\n",
    "    return\n",
    "\n",
    "print_alpha_nums(['a', 'b', 'c'], [1, 2, 3])"
   ]
  }
 ],
 "metadata": {
  "interpreter": {
   "hash": "acd7119d548134a99e6f9d1f29df8db3a357202429f0f56f73b34e23b90bc877"
  },
  "kernelspec": {
   "display_name": "Python 3.10.0 ('.env_jupyter': venv)",
   "language": "python",
   "name": "python3"
  },
  "language_info": {
   "codemirror_mode": {
    "name": "ipython",
    "version": 3
   },
   "file_extension": ".py",
   "mimetype": "text/x-python",
   "name": "python",
   "nbconvert_exporter": "python",
   "pygments_lexer": "ipython3",
   "version": "3.11.2"
  },
  "orig_nbformat": 2
 },
 "nbformat": 4,
 "nbformat_minor": 2
}
