{
 "metadata": {
  "language_info": {
   "codemirror_mode": {
    "name": "ipython",
    "version": 3
   },
   "file_extension": ".py",
   "mimetype": "text/x-python",
   "name": "python",
   "nbconvert_exporter": "python",
   "pygments_lexer": "ipython3",
   "version": 3
  },
  "orig_nbformat": 2
 },
 "nbformat": 4,
 "nbformat_minor": 2,
 "cells": [
  {
   "cell_type": "code",
   "execution_count": null,
   "metadata": {},
   "outputs": [],
   "source": [
    "# Ctrl + Shift + p or Ctrl + P\n",
    "# Date\n",
    "\n",
    "def what_time():\n",
    "    import datetime\n",
    "    now = datetime.datetime.now()\n",
    "    return now.strftime('%Y-%m-%d %H:%M:%S')\n",
    "#print (what_time())"
   ]
  }
 ]
}