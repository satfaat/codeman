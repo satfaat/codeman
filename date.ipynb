{
 "metadata": {
  "language_info": {
   "codemirror_mode": {
    "name": "ipython",
    "version": 3
   },
   "file_extension": ".py",
   "mimetype": "text/x-python",
   "name": "python",
   "nbconvert_exporter": "python",
   "pygments_lexer": "ipython3",
   "version": "3.8.5-final"
  },
  "orig_nbformat": 2,
  "kernelspec": {
   "name": "python38532bitvenvvenv10ea3e879da64f4eb392c5e13b2deff3",
   "display_name": "Python 3.8.5 32-bit ('venv': venv)"
  }
 },
 "nbformat": 4,
 "nbformat_minor": 2,
 "cells": [
  {
   "cell_type": "code",
   "execution_count": null,
   "metadata": {},
   "outputs": [],
   "source": [
    "# Ctrl + Shift + p or Ctrl + P\n",
    "# Date\n",
    "\n",
    "def what_time():\n",
    "    import datetime\n",
    "    now = datetime.datetime.now()\n",
    "    return now.strftime('%Y-%m-%d %H:%M:%S')\n",
    "#print (what_time())"
   ]
  },
  {
   "cell_type": "code",
   "execution_count": 23,
   "metadata": {
    "tags": []
   },
   "outputs": [
    {
     "output_type": "stream",
     "name": "stdout",
     "text": "2020-08-17\n<class 'datetime.date'>\n2020-08-17 11:56:49.685234\n2020-08-17\n2019-03-08\n17.08.2020\n<class 'str'>\n"
    }
   ],
   "source": [
    "import datetime as dt\n",
    "\n",
    "print (dt.date.today())\n",
    "print (type(dt.date.today()))\n",
    "print (dt.datetime.now())\n",
    "print (dt.datetime.now().date())\n",
    "\n",
    "#print (dt.date.ctime())\n",
    "#print (dt.date.toordinal())\n",
    "print(dt.datetime.strptime('08.03.2019', '%d.%m.%Y').date())\n",
    "print(dt.datetime.now().strftime('%d.%m.%Y')) # bad use\n",
    "print(type(dt.datetime.now().strftime('%d.%m.%Y')))\n"
   ]
  },
  {
   "cell_type": "code",
   "execution_count": 20,
   "metadata": {
    "tags": []
   },
   "outputs": [
    {
     "output_type": "stream",
     "name": "stdout",
     "text": "2020-08-17 07:38:18.891789\n"
    }
   ],
   "source": [
    "import datetime as dt\n",
    "\n",
    "moment_in_time = dt.datetime(1961, 4, 12, 9, 7, 0)  # снова старт Гагарина\n",
    "now = moment_in_time.utcnow()\n",
    "print(now)  # напечатать на экран текущий момент времени"
   ]
  },
  {
   "cell_type": "code",
   "execution_count": 21,
   "metadata": {
    "tags": []
   },
   "outputs": [
    {
     "output_type": "stream",
     "name": "stdout",
     "text": "2020-08-17 07:38:46.444360\n"
    }
   ],
   "source": [
    "print(dt.datetime.utcnow())  # будет напечатан текущий момент времени"
   ]
  },
  {
   "cell_type": "code",
   "execution_count": 29,
   "metadata": {
    "tags": []
   },
   "outputs": [
    {
     "output_type": "stream",
     "name": "stdout",
     "text": "2019-03-08\n"
    }
   ],
   "source": [
    "import datetime as dt\n",
    "print(dt.datetime.strptime('08.03.2019', '%d.%m.%Y').date())"
   ]
  },
  {
   "cell_type": "code",
   "execution_count": null,
   "metadata": {},
   "outputs": [],
   "source": [
    "import datetime as dt \n",
    "# взлёт: 1961 год, 12 апреля, 9 часов утра, 7 минут \n",
    "start_time = dt.datetime(1961, 4, 12, 9, 7, 0)\n",
    "    \n",
    "print(start_time)"
   ]
  },
  {
   "cell_type": "code",
   "execution_count": null,
   "metadata": {},
   "outputs": [],
   "source": [
    "import datetime as dt \n",
    "\n",
    "start_time = dt.datetime(1961, 4, 12, 9, 7, 0)\n",
    "# дата и время посадки: 1961 год, 12 апреля, 10 часов, 55 минут\n",
    "landing_time = dt.datetime(1961, 4, 12, 10, 55, 0)\n",
    "    \n",
    "print(landing_time - start_time)"
   ]
  },
  {
   "cell_type": "code",
   "execution_count": 9,
   "metadata": {
    "tags": []
   },
   "outputs": [
    {
     "output_type": "stream",
     "name": "stdout",
     "text": "2020-08-18\n2020-08-17\n2020-08-16\n2020-08-15\n2020-08-14\n2020-08-13\n2020-08-12\n"
    }
   ],
   "source": [
    "import datetime as dt\n",
    "\n",
    "#period = dt.timedelta(hours=3) # сохраняем промежуток времени в три часа\n",
    "#week = dt.timedelta(days=7)\n",
    "period_d = dt.timedelta(days=1)\n",
    "today = dt.date.today()\n",
    "days = ['2020.08.18', '2020.08.16', '2020.08.12', '2020.08.11']\n",
    "in_week = today - period_d\n",
    "\n",
    "days = 7\n",
    "while days > 0:\n",
    "    print(today)\n",
    "    today = today - period_d\n",
    "    days -= 1 \n",
    "\n",
    "#print(period_d)\n",
    "#print(today)\n"
   ]
  },
  {
   "cell_type": "code",
   "execution_count": 1,
   "metadata": {
    "tags": []
   },
   "outputs": [
    {
     "output_type": "stream",
     "name": "stdout",
     "text": "2020-08-13\n"
    }
   ],
   "source": [
    "import datetime as dt\n",
    "week_ago = dt.date.today() - dt.timedelta(days=6)\n",
    "print(week_ago)"
   ]
  },
  {
   "cell_type": "code",
   "execution_count": null,
   "metadata": {},
   "outputs": [],
   "source": []
  }
 ]
}