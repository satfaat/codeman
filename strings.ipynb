{
 "metadata": {
  "language_info": {
   "codemirror_mode": {
    "name": "ipython",
    "version": 3
   },
   "file_extension": ".py",
   "mimetype": "text/x-python",
   "name": "python",
   "nbconvert_exporter": "python",
   "pygments_lexer": "ipython3",
   "version": "3.8.5-final"
  },
  "orig_nbformat": 2,
  "kernelspec": {
   "name": "python38364bit93b64ca63c7743489b3b311c62aa3ce5",
   "display_name": "Python 3.8.3 64-bit"
  }
 },
 "nbformat": 4,
 "nbformat_minor": 2,
 "cells": [
  {
   "cell_type": "code",
   "execution_count": null,
   "metadata": {},
   "outputs": [],
   "source": [
    "# string\n",
    "\n",
    "first_name = input('Input your first name: ')\n",
    "last_name = \"lovelace\"\n",
    "full_name = f\"{first_name} {last_name}\"\n",
    "#help(repr)\n",
    "\n",
    "a = \"Hello, World!\"\n",
    "print(a[1])\n",
    "\n",
    "#print(full_name)\n",
    "#print(f\"Hello, {full_name.title()}!\")\n",
    "#print(type(repr(last_name)))"
   ]
  },
  {
   "cell_type": "code",
   "execution_count": null,
   "metadata": {},
   "outputs": [],
   "source": [
    "#dir(list)\n",
    "#help(list.append)\n",
    "\n",
    "name = \" ada lovelace \"\n",
    "name_title = name.title()\n",
    "name_upper = name.upper()\n",
    "name_lower = name.lower()\n",
    "name_strip = name.strip() #.rstrip() and name.lstrip()\n",
    "\n",
    "names_tuple = name, name_title, name_upper, name_lower, name_strip # tuple\n",
    "names_list = list(names_tuple) #list\n",
    "\n",
    "#print( name, ' - \\n', '\\t', name_title)\n",
    "#print(f'list = {names_list} \\nlength of list: {len(names_list)}')\n",
    "\n",
    "#values = input('input some comma seprated numbers: ')\n",
    "num_list = values.split(',')\n",
    "num_tuple = tuple(num_list)\n",
    "\n",
    "#print(f'List: {num_list} \\nTuple: {num_tuple}')\n",
    "\n",
    "def str_reverse(phrase):\n",
    "    reverse_str = ''\n",
    "    index = len(phrase)\n",
    "    while index > 0:\n",
    "        reverse_str += phrase[index - 1]\n",
    "        index -= 1\n",
    "    return reverse_str\n",
    "#print (str_reverse('pinocio'))\n",
    "\n",
    "def case_count(phrase):\n",
    "    counter = {\n",
    "        'upper_case':0,\n",
    "        'lower_case':0,\n",
    "        'white_space':0}\n",
    "    for char in phrase:\n",
    "        if char.isupper(): #.islower\n",
    "            counter['upper_case']+=1\n",
    "        elif char.islower():\n",
    "            counter['lower_case']+=1\n",
    "        else:\n",
    "            counter['white_space']+=1\n",
    "    return counter\n",
    "print(case_count('The quick Brown Fox'))\n"
   ]
  },
  {
   "cell_type": "code",
   "execution_count": 1,
   "metadata": {},
   "outputs": [
    {
     "output_type": "execute_result",
     "data": {
      "text/plain": "{'x', 'y'}"
     },
     "metadata": {},
     "execution_count": 1
    }
   ],
   "source": [
    "# search\n",
    "\n",
    "def search4letters(phrase:str, letters:str='aeiou') -> set:\n",
    "    \"\"\" Returns set of letters from phrase \"\"\"\n",
    "    return set(letters).intersection(set(phrase))\n",
    "search4letters('galaxy', 'xyz')"
   ]
  },
  {
   "cell_type": "code",
   "execution_count": 4,
   "metadata": {
    "tags": []
   },
   "outputs": [
    {
     "output_type": "stream",
     "name": "stdout",
     "text": "list = ['Ночь', 'Улица', 'Фонарь', 'Аптека']\nlist_strip = Ночь\n"
    }
   ],
   "source": [
    "# split and join\n",
    "\n",
    "blok_string = 'Ночь. Улица. Фонарь. Аптека' \n",
    "# из строки получаем список, где строку делят по сочетанию точки и пробела:\n",
    "blok_list = blok_string.split('. ')\n",
    "print('list =', blok_list)\n",
    "\n",
    "# хотим \"Ночь\" без точки\n",
    "print('list_strip =',blok_list[0].strip('.'))"
   ]
  },
  {
   "cell_type": "code",
   "execution_count": 31,
   "metadata": {
    "tags": []
   },
   "outputs": [
    {
     "output_type": "stream",
     "name": "stdout",
     "text": "<class 'list'>\nThe quick brown fox jumps over the lazy dog\nafter for <class 'list'>\ndog\nfrom for to arr ['The', 'quick', 'brown', 'fox', 'jumps', 'over', 'the', 'lazy', 'dog']\n"
    }
   ],
   "source": [
    "phrase = 'The quick brown fox jumps over the lazy dog'\n",
    "arr=[]\n",
    "print(type(arr))\n",
    "print(phrase)\n",
    "\n",
    "#phrase_l1 = list(phrase) # bad way to do list of words\n",
    "phrase_s1 = set(phrase)\n",
    "phrase_l2 = phrase.split(' ') # good way\n",
    "#print('bad way', phrase_l1)\n",
    "#print('text to set', phrase_s1) # bad way\n",
    "#print('split text way', type(phrase_l2), phrase_l2) # good way\n",
    "\n",
    "for word in phrase_l2:\n",
    "    one = word\n",
    "    #print(one)\n",
    "    arr.append(word) \n",
    "print('after for', type(arr))\n",
    "print(one) #prints only the last word\n",
    "print('from for to arr', arr)\n",
    "\n"
   ]
  },
  {
   "cell_type": "code",
   "execution_count": 28,
   "metadata": {
    "tags": []
   },
   "outputs": [
    {
     "output_type": "stream",
     "name": "stdout",
     "text": "['The', 'quick', 'brown', 'fox', 'jumps', 'over', 'the', 'lazy', 'dog', 'word']\n"
    }
   ],
   "source": [
    "# list methods\n",
    "\n",
    "list = 'The quick brown fox jumps over the lazy dog'.split(' ')\n",
    "if \"quicke\" in list:\n",
    "    print(\"Yes, 'quick' is in the list\") \n",
    "    print (list[2:])\n",
    "list.append('word') # Add Items\n",
    "print(list)"
   ]
  },
  {
   "cell_type": "code",
   "execution_count": 21,
   "metadata": {
    "tags": []
   },
   "outputs": [
    {
     "output_type": "stream",
     "name": "stdout",
     "text": "Что было после чудного мгновенья:  и божество, и вдохновенье, и жизнь, и слёзы, и любовь\n"
    }
   ],
   "source": [
    "# JOIN\n",
    "\n",
    "pushkin_i_remember = ['божество', 'вдохновенье', 'жизнь', 'слёзы', 'любовь']\n",
    "print('Что было после чудного мгновенья:  и ' +\n",
    "', и '.join(pushkin_i_remember))"
   ]
  },
  {
   "cell_type": "code",
   "execution_count": null,
   "metadata": {},
   "outputs": [],
   "source": []
  }
 ]
}