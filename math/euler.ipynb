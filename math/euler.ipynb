{
 "cells": [
  {
   "cell_type": "code",
   "execution_count": 3,
   "metadata": {},
   "outputs": [],
   "source": [
    "# math\n",
    "import random as r\n",
    "\n",
    "from random import choice, choices\n",
    "from math import pi, sqrt, factorial"
   ]
  },
  {
   "cell_type": "code",
   "execution_count": 1,
   "metadata": {},
   "outputs": [],
   "source": [
    "# data\n",
    "import numpy as np\n",
    "import scipy.stats\n",
    "import pandas as pd\n",
    "\n",
    "from scipy import stats as st\n",
    "from matplotlib import pyplot as plt"
   ]
  },
  {
   "cell_type": "code",
   "execution_count": 12,
   "metadata": {},
   "outputs": [
    {
     "data": {
      "text/plain": [
       "(2.9166666666666665, 3.5, 1.707825127659933, 1.8708286933869707)"
      ]
     },
     "execution_count": 12,
     "metadata": {},
     "output_type": "execute_result"
    }
   ],
   "source": [
    "series1 = [1, 2, 3, 4, 5, 6] # совокупность\n",
    "variance = np.var(series1)  # \n",
    "standard_deviation1 = np.sqrt(variance)\n",
    "variance_estimate = np.var(series1, ddof=1)  # выборка\n",
    "standard_deviation = np.std(series1)  # стандартное отклонение \n",
    "standard_deviation_ddof = np.std(series1, ddof=1)\n",
    "\n",
    "variance, variance_estimate, standard_deviation, standard_deviation_ddof"
   ]
  },
  {
   "cell_type": "code",
   "execution_count": 2,
   "metadata": {},
   "outputs": [
    {
     "name": "stdout",
     "output_type": "stream",
     "text": [
      "Математическое ожидание равно 3.25\n",
      "Дисперсия равна 1.1875\n"
     ]
    }
   ],
   "source": [
    "weight_probs = {\n",
    "        '2': 0.25,\n",
    "        '3': 0.5,\n",
    "        '5': 0.25\n",
    "        }\n",
    "# математическое ожидание\n",
    "expectation = sum([int(kye) * weight_probs[kye] for kye in weight_probs])\n",
    "\n",
    "square_of_expectation = expectation ** 2\n",
    "expectation_of_squares = sum(\n",
    "    [int(kye) * int(kye) * weight_probs[kye] for kye in weight_probs]\n",
    ")\n",
    "\n",
    "# дисперсия \n",
    "variance = expectation_of_squares - square_of_expectation\n",
    "\n",
    "print('Математическое ожидание равно', expectation)\n",
    "print('Дисперсия равна', variance)"
   ]
  },
  {
   "cell_type": "code",
   "execution_count": 6,
   "metadata": {},
   "outputs": [
    {
     "data": {
      "text/plain": [
       "<BarContainer object of 7 artists>"
      ]
     },
     "execution_count": 6,
     "metadata": {},
     "output_type": "execute_result"
    },
    {
     "data": {
      "image/png": "[encoded data removed]",
      "text/plain": [
       "<Figure size 432x288 with 1 Axes>"
      ]
     },
     "metadata": {
      "needs_background": "light"
     },
     "output_type": "display_data"
    }
   ],
   "source": [
    "n_exams = 6\n",
    "failure_rate = 15/100  # вероятность завалить один экзамен probability\n",
    "\n",
    "distr = []\n",
    "\n",
    "for k in range(0, n_exams + 1):\n",
    "    # вероятность завалить \n",
    "    # 0 экзаменов, 1 экзамен и так далее до 6\n",
    "    choose = factorial(n_exams) / (factorial(k) * factorial(n_exams - k))\n",
    "    prob = choose * failure_rate ** k * (1 - failure_rate) ** (n_exams - k)\n",
    "    distr.append(prob)\n",
    "    \n",
    "# построение гистограммы распределения вероятностей\n",
    "plt.bar(range(0,n_exams+1), distr)"
   ]
  },
  {
   "cell_type": "markdown",
   "metadata": {},
   "source": [
    "- ppf — от англ. percent point function — «функция процентных значений»;\n",
    "- cdf — от англ. cumulative distribution function — «кумулятивная функция распределения»"
   ]
  },
  {
   "cell_type": "code",
   "execution_count": null,
   "metadata": {},
   "outputs": [],
   "source": [
    "mu = 100500 # среднее значение распределения\n",
    "sigma = 3500 # стандартное отклонение распределения\n",
    "\n",
    "bonus_threshold = 111000 # где проходит граница для бонуса\n",
    "penalty_threshold = 92000 # где проходит граница для штрафа\n",
    "\n",
    "distr = st.norm(100500, 3500) \n",
    "\n",
    "p_penalty = distr.cdf(penalty_threshold)  #  вероятность получить штраф\n",
    "p_bonus = 1 - distr.cdf(bonus_threshold)  # вероятность получить бонус\n",
    "\n",
    "\n",
    "print('Вероятность бонуса:', p_bonus)\n",
    "print('Вероятность штрафа:', p_penalty)"
   ]
  },
  {
   "cell_type": "code",
   "execution_count": 4,
   "metadata": {},
   "outputs": [
    {
     "name": "stdout",
     "output_type": "stream",
     "text": [
      "Нужно заказать единиц товара: 336\n"
     ]
    }
   ],
   "source": [
    "mu = 420 # среднее значение распределения\n",
    "sigma = 65 # стандартное отклонение распределения\n",
    "\n",
    "distr = st.norm(420, 65) \n",
    "\n",
    "prob = 0.9 # с какой вероятностью нужно распродать весь товар?\n",
    "\n",
    "n_shipment = distr.ppf(1 - prob) # сколько единиц товара нужно заказать \n",
    "\n",
    "print('Нужно заказать единиц товара:', int(n_shipment))"
   ]
  },
  {
   "cell_type": "code",
   "execution_count": 7,
   "metadata": {},
   "outputs": [
    {
     "data": {
      "image/png": "[encoded data removed]",
      "text/plain": [
       "<Figure size 432x288 with 1 Axes>"
      ]
     },
     "metadata": {
      "needs_background": "light"
     },
     "output_type": "display_data"
    }
   ],
   "source": [
    "\n",
    "# Биномиальное распределение\n",
    "p = 0.8\n",
    "n = 50\n",
    "\n",
    "binom = []\n",
    "for k in range(0,n+1):\n",
    "    choose = factorial(n)/(factorial(k) * factorial(n-k))\n",
    "    prob = choose * p**k * (1-p)**(n-k) \n",
    "    binom.append(prob)\n",
    "\n",
    "# Нормальное распределение\n",
    "mu = n * p\n",
    "var = n * p * (1-p)\n",
    "sigma = var ** .5\n",
    "\n",
    "x = range(25, n+1)\n",
    "  \n",
    "plt.bar(range(25, n + 1), binom[25:], alpha=0.3)\n",
    "plt.plot(x, scipy.stats.norm.pdf(x, mu, sigma))\n",
    "plt.show()"
   ]
  },
  {
   "cell_type": "code",
   "execution_count": 10,
   "metadata": {},
   "outputs": [
    {
     "name": "stdout",
     "output_type": "stream",
     "text": [
      "0.9964477890716447\n"
     ]
    }
   ],
   "source": [
    "binom_n = 23000 # ваш код здесь - целевое количество человек в рассылке\n",
    "binom_p = 0.4 # ваш код здесь - сколько пользователей открывают рассылку?\n",
    "\n",
    "threshold = 9000# на какой охват сейчас рассчитывают?\n",
    "\n",
    "mu = binom_n * binom_p # среднее значение распределения\n",
    "sigma = sqrt(binom_n * binom_p * (1 - binom_p)) # стандартное отклонение распределения\n",
    "\n",
    "p_threshold = 1 - st.norm(mu, sigma).cdf(threshold)\n",
    "print(p_threshold)"
   ]
  },
  {
   "cell_type": "markdown",
   "metadata": {},
   "source": [
    "- Е.S.E. (от англ. estimated standard error) — «оценённая стандартная ошибка»\n",
    "- equal_var (от англ. equal variance — «равная дисперсия») True/False"
   ]
  },
  {
   "cell_type": "code",
   "execution_count": 4,
   "metadata": {},
   "outputs": [
    {
     "name": "stdout",
     "output_type": "stream",
     "text": [
      "p-значение: 0.00033528259973700795\n",
      "Отвергаем нулевую гипотезу\n"
     ]
    }
   ],
   "source": [
    "scooters = pd.Series([15, 31, 10, 21, 21, 32, 30, 25, 21,\n",
    "28, 25, 32, 38, 18, 33, 24, 26, 40, 24, 37, 20, 36, 28, 38,\n",
    "24, 35, 33, 21, 29, 26, 13, 25, 34, 38, 23, 37, 31, 28, 32,\n",
    "24, 25, 13, 38, 34, 48, 19, 20, 22, 38, 28, 31, 18, 21, 24,\n",
    "31, 21, 28, 29, 33, 40, 26, 33, 33,  6, 27, 24, 17, 28,  7,\n",
    "33, 25, 25, 29, 19, 30, 29, 22, 15, 28, 36, 25, 36, 25, 29,\n",
    "33, 19, 32, 32, 28, 26, 18, 48, 15, 27, 27, 27,  0, 28, 39,\n",
    "27, 25, 39, 28, 22, 33, 30, 35, 19, 20, 18, 31, 44, 20, 18,\n",
    "17, 28, 17, 44, 40, 33,])\n",
    "\n",
    "optimal_value = 30 # доступно в среднем 30 самокатов\n",
    "\n",
    "alpha = .05 # критический уровень статистической значимости\n",
    "\n",
    "results = st.ttest_1samp(\n",
    "    scooters, \n",
    "    optimal_value)\n",
    "\n",
    "print('p-значение:', results.pvalue)\n",
    "\n",
    "if results.pvalue < alpha:\n",
    "    print(\"Отвергаем нулевую гипотезу\")\n",
    "else:\n",
    "    print(\"Не получилось отвергнуть нулевую гипотезу\")"
   ]
  },
  {
   "cell_type": "code",
   "execution_count": 5,
   "metadata": {},
   "outputs": [
    {
     "name": "stdout",
     "output_type": "stream",
     "text": [
      "p-значение: 1.3358596895543794e-06\n",
      "Отвергаем нулевую гипотезу\n"
     ]
    }
   ],
   "source": [
    "screens = pd.Series([4, 2, 4, 5, 5, 4, 2, 3, 3, 5, 2, 5, 2, 2, 2, 3, 3, 4, 8, 3, 4, 3, 5, 5, 4, 2, 5, 2, 3, 7, 5, 5, 6,  5, 3, 4, 3, 6, 3, 4, 4, 3, 5, 4, 4, 8, 4, 7, 4, 5, 5, 3, 4, 6, 7, 2, 3, 6, 5, 6, 4, 4, 3, 4, 6, 4, 4, 6, 2, 6, 5, 3, 3, 3, 4, 5, 3, 5, 5, 4, 3, 3, 3, 1, 5, 4, 3, 4, 6, 3, 1, 3, 2, 7, 3, 6, 6, 6, 5, 5])\n",
    "\n",
    "prev_screens_value = 4.867\n",
    "\n",
    "alpha = .05 # уровень статистической значимости\n",
    "\n",
    "results = st.ttest_1samp(\n",
    "    screens, \n",
    "    prev_screens_value)\n",
    "\n",
    "# тест односторонний: p-value будет в два раза меньше\n",
    "print('p-значение:', results.pvalue / 2)\n",
    "\n",
    "# тест односторонний влево:\n",
    "# отвергаем гипотезу только тогда, когда выборочное среднее значимо меньше предполагаемого значения\n",
    "if (results.pvalue / 2 < alpha) and (screens.mean() < prev_screens_value):\n",
    "    print(\"Отвергаем нулевую гипотезу\")\n",
    "else:\n",
    "    print(\"Не отвергаем нулевую гипотезу\") "
   ]
  },
  {
   "cell_type": "code",
   "execution_count": 2,
   "metadata": {},
   "outputs": [
    {
     "name": "stdout",
     "output_type": "stream",
     "text": [
      "p-значение: 0.19124505225722097\n",
      "Не получилось отвергнуть нулевую гипотезу\n"
     ]
    }
   ],
   "source": [
    "sample_1 = [3071, 3636, 3454, 3151, 2185, 3259, 1727, 2263, 2015, \n",
    "            2582, 4815, 633, 3186, 887, 2028, 3589, 2564, 1422, 1785, \n",
    "            3180, 1770, 2716, 2546, 1848, 4644, 3134, 475, 2686, \n",
    "            1838, 3352]\n",
    "sample_2 = [1211, 1228, 2157, 3699, 600, 1898, 1688, 1420, 5048, 3007, \n",
    "            509, 3777, 5583, 3949, 121, 1674, 4300, 1338, 3066, \n",
    "            3562, 1010, 2311, 462, 863, 2021, 528, 1849, 255, \n",
    "            1740, 2596]\n",
    "\n",
    "alpha = .05 # критический уровень статистической значимости\n",
    "# если p-value окажется меньше него - отвергнем гипотезу\n",
    "\n",
    "results = st.ttest_ind(\n",
    "    sample_1, \n",
    "    sample_2)\n",
    "\n",
    "print('p-значение:', results.pvalue)\n",
    "\n",
    "if results.pvalue < alpha:\n",
    "    print(\"Отвергаем нулевую гипотезу\")\n",
    "else:\n",
    "    print(\"Не получилось отвергнуть нулевую гипотезу\") "
   ]
  },
  {
   "cell_type": "code",
   "execution_count": 1,
   "metadata": {},
   "outputs": [
    {
     "name": "stdout",
     "output_type": "stream",
     "text": [
      "5\n",
      "1\n",
      "6\n",
      "1.5\n",
      "1\n",
      "1\n",
      "-3\n",
      "3\n",
      "3\n",
      "3.0\n",
      "9\n"
     ]
    }
   ],
   "source": [
    "## Arithmetic Operations\n",
    "x, y = 3, 2\n",
    "print(x + y) # = 5\n",
    "print(x - y) # = 1\n",
    "print(x * y) # = 6\n",
    "print(x / y) # = 1.5\n",
    "print(x // y) # = 1\n",
    "print(x % y) # = 1\n",
    "print(-x) # = -3\n",
    "print(abs(-x)) # = 3\n",
    "print(int(3.9)) # = 3\n",
    "print(float(x)) # = 3.0\n",
    "print(x ** y) # = 9"
   ]
  },
  {
   "cell_type": "code",
   "execution_count": 18,
   "metadata": {},
   "outputs": [
    {
     "data": {
      "text/plain": [
       "[1, 1, 1, 1, 1]"
      ]
     },
     "execution_count": 18,
     "metadata": {},
     "output_type": "execute_result"
    }
   ],
   "source": [
    "[i for i in range(1,11)]\n",
    "series_6 = []\n",
    "for i in range(1,6):\n",
    "    series_6.append(1)\n",
    "\n",
    "series_6"
   ]
  },
  {
   "cell_type": "code",
   "execution_count": 6,
   "metadata": {
    "tags": []
   },
   "outputs": [
    {
     "name": "stdout",
     "output_type": "stream",
     "text": [
      "игрушечный питон\n",
      "лосяш\n",
      "28\n",
      "random range = 5\n"
     ]
    }
   ],
   "source": [
    "# Random\n",
    "\n",
    "data_set = [\n",
    "    ['кукла', 'жвачка', 'игрушечный питон'],\n",
    "    ['мяч', 'чебурашка', 'лосяш']\n",
    "]\n",
    "\n",
    "def find_a_present(prizes):\n",
    "    return choice(prizes)  # пишем choice(), а не random.choice()\n",
    "print(find_a_present(data_set[0]))\n",
    "print(find_a_present(data_set[1]))\n",
    "\n",
    "\n",
    "print(r.randint(0, 100))  # случайное число от 0 до 100\n",
    "\n",
    "# random number\n",
    "print(f'random range = {r.randrange(1,10)}') \n",
    "\n",
    "\n",
    "p = 'abcdefghijklmnopqrstuvwxyz0123456789%^*(-_=+)'; \n",
    "print(''.join(choices(p, k=10)))"
   ]
  },
  {
   "cell_type": "code",
   "execution_count": 2,
   "metadata": {
    "tags": []
   },
   "outputs": [
    {
     "name": "stdout",
     "output_type": "stream",
     "text": [
      "i = 0 and %5 = 0 and %3 = 0\n",
      "i = 0\n",
      "i = 1 and %5 = 1 and %3 = 1\n",
      "i = 2 and %5 = 2 and %3 = 2\n",
      "i = 3 and %5 = 3 and %3 = 0\n",
      "i = 3\n",
      "i = 4 and %5 = 4 and %3 = 1\n",
      "i = 5 and %5 = 0 and %3 = 2\n",
      "i = 5\n",
      "i = 6 and %5 = 1 and %3 = 0\n",
      "i = 6\n",
      "i = 7 and %5 = 2 and %3 = 1\n",
      "i = 8 and %5 = 3 and %3 = 2\n",
      "i = 9 and %5 = 4 and %3 = 0\n",
      "i = 9\n",
      "result = 23\n"
     ]
    }
   ],
   "source": [
    "# Multiples of 3 and 5\n",
    "def multiples_of3_and5(size):\n",
    "    n = 0\n",
    "    for i in range(size):\n",
    "        print(f'i = {i} and %5 = {i%5} and %3 = {i%3}')\n",
    "        if not i % 5 or not i % 3:\n",
    "            print(f'i = {i}')\n",
    "            n = n + i\n",
    "    print(f'result = {n}')\n",
    "multiples_of3_and5(10)"
   ]
  },
  {
   "cell_type": "code",
   "execution_count": 1,
   "metadata": {
    "tags": []
   },
   "outputs": [
    {
     "name": "stdout",
     "output_type": "stream",
     "text": [
      "0 1 1 2 3 5 8 13 21 34"
     ]
    }
   ],
   "source": [
    "# Even Fibonacci numbers\n",
    "\n",
    "def fibonacci1(size):\n",
    "    num1 = 0\n",
    "    num2 = 1\n",
    "    series = 0\n",
    "    for i in range(size):\n",
    "        print(series, end=' ');\n",
    "        num1 = num2;\n",
    "        num2 = series;\n",
    "        series = num1 + num2;\n",
    "        \n",
    "def fibonacci2(size):\n",
    "    # return 0 and 1 for first and second terms\n",
    "    if size == 0:\n",
    "        return 0\n",
    "    elif size == 1:\n",
    "        return 1\n",
    "    else:\n",
    "        # return the sum of two numbers\n",
    "        #return fibonacci(size - 1) + fibonacci(size - 2)\n",
    "\n",
    "#size = int(input('Enter how many numbers needed in Fibonacci series- '))\n",
    "fibonacci1(10)\n"
   ]
  },
  {
   "cell_type": "code",
   "execution_count": 14,
   "metadata": {
    "tags": []
   },
   "outputs": [
    {
     "name": "stdout",
     "output_type": "stream",
     "text": [
      "1 7 42 210 840 2520 5040"
     ]
    }
   ],
   "source": [
    "# factorial\n",
    "\n",
    "def factorial_1(size):\n",
    "    result = 1\n",
    "    while size >= 1:\n",
    "        print (result, end=' ')\n",
    "        result *= size\n",
    "        #print(result)\n",
    "        size -= 1\n",
    "        #print('size =', size)\n",
    "factorial_1(7)\n"
   ]
  },
  {
   "cell_type": "code",
   "execution_count": null,
   "metadata": {},
   "outputs": [],
   "source": [
    "r = float(input('Input the radius of the circle: '))\n",
    "print (f'{str(r)} = {str(pi * r**2)}')\n",
    "\n",
    "def max_of_array(x, y):\n",
    "    #str_a = ''\n",
    "    #for num in range(x, y):\n",
    "    #    str_a += str(num)\n",
    "    #str_list = list(str_a)\n",
    "    #print(str_list)\n",
    "\n",
    "    big_one = 0\n",
    "    for num in range(x, y):\n",
    "        if big_one < num:\n",
    "            big_one = num\n",
    "    return big_one"
   ]
  },
  {
   "cell_type": "code",
   "execution_count": 3,
   "metadata": {
    "tags": []
   },
   "outputs": [
    {
     "name": "stdout",
     "output_type": "stream",
     "text": [
      "Общая площадь = 146.87\n"
     ]
    }
   ],
   "source": [
    "areas = [\n",
    "    5.38, 21.72, 7.78, 26.86, 5.75,\n",
    "    29.84, 22.67, 5.50, 16.85, 4.52\n",
    "]\n",
    "\n",
    "# В этой переменной будем суммировать площади.\n",
    "# Пока что в ней ничего нет, поэтому она равна нулю.\n",
    "sum_area = 0\n",
    "\n",
    "for area in areas:\n",
    "    # прибавляем к sum_area площадь ещё одной комнаты\n",
    "    #sum_area = sum_area + area\n",
    "\tsum_area += area\n",
    "print(\"Общая площадь =\", sum_area)"
   ]
  },
  {
   "cell_type": "code",
   "execution_count": 4,
   "metadata": {
    "tags": []
   },
   "outputs": [
    {
     "name": "stdout",
     "output_type": "stream",
     "text": [
      "Выпущено альбомов в XXI веке: 5\n"
     ]
    }
   ],
   "source": [
    "years = [\n",
    "    1981, 1982, 1983, 1984, 1986, 1987, 1990,\n",
    "    1993, 1997, 2001, 2005, 2009, 2013, 2017\n",
    "]\n",
    "\n",
    "# В этой переменной будем подсчитывать количество.\n",
    "# Пока что в ней ничего нет, поэтому она равна нулю.\n",
    "count = 0\n",
    "\n",
    "for year in years:\n",
    "    if year > 2000:\n",
    "        # Каждый раз загибаем по одному пальцу,\n",
    "        # обнаружив альбом, выпущенный в 21 веке\n",
    "        count += 1   # это то же самое, что `count = count + 1`\n",
    "\n",
    "print(\"Выпущено альбомов в XXI веке:\", count)"
   ]
  },
  {
   "cell_type": "code",
   "execution_count": 2,
   "metadata": {},
   "outputs": [
    {
     "name": "stdout",
     "output_type": "stream",
     "text": [
      "1 False\n",
      "2 True\n",
      "3 True\n",
      "4 False\n",
      "5 True\n",
      "6 False\n",
      "7 True\n",
      "8 False\n",
      "9 False\n",
      "10 False\n",
      "11 True\n",
      "12 False\n",
      "13 True\n",
      "14 False\n",
      "15 False\n",
      "16 False\n",
      "17 True\n",
      "18 False\n",
      "19 True\n",
      "20 False\n"
     ]
    }
   ],
   "source": [
    "def is_prime_v1(n):\n",
    "    \"\"\"Return True if n is a prime number.\n",
    "    False otherwise.\n",
    "    \"\"\"\n",
    "\n",
    "    if n == 1:\n",
    "        return False  # 1 is not prime\n",
    "    \n",
    "    for num in range(2, n):\n",
    "        if n % num == 0:\n",
    "            return False\n",
    "    return True\n",
    "\n",
    "\n",
    "# === Testing ===\n",
    "for n in range(1, 21):\n",
    "    print(n, is_prime_v1(n))"
   ]
  },
  {
   "cell_type": "code",
   "execution_count": 1,
   "metadata": {},
   "outputs": [
    {
     "name": "stdout",
     "output_type": "stream",
     "text": [
      "It's not an anagram\n"
     ]
    }
   ],
   "source": [
    "\"\"\"Check if strings are anagram\"\"\"\n",
    "\n",
    "str1 = 'Zhe eyes'\n",
    "str2 = 'They see'\n",
    "\n",
    "# remove white-spaces and\n",
    "# upcase all the characters\n",
    "str1 = str1.replace(' ','').upper()\n",
    "str2 = str2.replace(' ','').upper()\n",
    "\n",
    "# compare the sorted strings\n",
    "if sorted(str1) == sorted(str2):\n",
    "    print(\"It's an anagram\")\n",
    "else:\n",
    "    print(\"It's not an anagram\")"
   ]
  },
  {
   "cell_type": "code",
   "execution_count": 1,
   "metadata": {},
   "outputs": [
    {
     "name": "stdout",
     "output_type": "stream",
     "text": [
      "1\n"
     ]
    }
   ],
   "source": [
    "def subtraction(minuend, subtrahend): \n",
    "    result = minuend - subtrahend\n",
    "    print(result)\n",
    "\n",
    "subtraction(2, 1) "
   ]
  }
 ],
 "metadata": {
  "kernelspec": {
   "display_name": "Python 3.10.0 ('.env_jupyter': venv)",
   "language": "python",
   "name": "python3"
  },
  "language_info": {
   "codemirror_mode": {
    "name": "ipython",
    "version": 3
   },
   "file_extension": ".py",
   "mimetype": "text/x-python",
   "name": "python",
   "nbconvert_exporter": "python",
   "pygments_lexer": "ipython3",
   "version": "3.10.0"
  },
  "orig_nbformat": 2,
  "vscode": {
   "interpreter": {
    "hash": "acd7119d548134a99e6f9d1f29df8db3a357202429f0f56f73b34e23b90bc877"
   }
  }
 },
 "nbformat": 4,
 "nbformat_minor": 2
}
