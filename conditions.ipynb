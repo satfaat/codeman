{
 "metadata": {
  "language_info": {
   "codemirror_mode": {
    "name": "ipython",
    "version": 3
   },
   "file_extension": ".py",
   "mimetype": "text/x-python",
   "name": "python",
   "nbconvert_exporter": "python",
   "pygments_lexer": "ipython3",
   "version": "3.8.5-final"
  },
  "orig_nbformat": 2,
  "kernelspec": {
   "name": "python38364bit93b64ca63c7743489b3b311c62aa3ce5",
   "display_name": "Python 3.8.3 64-bit"
  }
 },
 "nbformat": 4,
 "nbformat_minor": 2,
 "cells": [
  {
   "cell_type": "code",
   "execution_count": 9,
   "metadata": {
    "tags": []
   },
   "outputs": [
    {
     "output_type": "stream",
     "name": "stdout",
     "text": "Yes, 'quick' is in the list\n['The', 'quick']\n"
    }
   ],
   "source": [
    "# conditions\n",
    "\n",
    "list = 'The quick brown fox jumps over the lazy dog'.split(' ')\n",
    "\n",
    "if \"quick\" in list:\n",
    "    print(\"Yes, 'quick' is in the list\") \n",
    "    #print (list[2:])\n",
    "    print(list[0:2])\n",
    "elif 'fox' in list:\n",
    "    print(list[3:9])\n",
    "else:\n",
    "    list.append('word') # Add Items\n",
    "#print(list)\n"
   ]
  },
  {
   "cell_type": "code",
   "execution_count": null,
   "metadata": {},
   "outputs": [],
   "source": []
  }
 ]
}