{
 "cells": [
  {
   "cell_type": "code",
   "execution_count": 1,
   "metadata": {},
   "outputs": [],
   "source": [
    "import time\n",
    "import json\n",
    "import webbrowser\n",
    "import httpx\n",
    "\n",
    "\n"
   ]
  },
  {
   "cell_type": "code",
   "execution_count": 11,
   "metadata": {},
   "outputs": [],
   "source": [
    "import unittest\n",
    "\n",
    "from selenium import webdriver \n",
    "from selenium.webdriver.common.by import By\n",
    "from selenium.webdriver.common.keys import Keys"
   ]
  },
  {
   "cell_type": "markdown",
   "metadata": {},
   "source": [
    "### selenium-old:\n",
    "- [pypi selenium](https://pypi.org/project/selenium/)\n",
    "- [selenium](https://www.selenium.dev/)\n",
    "- [selenium documentation](https://www.selenium.dev/documentation/en/)\n",
    "- [locating-hyperlinks-by-link-text](https://selenium-python.readthedocs.io/locating-elements.html#locating-hyperlinks-by-link-text)\n",
    "- [ref_attributes](https://www.w3schools.com/tags/ref_attributes.asp)\n",
    "- [scrollIntoView](https://developer.mozilla.org/ru/docs/Web/API/Element/scrollIntoView)"
   ]
  },
  {
   "cell_type": "markdown",
   "metadata": {},
   "source": [
    "### libs\n",
    "- selenium"
   ]
  },
  {
   "cell_type": "markdown",
   "metadata": {},
   "source": [
    "### drivers"
   ]
  },
  {
   "cell_type": "markdown",
   "metadata": {},
   "source": [
    "- [driver_requirements](https://www.selenium.dev/documentation/en/webdriver/driver_requirements/)"
   ]
  },
  {
   "cell_type": "markdown",
   "metadata": {},
   "source": [
    "## Variables"
   ]
  },
  {
   "cell_type": "code",
   "execution_count": 2,
   "metadata": {},
   "outputs": [],
   "source": [
    "url_drivers = {\n",
    "    \"chrome\": \"https://sites.google.com/chromium.org/driver/\",\n",
    "    \"edge\": \"https://developer.microsoft.com/en-us/microsoft-edge/tools/webdriver/\",\n",
    "    \"firefox\": \"https://github.com/mozilla/geckodriver/releases\",\n",
    "    \"safari\": \"https://webkit.org/blog/6900/webdriver-support-in-safari-10/\"\n",
    "}\n",
    "\n",
    "url_websites = [\n",
    "    \"https://www.google.co.in\", \n",
    "    \"https://www.yahoo.com\", \n",
    "    \"https://www.amazon.co.in\", \n",
    "    \"https://www.pipsnacks.com/404\",\n",
    "    \"http://the-internet.herokuapp.com/status_codes/301\",\n",
    "    \"http://the-internet.herokuapp.com/status_codes/500\"\n",
    "]\n",
    "\n",
    "statuses = {\n",
    "    200: \"Website Available\",\n",
    "    301: \"Permanent Redirect\",\n",
    "    302: \"Temporary Redirect\",\n",
    "    404: \"Not Found\",\n",
    "    500: \"Internal Server Error\",\n",
    "    503: \"Service Unavailable\"\n",
    "}"
   ]
  },
  {
   "cell_type": "code",
   "execution_count": 6,
   "metadata": {},
   "outputs": [
    {
     "data": {
      "text/plain": [
       "True"
      ]
     },
     "execution_count": 6,
     "metadata": {},
     "output_type": "execute_result"
    }
   ],
   "source": [
    "webbrowser.open_new_tab(url_drivers['edge'])"
   ]
  },
  {
   "cell_type": "markdown",
   "metadata": {},
   "source": [
    "## browsers"
   ]
  },
  {
   "cell_type": "markdown",
   "metadata": {},
   "source": [
    "```\n",
    "edge://version/\n",
    "edge://settings/help\n",
    "```"
   ]
  },
  {
   "cell_type": "code",
   "execution_count": 3,
   "metadata": {},
   "outputs": [
    {
     "name": "stdout",
     "output_type": "stream",
     "text": [
      "https://www.instagram.com/test\n"
     ]
    }
   ],
   "source": [
    "user_name = input(\"Enter the username of the profile: \")\n",
    "url = 'https://www.instagram.com/'\n",
    "url_full = url + user_name\n",
    "print(url_full)"
   ]
  },
  {
   "cell_type": "code",
   "execution_count": 4,
   "metadata": {},
   "outputs": [
    {
     "name": "stdout",
     "output_type": "stream",
     "text": [
      "https://www.google.co.in Website Available\n",
      "https://www.yahoo.com Website Available\n",
      "https://www.amazon.co.in Permanent Redirect\n",
      "https://www.pipsnacks.com/404 Not Found\n",
      "http://the-internet.herokuapp.com/status_codes/301 Permanent Redirect\n",
      "http://the-internet.herokuapp.com/status_codes/500 Internal Server Error\n"
     ]
    }
   ],
   "source": [
    "def site_checker(urls):\n",
    "    for url in urls:\n",
    "        try:\n",
    "            web_response = httpx.get(url)\n",
    "            print(url, statuses[web_response.status_code])\n",
    "        except:\n",
    "            print(url, statuses[web_response.status_code])\n",
    "\n",
    "site_checker(url_websites)"
   ]
  },
  {
   "cell_type": "markdown",
   "metadata": {},
   "source": [
    "## Tests"
   ]
  },
  {
   "cell_type": "code",
   "execution_count": null,
   "metadata": {},
   "outputs": [],
   "source": [
    "browser = webdriver.Edge()\n",
    "browser.get(url_full)\n",
    "time.sleep(5)\n",
    "\n",
    "try:\n",
    "  image = browser.find_element_by_xpath('//img[@class=\"_aa8j\"]')\n",
    "except: \n",
    "  image = browser.find_element_by_xpath('//img[@class=\"_aadp\"]') \n",
    "\n",
    "img_link = image.get_attribute('src')"
   ]
  },
  {
   "cell_type": "code",
   "execution_count": 12,
   "metadata": {},
   "outputs": [],
   "source": [
    "browser = webdriver.Edge()\n",
    "browser.get('http://www.yahoo.com')\n",
    "assert 'Yahoo' in browser.title\n",
    "\n",
    "elem = browser.find_element(By.NAME, 'p')  # Find the search box\n",
    "elem.send_keys('seleniumhq' + Keys.RETURN)\n",
    "\n",
    "browser.quit()"
   ]
  }
 ],
 "metadata": {
  "kernelspec": {
   "display_name": "Python 3.10.0 ('.env_jupyter': venv)",
   "language": "python",
   "name": "python3"
  },
  "language_info": {
   "codemirror_mode": {
    "name": "ipython",
    "version": 3
   },
   "file_extension": ".py",
   "mimetype": "text/x-python",
   "name": "python",
   "nbconvert_exporter": "python",
   "pygments_lexer": "ipython3",
   "version": "3.10.0"
  },
  "orig_nbformat": 4,
  "vscode": {
   "interpreter": {
    "hash": "acd7119d548134a99e6f9d1f29df8db3a357202429f0f56f73b34e23b90bc877"
   }
  }
 },
 "nbformat": 4,
 "nbformat_minor": 2
}
