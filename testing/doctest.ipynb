{
 "cells": [
  {
   "cell_type": "code",
   "execution_count": 1,
   "metadata": {},
   "outputs": [
    {
     "name": "stdout",
     "output_type": "stream",
     "text": [
      "**********************************************************************\n",
      "File \"__main__\", line 5, in __main__.findFirst\n",
      "Failed example:\n",
      "    findFirst(\"Idowu\")\n",
      "Expected:\n",
      "    U\n",
      "Got:\n",
      "    'I'\n",
      "**********************************************************************\n",
      "1 items had failures:\n",
      "   1 of   1 in __main__.findFirst\n",
      "***Test Failed*** 1 failures.\n"
     ]
    }
   ],
   "source": [
    "def findFirst(text):\n",
    "    \"\"\"\n",
    "    Given a string, return the first alphabet\n",
    "    :param: string\n",
    "    >>> findFirst(\"Idowu\")\n",
    "    U\n",
    "    \"\"\"\n",
    "    return text[0].upper()\n",
    "if __name__==\"__main__\":\n",
    "    import doctest\n",
    "    doctest.testmod()"
   ]
  }
 ],
 "metadata": {
  "kernelspec": {
   "display_name": "Python 3.10.0 ('.env_jupyter': venv)",
   "language": "python",
   "name": "python3"
  },
  "language_info": {
   "codemirror_mode": {
    "name": "ipython",
    "version": 3
   },
   "file_extension": ".py",
   "mimetype": "text/x-python",
   "name": "python",
   "nbconvert_exporter": "python",
   "pygments_lexer": "ipython3",
   "version": "3.10.0"
  },
  "orig_nbformat": 4,
  "vscode": {
   "interpreter": {
    "hash": "acd7119d548134a99e6f9d1f29df8db3a357202429f0f56f73b34e23b90bc877"
   }
  }
 },
 "nbformat": 4,
 "nbformat_minor": 2
}
