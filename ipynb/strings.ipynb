{
 "metadata": {
  "language_info": {
   "codemirror_mode": {
    "name": "ipython",
    "version": 3
   },
   "file_extension": ".py",
   "mimetype": "text/x-python",
   "name": "python",
   "nbconvert_exporter": "python",
   "pygments_lexer": "ipython3",
   "version": "3.9.0-final"
  },
  "orig_nbformat": 2,
  "kernelspec": {
   "name": "python38532bit2d61253de92f42c4b49c810f50ab8c57",
   "display_name": "Python 3.8.5 32-bit",
   "language": "python"
  }
 },
 "nbformat": 4,
 "nbformat_minor": 2,
 "cells": [
  {
   "cell_type": "code",
   "execution_count": 14,
   "metadata": {},
   "outputs": [
    {
     "output_type": "stream",
     "name": "stdout",
     "text": [
      "f\nThe youngest child is Tom\nHis last name is Refsnes\n"
     ]
    }
   ],
   "source": [
    "# string\n",
    "\n",
    "#first_name = input('Input your first name: ')\n",
    "#full_name = f\"{first_name} {last_name}\"\n",
    "\n",
    "names = {\n",
    "    'first_name': input('Input your first name: '),\n",
    "    'last_name': \"lovelace\"\n",
    "    #'full_name': f\"{names['first_name']} {names['last_name']}\"  # not working so\n",
    "}  # dictionarie\n",
    "\n",
    "full_name = f\"{names['first_name']} {names['last_name']}\"\n",
    "print(full_name[0])\n",
    "\n",
    "def help(index):\n",
    "    helps = [\n",
    "        help(repr),\n",
    "        help(''.strip)\n",
    "    ]  # list\n",
    "    return helps[index]\n",
    "\n",
    "def childrens(*kids):\n",
    "    print(\"The youngest child is \" + kids[2])\n",
    "childrens(\"Dark\", \"Souls\", \"Tom\")\n",
    "\n",
    "def childrens2(**kid):\n",
    "    print(\"His last name is \" + kid[\"lname\"])\n",
    "childrens2(fname = \"Tobias\", lname = \"Refsnes\")\n",
    "\n",
    "a = \"Hello, World!\"\n",
    "#print(a[1])\n",
    "\n",
    "#print(full_name)\n",
    "#print(f\"Hello, {full_name.title()}!\")\n",
    "#print(type(repr(last_name)))"
   ]
  },
  {
   "cell_type": "code",
   "execution_count": null,
   "metadata": {},
   "outputs": [],
   "source": [
    "#dir(list)\n",
    "#help(list.append)\n",
    "\n",
    "name = \" ada lovelace \"\n",
    "name_title = name.title()\n",
    "name_upper = name.upper()\n",
    "name_lower = name.lower()\n",
    "name_strip = name.strip() #.rstrip() and name.lstrip()\n",
    "\n",
    "names_tuple = name, name_title, name_upper, name_lower, name_strip # tuple\n",
    "names_list = list(names_tuple) #list\n",
    "\n",
    "#print( name, ' - \\n', '\\t', name_title)\n",
    "#print(f'list = {names_list} \\nlength of list: {len(names_list)}')\n",
    "\n",
    "#values = input('input some comma seprated numbers: ')\n",
    "num_list = values.split(',')\n",
    "num_tuple = tuple(num_list)\n",
    "\n",
    "#print(f'List: {num_list} \\nTuple: {num_tuple}')\n",
    "\n",
    "def str_reverse(phrase):\n",
    "    reverse_str = ''\n",
    "    index = len(phrase)\n",
    "    while index > 0:\n",
    "        reverse_str += phrase[index - 1]\n",
    "        index -= 1\n",
    "    return reverse_str\n",
    "#print (str_reverse('pinocio'))\n",
    "\n",
    "def case_count(phrase):\n",
    "    counter = {\n",
    "        'upper_case':0,\n",
    "        'lower_case':0,\n",
    "        'white_space':0}\n",
    "    for char in phrase:\n",
    "        if char.isupper(): #.islower\n",
    "            counter['upper_case']+=1\n",
    "        elif char.islower():\n",
    "            counter['lower_case']+=1\n",
    "        else:\n",
    "            counter['white_space']+=1\n",
    "    return counter\n",
    "print(case_count('The quick Brown Fox'))\n"
   ]
  },
  {
   "cell_type": "code",
   "execution_count": 1,
   "metadata": {},
   "outputs": [
    {
     "output_type": "execute_result",
     "data": {
      "text/plain": "{'x', 'y'}"
     },
     "metadata": {},
     "execution_count": 1
    }
   ],
   "source": [
    "# search\n",
    "\n",
    "def search4letters(phrase:str, letters:str='aeiou') -> set:\n",
    "    \"\"\" Returns set of letters from phrase \"\"\"\n",
    "    return set(letters).intersection(set(phrase))\n",
    "search4letters('galaxy', 'xyz')"
   ]
  },
  {
   "cell_type": "code",
   "execution_count": 4,
   "metadata": {
    "tags": []
   },
   "outputs": [
    {
     "output_type": "stream",
     "name": "stdout",
     "text": "list = ['Ночь', 'Улица', 'Фонарь', 'Аптека']\nlist_strip = Ночь\n"
    }
   ],
   "source": [
    "# split and join\n",
    "\n",
    "blok_string = 'Ночь. Улица. Фонарь. Аптека' \n",
    "# из строки получаем список, где строку делят по сочетанию точки и пробела:\n",
    "blok_list = blok_string.split('. ')\n",
    "print('list =', blok_list)\n",
    "\n",
    "# хотим \"Ночь\" без точки\n",
    "print('list_strip =',blok_list[0].strip('.'))"
   ]
  },
  {
   "cell_type": "code",
   "execution_count": 31,
   "metadata": {
    "tags": []
   },
   "outputs": [
    {
     "output_type": "stream",
     "name": "stdout",
     "text": "<class 'list'>\nThe quick brown fox jumps over the lazy dog\nafter for <class 'list'>\ndog\nfrom for to arr ['The', 'quick', 'brown', 'fox', 'jumps', 'over', 'the', 'lazy', 'dog']\n"
    }
   ],
   "source": [
    "phrase = 'The quick brown fox jumps over the lazy dog'\n",
    "arr=[]\n",
    "print(type(arr))\n",
    "print(phrase)\n",
    "\n",
    "#phrase_l1 = list(phrase) # bad way to do list of words\n",
    "phrase_s1 = set(phrase)\n",
    "phrase_l2 = phrase.split(' ') # good way\n",
    "#print('bad way', phrase_l1)\n",
    "#print('text to set', phrase_s1) # bad way\n",
    "#print('split text way', type(phrase_l2), phrase_l2) # good way\n",
    "\n",
    "for word in phrase_l2:\n",
    "    one = word\n",
    "    #print(one)\n",
    "    arr.append(word) \n",
    "print('after for', type(arr))\n",
    "print(one) #prints only the last word\n",
    "print('from for to arr', arr)\n",
    "\n"
   ]
  },
  {
   "cell_type": "code",
   "execution_count": 5,
   "metadata": {
    "tags": []
   },
   "outputs": [
    {
     "output_type": "stream",
     "name": "stdout",
     "text": "['The', 'quick', 'brown', 'fox', 'jumps', 'over', 'the', 'lazy', 'dog', 'word']\n"
    }
   ],
   "source": [
    "# list methods + conditions\n",
    "\n",
    "list = 'The quick brown fox jumps over the lazy dog'.split(' ')\n",
    "\n",
    "def list_condition_1(list):\n",
    "    if \"quicke\" in list:\n",
    "        print(\"Yes, 'quick' is in the list\") \n",
    "        print (list[2:])\n",
    "    else:\n",
    "        list.append('word') # Add Items\n",
    "    return list\n",
    "\n",
    "print(list_condition_1(list))"
   ]
  },
  {
   "cell_type": "code",
   "execution_count": 2,
   "metadata": {
    "tags": []
   },
   "outputs": [
    {
     "output_type": "stream",
     "name": "stdout",
     "text": "The quick brown fox jumps over the lazy dog word\nЧто было после чудного мгновенья:  и божество, и вдохновенье, и жизнь, и слёзы, и любовь\n"
    }
   ],
   "source": [
    "# JOIN\n",
    "my_string = ' '.join(['The', 'quick', 'brown', 'fox', 'jumps', 'over', 'the', 'lazy', 'dog', 'word'])\n",
    "print(my_string)\n",
    "\n",
    "pushkin_i_remember = ['божество', 'вдохновенье', 'жизнь', 'слёзы', 'любовь']\n",
    "print('Что было после чудного мгновенья:  и ' +\n",
    "', и '.join(pushkin_i_remember))"
   ]
  },
  {
   "cell_type": "code",
   "execution_count": 2,
   "metadata": {
    "tags": []
   },
   "outputs": [
    {
     "output_type": "stream",
     "name": "stdout",
     "text": "Tab\n\\tTab\n"
    }
   ],
   "source": [
    "print('\\tTab')\n",
    "print(r'\\tTab')\n"
   ]
  },
  {
   "cell_type": "code",
   "execution_count": 8,
   "metadata": {
    "tags": []
   },
   "outputs": [
    {
     "output_type": "stream",
     "name": "stdout",
     "text": "<re.Match object; span=(0, 5), match='Start'>\nNone\n"
    }
   ],
   "source": [
    "# Regular Expression Language\n",
    "# \\. search for dot\n",
    "# \\s new lines and whitespaces\n",
    "\n",
    "import re\n",
    "\n",
    "text_to_search = '''\n",
    "abcdefghijklmnopqurtuvwxyz\n",
    "ABCDEFGHIJKLMNOPQRSTUVWXYZ \n",
    "1234567890\n",
    "'''\n",
    "def regex_1(text_to_search):\n",
    "    sentence = 'Start a sentence and then bring it to an end'\n",
    "    pattern = re.compile(r'\\d{3}[.-]\\d{3}[.-]\\d{4}')\n",
    "    matches = pattern.finditer(text_to_search)\n",
    "    for match in matches:\n",
    "        if match in matches:\n",
    "            print(match)\n",
    "        else:\n",
    "            print('na match')\n",
    "\n",
    "def regex_2():\n",
    "    with open('txt/data.txt', 'r') as data_f:\n",
    "        contents = data_f.read()\n",
    "        pattern = re.compile(r'\\d{3}[.-]\\d{3}[.-]\\d{4}')\n",
    "        matches = pattern.finditer(contents)\n",
    "        for match in matches:\n",
    "            print(match)\n",
    "\n",
    "def regex_3():\n",
    "    with open('txt/regex.txt', 'r') as regex_f:\n",
    "        contents = regex_f.read()\n",
    "        pattern = re.compile(r'https?://(w{3}\\.)?(\\w+)(\\.\\w+)')\n",
    "        #subbed_urls = pattern.sub(r'\\2\\3' contents)\n",
    "        matches = pattern.finditer(contents)\n",
    "        for match in matches:\n",
    "            print(match)\n",
    "            print(match.group(0))\n",
    "            print(match.group(1))\n",
    "\n",
    "def regex_4():\n",
    "    sentence = 'Start a sentence and then bring it to an end'\n",
    "    #pattern = re.compile(r'and')\n",
    "    pattern = re.compile(r'start', re.IGNORECASE)\n",
    "    #matches = pattern.match(sentence)\n",
    "    matches = pattern.search(sentence)\n",
    "    print(matches)\n",
    "\n",
    "print(regex_4())\n"
   ]
  },
  {
   "cell_type": "code",
   "execution_count": 6,
   "metadata": {
    "tags": []
   },
   "outputs": [
    {
     "output_type": "execute_result",
     "data": {
      "text/plain": "'пРиВеТ МиР!!'"
     },
     "metadata": {},
     "execution_count": 6
    }
   ],
   "source": [
    "word = 'Привет мир!!'\n",
    "def even_odd(word):\n",
    "    result = []\n",
    "    for index in range(len(word)):\n",
    "        if index % 2 == 0:\n",
    "            result.append(word[index].lower())\n",
    "        else:\n",
    "            result.append(word[index].upper())\n",
    "    return ''.join(result)\n",
    "even_odd(word)"
   ]
  },
  {
   "cell_type": "code",
   "execution_count": null,
   "metadata": {},
   "outputs": [],
   "source": []
  }
 ]
}