{
 "cells": [
  {
   "cell_type": "code",
   "execution_count": 1,
   "metadata": {},
   "outputs": [
    {
     "name": "stdout",
     "output_type": "stream",
     "text": [
      "<class 'tuple'>\n",
      "5\n",
      "True\n",
      "Top\n"
     ]
    }
   ],
   "source": [
    "def outputData(name, *args):\n",
    "    print(type(args))\n",
    "    for arg in args:\n",
    "        print(arg)\n",
    "\n",
    "outputData('Smith', 5, True, 'Top')"
   ]
  },
  {
   "cell_type": "code",
   "execution_count": 2,
   "metadata": {},
   "outputs": [
    {
     "name": "stdout",
     "output_type": "stream",
     "text": [
      "<class 'dict'>\n",
      "Smith\n",
      "5\n"
     ]
    }
   ],
   "source": [
    "def outputData(**kwargs):\n",
    "    print(type(kwargs))\n",
    "    print(kwargs['name'])\n",
    "    print(kwargs['num'])\n",
    "\n",
    "outputData(name='Smith', num=5, b=True)"
   ]
  },
  {
   "cell_type": "code",
   "execution_count": 3,
   "metadata": {},
   "outputs": [
    {
     "name": "stdout",
     "output_type": "stream",
     "text": [
      "True\n"
     ]
    }
   ],
   "source": [
    "# Ternary operator\n",
    "\n",
    "def searchList(aList, el):\n",
    "    return True if el in aList else False\n",
    "\n",
    "list = ['some', 2, 'three']\n",
    "result = searchList(list, 2)\n",
    "print(result)"
   ]
  },
  {
   "cell_type": "code",
   "execution_count": 1,
   "metadata": {},
   "outputs": [
    {
     "name": "stdout",
     "output_type": "stream",
     "text": [
      "('s', 'u')\n",
      "{'name': '123', 'job': 'programmer'}\n"
     ]
    }
   ],
   "source": [
    "def many(*ars, **kwars):\n",
    "    print(ars)\n",
    "    print(kwars)\n",
    "\n",
    "many('s','u', name='123', job='programmer')"
   ]
  },
  {
   "cell_type": "code",
   "execution_count": 3,
   "metadata": {},
   "outputs": [
    {
     "name": "stdout",
     "output_type": "stream",
     "text": [
      "0\n",
      "1\n",
      "2\n",
      "3\n",
      "4\n",
      "5\n",
      "6\n",
      "7\n",
      "8\n",
      "9\n"
     ]
    }
   ],
   "source": [
    "def gen_seq():\n",
    "    #return range(10)\n",
    "    #return [num for num in range(10)]\n",
    "    return (0, 1, 2, 3, 4, 5, 6, 7, 8, 9)\n",
    "\n",
    "def gen_seq_2():\n",
    "    num = 0\n",
    "    while num < 10:\n",
    "        yield num\n",
    "        num += 1\n",
    "\n",
    "for i in gen_seq_2():\n",
    "    print(i)"
   ]
  },
  {
   "cell_type": "code",
   "execution_count": 5,
   "metadata": {},
   "outputs": [
    {
     "name": "stdout",
     "output_type": "stream",
     "text": [
      "[1, 2, 3, 0]\n",
      "(1, 2, 3)\n"
     ]
    }
   ],
   "source": [
    "\n",
    "def add_element(collection):\n",
    "    collection.append(0) \n",
    "\n",
    "some_list = [1,2,3]\n",
    "add_element(some_list)\n",
    "print(some_list)\n",
    "\n",
    "some_tuple = (1,2,3)\n",
    "#add_element(some_tuple)\n",
    "print(some_tuple) "
   ]
  },
  {
   "cell_type": "code",
   "execution_count": null,
   "metadata": {},
   "outputs": [],
   "source": [
    "def check_bracket(str):\n",
    "    open_cnt = 0\n",
    "    close_cnt = 0\n",
    "    \n",
    "    for c in str:\n",
    "        if c == '(':\n",
    "            open_cnt += 1\n",
    "        else:\n",
    "            close_cnt += 1\n",
    "    \n",
    "    return open_cnt == close_cnt\n",
    "\n",
    "def check_bracket_2(str):\n",
    "    stack = []\n",
    "    for c in str:\n",
    "        if c == \"(\":\n",
    "            stack.append(c)\n",
    "        elif stack:\n",
    "            stack.pop()\n",
    "        else:\n",
    "            return False\n",
    "    return len(stack) == 0 \n",
    "\n",
    "from functools import reduce\n",
    "def check_bracket(str):\n",
    "    reduce_str = reduce(lambda accum, cur: accum[:-1] if accum and accum[-1] + cur == '()' else accum + cur, str)\n",
    "    return not reduce_str "
   ]
  }
 ],
 "metadata": {
  "kernelspec": {
   "display_name": "Python 3.9.0 64-bit ('.venv')",
   "metadata": {
    "interpreter": {
     "hash": "16e828463dd973cd84064311b6536f4c909c7ef952ff2e261ec06fdd9873dbfc"
    }
   },
   "name": "python3"
  },
  "language_info": {
   "codemirror_mode": {
    "name": "ipython",
    "version": 3
   },
   "file_extension": ".py",
   "mimetype": "text/x-python",
   "name": "python",
   "nbconvert_exporter": "python",
   "pygments_lexer": "ipython3",
   "version": "3.10.0"
  },
  "orig_nbformat": 2
 },
 "nbformat": 4,
 "nbformat_minor": 2
}
