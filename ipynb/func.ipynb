{
 "metadata": {
  "language_info": {
   "codemirror_mode": {
    "name": "ipython",
    "version": 3
   },
   "file_extension": ".py",
   "mimetype": "text/x-python",
   "name": "python",
   "nbconvert_exporter": "python",
   "pygments_lexer": "ipython3",
   "version": "3.9.0-final"
  },
  "orig_nbformat": 2,
  "kernelspec": {
   "name": "python3",
   "display_name": "Python 3.9.0 64-bit ('.venv')",
   "metadata": {
    "interpreter": {
     "hash": "16e828463dd973cd84064311b6536f4c909c7ef952ff2e261ec06fdd9873dbfc"
    }
   }
  }
 },
 "nbformat": 4,
 "nbformat_minor": 2,
 "cells": [
  {
   "cell_type": "code",
   "execution_count": 1,
   "metadata": {},
   "outputs": [
    {
     "output_type": "stream",
     "name": "stdout",
     "text": [
      "<class 'tuple'>\n5\nTrue\nTop\n"
     ]
    }
   ],
   "source": [
    "def outputData(name, *args):\n",
    "    print(type(args))\n",
    "    for arg in args:\n",
    "        print(arg)\n",
    "\n",
    "outputData('Smith', 5, True, 'Top')"
   ]
  },
  {
   "cell_type": "code",
   "execution_count": 2,
   "metadata": {},
   "outputs": [
    {
     "output_type": "stream",
     "name": "stdout",
     "text": [
      "<class 'dict'>\nSmith\n5\n"
     ]
    }
   ],
   "source": [
    "def outputData(**kwargs):\n",
    "    print(type(kwargs))\n",
    "    print(kwargs['name'])\n",
    "    print(kwargs['num'])\n",
    "\n",
    "outputData(name='Smith', num=5, b=True)"
   ]
  },
  {
   "cell_type": "code",
   "execution_count": 3,
   "metadata": {},
   "outputs": [
    {
     "output_type": "stream",
     "name": "stdout",
     "text": [
      "True\n"
     ]
    }
   ],
   "source": [
    "# Ternary operator\n",
    "\n",
    "def searchList(aList, el):\n",
    "    return True if el in aList else False\n",
    "\n",
    "list = ['some', 2, 'three']\n",
    "result = searchList(list, 2)\n",
    "print(result)"
   ]
  },
  {
   "cell_type": "code",
   "execution_count": null,
   "metadata": {},
   "outputs": [],
   "source": []
  }
 ]
}