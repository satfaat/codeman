{
 "cells": [
  {
   "cell_type": "code",
   "execution_count": 15,
   "metadata": {},
   "outputs": [
    {
     "data": {
      "text/plain": [
       "'0x2d2c983a8e0'"
      ]
     },
     "execution_count": 15,
     "metadata": {},
     "output_type": "execute_result"
    }
   ],
   "source": [
    "# Class\n",
    "\n",
    "class CountFromBy:\n",
    "    #pass\n",
    "    def __init__(self, v: int=0, i: int=1):\n",
    "        self.val = v\n",
    "        self.incr = i\n",
    "\n",
    "    def increase(self) -> None:\n",
    "        self.val += self.incr\n",
    "    \n",
    "    def __repr__(self):\n",
    "        return str(self.val)\n",
    "\n",
    "a = CountFromBy(100, 10)\n",
    "a.val\n",
    "a.increase()\n",
    "a.val\n",
    "type(a)\n",
    "id(a)\n",
    "hex(id(a))\n",
    "#b = CountFromBy()"
   ]
  },
  {
   "cell_type": "code",
   "execution_count": null,
   "metadata": {},
   "outputs": [],
   "source": [
    "class Contact: \n",
    "    def __init__(self, name, phone, address, birthday): # функция, которая принимает аргументы name, phone, address, birthday, создаёт объект и в нём сохраняет их значения \n",
    "        self.name = name\n",
    "        self.phone = phone\n",
    "        self.address = address \n",
    "        self.birthday = birthday\n",
    "\n",
    "# cоздаём объект leo класса Contact с набором свойств:\n",
    "leo = Contact(name=\"Лев Толстой\", phone=\"+7 (123) 456-78-90\", address=\"Ясная Поляна\", birthday=\"9.09.1828\")\n",
    "# а можно так, покороче:\n",
    "leo = Contact(\"Лев Толстой\", \"+7 (123) 456-78-90\", \"Ясная Поляна\", \"9.09.1828\")"
   ]
  },
  {
   "cell_type": "code",
   "execution_count": 3,
   "metadata": {
    "tags": []
   },
   "outputs": [
    {
     "name": "stdout",
     "output_type": "stream",
     "text": [
      "Создаём новый контакт Михаил Булгаков\n",
      "Создаём новый контакт Владимир Маяковский\n",
      "Михаил Булгаков — адрес: Россия, Москва, Нащокинский переулок, дом 3, кв. 44, телефон: К-058-67, день рождения: 15.05.1891\n",
      "Владимир Маяковский — адрес: Россия, Москва, Гендриков переулок, дом 15, кв. 5, телефон: 2-35-71, день рождения: 19.07.1893\n"
     ]
    }
   ],
   "source": [
    "class Contact:\n",
    "    def __init__(self, name, phone, address, birthday):\n",
    "        self.name = name\n",
    "        self.phone = phone\n",
    "        self.address = address\n",
    "        self.birthday = birthday\n",
    "        print(f\"Создаём новый контакт {name}\")\n",
    "\n",
    "# здесь создайте объекты mike и vlad\n",
    "mike = Contact('Михаил Булгаков', '2-03-27', 'Россия, Москва, Большая Пироговская, дом 35б, кв. 6', '15.05.1891')\n",
    "vlad = Contact('Владимир Маяковский', '73-88', 'Россия, Москва, Лубянский проезд, д. 3, кв. 12', '19.07.1893')\n",
    "\n",
    "def print_contact():\n",
    "    print(f\"{mike.name} — адрес: {mike.address}, телефон: {mike.phone}, день рождения: {mike.birthday}\")\n",
    "    print(f\"{vlad.name} — адрес: {vlad.address}, телефон: {vlad.phone}, день рождения: {vlad.birthday}\")\n",
    "\n",
    "mike.address = 'Россия, Москва, Нащокинский переулок, дом 3, кв. 44'\n",
    "mike.phone = 'К-058-67'\n",
    "\n",
    "vlad.address = 'Россия, Москва, Гендриков переулок, дом 15, кв. 5'\n",
    "vlad.phone = '2-35-71'\n",
    "\n",
    "print_contact()"
   ]
  },
  {
   "cell_type": "code",
   "execution_count": 4,
   "metadata": {
    "tags": []
   },
   "outputs": [
    {
     "name": "stdout",
     "output_type": "stream",
     "text": [
      "Создаём новый контакт Михаил Булгаков\n",
      "Создаём новый контакт Владимир Маяковский\n",
      "Владимир Маяковский — адрес: Россия, Москва, Лубянский проезд, д. 3, кв. 12, телефон: 73-88, день рождения: 19.07.1893\n",
      "Михаил Булгаков — адрес: Россия, Москва, Большая Пироговская, дом 35б, кв. 6, телефон: 2-03-27, день рождения: 15.05.1891\n"
     ]
    }
   ],
   "source": [
    "class Contact:\n",
    "    def __init__(self, name, phone, birthday, address):\n",
    "        self.name = name\n",
    "        self.phone = phone\n",
    "        self.birthday = birthday\n",
    "        self.address = address\n",
    "        print(f\"Создаём новый контакт {name}\")\n",
    "        \n",
    "    def show_contact(self):\n",
    "        print(f\"{self.name} — адрес: {self.address}, телефон: {self.phone}, день рождения: {self.birthday}\")\n",
    "\n",
    "mike = Contact(\"Михаил Булгаков\", \"2-03-27\", \"15.05.1891\", \"Россия, Москва, Большая Пироговская, дом 35б, кв. 6\")\n",
    "vlad = Contact(\"Владимир Маяковский\", \"73-88\", \"19.07.1893\", \"Россия, Москва, Лубянский проезд, д. 3, кв. 12\")\n",
    "\n",
    "#Contact.show_contact(mike)\n",
    "#Contact.show_contact(vlad)\n",
    "mike.show_contact()\n",
    "vlad.show_contact()"
   ]
  },
  {
   "cell_type": "code",
   "execution_count": null,
   "metadata": {},
   "outputs": [],
   "source": [
    "class Contact:\n",
    "    def __init__(self, name, phone, birthday):\n",
    "        self.name = name\n",
    "        self.phone = phone\n",
    "        self.birthday = birthday\n",
    "\n",
    "        # после создания объекта сообщим об этом\n",
    "        print(f\"Создан новый контакт {name}\") \n",
    "\n",
    "    # создадим метод show для вывода на печать данных любого контакта:\n",
    "    def show(self):\n",
    "        print(f\"Имя: {self.name}, телефон: {self.phone}, день рождения: {self.birthday}\")\n",
    "\n",
    "    def __str__(self):\n",
    "        # можно задать любую строку, например «Не печатай меня, ведь я — объект!»,\n",
    "        # но лучше пусть при печати выводится осмысленное название объекта и имя        \n",
    "        return \"Контакт: \" + self.name\n",
    "\n",
    "# теперь можно создать объект класса Contact, передав в конструктор значения:\n",
    "ivan = Contact(name=\"Иван\", phone=\"+155512345\", birthday=\"2.12.1985\")\n",
    "\n",
    "# а можно использовать сокращённый синтаксис:\n",
    "maria = Contact(\"Марья\", \"+277734567\", \"4.04.1999\")\n",
    "\n",
    "# вызовем метод show() для объекта ivan:\n",
    "ivan.show() # будет напечатано: \"Имя: Иван, телефон: +155512345, день рождения: 2.12.1985\"\n",
    "print(ivan)"
   ]
  },
  {
   "cell_type": "code",
   "execution_count": null,
   "metadata": {},
   "outputs": [],
   "source": [
    "import math # импортируйте библиотеку math\n",
    "\n",
    "class Planet:\n",
    "    def __init__(self, name, radius, temp_celsius):\n",
    "        self.name = name\n",
    "        self.surface_area = 4 * math.pi * radius * radius # здесь вычислите площадь поверхности шара\n",
    "        self.average_temp_celcius = temp_celsius\n",
    "        self.average_temp_fahrenheit = temp_celsius * 9 / 5 + 32 # здесь переведите температуру в градусы Фаренгейта\n",
    "\n",
    "    def show_info(self):\n",
    "        print(f\"Планета {self.name} имеет площадь поверхности {self.surface_area} кв.км.\")\n",
    "        print(f\"Средняя температура поверхности планеты: {self.average_temp_fahrenheit}° по Фаренгейту.\")\n",
    "\n",
    "jupiter = Planet('Юпитер', 69911, -108)\n",
    "jupiter.show_info()"
   ]
  },
  {
   "cell_type": "code",
   "execution_count": null,
   "metadata": {},
   "outputs": [],
   "source": [
    "class User:\n",
    "    def __init__(self, name, phone):\n",
    "        self.name = name\n",
    "        self.phone = phone\n",
    "    def show(self):\n",
    "        print(f'{self.name} ({self.phone})')\n",
    "\n",
    "# объявляем класс Friend, дочерний по отношению к классу User\n",
    "class Friend(User):\n",
    "    def show(self):\n",
    "        print(f'Имя: {self.name} || Телефон: {self.phone}')\n",
    "\n",
    "# создаём объекты User и Friend\n",
    "father = User(\"Дюма-отец\", \"+33 3 23 96 23 30\")\n",
    "son = Friend(\"Дюма-сын\", \"+33 3 23 96 23 30\")\n",
    "\n",
    "father.show()\n",
    "son.show()"
   ]
  },
  {
   "cell_type": "code",
   "execution_count": null,
   "metadata": {},
   "outputs": [],
   "source": [
    "class User:\n",
    "    def __init__(self, name, phone):\n",
    "        self.name = name\n",
    "        self.phone = phone\n",
    "    def show(self):\n",
    "        print(f'{self.name} ({self.phone})')\n",
    "\n",
    "# наследуем класс Friend от User\n",
    "class Friend(User): \n",
    "    # пишем конструктор класса-наследника, чтобы он принимал все нужные параметры\n",
    "    def __init__(self, name, phone, address): \n",
    "        # наследуем функциональность конструктора из класса-родителя\n",
    "        super().__init__(name, phone) \n",
    "        # добавляем новую функциональность: свойство address\n",
    "        self.address = address\n",
    "    # полностью переопределяем родительский метод show()\n",
    "    def show(self):\n",
    "        print(f'Имя: {self.name} || Телефон: {self.phone} || Адрес: {self.address}')"
   ]
  },
  {
   "cell_type": "code",
   "execution_count": null,
   "metadata": {},
   "outputs": [],
   "source": [
    "class Bird:\n",
    "    #  Это конструктор, он вызывается при создании объекта\n",
    "    def __init__(self, name, size):\n",
    "        self.name = name\n",
    "        self.size = size        \n",
    "    def show(self):\n",
    "        # вызывается для вывода на экран всех свойств объекта\n",
    "        # это интерфейс класса, к нему можно обратиться из внешнего кода\n",
    "        print(f'{self.name} носит одежду размера «{self.size}».')\n",
    "\n",
    "# Создание объекта\n",
    "sparrow = Bird('Воробей', 'S')\n",
    "# Теперь можно воспользоваться его внешним интерфейсом: методом show()\n",
    "sparrow.show()\n",
    "\n",
    "# Результат: Воробей носит одежду размера «S»."
   ]
  },
  {
   "cell_type": "code",
   "execution_count": null,
   "metadata": {},
   "outputs": [],
   "source": [
    "class Bird:\n",
    "    def __init__(self, name, size):\n",
    "        # Это конструктор, он вызывается при создании объекта\n",
    "        self.name = name\n",
    "        self.size = size\n",
    "    def show(self):\n",
    "        # вызывается для вывода на экран всех свойств объекта\n",
    "        print(f'{self.name} носит одежду размера «{self.size}».')\n",
    "\n",
    "class Parrot(Bird):\n",
    "    def __init__(self, name, size, sound):\n",
    "        super().__init__(name, size)\n",
    "        self.sound = sound\n",
    "    def show(self):\n",
    "        # вызывается для вывода на экран всех свойств объекта\n",
    "        print(f'{self.name} носит одежду размера «{self.size}» и {self.sound}.')\n",
    "\n",
    "# Создание объектов \n",
    "sparrow = Bird('Воробей', 'S')\n",
    "ara = Parrot('Попугай ара', 'XL', 'разговаривает')\n",
    "nymphicus = Parrot('Попугай Корелла', 'S', 'щебечет')\n",
    "\n",
    "# Теперь можно воспользоваться его внешним интерфейсом: методом show()\n",
    "sparrow.show()\n",
    "ara.show()\n",
    "nymphicus.show()\n",
    "\n",
    "# Результат:\n",
    "# Воробей носит одежду размера «S».\n",
    "# Попугай ара носит одежду размера «XL» и разговаривает.\n",
    "# Попугай Корелла носит одежду размера «S» и щебечет."
   ]
  },
  {
   "cell_type": "code",
   "execution_count": null,
   "metadata": {},
   "outputs": [],
   "source": [
    "class Bird:\n",
    "    def __init__(self, name, size):\n",
    "            self.name = name\n",
    "            self.size = size\n",
    "    def show(self):       \n",
    "            print(f'{self.name} носит одежду размера «{self.size}».')\n",
    "\n",
    "class Parrot(Bird):\n",
    "    def __init__(self, name, size, sound):\n",
    "        super().__init__(name, size)\n",
    "        self.sound = sound\n",
    "    def show(self):\n",
    "        print(f'{self.name} носит одежду размера «{self.size}» и {self.sound}.')\n",
    "\n",
    "class Predator(Bird):\n",
    "    def __init__(self, name, size, claws_size):\n",
    "        super().__init__(name, size)\n",
    "        self.claws_size = claws_size\n",
    "    def show(self):\n",
    "        print(f'{self.name} носит одежду размера «{self.size}» и когти размера {self.claws_size}.')\n",
    "\n",
    "class Egg(Predator):\n",
    "    def show(self):\n",
    "        print(f'Из яйца вылупится птичка {self.name} размера «{self.size}» с когтями размера {self.claws_size}.')"
   ]
  },
  {
   "cell_type": "code",
   "execution_count": 1,
   "metadata": {},
   "outputs": [
    {
     "name": "stdout",
     "output_type": "stream",
     "text": [
      "Виктор Гюго (+33 1 42 72 10 16)\n",
      "Имя: Виктор Гюго || Телефон: +33 1 42 72 10 16\n"
     ]
    }
   ],
   "source": [
    "class User:\n",
    "    def __init__(self, name, phone):\n",
    "        self.name = name\n",
    "        self.phone = phone\n",
    "\n",
    "    def show(self):\n",
    "        print(f'{self.name} ({self.phone})')\n",
    "\n",
    "class Friend(User):\n",
    "    def show(self):\n",
    "        print(f'Имя: {self.name} || Телефон: {self.phone}')\n",
    "\n",
    "user = User(\"Виктор Гюго\", \"+33 1 42 72 10 16\")\n",
    "# у класса friend нет конструктора, но он есть\n",
    "# у родительского класса User, поэтому код сработает\n",
    "friend = Friend(\"Виктор Гюго\", \"+33 1 42 72 10 16\")\n",
    "\n",
    "user.show()\n",
    "friend.show()"
   ]
  },
  {
   "cell_type": "code",
   "execution_count": 1,
   "metadata": {
    "tags": []
   },
   "outputs": [
    {
     "name": "stdout",
     "output_type": "stream",
     "text": [
      "Город Москва, население 12615882 чел.\n",
      "Высота горы Эверест - 8848 м.\n",
      "От точки «Москва» до точки «Эверест» — 4960.292203587949 км.\n",
      "От точки «Москва» до точки «Челябинск» — 1495.6655965788932 км.\n"
     ]
    }
   ],
   "source": [
    "# импортируем функции из библиотеки math для рассчёта расстояния\n",
    "from math import radians, sin, cos, acos\n",
    "\n",
    "class Point:\n",
    "    def __init__(self, latitude, longitude):\n",
    "        self.latitude = radians(latitude)\n",
    "        self.longitude = radians(longitude)\n",
    "\n",
    "    # считаем расстояние между двумя точками в км\n",
    "    def distance(self, other):\n",
    "        cos_d = sin(self.latitude) * sin(other.latitude) + cos(self.latitude) * cos(other.latitude) * cos(\n",
    "        self.longitude - other.longitude)\n",
    "        return 6371 * acos(cos_d)\n",
    "\n",
    "class City(Point):\n",
    "    def __init__(self, latitude, longitude, name, population):\n",
    "        super().__init__(latitude, longitude)\n",
    "        self.name = name\n",
    "        self.population = population\n",
    "\n",
    "    def show(self):\n",
    "        print(f\"Город {self.name}, население {self.population} чел.\")\n",
    "\n",
    "\n",
    "class Mountain(Point):\n",
    "    def __init__(self, latitude, longitude, name, height):\n",
    "        super().__init__(latitude, longitude)\n",
    "        self.name = name\n",
    "        self.height = height\n",
    "\n",
    "    def show(self):\n",
    "        print(f\"Высота горы {self.name} - {self.height} м.\")\n",
    "\n",
    "\n",
    "# эта функция печатает расстояние\n",
    "# между двумя любыми наследниками класса Point\n",
    "def print_how_far(geo_object_1, geo_object_2):\n",
    "    print(f'От точки «{geo_object_1.name}» до точки «{geo_object_2.name}» — {geo_object_1.distance(geo_object_2)} км.')\n",
    "\n",
    "# основной код\n",
    "moscow = City(55.7522200, 37.6155600, 'Москва', 12615882)\n",
    "everest = Mountain(27.98791, 86.92529, 'Эверест', 8848)\n",
    "chelyabinsk = City(55.154, 61.4291, 'Челябинск', 1200703)\n",
    "\n",
    "moscow.show()\n",
    "everest.show()\n",
    "print_how_far(moscow, everest)\n",
    "print_how_far(moscow, chelyabinsk)"
   ]
  },
  {
   "cell_type": "code",
   "execution_count": null,
   "metadata": {},
   "outputs": [],
   "source": [
    "class Human:\n",
    "    def __init__(self, name):\n",
    "        self.name = name\n",
    "\n",
    "    # ответ по умолчанию для всех одинаковый, можно \n",
    "    # доверить его родительскому классу\n",
    "    def answer_question(self, question):\n",
    "        print('Очень интересный вопрос! Не знаю.')\n",
    "\n",
    "class Student(Human):\n",
    "    def __init__(self, name):\n",
    "        super().__init__(name)\n",
    "        \n",
    "    #  метод ask_question() принимает параметр someone:\n",
    "    #  это объект, экземпляр класса Curator, Mentor или CodeReviewer,\n",
    "    #  которому Student задаёт вопрос; \n",
    "    #  параметр question — это просто строка\n",
    "    #  имя объекта и текст вопроса задаются при вызове метода ask_question\n",
    "    def ask_question(self, someone, question):\n",
    "        # напечатайте на экран вопрос в нужном формате\n",
    "        print(f'{someone.name}, {question}')\n",
    "        # запросите ответ на вопрос у someone\n",
    "        someone.answer_question(question)\n",
    "        print('')  # этот print выводит разделительную пустую строку\t\n",
    "\n",
    "class Curator(Human):\n",
    "    def __init__(self, name):\n",
    "        super().__init__(name)\n",
    "        \n",
    "    def answer_question(self, question):\n",
    "        # здесь нужно проверить, пришёл куратору знакомый вопрос или нет\n",
    "        # если да - ответить на него\n",
    "        # если нет - вызвать метод answer_question() у родительского класса\n",
    "        if question == 'мне грустненько, что делать?':\n",
    "            print('Держись, всё получится. Хочешь видео с котиками?')\n",
    "        else:\n",
    "            super().answer_question(question)\n",
    "            \n",
    "# объявите и реализуйте классы CodeReviewer и Mentor\n",
    "class CodeReviewer(Human):\n",
    "    def __init__(self, name):\n",
    "        super().__init__(name)\n",
    "        \n",
    "    def answer_question(self, question):\n",
    "        # здесь нужно проверить, пришёл куратору знакомый вопрос или нет\n",
    "        # если да - ответить на него\n",
    "        # если нет - вызвать метод answer_question() у родительского класса\n",
    "        if question == 'что не так с моим проектом?':\n",
    "            print('О, вопрос про проект, это я люблю.')\n",
    "        else:\n",
    "            super().answer_question(question)\n",
    "\n",
    "class Mentor(Human): # Ира\n",
    "    def __init__(self, name):\n",
    "        super().__init__(name)\n",
    "        \n",
    "    def answer_question(self, question):\n",
    "        # здесь нужно проверить, пришёл куратору знакомый вопрос или нет\n",
    "        # если да - ответить на него\n",
    "        # если нет - вызвать метод answer_question() у родительского класса\n",
    "        if question == 'мне грустненько, что делать?':\n",
    "            print('Отдохни и возвращайся с вопросами по теории.')\n",
    "        elif question == 'как устроиться работать питонистом?':\n",
    "            print('Сейчас расскажу.')\n",
    "        else:\n",
    "            super().answer_question(question)\n",
    "            \n",
    "# следующий код менять не нужно, он работает, мы проверяли\n",
    "student1 = Student('Тимофей')\n",
    "curator = Curator('Марина')\n",
    "mentor = Mentor('Ира')\n",
    "reviewer = CodeReviewer('Евгений')\n",
    "friend = Human('Виталя')\n",
    "\n",
    "student1.ask_question(curator, 'мне грустненько, что делать?')\n",
    "student1.ask_question(mentor, 'мне грустненько, что делать?')\n",
    "student1.ask_question(reviewer, 'когда каникулы?')\n",
    "student1.ask_question(reviewer, 'что не так с моим проектом?')\n",
    "student1.ask_question(friend, 'как устроиться на работу питонистом?')\n",
    "student1.ask_question(mentor, 'как устроиться работать питонистом?')"
   ]
  },
  {
   "cell_type": "code",
   "execution_count": 15,
   "metadata": {
    "tags": []
   },
   "outputs": [
    {
     "name": "stdout",
     "output_type": "stream",
     "text": [
      "Марина, мне грустненько, что делать?\n",
      "Держись, всё получится. Хочешь видео с котиками?\n"
     ]
    }
   ],
   "source": [
    "class Human:\n",
    "    def __init__(self, name):\n",
    "        self.name = name\n",
    "    def answer_question(self, question):\n",
    "        print('Очень интересный вопрос! Не знаю.')\n",
    "\n",
    "class Student(Human):\n",
    "    def __init__(self, name):\n",
    "        super().__init__(name)\n",
    "    def ask_question(self, someone, question):\n",
    "        print(f'{someone.name}, {question}')\n",
    "        #print(' ')  # этот print выводит разделительную пустую строку\n",
    "\n",
    "class Curator(Human):\n",
    "    def __init__(self, name):\n",
    "        super().__init__(name)\n",
    "        \n",
    "    def answer_question(self, question):\n",
    "        # здесь нужно проверить, пришёл куратору знакомый вопрос или нет\n",
    "        # если да - ответить на него\n",
    "        # если нет - вызвать метод answer_question() у родительского класса\n",
    "        if question == 'мне грустненько, что делать?':\n",
    "            print('Держись, всё получится. Хочешь видео с котиками?')\n",
    "        else:\n",
    "            super().answer_question(question)\n",
    "\n",
    "student1 = Student('Тимофей')\n",
    "curator = Curator('Марина')\n",
    "\n",
    "#student1.ask_question(student1, 'когда каникулы?')\n",
    "student1.ask_question(curator, 'мне грустненько, что делать?')\n",
    "curator.answer_question('мне грустненько, что делать?')"
   ]
  },
  {
   "cell_type": "code",
   "execution_count": 8,
   "metadata": {
    "tags": []
   },
   "outputs": [
    {
     "name": "stdout",
     "output_type": "stream",
     "text": [
      "3\n"
     ]
    }
   ],
   "source": [
    "def func(x, y):\n",
    "        return x+y\n",
    "#print(type(func))\n",
    "\n",
    "# посмотрим, по какому адресу в памяти сохранена функция func()\n",
    "#hex(id(func))\n",
    "\n",
    "new_func = func\n",
    "#print(new_func(1, 2))\n",
    "#hex(id(new_func))\n",
    "\n",
    "func = 'just a string'\n",
    "#print(func)\n",
    "\n",
    "def apply(f, x, y):\n",
    "        return f(x, y)\n",
    "print(apply(new_func, 1, 2))"
   ]
  },
  {
   "cell_type": "code",
   "execution_count": 9,
   "metadata": {
    "tags": []
   },
   "outputs": [
    {
     "name": "stdout",
     "output_type": "stream",
     "text": [
      "4\n",
      "10\n",
      "10\n"
     ]
    }
   ],
   "source": [
    "def operation(name):\n",
    "\n",
    "         def add(x, y):\n",
    "                 return x + y\n",
    "\n",
    "         def mul(x, y):\n",
    "                 return x * y\n",
    "\n",
    "         if name == 'add':\n",
    "                 return add\n",
    "\n",
    "         if name == 'mul':\n",
    "                 return mul\n",
    "\n",
    "# сложение\n",
    "op = operation('add')\n",
    "print(op(1, 3))\n",
    "# результат: 4\n",
    "\n",
    "# умножение\n",
    "op2 = operation('mul')\n",
    "print(op2(2, 5))\n",
    "# результат: 10\n",
    "\n",
    "# или даже так: умножение, но без промежуточной функции\n",
    "print(operation('mul')(2, 5))\n",
    "# результат: 10"
   ]
  },
  {
   "cell_type": "code",
   "execution_count": 15,
   "metadata": {
    "tags": []
   },
   "outputs": [
    {
     "name": "stdout",
     "output_type": "stream",
     "text": [
      "Полезная работа до начала работы функции\n",
      "Я полезная функция\n",
      "Полезная работа после выполнения функции\n"
     ]
    }
   ],
   "source": [
    "def wrapper(func):\n",
    "        # какие-то действия с func\n",
    "        _cache = {'counter': 0}\n",
    "\n",
    "        def added_value():\n",
    "                _cache['counter'] = _cache['counter'] + 1\n",
    "                print(\"Полезная работа до начала работы функции\")\n",
    "                func()\n",
    "                print(\"Полезная работа после выполнения функции\")\n",
    "        return added_value\n",
    "\n",
    "\n",
    "#def some_func():\n",
    "#        print(\"Я полезная функция\")\n",
    "\n",
    "#do = wrapper(some_func)\n",
    "#do()\n",
    "\n",
    "#some_func = wrapper(some_func)\n",
    "#some_func()\n",
    "\n",
    "@wrapper # оборачиваем some_func() в декоратор wrapper()\n",
    "def some_func():\n",
    "        print(\"Я полезная функция\")\n",
    "some_func()\n"
   ]
  },
  {
   "cell_type": "code",
   "execution_count": null,
   "metadata": {},
   "outputs": [],
   "source": [
    "# функция-обертка\n",
    "def wrapper(func):\n",
    "        # какие-то действия с func\n",
    "        # функция-исполнитель\n",
    "        # получает аргументы из декорируемой функции\n",
    "        def added_value(*args, **kwargs):\n",
    "                print(\"Полезная работа до начала работы функции\")\n",
    "                func(*args, **kwargs)\n",
    "                # напечатаем аргументы\n",
    "                print (args)\n",
    "                print (kwargs)\n",
    "                print(\"Полезная работа после выполнения функции\")\n",
    "        return added_value\n",
    "\n",
    "\n",
    "@wrapper  # декоратор\n",
    "def some_func():  # декорируемая функция\n",
    "        # код функции\n",
    "        pass"
   ]
  },
  {
   "cell_type": "code",
   "execution_count": 26,
   "metadata": {
    "tags": []
   },
   "outputs": [
    {
     "name": "stdout",
     "output_type": "stream",
     "text": [
      "Run with args=(2, 2), memo={}\n",
      "Run func(2, 2)\n",
      "Run with args=(2, 2), memo={(2, 2): 4}\n",
      "Run with args=(2, 3), memo={(2, 2): 4}\n",
      "Run func(2, 3)\n"
     ]
    },
    {
     "data": {
      "text/plain": [
       "8"
      ]
     },
     "execution_count": 26,
     "metadata": {},
     "output_type": "execute_result"
    }
   ],
   "source": [
    "def memorize(wrapped):\n",
    "    memo = dict()\n",
    "\n",
    "    def wrapper(*args):\n",
    "        print(f'Run with args={args}, memo={memo}')\n",
    "        if args not in memo:\n",
    "            memo[args] = wrapped(*args)\n",
    "        return memo[args]\n",
    "    return wrapper\n",
    "\n",
    "@memorize\n",
    "def func(a, b):\n",
    "    print(f'Run func({a}, {b})')\n",
    "    return a ** b\n",
    "func(2, 2)\n",
    "func(2, 2)\n",
    "func(2, 3)"
   ]
  },
  {
   "cell_type": "code",
   "execution_count": 1,
   "metadata": {},
   "outputs": [
    {
     "name": "stdout",
     "output_type": "stream",
     "text": [
      "In Class2\n"
     ]
    }
   ],
   "source": [
    "class Class1:\n",
    "    def m(self):\n",
    "        print(\"In Class1\")\n",
    "\n",
    "class Class2(Class1):\n",
    "    def m(self):\n",
    "        print(\"In Class2\")\n",
    "\n",
    "class Class3(Class1):\n",
    "    def m(self):\n",
    "        print(\"In Class3\")\n",
    "\n",
    "class Class4(Class2, Class3):\n",
    "        pass\n",
    "\n",
    "def main():\n",
    "    obj = Class4()\n",
    "    obj.m() \n",
    "\n",
    "main()"
   ]
  },
  {
   "cell_type": "code",
   "execution_count": null,
   "metadata": {},
   "outputs": [],
   "source": [
    "class Point:\n",
    "    'this class represent the Point'\n",
    "    pass\n",
    "\n",
    "\n",
    "inst_point = Point()\n",
    "inst_point.x = 1\n",
    "inst_point.y = 2\n",
    "\n",
    "print(inst_point.x, inst_point.y)\n",
    "\n",
    "#print(inst_point.__doc__)\n",
    "print(help(inst_point))"
   ]
  },
  {
   "cell_type": "code",
   "execution_count": 2,
   "metadata": {},
   "outputs": [
    {
     "name": "stdout",
     "output_type": "stream",
     "text": [
      "blue\n",
      "red\n"
     ]
    }
   ],
   "source": [
    "class Vehicle(object):\n",
    "    \"\"\"docstring\"\"\"\n",
    "\n",
    "    def __init__(self, color, doors, tires) -> None:\n",
    "        \"\"\"Constructor\"\"\"\n",
    "        #super().__init__()\n",
    "        self.color = color\n",
    "        self.doors = doors\n",
    "        self.tiers = tires\n",
    "\n",
    "    def brake(self):\n",
    "        \"\"\"Stop the caar\"\"\"\n",
    "        return \"braking\"\n",
    "\n",
    "    def drive(self):\n",
    "        \"\"\"Drive the car\"\"\"\n",
    "        return \"i'm driving\"\n",
    "\n",
    "if __name__ == \"__main__\":\n",
    "    car = Vehicle('blue', 5, 4)\n",
    "    print(car.color)\n",
    "\n",
    "    truck = Vehicle('red', 3, 6)\n",
    "    print(truck.color)"
   ]
  }
 ],
 "metadata": {
  "kernelspec": {
   "display_name": "Python 3.10.0 ('.env_jupyter': venv)",
   "language": "python",
   "name": "python3"
  },
  "language_info": {
   "codemirror_mode": {
    "name": "ipython",
    "version": 3
   },
   "file_extension": ".py",
   "mimetype": "text/x-python",
   "name": "python",
   "nbconvert_exporter": "python",
   "pygments_lexer": "ipython3",
   "version": "3.10.0"
  },
  "orig_nbformat": 2,
  "vscode": {
   "interpreter": {
    "hash": "acd7119d548134a99e6f9d1f29df8db3a357202429f0f56f73b34e23b90bc877"
   }
  }
 },
 "nbformat": 4,
 "nbformat_minor": 2
}
