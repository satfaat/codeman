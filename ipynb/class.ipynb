{
 "metadata": {
  "language_info": {
   "codemirror_mode": {
    "name": "ipython",
    "version": 3
   },
   "file_extension": ".py",
   "mimetype": "text/x-python",
   "name": "python",
   "nbconvert_exporter": "python",
   "pygments_lexer": "ipython3",
   "version": "3.8.5-final"
  },
  "orig_nbformat": 2,
  "kernelspec": {
   "name": "python38532bit2d61253de92f42c4b49c810f50ab8c57",
   "display_name": "Python 3.8.5 32-bit"
  }
 },
 "nbformat": 4,
 "nbformat_minor": 2,
 "cells": [
  {
   "cell_type": "code",
   "execution_count": 15,
   "source": [
    "# Class\r\n",
    "\r\n",
    "class CountFromBy:\r\n",
    "    #pass\r\n",
    "    def __init__(self, v: int=0, i: int=1):\r\n",
    "        self.val = v\r\n",
    "        self.incr = i\r\n",
    "\r\n",
    "    def increase(self) -> None:\r\n",
    "        self.val += self.incr\r\n",
    "    \r\n",
    "    def __repr__(self):\r\n",
    "        return str(self.val)\r\n",
    "\r\n",
    "a = CountFromBy(100, 10)\r\n",
    "a.val\r\n",
    "a.increase()\r\n",
    "a.val\r\n",
    "type(a)\r\n",
    "id(a)\r\n",
    "hex(id(a))\r\n",
    "#b = CountFromBy()"
   ],
   "outputs": [
    {
     "output_type": "execute_result",
     "data": {
      "text/plain": [
       "'0x2d2c983a8e0'"
      ]
     },
     "metadata": {},
     "execution_count": 15
    }
   ],
   "metadata": {}
  },
  {
   "cell_type": "code",
   "execution_count": null,
   "source": [
    "class Contact: \r\n",
    "    def __init__(self, name, phone, address, birthday): # функция, которая принимает аргументы name, phone, address, birthday, создаёт объект и в нём сохраняет их значения \r\n",
    "        self.name = name\r\n",
    "        self.phone = phone\r\n",
    "        self.address = address \r\n",
    "        self.birthday = birthday\r\n",
    "\r\n",
    "# cоздаём объект leo класса Contact с набором свойств:\r\n",
    "leo = Contact(name=\"Лев Толстой\", phone=\"+7 (123) 456-78-90\", address=\"Ясная Поляна\", birthday=\"9.09.1828\")\r\n",
    "# а можно так, покороче:\r\n",
    "leo = Contact(\"Лев Толстой\", \"+7 (123) 456-78-90\", \"Ясная Поляна\", \"9.09.1828\")"
   ],
   "outputs": [],
   "metadata": {}
  },
  {
   "cell_type": "code",
   "execution_count": 3,
   "source": [
    "class Contact:\r\n",
    "    def __init__(self, name, phone, address, birthday):\r\n",
    "        self.name = name\r\n",
    "        self.phone = phone\r\n",
    "        self.address = address\r\n",
    "        self.birthday = birthday\r\n",
    "        print(f\"Создаём новый контакт {name}\")\r\n",
    "\r\n",
    "# здесь создайте объекты mike и vlad\r\n",
    "mike = Contact('Михаил Булгаков', '2-03-27', 'Россия, Москва, Большая Пироговская, дом 35б, кв. 6', '15.05.1891')\r\n",
    "vlad = Contact('Владимир Маяковский', '73-88', 'Россия, Москва, Лубянский проезд, д. 3, кв. 12', '19.07.1893')\r\n",
    "\r\n",
    "def print_contact():\r\n",
    "    print(f\"{mike.name} — адрес: {mike.address}, телефон: {mike.phone}, день рождения: {mike.birthday}\")\r\n",
    "    print(f\"{vlad.name} — адрес: {vlad.address}, телефон: {vlad.phone}, день рождения: {vlad.birthday}\")\r\n",
    "\r\n",
    "mike.address = 'Россия, Москва, Нащокинский переулок, дом 3, кв. 44'\r\n",
    "mike.phone = 'К-058-67'\r\n",
    "\r\n",
    "vlad.address = 'Россия, Москва, Гендриков переулок, дом 15, кв. 5'\r\n",
    "vlad.phone = '2-35-71'\r\n",
    "\r\n",
    "print_contact()"
   ],
   "outputs": [
    {
     "output_type": "stream",
     "name": "stdout",
     "text": [
      "Создаём новый контакт Михаил Булгаков\n",
      "Создаём новый контакт Владимир Маяковский\n",
      "Михаил Булгаков — адрес: Россия, Москва, Нащокинский переулок, дом 3, кв. 44, телефон: К-058-67, день рождения: 15.05.1891\n",
      "Владимир Маяковский — адрес: Россия, Москва, Гендриков переулок, дом 15, кв. 5, телефон: 2-35-71, день рождения: 19.07.1893\n"
     ]
    }
   ],
   "metadata": {
    "tags": []
   }
  },
  {
   "cell_type": "code",
   "execution_count": 4,
   "source": [
    "class Contact:\r\n",
    "    def __init__(self, name, phone, birthday, address):\r\n",
    "        self.name = name\r\n",
    "        self.phone = phone\r\n",
    "        self.birthday = birthday\r\n",
    "        self.address = address\r\n",
    "        print(f\"Создаём новый контакт {name}\")\r\n",
    "        \r\n",
    "    def show_contact(self):\r\n",
    "        print(f\"{self.name} — адрес: {self.address}, телефон: {self.phone}, день рождения: {self.birthday}\")\r\n",
    "\r\n",
    "mike = Contact(\"Михаил Булгаков\", \"2-03-27\", \"15.05.1891\", \"Россия, Москва, Большая Пироговская, дом 35б, кв. 6\")\r\n",
    "vlad = Contact(\"Владимир Маяковский\", \"73-88\", \"19.07.1893\", \"Россия, Москва, Лубянский проезд, д. 3, кв. 12\")\r\n",
    "\r\n",
    "#Contact.show_contact(mike)\r\n",
    "#Contact.show_contact(vlad)\r\n",
    "mike.show_contact()\r\n",
    "vlad.show_contact()"
   ],
   "outputs": [
    {
     "output_type": "stream",
     "name": "stdout",
     "text": [
      "Создаём новый контакт Михаил Булгаков\n",
      "Создаём новый контакт Владимир Маяковский\n",
      "Владимир Маяковский — адрес: Россия, Москва, Лубянский проезд, д. 3, кв. 12, телефон: 73-88, день рождения: 19.07.1893\n",
      "Михаил Булгаков — адрес: Россия, Москва, Большая Пироговская, дом 35б, кв. 6, телефон: 2-03-27, день рождения: 15.05.1891\n"
     ]
    }
   ],
   "metadata": {
    "tags": []
   }
  },
  {
   "cell_type": "code",
   "execution_count": null,
   "source": [
    "class Contact:\r\n",
    "    def __init__(self, name, phone, birthday):\r\n",
    "        self.name = name\r\n",
    "        self.phone = phone\r\n",
    "        self.birthday = birthday\r\n",
    "\r\n",
    "        # после создания объекта сообщим об этом\r\n",
    "        print(f\"Создан новый контакт {name}\") \r\n",
    "\r\n",
    "    # создадим метод show для вывода на печать данных любого контакта:\r\n",
    "    def show(self):\r\n",
    "        print(f\"Имя: {self.name}, телефон: {self.phone}, день рождения: {self.birthday}\")\r\n",
    "\r\n",
    "    def __str__(self):\r\n",
    "        # можно задать любую строку, например «Не печатай меня, ведь я — объект!»,\r\n",
    "        # но лучше пусть при печати выводится осмысленное название объекта и имя        \r\n",
    "        return \"Контакт: \" + self.name\r\n",
    "\r\n",
    "# теперь можно создать объект класса Contact, передав в конструктор значения:\r\n",
    "ivan = Contact(name=\"Иван\", phone=\"+155512345\", birthday=\"2.12.1985\")\r\n",
    "\r\n",
    "# а можно использовать сокращённый синтаксис:\r\n",
    "maria = Contact(\"Марья\", \"+277734567\", \"4.04.1999\")\r\n",
    "\r\n",
    "# вызовем метод show() для объекта ivan:\r\n",
    "ivan.show() # будет напечатано: \"Имя: Иван, телефон: +155512345, день рождения: 2.12.1985\"\r\n",
    "print(ivan)"
   ],
   "outputs": [],
   "metadata": {}
  },
  {
   "cell_type": "code",
   "execution_count": null,
   "source": [
    "import math # импортируйте библиотеку math\r\n",
    "\r\n",
    "class Planet:\r\n",
    "    def __init__(self, name, radius, temp_celsius):\r\n",
    "        self.name = name\r\n",
    "        self.surface_area = 4 * math.pi * radius * radius # здесь вычислите площадь поверхности шара\r\n",
    "        self.average_temp_celcius = temp_celsius\r\n",
    "        self.average_temp_fahrenheit = temp_celsius * 9 / 5 + 32 # здесь переведите температуру в градусы Фаренгейта\r\n",
    "\r\n",
    "    def show_info(self):\r\n",
    "        print(f\"Планета {self.name} имеет площадь поверхности {self.surface_area} кв.км.\")\r\n",
    "        print(f\"Средняя температура поверхности планеты: {self.average_temp_fahrenheit}° по Фаренгейту.\")\r\n",
    "\r\n",
    "jupiter = Planet('Юпитер', 69911, -108)\r\n",
    "jupiter.show_info()"
   ],
   "outputs": [],
   "metadata": {}
  },
  {
   "cell_type": "code",
   "execution_count": null,
   "source": [
    "class User:\r\n",
    "    def __init__(self, name, phone):\r\n",
    "        self.name = name\r\n",
    "        self.phone = phone\r\n",
    "    def show(self):\r\n",
    "        print(f'{self.name} ({self.phone})')\r\n",
    "\r\n",
    "# объявляем класс Friend, дочерний по отношению к классу User\r\n",
    "class Friend(User):\r\n",
    "    def show(self):\r\n",
    "        print(f'Имя: {self.name} || Телефон: {self.phone}')\r\n",
    "\r\n",
    "# создаём объекты User и Friend\r\n",
    "father = User(\"Дюма-отец\", \"+33 3 23 96 23 30\")\r\n",
    "son = Friend(\"Дюма-сын\", \"+33 3 23 96 23 30\")\r\n",
    "\r\n",
    "father.show()\r\n",
    "son.show()"
   ],
   "outputs": [],
   "metadata": {}
  },
  {
   "cell_type": "code",
   "execution_count": null,
   "source": [
    "class User:\r\n",
    "    def __init__(self, name, phone):\r\n",
    "        self.name = name\r\n",
    "        self.phone = phone\r\n",
    "    def show(self):\r\n",
    "        print(f'{self.name} ({self.phone})')\r\n",
    "\r\n",
    "# наследуем класс Friend от User\r\n",
    "class Friend(User): \r\n",
    "    # пишем конструктор класса-наследника, чтобы он принимал все нужные параметры\r\n",
    "    def __init__(self, name, phone, address): \r\n",
    "        # наследуем функциональность конструктора из класса-родителя\r\n",
    "        super().__init__(name, phone) \r\n",
    "        # добавляем новую функциональность: свойство address\r\n",
    "        self.address = address\r\n",
    "    # полностью переопределяем родительский метод show()\r\n",
    "    def show(self):\r\n",
    "        print(f'Имя: {self.name} || Телефон: {self.phone} || Адрес: {self.address}')"
   ],
   "outputs": [],
   "metadata": {}
  },
  {
   "cell_type": "code",
   "execution_count": null,
   "source": [
    "class Bird:\r\n",
    "    #  Это конструктор, он вызывается при создании объекта\r\n",
    "    def __init__(self, name, size):\r\n",
    "        self.name = name\r\n",
    "        self.size = size        \r\n",
    "    def show(self):\r\n",
    "        # вызывается для вывода на экран всех свойств объекта\r\n",
    "        # это интерфейс класса, к нему можно обратиться из внешнего кода\r\n",
    "        print(f'{self.name} носит одежду размера «{self.size}».')\r\n",
    "\r\n",
    "# Создание объекта\r\n",
    "sparrow = Bird('Воробей', 'S')\r\n",
    "# Теперь можно воспользоваться его внешним интерфейсом: методом show()\r\n",
    "sparrow.show()\r\n",
    "\r\n",
    "# Результат: Воробей носит одежду размера «S»."
   ],
   "outputs": [],
   "metadata": {}
  },
  {
   "cell_type": "code",
   "execution_count": null,
   "source": [
    "class Bird:\r\n",
    "    def __init__(self, name, size):\r\n",
    "        # Это конструктор, он вызывается при создании объекта\r\n",
    "        self.name = name\r\n",
    "        self.size = size\r\n",
    "    def show(self):\r\n",
    "        # вызывается для вывода на экран всех свойств объекта\r\n",
    "        print(f'{self.name} носит одежду размера «{self.size}».')\r\n",
    "\r\n",
    "class Parrot(Bird):\r\n",
    "    def __init__(self, name, size, sound):\r\n",
    "        super().__init__(name, size)\r\n",
    "        self.sound = sound\r\n",
    "    def show(self):\r\n",
    "        # вызывается для вывода на экран всех свойств объекта\r\n",
    "        print(f'{self.name} носит одежду размера «{self.size}» и {self.sound}.')\r\n",
    "\r\n",
    "# Создание объектов \r\n",
    "sparrow = Bird('Воробей', 'S')\r\n",
    "ara = Parrot('Попугай ара', 'XL', 'разговаривает')\r\n",
    "nymphicus = Parrot('Попугай Корелла', 'S', 'щебечет')\r\n",
    "\r\n",
    "# Теперь можно воспользоваться его внешним интерфейсом: методом show()\r\n",
    "sparrow.show()\r\n",
    "ara.show()\r\n",
    "nymphicus.show()\r\n",
    "\r\n",
    "# Результат:\r\n",
    "# Воробей носит одежду размера «S».\r\n",
    "# Попугай ара носит одежду размера «XL» и разговаривает.\r\n",
    "# Попугай Корелла носит одежду размера «S» и щебечет."
   ],
   "outputs": [],
   "metadata": {}
  },
  {
   "cell_type": "code",
   "execution_count": null,
   "source": [
    "class Bird:\r\n",
    "    def __init__(self, name, size):\r\n",
    "            self.name = name\r\n",
    "            self.size = size\r\n",
    "    def show(self):       \r\n",
    "            print(f'{self.name} носит одежду размера «{self.size}».')\r\n",
    "\r\n",
    "class Parrot(Bird):\r\n",
    "    def __init__(self, name, size, sound):\r\n",
    "        super().__init__(name, size)\r\n",
    "        self.sound = sound\r\n",
    "    def show(self):\r\n",
    "        print(f'{self.name} носит одежду размера «{self.size}» и {self.sound}.')\r\n",
    "\r\n",
    "class Predator(Bird):\r\n",
    "    def __init__(self, name, size, claws_size):\r\n",
    "        super().__init__(name, size)\r\n",
    "        self.claws_size = claws_size\r\n",
    "    def show(self):\r\n",
    "        print(f'{self.name} носит одежду размера «{self.size}» и когти размера {self.claws_size}.')\r\n",
    "\r\n",
    "class Egg(Predator):\r\n",
    "    def show(self):\r\n",
    "        print(f'Из яйца вылупится птичка {self.name} размера «{self.size}» с когтями размера {self.claws_size}.')"
   ],
   "outputs": [],
   "metadata": {}
  },
  {
   "cell_type": "code",
   "execution_count": null,
   "source": [
    "class User:\r\n",
    "    def __init__(self, name, phone):\r\n",
    "        self.name = name\r\n",
    "        self.phone = phone\r\n",
    "\r\n",
    "    def show(self):\r\n",
    "        print(f'{self.name} ({self.phone})')\r\n",
    "\r\n",
    "class Friend(User):\r\n",
    "    def show(self):\r\n",
    "        print(f'Имя: {self.name} || Телефон: {self.phone}')\r\n",
    "\r\n",
    "user = User(\"Виктор Гюго\", \"+33 1 42 72 10 16\")\r\n",
    "# у класса friend нет конструктора, но он есть\r\n",
    "# у родительского класса User, поэтому код сработает\r\n",
    "friend = Friend(\"Виктор Гюго\", \"+33 1 42 72 10 16\")\r\n",
    "\r\n",
    "user.show()\r\n",
    "friend.show()"
   ],
   "outputs": [],
   "metadata": {}
  },
  {
   "cell_type": "code",
   "execution_count": 1,
   "source": [
    "# импортируем функции из библиотеки math для рассчёта расстояния\r\n",
    "from math import radians, sin, cos, acos\r\n",
    "\r\n",
    "class Point:\r\n",
    "    def __init__(self, latitude, longitude):\r\n",
    "        self.latitude = radians(latitude)\r\n",
    "        self.longitude = radians(longitude)\r\n",
    "\r\n",
    "    # считаем расстояние между двумя точками в км\r\n",
    "    def distance(self, other):\r\n",
    "        cos_d = sin(self.latitude) * sin(other.latitude) + cos(self.latitude) * cos(other.latitude) * cos(\r\n",
    "        self.longitude - other.longitude)\r\n",
    "        return 6371 * acos(cos_d)\r\n",
    "\r\n",
    "class City(Point):\r\n",
    "    def __init__(self, latitude, longitude, name, population):\r\n",
    "        super().__init__(latitude, longitude)\r\n",
    "        self.name = name\r\n",
    "        self.population = population\r\n",
    "\r\n",
    "    def show(self):\r\n",
    "        print(f\"Город {self.name}, население {self.population} чел.\")\r\n",
    "\r\n",
    "\r\n",
    "class Mountain(Point):\r\n",
    "    def __init__(self, latitude, longitude, name, height):\r\n",
    "        super().__init__(latitude, longitude)\r\n",
    "        self.name = name\r\n",
    "        self.height = height\r\n",
    "\r\n",
    "    def show(self):\r\n",
    "        print(f\"Высота горы {self.name} - {self.height} м.\")\r\n",
    "\r\n",
    "\r\n",
    "# эта функция печатает расстояние\r\n",
    "# между двумя любыми наследниками класса Point\r\n",
    "def print_how_far(geo_object_1, geo_object_2):\r\n",
    "    print(f'От точки «{geo_object_1.name}» до точки «{geo_object_2.name}» — {geo_object_1.distance(geo_object_2)} км.')\r\n",
    "\r\n",
    "# основной код\r\n",
    "moscow = City(55.7522200, 37.6155600, 'Москва', 12615882)\r\n",
    "everest = Mountain(27.98791, 86.92529, 'Эверест', 8848)\r\n",
    "chelyabinsk = City(55.154, 61.4291, 'Челябинск', 1200703)\r\n",
    "\r\n",
    "moscow.show()\r\n",
    "everest.show()\r\n",
    "print_how_far(moscow, everest)\r\n",
    "print_how_far(moscow, chelyabinsk)"
   ],
   "outputs": [
    {
     "output_type": "stream",
     "name": "stdout",
     "text": [
      "Город Москва, население 12615882 чел.\n",
      "Высота горы Эверест - 8848 м.\n",
      "От точки «Москва» до точки «Эверест» — 4960.292203587949 км.\n",
      "От точки «Москва» до точки «Челябинск» — 1495.6655965788932 км.\n"
     ]
    }
   ],
   "metadata": {
    "tags": []
   }
  },
  {
   "cell_type": "code",
   "execution_count": null,
   "source": [
    "class Human:\r\n",
    "    def __init__(self, name):\r\n",
    "        self.name = name\r\n",
    "\r\n",
    "    # ответ по умолчанию для всех одинаковый, можно \r\n",
    "    # доверить его родительскому классу\r\n",
    "    def answer_question(self, question):\r\n",
    "        print('Очень интересный вопрос! Не знаю.')\r\n",
    "\r\n",
    "class Student(Human):\r\n",
    "    def __init__(self, name):\r\n",
    "        super().__init__(name)\r\n",
    "        \r\n",
    "    #  метод ask_question() принимает параметр someone:\r\n",
    "    #  это объект, экземпляр класса Curator, Mentor или CodeReviewer,\r\n",
    "    #  которому Student задаёт вопрос; \r\n",
    "    #  параметр question — это просто строка\r\n",
    "    #  имя объекта и текст вопроса задаются при вызове метода ask_question\r\n",
    "    def ask_question(self, someone, question):\r\n",
    "        # напечатайте на экран вопрос в нужном формате\r\n",
    "        print(f'{someone.name}, {question}')\r\n",
    "        # запросите ответ на вопрос у someone\r\n",
    "        someone.answer_question(question)\r\n",
    "        print('')  # этот print выводит разделительную пустую строку\t\r\n",
    "\r\n",
    "class Curator(Human):\r\n",
    "    def __init__(self, name):\r\n",
    "        super().__init__(name)\r\n",
    "        \r\n",
    "    def answer_question(self, question):\r\n",
    "        # здесь нужно проверить, пришёл куратору знакомый вопрос или нет\r\n",
    "        # если да - ответить на него\r\n",
    "        # если нет - вызвать метод answer_question() у родительского класса\r\n",
    "        if question == 'мне грустненько, что делать?':\r\n",
    "            print('Держись, всё получится. Хочешь видео с котиками?')\r\n",
    "        else:\r\n",
    "            super().answer_question(question)\r\n",
    "            \r\n",
    "# объявите и реализуйте классы CodeReviewer и Mentor\r\n",
    "class CodeReviewer(Human):\r\n",
    "    def __init__(self, name):\r\n",
    "        super().__init__(name)\r\n",
    "        \r\n",
    "    def answer_question(self, question):\r\n",
    "        # здесь нужно проверить, пришёл куратору знакомый вопрос или нет\r\n",
    "        # если да - ответить на него\r\n",
    "        # если нет - вызвать метод answer_question() у родительского класса\r\n",
    "        if question == 'что не так с моим проектом?':\r\n",
    "            print('О, вопрос про проект, это я люблю.')\r\n",
    "        else:\r\n",
    "            super().answer_question(question)\r\n",
    "\r\n",
    "class Mentor(Human): # Ира\r\n",
    "    def __init__(self, name):\r\n",
    "        super().__init__(name)\r\n",
    "        \r\n",
    "    def answer_question(self, question):\r\n",
    "        # здесь нужно проверить, пришёл куратору знакомый вопрос или нет\r\n",
    "        # если да - ответить на него\r\n",
    "        # если нет - вызвать метод answer_question() у родительского класса\r\n",
    "        if question == 'мне грустненько, что делать?':\r\n",
    "            print('Отдохни и возвращайся с вопросами по теории.')\r\n",
    "        elif question == 'как устроиться работать питонистом?':\r\n",
    "            print('Сейчас расскажу.')\r\n",
    "        else:\r\n",
    "            super().answer_question(question)\r\n",
    "            \r\n",
    "# следующий код менять не нужно, он работает, мы проверяли\r\n",
    "student1 = Student('Тимофей')\r\n",
    "curator = Curator('Марина')\r\n",
    "mentor = Mentor('Ира')\r\n",
    "reviewer = CodeReviewer('Евгений')\r\n",
    "friend = Human('Виталя')\r\n",
    "\r\n",
    "student1.ask_question(curator, 'мне грустненько, что делать?')\r\n",
    "student1.ask_question(mentor, 'мне грустненько, что делать?')\r\n",
    "student1.ask_question(reviewer, 'когда каникулы?')\r\n",
    "student1.ask_question(reviewer, 'что не так с моим проектом?')\r\n",
    "student1.ask_question(friend, 'как устроиться на работу питонистом?')\r\n",
    "student1.ask_question(mentor, 'как устроиться работать питонистом?')"
   ],
   "outputs": [],
   "metadata": {}
  },
  {
   "cell_type": "code",
   "execution_count": 15,
   "source": [
    "class Human:\r\n",
    "    def __init__(self, name):\r\n",
    "        self.name = name\r\n",
    "    def answer_question(self, question):\r\n",
    "        print('Очень интересный вопрос! Не знаю.')\r\n",
    "\r\n",
    "class Student(Human):\r\n",
    "    def __init__(self, name):\r\n",
    "        super().__init__(name)\r\n",
    "    def ask_question(self, someone, question):\r\n",
    "        print(f'{someone.name}, {question}')\r\n",
    "        #print(' ')  # этот print выводит разделительную пустую строку\r\n",
    "\r\n",
    "class Curator(Human):\r\n",
    "    def __init__(self, name):\r\n",
    "        super().__init__(name)\r\n",
    "        \r\n",
    "    def answer_question(self, question):\r\n",
    "        # здесь нужно проверить, пришёл куратору знакомый вопрос или нет\r\n",
    "        # если да - ответить на него\r\n",
    "        # если нет - вызвать метод answer_question() у родительского класса\r\n",
    "        if question == 'мне грустненько, что делать?':\r\n",
    "            print('Держись, всё получится. Хочешь видео с котиками?')\r\n",
    "        else:\r\n",
    "            super().answer_question(question)\r\n",
    "\r\n",
    "student1 = Student('Тимофей')\r\n",
    "curator = Curator('Марина')\r\n",
    "\r\n",
    "#student1.ask_question(student1, 'когда каникулы?')\r\n",
    "student1.ask_question(curator, 'мне грустненько, что делать?')\r\n",
    "curator.answer_question('мне грустненько, что делать?')"
   ],
   "outputs": [
    {
     "output_type": "stream",
     "name": "stdout",
     "text": [
      "Марина, мне грустненько, что делать?\n",
      "Держись, всё получится. Хочешь видео с котиками?\n"
     ]
    }
   ],
   "metadata": {
    "tags": []
   }
  },
  {
   "cell_type": "code",
   "execution_count": 8,
   "source": [
    "def func(x, y):\r\n",
    "        return x+y\r\n",
    "#print(type(func))\r\n",
    "\r\n",
    "# посмотрим, по какому адресу в памяти сохранена функция func()\r\n",
    "#hex(id(func))\r\n",
    "\r\n",
    "new_func = func\r\n",
    "#print(new_func(1, 2))\r\n",
    "#hex(id(new_func))\r\n",
    "\r\n",
    "func = 'just a string'\r\n",
    "#print(func)\r\n",
    "\r\n",
    "def apply(f, x, y):\r\n",
    "        return f(x, y)\r\n",
    "print(apply(new_func, 1, 2))"
   ],
   "outputs": [
    {
     "output_type": "stream",
     "name": "stdout",
     "text": [
      "3\n"
     ]
    }
   ],
   "metadata": {
    "tags": []
   }
  },
  {
   "cell_type": "code",
   "execution_count": 9,
   "source": [
    "def operation(name):\r\n",
    "\r\n",
    "         def add(x, y):\r\n",
    "                 return x + y\r\n",
    "\r\n",
    "         def mul(x, y):\r\n",
    "                 return x * y\r\n",
    "\r\n",
    "         if name == 'add':\r\n",
    "                 return add\r\n",
    "\r\n",
    "         if name == 'mul':\r\n",
    "                 return mul\r\n",
    "\r\n",
    "# сложение\r\n",
    "op = operation('add')\r\n",
    "print(op(1, 3))\r\n",
    "# результат: 4\r\n",
    "\r\n",
    "# умножение\r\n",
    "op2 = operation('mul')\r\n",
    "print(op2(2, 5))\r\n",
    "# результат: 10\r\n",
    "\r\n",
    "# или даже так: умножение, но без промежуточной функции\r\n",
    "print(operation('mul')(2, 5))\r\n",
    "# результат: 10"
   ],
   "outputs": [
    {
     "output_type": "stream",
     "name": "stdout",
     "text": [
      "4\n",
      "10\n",
      "10\n"
     ]
    }
   ],
   "metadata": {
    "tags": []
   }
  },
  {
   "cell_type": "code",
   "execution_count": 15,
   "source": [
    "def wrapper(func):\r\n",
    "        # какие-то действия с func\r\n",
    "        _cache = {'counter': 0}\r\n",
    "\r\n",
    "        def added_value():\r\n",
    "                _cache['counter'] = _cache['counter'] + 1\r\n",
    "                print(\"Полезная работа до начала работы функции\")\r\n",
    "                func()\r\n",
    "                print(\"Полезная работа после выполнения функции\")\r\n",
    "        return added_value\r\n",
    "\r\n",
    "\r\n",
    "#def some_func():\r\n",
    "#        print(\"Я полезная функция\")\r\n",
    "\r\n",
    "#do = wrapper(some_func)\r\n",
    "#do()\r\n",
    "\r\n",
    "#some_func = wrapper(some_func)\r\n",
    "#some_func()\r\n",
    "\r\n",
    "@wrapper # оборачиваем some_func() в декоратор wrapper()\r\n",
    "def some_func():\r\n",
    "        print(\"Я полезная функция\")\r\n",
    "some_func()\r\n"
   ],
   "outputs": [
    {
     "output_type": "stream",
     "name": "stdout",
     "text": [
      "Полезная работа до начала работы функции\n",
      "Я полезная функция\n",
      "Полезная работа после выполнения функции\n"
     ]
    }
   ],
   "metadata": {
    "tags": []
   }
  },
  {
   "cell_type": "code",
   "execution_count": null,
   "source": [
    "# функция-обертка\r\n",
    "def wrapper(func):\r\n",
    "        # какие-то действия с func\r\n",
    "        # функция-исполнитель\r\n",
    "        # получает аргументы из декорируемой функции\r\n",
    "        def added_value(*args, **kwargs):\r\n",
    "                print(\"Полезная работа до начала работы функции\")\r\n",
    "                func(*args, **kwargs)\r\n",
    "                # напечатаем аргументы\r\n",
    "                print (args)\r\n",
    "                print (kwargs)\r\n",
    "                print(\"Полезная работа после выполнения функции\")\r\n",
    "        return added_value\r\n",
    "\r\n",
    "\r\n",
    "@wrapper  # декоратор\r\n",
    "def some_func():  # декорируемая функция\r\n",
    "        # код функции\r\n",
    "        pass"
   ],
   "outputs": [],
   "metadata": {}
  },
  {
   "cell_type": "code",
   "execution_count": 26,
   "source": [
    "def memorize(wrapped):\r\n",
    "    memo = dict()\r\n",
    "\r\n",
    "    def wrapper(*args):\r\n",
    "        print(f'Run with args={args}, memo={memo}')\r\n",
    "        if args not in memo:\r\n",
    "            memo[args] = wrapped(*args)\r\n",
    "        return memo[args]\r\n",
    "    return wrapper\r\n",
    "\r\n",
    "@memorize\r\n",
    "def func(a, b):\r\n",
    "    print(f'Run func({a}, {b})')\r\n",
    "    return a ** b\r\n",
    "func(2, 2)\r\n",
    "func(2, 2)\r\n",
    "func(2, 3)\r\n",
    "\r\n"
   ],
   "outputs": [
    {
     "output_type": "stream",
     "name": "stdout",
     "text": [
      "Run with args=(2, 2), memo={}\n",
      "Run func(2, 2)\n",
      "Run with args=(2, 2), memo={(2, 2): 4}\n",
      "Run with args=(2, 3), memo={(2, 2): 4}\n",
      "Run func(2, 3)\n"
     ]
    },
    {
     "output_type": "execute_result",
     "data": {
      "text/plain": [
       "8"
      ]
     },
     "metadata": {},
     "execution_count": 26
    }
   ],
   "metadata": {
    "tags": []
   }
  },
  {
   "cell_type": "code",
   "execution_count": 27,
   "source": [
    "for counter in range (3):\r\n",
    "    print('hi')"
   ],
   "outputs": [
    {
     "output_type": "stream",
     "name": "stdout",
     "text": [
      "hi\n",
      "hi\n",
      "hi\n"
     ]
    }
   ],
   "metadata": {
    "tags": []
   }
  },
  {
   "cell_type": "code",
   "execution_count": null,
   "source": [],
   "outputs": [],
   "metadata": {}
  }
 ]
}