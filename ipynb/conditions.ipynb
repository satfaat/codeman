{
 "metadata": {
  "language_info": {
   "codemirror_mode": {
    "name": "ipython",
    "version": 3
   },
   "file_extension": ".py",
   "mimetype": "text/x-python",
   "name": "python",
   "nbconvert_exporter": "python",
   "pygments_lexer": "ipython3",
   "version": "3.9.0-final"
  },
  "orig_nbformat": 2,
  "kernelspec": {
   "name": "python38364bit93b64ca63c7743489b3b311c62aa3ce5",
   "display_name": "Python 3.8.3 64-bit",
   "language": "python"
  }
 },
 "nbformat": 4,
 "nbformat_minor": 2,
 "cells": [
  {
   "cell_type": "code",
   "execution_count": 1,
   "metadata": {
    "tags": []
   },
   "outputs": [
    {
     "output_type": "stream",
     "name": "stderr",
     "text": [
      " 2021-01-29 11:44:31,135 - INFO - Start of example\n",
      " 2021-01-29 11:44:31,137 - DEBUG - Yes, 'quick' is in the list\n",
      " 2021-01-29 11:44:31,137 - DEBUG - ['The', 'quick']\n",
      " 2021-01-29 11:44:31,138 - INFO - End of example\n"
     ]
    }
   ],
   "source": [
    "# conditions\n",
    "\n",
    "import logging\n",
    "logging.basicConfig(level=logging.DEBUG, format=' %(asctime)s - %(levelname)s - %(message)s')\n",
    "# (filename=log.txt, level=...)\n",
    "# logging.disable(logging.CRITICAL)\n",
    "\n",
    "logging.info('Start of example')\n",
    "\n",
    "list = 'The quick brown fox jumps over the lazy dog'.split(' ')\n",
    "\n",
    "if \"quick\" in list:\n",
    "    logging.debug(\"Yes, 'quick' is in the list\")\n",
    "    #print (list[2:])\n",
    "    logging.debug(list[0:2])\n",
    "elif 'fox' in list:\n",
    "    logging.debug(list[3:9])\n",
    "else:\n",
    "    list.append('word') # Add Items\n",
    "#loggin.debug(list)\n",
    "logging.info('End of example')\n"
   ]
  },
  {
   "cell_type": "code",
   "execution_count": 3,
   "metadata": {},
   "outputs": [
    {
     "output_type": "stream",
     "name": "stdout",
     "text": [
      "YES\n"
     ]
    }
   ],
   "source": [
    "class myclass():\n",
    "  def __len__(self):\n",
    "    return 1\n",
    "\n",
    "myobj = myclass()\n",
    "#print(bool(myobj))\n",
    "if myobj:\n",
    "  print('YES')\n",
    "else:\n",
    "  print('No') "
   ]
  },
  {
   "cell_type": "code",
   "execution_count": null,
   "metadata": {},
   "outputs": [],
   "source": []
  }
 ]
}