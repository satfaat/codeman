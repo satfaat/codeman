{
 "cells": [
  {
   "cell_type": "code",
   "execution_count": 2,
   "metadata": {},
   "outputs": [
    {
     "name": "stdout",
     "output_type": "stream",
     "text": [
      "U can't divide by zero\n",
      "U can't divide by zero\n",
      "That key dose not exist\n",
      "the finally statment has executed\n",
      "An IndexError or KeyError occurred: <class 'IndexError'>, <class 'KeyError'>\n"
     ]
    }
   ],
   "source": [
    "exceptions = {'divide': 1, \n",
    "            'message_1':  \"U can't divide by zero\",\n",
    "            'message_2': 'That key dose not exist'\n",
    "            }\n",
    "\n",
    "\n",
    "try:\n",
    "    exceptions['divide']/0\n",
    "except ZeroDivisionError:\n",
    "        print(exceptions['message_1'])\n",
    "\n",
    "try:\n",
    "    exceptions['divide']/0\n",
    "except:\n",
    "    print(exceptions['message_1'])\n",
    "\n",
    "try:\n",
    "    value_1 = exceptions['no_keyname']\n",
    "except KeyError:\n",
    "    print(exceptions['message_2'])\n",
    "else:\n",
    "    print('No error occurred')\n",
    "finally:\n",
    "    print('the finally statment has executed')\n",
    "\n",
    "try:\n",
    "    exceptions['no_keyname']\n",
    "except(IndexError, KeyError):\n",
    "    print(f'An IndexError or KeyError occurred: {IndexError}, {KeyError}')"
   ]
  }
 ],
 "metadata": {
  "interpreter": {
   "hash": "04183954aa68d0139d33e752fbc5395cdfee8e232626fd184685add8210a12bf"
  },
  "kernelspec": {
   "display_name": "Python 3.10.0 64-bit ('.env_jupyter': venv)",
   "language": "python",
   "name": "python3"
  },
  "language_info": {
   "codemirror_mode": {
    "name": "ipython",
    "version": 3
   },
   "file_extension": ".py",
   "mimetype": "text/x-python",
   "name": "python",
   "nbconvert_exporter": "python",
   "pygments_lexer": "ipython3",
   "version": "3.10.0"
  },
  "orig_nbformat": 4
 },
 "nbformat": 4,
 "nbformat_minor": 2
}
