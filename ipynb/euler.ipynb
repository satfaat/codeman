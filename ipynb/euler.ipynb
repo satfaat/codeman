{
 "metadata": {
  "language_info": {
   "codemirror_mode": {
    "name": "ipython",
    "version": 3
   },
   "file_extension": ".py",
   "mimetype": "text/x-python",
   "name": "python",
   "nbconvert_exporter": "python",
   "pygments_lexer": "ipython3",
   "version": "3.9.0"
  },
  "orig_nbformat": 2,
  "kernelspec": {
   "name": "python38364bit93b64ca63c7743489b3b311c62aa3ce5",
   "display_name": "Python 3.8.3 64-bit",
   "language": "python"
  }
 },
 "nbformat": 4,
 "nbformat_minor": 2,
 "cells": [
  {
   "cell_type": "code",
   "execution_count": 6,
   "metadata": {
    "tags": []
   },
   "outputs": [
    {
     "output_type": "stream",
     "name": "stdout",
     "text": "игрушечный питон\nлосяш\n28\nrandom range = 5\n"
    }
   ],
   "source": [
    "# Random\n",
    "\n",
    "from random import choice\n",
    "\n",
    "def find_a_present(prizes):\n",
    "    return choice(prizes)  # пишем choice(), а не random.choice()\n",
    "print(find_a_present(['кукла', 'жвачка', 'игрушечный питон']))\n",
    "print(find_a_present(['мяч', 'чебурашка', 'лосяш']))\n",
    "\n",
    "import random as r\n",
    "print(r.randint(0, 100))  # случайное число от 0 до 100\n",
    "\n",
    "# random number\n",
    "print(f'random range = {r.randrange(1,10)}') "
   ]
  },
  {
   "cell_type": "code",
   "execution_count": 2,
   "metadata": {
    "tags": []
   },
   "outputs": [
    {
     "output_type": "stream",
     "name": "stdout",
     "text": "i = 0 and %5 = 0 and %3 = 0\ni = 0\ni = 1 and %5 = 1 and %3 = 1\ni = 2 and %5 = 2 and %3 = 2\ni = 3 and %5 = 3 and %3 = 0\ni = 3\ni = 4 and %5 = 4 and %3 = 1\ni = 5 and %5 = 0 and %3 = 2\ni = 5\ni = 6 and %5 = 1 and %3 = 0\ni = 6\ni = 7 and %5 = 2 and %3 = 1\ni = 8 and %5 = 3 and %3 = 2\ni = 9 and %5 = 4 and %3 = 0\ni = 9\nresult = 23\n"
    }
   ],
   "source": [
    "# Multiples of 3 and 5\n",
    "def multiples_of3_and5(size):\n",
    "    n = 0\n",
    "    for i in range(size):\n",
    "        print(f'i = {i} and %5 = {i%5} and %3 = {i%3}')\n",
    "        if not i % 5 or not i % 3:\n",
    "            print(f'i = {i}')\n",
    "            n = n + i\n",
    "    print(f'result = {n}')\n",
    "multiples_of3_and5(10)"
   ]
  },
  {
   "cell_type": "code",
   "execution_count": 1,
   "metadata": {
    "tags": []
   },
   "outputs": [
    {
     "output_type": "stream",
     "name": "stdout",
     "text": "0 1 1 2 3 5 8 13 21 34"
    }
   ],
   "source": [
    "# Even Fibonacci numbers\n",
    "\n",
    "def fibonacci1(size):\n",
    "    num1 = 0\n",
    "    num2 = 1\n",
    "    series = 0\n",
    "    for i in range(size):\n",
    "        print(series, end=' ');\n",
    "        num1 = num2;\n",
    "        num2 = series;\n",
    "        series = num1 + num2;\n",
    "        \n",
    "def fibonacci2(size):\n",
    "    # return 0 and 1 for first and second terms\n",
    "    if size == 0:\n",
    "        return 0\n",
    "    elif size == 1:\n",
    "        return 1\n",
    "    else:\n",
    "        # return the sum of two numbers\n",
    "        #return fibonacci(size - 1) + fibonacci(size - 2)\n",
    "\n",
    "#size = int(input('Enter how many numbers needed in Fibonacci series- '))\n",
    "fibonacci1(10)\n"
   ]
  },
  {
   "cell_type": "code",
   "execution_count": 14,
   "metadata": {
    "tags": []
   },
   "outputs": [
    {
     "output_type": "stream",
     "name": "stdout",
     "text": "1 7 42 210 840 2520 5040"
    }
   ],
   "source": [
    "# factorial\n",
    "\n",
    "def factorial_1(size):\n",
    "    result = 1\n",
    "    while size >= 1:\n",
    "        print (result, end=' ')\n",
    "        result *= size\n",
    "        #print(result)\n",
    "        size -= 1\n",
    "        #print('size =', size)\n",
    "factorial_1(7)\n"
   ]
  },
  {
   "cell_type": "code",
   "execution_count": null,
   "metadata": {},
   "outputs": [],
   "source": [
    "from math import pi\n",
    "\n",
    "r = float(input('Input the radius of the circle: '))\n",
    "print (f'{str(r)} = {str(pi * r**2)}')\n",
    "\n",
    "def max_of_array(x, y):\n",
    "    #str_a = ''\n",
    "    #for num in range(x, y):\n",
    "    #    str_a += str(num)\n",
    "    #str_list = list(str_a)\n",
    "    #print(str_list)\n",
    "\n",
    "    big_one = 0\n",
    "    for num in range(x, y):\n",
    "        if big_one < num:\n",
    "            big_one = num\n",
    "    return big_one"
   ]
  },
  {
   "cell_type": "code",
   "execution_count": 3,
   "metadata": {
    "tags": []
   },
   "outputs": [
    {
     "output_type": "stream",
     "name": "stdout",
     "text": "Общая площадь = 146.87\n"
    }
   ],
   "source": [
    "areas = [\n",
    "    5.38, 21.72, 7.78, 26.86, 5.75,\n",
    "    29.84, 22.67, 5.50, 16.85, 4.52\n",
    "]\n",
    "\n",
    "# В этой переменной будем суммировать площади.\n",
    "# Пока что в ней ничего нет, поэтому она равна нулю.\n",
    "sum_area = 0\n",
    "\n",
    "for area in areas:\n",
    "    # прибавляем к sum_area площадь ещё одной комнаты\n",
    "    #sum_area = sum_area + area\n",
    "\tsum_area += area\n",
    "print(\"Общая площадь =\", sum_area)"
   ]
  },
  {
   "cell_type": "code",
   "execution_count": 4,
   "metadata": {
    "tags": []
   },
   "outputs": [
    {
     "output_type": "stream",
     "name": "stdout",
     "text": "Выпущено альбомов в XXI веке: 5\n"
    }
   ],
   "source": [
    "years = [\n",
    "    1981, 1982, 1983, 1984, 1986, 1987, 1990,\n",
    "    1993, 1997, 2001, 2005, 2009, 2013, 2017\n",
    "]\n",
    "\n",
    "# В этой переменной будем подсчитывать количество.\n",
    "# Пока что в ней ничего нет, поэтому она равна нулю.\n",
    "count = 0\n",
    "\n",
    "for year in years:\n",
    "    if year > 2000:\n",
    "        # Каждый раз загибаем по одному пальцу,\n",
    "        # обнаружив альбом, выпущенный в 21 веке\n",
    "        count += 1   # это то же самое, что `count = count + 1`\n",
    "\n",
    "print(\"Выпущено альбомов в XXI веке:\", count)"
   ]
  },
  {
   "cell_type": "code",
   "execution_count": null,
   "metadata": {},
   "outputs": [],
   "source": [
    "def is_prime_v1(n):\n",
    "    \"\"\"Return True if n is a prime number.\n",
    "    False otherwise.\n",
    "    \"\"\"\n",
    "\n",
    "    if n == 1:\n",
    "        return False  # 1 is not prime\n",
    "    \n",
    "    for num in range(2, n):\n",
    "        if n % num == 0:\n",
    "            return False\n",
    "    return True\n",
    "\n",
    "\n",
    "# === Testing ===\n",
    "for n in range(1, 21):\n",
    "    print(n, is_prime_v1(n))"
   ]
  },
  {
   "cell_type": "code",
   "execution_count": null,
   "metadata": {},
   "outputs": [],
   "source": []
  }
 ]
}