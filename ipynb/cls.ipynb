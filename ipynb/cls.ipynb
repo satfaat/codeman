{
 "cells": [
  {
   "cell_type": "code",
   "execution_count": 7,
   "metadata": {},
   "outputs": [
    {
     "name": "stdout",
     "output_type": "stream",
     "text": [
      "1 2\n",
      "Help on Point in module __main__ object:\n",
      "\n",
      "class Point(builtins.object)\n",
      " |  this class represent the Point\n",
      " |  \n",
      " |  Data descriptors defined here:\n",
      " |  \n",
      " |  __dict__\n",
      " |      dictionary for instance variables (if defined)\n",
      " |  \n",
      " |  __weakref__\n",
      " |      list of weak references to the object (if defined)\n",
      "\n",
      "None\n"
     ]
    }
   ],
   "source": [
    "class Point:\n",
    "    'this class represent the Point'\n",
    "    pass\n",
    "\n",
    "\n",
    "inst_point = Point()\n",
    "inst_point.x = 1\n",
    "inst_point.y = 2\n",
    "\n",
    "print(inst_point.x, inst_point.y)\n",
    "\n",
    "#print(inst_point.__doc__)\n",
    "print(help(inst_point))"
   ]
  }
 ],
 "metadata": {
  "interpreter": {
   "hash": "04183954aa68d0139d33e752fbc5395cdfee8e232626fd184685add8210a12bf"
  },
  "kernelspec": {
   "display_name": "Python 3.10.0 64-bit ('.env_jupyter': venv)",
   "name": "python3"
  },
  "language_info": {
   "codemirror_mode": {
    "name": "ipython",
    "version": 3
   },
   "file_extension": ".py",
   "mimetype": "text/x-python",
   "name": "python",
   "nbconvert_exporter": "python",
   "pygments_lexer": "ipython3",
   "version": "3.10.0"
  },
  "orig_nbformat": 4
 },
 "nbformat": 4,
 "nbformat_minor": 2
}
