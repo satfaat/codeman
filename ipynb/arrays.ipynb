{
 "cells": [
  {
   "cell_type": "code",
   "execution_count": 6,
   "metadata": {
    "tags": []
   },
   "outputs": [
    {
     "name": "stdout",
     "output_type": "stream",
     "text": [
      "[1, 2, 3, 4, 5]\n"
     ]
    }
   ],
   "source": [
    "# arrays\n",
    "list = []\n",
    "for i in range(100)[1:6]:\n",
    "    list.append(i)\n",
    "print(list)\n",
    "\n",
    "list_revers = []\n",
    "size = len(list) - 1\n",
    "while size >=0:\n",
    "    list_revers.append(size)\n",
    "    size -= 1\n",
    "#print(list_revers)\n",
    "\n",
    "#print (list[::-1])"
   ]
  },
  {
   "cell_type": "code",
   "execution_count": null,
   "metadata": {},
   "outputs": [],
   "source": [
    "exchange_rates = {'rub': [1, 'руб'], 'usd': [60.00, 'USD'], 'eur': [70.00, 'Euro']}\n",
    "print (exchange_rates.values)"
   ]
  },
  {
   "cell_type": "code",
   "execution_count": 1,
   "metadata": {},
   "outputs": [
    {
     "name": "stdout",
     "output_type": "stream",
     "text": [
      "['_', '_', '_', '_', '_']\n"
     ]
    }
   ],
   "source": [
    "guesses = ['_'] * 5\n",
    "\n",
    "print(guesses)"
   ]
  },
  {
   "cell_type": "code",
   "execution_count": 11,
   "metadata": {},
   "outputs": [
    {
     "name": "stdout",
     "output_type": "stream",
     "text": [
      "soccer\n",
      "hockey\n",
      "['soccer', 'hockey'] and {'sports': ['soccer', 'hockey']}\n"
     ]
    }
   ],
   "source": [
    "data = {'sports': ['soccer', 'hockey']}\n",
    "#print(data['sports'][0])\n",
    "for index in range(len(data['sports'])):\n",
    "    print(data['sports'][index])\n",
    "\n",
    "def loop(data):\n",
    "    for item in data:\n",
    "        print(item)\n",
    "        \n",
    "sports_list = data['sports']\n",
    "sports_dict = dict({'sports': sports_list})\n",
    "print(sports_list, 'and', sports_dict)\n"
   ]
  },
  {
   "cell_type": "code",
   "execution_count": 14,
   "metadata": {},
   "outputs": [
    {
     "name": "stdout",
     "output_type": "stream",
     "text": [
      "name\n",
      "age\n",
      "Smith\n",
      "26\n",
      "name: Smith\n",
      "age: 26\n"
     ]
    }
   ],
   "source": [
    "# looping in dictionary\n",
    "\n",
    "person = {\n",
    "    'name': 'Smith',\n",
    "    'age': 26\n",
    "}\n",
    "\n",
    "for key in person.keys():\n",
    "    print(key)\n",
    "\n",
    "for value in person.values():\n",
    "    print(value)\n",
    "\n",
    "for key, value in person.items():\n",
    "    print(f'{key}: {value}')"
   ]
  },
  {
   "cell_type": "code",
   "execution_count": 15,
   "metadata": {},
   "outputs": [
    {
     "name": "stdout",
     "output_type": "stream",
     "text": [
      "<class 'tuple'> <class 'tuple'>\n"
     ]
    }
   ],
   "source": [
    "# tuples are immutable\n",
    "t1 = ('hello', 2, 'tree')\n",
    "t2 = True, 1\n",
    "print(type(t1), type(t2))"
   ]
  },
  {
   "cell_type": "code",
   "execution_count": 1,
   "metadata": {},
   "outputs": [
    {
     "name": "stdout",
     "output_type": "stream",
     "text": [
      "True\n"
     ]
    }
   ],
   "source": [
    "numbers = [-1, -2, 0, 8, -9]\n",
    "has_positives = any(n > 0 for n in numbers)\n",
    "print(has_positives)"
   ]
  },
  {
   "cell_type": "code",
   "execution_count": 9,
   "metadata": {},
   "outputs": [
    {
     "name": "stdout",
     "output_type": "stream",
     "text": [
      "[0, 1, 2, 3, 4]\n",
      "That index is not in the list\n"
     ]
    }
   ],
   "source": [
    "nums = [i for i in range(5)]\n",
    "print(nums)\n",
    "\n",
    "try:\n",
    "    nums[5]\n",
    "except IndexError:\n",
    "    print('That index is not in the list')"
   ]
  },
  {
   "cell_type": "markdown",
   "metadata": {},
   "source": []
  }
 ],
 "metadata": {
  "interpreter": {
   "hash": "c74077574ea8321a56752f015d52680049d9fdd0f47abe8d14b1dfa951457734"
  },
  "kernelspec": {
   "display_name": "Python 3.8.3 64-bit",
   "language": "python",
   "name": "python3"
  },
  "language_info": {
   "codemirror_mode": {
    "name": "ipython",
    "version": 3
   },
   "file_extension": ".py",
   "mimetype": "text/x-python",
   "name": "python",
   "nbconvert_exporter": "python",
   "pygments_lexer": "ipython3",
   "version": "3.10.0"
  },
  "orig_nbformat": 2
 },
 "nbformat": 4,
 "nbformat_minor": 2
}
