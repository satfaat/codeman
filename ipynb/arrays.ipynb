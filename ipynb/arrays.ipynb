{
 "cells": [
  {
   "cell_type": "code",
   "execution_count": 7,
   "metadata": {
    "tags": []
   },
   "outputs": [
    {
     "name": "stdout",
     "output_type": "stream",
     "text": [
      "[99, 98, 97, 96, 95, 94, 93, 92, 91, 90, 89, 88, 87, 86, 85, 84, 83, 82, 81, 80, 79, 78, 77, 76, 75, 74, 73, 72, 71, 70, 69, 68, 67, 66, 65, 64, 63, 62, 61, 60, 59, 58, 57, 56, 55, 54, 53, 52, 51, 50, 49, 48, 47, 46, 45, 44, 43, 42, 41, 40, 39, 38, 37, 36, 35, 34, 33, 32, 31, 30, 29, 28, 27, 26, 25, 24, 23, 22, 21, 20, 19, 18, 17, 16, 15, 14, 13, 12, 11, 10, 9, 8, 7, 6, 5, 4, 3, 2, 1, 0]\n"
     ]
    }
   ],
   "source": [
    "# arrays\n",
    "list = []\n",
    "for i in range(100):\n",
    "    list.append(i)\n",
    "#print(list)\n",
    "\n",
    "list_revers = []\n",
    "size = len(list) - 1\n",
    "while size >=0:\n",
    "    list_revers.append(size)\n",
    "    size -= 1\n",
    "#print(list_revers)\n",
    "\n",
    "#print (list[::-1])"
   ]
  },
  {
   "cell_type": "code",
   "execution_count": null,
   "metadata": {},
   "outputs": [],
   "source": [
    "exchange_rates = {'rub': [1, 'руб'], 'usd': [60.00, 'USD'], 'eur': [70.00, 'Euro']}\n",
    "print (exchange_rates.values)"
   ]
  },
  {
   "cell_type": "code",
   "execution_count": 1,
   "metadata": {},
   "outputs": [
    {
     "name": "stdout",
     "output_type": "stream",
     "text": [
      "['_', '_', '_', '_', '_']\n"
     ]
    }
   ],
   "source": [
    "guesses = ['_'] * 5\n",
    "\n",
    "print(guesses)"
   ]
  },
  {
   "cell_type": "code",
   "execution_count": 11,
   "metadata": {},
   "outputs": [
    {
     "name": "stdout",
     "output_type": "stream",
     "text": [
      "soccer\n",
      "hockey\n",
      "['soccer', 'hockey'] and {'sports': ['soccer', 'hockey']}\n"
     ]
    }
   ],
   "source": [
    "data = {'sports': ['soccer', 'hockey']}\n",
    "#print(data['sports'][0])\n",
    "for index in range(len(data['sports'])):\n",
    "    print(data['sports'][index])\n",
    "\n",
    "def loop(data):\n",
    "    for item in data:\n",
    "        print(item)\n",
    "        \n",
    "sports_list = data['sports']\n",
    "sports_dict = dict({'sports': sports_list})\n",
    "print(sports_list, 'and', sports_dict)\n"
   ]
  },
  {
   "cell_type": "code",
   "execution_count": 14,
   "metadata": {},
   "outputs": [
    {
     "name": "stdout",
     "output_type": "stream",
     "text": [
      "name\n",
      "age\n",
      "Smith\n",
      "26\n",
      "name: Smith\n",
      "age: 26\n"
     ]
    }
   ],
   "source": [
    "# looping in dictionary\n",
    "\n",
    "person = {\n",
    "    'name': 'Smith',\n",
    "    'age': 26\n",
    "}\n",
    "\n",
    "for key in person.keys():\n",
    "    print(key)\n",
    "\n",
    "for value in person.values():\n",
    "    print(value)\n",
    "\n",
    "for key, value in person.items():\n",
    "    print(f'{key}: {value}')"
   ]
  },
  {
   "cell_type": "code",
   "execution_count": 15,
   "metadata": {},
   "outputs": [
    {
     "name": "stdout",
     "output_type": "stream",
     "text": [
      "<class 'tuple'> <class 'tuple'>\n"
     ]
    }
   ],
   "source": [
    "# tuples are immutable\n",
    "t1 = ('hello', 2, 'tree')\n",
    "t2 = True, 1\n",
    "print(type(t1), type(t2))"
   ]
  },
  {
   "cell_type": "code",
   "execution_count": 1,
   "metadata": {},
   "outputs": [
    {
     "name": "stdout",
     "output_type": "stream",
     "text": [
      "True\n"
     ]
    }
   ],
   "source": [
    "numbers = [-1, -2, 0, 8, -9]\n",
    "has_positives = any(n > 0 for n in numbers)\n",
    "print(has_positives)"
   ]
  }
 ],
 "metadata": {
  "interpreter": {
   "hash": "c74077574ea8321a56752f015d52680049d9fdd0f47abe8d14b1dfa951457734"
  },
  "kernelspec": {
   "display_name": "Python 3.8.3 64-bit",
   "language": "python",
   "name": "python3"
  },
  "language_info": {
   "codemirror_mode": {
    "name": "ipython",
    "version": 3
   },
   "file_extension": ".py",
   "mimetype": "text/x-python",
   "name": "python",
   "nbconvert_exporter": "python",
   "pygments_lexer": "ipython3",
   "version": "3.10.0"
  },
  "orig_nbformat": 2
 },
 "nbformat": 4,
 "nbformat_minor": 2
}
