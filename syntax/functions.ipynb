{
 "cells": [
  {
   "cell_type": "code",
   "execution_count": null,
   "metadata": {},
   "outputs": [],
   "source": []
  },
  {
   "cell_type": "code",
   "execution_count": 6,
   "metadata": {},
   "outputs": [
    {
     "name": "stdout",
     "output_type": "stream",
     "text": [
      "Вот дом, который построил Джек.\n",
      "\n",
      "А это пшеница, которая в тёмном чулане хранится\n",
      "в доме, который построил Джек.\n",
      "\n",
      "А это весёлая птица-синица, которая часто ворует пшеницу,\n",
      "которая в тёмном чулане хранится\n",
      "в доме, который построил Джек.\n",
      "\n"
     ]
    }
   ],
   "source": [
    "def Jack():\n",
    "    return 'в доме, который построил Джек.\\n'\n",
    "def wheat():\n",
    "    return 'которая в тёмном чулане хранится\\n' + Jack()\n",
    "def bird():\n",
    "    return 'которая часто ворует пшеницу,\\n' + wheat()\n",
    "\n",
    "print('Вот дом, который построил Джек.\\n')\n",
    "print('А это пшеница, ' + wheat())\n",
    "print('А это весёлая птица-синица, ' + bird())"
   ]
  }
 ],
 "metadata": {
  "kernelspec": {
   "display_name": "Python 3.10.0 ('.env_jupyter': venv)",
   "language": "python",
   "name": "python3"
  },
  "language_info": {
   "codemirror_mode": {
    "name": "ipython",
    "version": 3
   },
   "file_extension": ".py",
   "mimetype": "text/x-python",
   "name": "python",
   "nbconvert_exporter": "python",
   "pygments_lexer": "ipython3",
   "version": "3.10.0"
  },
  "orig_nbformat": 4,
  "vscode": {
   "interpreter": {
    "hash": "acd7119d548134a99e6f9d1f29df8db3a357202429f0f56f73b34e23b90bc877"
   }
  }
 },
 "nbformat": 4,
 "nbformat_minor": 2
}
