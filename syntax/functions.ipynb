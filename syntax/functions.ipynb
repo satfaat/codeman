{
 "cells": [
  {
   "attachments": {},
   "cell_type": "markdown",
   "metadata": {},
   "source": [
    "**procedural Python**\n",
    "- call function from function\n",
    "- function to init variables\n",
    "- init function to call other functions"
   ]
  },
  {
   "attachments": {},
   "cell_type": "markdown",
   "metadata": {},
   "source": [
    "## to call function"
   ]
  },
  {
   "cell_type": "code",
   "execution_count": 11,
   "metadata": {},
   "outputs": [
    {
     "data": {
      "text/plain": [
       "'ther are no such function'"
      ]
     },
     "execution_count": 11,
     "metadata": {},
     "output_type": "execute_result"
    }
   ],
   "source": [
    "def first():\n",
    "    return \"first func\"\n",
    "\n",
    "def second():\n",
    "    return \"second func\"\n",
    "\n",
    "def init(name=first):\n",
    "    if name == first:\n",
    "        return first()\n",
    "    elif name == second:\n",
    "        return second()\n",
    "    return \"ther are no such function\"\n",
    "\n",
    "\n",
    "init(super)"
   ]
  },
  {
   "cell_type": "code",
   "execution_count": 2,
   "metadata": {},
   "outputs": [
    {
     "name": "stdout",
     "output_type": "stream",
     "text": [
      "4\n",
      "10\n",
      "10\n"
     ]
    }
   ],
   "source": [
    "def operation(name):\n",
    "\n",
    "         def add(x, y):\n",
    "                 return x + y\n",
    "\n",
    "         def mul(x, y):\n",
    "                 return x * y\n",
    "\n",
    "         if name == 'add':\n",
    "                 return add\n",
    "\n",
    "         if name == 'mul':\n",
    "                 return mul\n",
    "\n",
    "# сложение\n",
    "op = operation('add')\n",
    "print(op(1, 3))\n",
    "# результат: 4\n",
    "\n",
    "# умножение\n",
    "op2 = operation('mul')\n",
    "print(op2(2, 5))\n",
    "# результат: 10\n",
    "\n",
    "# или даже так: умножение, но без промежуточной функции\n",
    "print(operation('mul')(2, 5))\n",
    "# результат: 10"
   ]
  },
  {
   "cell_type": "code",
   "execution_count": 6,
   "metadata": {},
   "outputs": [
    {
     "name": "stdout",
     "output_type": "stream",
     "text": [
      "Вот дом, который построил Джек.\n",
      "\n",
      "А это пшеница, которая в тёмном чулане хранится\n",
      "в доме, который построил Джек.\n",
      "\n",
      "А это весёлая птица-синица, которая часто ворует пшеницу,\n",
      "которая в тёмном чулане хранится\n",
      "в доме, который построил Джек.\n",
      "\n"
     ]
    }
   ],
   "source": [
    "def Jack():\n",
    "    return 'в доме, который построил Джек.\\n'\n",
    "def wheat():\n",
    "    return 'которая в тёмном чулане хранится\\n' + Jack()\n",
    "def bird():\n",
    "    return 'которая часто ворует пшеницу,\\n' + wheat()\n",
    "\n",
    "print('Вот дом, который построил Джек.\\n')\n",
    "print('А это пшеница, ' + wheat())\n",
    "print('А это весёлая птица-синица, ' + bird())"
   ]
  },
  {
   "cell_type": "code",
   "execution_count": 1,
   "metadata": {},
   "outputs": [
    {
     "name": "stdout",
     "output_type": "stream",
     "text": [
      "3\n"
     ]
    }
   ],
   "source": [
    "def func(x, y):\n",
    "        return x+y\n",
    "#print(type(func))\n",
    "\n",
    "# посмотрим, по какому адресу в памяти сохранена функция func()\n",
    "#hex(id(func))\n",
    "\n",
    "new_func = func\n",
    "#print(new_func(1, 2))\n",
    "#hex(id(new_func))\n",
    "\n",
    "func = 'just a string'\n",
    "#print(func)\n",
    "\n",
    "def apply(f, x, y):\n",
    "        return f(x, y)\n",
    "print(apply(new_func, 1, 2))"
   ]
  },
  {
   "cell_type": "code",
   "execution_count": 3,
   "metadata": {},
   "outputs": [
    {
     "name": "stdout",
     "output_type": "stream",
     "text": [
      "Полезная работа до начала работы функции\n",
      "Я полезная функция\n",
      "Полезная работа после выполнения функции\n"
     ]
    }
   ],
   "source": [
    "def wrapper(func):\n",
    "        # какие-то действия с func\n",
    "        _cache = {'counter': 0}\n",
    "\n",
    "        def added_value():\n",
    "                _cache['counter'] = _cache['counter'] + 1\n",
    "                print(\"Полезная работа до начала работы функции\")\n",
    "                func()\n",
    "                print(\"Полезная работа после выполнения функции\")\n",
    "        return added_value\n",
    "\n",
    "\n",
    "#def some_func():\n",
    "#        print(\"Я полезная функция\")\n",
    "\n",
    "#do = wrapper(some_func)\n",
    "#do()\n",
    "\n",
    "#some_func = wrapper(some_func)\n",
    "#some_func()\n",
    "\n",
    "@wrapper # оборачиваем some_func() в декоратор wrapper()\n",
    "def some_func():\n",
    "        print(\"Я полезная функция\")\n",
    "some_func()\n"
   ]
  },
  {
   "cell_type": "code",
   "execution_count": 4,
   "metadata": {},
   "outputs": [],
   "source": [
    "# функция-обертка\n",
    "def wrapper(func):\n",
    "        # какие-то действия с func\n",
    "        # функция-исполнитель\n",
    "        # получает аргументы из декорируемой функции\n",
    "        def added_value(*args, **kwargs):\n",
    "                print(\"Полезная работа до начала работы функции\")\n",
    "                func(*args, **kwargs)\n",
    "                # напечатаем аргументы\n",
    "                print (args)\n",
    "                print (kwargs)\n",
    "                print(\"Полезная работа после выполнения функции\")\n",
    "        return added_value\n",
    "\n",
    "\n",
    "@wrapper  # декоратор\n",
    "def some_func():  # декорируемая функция\n",
    "        # код функции\n",
    "        pass"
   ]
  },
  {
   "cell_type": "code",
   "execution_count": 5,
   "metadata": {},
   "outputs": [
    {
     "name": "stdout",
     "output_type": "stream",
     "text": [
      "Run with args=(2, 2), memo={}\n",
      "Run func(2, 2)\n",
      "Run with args=(2, 2), memo={(2, 2): 4}\n",
      "Run with args=(2, 3), memo={(2, 2): 4}\n",
      "Run func(2, 3)\n"
     ]
    },
    {
     "data": {
      "text/plain": [
       "8"
      ]
     },
     "execution_count": 5,
     "metadata": {},
     "output_type": "execute_result"
    }
   ],
   "source": [
    "def memorize(wrapped):\n",
    "    memo = dict()\n",
    "\n",
    "    def wrapper(*args):\n",
    "        print(f'Run with args={args}, memo={memo}')\n",
    "        if args not in memo:\n",
    "            memo[args] = wrapped(*args)\n",
    "        return memo[args]\n",
    "    return wrapper\n",
    "\n",
    "@memorize\n",
    "def func(a, b):\n",
    "    print(f'Run func({a}, {b})')\n",
    "    return a ** b\n",
    "func(2, 2)\n",
    "func(2, 2)\n",
    "func(2, 3)"
   ]
  }
 ],
 "metadata": {
  "kernelspec": {
   "display_name": ".envpy",
   "language": "python",
   "name": "python3"
  },
  "language_info": {
   "codemirror_mode": {
    "name": "ipython",
    "version": 3
   },
   "file_extension": ".py",
   "mimetype": "text/x-python",
   "name": "python",
   "nbconvert_exporter": "python",
   "pygments_lexer": "ipython3",
   "version": "3.11.1"
  },
  "orig_nbformat": 4,
  "vscode": {
   "interpreter": {
    "hash": "d466f5a145533eacc584c6d911e4e9caf56217c1cef976a2b5467cc7558a574d"
   }
  }
 },
 "nbformat": 4,
 "nbformat_minor": 2
}
