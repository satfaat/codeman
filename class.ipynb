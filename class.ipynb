{
 "metadata": {
  "language_info": {
   "codemirror_mode": {
    "name": "ipython",
    "version": 3
   },
   "file_extension": ".py",
   "mimetype": "text/x-python",
   "name": "python",
   "nbconvert_exporter": "python",
   "pygments_lexer": "ipython3",
   "version": "3.8.5-final"
  },
  "orig_nbformat": 2,
  "kernelspec": {
   "name": "python38364bit93b64ca63c7743489b3b311c62aa3ce5",
   "display_name": "Python 3.8.3 64-bit"
  }
 },
 "nbformat": 4,
 "nbformat_minor": 2,
 "cells": [
  {
   "cell_type": "code",
   "execution_count": 15,
   "metadata": {},
   "outputs": [
    {
     "output_type": "execute_result",
     "data": {
      "text/plain": "'0x2d2c983a8e0'"
     },
     "metadata": {},
     "execution_count": 15
    }
   ],
   "source": [
    "# Class\n",
    "\n",
    "class CountFromBy:\n",
    "    #pass\n",
    "    def __init__(self, v: int=0, i: int=1):\n",
    "        self.val = v\n",
    "        self.incr = i\n",
    "\n",
    "    def increase(self) -> None:\n",
    "        self.val += self.incr\n",
    "    \n",
    "    def __repr__(self):\n",
    "        return str(self.val)\n",
    "\n",
    "a = CountFromBy(100, 10)\n",
    "a.val\n",
    "a.increase()\n",
    "a.val\n",
    "type(a)\n",
    "id(a)\n",
    "hex(id(a))\n",
    "#b = CountFromBy()"
   ]
  },
  {
   "cell_type": "code",
   "execution_count": null,
   "metadata": {},
   "outputs": [],
   "source": []
  }
 ]
}