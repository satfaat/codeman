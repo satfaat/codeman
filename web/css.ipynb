{
 "cells": [
  {
   "cell_type": "markdown",
   "metadata": {},
   "source": [
    "- [css and text](https://www.w3schools.com/csS/css_text.asp)\n",
    "- [maz](https://developer.mozilla.org/en-US/docs/Web/CSS/CSS_Text)\n",
    "- [w3](https://www.w3docs.com/learn-css/css-text.html)"
   ]
  },
  {
   "cell_type": "markdown",
   "metadata": {},
   "source": [
    "## Color"
   ]
  },
  {
   "cell_type": "markdown",
   "metadata": {},
   "source": [
    "<style>\n",
    "    p{\n",
    "        border-radius: 21px; \n",
    "        padding: 8px;\n",
    "        max-width: 500px;\n",
    "    }\n",
    "    .bg-red{\n",
    "        background-color:#ff000080;\n",
    "        color: hwb(177 90% 0%);\n",
    "        font-family: Helvetica, sans-serif;\n",
    "    }\n",
    "    .bg-green{\n",
    "        background-color:#00ff0080;\n",
    "        color: white;\n",
    "        font-family: Tahoma, sans-serif;\n",
    "    }\n",
    "    .bg-blue{\n",
    "        background-color:#0000ff80;\n",
    "        color: hwb(177 90% 0%);\n",
    "        font-family: Verdana, Helvetica, sans-serif;\n",
    "    }\n",
    "    .bg-yellow{\n",
    "        background-color:#ffff0080;\n",
    "        color: yellow;\n",
    "        font-family: Verdana, Helvetica, sans-serif;\n",
    "    }\n",
    "    .bg-pink{\n",
    "        background-color:#ff00ff80;\n",
    "        color: lightgrey;\n",
    "        font-family: Verdana, Helvetica, sans-serif;\n",
    "    }\n",
    "    .bg-gray{\n",
    "        background-color:gray;\n",
    "        color: white;\n",
    "        font: 1em bold Verdana, Helvetica, sans-serif;\n",
    "    }\n",
    "</style>\n",
    "\n",
    "\n",
    "<p class='bg-red'>People will forget what you said. People will forget what you did. But people will never forget how you made them feel.</p>\n",
    "<p class='bg-green'>People will forget what you said. People will forget what you did. But people will never forget how you made them feel.</p>\n",
    "<p class='bg-blue'>People will forget what you said. People will forget what you did. But people will never forget how you made them feel.</p>\n",
    "<p class='bg-yellow'>People will forget what you said. People will forget what you did. But people will never forget how you made them feel.</p>\n",
    "<p class='bg-pink'>People will forget what you said. People will forget what you did. But people will never forget how you made them feel.</p>\n",
    "<p class='bg-gray'>People will forget what you said. People will forget what you did. But people will never forget how you made them feel.</p>"
   ]
  },
  {
   "cell_type": "markdown",
   "metadata": {},
   "source": [
    "- hwb(177 90% 0%);\n",
    "- hsl(250, 50%, 5%);"
   ]
  },
  {
   "cell_type": "markdown",
   "metadata": {},
   "source": [
    "## Text\n",
    "<div style='border: 6px dotted gray; \n",
    "    border-radius: 21px; \n",
    "    max-width: 500px;\n",
    "    background-color: hsl(250, 50%, 5%);\n",
    "    color: hwb(177 90% 0%);\n",
    "    font-family: \"Courier New\", monospace;\n",
    "    margin: 20px auto;\n",
    "    padding: 17px;\n",
    "    box-shadow: 0 1px 3px rgba(14, 9, 9, 0.5), 0 1px 2px rgba(0, 0, 0, 0.7);'>\n",
    "<p>People will forget what you said. People will forget what you did. But people will never forget how you made them feel.</p>\n",
    "</div>\n",
    "\n",
    "<div style='\n",
    "    border-left: 6px solid red; \n",
    "    background-color: hsl(250, 50%, 5%);\n",
    "    color: lightgreen;\n",
    "    font-family: Verdana, Helvetica, sans-serif;\n",
    "    max-width: 500px;\n",
    "    margin: 20px auto;\n",
    "    padding: 17px'>\n",
    "<p>People will forget what you said. People will forget what you did. But people will never forget how you made them feel.</p>\n",
    "</div>\n",
    "\n",
    "<div style='\n",
    "    border-left: 6px solid red; \n",
    "    background-color: hsl(250, 50%, 5%);\n",
    "    color: purple;\n",
    "    font-family: \"Courier New\", monospace;\n",
    "    font-weight: bold;\n",
    "    max-width: 500px;\n",
    "    margin: 20px auto;\n",
    "    padding: 17px'>\n",
    "<p>People will forget what you said. People will forget what you did. But people will never forget how you made them feel.</p>\n",
    "</div>\n",
    "\n",
    "<div style='\n",
    "    border-left: 6px solid red; \n",
    "    background-color: hsl(250, 50%, 5%);\n",
    "    color: gray;\n",
    "    font-family: \"Courier New\", monospace;\n",
    "    font-weight: bold;\n",
    "    max-width: 500px;\n",
    "    margin: 20px auto;\n",
    "    padding: 17px'>\n",
    "<p>People will forget what you said. People will forget what you did. But people will never forget how you made them feel.</p>\n",
    "</div>"
   ]
  },
  {
   "cell_type": "markdown",
   "metadata": {},
   "source": [
    "<style>\n",
    "    .newspaper{\n",
    "        background-image: url(\"https://i.pinimg.com/originals/04/77/a2/0477a247e1037caaa350aa6b029275ee.jpg\");\n",
    "        column-count: 3;\n",
    "        column-gap: 40px;\n",
    "        column-rule: 6px dotted lightblue;\n",
    "        font-family: Rubik, sans-serif;\n",
    "        font-style: italic;\n",
    "        font-size: 1em;\n",
    "        color: lightblue; // darkblue\n",
    "        background-color: darkblue;\n",
    "        padding: 20px;\n",
    "        border-radius: 21px;\n",
    "    }\n",
    "</style>\n",
    "\n",
    "<div class=\"newspaper\" style='\n",
    "    '>\n",
    "<h2 style='\n",
    "    font-family: Cinzel, serif;\n",
    "    text-shadow: 1px 1px 2px black, 0 0 25px blue, 0 0 5px darkblue;'>\n",
    "    Lorem Ipsum Dolor Sit Amet</h2>\n",
    "Lorem ipsum dolor sit amet, consectetuer adipiscing elit, sed diam nonummy nibh euismod tincidunt ut laoreet dolore magna aliquam erat volutpat. Ut wisi enim ad minim veniam, quis nostrud exerci tation ullamcorper suscipit lobortis nisl ut aliquip ex ea commodo consequat. Duis autem vel eum iriure dolor in hendrerit in vulputate velit esse molestie consequat, vel illum dolore eu feugiat nulla facilisis at vero eros et accumsan et iusto odio dignissim qui blandit praesent luptatum zzril delenit augue duis dolore te feugait nulla facilisi. Nam liber tempor cum soluta nobis eleifend option congue nihil imperdiet doming id quod mazim placerat facer possim assum.\n",
    "</div>"
   ]
  },
  {
   "cell_type": "markdown",
   "metadata": {},
   "source": [
    "<div class=\"newspaper\" style='\n",
    "    border: 2px dotted;\n",
    "    border-radius: 20px;\n",
    "    padding: 20px; \n",
    "    width: 300px;\n",
    "    resize: both;\n",
    "    overflow: auto;\n",
    "    font: 1em oblique Muli, sans-serif;\n",
    "    color: darkred;'>\n",
    "<h2 style='font-family: Cinzel, serif;'\n",
    ">Lorem Ipsum Dolor Sit Amet</h2>\n",
    "Lorem ipsum dolor sit amet, consectetuer adipiscing elit, sed diam nonummy nibh euismod tincidunt ut laoreet dolore magna aliquam erat volutpat. Ut wisi enim ad minim veniam, quis nostrud exerci tation ullamcorper suscipit lobortis nisl ut aliquip ex ea commodo consequat. Duis autem vel eum iriure dolor in hendrerit in vulputate velit esse molestie consequat, vel illum dolore eu feugiat nulla facilisis at vero eros et accumsan et iusto odio dignissim qui blandit praesent luptatum zzril delenit augue duis dolore te feugait nulla facilisi. Nam liber tempor cum soluta nobis eleifend option congue nihil imperdiet doming id quod mazim placerat facer possim assum.\n",
    "</div>"
   ]
  },
  {
   "cell_type": "markdown",
   "metadata": {},
   "source": [
    "## Headers\n",
    "<h2 style='\n",
    "    font-family: Cinzel, serif;\n",
    "    font-size: 1.8em;\n",
    "    text-shadow: 0 0 3px #FF0000, 0 0 5px #0000FF;'>\n",
    "    Beautiful Norway</h2>\n",
    "\n",
    "<h2 style='\n",
    "    font-family: \"Space Mono\", monospace;\n",
    "    font-size: 1.8em;\n",
    "    text-shadow: 2px 2px 4px #000000'>\n",
    "    Beautiful Norway</h2>"
   ]
  },
  {
   "cell_type": "markdown",
   "metadata": {},
   "source": [
    "<div class=\"newspaper\" style='\n",
    "    font: italic bold 1em Rubik, sans-serif;\n",
    "    max-width: 50%;\n",
    "    text-indent: 50px;\n",
    "    letter-spacing: 3px;\n",
    "    '>\n",
    "<h2 style='\n",
    "    font-family: Cinzel, serif;\n",
    "    text-align: center;\n",
    "    text-transform: uppercase;\n",
    "    text-shadow: 2px 2px 5px red;'>\n",
    "    Lorem Ipsum Dolor Sit Amet</h2>\n",
    "Lorem ipsum dolor sit amet, consectetuer adipiscing elit, sed diam nonummy nibh euismod tincidunt ut laoreet dolore magna aliquam erat volutpat. Ut wisi enim ad minim veniam, quis nostrud exerci tation ullamcorper suscipit lobortis nisl ut aliquip ex ea commodo consequat. Duis autem vel eum iriure dolor in hendrerit in vulputate velit esse molestie consequat, vel illum dolore eu feugiat nulla facilisis at vero eros et accumsan et iusto odio dignissim qui blandit praesent luptatum zzril delenit augue duis dolore te feugait nulla facilisi. Nam liber tempor cum soluta nobis eleifend option congue nihil imperdiet doming id quod mazim placerat facer possim assum.\n",
    "</div>"
   ]
  },
  {
   "cell_type": "markdown",
   "metadata": {},
   "source": [
    "<div id=\"overflowTest\" style='\n",
    "    background: #4CAF50;\n",
    "    color: white;\n",
    "    padding: 15px;\n",
    "    width: 50%;\n",
    "    height: 100px;\n",
    "    overflow: scroll;\n",
    "    border: 1px solid #ccc;\n",
    "'>\n",
    "This text is really long and the height of its container is only 100 pixels. Therefore, a scrollbar is added to help the reader to scroll the content. Lorem ipsum dolor sit amet, consectetuer adipiscing elit, sed diam nonummy nibh euismod tincidunt ut laoreet dolore magna aliquam erat volutpat. Ut wisi enim ad minim veniam, quis nostrud exerci tation ullamcorper suscipit lobortis nisl ut aliquip ex ea commodo consequat. Duis autem vel eum iriure dolor in hendrerit in vulputate velit esse molestie consequat, vel illum dolore eu feugiat nulla facilisis at vero eros et accumsan et iusto odio dignissim qui blandit praesent luptatum zzril delenit augue duis dolore te feugait nulla facilisi. Nam liber tempor cum soluta nobis eleifend option congue nihil imperdiet doming id quod mazim placerat facer possim assum. Typi non habent claritatem insitam; est usus legentis in iis qui facit eorum claritatem.</div>"
   ]
  },
  {
   "cell_type": "markdown",
   "metadata": {},
   "source": [
    "<div style='\n",
    "    max-width: 50%;\n",
    "    border: 2px dotted;\n",
    "    overflow: scroll'>\n",
    "<pre style='word-break: break-all;'>\n",
    "Lorem ipsum dolor sit amet, \n",
    "consectetuer adipiscing elit, \n",
    "sed diam nonummy nibh euismod tincidunt ut laoreet dolore magna aliquam erat volutpat. \n",
    "    Ut wisi enim ad minim veniam, quis nostrud exerci tation ullamcorper suscipit lobortis nisl ut aliquip ex ea commodo consequat. \n",
    "    Duis autem vel eum iriure dolor in hendrerit in vulputate velit esse molestie consequat, \n",
    "        vel illum dolore eu feugiat nulla facilisis at vero eros et accumsan et iusto odio dignissim qui blandit praesent \n",
    "        luptatum zzril delenit augue duis dolore te feugait nulla facilisi. \n",
    "            Nam liber tempor cum soluta nobis eleifend option congue nihil \n",
    "                imperdiet doming id quod mazim placerat facer possim assum.\n",
    "<pre>\n",
    "</div>"
   ]
  },
  {
   "cell_type": "markdown",
   "metadata": {},
   "source": [
    "<div class=\"dropdown\" style='\n",
    "    position: relative;\n",
    "    display: inline-block;'>\n",
    "  <span>Mouse over me</span>\n",
    "  <div class=\"dropdown-content\" style='\n",
    "    display: none;\n",
    "    position: absolute;\n",
    "    background-color: #f9f9f9;\n",
    "    min-width: 160px;\n",
    "    box-shadow: 0px 8px 16px 0px rgba(0,0,0,0.2);\n",
    "    padding: 12px 16px;\n",
    "    z-index: 1;'>\n",
    "  <p>Hello World!</p>\n",
    "  </div>\n",
    "</div>"
   ]
  }
 ],
 "metadata": {
  "kernelspec": {
   "display_name": "Python 3.10.0 ('.env_jupyter': venv)",
   "language": "python",
   "name": "python3"
  },
  "language_info": {
   "name": "python",
   "version": "3.10.0"
  },
  "orig_nbformat": 4,
  "vscode": {
   "interpreter": {
    "hash": "acd7119d548134a99e6f9d1f29df8db3a357202429f0f56f73b34e23b90bc877"
   }
  }
 },
 "nbformat": 4,
 "nbformat_minor": 2
}
