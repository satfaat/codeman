{
 "cells": [
  {
   "cell_type": "code",
   "execution_count": 1,
   "metadata": {
    "vscode": {
     "languageId": "javascript"
    }
   },
   "outputs": [
    {
     "data": {
      "application/javascript": "\nconsole.log(1+2)\n",
      "text/plain": [
       "<IPython.core.display.Javascript object>"
      ]
     },
     "metadata": {},
     "output_type": "display_data"
    }
   ],
   "source": [
    "%%javascript\n",
    "\n",
    "console.log(1+2)"
   ]
  },
  {
   "cell_type": "code",
   "execution_count": 36,
   "metadata": {},
   "outputs": [],
   "source": [
    "import httpx\n",
    "import re\n",
    "import pandas as pd\n",
    "\n",
    "\n",
    "from bs4 import BeautifulSoup"
   ]
  },
  {
   "cell_type": "code",
   "execution_count": 15,
   "metadata": {},
   "outputs": [],
   "source": [
    "urls = [\n",
    "    'https://code.s3.yandex.net/learning-materials/data-analyst/most_famous_shipwrecks.html'\n",
    "]\n",
    "\n",
    "string = \"«Генерал Слокам» 15 июня 1904 года Ист-Ривер Человеческий фактор\"\n",
    "mya = \"Вовремя подняли знамя и бросились в пламя\""
   ]
  },
  {
   "cell_type": "code",
   "execution_count": 9,
   "metadata": {},
   "outputs": [
    {
     "name": "stdout",
     "output_type": "stream",
     "text": [
      "<re.Match object; span=(1, 8), match='Генерал'>\n"
     ]
    }
   ],
   "source": [
    "print(re.search('\\w+', string))"
   ]
  },
  {
   "cell_type": "code",
   "execution_count": 10,
   "metadata": {},
   "outputs": [
    {
     "name": "stdout",
     "output_type": "stream",
     "text": [
      "Генерал\n"
     ]
    }
   ],
   "source": [
    "print(re.search('\\w+', string).group())"
   ]
  },
  {
   "cell_type": "code",
   "execution_count": 11,
   "metadata": {},
   "outputs": [
    {
     "name": "stdout",
     "output_type": "stream",
     "text": [
      "<re.Match object; span=(0, 16), match='«Генерал Слокам»'>\n"
     ]
    }
   ],
   "source": [
    "print(re.search('«[А-я ]+»', string))"
   ]
  },
  {
   "cell_type": "code",
   "execution_count": 12,
   "metadata": {},
   "outputs": [
    {
     "name": "stdout",
     "output_type": "stream",
     "text": [
      "['«Генерал Слокам» ', ' июня ', ' года Ист-Ривер Человеческий фактор']\n"
     ]
    }
   ],
   "source": [
    "print(re.split('\\d+', string))"
   ]
  },
  {
   "cell_type": "code",
   "execution_count": 13,
   "metadata": {},
   "outputs": [
    {
     "name": "stdout",
     "output_type": "stream",
     "text": [
      "['«Генерал Слокам» ', ' июня 1904 года Ист-Ривер Человеческий фактор']\n"
     ]
    }
   ],
   "source": [
    "print(re.split('\\d+', string, maxsplit = 1))"
   ]
  },
  {
   "cell_type": "code",
   "execution_count": 14,
   "metadata": {},
   "outputs": [
    {
     "name": "stdout",
     "output_type": "stream",
     "text": [
      "«Генерал Слокам»  июня  года Ист-Ривер Человеческий фактор\n"
     ]
    }
   ],
   "source": [
    "print(re.sub('\\d+', '', string)) #ищем числа"
   ]
  },
  {
   "cell_type": "code",
   "execution_count": 16,
   "metadata": {},
   "outputs": [
    {
     "name": "stdout",
     "output_type": "stream",
     "text": [
      "['Вовремя', 'знамя', 'пламя']\n"
     ]
    }
   ],
   "source": [
    "print(re.findall('[А-я]+мя', mya))"
   ]
  },
  {
   "cell_type": "code",
   "execution_count": 17,
   "metadata": {},
   "outputs": [
    {
     "name": "stdout",
     "output_type": "stream",
     "text": [
      "['Ист-Ривер']\n"
     ]
    }
   ],
   "source": [
    "print(re.findall('\\w+-\\w+', string))"
   ]
  },
  {
   "cell_type": "code",
   "execution_count": 18,
   "metadata": {},
   "outputs": [
    {
     "name": "stdout",
     "output_type": "stream",
     "text": [
      "10\n"
     ]
    }
   ],
   "source": [
    "print(len(re.findall('\\w+', string)))"
   ]
  },
  {
   "cell_type": "code",
   "execution_count": 19,
   "metadata": {},
   "outputs": [
    {
     "name": "stdout",
     "output_type": "stream",
     "text": [
      "9\n"
     ]
    }
   ],
   "source": [
    "print(len(re.findall('[\\w-]+', string)))"
   ]
  },
  {
   "cell_type": "code",
   "execution_count": 25,
   "metadata": {},
   "outputs": [],
   "source": [
    "res = httpx.get(urls[0])"
   ]
  },
  {
   "cell_type": "code",
   "execution_count": 6,
   "metadata": {},
   "outputs": [
    {
     "name": "stdout",
     "output_type": "stream",
     "text": [
      "<html>\n",
      "<head>\n",
      "    <meta charset=\"utf-8\" />\n",
      "\n",
      "    <link rel=\"stylesheet\" href=\"https://praktikum.yandex.ru/static/fonts/landings/suisse.css\">\n",
      "    <link rel=\"stylesheet\" href=\"https://praktikum.yandex.ru/static/fonts/ys/ys.css\">\n",
      "\n",
      "    <style>\n",
      "        @font-face {\n",
      "            font-family: 'Suisse';\n",
      "            font-weight: 500;\n",
      "            src: url('https://pictures.s3.yandex.net/fonts/landings/SuisseIntl-Book.woff'),\n",
      "            url('https://pictures.s3.yandex.net/fonts/landings/SuisseIntl-Book.woff2');\n",
      "        }\n",
      "\n",
      "        @font-face {\n",
      "            font-family: 'Suisse';\n",
      "            font-weight: 400;\n",
      "            src: url('https://pictures.s3.yandex.net/fonts/landings/SuisseIntl-Regular.woff'),\n",
      "            url('https://pictures.s3.yandex.net/fonts/landings/SuisseIntl-Regular.woff2');\n",
      "        }\n",
      "\n",
      "        @font-face {\n",
      "            font-family: 'Suisse';\n",
      "            font-weight: 600;\n",
      "            src: url('https://pictures.s3.yandex.net/fonts/landings/SuisseIntl-SemiBold.woff'),\n",
      "            url('https://pictures.s3.yandex.net/fonts/landings/SuisseIntl-SemiBold.woff2');\n",
      "        }\n",
      "\n",
      "        @font-face {\n",
      "            font-family: 'Yandex Sans';\n",
      "            font-weight: 300;\n",
      "            font-style: normal;\n",
      "            font-stretch: normal;\n",
      "\n",
      "            src: url('https://pictures.s3.yandex.net/fonts/landings/YSText-Light-Web.woff2') format('woff2'),\n",
      "            url('https://pictures.s3.yandex.net/fonts/landings/YSText-Light-Web.woff') format('woff');\n",
      "        }\n",
      "\n",
      "        @font-face {\n",
      "            font-family: 'Yandex Sans';\n",
      "            font-weight: 400;\n",
      "            font-style: normal;\n",
      "            font-stretch: normal;\n",
      "\n",
      "            src: url('https://pictures.s3.yandex.net/fonts/landings/YSText-Regular-Web.woff2') format('woff2'),\n",
      "            url('https://pictures.s3.yandex.net/fonts/landings/YSText-Regular-Web.woff') format('woff');\n",
      "        }\n",
      "\n",
      "        @font-face {\n",
      "            font-family: 'Yandex Sans';\n",
      "            font-weight: 400;\n",
      "            font-style: italic;\n",
      "            font-stretch: normal;\n",
      "\n",
      "            src: url('https://pictures.s3.yandex.net/fonts/landings/YSText-RegularItalic-Web.woff2') format('woff2'),\n",
      "            url('https://pictures.s3.yandex.net/fonts/landings/YSText-RegularItalic-Web.woff') format('woff');\n",
      "        }\n",
      "\n",
      "        @font-face {\n",
      "            font-family: 'Yandex Sans';\n",
      "            font-weight: 700;\n",
      "            font-style: normal;\n",
      "            font-stretch: normal;\n",
      "\n",
      "            src: url('https://pictures.s3.yandex.net/fonts/landings/YSText-Bold-Web.woff2') format('woff2'),\n",
      "            url('https://pictures.s3.yandex.net/fonts/landings/YSText-Bold-Web.woff') format('woff');\n",
      "        }\n",
      "\n",
      "        @font-face {\n",
      "            font-family: 'Yandex Sans';\n",
      "            font-weight: 500;\n",
      "            font-style: normal;\n",
      "            font-stretch: normal;\n",
      "\n",
      "            src: url('https://pictures.s3.yandex.net/fonts/landings/YSText-Medium-Web.woff2') format('woff2'),\n",
      "            url('https://pictures.s3.yandex.net/fonts/landings/YSText-Medium-Web.woff') format('woff');\n",
      "        }\n",
      "\n",
      "        @font-face {\n",
      "            font-family: 'YSDisplay';\n",
      "            font-weight: 300;\n",
      "            font-style: normal;\n",
      "            font-stretch: normal;\n",
      "\n",
      "            src: url('https://pictures.s3.yandex.net/fonts/landings/YSDisplay-Light.woff2') format('woff2'),\n",
      "            url('https://pictures.s3.yandex.net/fonts/landings/YSDisplay-Light.woff') format('woff');\n",
      "        }\n",
      "\n",
      "        @font-face {\n",
      "            font-family: 'YSDisplay';\n",
      "            font-weight: 400;\n",
      "            font-style: normal;\n",
      "            font-stretch: normal;\n",
      "\n",
      "            src: url('https://pictures.s3.yandex.net/fonts/landings/YSDisplay-Regular.woff2') format('woff2'),\n",
      "            url('https://pictures.s3.yandex.net/fonts/landings/YSDisplay-Regular.woff') format('woff');\n",
      "        }\n",
      "\n",
      "        @font-face {\n",
      "            font-family: 'YSDisplay';\n",
      "            font-weight: 700;\n",
      "            font-style: normal;\n",
      "            font-stretch: normal;\n",
      "\n",
      "            src: url('https://pictures.s3.yandex.net/fonts/landings/YSDisplay-Bold.woff2') format('woff2'),\n",
      "            url('https://pictures.s3.yandex.net/fonts/landings/YSDisplay-Bold.woff') format('woff');\n",
      "        }\n",
      "\n",
      "        @font-face {\n",
      "            font-family: 'YSDisplay';\n",
      "            font-weight: 500;\n",
      "            font-style: normal;\n",
      "            font-stretch: normal;\n",
      "\n",
      "            src: url('https://pictures.s3.yandex.net/fonts/landings/YSDisplay-Medium.woff2') format('woff2'),\n",
      "            url('https://pictures.s3.yandex.net/fonts/landings/YSDisplay-Medium.woff') format('woff');\n",
      "        }\n",
      "\n",
      "\n",
      "        h2 {\n",
      "            font-family: 'Suisse', sans-serif;\n",
      "            font-size: 30pt;\n",
      "            width: 90%;\n",
      "            margin-right: auto;\n",
      "            margin-left: auto;\n",
      "            margin-top: 2vh;\n",
      "            text-transform: uppercase;\n",
      "        }\n",
      "        p, table {\n",
      "            font-family: 'YS Text', sans-serif;\n",
      "            font-size: 15pt;\n",
      "        }\n",
      "        p {\n",
      "            width: 90%;\n",
      "            margin: 3vh auto;\n",
      "        }\n",
      "\n",
      "        table {\n",
      "            border: 1px solid #edeff1;\n",
      "            border-spacing: 0px;\n",
      "            width: 90%;\n",
      "            margin: 0 auto;\n",
      "        }\n",
      "        tr {\n",
      "            height: 5vh;\n",
      "        }\n",
      "        tr:nth-child(2n) {\n",
      "            background: #f0eff4;\n",
      "        }\n",
      "        tr.header th {\n",
      "            border-bottom: none;\n",
      "            border-top: none;\n",
      "            border-left: none;\n",
      "            border-right: none;\n",
      "        }\n",
      "        tr,td,th {\n",
      "            border: none;\n",
      "\n",
      "        }\n",
      "        td {\n",
      "            text-align: center;\n",
      "        }\n",
      "    </style>\n",
      "\n",
      "    <title>Крупнейшие морские катастрофы XX века</title>\n",
      "</head>\n",
      "<body>\n",
      "<h2>Крупнейшие морские катастрофы XX века</h2>\n",
      "<p>Благодаря массовой культуре морские катастрофы чаще всего ассоциируются с «Титаником». Однако в начале XX века\n",
      "    столкновение парохода «Титаник» с айсбергом было не единственным кораблекрушением.</p>\n",
      "<table border=\"1\" width=\"100%\" cellpadding=\"5\" id=\"ten_years_first\">\n",
      "    <tr>\n",
      "        <th>Название корабля</th>\n",
      "        <th>Дата катастрофы</th>\n",
      "        <th>Место катастрофы</th>\n",
      "        <th>Причина катастрофы</th>\n",
      "    </tr>\n",
      "    <tr>\n",
      "        <td>«Генерал Слокам»</td>\n",
      "        <td>15 июня 1904 года</td>\n",
      "        <td>Ист-Ривер</td>\n",
      "        <td>Человеческий фактор</td>\n",
      "    </tr>\n",
      "    <tr>\n",
      "        <td>«Каморта»</td>\n",
      "        <td>6 мая 1902 года</td>\n",
      "        <td>Бенгальский залив</td>\n",
      "        <td>Природная стихия</td>\n",
      "    </tr>\n",
      "    <tr>\n",
      "        <td>«Норье»</td>\n",
      "        <td>28 июня 1904 года</td>\n",
      "        <td>Атлантический океан</td>\n",
      "        <td>Человеческий фактор</td>\n",
      "    </tr>\n",
      "</table>\n",
      "<p>Теперь посмотрим на тех, кто был рядом с «Титаником»:</p>\n",
      "<table border=\"1\" width=\"100%\" cellpadding=\"5\" id=\"ten_years_second\">\n",
      "    <tr>\n",
      "        <th>Название корабля</th>\n",
      "        <th>Дата катастрофы</th>\n",
      "        <th>Место катастрофы</th>\n",
      "        <th>Причина катастрофы</th>\n",
      "    </tr>\n",
      "    <tr>\n",
      "        <td>«Монблан»</td>\n",
      "        <td>6 декабря 1917 года</td>\n",
      "        <td>Галифакс (Канада)</td>\n",
      "        <td>Человеческий фактор</td>\n",
      "    </tr>\n",
      "    <tr>\n",
      "        <td>«Титаник»</td>\n",
      "        <td>15 апреля 1912 года</td>\n",
      "        <td>Атлантический океан</td>\n",
      "        <td>Человеческий фактор</td>\n",
      "    </tr>\n",
      "    <tr>\n",
      "        <td>«Императрица Ирландии»</td>\n",
      "        <td>29 мая 1914 года</td>\n",
      "        <td>Река Святого Лаврентия</td>\n",
      "        <td>Человеческий фактор</td>\n",
      "    </tr>\n",
      "</table>\n",
      "</body>\n",
      "</html>\n",
      "\n"
     ]
    }
   ],
   "source": [
    "print(res.text)"
   ]
  },
  {
   "cell_type": "code",
   "execution_count": 26,
   "metadata": {},
   "outputs": [],
   "source": [
    "soup = BeautifulSoup(res.text, 'lxml') "
   ]
  },
  {
   "cell_type": "code",
   "execution_count": 27,
   "metadata": {},
   "outputs": [
    {
     "name": "stdout",
     "output_type": "stream",
     "text": [
      "<h2>Крупнейшие морские катастрофы XX века</h2>\n"
     ]
    }
   ],
   "source": [
    "heading_2=soup.find('h2')\n",
    "print(heading_2) "
   ]
  },
  {
   "cell_type": "code",
   "execution_count": null,
   "metadata": {},
   "outputs": [],
   "source": [
    "body = soup.find('body').text\n",
    "print(body)"
   ]
  },
  {
   "cell_type": "code",
   "execution_count": 30,
   "metadata": {},
   "outputs": [
    {
     "name": "stdout",
     "output_type": "stream",
     "text": [
      "[<p>Благодаря массовой культуре морские катастрофы чаще всего ассоциируются с «Титаником». Однако в начале XX века\n",
      "    столкновение парохода «Титаник» с айсбергом было не единственным кораблекрушением.</p>, <p>Теперь посмотрим на тех, кто был рядом с «Титаником»:</p>]\n"
     ]
    }
   ],
   "source": [
    "paragraphs = soup.find_all('p') # напомним, p - это параграф, текст между тегами <p> и </p>\n",
    "print(paragraphs) "
   ]
  },
  {
   "cell_type": "code",
   "execution_count": 31,
   "metadata": {},
   "outputs": [
    {
     "name": "stdout",
     "output_type": "stream",
     "text": [
      "Благодаря массовой культуре морские катастрофы чаще всего ассоциируются с «Титаником». Однако в начале XX века\n",
      "    столкновение парохода «Титаник» с айсбергом было не единственным кораблекрушением.\n",
      "Теперь посмотрим на тех, кто был рядом с «Титаником»:\n"
     ]
    }
   ],
   "source": [
    "for paragraph in soup.find_all('p'):\n",
    "    print(paragraph.text) "
   ]
  },
  {
   "cell_type": "code",
   "execution_count": 34,
   "metadata": {},
   "outputs": [
    {
     "name": "stdout",
     "output_type": "stream",
     "text": [
      "<table border=\"1\" cellpadding=\"5\" id=\"ten_years_first\" width=\"100%\">\n",
      "<tr>\n",
      "<th>Название корабля</th>\n",
      "<th>Дата катастрофы</th>\n",
      "<th>Место катастрофы</th>\n",
      "<th>Причина катастрофы</th>\n",
      "</tr>\n",
      "<tr>\n",
      "<td>«Генерал Слокам»</td>\n",
      "<td>15 июня 1904 года</td>\n",
      "<td>Ист-Ривер</td>\n",
      "<td>Человеческий фактор</td>\n",
      "</tr>\n",
      "<tr>\n",
      "<td>«Каморта»</td>\n",
      "<td>6 мая 1902 года</td>\n",
      "<td>Бенгальский залив</td>\n",
      "<td>Природная стихия</td>\n",
      "</tr>\n",
      "<tr>\n",
      "<td>«Норье»</td>\n",
      "<td>28 июня 1904 года</td>\n",
      "<td>Атлантический океан</td>\n",
      "<td>Человеческий фактор</td>\n",
      "</tr>\n",
      "</table>\n"
     ]
    }
   ],
   "source": [
    "table = soup.find('table',attrs={'id': 'ten_years_first'})\n",
    "print(table) "
   ]
  },
  {
   "cell_type": "code",
   "execution_count": 38,
   "metadata": {},
   "outputs": [
    {
     "name": "stdout",
     "output_type": "stream",
     "text": [
      "['Название корабля', 'Дата катастрофы', 'Место катастрофы', 'Причина катастрофы']\n"
     ]
    }
   ],
   "source": [
    "heading_table = [] # Список, в котором будут храниться названия столбцов\n",
    "for row in table.find_all('th'): # Названия столбцов прячутся в элементах th, \n",
    "# поэтому будем искать все элементы th внутри table и пробегать по ним в цикле\n",
    "        heading_table.append(row.text) # Добавляем контент из тега th в список heading_table методом append()\n",
    "print(heading_table) "
   ]
  },
  {
   "cell_type": "code",
   "execution_count": 35,
   "metadata": {},
   "outputs": [
    {
     "name": "stdout",
     "output_type": "stream",
     "text": [
      "[['«Генерал Слокам»', '15 июня 1904 года', 'Ист-Ривер', 'Человеческий фактор'], ['«Каморта»', '6 мая 1902 года', 'Бенгальский залив', 'Природная стихия'], ['«Норье»', '28 июня 1904 года', 'Атлантический океан', 'Человеческий фактор']]\n"
     ]
    }
   ],
   "source": [
    "content=[] # Список, в котором будут храниться данные из таблицы\n",
    "for row in table.find_all('tr'): \n",
    "# Каждая строка обрамляется тегом tr, необходимо пробежаться в цикле по всем строкам\n",
    "    if not row.find_all('th'): \n",
    "# Эта проверка необходима, чтобы пропустить первую строку таблицы с заголовками\n",
    "            content.append([element.text for element in row.find_all('td')])\n",
    "            # В каждой строке контент ячейки обрамляется тегами <td> </td>\n",
    "            # Необходимо пробежаться в цикле по всем элементам td, вычленить контент из ячеек и добавить его в список \n",
    "            # Затем добавить каждый из списков в список content \n",
    "print(content) "
   ]
  },
  {
   "cell_type": "code",
   "execution_count": 39,
   "metadata": {},
   "outputs": [
    {
     "name": "stdout",
     "output_type": "stream",
     "text": [
      "   Название корабля    Дата катастрофы     Место катастрофы  \\\n",
      "0  «Генерал Слокам»  15 июня 1904 года            Ист-Ривер   \n",
      "1         «Каморта»    6 мая 1902 года    Бенгальский залив   \n",
      "2           «Норье»  28 июня 1904 года  Атлантический океан   \n",
      "\n",
      "    Причина катастрофы  \n",
      "0  Человеческий фактор  \n",
      "1     Природная стихия  \n",
      "2  Человеческий фактор  \n"
     ]
    }
   ],
   "source": [
    "shipwrecks = pd.DataFrame(content, columns=heading_table) \n",
    "# в качестве данных передаем двумерный список content, а в качестве заголовков - heading_table\n",
    "print(shipwrecks.head()) "
   ]
  }
 ],
 "metadata": {
  "kernelspec": {
   "display_name": "Python 3.10.0 ('.env_jupyter': venv)",
   "language": "python",
   "name": "python3"
  },
  "language_info": {
   "codemirror_mode": {
    "name": "ipython",
    "version": 3
   },
   "file_extension": ".py",
   "mimetype": "text/x-python",
   "name": "python",
   "nbconvert_exporter": "python",
   "pygments_lexer": "ipython3",
   "version": "3.10.0"
  },
  "orig_nbformat": 4,
  "vscode": {
   "interpreter": {
    "hash": "acd7119d548134a99e6f9d1f29df8db3a357202429f0f56f73b34e23b90bc877"
   }
  }
 },
 "nbformat": 4,
 "nbformat_minor": 2
}
