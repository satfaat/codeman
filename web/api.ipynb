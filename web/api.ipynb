{
 "cells": [
  {
   "attachments": {},
   "cell_type": "markdown",
   "metadata": {},
   "source": [
    "## docu\n",
    "\n",
    "- [httpx quick start](https://www.python-httpx.org/quickstart/)\n",
    "\n",
    "### get vs post\n",
    "\n",
    "attr | get | post\n",
    "--|--|--\n",
    "BACK button/Reload | harmless | Data will be re-submitted (the browser should alert the user that the data are about to be re-submitted)\n",
    "Bookmarked | Can be bookmarked | Cannot be bookmarked\n",
    "Cached | Can be cached | Not cached\n",
    "Encoding type | application/x-www-form-urlencoded | application/x-www-form-urlencoded or multipart/form-data. Use multipart encoding for binary data\n",
    "History | Parameters remain in browser history | Parameters are not saved in browser history\n",
    "Restrictions on data length | Yes, when sending data, the GET method adds the data to the URL; and the length of a URL is limited (maximum URL length is 2048 characters) | No restrictions\n",
    "Restrictions on data type | Only ASCII characters allowed | No restrictions. Binary data is also allowed\n",
    "Security | GET is less secure compared to POST because data sent is part of the URL. Never use GET when sending passwords or other sensitive information! | POST is a little safer than GET because the parameters are not stored in browser history or in web server logs\n",
    "Visibility | Data is visible to everyone in the URL | Data is not displayed in the URL\n",
    "\n",
    "\n",
    "### post vs put\n",
    "\n",
    "- put\n",
    "    - are idempotent: calling the same PUT request multiple times will always produce the same result\n",
    "- post\n",
    "    - calling a POST request repeatedly have side effects of creating the same resource multiple times\n",
    "\n",
    "## Authentication\n",
    "\n",
    "```bash\n",
    "echo \"username:password\"|base64\n",
    "echo \"dXNlcm5hbWU6cGFzc3dvcmQK\"|base64 -d\n",
    "```"
   ]
  },
  {
   "cell_type": "markdown",
   "metadata": {},
   "source": [
    "### status code 200"
   ]
  },
  {
   "cell_type": "markdown",
   "metadata": {},
   "source": [
    "- 200 is ok for get request. \n",
    "- 201 is created with post request"
   ]
  },
  {
   "cell_type": "markdown",
   "metadata": {},
   "source": [
    "### code 300"
   ]
  },
  {
   "cell_type": "markdown",
   "metadata": {},
   "source": [
    "- 302 is redirect"
   ]
  },
  {
   "cell_type": "markdown",
   "metadata": {},
   "source": [
    "### code 400"
   ]
  },
  {
   "cell_type": "markdown",
   "metadata": {},
   "source": [
    "- 401 is unauthorized. to access data without the correct credentials\n",
    "- 404 is page not found\n",
    "- 409 is already exists. to create an existing entity"
   ]
  },
  {
   "cell_type": "markdown",
   "metadata": {},
   "source": [
    "## code"
   ]
  },
  {
   "cell_type": "code",
   "execution_count": 45,
   "metadata": {},
   "outputs": [],
   "source": [
    "import httpx\n",
    "import re\n",
    "import json\n",
    "import base64"
   ]
  },
  {
   "cell_type": "code",
   "execution_count": 2,
   "metadata": {},
   "outputs": [],
   "source": [
    "import lxml.html"
   ]
  },
  {
   "cell_type": "code",
   "execution_count": 2,
   "metadata": {},
   "outputs": [],
   "source": [
    "URLS = [\n",
    "        'https://yandex.ru/',\n",
    "        'https://weather.data-analyst.praktikum-services.ru/v1/forecast',\n",
    "        'https://fakestoreapi.com/products',\n",
    "        'https://store.steampowered.com/explore/new/'\n",
    "        ]\n",
    "PARAM = {'page': '4'}\n",
    "params1 = {\n",
    "        'city' : 'Moscow',\n",
    "        'hours' : True\n",
    "    }"
   ]
  },
  {
   "cell_type": "code",
   "execution_count": null,
   "metadata": {},
   "outputs": [],
   "source": [
    "api_set_list = []\n",
    "# url, data, params"
   ]
  },
  {
   "cell_type": "code",
   "execution_count": 59,
   "metadata": {},
   "outputs": [],
   "source": [
    "def jprint(obj):\n",
    "    # create a formatted string of the Python JSON object\n",
    "    text = json.dumps(obj, sort_keys=True, indent=4)\n",
    "    print(text)"
   ]
  },
  {
   "cell_type": "code",
   "execution_count": 2,
   "metadata": {},
   "outputs": [
    {
     "ename": "NameError",
     "evalue": "name 'httpx' is not defined",
     "output_type": "error",
     "traceback": [
      "\u001b[1;31m---------------------------------------------------------------------------\u001b[0m",
      "\u001b[1;31mNameError\u001b[0m                                 Traceback (most recent call last)",
      "Cell \u001b[1;32mIn[2], line 1\u001b[0m\n\u001b[1;32m----> 1\u001b[0m res \u001b[39m=\u001b[39m httpx\u001b[39m.\u001b[39mget(url\u001b[39m=\u001b[39mURLS[\u001b[39m2\u001b[39m], params\u001b[39m=\u001b[39mparams1) \n\u001b[0;32m      3\u001b[0m \u001b[39mf\u001b[39m\u001b[39m'\u001b[39m\u001b[39mcode \u001b[39m\u001b[39m{\u001b[39;00mres\u001b[39m.\u001b[39mstatus_code\u001b[39m}\u001b[39;00m\u001b[39m and encoding \u001b[39m\u001b[39m{\u001b[39;00mres\u001b[39m.\u001b[39mencoding\u001b[39m}\u001b[39;00m\u001b[39m'\u001b[39m, \\\n\u001b[0;32m      4\u001b[0m     res\u001b[39m.\u001b[39murl\n",
      "\u001b[1;31mNameError\u001b[0m: name 'httpx' is not defined"
     ]
    }
   ],
   "source": [
    "res = httpx.get(url=URLS[2], params=params1) \n",
    "\n",
    "f'code {res.status_code} and encoding {res.encoding}', \\\n",
    "    res.url"
   ]
  },
  {
   "cell_type": "markdown",
   "metadata": {},
   "source": [
    "### Redirection and History"
   ]
  },
  {
   "cell_type": "code",
   "execution_count": 24,
   "metadata": {},
   "outputs": [],
   "source": [
    "res = httpx.get('http://github.com/')  # status code 301"
   ]
  },
  {
   "cell_type": "code",
   "execution_count": 25,
   "metadata": {},
   "outputs": [
    {
     "data": {
      "text/plain": [
       "<Request('GET', 'https://github.com/')>"
      ]
     },
     "execution_count": 25,
     "metadata": {},
     "output_type": "execute_result"
    }
   ],
   "source": [
    "res.next_request"
   ]
  },
  {
   "cell_type": "code",
   "execution_count": 20,
   "metadata": {},
   "outputs": [],
   "source": [
    "res = httpx.get('http://github.com/', follow_redirects=True)  # status code 200"
   ]
  },
  {
   "cell_type": "code",
   "execution_count": 22,
   "metadata": {},
   "outputs": [
    {
     "data": {
      "text/plain": [
       "[<Response [301 Moved Permanently]>]"
      ]
     },
     "execution_count": 22,
     "metadata": {},
     "output_type": "execute_result"
    }
   ],
   "source": [
    "res.history"
   ]
  },
  {
   "cell_type": "code",
   "execution_count": 4,
   "metadata": {},
   "outputs": [],
   "source": [
    "res = httpx.get(url=URLS[4-1])"
   ]
  },
  {
   "cell_type": "code",
   "execution_count": null,
   "metadata": {},
   "outputs": [],
   "source": [
    "res.text"
   ]
  },
  {
   "cell_type": "code",
   "execution_count": null,
   "metadata": {},
   "outputs": [],
   "source": [
    "res.json()"
   ]
  },
  {
   "cell_type": "code",
   "execution_count": null,
   "metadata": {},
   "outputs": [],
   "source": [
    "jprint(res.json())"
   ]
  },
  {
   "cell_type": "code",
   "execution_count": null,
   "metadata": {},
   "outputs": [],
   "source": [
    "for prod in res.json():\n",
    "    print(prod['price'])"
   ]
  },
  {
   "cell_type": "code",
   "execution_count": null,
   "metadata": {},
   "outputs": [],
   "source": [
    "json.loads(res.text)"
   ]
  },
  {
   "cell_type": "code",
   "execution_count": 5,
   "metadata": {},
   "outputs": [],
   "source": [
    "html = lxml.html.fromstring(res.content)"
   ]
  },
  {
   "cell_type": "code",
   "execution_count": 6,
   "metadata": {},
   "outputs": [
    {
     "data": {
      "text/plain": [
       "[{'title': 'Atari 50: The Anniversary Celebration', 'price': '$18.49'},\n",
       " {'title': 'Lords and Villeins', 'price': '$16.49'},\n",
       " {'title': 'Among Us VR', 'price': '$6.29'}]"
      ]
     },
     "execution_count": 6,
     "metadata": {},
     "output_type": "execute_result"
    }
   ],
   "source": [
    "new_releases = html.xpath('//div[@id=\"tab_newreleases_content\"]')[0]\n",
    "titles = new_releases.xpath('.//div[@class=\"tab_item_name\"]/text()')\n",
    "prices = new_releases.xpath('.//div[@class=\"discount_final_price\"]/text()')\n",
    "\n",
    "output = []\n",
    "\n",
    "for info in zip(titles, prices):\n",
    "    games = {}\n",
    "    games['title'] = info[0]\n",
    "    games['price'] = info[1]\n",
    "    output.append(games)\n",
    "\n",
    "output[:3]"
   ]
  },
  {
   "cell_type": "markdown",
   "metadata": {},
   "source": [
    "## POST testing"
   ]
  },
  {
   "cell_type": "markdown",
   "metadata": {},
   "source": [
    "- are never cached\n",
    "- do not remain in the browser history\n",
    "- cannot be bookmarked\n",
    "- have no restrictions on data length"
   ]
  },
  {
   "cell_type": "code",
   "execution_count": 12,
   "metadata": {},
   "outputs": [],
   "source": [
    "payload = {\n",
    "    'title': 'new product',\n",
    "    'price': 13.5,\n",
    "    'description': 'test description',\n",
    "    'image': '',\n",
    "    'category': 'electronic'\n",
    "}"
   ]
  },
  {
   "cell_type": "code",
   "execution_count": 15,
   "metadata": {},
   "outputs": [],
   "source": [
    "res_post = httpx.post(url=URLS[2], data=payload)"
   ]
  },
  {
   "cell_type": "code",
   "execution_count": 18,
   "metadata": {},
   "outputs": [
    {
     "data": {
      "text/plain": [
       "{'id': 21,\n",
       " 'title': 'new product',\n",
       " 'price': '13.5',\n",
       " 'description': 'test description',\n",
       " 'image': '',\n",
       " 'category': 'electronic'}"
      ]
     },
     "execution_count": 18,
     "metadata": {},
     "output_type": "execute_result"
    }
   ],
   "source": [
    "res_post.json()"
   ]
  },
  {
   "cell_type": "markdown",
   "metadata": {},
   "source": [
    "### Authentication"
   ]
  },
  {
   "cell_type": "code",
   "execution_count": 31,
   "metadata": {},
   "outputs": [
    {
     "data": {
      "text/plain": [
       "b'my_user'"
      ]
     },
     "execution_count": 31,
     "metadata": {},
     "output_type": "execute_result"
    }
   ],
   "source": [
    "auth = httpx.DigestAuth(\"my_user\", \"password123\")\n",
    "auth._username"
   ]
  },
  {
   "cell_type": "code",
   "execution_count": 29,
   "metadata": {},
   "outputs": [
    {
     "data": {
      "text/plain": [
       "<Response [200 OK]>"
      ]
     },
     "execution_count": 29,
     "metadata": {},
     "output_type": "execute_result"
    }
   ],
   "source": [
    "\n",
    "\n",
    "res = httpx.get(\"https://example.com\", auth=auth)\n",
    "res\n"
   ]
  },
  {
   "cell_type": "code",
   "execution_count": 52,
   "metadata": {},
   "outputs": [
    {
     "data": {
      "text/plain": [
       "('Basic', ' ', 'YWxpY2U6ZWNpbGExMjM=')"
      ]
     },
     "execution_count": 52,
     "metadata": {},
     "output_type": "execute_result"
    }
   ],
   "source": [
    "with httpx.Client(auth=('tom', 'mot123')) as client:\n",
    "    r = client.get('https://example.com', auth=('alice', 'ecila123'))\n",
    "auth = r.request.headers['Authorization'].partition(' ')\n",
    "auth"
   ]
  },
  {
   "cell_type": "code",
   "execution_count": 53,
   "metadata": {},
   "outputs": [],
   "source": [
    "_, _, auth = r.request.headers['Authorization'].partition(' ')"
   ]
  },
  {
   "cell_type": "code",
   "execution_count": 54,
   "metadata": {},
   "outputs": [
    {
     "data": {
      "text/plain": [
       "b'alice:ecila123'"
      ]
     },
     "execution_count": 54,
     "metadata": {},
     "output_type": "execute_result"
    }
   ],
   "source": [
    "base64.b64decode(auth)"
   ]
  },
  {
   "cell_type": "markdown",
   "metadata": {},
   "source": [
    "### ssl"
   ]
  },
  {
   "cell_type": "code",
   "execution_count": null,
   "metadata": {},
   "outputs": [],
   "source": [
    "httpx.get(\"https://localhost:8000\")"
   ]
  },
  {
   "cell_type": "code",
   "execution_count": null,
   "metadata": {},
   "outputs": [],
   "source": [
    "httpx.get(\"https://localhost:8000\", verify=\"/tmp/client.pem\")"
   ]
  },
  {
   "cell_type": "code",
   "execution_count": null,
   "metadata": {},
   "outputs": [],
   "source": [
    "# ConnectError: [SSL: CERTIFICATE_VERIFY_FAILED] certificate verify failed: certificate has expired (_ssl.c:997)\n",
    "httpx.get('https://expired.badssl.com/')"
   ]
  },
  {
   "cell_type": "code",
   "execution_count": 65,
   "metadata": {},
   "outputs": [
    {
     "data": {
      "text/plain": [
       "<Response [200 OK]>"
      ]
     },
     "execution_count": 65,
     "metadata": {},
     "output_type": "execute_result"
    }
   ],
   "source": [
    "# verify ='/path/to/certfile'\n",
    "# cert=('/path/client.cert', '/path/client.key'))\n",
    "ssl_bypass = httpx.get('https://expired.badssl.com/', verify = False)\n",
    "ssl_bypass"
   ]
  },
  {
   "cell_type": "code",
   "execution_count": 32,
   "metadata": {},
   "outputs": [],
   "source": [
    "try:\n",
    "    response = httpx.get(\"https://www.example.com/\")\n",
    "except httpx.RequestError as exc:\n",
    "    print(f\"An error occurred while requesting {exc.request.url!r}.\")"
   ]
  },
  {
   "cell_type": "code",
   "execution_count": 33,
   "metadata": {},
   "outputs": [],
   "source": [
    "response = httpx.get(\"https://www.example.com/\")\n",
    "try:\n",
    "    response.raise_for_status()\n",
    "except httpx.HTTPStatusError as exc:\n",
    "    print(f\"Error response {exc.response.status_code} while requesting {exc.request.url!r}.\")\n"
   ]
  },
  {
   "cell_type": "code",
   "execution_count": 34,
   "metadata": {},
   "outputs": [],
   "source": [
    "try:\n",
    "    response = httpx.get(\"https://www.example.com/\")\n",
    "    response.raise_for_status()\n",
    "except httpx.HTTPError as exc:\n",
    "    print(f\"Error while requesting {exc.request.url!r}.\")"
   ]
  },
  {
   "cell_type": "code",
   "execution_count": 35,
   "metadata": {},
   "outputs": [],
   "source": [
    "try:\n",
    "    response = httpx.get(\"https://www.example.com/\")\n",
    "    response.raise_for_status()\n",
    "except httpx.RequestError as exc:\n",
    "    print(f\"An error occurred while requesting {exc.request.url!r}.\")\n",
    "except httpx.HTTPStatusError as exc:\n",
    "    print(f\"Error response {exc.response.status_code} while requesting {exc.request.url!r}.\")\n"
   ]
  },
  {
   "cell_type": "markdown",
   "metadata": {},
   "source": [
    "## Get"
   ]
  },
  {
   "cell_type": "markdown",
   "metadata": {},
   "source": [
    "- /test/demo_form.php?name1=value1&name2=value2\n",
    "- can be cached\n",
    "- remain in the browser history\n",
    "- can be bookmarked\n",
    "- should never be used when dealing with sensitive data\n",
    "- have length restrictions\n",
    "- are only used to request data (not modify)"
   ]
  },
  {
   "cell_type": "code",
   "execution_count": 36,
   "metadata": {},
   "outputs": [
    {
     "data": {
      "text/plain": [
       "<Response [200 OK]>"
      ]
     },
     "execution_count": 36,
     "metadata": {},
     "output_type": "execute_result"
    }
   ],
   "source": [
    "with httpx.Client() as client:\n",
    "    r = client.get('https://example.com')\n",
    "r"
   ]
  },
  {
   "cell_type": "code",
   "execution_count": 37,
   "metadata": {},
   "outputs": [
    {
     "data": {
      "text/plain": [
       "'value'"
      ]
     },
     "execution_count": 37,
     "metadata": {},
     "output_type": "execute_result"
    }
   ],
   "source": [
    "with httpx.Client() as client:\n",
    "    headers = {'X-Custom': 'value'}\n",
    "    r = client.get('https://example.com', headers=headers)\n",
    "r.request.headers['X-Custom']"
   ]
  },
  {
   "cell_type": "code",
   "execution_count": 38,
   "metadata": {},
   "outputs": [
    {
     "data": {
      "text/plain": [
       "'my-app/0.0.1'"
      ]
     },
     "execution_count": 38,
     "metadata": {},
     "output_type": "execute_result"
    }
   ],
   "source": [
    "url = 'http://httpbin.org/headers'\n",
    "headers = {'user-agent': 'my-app/0.0.1'}\n",
    "with httpx.Client(headers=headers) as client:\n",
    "    r = client.get(url)\n",
    "r.json()['headers']['User-Agent']"
   ]
  },
  {
   "cell_type": "code",
   "execution_count": 44,
   "metadata": {},
   "outputs": [
    {
     "name": "stdout",
     "output_type": "stream",
     "text": [
      "\n",
      "https://example.com?client_id=client1&request_id=request1 \n",
      "from-client \n",
      "from-request\n",
      "\n"
     ]
    }
   ],
   "source": [
    "headers = {'X-Auth': 'from-client'}\n",
    "params = {'client_id': 'client1'}\n",
    "with httpx.Client(headers=headers, params=params) as client:\n",
    "    headers = {'X-Custom': 'from-request'}\n",
    "    params = {'request_id': 'request1'}\n",
    "    r = client.get('https://example.com', headers=headers, params=params)\n",
    "\n",
    "print(f'''\n",
    "{r.request.url} \n",
    "{r.request.headers['X-Auth']} \n",
    "{r.request.headers['X-Custom']}\n",
    "''')"
   ]
  },
  {
   "cell_type": "markdown",
   "metadata": {},
   "source": [
    "### streaming responses"
   ]
  },
  {
   "cell_type": "code",
   "execution_count": null,
   "metadata": {},
   "outputs": [],
   "source": [
    "with httpx.stream(\"GET\", \"https://www.example.com\") as r:\n",
    "    for data in r.iter_bytes():\n",
    "        print(data)"
   ]
  },
  {
   "cell_type": "markdown",
   "metadata": {},
   "source": [
    "## delete testing"
   ]
  },
  {
   "cell_type": "code",
   "execution_count": 19,
   "metadata": {},
   "outputs": [],
   "source": [
    "res_del = httpx.delete('https://fakestoreapi.com/products/21')"
   ]
  },
  {
   "cell_type": "code",
   "execution_count": 21,
   "metadata": {},
   "outputs": [],
   "source": [
    "res_del.json()"
   ]
  },
  {
   "cell_type": "markdown",
   "metadata": {},
   "source": [
    "## Event Hooks"
   ]
  },
  {
   "cell_type": "code",
   "execution_count": 56,
   "metadata": {},
   "outputs": [],
   "source": [
    "def log_request(request):\n",
    "    print(f\"Request event hook: {request.method} {request.url} - Waiting for response\")\n",
    "\n",
    "def log_response(response):\n",
    "    request = response.request\n",
    "    print(f\"Response event hook: {request.method} {request.url} - Status {response.status_code}\")\n",
    "\n",
    "client = httpx.Client(event_hooks={'request': [log_request], 'response': [log_response]})\n"
   ]
  },
  {
   "cell_type": "markdown",
   "metadata": {},
   "source": [
    "## JS"
   ]
  },
  {
   "cell_type": "code",
   "execution_count": null,
   "metadata": {
    "vscode": {
     "languageId": "javascript"
    }
   },
   "outputs": [],
   "source": [
    "fetch('https://fakestoreapi.com/products',\n",
    "  ).then(res =>{\n",
    "    if (res.ok){\n",
    "    return res.json()\n",
    "}\n",
    "}).then(response=>{\n",
    "    console.log(response)\n",
    "}).catch(err => console.log(err))"
   ]
  },
  {
   "cell_type": "code",
   "execution_count": 1,
   "metadata": {
    "vscode": {
     "languageId": "javascript"
    }
   },
   "outputs": [
    {
     "data": {
      "application/javascript": "fetch('https://fakestoreapi.com/products',\n  ).then(res =>{\n    if (res.ok){\n    return res.json()\n}\n}).then(response=>{\n    response.map(data =>{\n        console.log(data.price)\n    })\n    // console.log(response)\n}).catch(err => console.log(err))\n",
      "text/plain": [
       "<IPython.core.display.Javascript object>"
      ]
     },
     "metadata": {},
     "output_type": "display_data"
    }
   ],
   "source": [
    "%%javascript\n",
    "fetch('https://fakestoreapi.com/products',\n",
    "  ).then(res =>{\n",
    "    if (res.ok){\n",
    "    return res.json()\n",
    "}\n",
    "}).then(response=>{\n",
    "    response.map(data =>{\n",
    "        console.log(data.price)\n",
    "    })\n",
    "    // console.log(response)\n",
    "}).catch(err => console.log(err))"
   ]
  },
  {
   "cell_type": "code",
   "execution_count": null,
   "metadata": {
    "vscode": {
     "languageId": "javascript"
    }
   },
   "outputs": [],
   "source": [
    "// Specify the payload \n",
    "let payload = {\n",
    "    title: 'new product',\n",
    "    price: 13.5,\n",
    "    description: 'test description',\n",
    "    image: '',\n",
    "    category: 'electronic'\n",
    "}\n",
    "\n",
    "fetch('https://fakestoreapi.com/products',\n",
    "{\n",
    "    method: \"Post\",\n",
    "    headers:{\n",
    "        'Content-Type': 'application/json'  \n",
    "    },\n",
    "    body: JSON.stringify(payload) //convert the payload to JSON \n",
    "}\n",
    "  ).then(res =>{\n",
    "      if (res.ok){\n",
    "    console.log(res.status)\n",
    "    return res.json()\n",
    "}\n",
    "}).then(response => {\n",
    "    console.log(response)\n",
    "}).catch(err => console.log(err))"
   ]
  },
  {
   "cell_type": "code",
   "execution_count": null,
   "metadata": {
    "vscode": {
     "languageId": "javascript"
    }
   },
   "outputs": [],
   "source": [
    "fetch('https://fakestoreapi.com/products/19',\n",
    "{\n",
    "    method: \"Put\",\n",
    "    headers:{\n",
    "        'Content-Type': 'application/json'  \n",
    "    },\n",
    "    body: JSON.stringify(payload) //convert the payload into JSON\n",
    "}\n",
    "  ).then(res =>{\n",
    "      if (res.ok){\n",
    "    console.log(res.status)\n",
    "    return res.json()\n",
    "}\n",
    "}).then(response => {\n",
    "    console.log(response)\n",
    "}).catch(err => console.log(err))"
   ]
  },
  {
   "cell_type": "code",
   "execution_count": null,
   "metadata": {
    "vscode": {
     "languageId": "javascript"
    }
   },
   "outputs": [],
   "source": [
    "fetch('https://fakestoreapi.com/products/19',\n",
    "{\n",
    "    method: \"Delete\",\n",
    "    headers:{\n",
    "        'Content-Type': 'application/json'  \n",
    "    }\n",
    "}\n",
    "  ).then(res =>{\n",
    "      if (res.ok){\n",
    "    console.log(res.status)\n",
    "    return res.json()\n",
    "}\n",
    "}).then(response => {\n",
    "    console.log(response)\n",
    "}).catch(err => console.log(err))"
   ]
  }
 ],
 "metadata": {
  "kernelspec": {
   "display_name": ".envpy",
   "language": "python",
   "name": "python3"
  },
  "language_info": {
   "codemirror_mode": {
    "name": "ipython",
    "version": 3
   },
   "file_extension": ".py",
   "mimetype": "text/x-python",
   "name": "python",
   "nbconvert_exporter": "python",
   "pygments_lexer": "ipython3",
   "version": "3.11.1 (tags/v3.11.1:a7a450f, Dec  6 2022, 19:58:39) [MSC v.1934 64 bit (AMD64)]"
  },
  "orig_nbformat": 4,
  "vscode": {
   "interpreter": {
    "hash": "d466f5a145533eacc584c6d911e4e9caf56217c1cef976a2b5467cc7558a574d"
   }
  }
 },
 "nbformat": 4,
 "nbformat_minor": 2
}
