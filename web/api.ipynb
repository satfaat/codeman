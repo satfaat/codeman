{
 "cells": [
  {
   "cell_type": "markdown",
   "metadata": {},
   "source": [
    "## docu"
   ]
  },
  {
   "cell_type": "markdown",
   "metadata": {},
   "source": [
    "### status code 200"
   ]
  },
  {
   "cell_type": "markdown",
   "metadata": {},
   "source": [
    "- 200 is ok for get request. \n",
    "- 201 is created with post request"
   ]
  },
  {
   "cell_type": "markdown",
   "metadata": {},
   "source": [
    "### code 300"
   ]
  },
  {
   "cell_type": "markdown",
   "metadata": {},
   "source": [
    "- 302 is redirect"
   ]
  },
  {
   "cell_type": "markdown",
   "metadata": {},
   "source": [
    "### code 400"
   ]
  },
  {
   "cell_type": "markdown",
   "metadata": {},
   "source": [
    "- 401 is unauthorized. to access data without the correct credentials\n",
    "- 404 is page not found\n",
    "- 409 is already exists. to create an existing entity"
   ]
  },
  {
   "cell_type": "markdown",
   "metadata": {},
   "source": [
    "## code"
   ]
  },
  {
   "cell_type": "code",
   "execution_count": 1,
   "metadata": {},
   "outputs": [],
   "source": [
    "import httpx\n",
    "import re\n",
    "import json"
   ]
  },
  {
   "cell_type": "code",
   "execution_count": 2,
   "metadata": {},
   "outputs": [],
   "source": [
    "import lxml.html"
   ]
  },
  {
   "cell_type": "code",
   "execution_count": 3,
   "metadata": {},
   "outputs": [],
   "source": [
    "URLS = [\n",
    "        'https://yandex.ru/',\n",
    "        'https://weather.data-analyst.praktikum-services.ru/v1/forecast',\n",
    "        'https://fakestoreapi.com/products',\n",
    "        'https://store.steampowered.com/explore/new/'\n",
    "        ]\n",
    "PARAM = {'page': '4'}\n",
    "params1 = {\n",
    "        'city' : 'Moscow',\n",
    "        'hours' : True\n",
    "    }"
   ]
  },
  {
   "cell_type": "code",
   "execution_count": 17,
   "metadata": {},
   "outputs": [],
   "source": [
    "res = httpx.get(url=URLS[2], params=params1) "
   ]
  },
  {
   "cell_type": "code",
   "execution_count": 4,
   "metadata": {},
   "outputs": [],
   "source": [
    "res = httpx.get(url=URLS[4-1])"
   ]
  },
  {
   "cell_type": "code",
   "execution_count": 5,
   "metadata": {},
   "outputs": [
    {
     "data": {
      "text/plain": [
       "'code 200'"
      ]
     },
     "execution_count": 5,
     "metadata": {},
     "output_type": "execute_result"
    }
   ],
   "source": [
    "f'code {res.status_code}'"
   ]
  },
  {
   "cell_type": "code",
   "execution_count": null,
   "metadata": {},
   "outputs": [],
   "source": [
    "res.json()"
   ]
  },
  {
   "cell_type": "code",
   "execution_count": null,
   "metadata": {},
   "outputs": [],
   "source": [
    "for prod in res.json():\n",
    "    print(prod['price'])"
   ]
  },
  {
   "cell_type": "code",
   "execution_count": null,
   "metadata": {},
   "outputs": [],
   "source": [
    "json.loads(res.text)"
   ]
  },
  {
   "cell_type": "code",
   "execution_count": 5,
   "metadata": {},
   "outputs": [],
   "source": [
    "html = lxml.html.fromstring(res.content)"
   ]
  },
  {
   "cell_type": "code",
   "execution_count": 6,
   "metadata": {},
   "outputs": [
    {
     "data": {
      "text/plain": [
       "[{'title': 'Atari 50: The Anniversary Celebration', 'price': '$18.49'},\n",
       " {'title': 'Lords and Villeins', 'price': '$16.49'},\n",
       " {'title': 'Among Us VR', 'price': '$6.29'}]"
      ]
     },
     "execution_count": 6,
     "metadata": {},
     "output_type": "execute_result"
    }
   ],
   "source": [
    "new_releases = html.xpath('//div[@id=\"tab_newreleases_content\"]')[0]\n",
    "titles = new_releases.xpath('.//div[@class=\"tab_item_name\"]/text()')\n",
    "prices = new_releases.xpath('.//div[@class=\"discount_final_price\"]/text()')\n",
    "\n",
    "output = []\n",
    "\n",
    "for info in zip(titles, prices):\n",
    "    games = {}\n",
    "    games['title'] = info[0]\n",
    "    games['price'] = info[1]\n",
    "    output.append(games)\n",
    "\n",
    "output[:3]"
   ]
  },
  {
   "cell_type": "markdown",
   "metadata": {},
   "source": [
    "## POST testing"
   ]
  },
  {
   "cell_type": "code",
   "execution_count": 12,
   "metadata": {},
   "outputs": [],
   "source": [
    "payload = {\n",
    "    'title': 'new product',\n",
    "    'price': 13.5,\n",
    "    'description': 'test description',\n",
    "    'image': '',\n",
    "    'category': 'electronic'\n",
    "}"
   ]
  },
  {
   "cell_type": "code",
   "execution_count": 15,
   "metadata": {},
   "outputs": [],
   "source": [
    "res_post = httpx.post(url=URLS[2], data=payload)"
   ]
  },
  {
   "cell_type": "code",
   "execution_count": 18,
   "metadata": {},
   "outputs": [
    {
     "data": {
      "text/plain": [
       "{'id': 21,\n",
       " 'title': 'new product',\n",
       " 'price': '13.5',\n",
       " 'description': 'test description',\n",
       " 'image': '',\n",
       " 'category': 'electronic'}"
      ]
     },
     "execution_count": 18,
     "metadata": {},
     "output_type": "execute_result"
    }
   ],
   "source": [
    "res_post.json()"
   ]
  },
  {
   "cell_type": "markdown",
   "metadata": {},
   "source": [
    "## delete testing"
   ]
  },
  {
   "cell_type": "code",
   "execution_count": 19,
   "metadata": {},
   "outputs": [],
   "source": [
    "res_del = httpx.delete('https://fakestoreapi.com/products/21')"
   ]
  },
  {
   "cell_type": "code",
   "execution_count": 21,
   "metadata": {},
   "outputs": [],
   "source": [
    "res_del.json()"
   ]
  },
  {
   "cell_type": "markdown",
   "metadata": {},
   "source": [
    "## JS"
   ]
  },
  {
   "cell_type": "code",
   "execution_count": null,
   "metadata": {
    "vscode": {
     "languageId": "javascript"
    }
   },
   "outputs": [],
   "source": [
    "fetch('https://fakestoreapi.com/products',\n",
    "  ).then(res =>{\n",
    "    if (res.ok){\n",
    "    return res.json()\n",
    "}\n",
    "}).then(response=>{\n",
    "    console.log(response)\n",
    "}).catch(err => console.log(err))"
   ]
  },
  {
   "cell_type": "code",
   "execution_count": null,
   "metadata": {
    "vscode": {
     "languageId": "javascript"
    }
   },
   "outputs": [],
   "source": [
    "fetch('https://fakestoreapi.com/products',\n",
    "  ).then(res =>{\n",
    "    if (res.ok){\n",
    "    return res.json()\n",
    "}\n",
    "}).then(response=>{\n",
    "    response.map(data =>{\n",
    "        console.log(data.price)\n",
    "    })\n",
    "    // console.log(response)\n",
    "}).catch(err => console.log(err))"
   ]
  },
  {
   "cell_type": "code",
   "execution_count": null,
   "metadata": {
    "vscode": {
     "languageId": "javascript"
    }
   },
   "outputs": [],
   "source": [
    "// Specify the payload \n",
    "let payload = {\n",
    "    title: 'new product',\n",
    "    price: 13.5,\n",
    "    description: 'test description',\n",
    "    image: '',\n",
    "    category: 'electronic'\n",
    "}\n",
    "\n",
    "fetch('https://fakestoreapi.com/products',\n",
    "{\n",
    "    method: \"Post\",\n",
    "    headers:{\n",
    "        'Content-Type': 'application/json'  \n",
    "    },\n",
    "    body: JSON.stringify(payload) //convert the payload to JSON \n",
    "}\n",
    "  ).then(res =>{\n",
    "      if (res.ok){\n",
    "    console.log(res.status)\n",
    "    return res.json()\n",
    "}\n",
    "}).then(response => {\n",
    "    console.log(response)\n",
    "}).catch(err => console.log(err))"
   ]
  },
  {
   "cell_type": "code",
   "execution_count": null,
   "metadata": {
    "vscode": {
     "languageId": "javascript"
    }
   },
   "outputs": [],
   "source": [
    "fetch('https://fakestoreapi.com/products/19',\n",
    "{\n",
    "    method: \"Put\",\n",
    "    headers:{\n",
    "        'Content-Type': 'application/json'  \n",
    "    },\n",
    "    body: JSON.stringify(payload) //convert the payload into JSON\n",
    "}\n",
    "  ).then(res =>{\n",
    "      if (res.ok){\n",
    "    console.log(res.status)\n",
    "    return res.json()\n",
    "}\n",
    "}).then(response => {\n",
    "    console.log(response)\n",
    "}).catch(err => console.log(err))"
   ]
  },
  {
   "cell_type": "code",
   "execution_count": null,
   "metadata": {
    "vscode": {
     "languageId": "javascript"
    }
   },
   "outputs": [],
   "source": [
    "fetch('https://fakestoreapi.com/products/19',\n",
    "{\n",
    "    method: \"Delete\",\n",
    "    headers:{\n",
    "        'Content-Type': 'application/json'  \n",
    "    }\n",
    "}\n",
    "  ).then(res =>{\n",
    "      if (res.ok){\n",
    "    console.log(res.status)\n",
    "    return res.json()\n",
    "}\n",
    "}).then(response => {\n",
    "    console.log(response)\n",
    "}).catch(err => console.log(err))"
   ]
  }
 ],
 "metadata": {
  "kernelspec": {
   "display_name": "Python 3.10.0 ('.env_jupyter': venv)",
   "language": "python",
   "name": "python3"
  },
  "language_info": {
   "codemirror_mode": {
    "name": "ipython",
    "version": 3
   },
   "file_extension": ".py",
   "mimetype": "text/x-python",
   "name": "python",
   "nbconvert_exporter": "python",
   "pygments_lexer": "ipython3",
   "version": "3.10.0"
  },
  "orig_nbformat": 4,
  "vscode": {
   "interpreter": {
    "hash": "acd7119d548134a99e6f9d1f29df8db3a357202429f0f56f73b34e23b90bc877"
   }
  }
 },
 "nbformat": 4,
 "nbformat_minor": 2
}
