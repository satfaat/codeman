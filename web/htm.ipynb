{
 "cells": [
  {
   "cell_type": "markdown",
   "metadata": {},
   "source": [
    "## Head"
   ]
  },
  {
   "cell_type": "markdown",
   "metadata": {},
   "source": [
    "<head>\n",
    "\t<!--[if IE]><meta http-equiv='X-UA-Compatible' content='IE=edge,chrome=1'><![endif]-->\n",
    "\t<meta charset=\"UTF-8\">\n",
    "\t<meta name=\"Keywords\" content=\"\">\n",
    "\t<meta name=\"Description\" content=\"\">\n",
    "\t<link rel=\"icon\" href=\"/favicon.ico\" type=\"image/x-icon\"/>\n",
    "\t<link href='http://fonts.googleapis.com/css?family=Neucha&subset=latin,cyrillic' rel='stylesheet' type='text/css'>\n",
    "\n",
    "\t<link rel=\"stylesheet\" href=\"CSS/style.css\"/>\n",
    "\t<!--<link rel=\"stylesheet/less\" type=\"text/css\" href=\"CSS/styles.less\">-->\n",
    "\n",
    "\t\t<style>\n",
    "\t\t\tbody {\n",
    "\t\t\t\tbackground-color: blue;\n",
    "\t\t\t\tbackground-image: url(\"http://images2.layoutsparks.com/1/158320/star-sky-night-blue.jpg\");\n",
    "\t\t\t}\n",
    "\t\t</style>\n",
    "<title>Some string</title>\n",
    "</head>"
   ]
  },
  {
   "cell_type": "markdown",
   "metadata": {},
   "source": [
    "## Forms"
   ]
  },
  {
   "cell_type": "code",
   "execution_count": 2,
   "metadata": {
    "vscode": {
     "languageId": "html"
    }
   },
   "outputs": [
    {
     "data": {
      "text/html": [
       "\n",
       "<form class=\"subform\" action=\"\" method=\"post\">\n",
       "\t<fieldset>\t<legend>my form</legend>\n",
       "\t\t<p>\n",
       "\t\t\t<label for=\"nameID\">Name:</label>\n",
       "\t\t</p>\n",
       "\t\t<p>\n",
       "\t\t\t<input type=\"text\" name=\"nameID\" value=\"\" placeholder=\"Name...\" />\n",
       "\t\t</p>\n",
       "\t\t<p>\n",
       "\t\t\tChoose your beans:\n",
       "\t\t\t<select name=\"beans\">\n",
       "\t\t\t\t<option value=\"House Blend\">House Blend</option>\n",
       "\t\t\t\t<option value=\"Bolivia\">Shade Grown Bolivia Supremo</option>\n",
       "\t\t\t\t<option value=\"Guatemala\">Organic Guatemala</option>\n",
       "\t\t\t\t<option value=\"Kenya\">Kenya</option>\n",
       "\t\t\t</select>\n",
       "\t\t</p>\n",
       "\t\t<p>\n",
       "\t\t\tType:<br />\n",
       "\t\t\t<input type=\"radio\" name=\"beantype\" value=\"whole\" />\n",
       "\t\t\tWhole bean\n",
       "\t\t\t<br />\n",
       "\t\t\t<input type=\"radio\" name=\"beantype\" value=\"ground\" checked /> \n",
       "\t\t\tGround\n",
       "\t\t</p>\n",
       "\t\t<p>\n",
       "\t\t\tNumber of bags: <input type=\"number\" name=\"bags\" min=\"1\" max=\"10\" />\n",
       "\t\t</p>\n",
       "\t\t<p>\n",
       "\t\t\tMust arrive by date: <input type=\"date\" name=\"date\" />\n",
       "\t\t</p>\n",
       "\t\t<p>\n",
       "\t\t\tExtras:<br>\n",
       "\t\t\t<input type=\"checkbox\" name=\"extras[]\" value=\"giftwrap\" />\n",
       "\t\t\tGift wrap\n",
       "\t\t\t<br>\n",
       "\t\t\t<input type=\"checkbox\" name=\"extras[]\" value=\"catalog\" checked />\n",
       "\t\t\tInclude catalog with order\n",
       "\t\t</p>\n",
       "\t\t<input type=\"text\" id=\"aphorismTextInput\" size=\"40\" placeholder=\"Input aphorism\"/>\n",
       "\t\t<input type=\"button\" id=\"addButton\" value=\"Add aphorism\" />\n",
       "\t\t<p>\n",
       "\t\t\t<input type=\"submit\" id=\"apho_button\" value=\"Add aphorism\" />\n",
       "\t\t\t<input type=\"reset\" value=\"Clear and Restart\" />\n",
       "\t\t</p>\n",
       "\t</fieldset>\n",
       "</form>\n"
      ],
      "text/plain": [
       "<IPython.core.display.HTML object>"
      ]
     },
     "metadata": {},
     "output_type": "display_data"
    }
   ],
   "source": [
    "%%html\n",
    "\n",
    "<form class=\"subform\" action=\"\" method=\"post\">\n",
    "\t<fieldset>\t<legend>my form</legend>\n",
    "\t\t<p>\n",
    "\t\t\t<label for=\"nameID\">Name:</label>\n",
    "\t\t</p>\n",
    "\t\t<p>\n",
    "\t\t\t<input type=\"text\" name=\"nameID\" value=\"\" placeholder=\"Name...\" />\n",
    "\t\t</p>\n",
    "\t\t<p>\n",
    "\t\t\tChoose your beans:\n",
    "\t\t\t<select name=\"beans\">\n",
    "\t\t\t\t<option value=\"House Blend\">House Blend</option>\n",
    "\t\t\t\t<option value=\"Bolivia\">Shade Grown Bolivia Supremo</option>\n",
    "\t\t\t\t<option value=\"Guatemala\">Organic Guatemala</option>\n",
    "\t\t\t\t<option value=\"Kenya\">Kenya</option>\n",
    "\t\t\t</select>\n",
    "\t\t</p>\n",
    "\t\t<p>\n",
    "\t\t\tType:<br />\n",
    "\t\t\t<input type=\"radio\" name=\"beantype\" value=\"whole\" />\n",
    "\t\t\tWhole bean\n",
    "\t\t\t<br />\n",
    "\t\t\t<input type=\"radio\" name=\"beantype\" value=\"ground\" checked /> \n",
    "\t\t\tGround\n",
    "\t\t</p>\n",
    "\t\t<p>\n",
    "\t\t\tNumber of bags: <input type=\"number\" name=\"bags\" min=\"1\" max=\"10\" />\n",
    "\t\t</p>\n",
    "\t\t<p>\n",
    "\t\t\tMust arrive by date: <input type=\"date\" name=\"date\" />\n",
    "\t\t</p>\n",
    "\t\t<p>\n",
    "\t\t\tExtras:<br>\n",
    "\t\t\t<input type=\"checkbox\" name=\"extras[]\" value=\"giftwrap\" />\n",
    "\t\t\tGift wrap\n",
    "\t\t\t<br>\n",
    "\t\t\t<input type=\"checkbox\" name=\"extras[]\" value=\"catalog\" checked />\n",
    "\t\t\tInclude catalog with order\n",
    "\t\t</p>\n",
    "\t\t<input type=\"text\" id=\"aphorismTextInput\" size=\"40\" placeholder=\"Input aphorism\"/>\n",
    "\t\t<input type=\"button\" id=\"addButton\" value=\"Add aphorism\" />\n",
    "\t\t<p>\n",
    "\t\t\t<input type=\"submit\" id=\"apho_button\" value=\"Add aphorism\" />\n",
    "\t\t\t<input type=\"reset\" value=\"Clear and Restart\" />\n",
    "\t\t</p>\n",
    "\t</fieldset>\n",
    "</form>"
   ]
  },
  {
   "cell_type": "markdown",
   "metadata": {},
   "source": [
    "## Other"
   ]
  },
  {
   "cell_type": "markdown",
   "metadata": {},
   "source": [
    "<blockquote cite=\"http://www.worldwildlife.org/who/index.html\">\n",
    "For 50 years, WWF has been protecting the future of nature. The world's leading conservation organization, \n",
    "WWF works in 100 countries and is supported by 1.2 million members in the United States and close to 5 million globally.\n",
    "</blockquote>"
   ]
  },
  {
   "cell_type": "markdown",
   "metadata": {},
   "source": [
    "## Collapse"
   ]
  },
  {
   "cell_type": "code",
   "execution_count": 3,
   "metadata": {
    "vscode": {
     "languageId": "html"
    }
   },
   "outputs": [
    {
     "data": {
      "text/html": [
       "\n",
       "<h2>Collapse</h2>\n",
       "    <details><summary>Summary</summary>\n",
       "            <p>Detailed content goes here …</p>\n",
       "            <code class=\"language-json\">\n",
       "                {\n",
       "                \"iten1\": \"some value\"\n",
       "                }\n",
       "            </code>\n",
       "    </details>\n",
       "    <details><summary>Summary</summary>\n",
       "            <p>Detailed content goes here …</p>\n",
       "    </details>\n"
      ],
      "text/plain": [
       "<IPython.core.display.HTML object>"
      ]
     },
     "metadata": {},
     "output_type": "display_data"
    }
   ],
   "source": [
    "%%html\n",
    "\n",
    "<h2>Collapse</h2>\n",
    "    <details><summary>Summary</summary>\n",
    "            <p>Detailed content goes here …</p>\n",
    "            <code class=\"language-json\">\n",
    "                {\n",
    "                \"iten1\": \"some value\"\n",
    "                }\n",
    "            </code>\n",
    "    </details>\n",
    "    <details><summary>Summary</summary>\n",
    "            <p>Detailed content goes here …</p>\n",
    "    </details>"
   ]
  }
 ],
 "metadata": {
  "kernelspec": {
   "display_name": "Python 3.10.0 ('.env_jupyter': venv)",
   "language": "python",
   "name": "python3"
  },
  "language_info": {
   "codemirror_mode": {
    "name": "ipython",
    "version": 3
   },
   "file_extension": ".py",
   "mimetype": "text/x-python",
   "name": "python",
   "nbconvert_exporter": "python",
   "pygments_lexer": "ipython3",
   "version": "3.10.0"
  },
  "orig_nbformat": 4,
  "vscode": {
   "interpreter": {
    "hash": "acd7119d548134a99e6f9d1f29df8db3a357202429f0f56f73b34e23b90bc877"
   }
  }
 },
 "nbformat": 4,
 "nbformat_minor": 2
}
