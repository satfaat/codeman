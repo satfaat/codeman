{
 "cells": [
  {
   "cell_type": "code",
   "execution_count": 2,
   "metadata": {},
   "outputs": [],
   "source": [
    "import json"
   ]
  },
  {
   "cell_type": "code",
   "execution_count": 3,
   "metadata": {},
   "outputs": [],
   "source": [
    "from IPython.display import Javascript, display"
   ]
  },
  {
   "cell_type": "code",
   "execution_count": 10,
   "metadata": {
    "vscode": {
     "languageId": "javascript"
    }
   },
   "outputs": [
    {
     "data": {
      "application/javascript": "\nlet hi = \"hello world\";\nelement.append(\"<div>Hello ;-)</div>\");\nelement.text(hi);\ndocument.text(hi);\n//alert(hi);\n",
      "text/plain": [
       "<IPython.core.display.Javascript object>"
      ]
     },
     "metadata": {},
     "output_type": "display_data"
    }
   ],
   "source": [
    "%%javascript\n",
    "\n",
    "let hi = \"hello world\";\n",
    "element.append(\"<div>Hello ;-)</div>\");\n",
    "element.text(hi);\n",
    "document.text(hi);\n",
    "//alert(hi);"
   ]
  },
  {
   "cell_type": "code",
   "execution_count": 11,
   "metadata": {
    "vscode": {
     "languageId": "javascript"
    }
   },
   "outputs": [
    {
     "data": {
      "application/javascript": "\nlet thingToPrint = \"\";\nfunction drawText() {\n    thingToPrint += \"#\";\n    document.writeln(thingToPrint);\n}\n//setInterval(drawText, 2000);\ndrawText()\n",
      "text/plain": [
       "<IPython.core.display.Javascript object>"
      ]
     },
     "metadata": {},
     "output_type": "display_data"
    }
   ],
   "source": [
    "%%javascript\n",
    "\n",
    "let thingToPrint = \"\";\n",
    "function drawText() {\n",
    "    thingToPrint += \"#\";\n",
    "    document.writeln(thingToPrint);\n",
    "}\n",
    "//setInterval(drawText, 2000);\n",
    "drawText()"
   ]
  },
  {
   "cell_type": "code",
   "execution_count": 5,
   "metadata": {
    "vscode": {
     "languageId": "html"
    }
   },
   "outputs": [
    {
     "data": {
      "text/html": [
       "<div id=\"javasciptId\">some</div>\n"
      ],
      "text/plain": [
       "<IPython.core.display.HTML object>"
      ]
     },
     "metadata": {},
     "output_type": "display_data"
    }
   ],
   "source": [
    "%%html\n",
    "<div id=\"javasciptId\">some</div>"
   ]
  },
  {
   "cell_type": "code",
   "execution_count": 6,
   "metadata": {
    "vscode": {
     "languageId": "javascript"
    }
   },
   "outputs": [
    {
     "data": {
      "application/javascript": "\nvar selected = document.getElementById(\"javasciptId\");\nvar numbers = new Array();\nnumbers[1]=33;\nnumbers[2]=44;\nnumbers[3]=55;\nnumbers[4]=66;\nnumbers[5]=77;\nselected.innerHTML = \"<b>Numbers</b>\";\nselected.innerHTML += \"<ul>\";\nvar num=0;\nvar sum=0;\nvar average=0;\nfor(var i in numbers){\n    selected.innerHTML += \"<li>Figure \"+i+\": \"+numbers[i];\n    num++;\n    sum=sum+numbers[i];\n}\nselected.innerHTML += \"</ul>\";\nvar average = Math.round(sum/num);\nselected.innerHTML += \"Average number is \"+average;\n",
      "text/plain": [
       "<IPython.core.display.Javascript object>"
      ]
     },
     "metadata": {},
     "output_type": "display_data"
    }
   ],
   "source": [
    "%%javascript\n",
    "\n",
    "var selected = document.getElementById(\"javasciptId\");\n",
    "var numbers = new Array();\n",
    "numbers[1]=33;\n",
    "numbers[2]=44;\n",
    "numbers[3]=55;\n",
    "numbers[4]=66;\n",
    "numbers[5]=77;\n",
    "selected.innerHTML = \"<b>Numbers</b>\";\n",
    "selected.innerHTML += \"<ul>\";\n",
    "var num=0;\n",
    "var sum=0;\n",
    "var average=0;\n",
    "for(var i in numbers){\n",
    "    selected.innerHTML += \"<li>Figure \"+i+\": \"+numbers[i];\n",
    "    num++;\n",
    "    sum=sum+numbers[i];\n",
    "}\n",
    "selected.innerHTML += \"</ul>\";\n",
    "var average = Math.round(sum/num);\n",
    "selected.innerHTML += \"Average number is \"+average;"
   ]
  },
  {
   "cell_type": "code",
   "execution_count": 7,
   "metadata": {},
   "outputs": [
    {
     "data": {
      "application/javascript": "\nelement.append(\"<div>Hello ;-)</div>\");\n",
      "text/plain": [
       "<IPython.core.display.Javascript object>"
      ]
     },
     "execution_count": 7,
     "metadata": {},
     "output_type": "execute_result"
    }
   ],
   "source": [
    "Javascript(\"\"\"\n",
    "element.append(\"<div>Hello ;-)</div>\");\n",
    "\"\"\")"
   ]
  },
  {
   "cell_type": "code",
   "execution_count": null,
   "metadata": {},
   "outputs": [],
   "source": [
    "Javascript(filename='someFileName.js')"
   ]
  },
  {
   "cell_type": "code",
   "execution_count": 4,
   "metadata": {},
   "outputs": [
    {
     "name": "stdout",
     "output_type": "stream",
     "text": [
      "<class 'list'>\n",
      "<class 'str'> [10, 20, 30, 40, 50]\n"
     ]
    },
    {
     "data": {
      "application/javascript": "\nelement.append([10, 20, 30, 40, 50]);\n",
      "text/plain": [
       "<IPython.core.display.Javascript object>"
      ]
     },
     "execution_count": 4,
     "metadata": {},
     "output_type": "execute_result"
    }
   ],
   "source": [
    "data = [10, 20, 30, 40, 50]\n",
    "as_json = json.dumps(data)\n",
    "print(type(data))  # prints '<class 'dict'>'\n",
    "print(type(as_json), as_json)  # prints '<class 'str'>'\n",
    "\n",
    "Javascript(\"\"\"\n",
    "element.append(%s);\n",
    "\"\"\" % as_json)"
   ]
  }
 ],
 "metadata": {
  "kernelspec": {
   "display_name": "Python 3.10.0 ('.env_jupyter': venv)",
   "language": "python",
   "name": "python3"
  },
  "language_info": {
   "codemirror_mode": {
    "name": "ipython",
    "version": 3
   },
   "file_extension": ".py",
   "mimetype": "text/x-python",
   "name": "python",
   "nbconvert_exporter": "python",
   "pygments_lexer": "ipython3",
   "version": "3.10.0"
  },
  "orig_nbformat": 4,
  "vscode": {
   "interpreter": {
    "hash": "acd7119d548134a99e6f9d1f29df8db3a357202429f0f56f73b34e23b90bc877"
   }
  }
 },
 "nbformat": 4,
 "nbformat_minor": 2
}
