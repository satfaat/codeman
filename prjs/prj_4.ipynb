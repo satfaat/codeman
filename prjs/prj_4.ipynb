{
 "cells": [
  {
   "cell_type": "markdown",
   "metadata": {
    "vscode": {
     "languageId": "html"
    }
   },
   "source": [
    "<style>\n",
    "    div {\n",
    "        border: 1px solid gray;\n",
    "        padding: 8px;\n",
    "    }\n",
    "\n",
    "    h1 {\n",
    "        text-align: center;\n",
    "        text-transform: uppercase;\n",
    "        color: #4CAF50;\n",
    "    }\n",
    "\n",
    "    p {\n",
    "        text-indent: 50px;\n",
    "        text-align: justify;\n",
    "        letter-spacing: 3px;\n",
    "    }\n",
    "\n",
    "    a {\n",
    "        text-decoration: none;\n",
    "        color: #008CBA;\n",
    "    }\n",
    "</style>"
   ]
  },
  {
   "cell_type": "markdown",
   "metadata": {},
   "source": [
    "## Legend\n",
    "- Name — название игры\n",
    "- Platform — платформа\n",
    "- Year_of_Release — год выпуска\n",
    "- Genre — жанр игры\n",
    "- NA_sales — продажи в Северной Америке (миллионы проданных копий)\n",
    "- EU_sales — продажи в Европе (миллионы проданных копий)\n",
    "- JP_sales — продажи в Японии (миллионы проданных копий)\n",
    "- Other_sales — продажи в других странах (миллионы проданных копий)\n",
    "- Critic_Score — оценка критиков (максимум 100)\n",
    "- User_Score — оценка пользователей (максимум 10)\n",
    "- Rating — рейтинг от организации ESRB (англ. Entertainment Software Rating Board). Эта ассоциация определяет рейтинг компьютерных игр и присваивает им подходящую возрастную категорию."
   ]
  },
  {
   "cell_type": "code",
   "execution_count": 45,
   "metadata": {},
   "outputs": [],
   "source": [
    "import pandas as pd\n",
    "import numpy as np\n",
    "import plotly.express as px\n",
    "\n",
    "import seaborn as sb\n",
    "import matplotlib.pyplot as plt\n",
    "from scipy import stats as st"
   ]
  },
  {
   "cell_type": "code",
   "execution_count": 46,
   "metadata": {},
   "outputs": [],
   "source": [
    "#pd.options.plotting.backend = \"plotly\""
   ]
  },
  {
   "cell_type": "code",
   "execution_count": 47,
   "metadata": {},
   "outputs": [],
   "source": [
    "try:\n",
    "    games_ori = pd.read_csv('../../dt/tmp/games.csv')\n",
    "except:\n",
    "    games_ori = pd.read_csv('https://code.s3.yandex.net/datasets/games.csv')"
   ]
  },
  {
   "cell_type": "code",
   "execution_count": 48,
   "metadata": {},
   "outputs": [
    {
     "name": "stdout",
     "output_type": "stream",
     "text": [
      "<class 'pandas.core.frame.DataFrame'>\n",
      "RangeIndex: 16715 entries, 0 to 16714\n",
      "Data columns (total 11 columns):\n",
      " #   Column           Non-Null Count  Dtype  \n",
      "---  ------           --------------  -----  \n",
      " 0   Name             16713 non-null  object \n",
      " 1   Platform         16715 non-null  object \n",
      " 2   Year_of_Release  16446 non-null  float64\n",
      " 3   Genre            16713 non-null  object \n",
      " 4   NA_sales         16715 non-null  float64\n",
      " 5   EU_sales         16715 non-null  float64\n",
      " 6   JP_sales         16715 non-null  float64\n",
      " 7   Other_sales      16715 non-null  float64\n",
      " 8   Critic_Score     8137 non-null   float64\n",
      " 9   User_Score       10014 non-null  object \n",
      " 10  Rating           9949 non-null   object \n",
      "dtypes: float64(6), object(5)\n",
      "memory usage: 1.4+ MB\n"
     ]
    }
   ],
   "source": [
    "games_ori.info()"
   ]
  },
  {
   "cell_type": "markdown",
   "metadata": {},
   "source": [
    "## Вывод сттистики по пустым значениям"
   ]
  },
  {
   "cell_type": "code",
   "execution_count": 49,
   "metadata": {},
   "outputs": [
    {
     "data": {
      "text/html": [
       "<style type=\"text/css\">\n",
       "#T_8a13b_row0_col0, #T_8a13b_row0_col1 {\n",
       "  background-color: #023858;\n",
       "  color: #f1f1f1;\n",
       "}\n",
       "#T_8a13b_row1_col0, #T_8a13b_row1_col1 {\n",
       "  background-color: #0569a5;\n",
       "  color: #f1f1f1;\n",
       "}\n",
       "#T_8a13b_row2_col0, #T_8a13b_row2_col1 {\n",
       "  background-color: #056ba7;\n",
       "  color: #f1f1f1;\n",
       "}\n",
       "#T_8a13b_row3_col0, #T_8a13b_row3_col1 {\n",
       "  background-color: #faf3f9;\n",
       "  color: #000000;\n",
       "}\n",
       "#T_8a13b_row4_col0, #T_8a13b_row4_col1, #T_8a13b_row5_col0, #T_8a13b_row5_col1, #T_8a13b_row6_col0, #T_8a13b_row6_col1, #T_8a13b_row7_col0, #T_8a13b_row7_col1, #T_8a13b_row8_col0, #T_8a13b_row8_col1, #T_8a13b_row9_col0, #T_8a13b_row9_col1, #T_8a13b_row10_col0, #T_8a13b_row10_col1 {\n",
       "  background-color: #fff7fb;\n",
       "  color: #000000;\n",
       "}\n",
       "</style>\n",
       "<table id=\"T_8a13b\">\n",
       "  <thead>\n",
       "    <tr>\n",
       "      <th class=\"blank level0\" >&nbsp;</th>\n",
       "      <th id=\"T_8a13b_level0_col0\" class=\"col_heading level0 col0\" >sum</th>\n",
       "      <th id=\"T_8a13b_level0_col1\" class=\"col_heading level0 col1\" >mean</th>\n",
       "    </tr>\n",
       "  </thead>\n",
       "  <tbody>\n",
       "    <tr>\n",
       "      <th id=\"T_8a13b_level0_row0\" class=\"row_heading level0 row0\" >Critic_Score</th>\n",
       "      <td id=\"T_8a13b_row0_col0\" class=\"data row0 col0\" >8578.000000</td>\n",
       "      <td id=\"T_8a13b_row0_col1\" class=\"data row0 col1\" >0.513192</td>\n",
       "    </tr>\n",
       "    <tr>\n",
       "      <th id=\"T_8a13b_level0_row1\" class=\"row_heading level0 row1\" >Rating</th>\n",
       "      <td id=\"T_8a13b_row1_col0\" class=\"data row1 col0\" >6766.000000</td>\n",
       "      <td id=\"T_8a13b_row1_col1\" class=\"data row1 col1\" >0.404786</td>\n",
       "    </tr>\n",
       "    <tr>\n",
       "      <th id=\"T_8a13b_level0_row2\" class=\"row_heading level0 row2\" >User_Score</th>\n",
       "      <td id=\"T_8a13b_row2_col0\" class=\"data row2 col0\" >6701.000000</td>\n",
       "      <td id=\"T_8a13b_row2_col1\" class=\"data row2 col1\" >0.400897</td>\n",
       "    </tr>\n",
       "    <tr>\n",
       "      <th id=\"T_8a13b_level0_row3\" class=\"row_heading level0 row3\" >Year_of_Release</th>\n",
       "      <td id=\"T_8a13b_row3_col0\" class=\"data row3 col0\" >269.000000</td>\n",
       "      <td id=\"T_8a13b_row3_col1\" class=\"data row3 col1\" >0.016093</td>\n",
       "    </tr>\n",
       "    <tr>\n",
       "      <th id=\"T_8a13b_level0_row4\" class=\"row_heading level0 row4\" >Name</th>\n",
       "      <td id=\"T_8a13b_row4_col0\" class=\"data row4 col0\" >2.000000</td>\n",
       "      <td id=\"T_8a13b_row4_col1\" class=\"data row4 col1\" >0.000120</td>\n",
       "    </tr>\n",
       "    <tr>\n",
       "      <th id=\"T_8a13b_level0_row5\" class=\"row_heading level0 row5\" >Genre</th>\n",
       "      <td id=\"T_8a13b_row5_col0\" class=\"data row5 col0\" >2.000000</td>\n",
       "      <td id=\"T_8a13b_row5_col1\" class=\"data row5 col1\" >0.000120</td>\n",
       "    </tr>\n",
       "    <tr>\n",
       "      <th id=\"T_8a13b_level0_row6\" class=\"row_heading level0 row6\" >Platform</th>\n",
       "      <td id=\"T_8a13b_row6_col0\" class=\"data row6 col0\" >0.000000</td>\n",
       "      <td id=\"T_8a13b_row6_col1\" class=\"data row6 col1\" >0.000000</td>\n",
       "    </tr>\n",
       "    <tr>\n",
       "      <th id=\"T_8a13b_level0_row7\" class=\"row_heading level0 row7\" >NA_sales</th>\n",
       "      <td id=\"T_8a13b_row7_col0\" class=\"data row7 col0\" >0.000000</td>\n",
       "      <td id=\"T_8a13b_row7_col1\" class=\"data row7 col1\" >0.000000</td>\n",
       "    </tr>\n",
       "    <tr>\n",
       "      <th id=\"T_8a13b_level0_row8\" class=\"row_heading level0 row8\" >EU_sales</th>\n",
       "      <td id=\"T_8a13b_row8_col0\" class=\"data row8 col0\" >0.000000</td>\n",
       "      <td id=\"T_8a13b_row8_col1\" class=\"data row8 col1\" >0.000000</td>\n",
       "    </tr>\n",
       "    <tr>\n",
       "      <th id=\"T_8a13b_level0_row9\" class=\"row_heading level0 row9\" >JP_sales</th>\n",
       "      <td id=\"T_8a13b_row9_col0\" class=\"data row9 col0\" >0.000000</td>\n",
       "      <td id=\"T_8a13b_row9_col1\" class=\"data row9 col1\" >0.000000</td>\n",
       "    </tr>\n",
       "    <tr>\n",
       "      <th id=\"T_8a13b_level0_row10\" class=\"row_heading level0 row10\" >Other_sales</th>\n",
       "      <td id=\"T_8a13b_row10_col0\" class=\"data row10 col0\" >0.000000</td>\n",
       "      <td id=\"T_8a13b_row10_col1\" class=\"data row10 col1\" >0.000000</td>\n",
       "    </tr>\n",
       "  </tbody>\n",
       "</table>\n"
      ],
      "text/plain": [
       "<pandas.io.formats.style.Styler at 0x2b0802f20e0>"
      ]
     },
     "execution_count": 49,
     "metadata": {},
     "output_type": "execute_result"
    }
   ],
   "source": [
    "\n",
    "# 3 поля с пропусками >= 40%\n",
    "games_ori.isna().agg(['sum', 'mean']).T.sort_values(by='sum', ascending=False).style.background_gradient()"
   ]
  },
  {
   "cell_type": "markdown",
   "metadata": {},
   "source": [
    "## Приведем столбцы к строчному формату"
   ]
  },
  {
   "cell_type": "code",
   "execution_count": 50,
   "metadata": {},
   "outputs": [],
   "source": [
    "#games_ori.columns = games_ori.columns.str.strip().str.lower()\n",
    "\n",
    "games_ori = games_ori.rename(columns=str.lower)"
   ]
  },
  {
   "cell_type": "code",
   "execution_count": 51,
   "metadata": {},
   "outputs": [
    {
     "data": {
      "text/html": [
       "<style type=\"text/css\">\n",
       "#T_36732_row0_col8, #T_36732_row1_col8 {\n",
       "  background-color: #000000;\n",
       "  color: #f1f1f1;\n",
       "}\n",
       "#T_36732_row2_col8 {\n",
       "  background-color: #023858;\n",
       "  color: #f1f1f1;\n",
       "}\n",
       "#T_36732_row3_col8 {\n",
       "  background-color: #fff7fb;\n",
       "  color: #000000;\n",
       "}\n",
       "#T_36732_row4_col8 {\n",
       "  background-color: #f5eff6;\n",
       "  color: #000000;\n",
       "}\n",
       "</style>\n",
       "<table id=\"T_36732\">\n",
       "  <thead>\n",
       "    <tr>\n",
       "      <th class=\"blank level0\" >&nbsp;</th>\n",
       "      <th id=\"T_36732_level0_col0\" class=\"col_heading level0 col0\" >name</th>\n",
       "      <th id=\"T_36732_level0_col1\" class=\"col_heading level0 col1\" >platform</th>\n",
       "      <th id=\"T_36732_level0_col2\" class=\"col_heading level0 col2\" >year_of_release</th>\n",
       "      <th id=\"T_36732_level0_col3\" class=\"col_heading level0 col3\" >genre</th>\n",
       "      <th id=\"T_36732_level0_col4\" class=\"col_heading level0 col4\" >na_sales</th>\n",
       "      <th id=\"T_36732_level0_col5\" class=\"col_heading level0 col5\" >eu_sales</th>\n",
       "      <th id=\"T_36732_level0_col6\" class=\"col_heading level0 col6\" >jp_sales</th>\n",
       "      <th id=\"T_36732_level0_col7\" class=\"col_heading level0 col7\" >other_sales</th>\n",
       "      <th id=\"T_36732_level0_col8\" class=\"col_heading level0 col8\" >critic_score</th>\n",
       "      <th id=\"T_36732_level0_col9\" class=\"col_heading level0 col9\" >user_score</th>\n",
       "      <th id=\"T_36732_level0_col10\" class=\"col_heading level0 col10\" >rating</th>\n",
       "    </tr>\n",
       "  </thead>\n",
       "  <tbody>\n",
       "    <tr>\n",
       "      <th id=\"T_36732_level0_row0\" class=\"row_heading level0 row0\" >10118</th>\n",
       "      <td id=\"T_36732_row0_col0\" class=\"data row0 col0\" >Transformer: Rise of the Dark Spark</td>\n",
       "      <td id=\"T_36732_row0_col1\" class=\"data row0 col1\" >XOne</td>\n",
       "      <td id=\"T_36732_row0_col2\" class=\"data row0 col2\" >2014.000000</td>\n",
       "      <td id=\"T_36732_row0_col3\" class=\"data row0 col3\" >Action</td>\n",
       "      <td id=\"T_36732_row0_col4\" class=\"data row0 col4\" >0.070000</td>\n",
       "      <td id=\"T_36732_row0_col5\" class=\"data row0 col5\" >0.030000</td>\n",
       "      <td id=\"T_36732_row0_col6\" class=\"data row0 col6\" >0.000000</td>\n",
       "      <td id=\"T_36732_row0_col7\" class=\"data row0 col7\" >0.010000</td>\n",
       "      <td id=\"T_36732_row0_col8\" class=\"data row0 col8\" >nan</td>\n",
       "      <td id=\"T_36732_row0_col9\" class=\"data row0 col9\" >nan</td>\n",
       "      <td id=\"T_36732_row0_col10\" class=\"data row0 col10\" >nan</td>\n",
       "    </tr>\n",
       "    <tr>\n",
       "      <th id=\"T_36732_level0_row1\" class=\"row_heading level0 row1\" >12556</th>\n",
       "      <td id=\"T_36732_row1_col0\" class=\"data row1 col0\" >Top Gear Hyper-Bike</td>\n",
       "      <td id=\"T_36732_row1_col1\" class=\"data row1 col1\" >N64</td>\n",
       "      <td id=\"T_36732_row1_col2\" class=\"data row1 col2\" >1999.000000</td>\n",
       "      <td id=\"T_36732_row1_col3\" class=\"data row1 col3\" >Racing</td>\n",
       "      <td id=\"T_36732_row1_col4\" class=\"data row1 col4\" >0.050000</td>\n",
       "      <td id=\"T_36732_row1_col5\" class=\"data row1 col5\" >0.010000</td>\n",
       "      <td id=\"T_36732_row1_col6\" class=\"data row1 col6\" >0.000000</td>\n",
       "      <td id=\"T_36732_row1_col7\" class=\"data row1 col7\" >0.000000</td>\n",
       "      <td id=\"T_36732_row1_col8\" class=\"data row1 col8\" >nan</td>\n",
       "      <td id=\"T_36732_row1_col9\" class=\"data row1 col9\" >nan</td>\n",
       "      <td id=\"T_36732_row1_col10\" class=\"data row1 col10\" >nan</td>\n",
       "    </tr>\n",
       "    <tr>\n",
       "      <th id=\"T_36732_level0_row2\" class=\"row_heading level0 row2\" >1224</th>\n",
       "      <td id=\"T_36732_row2_col0\" class=\"data row2 col0\" >Dishonored</td>\n",
       "      <td id=\"T_36732_row2_col1\" class=\"data row2 col1\" >PS3</td>\n",
       "      <td id=\"T_36732_row2_col2\" class=\"data row2 col2\" >2012.000000</td>\n",
       "      <td id=\"T_36732_row2_col3\" class=\"data row2 col3\" >Action</td>\n",
       "      <td id=\"T_36732_row2_col4\" class=\"data row2 col4\" >0.720000</td>\n",
       "      <td id=\"T_36732_row2_col5\" class=\"data row2 col5\" >0.520000</td>\n",
       "      <td id=\"T_36732_row2_col6\" class=\"data row2 col6\" >0.040000</td>\n",
       "      <td id=\"T_36732_row2_col7\" class=\"data row2 col7\" >0.250000</td>\n",
       "      <td id=\"T_36732_row2_col8\" class=\"data row2 col8\" >89.000000</td>\n",
       "      <td id=\"T_36732_row2_col9\" class=\"data row2 col9\" >7.9</td>\n",
       "      <td id=\"T_36732_row2_col10\" class=\"data row2 col10\" >M</td>\n",
       "    </tr>\n",
       "    <tr>\n",
       "      <th id=\"T_36732_level0_row3\" class=\"row_heading level0 row3\" >2577</th>\n",
       "      <td id=\"T_36732_row3_col0\" class=\"data row3 col0\" >The Sims 2: Pets</td>\n",
       "      <td id=\"T_36732_row3_col1\" class=\"data row3 col1\" >PSP</td>\n",
       "      <td id=\"T_36732_row3_col2\" class=\"data row3 col2\" >2006.000000</td>\n",
       "      <td id=\"T_36732_row3_col3\" class=\"data row3 col3\" >Simulation</td>\n",
       "      <td id=\"T_36732_row3_col4\" class=\"data row3 col4\" >0.190000</td>\n",
       "      <td id=\"T_36732_row3_col5\" class=\"data row3 col5\" >0.380000</td>\n",
       "      <td id=\"T_36732_row3_col6\" class=\"data row3 col6\" >0.000000</td>\n",
       "      <td id=\"T_36732_row3_col7\" class=\"data row3 col7\" >0.220000</td>\n",
       "      <td id=\"T_36732_row3_col8\" class=\"data row3 col8\" >57.000000</td>\n",
       "      <td id=\"T_36732_row3_col9\" class=\"data row3 col9\" >7.3</td>\n",
       "      <td id=\"T_36732_row3_col10\" class=\"data row3 col10\" >T</td>\n",
       "    </tr>\n",
       "    <tr>\n",
       "      <th id=\"T_36732_level0_row4\" class=\"row_heading level0 row4\" >4171</th>\n",
       "      <td id=\"T_36732_row4_col0\" class=\"data row4 col0\" >Epic Mickey 2: The Power of Two</td>\n",
       "      <td id=\"T_36732_row4_col1\" class=\"data row4 col1\" >PS3</td>\n",
       "      <td id=\"T_36732_row4_col2\" class=\"data row4 col2\" >2012.000000</td>\n",
       "      <td id=\"T_36732_row4_col3\" class=\"data row4 col3\" >Action</td>\n",
       "      <td id=\"T_36732_row4_col4\" class=\"data row4 col4\" >0.210000</td>\n",
       "      <td id=\"T_36732_row4_col5\" class=\"data row4 col5\" >0.180000</td>\n",
       "      <td id=\"T_36732_row4_col6\" class=\"data row4 col6\" >0.000000</td>\n",
       "      <td id=\"T_36732_row4_col7\" class=\"data row4 col7\" >0.080000</td>\n",
       "      <td id=\"T_36732_row4_col8\" class=\"data row4 col8\" >59.000000</td>\n",
       "      <td id=\"T_36732_row4_col9\" class=\"data row4 col9\" >4.3</td>\n",
       "      <td id=\"T_36732_row4_col10\" class=\"data row4 col10\" >E</td>\n",
       "    </tr>\n",
       "  </tbody>\n",
       "</table>\n"
      ],
      "text/plain": [
       "<pandas.io.formats.style.Styler at 0x2b082453040>"
      ]
     },
     "execution_count": 51,
     "metadata": {},
     "output_type": "execute_result"
    }
   ],
   "source": [
    "games_ori.sample(5).style.background_gradient(subset=['critic_score'])"
   ]
  },
  {
   "cell_type": "markdown",
   "metadata": {},
   "source": [
    "## Поиск дублей"
   ]
  },
  {
   "cell_type": "code",
   "execution_count": 52,
   "metadata": {},
   "outputs": [
    {
     "data": {
      "text/plain": [
       "5155"
      ]
     },
     "execution_count": 52,
     "metadata": {},
     "output_type": "execute_result"
    }
   ],
   "source": [
    "len(games_ori['name'].str.lower()) - len(games_ori['name'].str.lower().unique())"
   ]
  },
  {
   "cell_type": "code",
   "execution_count": 53,
   "metadata": {},
   "outputs": [
    {
     "data": {
      "text/html": [
       "<div>\n",
       "<style scoped>\n",
       "    .dataframe tbody tr th:only-of-type {\n",
       "        vertical-align: middle;\n",
       "    }\n",
       "\n",
       "    .dataframe tbody tr th {\n",
       "        vertical-align: top;\n",
       "    }\n",
       "\n",
       "    .dataframe thead th {\n",
       "        text-align: right;\n",
       "    }\n",
       "</style>\n",
       "<table border=\"1\" class=\"dataframe\">\n",
       "  <thead>\n",
       "    <tr style=\"text-align: right;\">\n",
       "      <th></th>\n",
       "      <th>name</th>\n",
       "      <th>platform</th>\n",
       "      <th>year_of_release</th>\n",
       "      <th>genre</th>\n",
       "      <th>na_sales</th>\n",
       "      <th>eu_sales</th>\n",
       "      <th>jp_sales</th>\n",
       "      <th>other_sales</th>\n",
       "      <th>critic_score</th>\n",
       "      <th>user_score</th>\n",
       "      <th>rating</th>\n",
       "    </tr>\n",
       "  </thead>\n",
       "  <tbody>\n",
       "    <tr>\n",
       "      <th>253</th>\n",
       "      <td>Need for Speed: Most Wanted</td>\n",
       "      <td>PS2</td>\n",
       "      <td>2005.0</td>\n",
       "      <td>Racing</td>\n",
       "      <td>2.03</td>\n",
       "      <td>1.79</td>\n",
       "      <td>0.08</td>\n",
       "      <td>0.47</td>\n",
       "      <td>82.0</td>\n",
       "      <td>9.1</td>\n",
       "      <td>T</td>\n",
       "    </tr>\n",
       "    <tr>\n",
       "      <th>1591</th>\n",
       "      <td>Need for Speed: Most Wanted</td>\n",
       "      <td>X360</td>\n",
       "      <td>2005.0</td>\n",
       "      <td>Racing</td>\n",
       "      <td>1.00</td>\n",
       "      <td>0.13</td>\n",
       "      <td>0.02</td>\n",
       "      <td>0.10</td>\n",
       "      <td>83.0</td>\n",
       "      <td>8.5</td>\n",
       "      <td>T</td>\n",
       "    </tr>\n",
       "    <tr>\n",
       "      <th>1998</th>\n",
       "      <td>Need for Speed: Most Wanted</td>\n",
       "      <td>XB</td>\n",
       "      <td>2005.0</td>\n",
       "      <td>Racing</td>\n",
       "      <td>0.53</td>\n",
       "      <td>0.46</td>\n",
       "      <td>0.00</td>\n",
       "      <td>0.05</td>\n",
       "      <td>83.0</td>\n",
       "      <td>8.8</td>\n",
       "      <td>T</td>\n",
       "    </tr>\n",
       "    <tr>\n",
       "      <th>3581</th>\n",
       "      <td>Need for Speed: Most Wanted</td>\n",
       "      <td>GC</td>\n",
       "      <td>2005.0</td>\n",
       "      <td>Racing</td>\n",
       "      <td>0.43</td>\n",
       "      <td>0.11</td>\n",
       "      <td>0.00</td>\n",
       "      <td>0.02</td>\n",
       "      <td>80.0</td>\n",
       "      <td>9.1</td>\n",
       "      <td>T</td>\n",
       "    </tr>\n",
       "    <tr>\n",
       "      <th>5972</th>\n",
       "      <td>Need for Speed: Most Wanted</td>\n",
       "      <td>PC</td>\n",
       "      <td>2005.0</td>\n",
       "      <td>Racing</td>\n",
       "      <td>0.02</td>\n",
       "      <td>0.23</td>\n",
       "      <td>0.00</td>\n",
       "      <td>0.04</td>\n",
       "      <td>82.0</td>\n",
       "      <td>8.5</td>\n",
       "      <td>T</td>\n",
       "    </tr>\n",
       "    <tr>\n",
       "      <th>6410</th>\n",
       "      <td>Need for Speed: Most Wanted</td>\n",
       "      <td>DS</td>\n",
       "      <td>2005.0</td>\n",
       "      <td>Racing</td>\n",
       "      <td>0.24</td>\n",
       "      <td>0.01</td>\n",
       "      <td>0.00</td>\n",
       "      <td>0.02</td>\n",
       "      <td>45.0</td>\n",
       "      <td>6.1</td>\n",
       "      <td>E</td>\n",
       "    </tr>\n",
       "    <tr>\n",
       "      <th>6473</th>\n",
       "      <td>Need for Speed: Most Wanted</td>\n",
       "      <td>GBA</td>\n",
       "      <td>2005.0</td>\n",
       "      <td>Racing</td>\n",
       "      <td>0.19</td>\n",
       "      <td>0.07</td>\n",
       "      <td>0.00</td>\n",
       "      <td>0.00</td>\n",
       "      <td>NaN</td>\n",
       "      <td>8.3</td>\n",
       "      <td>E</td>\n",
       "    </tr>\n",
       "    <tr>\n",
       "      <th>523</th>\n",
       "      <td>Need for Speed: Most Wanted</td>\n",
       "      <td>PS3</td>\n",
       "      <td>2012.0</td>\n",
       "      <td>Racing</td>\n",
       "      <td>0.71</td>\n",
       "      <td>1.46</td>\n",
       "      <td>0.06</td>\n",
       "      <td>0.58</td>\n",
       "      <td>NaN</td>\n",
       "      <td>NaN</td>\n",
       "      <td>NaN</td>\n",
       "    </tr>\n",
       "    <tr>\n",
       "      <th>1190</th>\n",
       "      <td>Need for Speed: Most Wanted</td>\n",
       "      <td>X360</td>\n",
       "      <td>2012.0</td>\n",
       "      <td>Racing</td>\n",
       "      <td>0.62</td>\n",
       "      <td>0.78</td>\n",
       "      <td>0.01</td>\n",
       "      <td>0.15</td>\n",
       "      <td>83.0</td>\n",
       "      <td>8.5</td>\n",
       "      <td>T</td>\n",
       "    </tr>\n",
       "    <tr>\n",
       "      <th>2048</th>\n",
       "      <td>Need for Speed: Most Wanted</td>\n",
       "      <td>PSV</td>\n",
       "      <td>2012.0</td>\n",
       "      <td>Racing</td>\n",
       "      <td>0.33</td>\n",
       "      <td>0.45</td>\n",
       "      <td>0.01</td>\n",
       "      <td>0.22</td>\n",
       "      <td>NaN</td>\n",
       "      <td>NaN</td>\n",
       "      <td>NaN</td>\n",
       "    </tr>\n",
       "    <tr>\n",
       "      <th>11715</th>\n",
       "      <td>Need for Speed: Most Wanted</td>\n",
       "      <td>PC</td>\n",
       "      <td>2012.0</td>\n",
       "      <td>Racing</td>\n",
       "      <td>0.00</td>\n",
       "      <td>0.06</td>\n",
       "      <td>0.00</td>\n",
       "      <td>0.02</td>\n",
       "      <td>82.0</td>\n",
       "      <td>8.5</td>\n",
       "      <td>T</td>\n",
       "    </tr>\n",
       "    <tr>\n",
       "      <th>6273</th>\n",
       "      <td>Need for Speed: Most Wanted</td>\n",
       "      <td>WiiU</td>\n",
       "      <td>2013.0</td>\n",
       "      <td>Racing</td>\n",
       "      <td>0.13</td>\n",
       "      <td>0.12</td>\n",
       "      <td>0.00</td>\n",
       "      <td>0.02</td>\n",
       "      <td>NaN</td>\n",
       "      <td>NaN</td>\n",
       "      <td>NaN</td>\n",
       "    </tr>\n",
       "  </tbody>\n",
       "</table>\n",
       "</div>"
      ],
      "text/plain": [
       "                              name platform  year_of_release   genre  \\\n",
       "253    Need for Speed: Most Wanted      PS2           2005.0  Racing   \n",
       "1591   Need for Speed: Most Wanted     X360           2005.0  Racing   \n",
       "1998   Need for Speed: Most Wanted       XB           2005.0  Racing   \n",
       "3581   Need for Speed: Most Wanted       GC           2005.0  Racing   \n",
       "5972   Need for Speed: Most Wanted       PC           2005.0  Racing   \n",
       "6410   Need for Speed: Most Wanted       DS           2005.0  Racing   \n",
       "6473   Need for Speed: Most Wanted      GBA           2005.0  Racing   \n",
       "523    Need for Speed: Most Wanted      PS3           2012.0  Racing   \n",
       "1190   Need for Speed: Most Wanted     X360           2012.0  Racing   \n",
       "2048   Need for Speed: Most Wanted      PSV           2012.0  Racing   \n",
       "11715  Need for Speed: Most Wanted       PC           2012.0  Racing   \n",
       "6273   Need for Speed: Most Wanted     WiiU           2013.0  Racing   \n",
       "\n",
       "       na_sales  eu_sales  jp_sales  other_sales  critic_score user_score  \\\n",
       "253        2.03      1.79      0.08         0.47          82.0        9.1   \n",
       "1591       1.00      0.13      0.02         0.10          83.0        8.5   \n",
       "1998       0.53      0.46      0.00         0.05          83.0        8.8   \n",
       "3581       0.43      0.11      0.00         0.02          80.0        9.1   \n",
       "5972       0.02      0.23      0.00         0.04          82.0        8.5   \n",
       "6410       0.24      0.01      0.00         0.02          45.0        6.1   \n",
       "6473       0.19      0.07      0.00         0.00           NaN        8.3   \n",
       "523        0.71      1.46      0.06         0.58           NaN        NaN   \n",
       "1190       0.62      0.78      0.01         0.15          83.0        8.5   \n",
       "2048       0.33      0.45      0.01         0.22           NaN        NaN   \n",
       "11715      0.00      0.06      0.00         0.02          82.0        8.5   \n",
       "6273       0.13      0.12      0.00         0.02           NaN        NaN   \n",
       "\n",
       "      rating  \n",
       "253        T  \n",
       "1591       T  \n",
       "1998       T  \n",
       "3581       T  \n",
       "5972       T  \n",
       "6410       E  \n",
       "6473       E  \n",
       "523      NaN  \n",
       "1190       T  \n",
       "2048     NaN  \n",
       "11715      T  \n",
       "6273     NaN  "
      ]
     },
     "execution_count": 53,
     "metadata": {},
     "output_type": "execute_result"
    }
   ],
   "source": [
    "# Оказалось это не дубли, а разные платформы и релизы\n",
    "games_ori.query('name.str.lower() == \"need for speed: most wanted\"').sort_values(by='year_of_release')"
   ]
  },
  {
   "cell_type": "code",
   "execution_count": 54,
   "metadata": {},
   "outputs": [
    {
     "data": {
      "text/plain": [
       "need for speed: most wanted                         12\n",
       "ratatouille                                          9\n",
       "lego marvel super heroes                             9\n",
       "fifa 14                                              9\n",
       "madden nfl 07                                        9\n",
       "                                                    ..\n",
       "jewels of the tropical lost island                   1\n",
       "sherlock holmes and the mystery of osborne house     1\n",
       "the king of fighters '95 (cd)                        1\n",
       "megamind: mega team unite                            1\n",
       "haitaka no psychedelica                              1\n",
       "Name: name, Length: 11559, dtype: int64"
      ]
     },
     "execution_count": 54,
     "metadata": {},
     "output_type": "execute_result"
    }
   ],
   "source": [
    "games_ori['name'].str.lower().value_counts()"
   ]
  },
  {
   "cell_type": "code",
   "execution_count": 55,
   "metadata": {},
   "outputs": [
    {
     "data": {
      "text/plain": [
       "0"
      ]
     },
     "execution_count": 55,
     "metadata": {},
     "output_type": "execute_result"
    }
   ],
   "source": [
    "# Явных дубликатов нет\n",
    "games_ori.duplicated().sum()"
   ]
  },
  {
   "cell_type": "markdown",
   "metadata": {},
   "source": [
    "## Удаление пустых значений"
   ]
  },
  {
   "cell_type": "code",
   "execution_count": 56,
   "metadata": {},
   "outputs": [],
   "source": [
    "# Разделим на два датасета:\n",
    "# датасет, в котором надо будет дополнительно восстанавливать дату релиза, если будет на это время 269 строк\n",
    "# так как не факт, что на разных платформах игры вышли в один год\n",
    "to_restore = games_ori.query('year_of_release.isna()')"
   ]
  },
  {
   "cell_type": "code",
   "execution_count": 57,
   "metadata": {},
   "outputs": [],
   "source": [
    "# второй датасет будет рабочий\n",
    "\n",
    "good_data = games_ori.query('~year_of_release.isna()')"
   ]
  },
  {
   "cell_type": "code",
   "execution_count": 58,
   "metadata": {},
   "outputs": [
    {
     "data": {
      "text/html": [
       "<div>\n",
       "<style scoped>\n",
       "    .dataframe tbody tr th:only-of-type {\n",
       "        vertical-align: middle;\n",
       "    }\n",
       "\n",
       "    .dataframe tbody tr th {\n",
       "        vertical-align: top;\n",
       "    }\n",
       "\n",
       "    .dataframe thead th {\n",
       "        text-align: right;\n",
       "    }\n",
       "</style>\n",
       "<table border=\"1\" class=\"dataframe\">\n",
       "  <thead>\n",
       "    <tr style=\"text-align: right;\">\n",
       "      <th></th>\n",
       "      <th>name</th>\n",
       "      <th>platform</th>\n",
       "      <th>year_of_release</th>\n",
       "      <th>genre</th>\n",
       "      <th>na_sales</th>\n",
       "      <th>eu_sales</th>\n",
       "      <th>jp_sales</th>\n",
       "      <th>other_sales</th>\n",
       "      <th>critic_score</th>\n",
       "      <th>user_score</th>\n",
       "      <th>rating</th>\n",
       "    </tr>\n",
       "  </thead>\n",
       "  <tbody>\n",
       "    <tr>\n",
       "      <th>659</th>\n",
       "      <td>NaN</td>\n",
       "      <td>GEN</td>\n",
       "      <td>1993.0</td>\n",
       "      <td>NaN</td>\n",
       "      <td>1.78</td>\n",
       "      <td>0.53</td>\n",
       "      <td>0.00</td>\n",
       "      <td>0.08</td>\n",
       "      <td>NaN</td>\n",
       "      <td>NaN</td>\n",
       "      <td>NaN</td>\n",
       "    </tr>\n",
       "    <tr>\n",
       "      <th>14244</th>\n",
       "      <td>NaN</td>\n",
       "      <td>GEN</td>\n",
       "      <td>1993.0</td>\n",
       "      <td>NaN</td>\n",
       "      <td>0.00</td>\n",
       "      <td>0.00</td>\n",
       "      <td>0.03</td>\n",
       "      <td>0.00</td>\n",
       "      <td>NaN</td>\n",
       "      <td>NaN</td>\n",
       "      <td>NaN</td>\n",
       "    </tr>\n",
       "  </tbody>\n",
       "</table>\n",
       "</div>"
      ],
      "text/plain": [
       "      name platform  year_of_release genre  na_sales  eu_sales  jp_sales  \\\n",
       "659    NaN      GEN           1993.0   NaN      1.78      0.53      0.00   \n",
       "14244  NaN      GEN           1993.0   NaN      0.00      0.00      0.03   \n",
       "\n",
       "       other_sales  critic_score user_score rating  \n",
       "659           0.08           NaN        NaN    NaN  \n",
       "14244         0.00           NaN        NaN    NaN  "
      ]
     },
     "execution_count": 58,
     "metadata": {},
     "output_type": "execute_result"
    }
   ],
   "source": [
    "# 2 пустые строкиб Старый год 1993, ключевые столбцы пропущены, тяжело для восстановления, лучше удалить\n",
    "games_ori.query('name.isna()')"
   ]
  },
  {
   "cell_type": "code",
   "execution_count": 59,
   "metadata": {},
   "outputs": [],
   "source": [
    "good_data = good_data.query('~name.isna()')"
   ]
  },
  {
   "cell_type": "code",
   "execution_count": 60,
   "metadata": {},
   "outputs": [
    {
     "data": {
      "text/html": [
       "<div>\n",
       "<style scoped>\n",
       "    .dataframe tbody tr th:only-of-type {\n",
       "        vertical-align: middle;\n",
       "    }\n",
       "\n",
       "    .dataframe tbody tr th {\n",
       "        vertical-align: top;\n",
       "    }\n",
       "\n",
       "    .dataframe thead th {\n",
       "        text-align: right;\n",
       "    }\n",
       "</style>\n",
       "<table border=\"1\" class=\"dataframe\">\n",
       "  <thead>\n",
       "    <tr style=\"text-align: right;\">\n",
       "      <th></th>\n",
       "      <th>name</th>\n",
       "      <th>platform</th>\n",
       "      <th>year_of_release</th>\n",
       "      <th>genre</th>\n",
       "      <th>na_sales</th>\n",
       "      <th>eu_sales</th>\n",
       "      <th>jp_sales</th>\n",
       "      <th>other_sales</th>\n",
       "      <th>critic_score</th>\n",
       "      <th>user_score</th>\n",
       "      <th>rating</th>\n",
       "    </tr>\n",
       "  </thead>\n",
       "  <tbody>\n",
       "  </tbody>\n",
       "</table>\n",
       "</div>"
      ],
      "text/plain": [
       "Empty DataFrame\n",
       "Columns: [name, platform, year_of_release, genre, na_sales, eu_sales, jp_sales, other_sales, critic_score, user_score, rating]\n",
       "Index: []"
      ]
     },
     "execution_count": 60,
     "metadata": {},
     "output_type": "execute_result"
    }
   ],
   "source": [
    "# Заодно избавились от пустых значений в столбце жанр\n",
    "good_data.query('genre.isna()')"
   ]
  },
  {
   "cell_type": "markdown",
   "metadata": {},
   "source": [
    "###  User_Score — оценка пользователей (максимум 10)"
   ]
  },
  {
   "cell_type": "code",
   "execution_count": 61,
   "metadata": {},
   "outputs": [
    {
     "data": {
      "text/plain": [
       "name                                       platform  year_of_release  user_score\n",
       "Madden NFL 13                              PS3       2012.0           5.5           2\n",
       "R.U.S.E.                                   X360      2010.0           7             1\n",
       "R: Racing Evolution                        GC        2003.0           tbd           1\n",
       "                                           PS2       2003.0           6.2           1\n",
       "                                           XB        2003.0           tbd           1\n",
       "                                                                                   ..\n",
       "Greg Hastings' Tournament Paintball Max'd  GBA       2006.0           tbd           1\n",
       "                                           PS2       2006.0           9.2           1\n",
       "Gretzky NHL                                PSP       2005.0           7.4           1\n",
       "Gretzky NHL 06                             PS2       2005.0           tbd           1\n",
       "uDraw Studio: Instant Artist               X360      2011.0           5.7           1\n",
       "Length: 9838, dtype: int64"
      ]
     },
     "execution_count": 61,
     "metadata": {},
     "output_type": "execute_result"
    }
   ],
   "source": [
    "good_data[['name', 'platform', 'year_of_release', 'user_score']].value_counts()\n",
    "# tbd for To Be Determined, means not enough votes \n",
    "# столбец должен быть типа float, поэтому tbd условно заменим на -1\n",
    "# Пропуски по оценкам либо изначально не были найдены для некоторых записей, либо не записались при формировании базы данных.\n",
    "# На оценку могут влиять как год, как платформа, так и жанр. Средним значением заменять не будем и высчитывать оэфициенты для игр тоже не будем.\n",
    "# Также заменим на -1"
   ]
  },
  {
   "cell_type": "code",
   "execution_count": 62,
   "metadata": {},
   "outputs": [
    {
     "data": {
      "text/html": [
       "<div>\n",
       "<style scoped>\n",
       "    .dataframe tbody tr th:only-of-type {\n",
       "        vertical-align: middle;\n",
       "    }\n",
       "\n",
       "    .dataframe tbody tr th {\n",
       "        vertical-align: top;\n",
       "    }\n",
       "\n",
       "    .dataframe thead th {\n",
       "        text-align: right;\n",
       "    }\n",
       "</style>\n",
       "<table border=\"1\" class=\"dataframe\">\n",
       "  <thead>\n",
       "    <tr style=\"text-align: right;\">\n",
       "      <th></th>\n",
       "      <th>name</th>\n",
       "      <th>platform</th>\n",
       "      <th>year_of_release</th>\n",
       "      <th>genre</th>\n",
       "      <th>na_sales</th>\n",
       "      <th>eu_sales</th>\n",
       "      <th>jp_sales</th>\n",
       "      <th>other_sales</th>\n",
       "      <th>critic_score</th>\n",
       "      <th>user_score</th>\n",
       "      <th>rating</th>\n",
       "    </tr>\n",
       "  </thead>\n",
       "  <tbody>\n",
       "    <tr>\n",
       "      <th>507</th>\n",
       "      <td>Madden NFL 13</td>\n",
       "      <td>X360</td>\n",
       "      <td>2012.0</td>\n",
       "      <td>Sports</td>\n",
       "      <td>2.53</td>\n",
       "      <td>0.15</td>\n",
       "      <td>0.0</td>\n",
       "      <td>0.17</td>\n",
       "      <td>81.0</td>\n",
       "      <td>5.8</td>\n",
       "      <td>E</td>\n",
       "    </tr>\n",
       "    <tr>\n",
       "      <th>604</th>\n",
       "      <td>Madden NFL 13</td>\n",
       "      <td>PS3</td>\n",
       "      <td>2012.0</td>\n",
       "      <td>Sports</td>\n",
       "      <td>2.11</td>\n",
       "      <td>0.22</td>\n",
       "      <td>0.0</td>\n",
       "      <td>0.23</td>\n",
       "      <td>83.0</td>\n",
       "      <td>5.5</td>\n",
       "      <td>E</td>\n",
       "    </tr>\n",
       "    <tr>\n",
       "      <th>3986</th>\n",
       "      <td>Madden NFL 13</td>\n",
       "      <td>Wii</td>\n",
       "      <td>2012.0</td>\n",
       "      <td>Sports</td>\n",
       "      <td>0.47</td>\n",
       "      <td>0.00</td>\n",
       "      <td>0.0</td>\n",
       "      <td>0.03</td>\n",
       "      <td>NaN</td>\n",
       "      <td>7.3</td>\n",
       "      <td>E</td>\n",
       "    </tr>\n",
       "    <tr>\n",
       "      <th>5887</th>\n",
       "      <td>Madden NFL 13</td>\n",
       "      <td>PSV</td>\n",
       "      <td>2012.0</td>\n",
       "      <td>Sports</td>\n",
       "      <td>0.28</td>\n",
       "      <td>0.00</td>\n",
       "      <td>0.0</td>\n",
       "      <td>0.02</td>\n",
       "      <td>63.0</td>\n",
       "      <td>7.3</td>\n",
       "      <td>E</td>\n",
       "    </tr>\n",
       "    <tr>\n",
       "      <th>7066</th>\n",
       "      <td>Madden NFL 13</td>\n",
       "      <td>WiiU</td>\n",
       "      <td>2012.0</td>\n",
       "      <td>Sports</td>\n",
       "      <td>0.21</td>\n",
       "      <td>0.00</td>\n",
       "      <td>0.0</td>\n",
       "      <td>0.02</td>\n",
       "      <td>75.0</td>\n",
       "      <td>6.7</td>\n",
       "      <td>E</td>\n",
       "    </tr>\n",
       "    <tr>\n",
       "      <th>16230</th>\n",
       "      <td>Madden NFL 13</td>\n",
       "      <td>PS3</td>\n",
       "      <td>2012.0</td>\n",
       "      <td>Sports</td>\n",
       "      <td>0.00</td>\n",
       "      <td>0.01</td>\n",
       "      <td>0.0</td>\n",
       "      <td>0.00</td>\n",
       "      <td>83.0</td>\n",
       "      <td>5.5</td>\n",
       "      <td>E</td>\n",
       "    </tr>\n",
       "  </tbody>\n",
       "</table>\n",
       "</div>"
      ],
      "text/plain": [
       "                name platform  year_of_release   genre  na_sales  eu_sales  \\\n",
       "507    Madden NFL 13     X360           2012.0  Sports      2.53      0.15   \n",
       "604    Madden NFL 13      PS3           2012.0  Sports      2.11      0.22   \n",
       "3986   Madden NFL 13      Wii           2012.0  Sports      0.47      0.00   \n",
       "5887   Madden NFL 13      PSV           2012.0  Sports      0.28      0.00   \n",
       "7066   Madden NFL 13     WiiU           2012.0  Sports      0.21      0.00   \n",
       "16230  Madden NFL 13      PS3           2012.0  Sports      0.00      0.01   \n",
       "\n",
       "       jp_sales  other_sales  critic_score user_score rating  \n",
       "507         0.0         0.17          81.0        5.8      E  \n",
       "604         0.0         0.23          83.0        5.5      E  \n",
       "3986        0.0         0.03           NaN        7.3      E  \n",
       "5887        0.0         0.02          63.0        7.3      E  \n",
       "7066        0.0         0.02          75.0        6.7      E  \n",
       "16230       0.0         0.00          83.0        5.5      E  "
      ]
     },
     "execution_count": 62,
     "metadata": {},
     "output_type": "execute_result"
    }
   ],
   "source": [
    "good_data.query('name == \"Madden NFL 13\"')\n",
    "# Есть одна интерсная запись, толи дубль, толи опечатка: строка 604 и 16230"
   ]
  },
  {
   "cell_type": "code",
   "execution_count": 63,
   "metadata": {},
   "outputs": [
    {
     "data": {
      "text/plain": [
       "1"
      ]
     },
     "execution_count": 63,
     "metadata": {},
     "output_type": "execute_result"
    }
   ],
   "source": [
    "good_data[['name', 'platform', 'year_of_release']].duplicated().sum()\n",
    "# И она одна единственная"
   ]
  },
  {
   "cell_type": "code",
   "execution_count": 64,
   "metadata": {},
   "outputs": [],
   "source": [
    "# Заменим tbd на -1\n",
    "#good_data['user_score'] = good_data['user_score'].str.replace('tbd', '-1')\n",
    "good_data['user_score'] = good_data['user_score'].replace('tbd', np.nan)"
   ]
  },
  {
   "cell_type": "code",
   "execution_count": 65,
   "metadata": {},
   "outputs": [],
   "source": [
    "# Заменим nan на -1\n",
    "#good_data['user_score'] = good_data['user_score'].fillna(-1)"
   ]
  },
  {
   "cell_type": "code",
   "execution_count": 66,
   "metadata": {},
   "outputs": [],
   "source": [
    "# Преобразуем тип данных из object в float\n",
    "good_data['user_score'] = good_data['user_score'].astype('float')"
   ]
  },
  {
   "cell_type": "code",
   "execution_count": 67,
   "metadata": {},
   "outputs": [
    {
     "data": {
      "text/plain": [
       "8981"
      ]
     },
     "execution_count": 67,
     "metadata": {},
     "output_type": "execute_result"
    }
   ],
   "source": [
    "# Проверим, что пустых значений не осталось\n",
    "good_data['user_score'].isna().sum()"
   ]
  },
  {
   "cell_type": "markdown",
   "metadata": {},
   "source": [
    "### Critic_Score — оценка критиков (максимум 100)"
   ]
  },
  {
   "cell_type": "code",
   "execution_count": 68,
   "metadata": {},
   "outputs": [
    {
     "data": {
      "text/plain": [
       "name                                   platform  year_of_release  critic_score\n",
       "Madden NFL 13                          PS3       2012.0           83.0            2\n",
       " Tales of Xillia 2                     PS3       2012.0           71.0            1\n",
       "Real World Golf                        XB        2006.0           74.0            1\n",
       "Red Faction                            PS2       2001.0           88.0            1\n",
       "Red Dead Revolver                      XB        2004.0           74.0            1\n",
       "                                                                                 ..\n",
       "Guitar Hero 5                          PS2       2009.0           71.0            1\n",
       "Guitar Hero                            PS2       2005.0           91.0            1\n",
       "Guinness World Records: The Videogame  Wii       2008.0           67.0            1\n",
       "                                       DS        2008.0           70.0            1\n",
       "uDraw Studio: Instant Artist           X360      2011.0           54.0            1\n",
       "Length: 7982, dtype: int64"
      ]
     },
     "execution_count": 68,
     "metadata": {},
     "output_type": "execute_result"
    }
   ],
   "source": [
    "good_data[['name', 'platform', 'year_of_release', 'critic_score']].value_counts()"
   ]
  },
  {
   "cell_type": "code",
   "execution_count": 69,
   "metadata": {},
   "outputs": [
    {
     "data": {
      "text/plain": [
       "8461"
      ]
     },
     "execution_count": 69,
     "metadata": {},
     "output_type": "execute_result"
    }
   ],
   "source": [
    "good_data['critic_score'].isna().sum()\n",
    "# Пустых значений 8461"
   ]
  },
  {
   "cell_type": "code",
   "execution_count": 70,
   "metadata": {},
   "outputs": [],
   "source": [
    "# Сгруппируем и заполним пустые значения по платформам, те что будут совпадать по платформе, чаще всего совпадают\n",
    "good_data['critic_score'] = good_data.groupby(['name', 'platform'])['critic_score'].apply(lambda val: val.ffill().bfill())"
   ]
  },
  {
   "cell_type": "code",
   "execution_count": 71,
   "metadata": {},
   "outputs": [
    {
     "data": {
      "text/html": [
       "<div>\n",
       "<style scoped>\n",
       "    .dataframe tbody tr th:only-of-type {\n",
       "        vertical-align: middle;\n",
       "    }\n",
       "\n",
       "    .dataframe tbody tr th {\n",
       "        vertical-align: top;\n",
       "    }\n",
       "\n",
       "    .dataframe thead th {\n",
       "        text-align: right;\n",
       "    }\n",
       "</style>\n",
       "<table border=\"1\" class=\"dataframe\">\n",
       "  <thead>\n",
       "    <tr style=\"text-align: right;\">\n",
       "      <th></th>\n",
       "      <th>name</th>\n",
       "      <th>platform</th>\n",
       "      <th>year_of_release</th>\n",
       "      <th>genre</th>\n",
       "      <th>na_sales</th>\n",
       "      <th>eu_sales</th>\n",
       "      <th>jp_sales</th>\n",
       "      <th>other_sales</th>\n",
       "      <th>critic_score</th>\n",
       "      <th>user_score</th>\n",
       "      <th>rating</th>\n",
       "    </tr>\n",
       "  </thead>\n",
       "  <tbody>\n",
       "    <tr>\n",
       "      <th>1</th>\n",
       "      <td>Super Mario Bros.</td>\n",
       "      <td>NES</td>\n",
       "      <td>1985.0</td>\n",
       "      <td>Platform</td>\n",
       "      <td>29.08</td>\n",
       "      <td>3.58</td>\n",
       "      <td>6.81</td>\n",
       "      <td>0.77</td>\n",
       "      <td>NaN</td>\n",
       "      <td>NaN</td>\n",
       "      <td>NaN</td>\n",
       "    </tr>\n",
       "    <tr>\n",
       "      <th>201</th>\n",
       "      <td>Super Mario Bros.</td>\n",
       "      <td>GB</td>\n",
       "      <td>1999.0</td>\n",
       "      <td>Platform</td>\n",
       "      <td>3.40</td>\n",
       "      <td>1.30</td>\n",
       "      <td>0.15</td>\n",
       "      <td>0.22</td>\n",
       "      <td>NaN</td>\n",
       "      <td>NaN</td>\n",
       "      <td>NaN</td>\n",
       "    </tr>\n",
       "  </tbody>\n",
       "</table>\n",
       "</div>"
      ],
      "text/plain": [
       "                  name platform  year_of_release     genre  na_sales  \\\n",
       "1    Super Mario Bros.      NES           1985.0  Platform     29.08   \n",
       "201  Super Mario Bros.       GB           1999.0  Platform      3.40   \n",
       "\n",
       "     eu_sales  jp_sales  other_sales  critic_score  user_score rating  \n",
       "1        3.58      6.81         0.77           NaN         NaN    NaN  \n",
       "201      1.30      0.15         0.22           NaN         NaN    NaN  "
      ]
     },
     "execution_count": 71,
     "metadata": {},
     "output_type": "execute_result"
    }
   ],
   "source": [
    "good_data.query('name == \"Super Mario Bros.\"')\n",
    "# Даже если сгруппировать данные, то не все значения можно будет заполнить корректно. \n",
    "# Так как есть пример что одна и та же игра может быть оценена на одной платформе высоко, на другой низко.\n",
    "# оставим их пустыми"
   ]
  },
  {
   "cell_type": "markdown",
   "metadata": {},
   "source": [
    "### Rating — рейтинг от организации ESRB (англ. Entertainment Software Rating Board). Эта ассоциация определяет рейтинг компьютерных игр и присваивает им подходящую возрастную категорию."
   ]
  },
  {
   "cell_type": "code",
   "execution_count": 72,
   "metadata": {},
   "outputs": [
    {
     "data": {
      "text/plain": [
       "array(['E', nan, 'M', 'T', 'E10+', 'K-A', 'AO', 'EC', 'RP'], dtype=object)"
      ]
     },
     "execution_count": 72,
     "metadata": {},
     "output_type": "execute_result"
    }
   ],
   "source": [
    "good_data['rating'].unique()\n",
    "# https://www.esrb.org/ratings-guide/\n",
    "# K-A was replaced by E in 1998\n",
    "# AO: Adults only as A\n",
    "# EC - Early Childhood as E"
   ]
  },
  {
   "cell_type": "code",
   "execution_count": 73,
   "metadata": {},
   "outputs": [
    {
     "data": {
      "text/html": [
       "<div>\n",
       "<style scoped>\n",
       "    .dataframe tbody tr th:only-of-type {\n",
       "        vertical-align: middle;\n",
       "    }\n",
       "\n",
       "    .dataframe tbody tr th {\n",
       "        vertical-align: top;\n",
       "    }\n",
       "\n",
       "    .dataframe thead th {\n",
       "        text-align: right;\n",
       "    }\n",
       "</style>\n",
       "<table border=\"1\" class=\"dataframe\">\n",
       "  <thead>\n",
       "    <tr style=\"text-align: right;\">\n",
       "      <th></th>\n",
       "      <th>name</th>\n",
       "      <th>platform</th>\n",
       "      <th>year_of_release</th>\n",
       "      <th>genre</th>\n",
       "      <th>na_sales</th>\n",
       "      <th>eu_sales</th>\n",
       "      <th>jp_sales</th>\n",
       "      <th>other_sales</th>\n",
       "      <th>critic_score</th>\n",
       "      <th>user_score</th>\n",
       "      <th>rating</th>\n",
       "    </tr>\n",
       "  </thead>\n",
       "  <tbody>\n",
       "    <tr>\n",
       "      <th>17</th>\n",
       "      <td>Grand Theft Auto: San Andreas</td>\n",
       "      <td>PS2</td>\n",
       "      <td>2004.0</td>\n",
       "      <td>Action</td>\n",
       "      <td>9.43</td>\n",
       "      <td>0.40</td>\n",
       "      <td>0.41</td>\n",
       "      <td>10.57</td>\n",
       "      <td>95.0</td>\n",
       "      <td>9.0</td>\n",
       "      <td>M</td>\n",
       "    </tr>\n",
       "    <tr>\n",
       "      <th>875</th>\n",
       "      <td>Grand Theft Auto: San Andreas</td>\n",
       "      <td>XB</td>\n",
       "      <td>2005.0</td>\n",
       "      <td>Action</td>\n",
       "      <td>1.26</td>\n",
       "      <td>0.61</td>\n",
       "      <td>0.00</td>\n",
       "      <td>0.09</td>\n",
       "      <td>93.0</td>\n",
       "      <td>8.6</td>\n",
       "      <td>AO</td>\n",
       "    </tr>\n",
       "    <tr>\n",
       "      <th>2115</th>\n",
       "      <td>Grand Theft Auto: San Andreas</td>\n",
       "      <td>PC</td>\n",
       "      <td>2005.0</td>\n",
       "      <td>Action</td>\n",
       "      <td>0.00</td>\n",
       "      <td>0.93</td>\n",
       "      <td>0.00</td>\n",
       "      <td>0.04</td>\n",
       "      <td>93.0</td>\n",
       "      <td>8.9</td>\n",
       "      <td>M</td>\n",
       "    </tr>\n",
       "    <tr>\n",
       "      <th>10311</th>\n",
       "      <td>Grand Theft Auto: San Andreas</td>\n",
       "      <td>X360</td>\n",
       "      <td>2008.0</td>\n",
       "      <td>Action</td>\n",
       "      <td>0.08</td>\n",
       "      <td>0.02</td>\n",
       "      <td>0.00</td>\n",
       "      <td>0.01</td>\n",
       "      <td>NaN</td>\n",
       "      <td>7.5</td>\n",
       "      <td>M</td>\n",
       "    </tr>\n",
       "  </tbody>\n",
       "</table>\n",
       "</div>"
      ],
      "text/plain": [
       "                                name platform  year_of_release   genre  \\\n",
       "17     Grand Theft Auto: San Andreas      PS2           2004.0  Action   \n",
       "875    Grand Theft Auto: San Andreas       XB           2005.0  Action   \n",
       "2115   Grand Theft Auto: San Andreas       PC           2005.0  Action   \n",
       "10311  Grand Theft Auto: San Andreas     X360           2008.0  Action   \n",
       "\n",
       "       na_sales  eu_sales  jp_sales  other_sales  critic_score  user_score  \\\n",
       "17         9.43      0.40      0.41        10.57          95.0         9.0   \n",
       "875        1.26      0.61      0.00         0.09          93.0         8.6   \n",
       "2115       0.00      0.93      0.00         0.04          93.0         8.9   \n",
       "10311      0.08      0.02      0.00         0.01           NaN         7.5   \n",
       "\n",
       "      rating  \n",
       "17         M  \n",
       "875       AO  \n",
       "2115       M  \n",
       "10311      M  "
      ]
     },
     "execution_count": 73,
     "metadata": {},
     "output_type": "execute_result"
    }
   ],
   "source": [
    "# унифицируем рейтинги под последние значения\n",
    "good_data.query('name == \"Grand Theft Auto: San Andreas\"')\n",
    "# Не понятно почему на xbox вдруг AO"
   ]
  },
  {
   "cell_type": "code",
   "execution_count": 74,
   "metadata": {},
   "outputs": [],
   "source": [
    "#good_data['rating'] = good_data['rating'].str.replace('AO', 'M').replace('K-A', 'E').replace('EC', 'E')"
   ]
  },
  {
   "cell_type": "code",
   "execution_count": 75,
   "metadata": {},
   "outputs": [],
   "source": [
    "#good_data['rating'] = good_data.groupby(['name'])['rating'].apply(lambda val: val.ffill().bfill())"
   ]
  },
  {
   "cell_type": "code",
   "execution_count": 76,
   "metadata": {},
   "outputs": [],
   "source": [
    "good_data['rating'].fillna('unrated', inplace=True)"
   ]
  },
  {
   "cell_type": "code",
   "execution_count": 77,
   "metadata": {},
   "outputs": [
    {
     "data": {
      "text/html": [
       "<div>\n",
       "<style scoped>\n",
       "    .dataframe tbody tr th:only-of-type {\n",
       "        vertical-align: middle;\n",
       "    }\n",
       "\n",
       "    .dataframe tbody tr th {\n",
       "        vertical-align: top;\n",
       "    }\n",
       "\n",
       "    .dataframe thead th {\n",
       "        text-align: right;\n",
       "    }\n",
       "</style>\n",
       "<table border=\"1\" class=\"dataframe\">\n",
       "  <thead>\n",
       "    <tr style=\"text-align: right;\">\n",
       "      <th></th>\n",
       "      <th>name</th>\n",
       "      <th>platform</th>\n",
       "      <th>year_of_release</th>\n",
       "      <th>genre</th>\n",
       "      <th>na_sales</th>\n",
       "      <th>eu_sales</th>\n",
       "      <th>jp_sales</th>\n",
       "      <th>other_sales</th>\n",
       "      <th>critic_score</th>\n",
       "      <th>user_score</th>\n",
       "      <th>rating</th>\n",
       "    </tr>\n",
       "  </thead>\n",
       "  <tbody>\n",
       "    <tr>\n",
       "      <th>253</th>\n",
       "      <td>Need for Speed: Most Wanted</td>\n",
       "      <td>PS2</td>\n",
       "      <td>2005.0</td>\n",
       "      <td>Racing</td>\n",
       "      <td>2.03</td>\n",
       "      <td>1.79</td>\n",
       "      <td>0.08</td>\n",
       "      <td>0.47</td>\n",
       "      <td>82.0</td>\n",
       "      <td>9.1</td>\n",
       "      <td>T</td>\n",
       "    </tr>\n",
       "    <tr>\n",
       "      <th>523</th>\n",
       "      <td>Need for Speed: Most Wanted</td>\n",
       "      <td>PS3</td>\n",
       "      <td>2012.0</td>\n",
       "      <td>Racing</td>\n",
       "      <td>0.71</td>\n",
       "      <td>1.46</td>\n",
       "      <td>0.06</td>\n",
       "      <td>0.58</td>\n",
       "      <td>NaN</td>\n",
       "      <td>NaN</td>\n",
       "      <td>unrated</td>\n",
       "    </tr>\n",
       "    <tr>\n",
       "      <th>1190</th>\n",
       "      <td>Need for Speed: Most Wanted</td>\n",
       "      <td>X360</td>\n",
       "      <td>2012.0</td>\n",
       "      <td>Racing</td>\n",
       "      <td>0.62</td>\n",
       "      <td>0.78</td>\n",
       "      <td>0.01</td>\n",
       "      <td>0.15</td>\n",
       "      <td>83.0</td>\n",
       "      <td>8.5</td>\n",
       "      <td>T</td>\n",
       "    </tr>\n",
       "    <tr>\n",
       "      <th>1591</th>\n",
       "      <td>Need for Speed: Most Wanted</td>\n",
       "      <td>X360</td>\n",
       "      <td>2005.0</td>\n",
       "      <td>Racing</td>\n",
       "      <td>1.00</td>\n",
       "      <td>0.13</td>\n",
       "      <td>0.02</td>\n",
       "      <td>0.10</td>\n",
       "      <td>83.0</td>\n",
       "      <td>8.5</td>\n",
       "      <td>T</td>\n",
       "    </tr>\n",
       "    <tr>\n",
       "      <th>1998</th>\n",
       "      <td>Need for Speed: Most Wanted</td>\n",
       "      <td>XB</td>\n",
       "      <td>2005.0</td>\n",
       "      <td>Racing</td>\n",
       "      <td>0.53</td>\n",
       "      <td>0.46</td>\n",
       "      <td>0.00</td>\n",
       "      <td>0.05</td>\n",
       "      <td>83.0</td>\n",
       "      <td>8.8</td>\n",
       "      <td>T</td>\n",
       "    </tr>\n",
       "    <tr>\n",
       "      <th>2048</th>\n",
       "      <td>Need for Speed: Most Wanted</td>\n",
       "      <td>PSV</td>\n",
       "      <td>2012.0</td>\n",
       "      <td>Racing</td>\n",
       "      <td>0.33</td>\n",
       "      <td>0.45</td>\n",
       "      <td>0.01</td>\n",
       "      <td>0.22</td>\n",
       "      <td>NaN</td>\n",
       "      <td>NaN</td>\n",
       "      <td>unrated</td>\n",
       "    </tr>\n",
       "    <tr>\n",
       "      <th>3581</th>\n",
       "      <td>Need for Speed: Most Wanted</td>\n",
       "      <td>GC</td>\n",
       "      <td>2005.0</td>\n",
       "      <td>Racing</td>\n",
       "      <td>0.43</td>\n",
       "      <td>0.11</td>\n",
       "      <td>0.00</td>\n",
       "      <td>0.02</td>\n",
       "      <td>80.0</td>\n",
       "      <td>9.1</td>\n",
       "      <td>T</td>\n",
       "    </tr>\n",
       "    <tr>\n",
       "      <th>5972</th>\n",
       "      <td>Need for Speed: Most Wanted</td>\n",
       "      <td>PC</td>\n",
       "      <td>2005.0</td>\n",
       "      <td>Racing</td>\n",
       "      <td>0.02</td>\n",
       "      <td>0.23</td>\n",
       "      <td>0.00</td>\n",
       "      <td>0.04</td>\n",
       "      <td>82.0</td>\n",
       "      <td>8.5</td>\n",
       "      <td>T</td>\n",
       "    </tr>\n",
       "    <tr>\n",
       "      <th>6273</th>\n",
       "      <td>Need for Speed: Most Wanted</td>\n",
       "      <td>WiiU</td>\n",
       "      <td>2013.0</td>\n",
       "      <td>Racing</td>\n",
       "      <td>0.13</td>\n",
       "      <td>0.12</td>\n",
       "      <td>0.00</td>\n",
       "      <td>0.02</td>\n",
       "      <td>NaN</td>\n",
       "      <td>NaN</td>\n",
       "      <td>unrated</td>\n",
       "    </tr>\n",
       "    <tr>\n",
       "      <th>6410</th>\n",
       "      <td>Need for Speed: Most Wanted</td>\n",
       "      <td>DS</td>\n",
       "      <td>2005.0</td>\n",
       "      <td>Racing</td>\n",
       "      <td>0.24</td>\n",
       "      <td>0.01</td>\n",
       "      <td>0.00</td>\n",
       "      <td>0.02</td>\n",
       "      <td>45.0</td>\n",
       "      <td>6.1</td>\n",
       "      <td>E</td>\n",
       "    </tr>\n",
       "    <tr>\n",
       "      <th>6473</th>\n",
       "      <td>Need for Speed: Most Wanted</td>\n",
       "      <td>GBA</td>\n",
       "      <td>2005.0</td>\n",
       "      <td>Racing</td>\n",
       "      <td>0.19</td>\n",
       "      <td>0.07</td>\n",
       "      <td>0.00</td>\n",
       "      <td>0.00</td>\n",
       "      <td>NaN</td>\n",
       "      <td>8.3</td>\n",
       "      <td>E</td>\n",
       "    </tr>\n",
       "    <tr>\n",
       "      <th>11715</th>\n",
       "      <td>Need for Speed: Most Wanted</td>\n",
       "      <td>PC</td>\n",
       "      <td>2012.0</td>\n",
       "      <td>Racing</td>\n",
       "      <td>0.00</td>\n",
       "      <td>0.06</td>\n",
       "      <td>0.00</td>\n",
       "      <td>0.02</td>\n",
       "      <td>82.0</td>\n",
       "      <td>8.5</td>\n",
       "      <td>T</td>\n",
       "    </tr>\n",
       "  </tbody>\n",
       "</table>\n",
       "</div>"
      ],
      "text/plain": [
       "                              name platform  year_of_release   genre  \\\n",
       "253    Need for Speed: Most Wanted      PS2           2005.0  Racing   \n",
       "523    Need for Speed: Most Wanted      PS3           2012.0  Racing   \n",
       "1190   Need for Speed: Most Wanted     X360           2012.0  Racing   \n",
       "1591   Need for Speed: Most Wanted     X360           2005.0  Racing   \n",
       "1998   Need for Speed: Most Wanted       XB           2005.0  Racing   \n",
       "2048   Need for Speed: Most Wanted      PSV           2012.0  Racing   \n",
       "3581   Need for Speed: Most Wanted       GC           2005.0  Racing   \n",
       "5972   Need for Speed: Most Wanted       PC           2005.0  Racing   \n",
       "6273   Need for Speed: Most Wanted     WiiU           2013.0  Racing   \n",
       "6410   Need for Speed: Most Wanted       DS           2005.0  Racing   \n",
       "6473   Need for Speed: Most Wanted      GBA           2005.0  Racing   \n",
       "11715  Need for Speed: Most Wanted       PC           2012.0  Racing   \n",
       "\n",
       "       na_sales  eu_sales  jp_sales  other_sales  critic_score  user_score  \\\n",
       "253        2.03      1.79      0.08         0.47          82.0         9.1   \n",
       "523        0.71      1.46      0.06         0.58           NaN         NaN   \n",
       "1190       0.62      0.78      0.01         0.15          83.0         8.5   \n",
       "1591       1.00      0.13      0.02         0.10          83.0         8.5   \n",
       "1998       0.53      0.46      0.00         0.05          83.0         8.8   \n",
       "2048       0.33      0.45      0.01         0.22           NaN         NaN   \n",
       "3581       0.43      0.11      0.00         0.02          80.0         9.1   \n",
       "5972       0.02      0.23      0.00         0.04          82.0         8.5   \n",
       "6273       0.13      0.12      0.00         0.02           NaN         NaN   \n",
       "6410       0.24      0.01      0.00         0.02          45.0         6.1   \n",
       "6473       0.19      0.07      0.00         0.00           NaN         8.3   \n",
       "11715      0.00      0.06      0.00         0.02          82.0         8.5   \n",
       "\n",
       "        rating  \n",
       "253          T  \n",
       "523    unrated  \n",
       "1190         T  \n",
       "1591         T  \n",
       "1998         T  \n",
       "2048   unrated  \n",
       "3581         T  \n",
       "5972         T  \n",
       "6273   unrated  \n",
       "6410         E  \n",
       "6473         E  \n",
       "11715        T  "
      ]
     },
     "execution_count": 77,
     "metadata": {},
     "output_type": "execute_result"
    }
   ],
   "source": [
    "good_data.query('index == 16710')\n",
    "good_data.query('name == \"Need for Speed: Most Wanted\"')"
   ]
  },
  {
   "cell_type": "code",
   "execution_count": 78,
   "metadata": {},
   "outputs": [
    {
     "data": {
      "text/html": [
       "<div>\n",
       "<style scoped>\n",
       "    .dataframe tbody tr th:only-of-type {\n",
       "        vertical-align: middle;\n",
       "    }\n",
       "\n",
       "    .dataframe tbody tr th {\n",
       "        vertical-align: top;\n",
       "    }\n",
       "\n",
       "    .dataframe thead th {\n",
       "        text-align: right;\n",
       "    }\n",
       "</style>\n",
       "<table border=\"1\" class=\"dataframe\">\n",
       "  <thead>\n",
       "    <tr style=\"text-align: right;\">\n",
       "      <th></th>\n",
       "      <th>name</th>\n",
       "      <th>platform</th>\n",
       "      <th>year_of_release</th>\n",
       "      <th>genre</th>\n",
       "      <th>na_sales</th>\n",
       "      <th>eu_sales</th>\n",
       "      <th>jp_sales</th>\n",
       "      <th>other_sales</th>\n",
       "      <th>critic_score</th>\n",
       "      <th>user_score</th>\n",
       "      <th>rating</th>\n",
       "    </tr>\n",
       "  </thead>\n",
       "  <tbody>\n",
       "  </tbody>\n",
       "</table>\n",
       "</div>"
      ],
      "text/plain": [
       "Empty DataFrame\n",
       "Columns: [name, platform, year_of_release, genre, na_sales, eu_sales, jp_sales, other_sales, critic_score, user_score, rating]\n",
       "Index: []"
      ]
     },
     "execution_count": 78,
     "metadata": {},
     "output_type": "execute_result"
    }
   ],
   "source": [
    "good_data.query('critic_score.isna() and user_score.isna() and rating.isna()')"
   ]
  },
  {
   "cell_type": "code",
   "execution_count": 79,
   "metadata": {},
   "outputs": [
    {
     "data": {
      "text/plain": [
       "array(['E', 'unrated', 'M', 'T', 'E10+', 'K-A', 'AO', 'EC', 'RP'],\n",
       "      dtype=object)"
      ]
     },
     "execution_count": 79,
     "metadata": {},
     "output_type": "execute_result"
    }
   ],
   "source": [
    "good_data['rating'].unique()"
   ]
  },
  {
   "cell_type": "code",
   "execution_count": 80,
   "metadata": {},
   "outputs": [
    {
     "data": {
      "text/plain": [
       "name                              platform  year_of_release  rating \n",
       "Madden NFL 13                     PS3       2012.0           E          2\n",
       " Beyblade Burst                   3DS       2016.0           unrated    1\n",
       "Ratatouille                       PC        2007.0           E          1\n",
       "Rapala Tournament Fishing!        X360      2006.0           E          1\n",
       "Rapala Trophies                   PSP       2006.0           E          1\n",
       "                                                                       ..\n",
       "Halo Wars                         X360      2009.0           T          1\n",
       "Halo: Combat Evolved              PC        2003.0           M          1\n",
       "                                  XB        2001.0           M          1\n",
       "Halo: Combat Evolved Anniversary  X360      2011.0           M          1\n",
       "¡Shin Chan Flipa en colores!      DS        2007.0           unrated    1\n",
       "Length: 16443, dtype: int64"
      ]
     },
     "execution_count": 80,
     "metadata": {},
     "output_type": "execute_result"
    }
   ],
   "source": [
    "good_data[['name', 'platform', 'year_of_release', 'rating']].value_counts()"
   ]
  },
  {
   "cell_type": "markdown",
   "metadata": {},
   "source": [
    "## Преобразование типа данных"
   ]
  },
  {
   "cell_type": "markdown",
   "metadata": {},
   "source": [
    "### Year_of_Release to int"
   ]
  },
  {
   "cell_type": "code",
   "execution_count": 81,
   "metadata": {},
   "outputs": [],
   "source": [
    "good_data['year_of_release'] = good_data['year_of_release'].astype('int')"
   ]
  },
  {
   "cell_type": "code",
   "execution_count": 82,
   "metadata": {},
   "outputs": [
    {
     "name": "stdout",
     "output_type": "stream",
     "text": [
      "<class 'pandas.core.frame.DataFrame'>\n",
      "Int64Index: 16444 entries, 0 to 16714\n",
      "Data columns (total 11 columns):\n",
      " #   Column           Non-Null Count  Dtype  \n",
      "---  ------           --------------  -----  \n",
      " 0   name             16444 non-null  object \n",
      " 1   platform         16444 non-null  object \n",
      " 2   year_of_release  16444 non-null  int32  \n",
      " 3   genre            16444 non-null  object \n",
      " 4   na_sales         16444 non-null  float64\n",
      " 5   eu_sales         16444 non-null  float64\n",
      " 6   jp_sales         16444 non-null  float64\n",
      " 7   other_sales      16444 non-null  float64\n",
      " 8   critic_score     7983 non-null   float64\n",
      " 9   user_score       7463 non-null   float64\n",
      " 10  rating           16444 non-null  object \n",
      "dtypes: float64(6), int32(1), object(4)\n",
      "memory usage: 1.4+ MB\n"
     ]
    }
   ],
   "source": [
    "good_data.info()\n",
    "# Полностью восстановить данные по оценкам и рейтингу не удалось, \n",
    "# но то что осталось нет смысла заполнять заглушками или \n",
    "# средними значаниями или аналогичными значениями через группировкую."
   ]
  },
  {
   "cell_type": "markdown",
   "metadata": {},
   "source": [
    "## Сумарные продажи во всех регионах"
   ]
  },
  {
   "cell_type": "code",
   "execution_count": 83,
   "metadata": {},
   "outputs": [],
   "source": [
    "good_data['all_sales'] = good_data['na_sales'] + good_data['eu_sales'] + good_data['jp_sales'] + good_data['other_sales']"
   ]
  },
  {
   "cell_type": "code",
   "execution_count": 84,
   "metadata": {},
   "outputs": [
    {
     "data": {
      "text/html": [
       "<div>\n",
       "<style scoped>\n",
       "    .dataframe tbody tr th:only-of-type {\n",
       "        vertical-align: middle;\n",
       "    }\n",
       "\n",
       "    .dataframe tbody tr th {\n",
       "        vertical-align: top;\n",
       "    }\n",
       "\n",
       "    .dataframe thead th {\n",
       "        text-align: right;\n",
       "    }\n",
       "</style>\n",
       "<table border=\"1\" class=\"dataframe\">\n",
       "  <thead>\n",
       "    <tr style=\"text-align: right;\">\n",
       "      <th></th>\n",
       "      <th>na_sales</th>\n",
       "      <th>eu_sales</th>\n",
       "      <th>jp_sales</th>\n",
       "      <th>other_sales</th>\n",
       "      <th>all_sales</th>\n",
       "    </tr>\n",
       "  </thead>\n",
       "  <tbody>\n",
       "    <tr>\n",
       "      <th>1862</th>\n",
       "      <td>0.52</td>\n",
       "      <td>0.40</td>\n",
       "      <td>0.04</td>\n",
       "      <td>0.13</td>\n",
       "      <td>1.09</td>\n",
       "    </tr>\n",
       "    <tr>\n",
       "      <th>12133</th>\n",
       "      <td>0.00</td>\n",
       "      <td>0.00</td>\n",
       "      <td>0.07</td>\n",
       "      <td>0.00</td>\n",
       "      <td>0.07</td>\n",
       "    </tr>\n",
       "    <tr>\n",
       "      <th>14566</th>\n",
       "      <td>0.02</td>\n",
       "      <td>0.01</td>\n",
       "      <td>0.00</td>\n",
       "      <td>0.00</td>\n",
       "      <td>0.03</td>\n",
       "    </tr>\n",
       "  </tbody>\n",
       "</table>\n",
       "</div>"
      ],
      "text/plain": [
       "       na_sales  eu_sales  jp_sales  other_sales  all_sales\n",
       "1862       0.52      0.40      0.04         0.13       1.09\n",
       "12133      0.00      0.00      0.07         0.00       0.07\n",
       "14566      0.02      0.01      0.00         0.00       0.03"
      ]
     },
     "execution_count": 84,
     "metadata": {},
     "output_type": "execute_result"
    }
   ],
   "source": [
    "good_data[['na_sales', 'eu_sales', 'jp_sales', 'other_sales', 'all_sales']].sample(3)"
   ]
  },
  {
   "cell_type": "markdown",
   "metadata": {},
   "source": [
    "## Exploratory analysis"
   ]
  },
  {
   "cell_type": "markdown",
   "metadata": {},
   "source": [
    "### Сколько игр выпускалось в разные годы. Важны ли данные за все периоды?"
   ]
  },
  {
   "cell_type": "code",
   "execution_count": 85,
   "metadata": {},
   "outputs": [
    {
     "data": {
      "text/plain": [
       "year_of_release\n",
       "2008    1427\n",
       "2009    1426\n",
       "2010    1255\n",
       "2007    1197\n",
       "2011    1136\n",
       "2006    1006\n",
       "2005     939\n",
       "2002     829\n",
       "2003     775\n",
       "2004     762\n",
       "2012     653\n",
       "2015     606\n",
       "2014     581\n",
       "2013     544\n",
       "2016     502\n",
       "2001     482\n",
       "1998     379\n",
       "2000     350\n",
       "1999     338\n",
       "1997     289\n",
       "1996     263\n",
       "1995     219\n",
       "1994     121\n",
       "1993      60\n",
       "1981      46\n",
       "1992      43\n",
       "1991      41\n",
       "1982      36\n",
       "1986      21\n",
       "1989      17\n",
       "1983      17\n",
       "1990      16\n",
       "1987      16\n",
       "1988      15\n",
       "1985      14\n",
       "1984      14\n",
       "1980       9\n",
       "Name: name, dtype: int64"
      ]
     },
     "execution_count": 85,
     "metadata": {},
     "output_type": "execute_result"
    }
   ],
   "source": [
    "good_data.groupby('year_of_release')['name'].count().sort_values(ascending=False)"
   ]
  },
  {
   "cell_type": "code",
   "execution_count": 86,
   "metadata": {},
   "outputs": [
    {
     "data": {
      "application/vnd.plotly.v1+json": {
       "config": {
        "plotlyServerURL": "https://plot.ly"
       },
       "data": [
        {
         "alignmentgroup": "True",
         "hovertemplate": "variable=name<br>year_of_release=%{x}<br>value=%{y}<extra></extra>",
         "legendgroup": "name",
         "marker": {
          "color": "#636efa",
          "pattern": {
           "shape": ""
          }
         },
         "name": "name",
         "offsetgroup": "name",
         "orientation": "v",
         "showlegend": true,
         "textposition": "auto",
         "type": "bar",
         "x": [
          1980,
          1981,
          1982,
          1983,
          1984,
          1985,
          1986,
          1987,
          1988,
          1989,
          1990,
          1991,
          1992,
          1993,
          1994,
          1995,
          1996,
          1997,
          1998,
          1999,
          2000,
          2001,
          2002,
          2003,
          2004,
          2005,
          2006,
          2007,
          2008,
          2009,
          2010,
          2011,
          2012,
          2013,
          2014,
          2015,
          2016
         ],
         "xaxis": "x",
         "y": [
          9,
          46,
          36,
          17,
          14,
          14,
          21,
          16,
          15,
          17,
          16,
          41,
          43,
          60,
          121,
          219,
          263,
          289,
          379,
          338,
          350,
          482,
          829,
          775,
          762,
          939,
          1006,
          1197,
          1427,
          1426,
          1255,
          1136,
          653,
          544,
          581,
          606,
          502
         ],
         "yaxis": "y"
        }
       ],
       "layout": {
        "barmode": "relative",
        "legend": {
         "title": {
          "text": "variable"
         },
         "tracegroupgap": 0
        },
        "margin": {
         "t": 60
        },
        "template": {
         "data": {
          "bar": [
           {
            "error_x": {
             "color": "#2a3f5f"
            },
            "error_y": {
             "color": "#2a3f5f"
            },
            "marker": {
             "line": {
              "color": "#E5ECF6",
              "width": 0.5
             },
             "pattern": {
              "fillmode": "overlay",
              "size": 10,
              "solidity": 0.2
             }
            },
            "type": "bar"
           }
          ],
          "barpolar": [
           {
            "marker": {
             "line": {
              "color": "#E5ECF6",
              "width": 0.5
             },
             "pattern": {
              "fillmode": "overlay",
              "size": 10,
              "solidity": 0.2
             }
            },
            "type": "barpolar"
           }
          ],
          "carpet": [
           {
            "aaxis": {
             "endlinecolor": "#2a3f5f",
             "gridcolor": "white",
             "linecolor": "white",
             "minorgridcolor": "white",
             "startlinecolor": "#2a3f5f"
            },
            "baxis": {
             "endlinecolor": "#2a3f5f",
             "gridcolor": "white",
             "linecolor": "white",
             "minorgridcolor": "white",
             "startlinecolor": "#2a3f5f"
            },
            "type": "carpet"
           }
          ],
          "choropleth": [
           {
            "colorbar": {
             "outlinewidth": 0,
             "ticks": ""
            },
            "type": "choropleth"
           }
          ],
          "contour": [
           {
            "colorbar": {
             "outlinewidth": 0,
             "ticks": ""
            },
            "colorscale": [
             [
              0,
              "#0d0887"
             ],
             [
              0.1111111111111111,
              "#46039f"
             ],
             [
              0.2222222222222222,
              "#7201a8"
             ],
             [
              0.3333333333333333,
              "#9c179e"
             ],
             [
              0.4444444444444444,
              "#bd3786"
             ],
             [
              0.5555555555555556,
              "#d8576b"
             ],
             [
              0.6666666666666666,
              "#ed7953"
             ],
             [
              0.7777777777777778,
              "#fb9f3a"
             ],
             [
              0.8888888888888888,
              "#fdca26"
             ],
             [
              1,
              "#f0f921"
             ]
            ],
            "type": "contour"
           }
          ],
          "contourcarpet": [
           {
            "colorbar": {
             "outlinewidth": 0,
             "ticks": ""
            },
            "type": "contourcarpet"
           }
          ],
          "heatmap": [
           {
            "colorbar": {
             "outlinewidth": 0,
             "ticks": ""
            },
            "colorscale": [
             [
              0,
              "#0d0887"
             ],
             [
              0.1111111111111111,
              "#46039f"
             ],
             [
              0.2222222222222222,
              "#7201a8"
             ],
             [
              0.3333333333333333,
              "#9c179e"
             ],
             [
              0.4444444444444444,
              "#bd3786"
             ],
             [
              0.5555555555555556,
              "#d8576b"
             ],
             [
              0.6666666666666666,
              "#ed7953"
             ],
             [
              0.7777777777777778,
              "#fb9f3a"
             ],
             [
              0.8888888888888888,
              "#fdca26"
             ],
             [
              1,
              "#f0f921"
             ]
            ],
            "type": "heatmap"
           }
          ],
          "heatmapgl": [
           {
            "colorbar": {
             "outlinewidth": 0,
             "ticks": ""
            },
            "colorscale": [
             [
              0,
              "#0d0887"
             ],
             [
              0.1111111111111111,
              "#46039f"
             ],
             [
              0.2222222222222222,
              "#7201a8"
             ],
             [
              0.3333333333333333,
              "#9c179e"
             ],
             [
              0.4444444444444444,
              "#bd3786"
             ],
             [
              0.5555555555555556,
              "#d8576b"
             ],
             [
              0.6666666666666666,
              "#ed7953"
             ],
             [
              0.7777777777777778,
              "#fb9f3a"
             ],
             [
              0.8888888888888888,
              "#fdca26"
             ],
             [
              1,
              "#f0f921"
             ]
            ],
            "type": "heatmapgl"
           }
          ],
          "histogram": [
           {
            "marker": {
             "pattern": {
              "fillmode": "overlay",
              "size": 10,
              "solidity": 0.2
             }
            },
            "type": "histogram"
           }
          ],
          "histogram2d": [
           {
            "colorbar": {
             "outlinewidth": 0,
             "ticks": ""
            },
            "colorscale": [
             [
              0,
              "#0d0887"
             ],
             [
              0.1111111111111111,
              "#46039f"
             ],
             [
              0.2222222222222222,
              "#7201a8"
             ],
             [
              0.3333333333333333,
              "#9c179e"
             ],
             [
              0.4444444444444444,
              "#bd3786"
             ],
             [
              0.5555555555555556,
              "#d8576b"
             ],
             [
              0.6666666666666666,
              "#ed7953"
             ],
             [
              0.7777777777777778,
              "#fb9f3a"
             ],
             [
              0.8888888888888888,
              "#fdca26"
             ],
             [
              1,
              "#f0f921"
             ]
            ],
            "type": "histogram2d"
           }
          ],
          "histogram2dcontour": [
           {
            "colorbar": {
             "outlinewidth": 0,
             "ticks": ""
            },
            "colorscale": [
             [
              0,
              "#0d0887"
             ],
             [
              0.1111111111111111,
              "#46039f"
             ],
             [
              0.2222222222222222,
              "#7201a8"
             ],
             [
              0.3333333333333333,
              "#9c179e"
             ],
             [
              0.4444444444444444,
              "#bd3786"
             ],
             [
              0.5555555555555556,
              "#d8576b"
             ],
             [
              0.6666666666666666,
              "#ed7953"
             ],
             [
              0.7777777777777778,
              "#fb9f3a"
             ],
             [
              0.8888888888888888,
              "#fdca26"
             ],
             [
              1,
              "#f0f921"
             ]
            ],
            "type": "histogram2dcontour"
           }
          ],
          "mesh3d": [
           {
            "colorbar": {
             "outlinewidth": 0,
             "ticks": ""
            },
            "type": "mesh3d"
           }
          ],
          "parcoords": [
           {
            "line": {
             "colorbar": {
              "outlinewidth": 0,
              "ticks": ""
             }
            },
            "type": "parcoords"
           }
          ],
          "pie": [
           {
            "automargin": true,
            "type": "pie"
           }
          ],
          "scatter": [
           {
            "fillpattern": {
             "fillmode": "overlay",
             "size": 10,
             "solidity": 0.2
            },
            "type": "scatter"
           }
          ],
          "scatter3d": [
           {
            "line": {
             "colorbar": {
              "outlinewidth": 0,
              "ticks": ""
             }
            },
            "marker": {
             "colorbar": {
              "outlinewidth": 0,
              "ticks": ""
             }
            },
            "type": "scatter3d"
           }
          ],
          "scattercarpet": [
           {
            "marker": {
             "colorbar": {
              "outlinewidth": 0,
              "ticks": ""
             }
            },
            "type": "scattercarpet"
           }
          ],
          "scattergeo": [
           {
            "marker": {
             "colorbar": {
              "outlinewidth": 0,
              "ticks": ""
             }
            },
            "type": "scattergeo"
           }
          ],
          "scattergl": [
           {
            "marker": {
             "colorbar": {
              "outlinewidth": 0,
              "ticks": ""
             }
            },
            "type": "scattergl"
           }
          ],
          "scattermapbox": [
           {
            "marker": {
             "colorbar": {
              "outlinewidth": 0,
              "ticks": ""
             }
            },
            "type": "scattermapbox"
           }
          ],
          "scatterpolar": [
           {
            "marker": {
             "colorbar": {
              "outlinewidth": 0,
              "ticks": ""
             }
            },
            "type": "scatterpolar"
           }
          ],
          "scatterpolargl": [
           {
            "marker": {
             "colorbar": {
              "outlinewidth": 0,
              "ticks": ""
             }
            },
            "type": "scatterpolargl"
           }
          ],
          "scatterternary": [
           {
            "marker": {
             "colorbar": {
              "outlinewidth": 0,
              "ticks": ""
             }
            },
            "type": "scatterternary"
           }
          ],
          "surface": [
           {
            "colorbar": {
             "outlinewidth": 0,
             "ticks": ""
            },
            "colorscale": [
             [
              0,
              "#0d0887"
             ],
             [
              0.1111111111111111,
              "#46039f"
             ],
             [
              0.2222222222222222,
              "#7201a8"
             ],
             [
              0.3333333333333333,
              "#9c179e"
             ],
             [
              0.4444444444444444,
              "#bd3786"
             ],
             [
              0.5555555555555556,
              "#d8576b"
             ],
             [
              0.6666666666666666,
              "#ed7953"
             ],
             [
              0.7777777777777778,
              "#fb9f3a"
             ],
             [
              0.8888888888888888,
              "#fdca26"
             ],
             [
              1,
              "#f0f921"
             ]
            ],
            "type": "surface"
           }
          ],
          "table": [
           {
            "cells": {
             "fill": {
              "color": "#EBF0F8"
             },
             "line": {
              "color": "white"
             }
            },
            "header": {
             "fill": {
              "color": "#C8D4E3"
             },
             "line": {
              "color": "white"
             }
            },
            "type": "table"
           }
          ]
         },
         "layout": {
          "annotationdefaults": {
           "arrowcolor": "#2a3f5f",
           "arrowhead": 0,
           "arrowwidth": 1
          },
          "autotypenumbers": "strict",
          "coloraxis": {
           "colorbar": {
            "outlinewidth": 0,
            "ticks": ""
           }
          },
          "colorscale": {
           "diverging": [
            [
             0,
             "#8e0152"
            ],
            [
             0.1,
             "#c51b7d"
            ],
            [
             0.2,
             "#de77ae"
            ],
            [
             0.3,
             "#f1b6da"
            ],
            [
             0.4,
             "#fde0ef"
            ],
            [
             0.5,
             "#f7f7f7"
            ],
            [
             0.6,
             "#e6f5d0"
            ],
            [
             0.7,
             "#b8e186"
            ],
            [
             0.8,
             "#7fbc41"
            ],
            [
             0.9,
             "#4d9221"
            ],
            [
             1,
             "#276419"
            ]
           ],
           "sequential": [
            [
             0,
             "#0d0887"
            ],
            [
             0.1111111111111111,
             "#46039f"
            ],
            [
             0.2222222222222222,
             "#7201a8"
            ],
            [
             0.3333333333333333,
             "#9c179e"
            ],
            [
             0.4444444444444444,
             "#bd3786"
            ],
            [
             0.5555555555555556,
             "#d8576b"
            ],
            [
             0.6666666666666666,
             "#ed7953"
            ],
            [
             0.7777777777777778,
             "#fb9f3a"
            ],
            [
             0.8888888888888888,
             "#fdca26"
            ],
            [
             1,
             "#f0f921"
            ]
           ],
           "sequentialminus": [
            [
             0,
             "#0d0887"
            ],
            [
             0.1111111111111111,
             "#46039f"
            ],
            [
             0.2222222222222222,
             "#7201a8"
            ],
            [
             0.3333333333333333,
             "#9c179e"
            ],
            [
             0.4444444444444444,
             "#bd3786"
            ],
            [
             0.5555555555555556,
             "#d8576b"
            ],
            [
             0.6666666666666666,
             "#ed7953"
            ],
            [
             0.7777777777777778,
             "#fb9f3a"
            ],
            [
             0.8888888888888888,
             "#fdca26"
            ],
            [
             1,
             "#f0f921"
            ]
           ]
          },
          "colorway": [
           "#636efa",
           "#EF553B",
           "#00cc96",
           "#ab63fa",
           "#FFA15A",
           "#19d3f3",
           "#FF6692",
           "#B6E880",
           "#FF97FF",
           "#FECB52"
          ],
          "font": {
           "color": "#2a3f5f"
          },
          "geo": {
           "bgcolor": "white",
           "lakecolor": "white",
           "landcolor": "#E5ECF6",
           "showlakes": true,
           "showland": true,
           "subunitcolor": "white"
          },
          "hoverlabel": {
           "align": "left"
          },
          "hovermode": "closest",
          "mapbox": {
           "style": "light"
          },
          "paper_bgcolor": "white",
          "plot_bgcolor": "#E5ECF6",
          "polar": {
           "angularaxis": {
            "gridcolor": "white",
            "linecolor": "white",
            "ticks": ""
           },
           "bgcolor": "#E5ECF6",
           "radialaxis": {
            "gridcolor": "white",
            "linecolor": "white",
            "ticks": ""
           }
          },
          "scene": {
           "xaxis": {
            "backgroundcolor": "#E5ECF6",
            "gridcolor": "white",
            "gridwidth": 2,
            "linecolor": "white",
            "showbackground": true,
            "ticks": "",
            "zerolinecolor": "white"
           },
           "yaxis": {
            "backgroundcolor": "#E5ECF6",
            "gridcolor": "white",
            "gridwidth": 2,
            "linecolor": "white",
            "showbackground": true,
            "ticks": "",
            "zerolinecolor": "white"
           },
           "zaxis": {
            "backgroundcolor": "#E5ECF6",
            "gridcolor": "white",
            "gridwidth": 2,
            "linecolor": "white",
            "showbackground": true,
            "ticks": "",
            "zerolinecolor": "white"
           }
          },
          "shapedefaults": {
           "line": {
            "color": "#2a3f5f"
           }
          },
          "ternary": {
           "aaxis": {
            "gridcolor": "white",
            "linecolor": "white",
            "ticks": ""
           },
           "baxis": {
            "gridcolor": "white",
            "linecolor": "white",
            "ticks": ""
           },
           "bgcolor": "#E5ECF6",
           "caxis": {
            "gridcolor": "white",
            "linecolor": "white",
            "ticks": ""
           }
          },
          "title": {
           "x": 0.05
          },
          "xaxis": {
           "automargin": true,
           "gridcolor": "white",
           "linecolor": "white",
           "ticks": "",
           "title": {
            "standoff": 15
           },
           "zerolinecolor": "white",
           "zerolinewidth": 2
          },
          "yaxis": {
           "automargin": true,
           "gridcolor": "white",
           "linecolor": "white",
           "ticks": "",
           "title": {
            "standoff": 15
           },
           "zerolinecolor": "white",
           "zerolinewidth": 2
          }
         }
        },
        "xaxis": {
         "anchor": "y",
         "domain": [
          0,
          1
         ],
         "title": {
          "text": "year_of_release"
         }
        },
        "yaxis": {
         "anchor": "x",
         "domain": [
          0,
          1
         ],
         "title": {
          "text": "value"
         }
        }
       }
      }
     },
     "metadata": {},
     "output_type": "display_data"
    }
   ],
   "source": [
    "px.bar(good_data.groupby('year_of_release')['name'].count())"
   ]
  },
  {
   "cell_type": "code",
   "execution_count": 87,
   "metadata": {},
   "outputs": [],
   "source": [
    "# good_data.groupby('year_of_release')['name'].count().plot(kind='bar', \n",
    "#                                                             figsize=(11,6), \n",
    "#                                                             ylabel='games_count', \n",
    "#                                                             grid=True, \n",
    "#                                                             legend=True)"
   ]
  },
  {
   "cell_type": "markdown",
   "metadata": {},
   "source": [
    "<pre>\n",
    "Если сгруппировать количество игр по годам и отсортировать,\n",
    "то видно, что период от 1980 по 2016 год.\n",
    "С 1992 года количество игр начало резко увеличиваться. \n",
    "Пик приходится на 2008 и 2009 годы, 1427 и 1426 игр соответственно.\n",
    "после 2009 года начинается спад выпускаемых игр.\n",
    "Рассмотрели все периоды, так как чем больше данных тем качественне статистика по ним.\n",
    "Видно что 1983 по 1990 период стабильности по выпускаемому количеству игр, резких спадов или ростов нет.\n",
    "После этого идет резкий рост и резкий спад.\n",
    "</pre>"
   ]
  },
  {
   "cell_type": "markdown",
   "metadata": {},
   "source": [
    "### Как менялись продажи по платформам. Выберите платформы с наибольшими суммарными продажами и постройте распределение по годам. За какой характерный срок появляются новые и исчезают старые платформы?"
   ]
  },
  {
   "cell_type": "code",
   "execution_count": 88,
   "metadata": {},
   "outputs": [
    {
     "data": {
      "text/html": [
       "<div>\n",
       "<style scoped>\n",
       "    .dataframe tbody tr th:only-of-type {\n",
       "        vertical-align: middle;\n",
       "    }\n",
       "\n",
       "    .dataframe tbody tr th {\n",
       "        vertical-align: top;\n",
       "    }\n",
       "\n",
       "    .dataframe thead th {\n",
       "        text-align: right;\n",
       "    }\n",
       "</style>\n",
       "<table border=\"1\" class=\"dataframe\">\n",
       "  <thead>\n",
       "    <tr style=\"text-align: right;\">\n",
       "      <th></th>\n",
       "      <th>name</th>\n",
       "      <th>year_of_release</th>\n",
       "      <th>platform</th>\n",
       "      <th>all_sales</th>\n",
       "    </tr>\n",
       "  </thead>\n",
       "  <tbody>\n",
       "    <tr>\n",
       "      <th>0</th>\n",
       "      <td>Wii Sports</td>\n",
       "      <td>2006</td>\n",
       "      <td>Wii</td>\n",
       "      <td>82.54</td>\n",
       "    </tr>\n",
       "    <tr>\n",
       "      <th>1</th>\n",
       "      <td>Super Mario Bros.</td>\n",
       "      <td>1985</td>\n",
       "      <td>NES</td>\n",
       "      <td>40.24</td>\n",
       "    </tr>\n",
       "    <tr>\n",
       "      <th>2</th>\n",
       "      <td>Mario Kart Wii</td>\n",
       "      <td>2008</td>\n",
       "      <td>Wii</td>\n",
       "      <td>35.52</td>\n",
       "    </tr>\n",
       "    <tr>\n",
       "      <th>3</th>\n",
       "      <td>Wii Sports Resort</td>\n",
       "      <td>2009</td>\n",
       "      <td>Wii</td>\n",
       "      <td>32.77</td>\n",
       "    </tr>\n",
       "    <tr>\n",
       "      <th>4</th>\n",
       "      <td>Pokemon Red/Pokemon Blue</td>\n",
       "      <td>1996</td>\n",
       "      <td>GB</td>\n",
       "      <td>31.38</td>\n",
       "    </tr>\n",
       "    <tr>\n",
       "      <th>...</th>\n",
       "      <td>...</td>\n",
       "      <td>...</td>\n",
       "      <td>...</td>\n",
       "      <td>...</td>\n",
       "    </tr>\n",
       "    <tr>\n",
       "      <th>16183</th>\n",
       "      <td>Uta no * Prince-Sama: Sweet Serenade</td>\n",
       "      <td>2011</td>\n",
       "      <td>PSP</td>\n",
       "      <td>0.01</td>\n",
       "    </tr>\n",
       "    <tr>\n",
       "      <th>16184</th>\n",
       "      <td>Higurashi no Naku Koro ni Iki</td>\n",
       "      <td>2015</td>\n",
       "      <td>PS3</td>\n",
       "      <td>0.01</td>\n",
       "    </tr>\n",
       "    <tr>\n",
       "      <th>16714</th>\n",
       "      <td>Winning Post 8 2016</td>\n",
       "      <td>2016</td>\n",
       "      <td>PSV</td>\n",
       "      <td>0.01</td>\n",
       "    </tr>\n",
       "    <tr>\n",
       "      <th>16676</th>\n",
       "      <td>G1 Jockey 4 2008</td>\n",
       "      <td>2008</td>\n",
       "      <td>PS3</td>\n",
       "      <td>0.00</td>\n",
       "    </tr>\n",
       "    <tr>\n",
       "      <th>16709</th>\n",
       "      <td>SCORE International Baja 1000: The Official Game</td>\n",
       "      <td>2008</td>\n",
       "      <td>PS2</td>\n",
       "      <td>0.00</td>\n",
       "    </tr>\n",
       "  </tbody>\n",
       "</table>\n",
       "<p>16444 rows × 4 columns</p>\n",
       "</div>"
      ],
      "text/plain": [
       "                                                   name  year_of_release  \\\n",
       "0                                            Wii Sports             2006   \n",
       "1                                     Super Mario Bros.             1985   \n",
       "2                                        Mario Kart Wii             2008   \n",
       "3                                     Wii Sports Resort             2009   \n",
       "4                              Pokemon Red/Pokemon Blue             1996   \n",
       "...                                                 ...              ...   \n",
       "16183              Uta no * Prince-Sama: Sweet Serenade             2011   \n",
       "16184                     Higurashi no Naku Koro ni Iki             2015   \n",
       "16714                               Winning Post 8 2016             2016   \n",
       "16676                                  G1 Jockey 4 2008             2008   \n",
       "16709  SCORE International Baja 1000: The Official Game             2008   \n",
       "\n",
       "      platform  all_sales  \n",
       "0          Wii      82.54  \n",
       "1          NES      40.24  \n",
       "2          Wii      35.52  \n",
       "3          Wii      32.77  \n",
       "4           GB      31.38  \n",
       "...        ...        ...  \n",
       "16183      PSP       0.01  \n",
       "16184      PS3       0.01  \n",
       "16714      PSV       0.01  \n",
       "16676      PS3       0.00  \n",
       "16709      PS2       0.00  \n",
       "\n",
       "[16444 rows x 4 columns]"
      ]
     },
     "execution_count": 88,
     "metadata": {},
     "output_type": "execute_result"
    }
   ],
   "source": [
    "good_data[['name', 'year_of_release', 'platform', 'all_sales']].sort_values(by='all_sales', ascending=False)\n"
   ]
  },
  {
   "cell_type": "code",
   "execution_count": 89,
   "metadata": {},
   "outputs": [
    {
     "data": {
      "text/html": [
       "<div>\n",
       "<style scoped>\n",
       "    .dataframe tbody tr th:only-of-type {\n",
       "        vertical-align: middle;\n",
       "    }\n",
       "\n",
       "    .dataframe tbody tr th {\n",
       "        vertical-align: top;\n",
       "    }\n",
       "\n",
       "    .dataframe thead th {\n",
       "        text-align: right;\n",
       "    }\n",
       "</style>\n",
       "<table border=\"1\" class=\"dataframe\">\n",
       "  <thead>\n",
       "    <tr style=\"text-align: right;\">\n",
       "      <th></th>\n",
       "      <th>year_of_release</th>\n",
       "      <th>platform</th>\n",
       "      <th>all_sales</th>\n",
       "    </tr>\n",
       "  </thead>\n",
       "  <tbody>\n",
       "    <tr>\n",
       "      <th>125</th>\n",
       "      <td>2004</td>\n",
       "      <td>PS2</td>\n",
       "      <td>211.81</td>\n",
       "    </tr>\n",
       "    <tr>\n",
       "      <th>171</th>\n",
       "      <td>2009</td>\n",
       "      <td>Wii</td>\n",
       "      <td>206.97</td>\n",
       "    </tr>\n",
       "    <tr>\n",
       "      <th>113</th>\n",
       "      <td>2002</td>\n",
       "      <td>PS2</td>\n",
       "      <td>205.38</td>\n",
       "    </tr>\n",
       "    <tr>\n",
       "      <th>119</th>\n",
       "      <td>2003</td>\n",
       "      <td>PS2</td>\n",
       "      <td>184.31</td>\n",
       "    </tr>\n",
       "    <tr>\n",
       "      <th>163</th>\n",
       "      <td>2008</td>\n",
       "      <td>Wii</td>\n",
       "      <td>171.32</td>\n",
       "    </tr>\n",
       "    <tr>\n",
       "      <th>179</th>\n",
       "      <td>2010</td>\n",
       "      <td>X360</td>\n",
       "      <td>170.03</td>\n",
       "    </tr>\n",
       "    <tr>\n",
       "      <th>77</th>\n",
       "      <td>1998</td>\n",
       "      <td>PS</td>\n",
       "      <td>169.49</td>\n",
       "    </tr>\n",
       "    <tr>\n",
       "      <th>104</th>\n",
       "      <td>2001</td>\n",
       "      <td>PS2</td>\n",
       "      <td>166.43</td>\n",
       "    </tr>\n",
       "    <tr>\n",
       "      <th>132</th>\n",
       "      <td>2005</td>\n",
       "      <td>PS2</td>\n",
       "      <td>160.66</td>\n",
       "    </tr>\n",
       "    <tr>\n",
       "      <th>184</th>\n",
       "      <td>2011</td>\n",
       "      <td>PS3</td>\n",
       "      <td>156.78</td>\n",
       "    </tr>\n",
       "    <tr>\n",
       "      <th>154</th>\n",
       "      <td>2007</td>\n",
       "      <td>Wii</td>\n",
       "      <td>152.77</td>\n",
       "    </tr>\n",
       "    <tr>\n",
       "      <th>147</th>\n",
       "      <td>2007</td>\n",
       "      <td>DS</td>\n",
       "      <td>146.94</td>\n",
       "    </tr>\n",
       "    <tr>\n",
       "      <th>158</th>\n",
       "      <td>2008</td>\n",
       "      <td>DS</td>\n",
       "      <td>145.31</td>\n",
       "    </tr>\n",
       "    <tr>\n",
       "      <th>84</th>\n",
       "      <td>1999</td>\n",
       "      <td>PS</td>\n",
       "      <td>144.53</td>\n",
       "    </tr>\n",
       "    <tr>\n",
       "      <th>188</th>\n",
       "      <td>2011</td>\n",
       "      <td>X360</td>\n",
       "      <td>143.84</td>\n",
       "    </tr>\n",
       "  </tbody>\n",
       "</table>\n",
       "</div>"
      ],
      "text/plain": [
       "     year_of_release platform  all_sales\n",
       "125             2004      PS2     211.81\n",
       "171             2009      Wii     206.97\n",
       "113             2002      PS2     205.38\n",
       "119             2003      PS2     184.31\n",
       "163             2008      Wii     171.32\n",
       "179             2010     X360     170.03\n",
       "77              1998       PS     169.49\n",
       "104             2001      PS2     166.43\n",
       "132             2005      PS2     160.66\n",
       "184             2011      PS3     156.78\n",
       "154             2007      Wii     152.77\n",
       "147             2007       DS     146.94\n",
       "158             2008       DS     145.31\n",
       "84              1999       PS     144.53\n",
       "188             2011     X360     143.84"
      ]
     },
     "execution_count": 89,
     "metadata": {},
     "output_type": "execute_result"
    }
   ],
   "source": [
    "# Выведем самые высокие продажи\n",
    "sales_by_platform = good_data.groupby(['year_of_release', 'platform']).agg({'all_sales': 'sum'}).reset_index()\n",
    "sales_by_platform.sort_values(by='all_sales', ascending=False).head(15)"
   ]
  },
  {
   "cell_type": "code",
   "execution_count": 90,
   "metadata": {},
   "outputs": [],
   "source": [
    "sales_by_platform_pivot = sales_by_platform.pivot(\"platform\", \"year_of_release\", \"all_sales\")"
   ]
  },
  {
   "cell_type": "code",
   "execution_count": 91,
   "metadata": {},
   "outputs": [
    {
     "data": {
      "application/vnd.plotly.v1+json": {
       "config": {
        "plotlyServerURL": "https://plot.ly"
       },
       "data": [
        {
         "coloraxis": "coloraxis",
         "hovertemplate": "year_of_release: %{x}<br>platform: %{y}<br>color: %{z}<extra></extra>",
         "name": "0",
         "texttemplate": "%{z}",
         "type": "heatmap",
         "x": [
          1980,
          1981,
          1982,
          1983,
          1984,
          1985,
          1986,
          1987,
          1988,
          1989,
          1990,
          1991,
          1992,
          1993,
          1994,
          1995,
          1996,
          1997,
          1998,
          1999,
          2000,
          2001,
          2002,
          2003,
          2004,
          2005,
          2006,
          2007,
          2008,
          2009,
          2010,
          2011,
          2012,
          2013,
          2014,
          2015,
          2016
         ],
         "xaxis": "x",
         "y": [
          "2600",
          "3DO",
          "3DS",
          "DC",
          "DS",
          "GB",
          "GBA",
          "GC",
          "GEN",
          "GG",
          "N64",
          "NES",
          "NG",
          "PC",
          "PCFX",
          "PS",
          "PS2",
          "PS3",
          "PS4",
          "PSP",
          "PSV",
          "SAT",
          "SCD",
          "SNES",
          "TG16",
          "WS",
          "Wii",
          "WiiU",
          "X360",
          "XB",
          "XOne"
         ],
         "yaxis": "y",
         "z": [
          [
           11.379999999999999,
           35.68,
           28.880000000000003,
           5.84,
           0.27,
           0.44999999999999996,
           0.67,
           1.94,
           0.74,
           0.6300000000000001,
           null,
           null,
           null,
           null,
           null,
           null,
           null,
           null,
           null,
           null,
           null,
           null,
           null,
           null,
           null,
           null,
           null,
           null,
           null,
           null,
           null,
           null,
           null,
           null,
           null,
           null,
           null
          ],
          [
           null,
           null,
           null,
           null,
           null,
           null,
           null,
           null,
           null,
           null,
           null,
           null,
           null,
           null,
           0.02,
           0.08,
           null,
           null,
           null,
           null,
           null,
           null,
           null,
           null,
           null,
           null,
           null,
           null,
           null,
           null,
           null,
           null,
           null,
           null,
           null,
           null,
           null
          ],
          [
           null,
           null,
           null,
           null,
           null,
           null,
           null,
           null,
           null,
           null,
           null,
           null,
           null,
           null,
           null,
           null,
           null,
           null,
           null,
           null,
           null,
           null,
           null,
           null,
           null,
           null,
           null,
           null,
           null,
           null,
           null,
           63.199999999999996,
           51.36000000000001,
           56.57,
           43.76,
           27.78,
           15.14
          ],
          [
           null,
           null,
           null,
           null,
           null,
           null,
           null,
           null,
           null,
           null,
           null,
           null,
           null,
           null,
           null,
           null,
           null,
           null,
           3.3800000000000003,
           5.16,
           5.99,
           1.07,
           0.29,
           null,
           null,
           null,
           null,
           0.02,
           0.04,
           null,
           null,
           null,
           null,
           null,
           null,
           null,
           null
          ],
          [
           null,
           null,
           null,
           null,
           null,
           0.02,
           null,
           null,
           null,
           null,
           null,
           null,
           null,
           null,
           null,
           null,
           null,
           null,
           null,
           null,
           null,
           null,
           null,
           null,
           17.27,
           130.14,
           119.81,
           146.94,
           145.31,
           119.54,
           85.02,
           26.18,
           11.01,
           1.54,
           null,
           null,
           null
          ],
          [
           null,
           null,
           null,
           null,
           null,
           null,
           null,
           null,
           1.43,
           64.97,
           4.89,
           5.57,
           25.49,
           null,
           12.18,
           3.5999999999999996,
           36.03,
           6.37,
           26.9,
           38,
           19.76,
           9.24,
           null,
           null,
           null,
           null,
           null,
           null,
           null,
           null,
           null,
           null,
           null,
           null,
           null,
           null,
           null
          ],
          [
           null,
           null,
           null,
           null,
           null,
           null,
           null,
           null,
           null,
           null,
           null,
           null,
           null,
           null,
           null,
           null,
           null,
           null,
           null,
           null,
           0.07,
           61.53,
           74.16,
           56.67,
           77.91,
           33.86,
           5.28,
           3.4,
           null,
           null,
           null,
           null,
           null,
           null,
           null,
           null,
           null
          ],
          [
           null,
           null,
           null,
           null,
           null,
           null,
           null,
           null,
           null,
           null,
           null,
           null,
           null,
           null,
           null,
           null,
           null,
           null,
           null,
           null,
           null,
           26.34,
           51.81,
           50.61,
           28.82,
           27.62,
           11.26,
           0.27,
           null,
           null,
           null,
           null,
           null,
           null,
           null,
           null,
           null
          ],
          [
           null,
           null,
           null,
           null,
           null,
           null,
           null,
           null,
           null,
           null,
           2.6,
           4.33,
           12.64,
           0.65,
           8.129999999999999,
           null,
           null,
           null,
           null,
           null,
           null,
           null,
           null,
           null,
           null,
           null,
           null,
           null,
           null,
           null,
           null,
           null,
           null,
           null,
           null,
           null,
           null
          ],
          [
           null,
           null,
           null,
           null,
           null,
           null,
           null,
           null,
           null,
           null,
           null,
           null,
           0.04,
           null,
           null,
           null,
           null,
           null,
           null,
           null,
           null,
           null,
           null,
           null,
           null,
           null,
           null,
           null,
           null,
           null,
           null,
           null,
           null,
           null,
           null,
           null,
           null
          ],
          [
           null,
           null,
           null,
           null,
           null,
           null,
           null,
           null,
           null,
           null,
           null,
           null,
           null,
           null,
           null,
           null,
           34.1,
           39.5,
           49.24,
           57.87,
           33.97,
           3.25,
           0.08,
           null,
           null,
           null,
           null,
           null,
           null,
           null,
           null,
           null,
           null,
           null,
           null,
           null,
           null
          ],
          [
           null,
           null,
           null,
           10.96,
           50.08,
           53.440000000000005,
           36.41,
           19.759999999999998,
           45.010000000000005,
           7.85,
           15.729999999999999,
           6.109999999999999,
           1.9800000000000002,
           3.61,
           0.11,
           null,
           null,
           null,
           null,
           null,
           null,
           null,
           null,
           null,
           null,
           null,
           null,
           null,
           null,
           null,
           null,
           null,
           null,
           null,
           null,
           null,
           null
          ],
          [
           null,
           null,
           null,
           null,
           null,
           null,
           null,
           null,
           null,
           null,
           null,
           null,
           null,
           0.21000000000000002,
           0.8,
           0.33,
           0.1,
           null,
           null,
           null,
           null,
           null,
           null,
           null,
           null,
           null,
           null,
           null,
           null,
           null,
           null,
           null,
           null,
           null,
           null,
           null,
           null
          ],
          [
           null,
           null,
           null,
           null,
           null,
           0.04,
           null,
           null,
           0.03,
           null,
           null,
           null,
           3.0300000000000002,
           null,
           12.87,
           4.22,
           10.58,
           11.27,
           3.2600000000000002,
           4.74,
           4.659999999999999,
           5.470000000000001,
           8.57,
           8.84,
           10.39,
           4.37,
           2.85,
           9.28,
           12.42,
           16.91,
           24.28,
           35.03,
           23.22,
           12.38,
           13.280000000000001,
           8.520000000000001,
           5.25
          ],
          [
           null,
           null,
           null,
           null,
           null,
           null,
           null,
           null,
           null,
           null,
           null,
           null,
           null,
           null,
           null,
           null,
           0.03,
           null,
           null,
           null,
           null,
           null,
           null,
           null,
           null,
           null,
           null,
           null,
           null,
           null,
           null,
           null,
           null,
           null,
           null,
           null,
           null
          ],
          [
           null,
           null,
           null,
           null,
           null,
           null,
           null,
           null,
           null,
           null,
           null,
           null,
           null,
           null,
           6.03,
           35.96,
           94.7,
           136.17000000000002,
           169.49,
           144.53,
           96.37,
           35.59,
           6.67,
           2.0700000000000003,
           null,
           null,
           null,
           null,
           null,
           null,
           null,
           null,
           null,
           null,
           null,
           null,
           null
          ],
          [
           null,
           null,
           null,
           null,
           null,
           null,
           null,
           null,
           null,
           null,
           null,
           null,
           null,
           null,
           null,
           null,
           null,
           null,
           null,
           null,
           39.17,
           166.43,
           205.38,
           184.31,
           211.81,
           160.66,
           103.42,
           75.99,
           53.9,
           26.4,
           5.64,
           0.45,
           null,
           null,
           null,
           null,
           null
          ],
          [
           null,
           null,
           null,
           null,
           null,
           null,
           null,
           null,
           null,
           null,
           null,
           null,
           null,
           null,
           null,
           null,
           null,
           null,
           null,
           null,
           null,
           null,
           null,
           null,
           null,
           null,
           20.96,
           73.19,
           118.52,
           130.93,
           142.17,
           156.78,
           107.36,
           113.25,
           47.760000000000005,
           16.82,
           3.6
          ],
          [
           null,
           null,
           null,
           null,
           null,
           null,
           null,
           null,
           null,
           null,
           null,
           null,
           null,
           null,
           null,
           null,
           null,
           null,
           null,
           null,
           null,
           null,
           null,
           null,
           null,
           null,
           null,
           null,
           null,
           null,
           null,
           null,
           null,
           25.99,
           100,
           118.9,
           69.25
          ],
          [
           null,
           null,
           null,
           null,
           null,
           null,
           null,
           null,
           null,
           null,
           null,
           null,
           null,
           null,
           null,
           null,
           null,
           null,
           null,
           null,
           null,
           null,
           null,
           null,
           7.0600000000000005,
           43.84,
           55.32,
           46.93,
           34.55,
           37.78,
           35.04,
           17.82,
           7.69,
           3.14,
           0.24,
           0.12,
           null
          ],
          [
           null,
           null,
           null,
           null,
           null,
           null,
           null,
           null,
           null,
           null,
           null,
           null,
           null,
           null,
           null,
           null,
           null,
           null,
           null,
           null,
           null,
           null,
           null,
           null,
           null,
           null,
           null,
           null,
           null,
           null,
           null,
           4.63,
           16.19,
           10.59,
           11.9,
           6.25,
           4.25
          ],
          [
           null,
           null,
           null,
           null,
           null,
           null,
           null,
           null,
           null,
           null,
           null,
           null,
           null,
           null,
           3.65,
           11.57,
           7.69,
           6.7700000000000005,
           3.82,
           0.09,
           null,
           null,
           null,
           null,
           null,
           null,
           null,
           null,
           null,
           null,
           null,
           null,
           null,
           null,
           null,
           null,
           null
          ],
          [
           null,
           null,
           null,
           null,
           null,
           null,
           null,
           null,
           null,
           null,
           null,
           null,
           null,
           1.5,
           0.36000000000000004,
           null,
           null,
           null,
           null,
           null,
           null,
           null,
           null,
           null,
           null,
           null,
           null,
           null,
           null,
           null,
           null,
           null,
           null,
           null,
           null,
           null,
           null
          ],
          [
           null,
           null,
           null,
           null,
           null,
           null,
           null,
           null,
           null,
           null,
           26.150000000000002,
           16.220000000000002,
           32.98,
           40.02,
           35.08,
           32.199999999999996,
           15.92,
           0.99,
           0.22000000000000003,
           0.26,
           null,
           null,
           null,
           null,
           null,
           null,
           null,
           null,
           null,
           null,
           null,
           null,
           null,
           null,
           null,
           null,
           null
          ],
          [
           null,
           null,
           null,
           null,
           null,
           null,
           null,
           null,
           null,
           null,
           null,
           null,
           null,
           null,
           null,
           0.16,
           null,
           null,
           null,
           null,
           null,
           null,
           null,
           null,
           null,
           null,
           null,
           null,
           null,
           null,
           null,
           null,
           null,
           null,
           null,
           null,
           null
          ],
          [
           null,
           null,
           null,
           null,
           null,
           null,
           null,
           null,
           null,
           null,
           null,
           null,
           null,
           null,
           null,
           null,
           null,
           null,
           null,
           0.46,
           0.68,
           0.28,
           null,
           null,
           null,
           null,
           null,
           null,
           null,
           null,
           null,
           null,
           null,
           null,
           null,
           null,
           null
          ],
          [
           null,
           null,
           null,
           null,
           null,
           null,
           null,
           null,
           null,
           null,
           null,
           null,
           null,
           null,
           null,
           null,
           null,
           null,
           null,
           null,
           null,
           null,
           null,
           null,
           null,
           null,
           137.15,
           152.77,
           171.32,
           206.97,
           127.95,
           59.65,
           21.71,
           8.59,
           3.75,
           1.14,
           0.18
          ],
          [
           null,
           null,
           null,
           null,
           null,
           null,
           null,
           null,
           null,
           null,
           null,
           null,
           null,
           null,
           null,
           null,
           null,
           null,
           null,
           null,
           null,
           null,
           null,
           null,
           null,
           null,
           null,
           null,
           null,
           null,
           null,
           null,
           17.560000000000002,
           21.650000000000002,
           22.03,
           16.35,
           4.6000000000000005
          ],
          [
           null,
           null,
           null,
           null,
           null,
           null,
           null,
           null,
           null,
           null,
           null,
           null,
           null,
           null,
           null,
           null,
           null,
           null,
           null,
           null,
           null,
           null,
           null,
           null,
           null,
           8.25,
           51.620000000000005,
           95.41,
           135.26,
           120.29,
           170.03,
           143.84,
           99.74000000000001,
           88.58,
           34.74,
           11.959999999999999,
           1.52
          ],
          [
           null,
           null,
           null,
           null,
           null,
           null,
           null,
           null,
           null,
           null,
           null,
           null,
           null,
           null,
           null,
           null,
           null,
           null,
           null,
           null,
           0.99,
           22.26,
           48.010000000000005,
           55.040000000000006,
           65.42,
           49.080000000000005,
           10.040000000000001,
           0.55,
           0.18000000000000002,
           null,
           null,
           null,
           null,
           null,
           null,
           null,
           null
          ],
          [
           null,
           null,
           null,
           null,
           null,
           null,
           null,
           null,
           null,
           null,
           null,
           null,
           null,
           null,
           null,
           null,
           null,
           null,
           null,
           null,
           null,
           null,
           null,
           null,
           null,
           null,
           null,
           null,
           null,
           null,
           null,
           null,
           null,
           18.96,
           54.07,
           60.14,
           26.150000000000002
          ]
         ]
        }
       ],
       "layout": {
        "coloraxis": {
         "colorscale": [
          [
           0,
           "#0d0887"
          ],
          [
           0.1111111111111111,
           "#46039f"
          ],
          [
           0.2222222222222222,
           "#7201a8"
          ],
          [
           0.3333333333333333,
           "#9c179e"
          ],
          [
           0.4444444444444444,
           "#bd3786"
          ],
          [
           0.5555555555555556,
           "#d8576b"
          ],
          [
           0.6666666666666666,
           "#ed7953"
          ],
          [
           0.7777777777777778,
           "#fb9f3a"
          ],
          [
           0.8888888888888888,
           "#fdca26"
          ],
          [
           1,
           "#f0f921"
          ]
         ]
        },
        "margin": {
         "t": 60
        },
        "template": {
         "data": {
          "bar": [
           {
            "error_x": {
             "color": "#2a3f5f"
            },
            "error_y": {
             "color": "#2a3f5f"
            },
            "marker": {
             "line": {
              "color": "#E5ECF6",
              "width": 0.5
             },
             "pattern": {
              "fillmode": "overlay",
              "size": 10,
              "solidity": 0.2
             }
            },
            "type": "bar"
           }
          ],
          "barpolar": [
           {
            "marker": {
             "line": {
              "color": "#E5ECF6",
              "width": 0.5
             },
             "pattern": {
              "fillmode": "overlay",
              "size": 10,
              "solidity": 0.2
             }
            },
            "type": "barpolar"
           }
          ],
          "carpet": [
           {
            "aaxis": {
             "endlinecolor": "#2a3f5f",
             "gridcolor": "white",
             "linecolor": "white",
             "minorgridcolor": "white",
             "startlinecolor": "#2a3f5f"
            },
            "baxis": {
             "endlinecolor": "#2a3f5f",
             "gridcolor": "white",
             "linecolor": "white",
             "minorgridcolor": "white",
             "startlinecolor": "#2a3f5f"
            },
            "type": "carpet"
           }
          ],
          "choropleth": [
           {
            "colorbar": {
             "outlinewidth": 0,
             "ticks": ""
            },
            "type": "choropleth"
           }
          ],
          "contour": [
           {
            "colorbar": {
             "outlinewidth": 0,
             "ticks": ""
            },
            "colorscale": [
             [
              0,
              "#0d0887"
             ],
             [
              0.1111111111111111,
              "#46039f"
             ],
             [
              0.2222222222222222,
              "#7201a8"
             ],
             [
              0.3333333333333333,
              "#9c179e"
             ],
             [
              0.4444444444444444,
              "#bd3786"
             ],
             [
              0.5555555555555556,
              "#d8576b"
             ],
             [
              0.6666666666666666,
              "#ed7953"
             ],
             [
              0.7777777777777778,
              "#fb9f3a"
             ],
             [
              0.8888888888888888,
              "#fdca26"
             ],
             [
              1,
              "#f0f921"
             ]
            ],
            "type": "contour"
           }
          ],
          "contourcarpet": [
           {
            "colorbar": {
             "outlinewidth": 0,
             "ticks": ""
            },
            "type": "contourcarpet"
           }
          ],
          "heatmap": [
           {
            "colorbar": {
             "outlinewidth": 0,
             "ticks": ""
            },
            "colorscale": [
             [
              0,
              "#0d0887"
             ],
             [
              0.1111111111111111,
              "#46039f"
             ],
             [
              0.2222222222222222,
              "#7201a8"
             ],
             [
              0.3333333333333333,
              "#9c179e"
             ],
             [
              0.4444444444444444,
              "#bd3786"
             ],
             [
              0.5555555555555556,
              "#d8576b"
             ],
             [
              0.6666666666666666,
              "#ed7953"
             ],
             [
              0.7777777777777778,
              "#fb9f3a"
             ],
             [
              0.8888888888888888,
              "#fdca26"
             ],
             [
              1,
              "#f0f921"
             ]
            ],
            "type": "heatmap"
           }
          ],
          "heatmapgl": [
           {
            "colorbar": {
             "outlinewidth": 0,
             "ticks": ""
            },
            "colorscale": [
             [
              0,
              "#0d0887"
             ],
             [
              0.1111111111111111,
              "#46039f"
             ],
             [
              0.2222222222222222,
              "#7201a8"
             ],
             [
              0.3333333333333333,
              "#9c179e"
             ],
             [
              0.4444444444444444,
              "#bd3786"
             ],
             [
              0.5555555555555556,
              "#d8576b"
             ],
             [
              0.6666666666666666,
              "#ed7953"
             ],
             [
              0.7777777777777778,
              "#fb9f3a"
             ],
             [
              0.8888888888888888,
              "#fdca26"
             ],
             [
              1,
              "#f0f921"
             ]
            ],
            "type": "heatmapgl"
           }
          ],
          "histogram": [
           {
            "marker": {
             "pattern": {
              "fillmode": "overlay",
              "size": 10,
              "solidity": 0.2
             }
            },
            "type": "histogram"
           }
          ],
          "histogram2d": [
           {
            "colorbar": {
             "outlinewidth": 0,
             "ticks": ""
            },
            "colorscale": [
             [
              0,
              "#0d0887"
             ],
             [
              0.1111111111111111,
              "#46039f"
             ],
             [
              0.2222222222222222,
              "#7201a8"
             ],
             [
              0.3333333333333333,
              "#9c179e"
             ],
             [
              0.4444444444444444,
              "#bd3786"
             ],
             [
              0.5555555555555556,
              "#d8576b"
             ],
             [
              0.6666666666666666,
              "#ed7953"
             ],
             [
              0.7777777777777778,
              "#fb9f3a"
             ],
             [
              0.8888888888888888,
              "#fdca26"
             ],
             [
              1,
              "#f0f921"
             ]
            ],
            "type": "histogram2d"
           }
          ],
          "histogram2dcontour": [
           {
            "colorbar": {
             "outlinewidth": 0,
             "ticks": ""
            },
            "colorscale": [
             [
              0,
              "#0d0887"
             ],
             [
              0.1111111111111111,
              "#46039f"
             ],
             [
              0.2222222222222222,
              "#7201a8"
             ],
             [
              0.3333333333333333,
              "#9c179e"
             ],
             [
              0.4444444444444444,
              "#bd3786"
             ],
             [
              0.5555555555555556,
              "#d8576b"
             ],
             [
              0.6666666666666666,
              "#ed7953"
             ],
             [
              0.7777777777777778,
              "#fb9f3a"
             ],
             [
              0.8888888888888888,
              "#fdca26"
             ],
             [
              1,
              "#f0f921"
             ]
            ],
            "type": "histogram2dcontour"
           }
          ],
          "mesh3d": [
           {
            "colorbar": {
             "outlinewidth": 0,
             "ticks": ""
            },
            "type": "mesh3d"
           }
          ],
          "parcoords": [
           {
            "line": {
             "colorbar": {
              "outlinewidth": 0,
              "ticks": ""
             }
            },
            "type": "parcoords"
           }
          ],
          "pie": [
           {
            "automargin": true,
            "type": "pie"
           }
          ],
          "scatter": [
           {
            "fillpattern": {
             "fillmode": "overlay",
             "size": 10,
             "solidity": 0.2
            },
            "type": "scatter"
           }
          ],
          "scatter3d": [
           {
            "line": {
             "colorbar": {
              "outlinewidth": 0,
              "ticks": ""
             }
            },
            "marker": {
             "colorbar": {
              "outlinewidth": 0,
              "ticks": ""
             }
            },
            "type": "scatter3d"
           }
          ],
          "scattercarpet": [
           {
            "marker": {
             "colorbar": {
              "outlinewidth": 0,
              "ticks": ""
             }
            },
            "type": "scattercarpet"
           }
          ],
          "scattergeo": [
           {
            "marker": {
             "colorbar": {
              "outlinewidth": 0,
              "ticks": ""
             }
            },
            "type": "scattergeo"
           }
          ],
          "scattergl": [
           {
            "marker": {
             "colorbar": {
              "outlinewidth": 0,
              "ticks": ""
             }
            },
            "type": "scattergl"
           }
          ],
          "scattermapbox": [
           {
            "marker": {
             "colorbar": {
              "outlinewidth": 0,
              "ticks": ""
             }
            },
            "type": "scattermapbox"
           }
          ],
          "scatterpolar": [
           {
            "marker": {
             "colorbar": {
              "outlinewidth": 0,
              "ticks": ""
             }
            },
            "type": "scatterpolar"
           }
          ],
          "scatterpolargl": [
           {
            "marker": {
             "colorbar": {
              "outlinewidth": 0,
              "ticks": ""
             }
            },
            "type": "scatterpolargl"
           }
          ],
          "scatterternary": [
           {
            "marker": {
             "colorbar": {
              "outlinewidth": 0,
              "ticks": ""
             }
            },
            "type": "scatterternary"
           }
          ],
          "surface": [
           {
            "colorbar": {
             "outlinewidth": 0,
             "ticks": ""
            },
            "colorscale": [
             [
              0,
              "#0d0887"
             ],
             [
              0.1111111111111111,
              "#46039f"
             ],
             [
              0.2222222222222222,
              "#7201a8"
             ],
             [
              0.3333333333333333,
              "#9c179e"
             ],
             [
              0.4444444444444444,
              "#bd3786"
             ],
             [
              0.5555555555555556,
              "#d8576b"
             ],
             [
              0.6666666666666666,
              "#ed7953"
             ],
             [
              0.7777777777777778,
              "#fb9f3a"
             ],
             [
              0.8888888888888888,
              "#fdca26"
             ],
             [
              1,
              "#f0f921"
             ]
            ],
            "type": "surface"
           }
          ],
          "table": [
           {
            "cells": {
             "fill": {
              "color": "#EBF0F8"
             },
             "line": {
              "color": "white"
             }
            },
            "header": {
             "fill": {
              "color": "#C8D4E3"
             },
             "line": {
              "color": "white"
             }
            },
            "type": "table"
           }
          ]
         },
         "layout": {
          "annotationdefaults": {
           "arrowcolor": "#2a3f5f",
           "arrowhead": 0,
           "arrowwidth": 1
          },
          "autotypenumbers": "strict",
          "coloraxis": {
           "colorbar": {
            "outlinewidth": 0,
            "ticks": ""
           }
          },
          "colorscale": {
           "diverging": [
            [
             0,
             "#8e0152"
            ],
            [
             0.1,
             "#c51b7d"
            ],
            [
             0.2,
             "#de77ae"
            ],
            [
             0.3,
             "#f1b6da"
            ],
            [
             0.4,
             "#fde0ef"
            ],
            [
             0.5,
             "#f7f7f7"
            ],
            [
             0.6,
             "#e6f5d0"
            ],
            [
             0.7,
             "#b8e186"
            ],
            [
             0.8,
             "#7fbc41"
            ],
            [
             0.9,
             "#4d9221"
            ],
            [
             1,
             "#276419"
            ]
           ],
           "sequential": [
            [
             0,
             "#0d0887"
            ],
            [
             0.1111111111111111,
             "#46039f"
            ],
            [
             0.2222222222222222,
             "#7201a8"
            ],
            [
             0.3333333333333333,
             "#9c179e"
            ],
            [
             0.4444444444444444,
             "#bd3786"
            ],
            [
             0.5555555555555556,
             "#d8576b"
            ],
            [
             0.6666666666666666,
             "#ed7953"
            ],
            [
             0.7777777777777778,
             "#fb9f3a"
            ],
            [
             0.8888888888888888,
             "#fdca26"
            ],
            [
             1,
             "#f0f921"
            ]
           ],
           "sequentialminus": [
            [
             0,
             "#0d0887"
            ],
            [
             0.1111111111111111,
             "#46039f"
            ],
            [
             0.2222222222222222,
             "#7201a8"
            ],
            [
             0.3333333333333333,
             "#9c179e"
            ],
            [
             0.4444444444444444,
             "#bd3786"
            ],
            [
             0.5555555555555556,
             "#d8576b"
            ],
            [
             0.6666666666666666,
             "#ed7953"
            ],
            [
             0.7777777777777778,
             "#fb9f3a"
            ],
            [
             0.8888888888888888,
             "#fdca26"
            ],
            [
             1,
             "#f0f921"
            ]
           ]
          },
          "colorway": [
           "#636efa",
           "#EF553B",
           "#00cc96",
           "#ab63fa",
           "#FFA15A",
           "#19d3f3",
           "#FF6692",
           "#B6E880",
           "#FF97FF",
           "#FECB52"
          ],
          "font": {
           "color": "#2a3f5f"
          },
          "geo": {
           "bgcolor": "white",
           "lakecolor": "white",
           "landcolor": "#E5ECF6",
           "showlakes": true,
           "showland": true,
           "subunitcolor": "white"
          },
          "hoverlabel": {
           "align": "left"
          },
          "hovermode": "closest",
          "mapbox": {
           "style": "light"
          },
          "paper_bgcolor": "white",
          "plot_bgcolor": "#E5ECF6",
          "polar": {
           "angularaxis": {
            "gridcolor": "white",
            "linecolor": "white",
            "ticks": ""
           },
           "bgcolor": "#E5ECF6",
           "radialaxis": {
            "gridcolor": "white",
            "linecolor": "white",
            "ticks": ""
           }
          },
          "scene": {
           "xaxis": {
            "backgroundcolor": "#E5ECF6",
            "gridcolor": "white",
            "gridwidth": 2,
            "linecolor": "white",
            "showbackground": true,
            "ticks": "",
            "zerolinecolor": "white"
           },
           "yaxis": {
            "backgroundcolor": "#E5ECF6",
            "gridcolor": "white",
            "gridwidth": 2,
            "linecolor": "white",
            "showbackground": true,
            "ticks": "",
            "zerolinecolor": "white"
           },
           "zaxis": {
            "backgroundcolor": "#E5ECF6",
            "gridcolor": "white",
            "gridwidth": 2,
            "linecolor": "white",
            "showbackground": true,
            "ticks": "",
            "zerolinecolor": "white"
           }
          },
          "shapedefaults": {
           "line": {
            "color": "#2a3f5f"
           }
          },
          "ternary": {
           "aaxis": {
            "gridcolor": "white",
            "linecolor": "white",
            "ticks": ""
           },
           "baxis": {
            "gridcolor": "white",
            "linecolor": "white",
            "ticks": ""
           },
           "bgcolor": "#E5ECF6",
           "caxis": {
            "gridcolor": "white",
            "linecolor": "white",
            "ticks": ""
           }
          },
          "title": {
           "x": 0.05
          },
          "xaxis": {
           "automargin": true,
           "gridcolor": "white",
           "linecolor": "white",
           "ticks": "",
           "title": {
            "standoff": 15
           },
           "zerolinecolor": "white",
           "zerolinewidth": 2
          },
          "yaxis": {
           "automargin": true,
           "gridcolor": "white",
           "linecolor": "white",
           "ticks": "",
           "title": {
            "standoff": 15
           },
           "zerolinecolor": "white",
           "zerolinewidth": 2
          }
         }
        },
        "xaxis": {
         "anchor": "y",
         "constrain": "domain",
         "domain": [
          0,
          1
         ],
         "scaleanchor": "y",
         "title": {
          "text": "year_of_release"
         }
        },
        "yaxis": {
         "anchor": "x",
         "autorange": "reversed",
         "constrain": "domain",
         "domain": [
          0,
          1
         ],
         "title": {
          "text": "platform"
         }
        }
       }
      }
     },
     "metadata": {},
     "output_type": "display_data"
    }
   ],
   "source": [
    "px.imshow(sales_by_platform_pivot, text_auto=True)"
   ]
  },
  {
   "cell_type": "code",
   "execution_count": 92,
   "metadata": {},
   "outputs": [
    {
     "data": {
      "image/png": "[encoded data removed]",
      "text/plain": [
       "<Figure size 864x576 with 2 Axes>"
      ]
     },
     "metadata": {
      "needs_background": "light"
     },
     "output_type": "display_data"
    }
   ],
   "source": [
    "plt.figure(figsize = (12,8))\n",
    "sb.heatmap(sales_by_platform_pivot, linewidths=.5);"
   ]
  },
  {
   "cell_type": "markdown",
   "metadata": {},
   "source": [
    "<pre>\n",
    "Старые платформы просуществовали около 10 лет, такие как 2600 и NES\n",
    "Переход платформу нового поколения заниммает от 2 до 4 лет: GB > GBA 2 года, PS > PS2 4 года, PS2 > PS3 6 лет.\n",
    "Игры на консолях самые прибыльные: PS/PS2/PS3, X360, Wii, DS\n",
    "</pre>"
   ]
  },
  {
   "cell_type": "code",
   "execution_count": 94,
   "metadata": {},
   "outputs": [],
   "source": [
    "# sales_by_platform.query('platform == \"PS4\"')\\\n",
    "#     .plot(kind='scatter', x='year_of_release', y='all_sales', figsize=(9,6), legend=True, grid=True);"
   ]
  },
  {
   "cell_type": "markdown",
   "metadata": {},
   "source": [
    "### Данные за соответствующий актуальный период. Актуальный период определите самостоятельно в результате исследования предыдущих вопросов. Основной фактор — эти данные помогут построить прогноз на 2017 год\n",
    "Не учитывайте в работе данные за предыдущие годы"
   ]
  },
  {
   "cell_type": "markdown",
   "metadata": {},
   "source": [
    "<pre>\n",
    "Выберем для дальнейшего анализа период начала все еще актуальных платвфор, в игры, которох играют по настоящий момент.\n",
    "2013 - 2016 гг.\n",
    "</pre>"
   ]
  },
  {
   "cell_type": "code",
   "execution_count": 95,
   "metadata": {},
   "outputs": [],
   "source": [
    "sales_by_platform_from2013 = sales_by_platform.query('year_of_release >= 2013')"
   ]
  },
  {
   "cell_type": "markdown",
   "metadata": {},
   "source": [
    "### Какие платформы лидируют по продажам, растут или падают? Выберите несколько потенциально прибыльных платформ"
   ]
  },
  {
   "cell_type": "code",
   "execution_count": null,
   "metadata": {},
   "outputs": [
    {
     "data": {
      "text/plain": [
       "array(['PS4', 'PS3', 'X360', 'XOne', '3DS', 'WiiU'], dtype=object)"
      ]
     },
     "execution_count": 52,
     "metadata": {},
     "output_type": "execute_result"
    }
   ],
   "source": [
    "# Выведим лидер по продажам за последние 3 года\n",
    "sales_by_platform_from2013.sort_values(by='all_sales', ascending=False).head(15)['platform'].unique()"
   ]
  },
  {
   "cell_type": "code",
   "execution_count": null,
   "metadata": {},
   "outputs": [
    {
     "data": {
      "text/plain": [
       "array(['PSP', 'Wii', 'X360', 'DS', 'PS3', 'PSV', 'WiiU', 'PC'],\n",
       "      dtype=object)"
      ]
     },
     "execution_count": 53,
     "metadata": {},
     "output_type": "execute_result"
    }
   ],
   "source": [
    "# Платформы с низкими продажами\n",
    "sales_by_platform_from2013.sort_values(by='all_sales').head(15)['platform'].unique()"
   ]
  },
  {
   "cell_type": "code",
   "execution_count": null,
   "metadata": {},
   "outputs": [
    {
     "data": {
      "application/vnd.plotly.v1+json": {
       "config": {
        "plotlyServerURL": "https://plot.ly"
       },
       "data": [
        {
         "hovertemplate": "platform=3DS<br>year_of_release=%{x}<br>all_sales=%{y}<extra></extra>",
         "legendgroup": "3DS",
         "line": {
          "color": "#636efa",
          "dash": "solid"
         },
         "marker": {
          "symbol": "circle"
         },
         "mode": "lines",
         "name": "3DS",
         "orientation": "v",
         "showlegend": true,
         "type": "scatter",
         "x": [
          2013,
          2014,
          2015,
          2016
         ],
         "xaxis": "x",
         "y": [
          56.57,
          43.76,
          27.78,
          15.14
         ],
         "yaxis": "y"
        },
        {
         "hovertemplate": "platform=DS<br>year_of_release=%{x}<br>all_sales=%{y}<extra></extra>",
         "legendgroup": "DS",
         "line": {
          "color": "#EF553B",
          "dash": "solid"
         },
         "marker": {
          "symbol": "circle"
         },
         "mode": "lines",
         "name": "DS",
         "orientation": "v",
         "showlegend": true,
         "type": "scatter",
         "x": [
          2013
         ],
         "xaxis": "x",
         "y": [
          1.54
         ],
         "yaxis": "y"
        },
        {
         "hovertemplate": "platform=PC<br>year_of_release=%{x}<br>all_sales=%{y}<extra></extra>",
         "legendgroup": "PC",
         "line": {
          "color": "#00cc96",
          "dash": "solid"
         },
         "marker": {
          "symbol": "circle"
         },
         "mode": "lines",
         "name": "PC",
         "orientation": "v",
         "showlegend": true,
         "type": "scatter",
         "x": [
          2013,
          2014,
          2015,
          2016
         ],
         "xaxis": "x",
         "y": [
          12.38,
          13.280000000000001,
          8.520000000000001,
          5.25
         ],
         "yaxis": "y"
        },
        {
         "hovertemplate": "platform=PS3<br>year_of_release=%{x}<br>all_sales=%{y}<extra></extra>",
         "legendgroup": "PS3",
         "line": {
          "color": "#ab63fa",
          "dash": "solid"
         },
         "marker": {
          "symbol": "circle"
         },
         "mode": "lines",
         "name": "PS3",
         "orientation": "v",
         "showlegend": true,
         "type": "scatter",
         "x": [
          2013,
          2014,
          2015,
          2016
         ],
         "xaxis": "x",
         "y": [
          113.25,
          47.760000000000005,
          16.82,
          3.6
         ],
         "yaxis": "y"
        },
        {
         "hovertemplate": "platform=PS4<br>year_of_release=%{x}<br>all_sales=%{y}<extra></extra>",
         "legendgroup": "PS4",
         "line": {
          "color": "#FFA15A",
          "dash": "solid"
         },
         "marker": {
          "symbol": "circle"
         },
         "mode": "lines",
         "name": "PS4",
         "orientation": "v",
         "showlegend": true,
         "type": "scatter",
         "x": [
          2013,
          2014,
          2015,
          2016
         ],
         "xaxis": "x",
         "y": [
          25.99,
          100,
          118.9,
          69.25
         ],
         "yaxis": "y"
        },
        {
         "hovertemplate": "platform=PSP<br>year_of_release=%{x}<br>all_sales=%{y}<extra></extra>",
         "legendgroup": "PSP",
         "line": {
          "color": "#19d3f3",
          "dash": "solid"
         },
         "marker": {
          "symbol": "circle"
         },
         "mode": "lines",
         "name": "PSP",
         "orientation": "v",
         "showlegend": true,
         "type": "scatter",
         "x": [
          2013,
          2014,
          2015
         ],
         "xaxis": "x",
         "y": [
          3.14,
          0.24,
          0.12
         ],
         "yaxis": "y"
        },
        {
         "hovertemplate": "platform=PSV<br>year_of_release=%{x}<br>all_sales=%{y}<extra></extra>",
         "legendgroup": "PSV",
         "line": {
          "color": "#FF6692",
          "dash": "solid"
         },
         "marker": {
          "symbol": "circle"
         },
         "mode": "lines",
         "name": "PSV",
         "orientation": "v",
         "showlegend": true,
         "type": "scatter",
         "x": [
          2013,
          2014,
          2015,
          2016
         ],
         "xaxis": "x",
         "y": [
          10.59,
          11.9,
          6.25,
          4.25
         ],
         "yaxis": "y"
        },
        {
         "hovertemplate": "platform=Wii<br>year_of_release=%{x}<br>all_sales=%{y}<extra></extra>",
         "legendgroup": "Wii",
         "line": {
          "color": "#B6E880",
          "dash": "solid"
         },
         "marker": {
          "symbol": "circle"
         },
         "mode": "lines",
         "name": "Wii",
         "orientation": "v",
         "showlegend": true,
         "type": "scatter",
         "x": [
          2013,
          2014,
          2015,
          2016
         ],
         "xaxis": "x",
         "y": [
          8.59,
          3.75,
          1.14,
          0.18
         ],
         "yaxis": "y"
        },
        {
         "hovertemplate": "platform=WiiU<br>year_of_release=%{x}<br>all_sales=%{y}<extra></extra>",
         "legendgroup": "WiiU",
         "line": {
          "color": "#FF97FF",
          "dash": "solid"
         },
         "marker": {
          "symbol": "circle"
         },
         "mode": "lines",
         "name": "WiiU",
         "orientation": "v",
         "showlegend": true,
         "type": "scatter",
         "x": [
          2013,
          2014,
          2015,
          2016
         ],
         "xaxis": "x",
         "y": [
          21.650000000000002,
          22.03,
          16.35,
          4.6000000000000005
         ],
         "yaxis": "y"
        },
        {
         "hovertemplate": "platform=X360<br>year_of_release=%{x}<br>all_sales=%{y}<extra></extra>",
         "legendgroup": "X360",
         "line": {
          "color": "#FECB52",
          "dash": "solid"
         },
         "marker": {
          "symbol": "circle"
         },
         "mode": "lines",
         "name": "X360",
         "orientation": "v",
         "showlegend": true,
         "type": "scatter",
         "x": [
          2013,
          2014,
          2015,
          2016
         ],
         "xaxis": "x",
         "y": [
          88.58,
          34.74,
          11.959999999999999,
          1.52
         ],
         "yaxis": "y"
        },
        {
         "hovertemplate": "platform=XOne<br>year_of_release=%{x}<br>all_sales=%{y}<extra></extra>",
         "legendgroup": "XOne",
         "line": {
          "color": "#636efa",
          "dash": "solid"
         },
         "marker": {
          "symbol": "circle"
         },
         "mode": "lines",
         "name": "XOne",
         "orientation": "v",
         "showlegend": true,
         "type": "scatter",
         "x": [
          2013,
          2014,
          2015,
          2016
         ],
         "xaxis": "x",
         "y": [
          18.96,
          54.07,
          60.14,
          26.150000000000002
         ],
         "yaxis": "y"
        }
       ],
       "layout": {
        "legend": {
         "title": {
          "text": "platform"
         },
         "tracegroupgap": 0
        },
        "template": {
         "data": {
          "bar": [
           {
            "error_x": {
             "color": "#2a3f5f"
            },
            "error_y": {
             "color": "#2a3f5f"
            },
            "marker": {
             "line": {
              "color": "#E5ECF6",
              "width": 0.5
             },
             "pattern": {
              "fillmode": "overlay",
              "size": 10,
              "solidity": 0.2
             }
            },
            "type": "bar"
           }
          ],
          "barpolar": [
           {
            "marker": {
             "line": {
              "color": "#E5ECF6",
              "width": 0.5
             },
             "pattern": {
              "fillmode": "overlay",
              "size": 10,
              "solidity": 0.2
             }
            },
            "type": "barpolar"
           }
          ],
          "carpet": [
           {
            "aaxis": {
             "endlinecolor": "#2a3f5f",
             "gridcolor": "white",
             "linecolor": "white",
             "minorgridcolor": "white",
             "startlinecolor": "#2a3f5f"
            },
            "baxis": {
             "endlinecolor": "#2a3f5f",
             "gridcolor": "white",
             "linecolor": "white",
             "minorgridcolor": "white",
             "startlinecolor": "#2a3f5f"
            },
            "type": "carpet"
           }
          ],
          "choropleth": [
           {
            "colorbar": {
             "outlinewidth": 0,
             "ticks": ""
            },
            "type": "choropleth"
           }
          ],
          "contour": [
           {
            "colorbar": {
             "outlinewidth": 0,
             "ticks": ""
            },
            "colorscale": [
             [
              0,
              "#0d0887"
             ],
             [
              0.1111111111111111,
              "#46039f"
             ],
             [
              0.2222222222222222,
              "#7201a8"
             ],
             [
              0.3333333333333333,
              "#9c179e"
             ],
             [
              0.4444444444444444,
              "#bd3786"
             ],
             [
              0.5555555555555556,
              "#d8576b"
             ],
             [
              0.6666666666666666,
              "#ed7953"
             ],
             [
              0.7777777777777778,
              "#fb9f3a"
             ],
             [
              0.8888888888888888,
              "#fdca26"
             ],
             [
              1,
              "#f0f921"
             ]
            ],
            "type": "contour"
           }
          ],
          "contourcarpet": [
           {
            "colorbar": {
             "outlinewidth": 0,
             "ticks": ""
            },
            "type": "contourcarpet"
           }
          ],
          "heatmap": [
           {
            "colorbar": {
             "outlinewidth": 0,
             "ticks": ""
            },
            "colorscale": [
             [
              0,
              "#0d0887"
             ],
             [
              0.1111111111111111,
              "#46039f"
             ],
             [
              0.2222222222222222,
              "#7201a8"
             ],
             [
              0.3333333333333333,
              "#9c179e"
             ],
             [
              0.4444444444444444,
              "#bd3786"
             ],
             [
              0.5555555555555556,
              "#d8576b"
             ],
             [
              0.6666666666666666,
              "#ed7953"
             ],
             [
              0.7777777777777778,
              "#fb9f3a"
             ],
             [
              0.8888888888888888,
              "#fdca26"
             ],
             [
              1,
              "#f0f921"
             ]
            ],
            "type": "heatmap"
           }
          ],
          "heatmapgl": [
           {
            "colorbar": {
             "outlinewidth": 0,
             "ticks": ""
            },
            "colorscale": [
             [
              0,
              "#0d0887"
             ],
             [
              0.1111111111111111,
              "#46039f"
             ],
             [
              0.2222222222222222,
              "#7201a8"
             ],
             [
              0.3333333333333333,
              "#9c179e"
             ],
             [
              0.4444444444444444,
              "#bd3786"
             ],
             [
              0.5555555555555556,
              "#d8576b"
             ],
             [
              0.6666666666666666,
              "#ed7953"
             ],
             [
              0.7777777777777778,
              "#fb9f3a"
             ],
             [
              0.8888888888888888,
              "#fdca26"
             ],
             [
              1,
              "#f0f921"
             ]
            ],
            "type": "heatmapgl"
           }
          ],
          "histogram": [
           {
            "marker": {
             "pattern": {
              "fillmode": "overlay",
              "size": 10,
              "solidity": 0.2
             }
            },
            "type": "histogram"
           }
          ],
          "histogram2d": [
           {
            "colorbar": {
             "outlinewidth": 0,
             "ticks": ""
            },
            "colorscale": [
             [
              0,
              "#0d0887"
             ],
             [
              0.1111111111111111,
              "#46039f"
             ],
             [
              0.2222222222222222,
              "#7201a8"
             ],
             [
              0.3333333333333333,
              "#9c179e"
             ],
             [
              0.4444444444444444,
              "#bd3786"
             ],
             [
              0.5555555555555556,
              "#d8576b"
             ],
             [
              0.6666666666666666,
              "#ed7953"
             ],
             [
              0.7777777777777778,
              "#fb9f3a"
             ],
             [
              0.8888888888888888,
              "#fdca26"
             ],
             [
              1,
              "#f0f921"
             ]
            ],
            "type": "histogram2d"
           }
          ],
          "histogram2dcontour": [
           {
            "colorbar": {
             "outlinewidth": 0,
             "ticks": ""
            },
            "colorscale": [
             [
              0,
              "#0d0887"
             ],
             [
              0.1111111111111111,
              "#46039f"
             ],
             [
              0.2222222222222222,
              "#7201a8"
             ],
             [
              0.3333333333333333,
              "#9c179e"
             ],
             [
              0.4444444444444444,
              "#bd3786"
             ],
             [
              0.5555555555555556,
              "#d8576b"
             ],
             [
              0.6666666666666666,
              "#ed7953"
             ],
             [
              0.7777777777777778,
              "#fb9f3a"
             ],
             [
              0.8888888888888888,
              "#fdca26"
             ],
             [
              1,
              "#f0f921"
             ]
            ],
            "type": "histogram2dcontour"
           }
          ],
          "mesh3d": [
           {
            "colorbar": {
             "outlinewidth": 0,
             "ticks": ""
            },
            "type": "mesh3d"
           }
          ],
          "parcoords": [
           {
            "line": {
             "colorbar": {
              "outlinewidth": 0,
              "ticks": ""
             }
            },
            "type": "parcoords"
           }
          ],
          "pie": [
           {
            "automargin": true,
            "type": "pie"
           }
          ],
          "scatter": [
           {
            "fillpattern": {
             "fillmode": "overlay",
             "size": 10,
             "solidity": 0.2
            },
            "type": "scatter"
           }
          ],
          "scatter3d": [
           {
            "line": {
             "colorbar": {
              "outlinewidth": 0,
              "ticks": ""
             }
            },
            "marker": {
             "colorbar": {
              "outlinewidth": 0,
              "ticks": ""
             }
            },
            "type": "scatter3d"
           }
          ],
          "scattercarpet": [
           {
            "marker": {
             "colorbar": {
              "outlinewidth": 0,
              "ticks": ""
             }
            },
            "type": "scattercarpet"
           }
          ],
          "scattergeo": [
           {
            "marker": {
             "colorbar": {
              "outlinewidth": 0,
              "ticks": ""
             }
            },
            "type": "scattergeo"
           }
          ],
          "scattergl": [
           {
            "marker": {
             "colorbar": {
              "outlinewidth": 0,
              "ticks": ""
             }
            },
            "type": "scattergl"
           }
          ],
          "scattermapbox": [
           {
            "marker": {
             "colorbar": {
              "outlinewidth": 0,
              "ticks": ""
             }
            },
            "type": "scattermapbox"
           }
          ],
          "scatterpolar": [
           {
            "marker": {
             "colorbar": {
              "outlinewidth": 0,
              "ticks": ""
             }
            },
            "type": "scatterpolar"
           }
          ],
          "scatterpolargl": [
           {
            "marker": {
             "colorbar": {
              "outlinewidth": 0,
              "ticks": ""
             }
            },
            "type": "scatterpolargl"
           }
          ],
          "scatterternary": [
           {
            "marker": {
             "colorbar": {
              "outlinewidth": 0,
              "ticks": ""
             }
            },
            "type": "scatterternary"
           }
          ],
          "surface": [
           {
            "colorbar": {
             "outlinewidth": 0,
             "ticks": ""
            },
            "colorscale": [
             [
              0,
              "#0d0887"
             ],
             [
              0.1111111111111111,
              "#46039f"
             ],
             [
              0.2222222222222222,
              "#7201a8"
             ],
             [
              0.3333333333333333,
              "#9c179e"
             ],
             [
              0.4444444444444444,
              "#bd3786"
             ],
             [
              0.5555555555555556,
              "#d8576b"
             ],
             [
              0.6666666666666666,
              "#ed7953"
             ],
             [
              0.7777777777777778,
              "#fb9f3a"
             ],
             [
              0.8888888888888888,
              "#fdca26"
             ],
             [
              1,
              "#f0f921"
             ]
            ],
            "type": "surface"
           }
          ],
          "table": [
           {
            "cells": {
             "fill": {
              "color": "#EBF0F8"
             },
             "line": {
              "color": "white"
             }
            },
            "header": {
             "fill": {
              "color": "#C8D4E3"
             },
             "line": {
              "color": "white"
             }
            },
            "type": "table"
           }
          ]
         },
         "layout": {
          "annotationdefaults": {
           "arrowcolor": "#2a3f5f",
           "arrowhead": 0,
           "arrowwidth": 1
          },
          "autotypenumbers": "strict",
          "coloraxis": {
           "colorbar": {
            "outlinewidth": 0,
            "ticks": ""
           }
          },
          "colorscale": {
           "diverging": [
            [
             0,
             "#8e0152"
            ],
            [
             0.1,
             "#c51b7d"
            ],
            [
             0.2,
             "#de77ae"
            ],
            [
             0.3,
             "#f1b6da"
            ],
            [
             0.4,
             "#fde0ef"
            ],
            [
             0.5,
             "#f7f7f7"
            ],
            [
             0.6,
             "#e6f5d0"
            ],
            [
             0.7,
             "#b8e186"
            ],
            [
             0.8,
             "#7fbc41"
            ],
            [
             0.9,
             "#4d9221"
            ],
            [
             1,
             "#276419"
            ]
           ],
           "sequential": [
            [
             0,
             "#0d0887"
            ],
            [
             0.1111111111111111,
             "#46039f"
            ],
            [
             0.2222222222222222,
             "#7201a8"
            ],
            [
             0.3333333333333333,
             "#9c179e"
            ],
            [
             0.4444444444444444,
             "#bd3786"
            ],
            [
             0.5555555555555556,
             "#d8576b"
            ],
            [
             0.6666666666666666,
             "#ed7953"
            ],
            [
             0.7777777777777778,
             "#fb9f3a"
            ],
            [
             0.8888888888888888,
             "#fdca26"
            ],
            [
             1,
             "#f0f921"
            ]
           ],
           "sequentialminus": [
            [
             0,
             "#0d0887"
            ],
            [
             0.1111111111111111,
             "#46039f"
            ],
            [
             0.2222222222222222,
             "#7201a8"
            ],
            [
             0.3333333333333333,
             "#9c179e"
            ],
            [
             0.4444444444444444,
             "#bd3786"
            ],
            [
             0.5555555555555556,
             "#d8576b"
            ],
            [
             0.6666666666666666,
             "#ed7953"
            ],
            [
             0.7777777777777778,
             "#fb9f3a"
            ],
            [
             0.8888888888888888,
             "#fdca26"
            ],
            [
             1,
             "#f0f921"
            ]
           ]
          },
          "colorway": [
           "#636efa",
           "#EF553B",
           "#00cc96",
           "#ab63fa",
           "#FFA15A",
           "#19d3f3",
           "#FF6692",
           "#B6E880",
           "#FF97FF",
           "#FECB52"
          ],
          "font": {
           "color": "#2a3f5f"
          },
          "geo": {
           "bgcolor": "white",
           "lakecolor": "white",
           "landcolor": "#E5ECF6",
           "showlakes": true,
           "showland": true,
           "subunitcolor": "white"
          },
          "hoverlabel": {
           "align": "left"
          },
          "hovermode": "closest",
          "mapbox": {
           "style": "light"
          },
          "paper_bgcolor": "white",
          "plot_bgcolor": "#E5ECF6",
          "polar": {
           "angularaxis": {
            "gridcolor": "white",
            "linecolor": "white",
            "ticks": ""
           },
           "bgcolor": "#E5ECF6",
           "radialaxis": {
            "gridcolor": "white",
            "linecolor": "white",
            "ticks": ""
           }
          },
          "scene": {
           "xaxis": {
            "backgroundcolor": "#E5ECF6",
            "gridcolor": "white",
            "gridwidth": 2,
            "linecolor": "white",
            "showbackground": true,
            "ticks": "",
            "zerolinecolor": "white"
           },
           "yaxis": {
            "backgroundcolor": "#E5ECF6",
            "gridcolor": "white",
            "gridwidth": 2,
            "linecolor": "white",
            "showbackground": true,
            "ticks": "",
            "zerolinecolor": "white"
           },
           "zaxis": {
            "backgroundcolor": "#E5ECF6",
            "gridcolor": "white",
            "gridwidth": 2,
            "linecolor": "white",
            "showbackground": true,
            "ticks": "",
            "zerolinecolor": "white"
           }
          },
          "shapedefaults": {
           "line": {
            "color": "#2a3f5f"
           }
          },
          "ternary": {
           "aaxis": {
            "gridcolor": "white",
            "linecolor": "white",
            "ticks": ""
           },
           "baxis": {
            "gridcolor": "white",
            "linecolor": "white",
            "ticks": ""
           },
           "bgcolor": "#E5ECF6",
           "caxis": {
            "gridcolor": "white",
            "linecolor": "white",
            "ticks": ""
           }
          },
          "title": {
           "x": 0.05
          },
          "xaxis": {
           "automargin": true,
           "gridcolor": "white",
           "linecolor": "white",
           "ticks": "",
           "title": {
            "standoff": 15
           },
           "zerolinecolor": "white",
           "zerolinewidth": 2
          },
          "yaxis": {
           "automargin": true,
           "gridcolor": "white",
           "linecolor": "white",
           "ticks": "",
           "title": {
            "standoff": 15
           },
           "zerolinecolor": "white",
           "zerolinewidth": 2
          }
         }
        },
        "title": {
         "text": "Life expectancy in Canada"
        },
        "xaxis": {
         "anchor": "y",
         "domain": [
          0,
          1
         ],
         "title": {
          "text": "year_of_release"
         }
        },
        "yaxis": {
         "anchor": "x",
         "domain": [
          0,
          1
         ],
         "title": {
          "text": "all_sales"
         }
        }
       }
      }
     },
     "metadata": {},
     "output_type": "display_data"
    }
   ],
   "source": [
    "px.line(sales_by_platform_from2013, \n",
    "        x=\"year_of_release\", \n",
    "        y='all_sales', \n",
    "        color='platform', \n",
    "        title='Life expectancy in Canada')"
   ]
  },
  {
   "cell_type": "code",
   "execution_count": 96,
   "metadata": {},
   "outputs": [
    {
     "ename": "TypeError",
     "evalue": "line() got an unexpected keyword argument 'column'",
     "output_type": "error",
     "traceback": [
      "\u001b[1;31m---------------------------------------------------------------------------\u001b[0m",
      "\u001b[1;31mTypeError\u001b[0m                                 Traceback (most recent call last)",
      "\u001b[1;32m~\\AppData\\Local\\Temp/ipykernel_24624/1126520929.py\u001b[0m in \u001b[0;36m<module>\u001b[1;34m\u001b[0m\n\u001b[1;32m----> 1\u001b[1;33m \u001b[0msales_by_platform_from2013\u001b[0m\u001b[1;33m.\u001b[0m\u001b[0mplot\u001b[0m\u001b[1;33m.\u001b[0m\u001b[0mline\u001b[0m\u001b[1;33m(\u001b[0m\u001b[0mcolumn\u001b[0m\u001b[1;33m=\u001b[0m\u001b[1;34m'all_sales'\u001b[0m\u001b[1;33m,\u001b[0m \u001b[0mby\u001b[0m\u001b[1;33m=\u001b[0m\u001b[1;34m\"platform\"\u001b[0m\u001b[1;33m,\u001b[0m \u001b[0mx\u001b[0m\u001b[1;33m=\u001b[0m\u001b[1;34m'year_of_release'\u001b[0m\u001b[1;33m,\u001b[0m \u001b[0mfigsize\u001b[0m\u001b[1;33m=\u001b[0m\u001b[1;33m(\u001b[0m\u001b[1;36m16\u001b[0m\u001b[1;33m,\u001b[0m \u001b[1;36m18\u001b[0m\u001b[1;33m)\u001b[0m\u001b[1;33m,\u001b[0m \u001b[0mgrid\u001b[0m\u001b[1;33m=\u001b[0m\u001b[1;32mTrue\u001b[0m\u001b[1;33m)\u001b[0m\u001b[1;33m;\u001b[0m\u001b[1;33m\u001b[0m\u001b[1;33m\u001b[0m\u001b[0m\n\u001b[0m",
      "\u001b[1;32md:\\dev\\py\\.env_jupyter\\lib\\site-packages\\pandas\\plotting\\_core.py\u001b[0m in \u001b[0;36mline\u001b[1;34m(self, x, y, **kwargs)\u001b[0m\n\u001b[0;32m   1039\u001b[0m         \u001b[1;32mas\u001b[0m \u001b[0mcoordinates\u001b[0m\u001b[1;33m.\u001b[0m\u001b[1;33m\u001b[0m\u001b[1;33m\u001b[0m\u001b[0m\n\u001b[0;32m   1040\u001b[0m         \"\"\"\n\u001b[1;32m-> 1041\u001b[1;33m         \u001b[1;32mreturn\u001b[0m \u001b[0mself\u001b[0m\u001b[1;33m(\u001b[0m\u001b[0mkind\u001b[0m\u001b[1;33m=\u001b[0m\u001b[1;34m\"line\"\u001b[0m\u001b[1;33m,\u001b[0m \u001b[0mx\u001b[0m\u001b[1;33m=\u001b[0m\u001b[0mx\u001b[0m\u001b[1;33m,\u001b[0m \u001b[0my\u001b[0m\u001b[1;33m=\u001b[0m\u001b[0my\u001b[0m\u001b[1;33m,\u001b[0m \u001b[1;33m**\u001b[0m\u001b[0mkwargs\u001b[0m\u001b[1;33m)\u001b[0m\u001b[1;33m\u001b[0m\u001b[1;33m\u001b[0m\u001b[0m\n\u001b[0m\u001b[0;32m   1042\u001b[0m \u001b[1;33m\u001b[0m\u001b[0m\n\u001b[0;32m   1043\u001b[0m     @Appender(\n",
      "\u001b[1;32md:\\dev\\py\\.env_jupyter\\lib\\site-packages\\pandas\\plotting\\_core.py\u001b[0m in \u001b[0;36m__call__\u001b[1;34m(self, *args, **kwargs)\u001b[0m\n\u001b[0;32m    900\u001b[0m         \u001b[1;31m# when using another backend, get out of the way\u001b[0m\u001b[1;33m\u001b[0m\u001b[1;33m\u001b[0m\u001b[0m\n\u001b[0;32m    901\u001b[0m         \u001b[1;32mif\u001b[0m \u001b[0mplot_backend\u001b[0m\u001b[1;33m.\u001b[0m\u001b[0m__name__\u001b[0m \u001b[1;33m!=\u001b[0m \u001b[1;34m\"pandas.plotting._matplotlib\"\u001b[0m\u001b[1;33m:\u001b[0m\u001b[1;33m\u001b[0m\u001b[1;33m\u001b[0m\u001b[0m\n\u001b[1;32m--> 902\u001b[1;33m             \u001b[1;32mreturn\u001b[0m \u001b[0mplot_backend\u001b[0m\u001b[1;33m.\u001b[0m\u001b[0mplot\u001b[0m\u001b[1;33m(\u001b[0m\u001b[0mself\u001b[0m\u001b[1;33m.\u001b[0m\u001b[0m_parent\u001b[0m\u001b[1;33m,\u001b[0m \u001b[0mx\u001b[0m\u001b[1;33m=\u001b[0m\u001b[0mx\u001b[0m\u001b[1;33m,\u001b[0m \u001b[0my\u001b[0m\u001b[1;33m=\u001b[0m\u001b[0my\u001b[0m\u001b[1;33m,\u001b[0m \u001b[0mkind\u001b[0m\u001b[1;33m=\u001b[0m\u001b[0mkind\u001b[0m\u001b[1;33m,\u001b[0m \u001b[1;33m**\u001b[0m\u001b[0mkwargs\u001b[0m\u001b[1;33m)\u001b[0m\u001b[1;33m\u001b[0m\u001b[1;33m\u001b[0m\u001b[0m\n\u001b[0m\u001b[0;32m    903\u001b[0m \u001b[1;33m\u001b[0m\u001b[0m\n\u001b[0;32m    904\u001b[0m         \u001b[1;32mif\u001b[0m \u001b[0mkind\u001b[0m \u001b[1;32mnot\u001b[0m \u001b[1;32min\u001b[0m \u001b[0mself\u001b[0m\u001b[1;33m.\u001b[0m\u001b[0m_all_kinds\u001b[0m\u001b[1;33m:\u001b[0m\u001b[1;33m\u001b[0m\u001b[1;33m\u001b[0m\u001b[0m\n",
      "\u001b[1;32md:\\dev\\py\\.env_jupyter\\lib\\site-packages\\plotly\\__init__.py\u001b[0m in \u001b[0;36mplot\u001b[1;34m(data_frame, kind, **kwargs)\u001b[0m\n\u001b[0;32m    101\u001b[0m         \u001b[1;32mreturn\u001b[0m \u001b[0mscatter\u001b[0m\u001b[1;33m(\u001b[0m\u001b[0mdata_frame\u001b[0m\u001b[1;33m,\u001b[0m \u001b[1;33m**\u001b[0m\u001b[0mnew_kwargs\u001b[0m\u001b[1;33m)\u001b[0m\u001b[1;33m\u001b[0m\u001b[1;33m\u001b[0m\u001b[0m\n\u001b[0;32m    102\u001b[0m     \u001b[1;32mif\u001b[0m \u001b[0mkind\u001b[0m \u001b[1;33m==\u001b[0m \u001b[1;34m\"line\"\u001b[0m\u001b[1;33m:\u001b[0m\u001b[1;33m\u001b[0m\u001b[1;33m\u001b[0m\u001b[0m\n\u001b[1;32m--> 103\u001b[1;33m         \u001b[1;32mreturn\u001b[0m \u001b[0mline\u001b[0m\u001b[1;33m(\u001b[0m\u001b[0mdata_frame\u001b[0m\u001b[1;33m,\u001b[0m \u001b[1;33m**\u001b[0m\u001b[0mkwargs\u001b[0m\u001b[1;33m)\u001b[0m\u001b[1;33m\u001b[0m\u001b[1;33m\u001b[0m\u001b[0m\n\u001b[0m\u001b[0;32m    104\u001b[0m     \u001b[1;32mif\u001b[0m \u001b[0mkind\u001b[0m \u001b[1;33m==\u001b[0m \u001b[1;34m\"area\"\u001b[0m\u001b[1;33m:\u001b[0m\u001b[1;33m\u001b[0m\u001b[1;33m\u001b[0m\u001b[0m\n\u001b[0;32m    105\u001b[0m         \u001b[1;32mreturn\u001b[0m \u001b[0marea\u001b[0m\u001b[1;33m(\u001b[0m\u001b[0mdata_frame\u001b[0m\u001b[1;33m,\u001b[0m \u001b[1;33m**\u001b[0m\u001b[0mkwargs\u001b[0m\u001b[1;33m)\u001b[0m\u001b[1;33m\u001b[0m\u001b[1;33m\u001b[0m\u001b[0m\n",
      "\u001b[1;31mTypeError\u001b[0m: line() got an unexpected keyword argument 'column'"
     ]
    }
   ],
   "source": [
    "sales_by_platform_from2013.plot.line(column='all_sales', by=\"platform\", x='year_of_release', figsize=(16, 18), grid=True);"
   ]
  },
  {
   "cell_type": "code",
   "execution_count": null,
   "metadata": {},
   "outputs": [
    {
     "data": {
      "image/png": "[encoded data removed]",
      "text/plain": [
       "<Figure size 648x432 with 1 Axes>"
      ]
     },
     "metadata": {
      "needs_background": "light"
     },
     "output_type": "display_data"
    }
   ],
   "source": [
    "sales_by_platform_from2013.query('platform == \"WiiU\"')\\\n",
    "    .plot(kind='scatter', x='year_of_release', y='all_sales', figsize=(9,6), legend=True, grid=True);\n",
    "\n",
    "# wiiu, ps3, PSV идет на спад"
   ]
  },
  {
   "cell_type": "markdown",
   "metadata": {},
   "source": [
    "### Постройте график «ящик с усами» по глобальным продажам игр в разбивке по платформам. Опишите результат"
   ]
  },
  {
   "cell_type": "code",
   "execution_count": null,
   "metadata": {},
   "outputs": [
    {
     "data": {
      "application/vnd.plotly.v1+json": {
       "config": {
        "plotlyServerURL": "https://plot.ly"
       },
       "data": [
        {
         "alignmentgroup": "True",
         "hovertemplate": "platform=%{x}<br>all_sales=%{y}<extra></extra>",
         "legendgroup": "",
         "marker": {
          "color": "#636efa"
         },
         "name": "",
         "notched": false,
         "offsetgroup": "",
         "orientation": "v",
         "showlegend": false,
         "type": "box",
         "x": [
          "3DS",
          "DS",
          "PC",
          "PS3",
          "PS4",
          "PSP",
          "PSV",
          "Wii",
          "WiiU",
          "X360",
          "XOne",
          "3DS",
          "PC",
          "PS3",
          "PS4",
          "PSP",
          "PSV",
          "Wii",
          "WiiU",
          "X360",
          "XOne",
          "3DS",
          "PC",
          "PS3",
          "PS4",
          "PSP",
          "PSV",
          "Wii",
          "WiiU",
          "X360",
          "XOne",
          "3DS",
          "PC",
          "PS3",
          "PS4",
          "PSV",
          "Wii",
          "WiiU",
          "X360",
          "XOne"
         ],
         "x0": " ",
         "xaxis": "x",
         "y": [
          56.57,
          1.54,
          12.38,
          113.25,
          25.99,
          3.14,
          10.59,
          8.59,
          21.650000000000002,
          88.58,
          18.96,
          43.76,
          13.280000000000001,
          47.760000000000005,
          100,
          0.24,
          11.9,
          3.75,
          22.03,
          34.74,
          54.07,
          27.78,
          8.520000000000001,
          16.82,
          118.9,
          0.12,
          6.25,
          1.14,
          16.35,
          11.959999999999999,
          60.14,
          15.14,
          5.25,
          3.6,
          69.25,
          4.25,
          0.18,
          4.6000000000000005,
          1.52,
          26.150000000000002
         ],
         "y0": " ",
         "yaxis": "y"
        }
       ],
       "layout": {
        "boxmode": "group",
        "legend": {
         "tracegroupgap": 0
        },
        "margin": {
         "t": 60
        },
        "template": {
         "data": {
          "bar": [
           {
            "error_x": {
             "color": "#2a3f5f"
            },
            "error_y": {
             "color": "#2a3f5f"
            },
            "marker": {
             "line": {
              "color": "#E5ECF6",
              "width": 0.5
             },
             "pattern": {
              "fillmode": "overlay",
              "size": 10,
              "solidity": 0.2
             }
            },
            "type": "bar"
           }
          ],
          "barpolar": [
           {
            "marker": {
             "line": {
              "color": "#E5ECF6",
              "width": 0.5
             },
             "pattern": {
              "fillmode": "overlay",
              "size": 10,
              "solidity": 0.2
             }
            },
            "type": "barpolar"
           }
          ],
          "carpet": [
           {
            "aaxis": {
             "endlinecolor": "#2a3f5f",
             "gridcolor": "white",
             "linecolor": "white",
             "minorgridcolor": "white",
             "startlinecolor": "#2a3f5f"
            },
            "baxis": {
             "endlinecolor": "#2a3f5f",
             "gridcolor": "white",
             "linecolor": "white",
             "minorgridcolor": "white",
             "startlinecolor": "#2a3f5f"
            },
            "type": "carpet"
           }
          ],
          "choropleth": [
           {
            "colorbar": {
             "outlinewidth": 0,
             "ticks": ""
            },
            "type": "choropleth"
           }
          ],
          "contour": [
           {
            "colorbar": {
             "outlinewidth": 0,
             "ticks": ""
            },
            "colorscale": [
             [
              0,
              "#0d0887"
             ],
             [
              0.1111111111111111,
              "#46039f"
             ],
             [
              0.2222222222222222,
              "#7201a8"
             ],
             [
              0.3333333333333333,
              "#9c179e"
             ],
             [
              0.4444444444444444,
              "#bd3786"
             ],
             [
              0.5555555555555556,
              "#d8576b"
             ],
             [
              0.6666666666666666,
              "#ed7953"
             ],
             [
              0.7777777777777778,
              "#fb9f3a"
             ],
             [
              0.8888888888888888,
              "#fdca26"
             ],
             [
              1,
              "#f0f921"
             ]
            ],
            "type": "contour"
           }
          ],
          "contourcarpet": [
           {
            "colorbar": {
             "outlinewidth": 0,
             "ticks": ""
            },
            "type": "contourcarpet"
           }
          ],
          "heatmap": [
           {
            "colorbar": {
             "outlinewidth": 0,
             "ticks": ""
            },
            "colorscale": [
             [
              0,
              "#0d0887"
             ],
             [
              0.1111111111111111,
              "#46039f"
             ],
             [
              0.2222222222222222,
              "#7201a8"
             ],
             [
              0.3333333333333333,
              "#9c179e"
             ],
             [
              0.4444444444444444,
              "#bd3786"
             ],
             [
              0.5555555555555556,
              "#d8576b"
             ],
             [
              0.6666666666666666,
              "#ed7953"
             ],
             [
              0.7777777777777778,
              "#fb9f3a"
             ],
             [
              0.8888888888888888,
              "#fdca26"
             ],
             [
              1,
              "#f0f921"
             ]
            ],
            "type": "heatmap"
           }
          ],
          "heatmapgl": [
           {
            "colorbar": {
             "outlinewidth": 0,
             "ticks": ""
            },
            "colorscale": [
             [
              0,
              "#0d0887"
             ],
             [
              0.1111111111111111,
              "#46039f"
             ],
             [
              0.2222222222222222,
              "#7201a8"
             ],
             [
              0.3333333333333333,
              "#9c179e"
             ],
             [
              0.4444444444444444,
              "#bd3786"
             ],
             [
              0.5555555555555556,
              "#d8576b"
             ],
             [
              0.6666666666666666,
              "#ed7953"
             ],
             [
              0.7777777777777778,
              "#fb9f3a"
             ],
             [
              0.8888888888888888,
              "#fdca26"
             ],
             [
              1,
              "#f0f921"
             ]
            ],
            "type": "heatmapgl"
           }
          ],
          "histogram": [
           {
            "marker": {
             "pattern": {
              "fillmode": "overlay",
              "size": 10,
              "solidity": 0.2
             }
            },
            "type": "histogram"
           }
          ],
          "histogram2d": [
           {
            "colorbar": {
             "outlinewidth": 0,
             "ticks": ""
            },
            "colorscale": [
             [
              0,
              "#0d0887"
             ],
             [
              0.1111111111111111,
              "#46039f"
             ],
             [
              0.2222222222222222,
              "#7201a8"
             ],
             [
              0.3333333333333333,
              "#9c179e"
             ],
             [
              0.4444444444444444,
              "#bd3786"
             ],
             [
              0.5555555555555556,
              "#d8576b"
             ],
             [
              0.6666666666666666,
              "#ed7953"
             ],
             [
              0.7777777777777778,
              "#fb9f3a"
             ],
             [
              0.8888888888888888,
              "#fdca26"
             ],
             [
              1,
              "#f0f921"
             ]
            ],
            "type": "histogram2d"
           }
          ],
          "histogram2dcontour": [
           {
            "colorbar": {
             "outlinewidth": 0,
             "ticks": ""
            },
            "colorscale": [
             [
              0,
              "#0d0887"
             ],
             [
              0.1111111111111111,
              "#46039f"
             ],
             [
              0.2222222222222222,
              "#7201a8"
             ],
             [
              0.3333333333333333,
              "#9c179e"
             ],
             [
              0.4444444444444444,
              "#bd3786"
             ],
             [
              0.5555555555555556,
              "#d8576b"
             ],
             [
              0.6666666666666666,
              "#ed7953"
             ],
             [
              0.7777777777777778,
              "#fb9f3a"
             ],
             [
              0.8888888888888888,
              "#fdca26"
             ],
             [
              1,
              "#f0f921"
             ]
            ],
            "type": "histogram2dcontour"
           }
          ],
          "mesh3d": [
           {
            "colorbar": {
             "outlinewidth": 0,
             "ticks": ""
            },
            "type": "mesh3d"
           }
          ],
          "parcoords": [
           {
            "line": {
             "colorbar": {
              "outlinewidth": 0,
              "ticks": ""
             }
            },
            "type": "parcoords"
           }
          ],
          "pie": [
           {
            "automargin": true,
            "type": "pie"
           }
          ],
          "scatter": [
           {
            "fillpattern": {
             "fillmode": "overlay",
             "size": 10,
             "solidity": 0.2
            },
            "type": "scatter"
           }
          ],
          "scatter3d": [
           {
            "line": {
             "colorbar": {
              "outlinewidth": 0,
              "ticks": ""
             }
            },
            "marker": {
             "colorbar": {
              "outlinewidth": 0,
              "ticks": ""
             }
            },
            "type": "scatter3d"
           }
          ],
          "scattercarpet": [
           {
            "marker": {
             "colorbar": {
              "outlinewidth": 0,
              "ticks": ""
             }
            },
            "type": "scattercarpet"
           }
          ],
          "scattergeo": [
           {
            "marker": {
             "colorbar": {
              "outlinewidth": 0,
              "ticks": ""
             }
            },
            "type": "scattergeo"
           }
          ],
          "scattergl": [
           {
            "marker": {
             "colorbar": {
              "outlinewidth": 0,
              "ticks": ""
             }
            },
            "type": "scattergl"
           }
          ],
          "scattermapbox": [
           {
            "marker": {
             "colorbar": {
              "outlinewidth": 0,
              "ticks": ""
             }
            },
            "type": "scattermapbox"
           }
          ],
          "scatterpolar": [
           {
            "marker": {
             "colorbar": {
              "outlinewidth": 0,
              "ticks": ""
             }
            },
            "type": "scatterpolar"
           }
          ],
          "scatterpolargl": [
           {
            "marker": {
             "colorbar": {
              "outlinewidth": 0,
              "ticks": ""
             }
            },
            "type": "scatterpolargl"
           }
          ],
          "scatterternary": [
           {
            "marker": {
             "colorbar": {
              "outlinewidth": 0,
              "ticks": ""
             }
            },
            "type": "scatterternary"
           }
          ],
          "surface": [
           {
            "colorbar": {
             "outlinewidth": 0,
             "ticks": ""
            },
            "colorscale": [
             [
              0,
              "#0d0887"
             ],
             [
              0.1111111111111111,
              "#46039f"
             ],
             [
              0.2222222222222222,
              "#7201a8"
             ],
             [
              0.3333333333333333,
              "#9c179e"
             ],
             [
              0.4444444444444444,
              "#bd3786"
             ],
             [
              0.5555555555555556,
              "#d8576b"
             ],
             [
              0.6666666666666666,
              "#ed7953"
             ],
             [
              0.7777777777777778,
              "#fb9f3a"
             ],
             [
              0.8888888888888888,
              "#fdca26"
             ],
             [
              1,
              "#f0f921"
             ]
            ],
            "type": "surface"
           }
          ],
          "table": [
           {
            "cells": {
             "fill": {
              "color": "#EBF0F8"
             },
             "line": {
              "color": "white"
             }
            },
            "header": {
             "fill": {
              "color": "#C8D4E3"
             },
             "line": {
              "color": "white"
             }
            },
            "type": "table"
           }
          ]
         },
         "layout": {
          "annotationdefaults": {
           "arrowcolor": "#2a3f5f",
           "arrowhead": 0,
           "arrowwidth": 1
          },
          "autotypenumbers": "strict",
          "coloraxis": {
           "colorbar": {
            "outlinewidth": 0,
            "ticks": ""
           }
          },
          "colorscale": {
           "diverging": [
            [
             0,
             "#8e0152"
            ],
            [
             0.1,
             "#c51b7d"
            ],
            [
             0.2,
             "#de77ae"
            ],
            [
             0.3,
             "#f1b6da"
            ],
            [
             0.4,
             "#fde0ef"
            ],
            [
             0.5,
             "#f7f7f7"
            ],
            [
             0.6,
             "#e6f5d0"
            ],
            [
             0.7,
             "#b8e186"
            ],
            [
             0.8,
             "#7fbc41"
            ],
            [
             0.9,
             "#4d9221"
            ],
            [
             1,
             "#276419"
            ]
           ],
           "sequential": [
            [
             0,
             "#0d0887"
            ],
            [
             0.1111111111111111,
             "#46039f"
            ],
            [
             0.2222222222222222,
             "#7201a8"
            ],
            [
             0.3333333333333333,
             "#9c179e"
            ],
            [
             0.4444444444444444,
             "#bd3786"
            ],
            [
             0.5555555555555556,
             "#d8576b"
            ],
            [
             0.6666666666666666,
             "#ed7953"
            ],
            [
             0.7777777777777778,
             "#fb9f3a"
            ],
            [
             0.8888888888888888,
             "#fdca26"
            ],
            [
             1,
             "#f0f921"
            ]
           ],
           "sequentialminus": [
            [
             0,
             "#0d0887"
            ],
            [
             0.1111111111111111,
             "#46039f"
            ],
            [
             0.2222222222222222,
             "#7201a8"
            ],
            [
             0.3333333333333333,
             "#9c179e"
            ],
            [
             0.4444444444444444,
             "#bd3786"
            ],
            [
             0.5555555555555556,
             "#d8576b"
            ],
            [
             0.6666666666666666,
             "#ed7953"
            ],
            [
             0.7777777777777778,
             "#fb9f3a"
            ],
            [
             0.8888888888888888,
             "#fdca26"
            ],
            [
             1,
             "#f0f921"
            ]
           ]
          },
          "colorway": [
           "#636efa",
           "#EF553B",
           "#00cc96",
           "#ab63fa",
           "#FFA15A",
           "#19d3f3",
           "#FF6692",
           "#B6E880",
           "#FF97FF",
           "#FECB52"
          ],
          "font": {
           "color": "#2a3f5f"
          },
          "geo": {
           "bgcolor": "white",
           "lakecolor": "white",
           "landcolor": "#E5ECF6",
           "showlakes": true,
           "showland": true,
           "subunitcolor": "white"
          },
          "hoverlabel": {
           "align": "left"
          },
          "hovermode": "closest",
          "mapbox": {
           "style": "light"
          },
          "paper_bgcolor": "white",
          "plot_bgcolor": "#E5ECF6",
          "polar": {
           "angularaxis": {
            "gridcolor": "white",
            "linecolor": "white",
            "ticks": ""
           },
           "bgcolor": "#E5ECF6",
           "radialaxis": {
            "gridcolor": "white",
            "linecolor": "white",
            "ticks": ""
           }
          },
          "scene": {
           "xaxis": {
            "backgroundcolor": "#E5ECF6",
            "gridcolor": "white",
            "gridwidth": 2,
            "linecolor": "white",
            "showbackground": true,
            "ticks": "",
            "zerolinecolor": "white"
           },
           "yaxis": {
            "backgroundcolor": "#E5ECF6",
            "gridcolor": "white",
            "gridwidth": 2,
            "linecolor": "white",
            "showbackground": true,
            "ticks": "",
            "zerolinecolor": "white"
           },
           "zaxis": {
            "backgroundcolor": "#E5ECF6",
            "gridcolor": "white",
            "gridwidth": 2,
            "linecolor": "white",
            "showbackground": true,
            "ticks": "",
            "zerolinecolor": "white"
           }
          },
          "shapedefaults": {
           "line": {
            "color": "#2a3f5f"
           }
          },
          "ternary": {
           "aaxis": {
            "gridcolor": "white",
            "linecolor": "white",
            "ticks": ""
           },
           "baxis": {
            "gridcolor": "white",
            "linecolor": "white",
            "ticks": ""
           },
           "bgcolor": "#E5ECF6",
           "caxis": {
            "gridcolor": "white",
            "linecolor": "white",
            "ticks": ""
           }
          },
          "title": {
           "x": 0.05
          },
          "xaxis": {
           "automargin": true,
           "gridcolor": "white",
           "linecolor": "white",
           "ticks": "",
           "title": {
            "standoff": 15
           },
           "zerolinecolor": "white",
           "zerolinewidth": 2
          },
          "yaxis": {
           "automargin": true,
           "gridcolor": "white",
           "linecolor": "white",
           "ticks": "",
           "title": {
            "standoff": 15
           },
           "zerolinecolor": "white",
           "zerolinewidth": 2
          }
         }
        },
        "xaxis": {
         "anchor": "y",
         "domain": [
          0,
          1
         ],
         "title": {
          "text": "platform"
         }
        },
        "yaxis": {
         "anchor": "x",
         "domain": [
          0,
          1
         ],
         "title": {
          "text": "all_sales"
         }
        }
       }
      }
     },
     "metadata": {},
     "output_type": "display_data"
    }
   ],
   "source": [
    "px.box(sales_by_platform_from2013, \n",
    "        x=\"platform\", \n",
    "        y=\"all_sales\")"
   ]
  },
  {
   "cell_type": "code",
   "execution_count": null,
   "metadata": {},
   "outputs": [
    {
     "data": {
      "image/png": "[encoded data removed]",
      "text/plain": [
       "<Figure size 792x576 with 1 Axes>"
      ]
     },
     "metadata": {
      "needs_background": "light"
     },
     "output_type": "display_data"
    }
   ],
   "source": [
    "sales_by_platform_from2013.plot.box(column=\"all_sales\", by=\"platform\", figsize=(11, 8), grid=True);"
   ]
  },
  {
   "cell_type": "code",
   "execution_count": null,
   "metadata": {},
   "outputs": [],
   "source": [
    "good_data_2013 = good_data.query('year_of_release >= 2013')"
   ]
  },
  {
   "cell_type": "code",
   "execution_count": null,
   "metadata": {},
   "outputs": [
    {
     "data": {
      "text/plain": [
       "1263"
      ]
     },
     "execution_count": 58,
     "metadata": {},
     "output_type": "execute_result"
    }
   ],
   "source": [
    "game_titles = good_data_2013['name'].unique()\n",
    "\n",
    "len(game_titles)"
   ]
  },
  {
   "cell_type": "code",
   "execution_count": null,
   "metadata": {},
   "outputs": [],
   "source": [
    "platforms_2013 = good_data_2013['platform'].unique()"
   ]
  },
  {
   "cell_type": "code",
   "execution_count": null,
   "metadata": {},
   "outputs": [
    {
     "data": {
      "image/png": "[encoded data removed]",
      "text/plain": [
       "<Figure size 1080x576 with 1 Axes>"
      ]
     },
     "metadata": {
      "needs_background": "light"
     },
     "output_type": "display_data"
    }
   ],
   "source": [
    "q1 = good_data_2013['all_sales'].describe()['25%']\n",
    "q3 = good_data_2013['all_sales'].describe()['75%']\n",
    "iqr = q3 - q1\n",
    "low_lim = q1 - 1.5 * iqr\n",
    "up_lim = q3 + 1.5 * iqr\n",
    "plt.figure(figsize=(15,8))\n",
    "sb.boxplot(data=good_data_2013.query('@low_lim < all_sales < @up_lim'), x='platform', y='all_sales')\n",
    "plt.title('Диаграмма размаха по продажам игр в разбивке по платформам')\n",
    "plt.xlabel('Платформы')\n",
    "plt.ylabel('Продажи');"
   ]
  },
  {
   "cell_type": "code",
   "execution_count": null,
   "metadata": {},
   "outputs": [
    {
     "data": {
      "image/png": "[encoded data removed]",
      "text/plain": [
       "<Figure size 792x432 with 1 Axes>"
      ]
     },
     "metadata": {
      "needs_background": "light"
     },
     "output_type": "display_data"
    }
   ],
   "source": [
    "good_data_2013.boxplot(column='all_sales', by='platform', figsize=(11, 6))\n",
    "plt.ylim(0,4);"
   ]
  },
  {
   "cell_type": "code",
   "execution_count": null,
   "metadata": {},
   "outputs": [
    {
     "data": {
      "text/plain": [
       "<AxesSubplot:title={'center':'all_sales'}, xlabel='platform'>"
      ]
     },
     "execution_count": 62,
     "metadata": {},
     "output_type": "execute_result"
    },
    {
     "data": {
      "image/png": "[encoded data removed]",
      "text/plain": [
       "<Figure size 648x432 with 1 Axes>"
      ]
     },
     "metadata": {
      "needs_background": "light"
     },
     "output_type": "display_data"
    }
   ],
   "source": [
    "q1 = good_data_2013['all_sales'].describe()['25%']\n",
    "q3 = good_data_2013['all_sales'].describe()['75%']\n",
    "iqr = q3 - q1\n",
    "low_lim = q1 - 1.5 * iqr\n",
    "up_lim = q3 + 1.5 * iqr\n",
    "good_data_2013.query('@low_lim < all_sales < @up_lim').boxplot(column='all_sales', by='platform', figsize=(9, 6))"
   ]
  },
  {
   "cell_type": "code",
   "execution_count": null,
   "metadata": {},
   "outputs": [],
   "source": [
    "# for title in platforms_2013:\n",
    "#     good_data_2013.query('platform == @title').boxplot(column='all_sales', by='platform', figsize=(9, 6))"
   ]
  },
  {
   "cell_type": "code",
   "execution_count": null,
   "metadata": {},
   "outputs": [],
   "source": [
    "# for title in platforms_2013:\n",
    "#     good_data_2013.query('platform == @title').plot.box(x='platform', y='all_sales')"
   ]
  },
  {
   "cell_type": "markdown",
   "metadata": {},
   "source": [
    "<pre>\n",
    "Лидеры по продажам - XOne (средняя прибыль больше 40) и PS4 (средняя прибыль больше 80).\n",
    "На втором месте по продажам 3DS и PS3, больше 30.\n",
    "Средняя прибыль X360 яуть превышает 20.\n",
    "Остальные меньше 20.\n",
    "У PS3 и X360 видно что прадажи идут на спад, Q3 длиннее Q1\n",
    "</pre>"
   ]
  },
  {
   "cell_type": "code",
   "execution_count": null,
   "metadata": {},
   "outputs": [],
   "source": [
    "# sales_by_platform_from2013[['platform', 'all_sales']].groupby('platform')\\\n",
    "#     .plot(kind=\"box\", figsize=(9,6), legend=True, xlabel='platform');"
   ]
  },
  {
   "cell_type": "markdown",
   "metadata": {},
   "source": [
    "### Посмотрите, как влияют на продажи внутри одной популярной платформы отзывы пользователей и критиков. Постройте диаграмму рассеяния и посчитайте корреляцию между отзывами и продажами. Сформулируйте выводы"
   ]
  },
  {
   "cell_type": "code",
   "execution_count": null,
   "metadata": {},
   "outputs": [
    {
     "data": {
      "text/html": [
       "<div>\n",
       "<style scoped>\n",
       "    .dataframe tbody tr th:only-of-type {\n",
       "        vertical-align: middle;\n",
       "    }\n",
       "\n",
       "    .dataframe tbody tr th {\n",
       "        vertical-align: top;\n",
       "    }\n",
       "\n",
       "    .dataframe thead th {\n",
       "        text-align: right;\n",
       "    }\n",
       "</style>\n",
       "<table border=\"1\" class=\"dataframe\">\n",
       "  <thead>\n",
       "    <tr style=\"text-align: right;\">\n",
       "      <th></th>\n",
       "      <th>name</th>\n",
       "      <th>platform</th>\n",
       "      <th>year_of_release</th>\n",
       "      <th>genre</th>\n",
       "      <th>na_sales</th>\n",
       "      <th>eu_sales</th>\n",
       "      <th>jp_sales</th>\n",
       "      <th>other_sales</th>\n",
       "      <th>critic_score</th>\n",
       "      <th>user_score</th>\n",
       "      <th>rating</th>\n",
       "      <th>all_sales</th>\n",
       "    </tr>\n",
       "  </thead>\n",
       "  <tbody>\n",
       "    <tr>\n",
       "      <th>4770</th>\n",
       "      <td>Tales of Zestiria</td>\n",
       "      <td>PS4</td>\n",
       "      <td>2015</td>\n",
       "      <td>Role-Playing</td>\n",
       "      <td>0.17</td>\n",
       "      <td>0.15</td>\n",
       "      <td>0.02</td>\n",
       "      <td>0.06</td>\n",
       "      <td>72.0</td>\n",
       "      <td>6.8</td>\n",
       "      <td>T</td>\n",
       "      <td>0.40</td>\n",
       "    </tr>\n",
       "    <tr>\n",
       "      <th>12228</th>\n",
       "      <td>Terraria</td>\n",
       "      <td>PS4</td>\n",
       "      <td>2014</td>\n",
       "      <td>Action</td>\n",
       "      <td>0.00</td>\n",
       "      <td>0.05</td>\n",
       "      <td>0.01</td>\n",
       "      <td>0.01</td>\n",
       "      <td>83.0</td>\n",
       "      <td>7.9</td>\n",
       "      <td>T</td>\n",
       "      <td>0.07</td>\n",
       "    </tr>\n",
       "    <tr>\n",
       "      <th>4879</th>\n",
       "      <td>Saints Row IV</td>\n",
       "      <td>PS4</td>\n",
       "      <td>2015</td>\n",
       "      <td>Action</td>\n",
       "      <td>0.13</td>\n",
       "      <td>0.18</td>\n",
       "      <td>0.03</td>\n",
       "      <td>0.06</td>\n",
       "      <td>NaN</td>\n",
       "      <td>NaN</td>\n",
       "      <td>unrated</td>\n",
       "      <td>0.40</td>\n",
       "    </tr>\n",
       "  </tbody>\n",
       "</table>\n",
       "</div>"
      ],
      "text/plain": [
       "                    name platform  year_of_release         genre  na_sales  \\\n",
       "4770   Tales of Zestiria      PS4             2015  Role-Playing      0.17   \n",
       "12228           Terraria      PS4             2014        Action      0.00   \n",
       "4879       Saints Row IV      PS4             2015        Action      0.13   \n",
       "\n",
       "       eu_sales  jp_sales  other_sales  critic_score  user_score   rating  \\\n",
       "4770       0.15      0.02         0.06          72.0         6.8        T   \n",
       "12228      0.05      0.01         0.01          83.0         7.9        T   \n",
       "4879       0.18      0.03         0.06           NaN         NaN  unrated   \n",
       "\n",
       "       all_sales  \n",
       "4770        0.40  \n",
       "12228       0.07  \n",
       "4879        0.40  "
      ]
     },
     "execution_count": 66,
     "metadata": {},
     "output_type": "execute_result"
    }
   ],
   "source": [
    "# Сделаем отдельный датасет для анализа по PS4\n",
    "ps4_2013 = good_data.query('platform == \"PS4\" and year_of_release >= 2013')\n",
    "ps4_2013.sample(3)"
   ]
  },
  {
   "cell_type": "code",
   "execution_count": null,
   "metadata": {},
   "outputs": [
    {
     "data": {
      "text/html": [
       "<div>\n",
       "<style scoped>\n",
       "    .dataframe tbody tr th:only-of-type {\n",
       "        vertical-align: middle;\n",
       "    }\n",
       "\n",
       "    .dataframe tbody tr th {\n",
       "        vertical-align: top;\n",
       "    }\n",
       "\n",
       "    .dataframe thead th {\n",
       "        text-align: right;\n",
       "    }\n",
       "</style>\n",
       "<table border=\"1\" class=\"dataframe\">\n",
       "  <thead>\n",
       "    <tr style=\"text-align: right;\">\n",
       "      <th></th>\n",
       "      <th>critic_score</th>\n",
       "      <th>user_score</th>\n",
       "      <th>all_sales</th>\n",
       "    </tr>\n",
       "  </thead>\n",
       "  <tbody>\n",
       "    <tr>\n",
       "      <th>critic_score</th>\n",
       "      <td>100.0</td>\n",
       "      <td>56.0</td>\n",
       "      <td>41.0</td>\n",
       "    </tr>\n",
       "    <tr>\n",
       "      <th>user_score</th>\n",
       "      <td>56.0</td>\n",
       "      <td>100.0</td>\n",
       "      <td>-3.0</td>\n",
       "    </tr>\n",
       "    <tr>\n",
       "      <th>all_sales</th>\n",
       "      <td>41.0</td>\n",
       "      <td>-3.0</td>\n",
       "      <td>100.0</td>\n",
       "    </tr>\n",
       "  </tbody>\n",
       "</table>\n",
       "</div>"
      ],
      "text/plain": [
       "              critic_score  user_score  all_sales\n",
       "critic_score         100.0        56.0       41.0\n",
       "user_score            56.0       100.0       -3.0\n",
       "all_sales             41.0        -3.0      100.0"
      ]
     },
     "execution_count": 67,
     "metadata": {},
     "output_type": "execute_result"
    }
   ],
   "source": [
    "round(ps4_2013[['critic_score', 'user_score', 'all_sales']].corr()*100)"
   ]
  },
  {
   "cell_type": "markdown",
   "metadata": {},
   "source": [
    "#### Зависимость продаж от user_score"
   ]
  },
  {
   "cell_type": "code",
   "execution_count": null,
   "metadata": {},
   "outputs": [
    {
     "data": {
      "application/vnd.plotly.v1+json": {
       "config": {
        "plotlyServerURL": "https://plot.ly"
       },
       "data": [
        {
         "hovertemplate": "all_sales=%{marker.color}<br>user_score=%{y}<extra></extra>",
         "legendgroup": "",
         "marker": {
          "color": [
           14.629999999999999,
           12.620000000000001,
           8.58,
           7.98,
           7.66,
           7.6000000000000005,
           7.17,
           6.08,
           5.640000000000001,
           5.39,
           4.72,
           4.62,
           4.470000000000001,
           4.32,
           4.07,
           4.05,
           4.04,
           3.9699999999999998,
           3.96,
           3.96,
           3.87,
           3.8299999999999996,
           3.8,
           3.58,
           3.4200000000000004,
           3.3899999999999997,
           3.2399999999999998,
           3.01,
           2.96,
           2.86,
           2.7899999999999996,
           2.78,
           2.6900000000000004,
           2.48,
           2.4499999999999997,
           2.42,
           2.2600000000000002,
           2.21,
           2.19,
           2.14,
           2.11,
           2.09,
           2.07,
           2.01,
           1.98,
           1.9200000000000002,
           1.9100000000000001,
           1.8800000000000001,
           1.85,
           1.83,
           1.81,
           1.7900000000000003,
           1.74,
           1.75,
           1.7200000000000002,
           1.73,
           1.7200000000000002,
           1.6900000000000002,
           1.6600000000000001,
           1.6600000000000001,
           1.62,
           1.54,
           1.54,
           1.49,
           1.44,
           1.4000000000000001,
           1.3199999999999998,
           1.2699999999999998,
           1.21,
           1.17,
           1.15,
           1.14,
           1.13,
           1.1199999999999999,
           1.1,
           1.0799999999999998,
           1.05,
           1.02,
           0.98,
           0.9700000000000001,
           0.9400000000000001,
           0.93,
           0.92,
           0.93,
           0.92,
           0.9,
           0.9,
           0.91,
           0.89,
           0.88,
           0.86,
           0.8200000000000001,
           0.78,
           0.7600000000000001,
           0.75,
           0.75,
           0.7300000000000001,
           0.73,
           0.73,
           0.73,
           0.72,
           0.73,
           0.7,
           0.71,
           0.6900000000000001,
           0.6900000000000001,
           0.67,
           0.67,
           0.66,
           0.64,
           0.64,
           0.63,
           0.63,
           0.62,
           0.61,
           0.61,
           0.6,
           0.6,
           0.6,
           0.54,
           0.56,
           0.51,
           0.52,
           0.49000000000000005,
           0.47000000000000003,
           0.46,
           0.45,
           0.44,
           0.43,
           0.43,
           0.43,
           0.42,
           0.42,
           0.4,
           0.4,
           0.38999999999999996,
           0.39999999999999997,
           0.4,
           0.39999999999999997,
           0.38,
           0.37999999999999995,
           0.39,
           0.38,
           0.38,
           0.37,
           0.37,
           0.37000000000000005,
           0.36000000000000004,
           0.36,
           0.36000000000000004,
           0.36000000000000004,
           0.35000000000000003,
           0.36,
           0.34,
           0.34,
           0.33999999999999997,
           0.34,
           0.33,
           0.33999999999999997,
           0.32,
           0.32,
           0.3,
           0.3,
           0.31,
           0.3,
           0.3,
           0.3,
           0.29,
           0.28,
           0.27999999999999997,
           0.29000000000000004,
           0.29000000000000004,
           0.27,
           0.27,
           0.26,
           0.26,
           0.26,
           0.26,
           0.24000000000000002,
           0.25,
           0.25,
           0.24000000000000002,
           0.24000000000000002,
           0.24000000000000002,
           0.24000000000000002,
           0.23,
           0.23,
           0.23,
           0.23,
           0.22,
           0.21000000000000002,
           0.21000000000000002,
           0.19999999999999998,
           0.2,
           0.2,
           0.19999999999999998,
           0.2,
           0.2,
           0.19999999999999998,
           0.19,
           0.19,
           0.19999999999999998,
           0.19,
           0.18,
           0.18,
           0.18,
           0.18000000000000002,
           0.17,
           0.17,
           0.16999999999999998,
           0.16,
           0.17,
           0.16999999999999998,
           0.16,
           0.16,
           0.16,
           0.15,
           0.15,
           0.13999999999999999,
           0.15,
           0.14,
           0.13999999999999999,
           0.13999999999999999,
           0.13999999999999999,
           0.13,
           0.13,
           0.12000000000000001,
           0.13,
           0.12,
           0.12,
           0.12000000000000001,
           0.11,
           0.11,
           0.12,
           0.12000000000000001,
           0.12000000000000001,
           0.12000000000000001,
           0.11,
           0.09999999999999999,
           0.11,
           0.1,
           0.09,
           0.1,
           0.09,
           0.1,
           0.1,
           0.1,
           0.09999999999999999,
           0.09,
           0.09,
           0.1,
           0.09000000000000001,
           0.08,
           0.09,
           0.09,
           0.09,
           0.09,
           0.08,
           0.08,
           0.08,
           0.08,
           0.08,
           0.08,
           0.08,
           0.06999999999999999,
           0.09,
           0.09000000000000001,
           0.08,
           0.06999999999999999,
           0.06999999999999999,
           0.08,
           0.07,
           0.08,
           0.08,
           0.08,
           0.06999999999999999,
           0.07,
           0.06999999999999999,
           0.07,
           0.060000000000000005,
           0.06999999999999999,
           0.07,
           0.06999999999999999,
           0.060000000000000005,
           0.060000000000000005,
           0.060000000000000005,
           0.060000000000000005,
           0.06999999999999999,
           0.06,
           0.06,
           0.06,
           0.060000000000000005,
           0.060000000000000005,
           0.060000000000000005,
           0.060000000000000005,
           0.06,
           0.060000000000000005,
           0.05,
           0.05,
           0.05,
           0.05,
           0.060000000000000005,
           0.05,
           0.05,
           0.05,
           0.05,
           0.05,
           0.05,
           0.04,
           0.05,
           0.05,
           0.05,
           0.05,
           0.05,
           0.05,
           0.05,
           0.05,
           0.04,
           0.03,
           0.05,
           0.04,
           0.04,
           0.04,
           0.04,
           0.04,
           0.04,
           0.04,
           0.04,
           0.03,
           0.03,
           0.03,
           0.04,
           0.03,
           0.03,
           0.03,
           0.04,
           0.03,
           0.03,
           0.03,
           0.03,
           0.03,
           0.02,
           0.02,
           0.02,
           0.03,
           0.03,
           0.02,
           0.02,
           0.02,
           0.02,
           0.02,
           0.02,
           0.02,
           0.02,
           0.02,
           0.02,
           0.02,
           0.02,
           0.02,
           0.02,
           0.02,
           0.02,
           0.02,
           0.02,
           0.02,
           0.02,
           0.01,
           0.01,
           0.01,
           0.02,
           0.02,
           0.01,
           0.01,
           0.01,
           0.02,
           0.02,
           0.02,
           0.01,
           0.02,
           0.01,
           0.01,
           0.01,
           0.01,
           0.01,
           0.01,
           0.01,
           0.01,
           0.01,
           0.01,
           0.01,
           0.01,
           0.01
          ],
          "coloraxis": "coloraxis",
          "symbol": "circle"
         },
         "mode": "markers",
         "name": "",
         "orientation": "v",
         "showlegend": false,
         "type": "scatter",
         "x": [
          14.629999999999999,
          12.620000000000001,
          8.58,
          7.98,
          7.66,
          7.6000000000000005,
          7.17,
          6.08,
          5.640000000000001,
          5.39,
          4.72,
          4.62,
          4.470000000000001,
          4.32,
          4.07,
          4.05,
          4.04,
          3.9699999999999998,
          3.96,
          3.96,
          3.87,
          3.8299999999999996,
          3.8,
          3.58,
          3.4200000000000004,
          3.3899999999999997,
          3.2399999999999998,
          3.01,
          2.96,
          2.86,
          2.7899999999999996,
          2.78,
          2.6900000000000004,
          2.48,
          2.4499999999999997,
          2.42,
          2.2600000000000002,
          2.21,
          2.19,
          2.14,
          2.11,
          2.09,
          2.07,
          2.01,
          1.98,
          1.9200000000000002,
          1.9100000000000001,
          1.8800000000000001,
          1.85,
          1.83,
          1.81,
          1.7900000000000003,
          1.74,
          1.75,
          1.7200000000000002,
          1.73,
          1.7200000000000002,
          1.6900000000000002,
          1.6600000000000001,
          1.6600000000000001,
          1.62,
          1.54,
          1.54,
          1.49,
          1.44,
          1.4000000000000001,
          1.3199999999999998,
          1.2699999999999998,
          1.21,
          1.17,
          1.15,
          1.14,
          1.13,
          1.1199999999999999,
          1.1,
          1.0799999999999998,
          1.05,
          1.02,
          0.98,
          0.9700000000000001,
          0.9400000000000001,
          0.93,
          0.92,
          0.93,
          0.92,
          0.9,
          0.9,
          0.91,
          0.89,
          0.88,
          0.86,
          0.8200000000000001,
          0.78,
          0.7600000000000001,
          0.75,
          0.75,
          0.7300000000000001,
          0.73,
          0.73,
          0.73,
          0.72,
          0.73,
          0.7,
          0.71,
          0.6900000000000001,
          0.6900000000000001,
          0.67,
          0.67,
          0.66,
          0.64,
          0.64,
          0.63,
          0.63,
          0.62,
          0.61,
          0.61,
          0.6,
          0.6,
          0.6,
          0.54,
          0.56,
          0.51,
          0.52,
          0.49000000000000005,
          0.47000000000000003,
          0.46,
          0.45,
          0.44,
          0.43,
          0.43,
          0.43,
          0.42,
          0.42,
          0.4,
          0.4,
          0.38999999999999996,
          0.39999999999999997,
          0.4,
          0.39999999999999997,
          0.38,
          0.37999999999999995,
          0.39,
          0.38,
          0.38,
          0.37,
          0.37,
          0.37000000000000005,
          0.36000000000000004,
          0.36,
          0.36000000000000004,
          0.36000000000000004,
          0.35000000000000003,
          0.36,
          0.34,
          0.34,
          0.33999999999999997,
          0.34,
          0.33,
          0.33999999999999997,
          0.32,
          0.32,
          0.3,
          0.3,
          0.31,
          0.3,
          0.3,
          0.3,
          0.29,
          0.28,
          0.27999999999999997,
          0.29000000000000004,
          0.29000000000000004,
          0.27,
          0.27,
          0.26,
          0.26,
          0.26,
          0.26,
          0.24000000000000002,
          0.25,
          0.25,
          0.24000000000000002,
          0.24000000000000002,
          0.24000000000000002,
          0.24000000000000002,
          0.23,
          0.23,
          0.23,
          0.23,
          0.22,
          0.21000000000000002,
          0.21000000000000002,
          0.19999999999999998,
          0.2,
          0.2,
          0.19999999999999998,
          0.2,
          0.2,
          0.19999999999999998,
          0.19,
          0.19,
          0.19999999999999998,
          0.19,
          0.18,
          0.18,
          0.18,
          0.18000000000000002,
          0.17,
          0.17,
          0.16999999999999998,
          0.16,
          0.17,
          0.16999999999999998,
          0.16,
          0.16,
          0.16,
          0.15,
          0.15,
          0.13999999999999999,
          0.15,
          0.14,
          0.13999999999999999,
          0.13999999999999999,
          0.13999999999999999,
          0.13,
          0.13,
          0.12000000000000001,
          0.13,
          0.12,
          0.12,
          0.12000000000000001,
          0.11,
          0.11,
          0.12,
          0.12000000000000001,
          0.12000000000000001,
          0.12000000000000001,
          0.11,
          0.09999999999999999,
          0.11,
          0.1,
          0.09,
          0.1,
          0.09,
          0.1,
          0.1,
          0.1,
          0.09999999999999999,
          0.09,
          0.09,
          0.1,
          0.09000000000000001,
          0.08,
          0.09,
          0.09,
          0.09,
          0.09,
          0.08,
          0.08,
          0.08,
          0.08,
          0.08,
          0.08,
          0.08,
          0.06999999999999999,
          0.09,
          0.09000000000000001,
          0.08,
          0.06999999999999999,
          0.06999999999999999,
          0.08,
          0.07,
          0.08,
          0.08,
          0.08,
          0.06999999999999999,
          0.07,
          0.06999999999999999,
          0.07,
          0.060000000000000005,
          0.06999999999999999,
          0.07,
          0.06999999999999999,
          0.060000000000000005,
          0.060000000000000005,
          0.060000000000000005,
          0.060000000000000005,
          0.06999999999999999,
          0.06,
          0.06,
          0.06,
          0.060000000000000005,
          0.060000000000000005,
          0.060000000000000005,
          0.060000000000000005,
          0.06,
          0.060000000000000005,
          0.05,
          0.05,
          0.05,
          0.05,
          0.060000000000000005,
          0.05,
          0.05,
          0.05,
          0.05,
          0.05,
          0.05,
          0.04,
          0.05,
          0.05,
          0.05,
          0.05,
          0.05,
          0.05,
          0.05,
          0.05,
          0.04,
          0.03,
          0.05,
          0.04,
          0.04,
          0.04,
          0.04,
          0.04,
          0.04,
          0.04,
          0.04,
          0.03,
          0.03,
          0.03,
          0.04,
          0.03,
          0.03,
          0.03,
          0.04,
          0.03,
          0.03,
          0.03,
          0.03,
          0.03,
          0.02,
          0.02,
          0.02,
          0.03,
          0.03,
          0.02,
          0.02,
          0.02,
          0.02,
          0.02,
          0.02,
          0.02,
          0.02,
          0.02,
          0.02,
          0.02,
          0.02,
          0.02,
          0.02,
          0.02,
          0.02,
          0.02,
          0.02,
          0.02,
          0.02,
          0.01,
          0.01,
          0.01,
          0.02,
          0.02,
          0.01,
          0.01,
          0.01,
          0.02,
          0.02,
          0.02,
          0.01,
          0.02,
          0.01,
          0.01,
          0.01,
          0.01,
          0.01,
          0.01,
          0.01,
          0.01,
          0.01,
          0.01,
          0.01,
          0.01,
          0.01
         ],
         "xaxis": "x",
         "y": [
          null,
          8.3,
          4.3,
          null,
          5.7,
          5,
          6.5,
          5.7,
          6.1,
          7.9,
          null,
          8.1,
          3.4,
          null,
          8.4,
          6.3,
          7.7,
          9.2,
          4.9,
          7.6,
          6.7,
          3.7,
          7,
          6.9,
          8.2,
          6.8,
          5.9,
          6.3,
          8.1,
          7.8,
          7.9,
          7.7,
          6.8,
          8.6,
          7,
          null,
          6.3,
          7.3,
          6.1,
          6.1,
          5,
          7.9,
          6.1,
          7.4,
          6.2,
          6,
          7.1,
          6.7,
          6.5,
          null,
          5.1,
          7.3,
          4.9,
          null,
          6.6,
          6.5,
          5.4,
          4.5,
          8.2,
          8.8,
          7.7,
          8.1,
          null,
          null,
          6.5,
          null,
          null,
          6.2,
          7.4,
          null,
          5.1,
          8.2,
          7.8,
          8.1,
          7.7,
          6.6,
          6.1,
          8.5,
          null,
          4.3,
          null,
          6.2,
          7.1,
          7.8,
          null,
          3.4,
          7,
          5.2,
          null,
          7.8,
          6.2,
          null,
          7.1,
          8.4,
          7.2,
          null,
          null,
          null,
          7,
          7.1,
          7.7,
          null,
          7.8,
          7.5,
          null,
          7.1,
          7.1,
          6.3,
          null,
          null,
          7.7,
          null,
          5.5,
          null,
          7.6,
          null,
          6.6,
          6.9,
          3.6,
          7.7,
          null,
          3.7,
          6.6,
          7.7,
          7.4,
          null,
          7.6,
          5.6,
          null,
          8,
          7.2,
          5.5,
          8.7,
          null,
          6.8,
          8.6,
          null,
          null,
          8,
          5.2,
          null,
          5.8,
          6.3,
          7.6,
          null,
          null,
          8.5,
          8.7,
          8.1,
          6.8,
          null,
          3.8,
          7.8,
          4.7,
          7.9,
          null,
          8.3,
          5.8,
          null,
          6.9,
          7.1,
          3.3,
          null,
          7.3,
          null,
          5.7,
          6.6,
          8.1,
          null,
          null,
          null,
          null,
          null,
          8.5,
          8.1,
          null,
          6.8,
          7.1,
          null,
          6.3,
          6.5,
          8.1,
          8.1,
          2.7,
          5.6,
          7.5,
          null,
          null,
          7,
          2,
          null,
          8.4,
          1.5,
          7.4,
          null,
          6.8,
          null,
          8.2,
          5.9,
          7.5,
          4.1,
          7.7,
          null,
          7.8,
          6.4,
          8,
          7.1,
          6.1,
          null,
          null,
          7.6,
          null,
          6.5,
          null,
          null,
          2.9,
          null,
          8.7,
          8.1,
          null,
          7.7,
          5.5,
          8,
          5.9,
          6.4,
          8.6,
          8.2,
          7.6,
          7.4,
          8.1,
          null,
          6.9,
          null,
          7.3,
          3.4,
          8.5,
          null,
          7.9,
          8,
          null,
          null,
          5.9,
          6.3,
          6.8,
          6,
          null,
          null,
          6.5,
          null,
          null,
          null,
          5.5,
          null,
          7.4,
          6.6,
          null,
          null,
          6.1,
          6.7,
          null,
          null,
          7.6,
          6.3,
          7.8,
          7.6,
          null,
          6.1,
          null,
          6.7,
          7.3,
          null,
          8,
          null,
          null,
          7.1,
          7.7,
          6.2,
          8.1,
          7.8,
          null,
          8.6,
          7.9,
          7.2,
          6.2,
          7.6,
          null,
          7.9,
          6.7,
          null,
          null,
          null,
          4.1,
          1.9,
          null,
          3,
          null,
          null,
          null,
          3.5,
          7.8,
          null,
          null,
          8,
          null,
          null,
          8.3,
          null,
          null,
          7.4,
          null,
          5.7,
          3.8,
          8,
          8,
          null,
          8.1,
          7,
          8.1,
          6.9,
          6.8,
          8.3,
          6.6,
          null,
          null,
          7.8,
          7.9,
          6.4,
          null,
          null,
          7.5,
          5.1,
          6.9,
          null,
          7.4,
          null,
          null,
          null,
          null,
          8,
          7.6,
          null,
          8.4,
          null,
          6.6,
          null,
          null,
          6.6,
          7.8,
          6.2,
          null,
          6.4,
          null,
          null,
          7.1,
          null,
          7.6,
          6.5,
          null,
          7.9,
          4.5,
          null,
          4.7,
          6.1,
          8.5,
          null,
          null,
          2,
          null,
          null,
          null,
          null,
          6,
          7.8,
          null,
          null,
          null,
          null,
          null,
          5.8,
          6.2,
          null,
          null,
          null,
          null,
          2.3,
          null,
          6.8,
          7.5,
          null,
          7.9,
          5.5,
          null
         ],
         "yaxis": "y"
        }
       ],
       "layout": {
        "coloraxis": {
         "colorbar": {
          "title": {
           "text": "all_sales"
          }
         },
         "colorscale": [
          [
           0,
           "#0d0887"
          ],
          [
           0.1111111111111111,
           "#46039f"
          ],
          [
           0.2222222222222222,
           "#7201a8"
          ],
          [
           0.3333333333333333,
           "#9c179e"
          ],
          [
           0.4444444444444444,
           "#bd3786"
          ],
          [
           0.5555555555555556,
           "#d8576b"
          ],
          [
           0.6666666666666666,
           "#ed7953"
          ],
          [
           0.7777777777777778,
           "#fb9f3a"
          ],
          [
           0.8888888888888888,
           "#fdca26"
          ],
          [
           1,
           "#f0f921"
          ]
         ]
        },
        "legend": {
         "tracegroupgap": 0
        },
        "margin": {
         "t": 60
        },
        "template": {
         "data": {
          "bar": [
           {
            "error_x": {
             "color": "#2a3f5f"
            },
            "error_y": {
             "color": "#2a3f5f"
            },
            "marker": {
             "line": {
              "color": "#E5ECF6",
              "width": 0.5
             },
             "pattern": {
              "fillmode": "overlay",
              "size": 10,
              "solidity": 0.2
             }
            },
            "type": "bar"
           }
          ],
          "barpolar": [
           {
            "marker": {
             "line": {
              "color": "#E5ECF6",
              "width": 0.5
             },
             "pattern": {
              "fillmode": "overlay",
              "size": 10,
              "solidity": 0.2
             }
            },
            "type": "barpolar"
           }
          ],
          "carpet": [
           {
            "aaxis": {
             "endlinecolor": "#2a3f5f",
             "gridcolor": "white",
             "linecolor": "white",
             "minorgridcolor": "white",
             "startlinecolor": "#2a3f5f"
            },
            "baxis": {
             "endlinecolor": "#2a3f5f",
             "gridcolor": "white",
             "linecolor": "white",
             "minorgridcolor": "white",
             "startlinecolor": "#2a3f5f"
            },
            "type": "carpet"
           }
          ],
          "choropleth": [
           {
            "colorbar": {
             "outlinewidth": 0,
             "ticks": ""
            },
            "type": "choropleth"
           }
          ],
          "contour": [
           {
            "colorbar": {
             "outlinewidth": 0,
             "ticks": ""
            },
            "colorscale": [
             [
              0,
              "#0d0887"
             ],
             [
              0.1111111111111111,
              "#46039f"
             ],
             [
              0.2222222222222222,
              "#7201a8"
             ],
             [
              0.3333333333333333,
              "#9c179e"
             ],
             [
              0.4444444444444444,
              "#bd3786"
             ],
             [
              0.5555555555555556,
              "#d8576b"
             ],
             [
              0.6666666666666666,
              "#ed7953"
             ],
             [
              0.7777777777777778,
              "#fb9f3a"
             ],
             [
              0.8888888888888888,
              "#fdca26"
             ],
             [
              1,
              "#f0f921"
             ]
            ],
            "type": "contour"
           }
          ],
          "contourcarpet": [
           {
            "colorbar": {
             "outlinewidth": 0,
             "ticks": ""
            },
            "type": "contourcarpet"
           }
          ],
          "heatmap": [
           {
            "colorbar": {
             "outlinewidth": 0,
             "ticks": ""
            },
            "colorscale": [
             [
              0,
              "#0d0887"
             ],
             [
              0.1111111111111111,
              "#46039f"
             ],
             [
              0.2222222222222222,
              "#7201a8"
             ],
             [
              0.3333333333333333,
              "#9c179e"
             ],
             [
              0.4444444444444444,
              "#bd3786"
             ],
             [
              0.5555555555555556,
              "#d8576b"
             ],
             [
              0.6666666666666666,
              "#ed7953"
             ],
             [
              0.7777777777777778,
              "#fb9f3a"
             ],
             [
              0.8888888888888888,
              "#fdca26"
             ],
             [
              1,
              "#f0f921"
             ]
            ],
            "type": "heatmap"
           }
          ],
          "heatmapgl": [
           {
            "colorbar": {
             "outlinewidth": 0,
             "ticks": ""
            },
            "colorscale": [
             [
              0,
              "#0d0887"
             ],
             [
              0.1111111111111111,
              "#46039f"
             ],
             [
              0.2222222222222222,
              "#7201a8"
             ],
             [
              0.3333333333333333,
              "#9c179e"
             ],
             [
              0.4444444444444444,
              "#bd3786"
             ],
             [
              0.5555555555555556,
              "#d8576b"
             ],
             [
              0.6666666666666666,
              "#ed7953"
             ],
             [
              0.7777777777777778,
              "#fb9f3a"
             ],
             [
              0.8888888888888888,
              "#fdca26"
             ],
             [
              1,
              "#f0f921"
             ]
            ],
            "type": "heatmapgl"
           }
          ],
          "histogram": [
           {
            "marker": {
             "pattern": {
              "fillmode": "overlay",
              "size": 10,
              "solidity": 0.2
             }
            },
            "type": "histogram"
           }
          ],
          "histogram2d": [
           {
            "colorbar": {
             "outlinewidth": 0,
             "ticks": ""
            },
            "colorscale": [
             [
              0,
              "#0d0887"
             ],
             [
              0.1111111111111111,
              "#46039f"
             ],
             [
              0.2222222222222222,
              "#7201a8"
             ],
             [
              0.3333333333333333,
              "#9c179e"
             ],
             [
              0.4444444444444444,
              "#bd3786"
             ],
             [
              0.5555555555555556,
              "#d8576b"
             ],
             [
              0.6666666666666666,
              "#ed7953"
             ],
             [
              0.7777777777777778,
              "#fb9f3a"
             ],
             [
              0.8888888888888888,
              "#fdca26"
             ],
             [
              1,
              "#f0f921"
             ]
            ],
            "type": "histogram2d"
           }
          ],
          "histogram2dcontour": [
           {
            "colorbar": {
             "outlinewidth": 0,
             "ticks": ""
            },
            "colorscale": [
             [
              0,
              "#0d0887"
             ],
             [
              0.1111111111111111,
              "#46039f"
             ],
             [
              0.2222222222222222,
              "#7201a8"
             ],
             [
              0.3333333333333333,
              "#9c179e"
             ],
             [
              0.4444444444444444,
              "#bd3786"
             ],
             [
              0.5555555555555556,
              "#d8576b"
             ],
             [
              0.6666666666666666,
              "#ed7953"
             ],
             [
              0.7777777777777778,
              "#fb9f3a"
             ],
             [
              0.8888888888888888,
              "#fdca26"
             ],
             [
              1,
              "#f0f921"
             ]
            ],
            "type": "histogram2dcontour"
           }
          ],
          "mesh3d": [
           {
            "colorbar": {
             "outlinewidth": 0,
             "ticks": ""
            },
            "type": "mesh3d"
           }
          ],
          "parcoords": [
           {
            "line": {
             "colorbar": {
              "outlinewidth": 0,
              "ticks": ""
             }
            },
            "type": "parcoords"
           }
          ],
          "pie": [
           {
            "automargin": true,
            "type": "pie"
           }
          ],
          "scatter": [
           {
            "fillpattern": {
             "fillmode": "overlay",
             "size": 10,
             "solidity": 0.2
            },
            "type": "scatter"
           }
          ],
          "scatter3d": [
           {
            "line": {
             "colorbar": {
              "outlinewidth": 0,
              "ticks": ""
             }
            },
            "marker": {
             "colorbar": {
              "outlinewidth": 0,
              "ticks": ""
             }
            },
            "type": "scatter3d"
           }
          ],
          "scattercarpet": [
           {
            "marker": {
             "colorbar": {
              "outlinewidth": 0,
              "ticks": ""
             }
            },
            "type": "scattercarpet"
           }
          ],
          "scattergeo": [
           {
            "marker": {
             "colorbar": {
              "outlinewidth": 0,
              "ticks": ""
             }
            },
            "type": "scattergeo"
           }
          ],
          "scattergl": [
           {
            "marker": {
             "colorbar": {
              "outlinewidth": 0,
              "ticks": ""
             }
            },
            "type": "scattergl"
           }
          ],
          "scattermapbox": [
           {
            "marker": {
             "colorbar": {
              "outlinewidth": 0,
              "ticks": ""
             }
            },
            "type": "scattermapbox"
           }
          ],
          "scatterpolar": [
           {
            "marker": {
             "colorbar": {
              "outlinewidth": 0,
              "ticks": ""
             }
            },
            "type": "scatterpolar"
           }
          ],
          "scatterpolargl": [
           {
            "marker": {
             "colorbar": {
              "outlinewidth": 0,
              "ticks": ""
             }
            },
            "type": "scatterpolargl"
           }
          ],
          "scatterternary": [
           {
            "marker": {
             "colorbar": {
              "outlinewidth": 0,
              "ticks": ""
             }
            },
            "type": "scatterternary"
           }
          ],
          "surface": [
           {
            "colorbar": {
             "outlinewidth": 0,
             "ticks": ""
            },
            "colorscale": [
             [
              0,
              "#0d0887"
             ],
             [
              0.1111111111111111,
              "#46039f"
             ],
             [
              0.2222222222222222,
              "#7201a8"
             ],
             [
              0.3333333333333333,
              "#9c179e"
             ],
             [
              0.4444444444444444,
              "#bd3786"
             ],
             [
              0.5555555555555556,
              "#d8576b"
             ],
             [
              0.6666666666666666,
              "#ed7953"
             ],
             [
              0.7777777777777778,
              "#fb9f3a"
             ],
             [
              0.8888888888888888,
              "#fdca26"
             ],
             [
              1,
              "#f0f921"
             ]
            ],
            "type": "surface"
           }
          ],
          "table": [
           {
            "cells": {
             "fill": {
              "color": "#EBF0F8"
             },
             "line": {
              "color": "white"
             }
            },
            "header": {
             "fill": {
              "color": "#C8D4E3"
             },
             "line": {
              "color": "white"
             }
            },
            "type": "table"
           }
          ]
         },
         "layout": {
          "annotationdefaults": {
           "arrowcolor": "#2a3f5f",
           "arrowhead": 0,
           "arrowwidth": 1
          },
          "autotypenumbers": "strict",
          "coloraxis": {
           "colorbar": {
            "outlinewidth": 0,
            "ticks": ""
           }
          },
          "colorscale": {
           "diverging": [
            [
             0,
             "#8e0152"
            ],
            [
             0.1,
             "#c51b7d"
            ],
            [
             0.2,
             "#de77ae"
            ],
            [
             0.3,
             "#f1b6da"
            ],
            [
             0.4,
             "#fde0ef"
            ],
            [
             0.5,
             "#f7f7f7"
            ],
            [
             0.6,
             "#e6f5d0"
            ],
            [
             0.7,
             "#b8e186"
            ],
            [
             0.8,
             "#7fbc41"
            ],
            [
             0.9,
             "#4d9221"
            ],
            [
             1,
             "#276419"
            ]
           ],
           "sequential": [
            [
             0,
             "#0d0887"
            ],
            [
             0.1111111111111111,
             "#46039f"
            ],
            [
             0.2222222222222222,
             "#7201a8"
            ],
            [
             0.3333333333333333,
             "#9c179e"
            ],
            [
             0.4444444444444444,
             "#bd3786"
            ],
            [
             0.5555555555555556,
             "#d8576b"
            ],
            [
             0.6666666666666666,
             "#ed7953"
            ],
            [
             0.7777777777777778,
             "#fb9f3a"
            ],
            [
             0.8888888888888888,
             "#fdca26"
            ],
            [
             1,
             "#f0f921"
            ]
           ],
           "sequentialminus": [
            [
             0,
             "#0d0887"
            ],
            [
             0.1111111111111111,
             "#46039f"
            ],
            [
             0.2222222222222222,
             "#7201a8"
            ],
            [
             0.3333333333333333,
             "#9c179e"
            ],
            [
             0.4444444444444444,
             "#bd3786"
            ],
            [
             0.5555555555555556,
             "#d8576b"
            ],
            [
             0.6666666666666666,
             "#ed7953"
            ],
            [
             0.7777777777777778,
             "#fb9f3a"
            ],
            [
             0.8888888888888888,
             "#fdca26"
            ],
            [
             1,
             "#f0f921"
            ]
           ]
          },
          "colorway": [
           "#636efa",
           "#EF553B",
           "#00cc96",
           "#ab63fa",
           "#FFA15A",
           "#19d3f3",
           "#FF6692",
           "#B6E880",
           "#FF97FF",
           "#FECB52"
          ],
          "font": {
           "color": "#2a3f5f"
          },
          "geo": {
           "bgcolor": "white",
           "lakecolor": "white",
           "landcolor": "#E5ECF6",
           "showlakes": true,
           "showland": true,
           "subunitcolor": "white"
          },
          "hoverlabel": {
           "align": "left"
          },
          "hovermode": "closest",
          "mapbox": {
           "style": "light"
          },
          "paper_bgcolor": "white",
          "plot_bgcolor": "#E5ECF6",
          "polar": {
           "angularaxis": {
            "gridcolor": "white",
            "linecolor": "white",
            "ticks": ""
           },
           "bgcolor": "#E5ECF6",
           "radialaxis": {
            "gridcolor": "white",
            "linecolor": "white",
            "ticks": ""
           }
          },
          "scene": {
           "xaxis": {
            "backgroundcolor": "#E5ECF6",
            "gridcolor": "white",
            "gridwidth": 2,
            "linecolor": "white",
            "showbackground": true,
            "ticks": "",
            "zerolinecolor": "white"
           },
           "yaxis": {
            "backgroundcolor": "#E5ECF6",
            "gridcolor": "white",
            "gridwidth": 2,
            "linecolor": "white",
            "showbackground": true,
            "ticks": "",
            "zerolinecolor": "white"
           },
           "zaxis": {
            "backgroundcolor": "#E5ECF6",
            "gridcolor": "white",
            "gridwidth": 2,
            "linecolor": "white",
            "showbackground": true,
            "ticks": "",
            "zerolinecolor": "white"
           }
          },
          "shapedefaults": {
           "line": {
            "color": "#2a3f5f"
           }
          },
          "ternary": {
           "aaxis": {
            "gridcolor": "white",
            "linecolor": "white",
            "ticks": ""
           },
           "baxis": {
            "gridcolor": "white",
            "linecolor": "white",
            "ticks": ""
           },
           "bgcolor": "#E5ECF6",
           "caxis": {
            "gridcolor": "white",
            "linecolor": "white",
            "ticks": ""
           }
          },
          "title": {
           "x": 0.05
          },
          "xaxis": {
           "automargin": true,
           "gridcolor": "white",
           "linecolor": "white",
           "ticks": "",
           "title": {
            "standoff": 15
           },
           "zerolinecolor": "white",
           "zerolinewidth": 2
          },
          "yaxis": {
           "automargin": true,
           "gridcolor": "white",
           "linecolor": "white",
           "ticks": "",
           "title": {
            "standoff": 15
           },
           "zerolinecolor": "white",
           "zerolinewidth": 2
          }
         }
        },
        "xaxis": {
         "anchor": "y",
         "domain": [
          0,
          1
         ],
         "title": {
          "text": "all_sales"
         }
        },
        "yaxis": {
         "anchor": "x",
         "domain": [
          0,
          1
         ],
         "title": {
          "text": "user_score"
         }
        }
       }
      }
     },
     "metadata": {},
     "output_type": "display_data"
    }
   ],
   "source": [
    "px.scatter(ps4_2013, \n",
    "            x=\"all_sales\", \n",
    "            y=\"user_score\",\n",
    "            color='all_sales')"
   ]
  },
  {
   "cell_type": "code",
   "execution_count": null,
   "metadata": {},
   "outputs": [
    {
     "data": {
      "image/png": "[encoded data removed]",
      "text/plain": [
       "<Figure size 648x432 with 1 Axes>"
      ]
     },
     "metadata": {
      "needs_background": "light"
     },
     "output_type": "display_data"
    }
   ],
   "source": [
    "ps4_2013.plot(kind='scatter', x='all_sales', y='user_score', figsize=(9,6), grid=True);"
   ]
  },
  {
   "cell_type": "markdown",
   "metadata": {},
   "source": [
    "<pre>\n",
    "Как ни странн, но на плейстейшн пользовательские оценки сильного влияния на продажи не имеют.\n",
    "Зависимость = 3%\n",
    "</pre>"
   ]
  },
  {
   "cell_type": "markdown",
   "metadata": {},
   "source": [
    "#### Зависимость продаж от critic_score"
   ]
  },
  {
   "cell_type": "code",
   "execution_count": null,
   "metadata": {},
   "outputs": [
    {
     "data": {
      "image/png": "[encoded data removed]",
      "text/plain": [
       "<Figure size 648x432 with 1 Axes>"
      ]
     },
     "metadata": {
      "needs_background": "light"
     },
     "output_type": "display_data"
    }
   ],
   "source": [
    "ps4_2013.plot(kind='scatter', x='all_sales', y='critic_score', figsize=(9,6), grid=True);"
   ]
  },
  {
   "cell_type": "markdown",
   "metadata": {},
   "source": [
    "<pre>\n",
    "Большее влиянеие для продаж на плейстейшн имеют оценки критиков.\n",
    "Корреляция = 41%\n",
    "</pre>"
   ]
  },
  {
   "cell_type": "markdown",
   "metadata": {},
   "source": [
    "### Соотнесите выводы с продажами игр на других платформах"
   ]
  },
  {
   "cell_type": "code",
   "execution_count": null,
   "metadata": {},
   "outputs": [
    {
     "data": {
      "text/html": [
       "<style type=\"text/css\">\n",
       "#T_9c4b5_row0_col0, #T_9c4b5_row1_col1, #T_9c4b5_row2_col2, #T_9c4b5_row6_col0, #T_9c4b5_row7_col1, #T_9c4b5_row8_col2, #T_9c4b5_row9_col0, #T_9c4b5_row10_col1, #T_9c4b5_row11_col2, #T_9c4b5_row12_col0, #T_9c4b5_row13_col1, #T_9c4b5_row14_col2, #T_9c4b5_row16_col1, #T_9c4b5_row17_col2, #T_9c4b5_row18_col0, #T_9c4b5_row19_col1, #T_9c4b5_row20_col2, #T_9c4b5_row22_col1, #T_9c4b5_row23_col2, #T_9c4b5_row24_col0, #T_9c4b5_row25_col1, #T_9c4b5_row26_col2, #T_9c4b5_row27_col0, #T_9c4b5_row28_col1, #T_9c4b5_row29_col2, #T_9c4b5_row30_col0, #T_9c4b5_row31_col1, #T_9c4b5_row32_col2 {\n",
       "  background-color: #023858;\n",
       "  color: #f1f1f1;\n",
       "}\n",
       "#T_9c4b5_row0_col1 {\n",
       "  background-color: #045788;\n",
       "  color: #f1f1f1;\n",
       "}\n",
       "#T_9c4b5_row0_col2 {\n",
       "  background-color: #2484ba;\n",
       "  color: #f1f1f1;\n",
       "}\n",
       "#T_9c4b5_row1_col0, #T_9c4b5_row6_col1 {\n",
       "  background-color: #1278b4;\n",
       "  color: #f1f1f1;\n",
       "}\n",
       "#T_9c4b5_row1_col2, #T_9c4b5_row2_col1 {\n",
       "  background-color: #3991c1;\n",
       "  color: #f1f1f1;\n",
       "}\n",
       "#T_9c4b5_row2_col0 {\n",
       "  background-color: #dfddec;\n",
       "  color: #000000;\n",
       "}\n",
       "#T_9c4b5_row3_col0, #T_9c4b5_row3_col1, #T_9c4b5_row3_col2, #T_9c4b5_row4_col0, #T_9c4b5_row4_col1, #T_9c4b5_row4_col2, #T_9c4b5_row5_col0, #T_9c4b5_row5_col1, #T_9c4b5_row5_col2, #T_9c4b5_row15_col0, #T_9c4b5_row15_col1, #T_9c4b5_row15_col2, #T_9c4b5_row16_col0, #T_9c4b5_row17_col0, #T_9c4b5_row21_col0, #T_9c4b5_row21_col1, #T_9c4b5_row21_col2, #T_9c4b5_row22_col0, #T_9c4b5_row23_col0 {\n",
       "  background-color: #000000;\n",
       "  color: #f1f1f1;\n",
       "}\n",
       "#T_9c4b5_row6_col2 {\n",
       "  background-color: #4496c3;\n",
       "  color: #f1f1f1;\n",
       "}\n",
       "#T_9c4b5_row7_col0 {\n",
       "  background-color: #c1cae2;\n",
       "  color: #000000;\n",
       "}\n",
       "#T_9c4b5_row7_col2, #T_9c4b5_row8_col1, #T_9c4b5_row13_col0 {\n",
       "  background-color: #86b0d3;\n",
       "  color: #000000;\n",
       "}\n",
       "#T_9c4b5_row8_col0, #T_9c4b5_row16_col2, #T_9c4b5_row17_col1 {\n",
       "  background-color: #fff7fb;\n",
       "  color: #000000;\n",
       "}\n",
       "#T_9c4b5_row9_col1 {\n",
       "  background-color: #0567a2;\n",
       "  color: #f1f1f1;\n",
       "}\n",
       "#T_9c4b5_row9_col2 {\n",
       "  background-color: #2685bb;\n",
       "  color: #f1f1f1;\n",
       "}\n",
       "#T_9c4b5_row10_col0 {\n",
       "  background-color: #71a8ce;\n",
       "  color: #f1f1f1;\n",
       "}\n",
       "#T_9c4b5_row10_col2, #T_9c4b5_row11_col1, #T_9c4b5_row19_col2, #T_9c4b5_row20_col1 {\n",
       "  background-color: #73a9cf;\n",
       "  color: #f1f1f1;\n",
       "}\n",
       "#T_9c4b5_row11_col0 {\n",
       "  background-color: #e1dfed;\n",
       "  color: #000000;\n",
       "}\n",
       "#T_9c4b5_row12_col1 {\n",
       "  background-color: #056ba7;\n",
       "  color: #f1f1f1;\n",
       "}\n",
       "#T_9c4b5_row12_col2, #T_9c4b5_row30_col2 {\n",
       "  background-color: #167bb6;\n",
       "  color: #f1f1f1;\n",
       "}\n",
       "#T_9c4b5_row13_col2, #T_9c4b5_row14_col1 {\n",
       "  background-color: #79abd0;\n",
       "  color: #f1f1f1;\n",
       "}\n",
       "#T_9c4b5_row14_col0, #T_9c4b5_row32_col0 {\n",
       "  background-color: #c9cee4;\n",
       "  color: #000000;\n",
       "}\n",
       "#T_9c4b5_row18_col1 {\n",
       "  background-color: #0566a0;\n",
       "  color: #f1f1f1;\n",
       "}\n",
       "#T_9c4b5_row18_col2 {\n",
       "  background-color: #358fc0;\n",
       "  color: #f1f1f1;\n",
       "}\n",
       "#T_9c4b5_row19_col0 {\n",
       "  background-color: #6ba5cd;\n",
       "  color: #f1f1f1;\n",
       "}\n",
       "#T_9c4b5_row20_col0 {\n",
       "  background-color: #f4eef6;\n",
       "  color: #000000;\n",
       "}\n",
       "#T_9c4b5_row22_col2, #T_9c4b5_row23_col1 {\n",
       "  background-color: #046096;\n",
       "  color: #f1f1f1;\n",
       "}\n",
       "#T_9c4b5_row24_col1 {\n",
       "  background-color: #045c90;\n",
       "  color: #f1f1f1;\n",
       "}\n",
       "#T_9c4b5_row24_col2 {\n",
       "  background-color: #1c7fb8;\n",
       "  color: #f1f1f1;\n",
       "}\n",
       "#T_9c4b5_row25_col0 {\n",
       "  background-color: #2a88bc;\n",
       "  color: #f1f1f1;\n",
       "}\n",
       "#T_9c4b5_row25_col2, #T_9c4b5_row26_col1 {\n",
       "  background-color: #157ab5;\n",
       "  color: #f1f1f1;\n",
       "}\n",
       "#T_9c4b5_row26_col0 {\n",
       "  background-color: #d3d4e7;\n",
       "  color: #000000;\n",
       "}\n",
       "#T_9c4b5_row27_col1 {\n",
       "  background-color: #056ead;\n",
       "  color: #f1f1f1;\n",
       "}\n",
       "#T_9c4b5_row27_col2 {\n",
       "  background-color: #2383ba;\n",
       "  color: #f1f1f1;\n",
       "}\n",
       "#T_9c4b5_row28_col0 {\n",
       "  background-color: #99b8d8;\n",
       "  color: #000000;\n",
       "}\n",
       "#T_9c4b5_row28_col2, #T_9c4b5_row29_col1 {\n",
       "  background-color: #76aad0;\n",
       "  color: #f1f1f1;\n",
       "}\n",
       "#T_9c4b5_row29_col0 {\n",
       "  background-color: #dcdaeb;\n",
       "  color: #000000;\n",
       "}\n",
       "#T_9c4b5_row30_col1 {\n",
       "  background-color: #0a73b2;\n",
       "  color: #f1f1f1;\n",
       "}\n",
       "#T_9c4b5_row31_col0 {\n",
       "  background-color: #b0c2de;\n",
       "  color: #000000;\n",
       "}\n",
       "#T_9c4b5_row31_col2, #T_9c4b5_row32_col1 {\n",
       "  background-color: #81aed2;\n",
       "  color: #f1f1f1;\n",
       "}\n",
       "</style>\n",
       "<table id=\"T_9c4b5\">\n",
       "  <thead>\n",
       "    <tr>\n",
       "      <th class=\"blank\" >&nbsp;</th>\n",
       "      <th class=\"blank level0\" >&nbsp;</th>\n",
       "      <th id=\"T_9c4b5_level0_col0\" class=\"col_heading level0 col0\" >critic_score</th>\n",
       "      <th id=\"T_9c4b5_level0_col1\" class=\"col_heading level0 col1\" >user_score</th>\n",
       "      <th id=\"T_9c4b5_level0_col2\" class=\"col_heading level0 col2\" >all_sales</th>\n",
       "    </tr>\n",
       "    <tr>\n",
       "      <th class=\"index_name level0\" >platform</th>\n",
       "      <th class=\"index_name level1\" >&nbsp;</th>\n",
       "      <th class=\"blank col0\" >&nbsp;</th>\n",
       "      <th class=\"blank col1\" >&nbsp;</th>\n",
       "      <th class=\"blank col2\" >&nbsp;</th>\n",
       "    </tr>\n",
       "  </thead>\n",
       "  <tbody>\n",
       "    <tr>\n",
       "      <th id=\"T_9c4b5_level0_row0\" class=\"row_heading level0 row0\" rowspan=\"3\">3DS</th>\n",
       "      <th id=\"T_9c4b5_level1_row0\" class=\"row_heading level1 row0\" >critic_score</th>\n",
       "      <td id=\"T_9c4b5_row0_col0\" class=\"data row0 col0\" >100.000000</td>\n",
       "      <td id=\"T_9c4b5_row0_col1\" class=\"data row0 col1\" >77.000000</td>\n",
       "      <td id=\"T_9c4b5_row0_col2\" class=\"data row0 col2\" >34.000000</td>\n",
       "    </tr>\n",
       "    <tr>\n",
       "      <th id=\"T_9c4b5_level1_row1\" class=\"row_heading level1 row1\" >user_score</th>\n",
       "      <td id=\"T_9c4b5_row1_col0\" class=\"data row1 col0\" >77.000000</td>\n",
       "      <td id=\"T_9c4b5_row1_col1\" class=\"data row1 col1\" >100.000000</td>\n",
       "      <td id=\"T_9c4b5_row1_col2\" class=\"data row1 col2\" >24.000000</td>\n",
       "    </tr>\n",
       "    <tr>\n",
       "      <th id=\"T_9c4b5_level1_row2\" class=\"row_heading level1 row2\" >all_sales</th>\n",
       "      <td id=\"T_9c4b5_row2_col0\" class=\"data row2 col0\" >34.000000</td>\n",
       "      <td id=\"T_9c4b5_row2_col1\" class=\"data row2 col1\" >24.000000</td>\n",
       "      <td id=\"T_9c4b5_row2_col2\" class=\"data row2 col2\" >100.000000</td>\n",
       "    </tr>\n",
       "    <tr>\n",
       "      <th id=\"T_9c4b5_level0_row3\" class=\"row_heading level0 row3\" rowspan=\"3\">DS</th>\n",
       "      <th id=\"T_9c4b5_level1_row3\" class=\"row_heading level1 row3\" >critic_score</th>\n",
       "      <td id=\"T_9c4b5_row3_col0\" class=\"data row3 col0\" >nan</td>\n",
       "      <td id=\"T_9c4b5_row3_col1\" class=\"data row3 col1\" >nan</td>\n",
       "      <td id=\"T_9c4b5_row3_col2\" class=\"data row3 col2\" >nan</td>\n",
       "    </tr>\n",
       "    <tr>\n",
       "      <th id=\"T_9c4b5_level1_row4\" class=\"row_heading level1 row4\" >user_score</th>\n",
       "      <td id=\"T_9c4b5_row4_col0\" class=\"data row4 col0\" >nan</td>\n",
       "      <td id=\"T_9c4b5_row4_col1\" class=\"data row4 col1\" >nan</td>\n",
       "      <td id=\"T_9c4b5_row4_col2\" class=\"data row4 col2\" >nan</td>\n",
       "    </tr>\n",
       "    <tr>\n",
       "      <th id=\"T_9c4b5_level1_row5\" class=\"row_heading level1 row5\" >all_sales</th>\n",
       "      <td id=\"T_9c4b5_row5_col0\" class=\"data row5 col0\" >nan</td>\n",
       "      <td id=\"T_9c4b5_row5_col1\" class=\"data row5 col1\" >nan</td>\n",
       "      <td id=\"T_9c4b5_row5_col2\" class=\"data row5 col2\" >nan</td>\n",
       "    </tr>\n",
       "    <tr>\n",
       "      <th id=\"T_9c4b5_level0_row6\" class=\"row_heading level0 row6\" rowspan=\"3\">PC</th>\n",
       "      <th id=\"T_9c4b5_level1_row6\" class=\"row_heading level1 row6\" >critic_score</th>\n",
       "      <td id=\"T_9c4b5_row6_col0\" class=\"data row6 col0\" >100.000000</td>\n",
       "      <td id=\"T_9c4b5_row6_col1\" class=\"data row6 col1\" >43.000000</td>\n",
       "      <td id=\"T_9c4b5_row6_col2\" class=\"data row6 col2\" >19.000000</td>\n",
       "    </tr>\n",
       "    <tr>\n",
       "      <th id=\"T_9c4b5_level1_row7\" class=\"row_heading level1 row7\" >user_score</th>\n",
       "      <td id=\"T_9c4b5_row7_col0\" class=\"data row7 col0\" >43.000000</td>\n",
       "      <td id=\"T_9c4b5_row7_col1\" class=\"data row7 col1\" >100.000000</td>\n",
       "      <td id=\"T_9c4b5_row7_col2\" class=\"data row7 col2\" >-9.000000</td>\n",
       "    </tr>\n",
       "    <tr>\n",
       "      <th id=\"T_9c4b5_level1_row8\" class=\"row_heading level1 row8\" >all_sales</th>\n",
       "      <td id=\"T_9c4b5_row8_col0\" class=\"data row8 col0\" >19.000000</td>\n",
       "      <td id=\"T_9c4b5_row8_col1\" class=\"data row8 col1\" >-9.000000</td>\n",
       "      <td id=\"T_9c4b5_row8_col2\" class=\"data row8 col2\" >100.000000</td>\n",
       "    </tr>\n",
       "    <tr>\n",
       "      <th id=\"T_9c4b5_level0_row9\" class=\"row_heading level0 row9\" rowspan=\"3\">PS3</th>\n",
       "      <th id=\"T_9c4b5_level1_row9\" class=\"row_heading level1 row9\" >critic_score</th>\n",
       "      <td id=\"T_9c4b5_row9_col0\" class=\"data row9 col0\" >100.000000</td>\n",
       "      <td id=\"T_9c4b5_row9_col1\" class=\"data row9 col1\" >60.000000</td>\n",
       "      <td id=\"T_9c4b5_row9_col2\" class=\"data row9 col2\" >33.000000</td>\n",
       "    </tr>\n",
       "    <tr>\n",
       "      <th id=\"T_9c4b5_level1_row10\" class=\"row_heading level1 row10\" >user_score</th>\n",
       "      <td id=\"T_9c4b5_row10_col0\" class=\"data row10 col0\" >60.000000</td>\n",
       "      <td id=\"T_9c4b5_row10_col1\" class=\"data row10 col1\" >100.000000</td>\n",
       "      <td id=\"T_9c4b5_row10_col2\" class=\"data row10 col2\" >0.000000</td>\n",
       "    </tr>\n",
       "    <tr>\n",
       "      <th id=\"T_9c4b5_level1_row11\" class=\"row_heading level1 row11\" >all_sales</th>\n",
       "      <td id=\"T_9c4b5_row11_col0\" class=\"data row11 col0\" >33.000000</td>\n",
       "      <td id=\"T_9c4b5_row11_col1\" class=\"data row11 col1\" >0.000000</td>\n",
       "      <td id=\"T_9c4b5_row11_col2\" class=\"data row11 col2\" >100.000000</td>\n",
       "    </tr>\n",
       "    <tr>\n",
       "      <th id=\"T_9c4b5_level0_row12\" class=\"row_heading level0 row12\" rowspan=\"3\">PS4</th>\n",
       "      <th id=\"T_9c4b5_level1_row12\" class=\"row_heading level1 row12\" >critic_score</th>\n",
       "      <td id=\"T_9c4b5_row12_col0\" class=\"data row12 col0\" >100.000000</td>\n",
       "      <td id=\"T_9c4b5_row12_col1\" class=\"data row12 col1\" >56.000000</td>\n",
       "      <td id=\"T_9c4b5_row12_col2\" class=\"data row12 col2\" >41.000000</td>\n",
       "    </tr>\n",
       "    <tr>\n",
       "      <th id=\"T_9c4b5_level1_row13\" class=\"row_heading level1 row13\" >user_score</th>\n",
       "      <td id=\"T_9c4b5_row13_col0\" class=\"data row13 col0\" >56.000000</td>\n",
       "      <td id=\"T_9c4b5_row13_col1\" class=\"data row13 col1\" >100.000000</td>\n",
       "      <td id=\"T_9c4b5_row13_col2\" class=\"data row13 col2\" >-3.000000</td>\n",
       "    </tr>\n",
       "    <tr>\n",
       "      <th id=\"T_9c4b5_level1_row14\" class=\"row_heading level1 row14\" >all_sales</th>\n",
       "      <td id=\"T_9c4b5_row14_col0\" class=\"data row14 col0\" >41.000000</td>\n",
       "      <td id=\"T_9c4b5_row14_col1\" class=\"data row14 col1\" >-3.000000</td>\n",
       "      <td id=\"T_9c4b5_row14_col2\" class=\"data row14 col2\" >100.000000</td>\n",
       "    </tr>\n",
       "    <tr>\n",
       "      <th id=\"T_9c4b5_level0_row15\" class=\"row_heading level0 row15\" rowspan=\"3\">PSP</th>\n",
       "      <th id=\"T_9c4b5_level1_row15\" class=\"row_heading level1 row15\" >critic_score</th>\n",
       "      <td id=\"T_9c4b5_row15_col0\" class=\"data row15 col0\" >nan</td>\n",
       "      <td id=\"T_9c4b5_row15_col1\" class=\"data row15 col1\" >nan</td>\n",
       "      <td id=\"T_9c4b5_row15_col2\" class=\"data row15 col2\" >nan</td>\n",
       "    </tr>\n",
       "    <tr>\n",
       "      <th id=\"T_9c4b5_level1_row16\" class=\"row_heading level1 row16\" >user_score</th>\n",
       "      <td id=\"T_9c4b5_row16_col0\" class=\"data row16 col0\" >nan</td>\n",
       "      <td id=\"T_9c4b5_row16_col1\" class=\"data row16 col1\" >100.000000</td>\n",
       "      <td id=\"T_9c4b5_row16_col2\" class=\"data row16 col2\" >-100.000000</td>\n",
       "    </tr>\n",
       "    <tr>\n",
       "      <th id=\"T_9c4b5_level1_row17\" class=\"row_heading level1 row17\" >all_sales</th>\n",
       "      <td id=\"T_9c4b5_row17_col0\" class=\"data row17 col0\" >nan</td>\n",
       "      <td id=\"T_9c4b5_row17_col1\" class=\"data row17 col1\" >-100.000000</td>\n",
       "      <td id=\"T_9c4b5_row17_col2\" class=\"data row17 col2\" >100.000000</td>\n",
       "    </tr>\n",
       "    <tr>\n",
       "      <th id=\"T_9c4b5_level0_row18\" class=\"row_heading level0 row18\" rowspan=\"3\">PSV</th>\n",
       "      <th id=\"T_9c4b5_level1_row18\" class=\"row_heading level1 row18\" >critic_score</th>\n",
       "      <td id=\"T_9c4b5_row18_col0\" class=\"data row18 col0\" >100.000000</td>\n",
       "      <td id=\"T_9c4b5_row18_col1\" class=\"data row18 col1\" >61.000000</td>\n",
       "      <td id=\"T_9c4b5_row18_col2\" class=\"data row18 col2\" >25.000000</td>\n",
       "    </tr>\n",
       "    <tr>\n",
       "      <th id=\"T_9c4b5_level1_row19\" class=\"row_heading level1 row19\" >user_score</th>\n",
       "      <td id=\"T_9c4b5_row19_col0\" class=\"data row19 col0\" >61.000000</td>\n",
       "      <td id=\"T_9c4b5_row19_col1\" class=\"data row19 col1\" >100.000000</td>\n",
       "      <td id=\"T_9c4b5_row19_col2\" class=\"data row19 col2\" >0.000000</td>\n",
       "    </tr>\n",
       "    <tr>\n",
       "      <th id=\"T_9c4b5_level1_row20\" class=\"row_heading level1 row20\" >all_sales</th>\n",
       "      <td id=\"T_9c4b5_row20_col0\" class=\"data row20 col0\" >25.000000</td>\n",
       "      <td id=\"T_9c4b5_row20_col1\" class=\"data row20 col1\" >0.000000</td>\n",
       "      <td id=\"T_9c4b5_row20_col2\" class=\"data row20 col2\" >100.000000</td>\n",
       "    </tr>\n",
       "    <tr>\n",
       "      <th id=\"T_9c4b5_level0_row21\" class=\"row_heading level0 row21\" rowspan=\"3\">Wii</th>\n",
       "      <th id=\"T_9c4b5_level1_row21\" class=\"row_heading level1 row21\" >critic_score</th>\n",
       "      <td id=\"T_9c4b5_row21_col0\" class=\"data row21 col0\" >nan</td>\n",
       "      <td id=\"T_9c4b5_row21_col1\" class=\"data row21 col1\" >nan</td>\n",
       "      <td id=\"T_9c4b5_row21_col2\" class=\"data row21 col2\" >nan</td>\n",
       "    </tr>\n",
       "    <tr>\n",
       "      <th id=\"T_9c4b5_level1_row22\" class=\"row_heading level1 row22\" >user_score</th>\n",
       "      <td id=\"T_9c4b5_row22_col0\" class=\"data row22 col0\" >nan</td>\n",
       "      <td id=\"T_9c4b5_row22_col1\" class=\"data row22 col1\" >100.000000</td>\n",
       "      <td id=\"T_9c4b5_row22_col2\" class=\"data row22 col2\" >68.000000</td>\n",
       "    </tr>\n",
       "    <tr>\n",
       "      <th id=\"T_9c4b5_level1_row23\" class=\"row_heading level1 row23\" >all_sales</th>\n",
       "      <td id=\"T_9c4b5_row23_col0\" class=\"data row23 col0\" >nan</td>\n",
       "      <td id=\"T_9c4b5_row23_col1\" class=\"data row23 col1\" >68.000000</td>\n",
       "      <td id=\"T_9c4b5_row23_col2\" class=\"data row23 col2\" >100.000000</td>\n",
       "    </tr>\n",
       "    <tr>\n",
       "      <th id=\"T_9c4b5_level0_row24\" class=\"row_heading level0 row24\" rowspan=\"3\">WiiU</th>\n",
       "      <th id=\"T_9c4b5_level1_row24\" class=\"row_heading level1 row24\" >critic_score</th>\n",
       "      <td id=\"T_9c4b5_row24_col0\" class=\"data row24 col0\" >100.000000</td>\n",
       "      <td id=\"T_9c4b5_row24_col1\" class=\"data row24 col1\" >72.000000</td>\n",
       "      <td id=\"T_9c4b5_row24_col2\" class=\"data row24 col2\" >38.000000</td>\n",
       "    </tr>\n",
       "    <tr>\n",
       "      <th id=\"T_9c4b5_level1_row25\" class=\"row_heading level1 row25\" >user_score</th>\n",
       "      <td id=\"T_9c4b5_row25_col0\" class=\"data row25 col0\" >72.000000</td>\n",
       "      <td id=\"T_9c4b5_row25_col1\" class=\"data row25 col1\" >100.000000</td>\n",
       "      <td id=\"T_9c4b5_row25_col2\" class=\"data row25 col2\" >42.000000</td>\n",
       "    </tr>\n",
       "    <tr>\n",
       "      <th id=\"T_9c4b5_level1_row26\" class=\"row_heading level1 row26\" >all_sales</th>\n",
       "      <td id=\"T_9c4b5_row26_col0\" class=\"data row26 col0\" >38.000000</td>\n",
       "      <td id=\"T_9c4b5_row26_col1\" class=\"data row26 col1\" >42.000000</td>\n",
       "      <td id=\"T_9c4b5_row26_col2\" class=\"data row26 col2\" >100.000000</td>\n",
       "    </tr>\n",
       "    <tr>\n",
       "      <th id=\"T_9c4b5_level0_row27\" class=\"row_heading level0 row27\" rowspan=\"3\">X360</th>\n",
       "      <th id=\"T_9c4b5_level1_row27\" class=\"row_heading level1 row27\" >critic_score</th>\n",
       "      <td id=\"T_9c4b5_row27_col0\" class=\"data row27 col0\" >100.000000</td>\n",
       "      <td id=\"T_9c4b5_row27_col1\" class=\"data row27 col1\" >52.000000</td>\n",
       "      <td id=\"T_9c4b5_row27_col2\" class=\"data row27 col2\" >35.000000</td>\n",
       "    </tr>\n",
       "    <tr>\n",
       "      <th id=\"T_9c4b5_level1_row28\" class=\"row_heading level1 row28\" >user_score</th>\n",
       "      <td id=\"T_9c4b5_row28_col0\" class=\"data row28 col0\" >52.000000</td>\n",
       "      <td id=\"T_9c4b5_row28_col1\" class=\"data row28 col1\" >100.000000</td>\n",
       "      <td id=\"T_9c4b5_row28_col2\" class=\"data row28 col2\" >-1.000000</td>\n",
       "    </tr>\n",
       "    <tr>\n",
       "      <th id=\"T_9c4b5_level1_row29\" class=\"row_heading level1 row29\" >all_sales</th>\n",
       "      <td id=\"T_9c4b5_row29_col0\" class=\"data row29 col0\" >35.000000</td>\n",
       "      <td id=\"T_9c4b5_row29_col1\" class=\"data row29 col1\" >-1.000000</td>\n",
       "      <td id=\"T_9c4b5_row29_col2\" class=\"data row29 col2\" >100.000000</td>\n",
       "    </tr>\n",
       "    <tr>\n",
       "      <th id=\"T_9c4b5_level0_row30\" class=\"row_heading level0 row30\" rowspan=\"3\">XOne</th>\n",
       "      <th id=\"T_9c4b5_level1_row30\" class=\"row_heading level1 row30\" >critic_score</th>\n",
       "      <td id=\"T_9c4b5_row30_col0\" class=\"data row30 col0\" >100.000000</td>\n",
       "      <td id=\"T_9c4b5_row30_col1\" class=\"data row30 col1\" >47.000000</td>\n",
       "      <td id=\"T_9c4b5_row30_col2\" class=\"data row30 col2\" >41.000000</td>\n",
       "    </tr>\n",
       "    <tr>\n",
       "      <th id=\"T_9c4b5_level1_row31\" class=\"row_heading level1 row31\" >user_score</th>\n",
       "      <td id=\"T_9c4b5_row31_col0\" class=\"data row31 col0\" >47.000000</td>\n",
       "      <td id=\"T_9c4b5_row31_col1\" class=\"data row31 col1\" >100.000000</td>\n",
       "      <td id=\"T_9c4b5_row31_col2\" class=\"data row31 col2\" >-7.000000</td>\n",
       "    </tr>\n",
       "    <tr>\n",
       "      <th id=\"T_9c4b5_level1_row32\" class=\"row_heading level1 row32\" >all_sales</th>\n",
       "      <td id=\"T_9c4b5_row32_col0\" class=\"data row32 col0\" >41.000000</td>\n",
       "      <td id=\"T_9c4b5_row32_col1\" class=\"data row32 col1\" >-7.000000</td>\n",
       "      <td id=\"T_9c4b5_row32_col2\" class=\"data row32 col2\" >100.000000</td>\n",
       "    </tr>\n",
       "  </tbody>\n",
       "</table>\n"
      ],
      "text/plain": [
       "<pandas.io.formats.style.Styler at 0x272aa335e40>"
      ]
     },
     "execution_count": 70,
     "metadata": {},
     "output_type": "execute_result"
    }
   ],
   "source": [
    "# Сравним с другими платформами за этот же период.\n",
    "good_data_2013 = good_data.query('year_of_release >= 2013 and user_score > 0')\n",
    "corr_by_platform_2013 = good_data_2013[['platform', 'critic_score', 'user_score', 'all_sales']].groupby('platform').corr()*100\n",
    "corr_by_platform_2013 = round(corr_by_platform_2013)\n",
    "corr_by_platform_2013.style.background_gradient()"
   ]
  },
  {
   "cell_type": "code",
   "execution_count": null,
   "metadata": {},
   "outputs": [
    {
     "data": {
      "application/vnd.plotly.v1+json": {
       "config": {
        "plotlyServerURL": "https://plot.ly"
       },
       "data": [
        {
         "customdata": [
          [
           "Grand Theft Auto V",
           8.2
          ],
          [
           "Call of Duty: Ghosts",
           2.6
          ],
          [
           "FIFA 14",
           4.3
          ],
          [
           "The Last of Us",
           9.1
          ],
          [
           "Call of Duty: Advanced Warfare",
           4.8
          ],
          [
           "FIFA 15",
           4.5
          ],
          [
           "Assassin's Creed IV: Black Flag",
           8.1
          ],
          [
           "Battlefield 4",
           5.8
          ],
          [
           "Gran Turismo 6",
           7.7
          ],
          [
           "FIFA 16",
           3.2
          ],
          [
           "Batman: Arkham Origins",
           7.7
          ],
          [
           "God of War: Ascension",
           7.5
          ],
          [
           "NBA 2K14",
           4.9
          ],
          [
           "Diablo III",
           6.4
          ],
          [
           "Madden NFL 25",
           4.1
          ],
          [
           "LEGO Marvel Super Heroes",
           7.9
          ],
          [
           "Watch Dogs",
           5.1
          ],
          [
           "BioShock Infinite",
           8.5
          ],
          [
           "Beyond: Two Souls",
           8.1
          ],
          [
           "Destiny",
           4.5
          ],
          [
           "Madden NFL 15",
           2.7
          ],
          [
           "Metal Gear Rising: Revengeance",
           7.9
          ],
          [
           "NBA 2K15",
           3.5
          ],
          [
           "Far Cry 4",
           7.3
          ],
          [
           "Assassin's Creed: Rogue",
           7.5
          ],
          [
           "Dark Souls II",
           8.1
          ],
          [
           "Final Fantasy X / X-2 HD Remaster",
           8.5
          ],
          [
           "Need for Speed Rivals",
           4.9
          ],
          [
           "Saints Row IV",
           6.3
          ],
          [
           "Injustice: Gods Among Us",
           7.9
          ],
          [
           "WWE 2K14",
           7.5
          ],
          [
           "Lightning Returns: Final Fantasy XIII",
           5.9
          ],
          [
           "Skylanders SWAP Force",
           5.3
          ],
          [
           "Disney Infinity",
           5.9
          ],
          [
           "Dead Space 3",
           6.4
          ],
          [
           "Pro Evolution Soccer 2014",
           4.1
          ],
          [
           "Tom Clancy's Splinter Cell: Blacklist",
           7.7
          ],
          [
           "Naruto Shippuden: Ultimate Ninja Storm 3",
           7.9
          ],
          [
           "The LEGO Movie Videogame",
           6.8
          ],
          [
           "South Park: The Stick of Truth",
           8.5
          ],
          [
           "Crysis 3",
           6.3
          ],
          [
           "LEGO Jurassic World",
           7.4
          ],
          [
           "The Evil Within",
           7.6
          ],
          [
           "NCAA Football 14",
           6.2
          ],
          [
           "DmC: Devil May Cry",
           5.3
          ],
          [
           "WWE 2K15",
           3.1
          ],
          [
           "Madden NFL 16",
           3.1
          ],
          [
           "Resident Evil: Revelations",
           7.2
          ],
          [
           "Lego Batman 3: Beyond Gotham",
           6.7
          ],
          [
           "MLB 13: The Show",
           7.8
          ],
          [
           "NBA 2K16",
           4.6
          ],
          [
           "FIFA 17",
           3.3
          ],
          [
           "Skylanders: Trap Team",
           7
          ],
          [
           "Plants vs. Zombies: Garden Warfare",
           7.8
          ],
          [
           "One Piece: Pirate Warriors 2",
           7.8
          ],
          [
           "Metal Gear Solid V: The Phantom Pain",
           7.2
          ],
          [
           "LittleBigPlanet 3",
           7.2
          ],
          [
           "2014 FIFA World Cup Brazil",
           4.3
          ],
          [
           "Borderlands: The Pre-Sequel",
           6.3
          ],
          [
           "Aliens: Colonial Marines",
           3.6
          ],
          [
           "Dead Island: Riptide",
           5.9
          ],
          [
           "Dynasty Warriors 8",
           8.5
          ],
          [
           "Dragon Age: Inquisition",
           5.2
          ],
          [
           "Metal Gear Solid V: Ground Zeroes",
           5.9
          ],
          [
           "JoJo's Bizarre Adventure: All Star Battle",
           8.3
          ],
          [
           "Rayman Legends",
           8.7
          ],
          [
           "Pro Evolution Soccer 2015",
           7.8
          ],
          [
           "Tales of Zestiria",
           8
          ],
          [
           "Middle-Earth: Shadow of Mordor",
           3.4
          ],
          [
           "LEGO Dimensions",
           6.4
          ],
          [
           "Sly Cooper: Thieves in Time",
           8.3
          ],
          [
           "NHL 14",
           6
          ],
          [
           "F1 2013",
           6.3
          ],
          [
           "Dragon's Crown",
           8.3
          ],
          [
           "Tales of Symphonia",
           7.2
          ],
          [
           "The Walking Dead: Survival Instinct",
           3.6
          ],
          [
           "WWE 2K16",
           6
          ],
          [
           "Dragon Ball: XenoVerse",
           7.1
          ],
          [
           "LEGO The Hobbit",
           7
          ],
          [
           "Deadpool",
           7.2
          ],
          [
           "Wolfenstein: The New Order",
           7.1
          ],
          [
           "Naruto Shippuden: Ultimate Ninja Storm Revolution",
           7.5
          ],
          [
           "MLB 14: The Show",
           6.8
          ],
          [
           "Payday 2",
           6.2
          ],
          [
           "Metro: Last Light",
           8.2
          ],
          [
           "Battlefield: Hardline",
           5.3
          ],
          [
           "Terraria",
           7.9
          ],
          [
           "F1 2014",
           4.1
          ],
          [
           "Metal Gear Solid: The Legacy Collection",
           9
          ],
          [
           "Pro Evolution Soccer 2016",
           7.2
          ],
          [
           "MLB 15: The Show",
           8.2
          ],
          [
           "Just Dance 2014",
           7.1
          ],
          [
           "GRID 2",
           6.6
          ],
          [
           "Tiger Woods PGA Tour 14",
           3.8
          ],
          [
           "Destiny: The Taken King",
           5.5
          ],
          [
           "Skylanders: SuperChargers",
           4.2
          ],
          [
           "NHL 15",
           1.6
          ],
          [
           "Earth Defense Force 2025",
           7.5
          ],
          [
           "Defiance",
           6.9
          ],
          [
           "Sniper: Ghost Warrior 2",
           6
          ],
          [
           "Alien: Isolation",
           8.3
          ],
          [
           "Remember Me",
           7.4
          ],
          [
           "Drakengard 3",
           7.7
          ],
          [
           "J Stars Victory Vs.",
           7.9
          ],
          [
           "Dragon Ball Z: Battle of Z",
           5.3
          ],
          [
           "BlazBlue: Chrono Phantasma",
           8.3
          ],
          [
           "Resident Evil: Revelations 2",
           6.8
          ],
          [
           "Angry Birds Star Wars",
           3.6
          ],
          [
           "Hatsune Miku: Project Diva f",
           8.4
          ],
          [
           "Sniper Elite 3",
           6.4
          ],
          [
           "One Piece: Unlimited World Red",
           7.3
          ],
          [
           "Army of Two: The Devil's Cartel",
           6.7
          ],
          [
           "Guitar Hero Live",
           5.1
          ],
          [
           "LEGO Marvel's Avengers",
           5.5
          ],
          [
           "Samurai Warriors 4",
           8
          ],
          [
           "Puppeteer",
           8.5
          ],
          [
           "One Piece: Pirate Warriors 3",
           3.7
          ],
          [
           "Just Dance 2015",
           6.8
          ],
          [
           "Hatsune Miku: Project Diva F 2nd",
           8.6
          ],
          [
           "The Bureau: XCOM Declassified",
           6.7
          ],
          [
           "Teenage Mutant Ninja Turtles: Danger of the Ooze",
           5.9
          ],
          [
           "Dynasty Warriors: Gundam Reborn",
           7.5
          ],
          [
           "Killer is Dead",
           7.9
          ],
          [
           "Disgaea D2: A Brighter Darkness",
           8.1
          ],
          [
           "Hitman: HD Trilogy",
           7.6
          ],
          [
           "Lost Planet 3",
           5.5
          ],
          [
           "The Witch and the Hundred Knight",
           7.5
          ],
          [
           "The Legend of Heroes: Trails of Cold Steel",
           7.7
          ],
          [
           "Castlevania: Lords of Shadow 2",
           7.8
          ],
          [
           "Just Dance 2016",
           4.2
          ],
          [
           "Fairy Fencer F",
           7.4
          ],
          [
           "Atelier Shallie: Alchemists of the Dusk Sea",
           7.7
          ],
          [
           "GRID Autosport",
           6.8
          ],
          [
           "Dengeki Bunko Fighting Climax",
           8.2
          ],
          [
           "Ar Nosurge: Ode to an Unborn Star",
           7.8
          ],
          [
           "Dynasty Warriors 8: Xtreme Legends",
           6.8
          ],
          [
           "Tears to Tiara II: Heir of the Overlord",
           8.7
          ],
          [
           "The Legend of Heroes: Trails of Cold Steel II",
           7.8
          ],
          [
           "Farming Simulator 2013",
           2.9
          ],
          [
           "WWE 2K17",
           4.1
          ],
          [
           "Murdered: Soul Suspect",
           7.1
          ],
          [
           "Persona 4: Arena Ultimax",
           8.1
          ],
          [
           "Pro Evolution Soccer 2017",
           7.2
          ],
          [
           "NBA 2K17",
           2
          ],
          [
           "Armored Core: Verdict Day",
           7.4
          ],
          [
           "Madden NFL 17",
           0.2
          ],
          [
           "Deception IV: Blood Ties",
           8.2
          ],
          [
           "NASCAR '14",
           4.6
          ],
          [
           "Sacred 3",
           3.4
          ],
          [
           "Pac-Man and the Ghostly Adventures 2",
           6.3
          ],
          [
           "Young Justice: Legacy",
           4.9
          ],
          [
           "Digimon All-Star Rumble",
           5.8
          ],
          [
           "Yaiba: Ninja Gaiden Z",
           4.5
          ],
          [
           "The Smurfs 2",
           5
          ],
          [
           "The Wolf Among Us",
           8.2
          ],
          [
           "Transformers: Devastation",
           7.1
          ],
          [
           "Risen 3: Titan Lords",
           3.7
          ],
          [
           "PAC-MAN and the Ghostly Adventures",
           3.1
          ],
          [
           "Lost Dimension",
           7.3
          ],
          [
           "Escape Dead Island",
           3.5
          ],
          [
           "Saint Seiya: Brave Soldiers",
           7.4
          ],
          [
           "Mugen Souls Z",
           6.4
          ],
          [
           "The Guided Fate Paradox",
           7.8
          ],
          [
           "Odin Sphere: Leifthrasir",
           7
          ],
          [
           "Tony Hawk's Pro Skater 5",
           3.1
          ],
          [
           "Tokyo Twilight Ghost Hunters",
           6.4
          ],
          [
           "Enemy Front",
           6
          ],
          [
           "Teenage Mutant Ninja Turtles: Mutants in Manhattan",
           3.4
          ],
          [
           "Ride",
           4.8
          ],
          [
           "Natural Doctrine",
           8.1
          ],
          [
           "DuckTales: Remastered",
           7.4
          ],
          [
           "Saint Seiya: Soldiers' Soul",
           6.3
          ],
          [
           "Ride to Hell",
           1
          ],
          [
           "BlazBlue: Chrono Phantasma Extend",
           8.3
          ],
          [
           "XBLAZE Code: Embryo",
           7.1
          ],
          [
           "Cabela's Big Game Hunter: Pro Hunts",
           5.9
          ],
          [
           "Darkstalkers Resurrection",
           7.3
          ],
          [
           "Bladestorm: Nightmare",
           7.4
          ],
          [
           "MX vs. ATV Supercross",
           3.5
          ],
          [
           "Final Fantasy XIV: Heavensward",
           8.2
          ],
          [
           "Call of Duty: Modern Warfare Trilogy",
           7
          ],
          [
           "The Awakened Fate Ultimatum",
           7.3
          ],
          [
           "Xblaze: Lost Memories",
           6.2
          ],
          [
           "Battle Princess of Arcadias",
           7.9
          ],
          [
           "Invizimals: The Lost Kingdom",
           5
          ],
          [
           "Don Bradman Cricket 14",
           6.9
          ]
         ],
         "hovertemplate": "platform=PS3<br>all_sales=%{x}<br>critic_score=%{y}<br>name=%{customdata[0]}<br>user_score=%{customdata[1]}<extra></extra>",
         "legendgroup": "PS3",
         "marker": {
          "color": "#636efa",
          "symbol": "circle"
         },
         "mode": "markers",
         "name": "PS3",
         "showlegend": true,
         "type": "scattergl",
         "x": [
          21.05,
          9.36,
          6.460000000000001,
          5.86,
          4.36,
          4.28,
          3.7099999999999995,
          3.4899999999999998,
          3.2299999999999995,
          2.6999999999999997,
          2.29,
          2.25,
          2.11,
          1.91,
          1.87,
          1.83,
          1.7400000000000002,
          1.6900000000000002,
          1.6400000000000001,
          1.6100000000000003,
          1.4600000000000002,
          1.42,
          1.34,
          1.29,
          1.28,
          1.2799999999999998,
          1.27,
          1.26,
          1.25,
          1.19,
          1.14,
          1.07,
          1.02,
          0.9700000000000001,
          0.9600000000000001,
          0.95,
          0.9400000000000001,
          0.9400000000000001,
          0.93,
          0.93,
          0.87,
          0.85,
          0.8500000000000001,
          0.84,
          0.7899999999999999,
          0.7799999999999999,
          0.7699999999999999,
          0.74,
          0.7300000000000001,
          0.74,
          0.7300000000000001,
          0.7300000000000001,
          0.67,
          0.66,
          0.66,
          0.6399999999999999,
          0.64,
          0.61,
          0.62,
          0.6,
          0.61,
          0.6100000000000001,
          0.59,
          0.5800000000000001,
          0.5800000000000001,
          0.5800000000000001,
          0.5800000000000001,
          0.56,
          0.56,
          0.5599999999999999,
          0.5499999999999999,
          0.54,
          0.5499999999999999,
          0.54,
          0.53,
          0.51,
          0.51,
          0.49000000000000005,
          0.46,
          0.45,
          0.44,
          0.44,
          0.43,
          0.44,
          0.42,
          0.41000000000000003,
          0.41,
          0.41000000000000003,
          0.41,
          0.39999999999999997,
          0.39,
          0.37000000000000005,
          0.38000000000000006,
          0.37000000000000005,
          0.36000000000000004,
          0.37,
          0.36,
          0.34,
          0.35000000000000003,
          0.33,
          0.33,
          0.33,
          0.31000000000000005,
          0.32000000000000006,
          0.3,
          0.31000000000000005,
          0.29000000000000004,
          0.29000000000000004,
          0.29000000000000004,
          0.28,
          0.29,
          0.28,
          0.26999999999999996,
          0.26,
          0.26,
          0.25,
          0.26,
          0.25,
          0.25,
          0.25,
          0.24000000000000002,
          0.23,
          0.23,
          0.21,
          0.2,
          0.19999999999999998,
          0.21,
          0.2,
          0.19999999999999998,
          0.19,
          0.18999999999999997,
          0.18,
          0.18000000000000002,
          0.15000000000000002,
          0.16,
          0.16,
          0.16,
          0.16,
          0.13,
          0.14,
          0.14,
          0.13,
          0.13,
          0.12000000000000001,
          0.12,
          0.11000000000000001,
          0.12,
          0.11,
          0.11,
          0.1,
          0.09,
          0.1,
          0.1,
          0.1,
          0.09000000000000001,
          0.08,
          0.08,
          0.06999999999999999,
          0.07,
          0.08,
          0.06999999999999999,
          0.08,
          0.06,
          0.06999999999999999,
          0.060000000000000005,
          0.060000000000000005,
          0.060000000000000005,
          0.05,
          0.05,
          0.060000000000000005,
          0.05,
          0.04,
          0.04,
          0.04,
          0.04,
          0.04,
          0.03,
          0.03,
          0.03,
          0.02,
          0.02,
          0.02,
          0.02,
          0.02,
          0.02,
          0.01
         ],
         "xaxis": "x",
         "y": [
          97,
          71,
          86,
          95,
          null,
          null,
          88,
          80,
          81,
          null,
          76,
          80,
          84,
          86,
          76,
          82,
          null,
          94,
          70,
          null,
          null,
          80,
          null,
          null,
          72,
          91,
          85,
          80,
          76,
          78,
          74,
          66,
          83,
          75,
          76,
          78,
          84,
          77,
          80,
          85,
          77,
          null,
          null,
          77,
          85,
          55,
          null,
          74,
          null,
          87,
          null,
          null,
          null,
          null,
          71,
          null,
          null,
          73,
          77,
          43,
          62,
          68,
          null,
          66,
          71,
          91,
          null,
          null,
          null,
          null,
          75,
          80,
          77,
          82,
          null,
          34,
          null,
          null,
          null,
          61,
          null,
          73,
          81,
          74,
          80,
          null,
          81,
          62,
          93,
          null,
          null,
          77,
          82,
          74,
          null,
          null,
          null,
          69,
          59,
          52,
          null,
          72,
          61,
          null,
          54,
          83,
          null,
          49,
          73,
          null,
          71,
          58,
          null,
          null,
          null,
          80,
          null,
          null,
          78,
          69,
          null,
          64,
          64,
          74,
          71,
          61,
          53,
          86,
          63,
          null,
          65,
          76,
          75,
          66,
          67,
          68,
          65,
          90,
          40,
          null,
          null,
          84,
          null,
          null,
          66,
          null,
          70,
          67,
          56,
          59,
          null,
          49,
          43,
          null,
          null,
          null,
          36,
          51,
          71,
          40,
          55,
          57,
          74,
          null,
          null,
          64,
          43,
          null,
          null,
          null,
          75,
          null,
          13,
          null,
          null,
          null,
          80,
          null,
          58,
          null,
          null,
          65,
          63,
          69,
          50,
          73
         ],
         "yaxis": "y"
        },
        {
         "customdata": [
          [
           "Grand Theft Auto V",
           8.1
          ],
          [
           "Call of Duty: Ghosts",
           2.6
          ],
          [
           "Call of Duty: Advanced Warfare",
           4.9
          ],
          [
           "FIFA 14",
           4.2
          ],
          [
           "Battlefield 4",
           5.6
          ],
          [
           "Assassin's Creed IV: Black Flag",
           7.9
          ],
          [
           "FIFA 15",
           4.2
          ],
          [
           "NBA 2K14",
           4.9
          ],
          [
           "Madden NFL 25",
           5.6
          ],
          [
           "LEGO Marvel Super Heroes",
           7.6
          ],
          [
           "Madden NFL 15",
           5.5
          ],
          [
           "BioShock Infinite",
           8.5
          ],
          [
           "Destiny",
           4.7
          ],
          [
           "Batman: Arkham Origins",
           7.5
          ],
          [
           "Saints Row IV",
           6.5
          ],
          [
           "NBA 2K15",
           3
          ],
          [
           "Gears of War: Judgment",
           5.4
          ],
          [
           "FIFA 16",
           2.9
          ],
          [
           "Disney Infinity",
           6.5
          ],
          [
           "Diablo III",
           6.6
          ],
          [
           "Injustice: Gods Among Us",
           7.9
          ],
          [
           "Titanfall",
           5.9
          ],
          [
           "Skylanders SWAP Force",
           5.7
          ],
          [
           "The LEGO Movie Videogame",
           7.2
          ],
          [
           "Watch Dogs",
           5
          ],
          [
           "WWE 2K14",
           7.7
          ],
          [
           "NCAA Football 14",
           5.8
          ],
          [
           "Plants vs. Zombies: Garden Warfare",
           7.3
          ],
          [
           "Assassin's Creed: Rogue",
           7.3
          ],
          [
           "Just Dance 2014",
           7.8
          ],
          [
           "Dead Space 3",
           6.4
          ],
          [
           "Tom Clancy's Splinter Cell: Blacklist",
           7.5
          ],
          [
           "Madden NFL 16",
           5.1
          ],
          [
           "NBA 2K16",
           3.2
          ],
          [
           "South Park: The Stick of Truth",
           8.4
          ],
          [
           "Crysis 3",
           6.7
          ],
          [
           "Far Cry 4",
           7
          ],
          [
           "Lego Batman 3: Beyond Gotham",
           6.8
          ],
          [
           "LEGO Jurassic World",
           7.1
          ],
          [
           "Need for Speed Rivals",
           5.4
          ],
          [
           "Forza Horizon 2",
           5.1
          ],
          [
           "Dead Island: Riptide",
           6.3
          ],
          [
           "Aliens: Colonial Marines",
           3.8
          ],
          [
           "Dark Souls II",
           7.9
          ],
          [
           "Borderlands: The Pre-Sequel",
           6.4
          ],
          [
           "Terraria",
           7.2
          ],
          [
           "WWE 2K15",
           4
          ],
          [
           "The Walking Dead: Survival Instinct",
           4
          ],
          [
           "Just Dance 2015",
           8.3
          ],
          [
           "Payday 2",
           6.3
          ],
          [
           "Defiance",
           7.2
          ],
          [
           "NHL 14",
           5.9
          ],
          [
           "LEGO Dimensions",
           6.1
          ],
          [
           "Dragon Age: Inquisition",
           5.1
          ],
          [
           "Naruto Shippuden: Ultimate Ninja Storm 3",
           7.7
          ],
          [
           "Middle-Earth: Shadow of Mordor",
           4.6
          ],
          [
           "Metal Gear Rising: Revengeance",
           7.8
          ],
          [
           "The Evil Within",
           7.6
          ],
          [
           "LEGO The Hobbit",
           8.7
          ],
          [
           "NHL 15",
           2.8
          ],
          [
           "DmC: Devil May Cry",
           5.1
          ],
          [
           "Deadpool",
           7.4
          ],
          [
           "WWE 2K16",
           5.4
          ],
          [
           "Rayman Legends",
           8.2
          ],
          [
           "2014 FIFA World Cup Brazil",
           4.4
          ],
          [
           "Skylanders: SuperChargers",
           5.4
          ],
          [
           "Farming Simulator 2013",
           6.2
          ],
          [
           "Wolfenstein: The New Order",
           7.4
          ],
          [
           "FIFA 17",
           1.7
          ],
          [
           "Tiger Woods PGA Tour 14",
           6.2
          ],
          [
           "Metro: Last Light",
           8.4
          ],
          [
           "Destiny: The Taken King",
           4.4
          ],
          [
           "Just Dance 2016",
           6
          ],
          [
           "Rise of the Tomb Raider",
           7.5
          ],
          [
           "LEGO Marvel's Avengers",
           5.7
          ],
          [
           "Sniper Elite 3",
           6.6
          ],
          [
           "F1 2013",
           6.6
          ],
          [
           "Battlefield: Hardline",
           4.1
          ],
          [
           "Alien: Isolation",
           8.2
          ],
          [
           "Angry Birds Star Wars",
           5.6
          ],
          [
           "GRID 2",
           5.8
          ],
          [
           "Lightning Returns: Final Fantasy XIII",
           6.6
          ],
          [
           "Resident Evil: Revelations",
           7.4
          ],
          [
           "Army of Two: The Devil's Cartel",
           6.2
          ],
          [
           "Dragon Ball: XenoVerse",
           6.7
          ],
          [
           "Pro Evolution Soccer 2014",
           4.3
          ],
          [
           "Guitar Hero Live",
           5.5
          ],
          [
           "F1 2014",
           4.1
          ],
          [
           "Naruto Shippuden: Ultimate Ninja Storm Revolution",
           7.3
          ],
          [
           "The Crew",
           6.4
          ],
          [
           "The Bureau: XCOM Declassified",
           6.7
          ],
          [
           "Sniper: Ghost Warrior 2",
           5.7
          ],
          [
           "Teenage Mutant Ninja Turtles: Danger of the Ooze",
           6.4
          ],
          [
           "Metal Gear Solid V: The Phantom Pain",
           7.2
          ],
          [
           "Remember Me",
           7.5
          ],
          [
           "Madden NFL 17",
           0.7
          ],
          [
           "Hitman: HD Trilogy",
           7.2
          ],
          [
           "How to Train Your Dragon 2",
           2.9
          ],
          [
           "NASCAR '14",
           5.1
          ],
          [
           "NASCAR '15",
           3.8
          ],
          [
           "Dynasty Warriors 8",
           7.5
          ],
          [
           "Earth Defense Force 2025",
           8.1
          ],
          [
           "Metal Gear Solid V: Ground Zeroes",
           5.7
          ],
          [
           "Pro Evolution Soccer 2015",
           6.8
          ],
          [
           "Killer is Dead",
           7.2
          ],
          [
           "Lego Star Wars: The Force Awakens",
           6.9
          ],
          [
           "The Smurfs 2",
           5.4
          ],
          [
           "NBA 2K17",
           3.4
          ],
          [
           "Lost Planet 3",
           5.8
          ],
          [
           "Pac-Man and the Ghostly Adventures 2",
           6.5
          ],
          [
           "Murdered: Soul Suspect",
           7.2
          ],
          [
           "Pro Evolution Soccer 2016",
           7
          ],
          [
           "Castlevania: Lords of Shadow 2",
           7.8
          ],
          [
           "SpongeBob: HeroPants",
           3.4
          ],
          [
           "GRID Autosport",
           6
          ],
          [
           "Transformers: Devastation",
           8.4
          ],
          [
           "Persona 4: Arena Ultimax",
           7.4
          ],
          [
           "PAC-MAN and the Ghostly Adventures",
           5.1
          ],
          [
           "Escape Dead Island",
           3.8
          ],
          [
           "Resident Evil: Revelations 2",
           6.6
          ],
          [
           "Tony Hawk's Pro Skater 5",
           2.8
          ],
          [
           "Fantasia: Music Evolved",
           7
          ],
          [
           "Dragon Ball Z: Battle of Z",
           5.1
          ],
          [
           "Risen 3: Titan Lords",
           4.4
          ],
          [
           "MX vs. ATV Supercross",
           4.8
          ],
          [
           "Digimon All-Star Rumble",
           5.7
          ],
          [
           "Adventure Time: The Secret of the Nameless Kingdom",
           7.5
          ],
          [
           "Tropico 5",
           7.2
          ],
          [
           "Ride to Hell",
           1.3
          ],
          [
           "Sacred 3",
           4.1
          ],
          [
           "SpongeBob SquarePants: Plankton's Robotic Revenge",
           6.1
          ],
          [
           "Yaiba: Ninja Gaiden Z",
           5.3
          ],
          [
           "Enemy Front",
           5.8
          ],
          [
           "Teenage Mutant Ninja Turtles: Mutants in Manhattan",
           4.3
          ],
          [
           "Pro Evolution Soccer 2017",
           6.5
          ],
          [
           "Rugby World Cup 2015",
           8
          ],
          [
           "Cabela's Big Game Hunter: Pro Hunts",
           7.3
          ],
          [
           "Rugby League Live 3",
           7
          ],
          [
           "Back to the Future: The Game",
           7.5
          ],
          [
           "Kung Fu Panda: Showdown of Legendary Legends",
           6.8
          ],
          [
           "Turbo: Super Stunt Squad",
           4.5
          ],
          [
           "Young Justice: Legacy",
           6.2
          ],
          [
           "Ben 10 Omniverse 2",
           5.1
          ]
         ],
         "hovertemplate": "platform=X360<br>all_sales=%{x}<br>critic_score=%{y}<br>name=%{customdata[0]}<br>user_score=%{customdata[1]}<extra></extra>",
         "legendgroup": "X360",
         "marker": {
          "color": "#EF553B",
          "symbol": "circle"
         },
         "mode": "markers",
         "name": "X360",
         "showlegend": true,
         "type": "scattergl",
         "x": [
          16.27,
          10.24,
          4.28,
          4.22,
          3.49,
          3.3099999999999996,
          2.92,
          2.52,
          2.23,
          2.22,
          2.0500000000000003,
          1.94,
          1.92,
          1.88,
          1.65,
          1.6300000000000001,
          1.5699999999999998,
          1.5699999999999998,
          1.44,
          1.4100000000000001,
          1.3800000000000001,
          1.3599999999999999,
          1.3199999999999998,
          1.27,
          1.25,
          1.11,
          1.09,
          1.07,
          1.01,
          0.99,
          0.98,
          0.9799999999999999,
          0.97,
          0.9400000000000001,
          0.9299999999999999,
          0.91,
          0.9,
          0.89,
          0.87,
          0.8,
          0.78,
          0.78,
          0.77,
          0.74,
          0.73,
          0.6799999999999999,
          0.6400000000000001,
          0.6200000000000001,
          0.6100000000000001,
          0.5700000000000001,
          0.5700000000000001,
          0.54,
          0.53,
          0.53,
          0.51,
          0.48000000000000004,
          0.48,
          0.46,
          0.45,
          0.44999999999999996,
          0.43,
          0.43,
          0.43,
          0.43,
          0.43000000000000005,
          0.42,
          0.38999999999999996,
          0.38,
          0.38,
          0.36,
          0.35,
          0.35,
          0.31000000000000005,
          0.31999999999999995,
          0.31999999999999995,
          0.31000000000000005,
          0.30000000000000004,
          0.29000000000000004,
          0.27,
          0.28,
          0.27,
          0.26,
          0.26,
          0.25,
          0.23,
          0.24,
          0.23,
          0.23,
          0.22,
          0.22,
          0.22,
          0.19999999999999998,
          0.19999999999999998,
          0.18,
          0.18,
          0.18,
          0.17,
          0.16000000000000003,
          0.16999999999999998,
          0.16999999999999998,
          0.15000000000000002,
          0.15000000000000002,
          0.14,
          0.14,
          0.12,
          0.12,
          0.12,
          0.12,
          0.12,
          0.09999999999999999,
          0.09999999999999999,
          0.09999999999999999,
          0.09,
          0.09,
          0.09,
          0.07999999999999999,
          0.07999999999999999,
          0.08,
          0.08,
          0.06999999999999999,
          0.06999999999999999,
          0.07999999999999999,
          0.060000000000000005,
          0.06,
          0.060000000000000005,
          0.07,
          0.05,
          0.05,
          0.060000000000000005,
          0.05,
          0.04,
          0.04,
          0.04,
          0.04,
          0.03,
          0.03,
          0.02,
          0.02,
          0.02,
          0.02,
          0.01,
          0.01,
          0.01
         ],
         "xaxis": "x",
         "y": [
          97,
          73,
          null,
          84,
          79,
          86,
          null,
          87,
          80,
          80,
          null,
          93,
          null,
          74,
          81,
          null,
          79,
          null,
          74,
          87,
          81,
          83,
          83,
          69,
          null,
          75,
          77,
          69,
          72,
          79,
          78,
          82,
          null,
          null,
          82,
          76,
          null,
          null,
          null,
          76,
          null,
          57,
          48,
          91,
          74,
          81,
          50,
          32,
          null,
          75,
          60,
          81,
          null,
          null,
          70,
          null,
          82,
          null,
          70,
          null,
          86,
          62,
          null,
          90,
          74,
          null,
          33,
          null,
          null,
          77,
          80,
          null,
          null,
          null,
          null,
          null,
          79,
          null,
          null,
          59,
          78,
          69,
          75,
          54,
          null,
          80,
          null,
          64,
          62,
          null,
          68,
          52,
          null,
          null,
          70,
          null,
          69,
          null,
          65,
          null,
          65,
          68,
          null,
          null,
          64,
          null,
          null,
          null,
          58,
          60,
          null,
          null,
          70,
          null,
          75,
          null,
          85,
          49,
          32,
          null,
          null,
          null,
          53,
          44,
          48,
          null,
          58,
          71,
          19,
          51,
          null,
          50,
          35,
          null,
          null,
          null,
          null,
          null,
          null,
          null,
          null,
          null,
          null
         ],
         "yaxis": "y"
        },
        {
         "customdata": [
          [
           "Grand Theft Auto V",
           8.3
          ],
          [
           "FIFA 16",
           4.3
          ],
          [
           "Call of Duty: Advanced Warfare",
           5.7
          ],
          [
           "FIFA 17",
           5
          ],
          [
           "Fallout 4",
           6.5
          ],
          [
           "FIFA 15",
           5.7
          ],
          [
           "Destiny",
           6.1
          ],
          [
           "Uncharted 4: A Thief's End",
           7.9
          ],
          [
           "Uncharted: The Nathan Drake Collection",
           8.1
          ],
          [
           "Call of Duty: Infinite Warfare",
           3.4
          ],
          [
           "Battlefield 1",
           8.4
          ],
          [
           "Watch Dogs",
           6.3
          ],
          [
           "Far Cry 4",
           7.7
          ],
          [
           "The Witcher 3: Wild Hunt",
           9.2
          ],
          [
           "Assassin's Creed: Unity",
           4.9
          ],
          [
           "Batman: Arkham Knight",
           7.6
          ],
          [
           "NBA 2K16",
           6.7
          ],
          [
           "Call of Duty: Ghosts",
           3.7
          ],
          [
           "Tom Clancy's The Division",
           7
          ],
          [
           "Battlefield 4",
           6.9
          ],
          [
           "Metal Gear Solid V: The Phantom Pain",
           8.2
          ],
          [
           "Assassin's Creed Syndicate",
           6.8
          ],
          [
           "Madden NFL 16",
           5.9
          ],
          [
           "FIFA 14",
           6.3
          ],
          [
           "Middle-Earth: Shadow of Mordor",
           8.1
          ],
          [
           "Assassin's Creed IV: Black Flag",
           7.8
          ],
          [
           "inFAMOUS: Second Son",
           7.9
          ],
          [
           "Mortal Kombat X",
           7.7
          ],
          [
           "Killzone: Shadow Fall",
           6.8
          ],
          [
           "Bloodborne",
           8.6
          ],
          [
           "NBA 2K15",
           7
          ],
          [
           "Far Cry: Primal",
           6.3
          ],
          [
           "Tom Clancy's Rainbow Six: Siege",
           7.3
          ],
          [
           "Madden NFL 15",
           6.1
          ],
          [
           "Overwatch",
           6.1
          ],
          [
           "Battlefield: Hardline",
           5
          ],
          [
           "Dying Light",
           7.9
          ],
          [
           "DriveClub",
           6.1
          ],
          [
           "Dragon Age: Inquisition",
           7.4
          ],
          [
           "Need for Speed Rivals",
           6.2
          ],
          [
           "Destiny: The Taken King",
           6
          ],
          [
           "LittleBigPlanet 3",
           7.1
          ],
          [
           "NBA 2K17",
           6.7
          ],
          [
           "Just Cause 3",
           6.5
          ],
          [
           "Mafia III",
           5.1
          ],
          [
           "The Evil Within",
           7.3
          ],
          [
           "Madden NFL 17",
           4.9
          ],
          [
           "The Order: 1886",
           6.6
          ],
          [
           "Knack",
           6.5
          ],
          [
           "The Crew",
           5.4
          ],
          [
           "No Man's Sky",
           4.5
          ],
          [
           "Until Dawn",
           8.2
          ],
          [
           "Dark Souls III",
           8.8
          ],
          [
           "LEGO Marvel Super Heroes",
           7.7
          ],
          [
           "Wolfenstein: The New Order",
           8.1
          ],
          [
           "NBA 2K14",
           6.5
          ],
          [
           "Metal Gear Solid V: Ground Zeroes",
           6.2
          ],
          [
           "WWE 2K16",
           7.4
          ],
          [
           "WWE 2K15",
           5.1
          ],
          [
           "Naruto Shippuden: Ultimate Ninja Storm 4",
           8.2
          ],
          [
           "Watch Dogs 2",
           7.8
          ],
          [
           "Alien: Isolation",
           8.1
          ],
          [
           "Dragon Ball: XenoVerse",
           7.7
          ],
          [
           "Project CARS",
           6.6
          ],
          [
           "EA Sports UFC",
           6.1
          ],
          [
           "Rayman Legends",
           8.5
          ],
          [
           "Evolve",
           4.3
          ],
          [
           "EA Sports UFC 2",
           6.2
          ],
          [
           "Lego Batman 3: Beyond Gotham",
           7.1
          ],
          [
           "MLB 15: The Show",
           7.8
          ],
          [
           "Street Fighter V",
           3.4
          ],
          [
           "LEGO Jurassic World",
           7
          ],
          [
           "Madden NFL 25",
           5.2
          ],
          [
           "Borderlands: The Handsome Collection",
           7.8
          ],
          [
           "Guitar Hero Live",
           6.2
          ],
          [
           "Pro Evolution Soccer 2016",
           7.1
          ],
          [
           "Titanfall 2",
           8.4
          ],
          [
           "Pro Evolution Soccer 2015",
           7.2
          ],
          [
           "LEGO Marvel's Avengers",
           7
          ],
          [
           "LEGO Dimensions",
           7.1
          ],
          [
           "MLB 14: The Show",
           7.7
          ],
          [
           "Dragon Ball: Xenoverse 2",
           7.8
          ],
          [
           "Lego Star Wars: The Force Awakens",
           7.5
          ],
          [
           "Sniper Elite 3",
           7.1
          ],
          [
           "The LEGO Movie Videogame",
           7.1
          ],
          [
           "F1 2015",
           6.3
          ],
          [
           "Dishonored 2",
           7.7
          ],
          [
           "NHL 16",
           5.5
          ],
          [
           "Plants vs. Zombies: Garden Warfare",
           7.6
          ],
          [
           "LEGO The Hobbit",
           6.6
          ],
          [
           "WWE 2K17",
           6.9
          ],
          [
           "NHL 15",
           3.6
          ],
          [
           "Resident Evil: Revelations 2",
           7.7
          ],
          [
           "Rory McIlroy PGA Tour",
           3.7
          ],
          [
           "Lords of the Fallen",
           6.6
          ],
          [
           "Plants vs. Zombies: Garden Warfare 2",
           7.7
          ],
          [
           "One Piece: Pirate Warriors 3",
           7.4
          ],
          [
           "Pro Evolution Soccer 2017",
           7.6
          ],
          [
           "Skylanders: Trap Team",
           5.6
          ],
          [
           "Wolfenstein: The Old Blood",
           8
          ],
          [
           "Trials Fusion",
           7.2
          ],
          [
           "Just Dance 2014",
           5.5
          ],
          [
           "Farming Simulator 17",
           8.7
          ],
          [
           "Tales of Zestiria",
           6.8
          ],
          [
           "Life is Strange",
           8.6
          ],
          [
           "Until Dawn: Rush of Blood",
           8
          ],
          [
           "Skylanders SWAP Force",
           5.2
          ],
          [
           "Just Dance 2015",
           5.8
          ],
          [
           "Rock Band 4",
           6.3
          ],
          [
           "Deus Ex: Mankind Divided",
           7.6
          ],
          [
           "BioShock The Collection",
           8.5
          ],
          [
           "Rocket League",
           8.7
          ],
          [
           "DiRT Rally",
           8.1
          ],
          [
           "Just Dance 2016",
           6.8
          ],
          [
           "Homefront: The Revolution",
           3.8
          ],
          [
           "One Piece: Burning Blood",
           7.8
          ],
          [
           "Mirror's Edge Catalyst",
           4.7
          ],
          [
           "TrackMania Turbo",
           7.9
          ],
          [
           "World of Final Fantasy",
           8.3
          ],
          [
           "NHL 17",
           5.8
          ],
          [
           "Murdered: Soul Suspect",
           6.9
          ],
          [
           "Tropico 5",
           7.1
          ],
          [
           "Skylanders: SuperChargers",
           3.3
          ],
          [
           "Batman: Arkham VR",
           7.3
          ],
          [
           "Deadpool",
           5.7
          ],
          [
           "UEFA Euro 2016",
           6.6
          ],
          [
           "Disgaea 5: Alliance of Vengeance",
           8.1
          ],
          [
           "Batman: Return to Arkham",
           8.5
          ],
          [
           "Tearaway Unfolded",
           8.1
          ],
          [
           "Battleborn",
           6.8
          ],
          [
           "PlayStation VR Worlds",
           7.1
          ],
          [
           "Sword Art Online: Lost Song",
           6.3
          ],
          [
           "Onechanbara Z2: Chaos",
           6.5
          ],
          [
           "Samurai Warriors 4",
           8.1
          ],
          [
           "Destiny: The Collection",
           8.1
          ],
          [
           "NBA Live 14",
           2.7
          ],
          [
           "NBA Live 15",
           5.6
          ],
          [
           "Transformers: Devastation",
           7.5
          ],
          [
           "Ride",
           7
          ],
          [
           "Angry Birds Star Wars",
           2
          ],
          [
           "The Wolf Among Us",
           8.4
          ],
          [
           "Tony Hawk's Pro Skater 5",
           1.5
          ],
          [
           "Assassin's Creed The Ezio Collection",
           7.4
          ],
          [
           "Zombie Army Trilogy",
           6.8
          ],
          [
           "Odin Sphere: Leifthrasir",
           8.2
          ],
          [
           "Bound By Flame",
           5.9
          ],
          [
           "Dynasty Warriors 8: Empires",
           7.5
          ],
          [
           "Singstar: Ultimate Party",
           4.1
          ],
          [
           "Sword Art Online: Hollow Realization",
           7.7
          ],
          [
           "Saint Seiya: Soldiers' Soul",
           7.8
          ],
          [
           "MotoGP 14 ",
           6.4
          ],
          [
           "Senran Kagura: Estival Versus",
           8
          ],
          [
           "Back to the Future: The Game",
           7.1
          ],
          [
           "NBA Live 16",
           6.1
          ],
          [
           "Toukiden Kiwami",
           7.6
          ],
          [
           "Bladestorm: Nightmare",
           6.5
          ],
          [
           "Putty Squad",
           2.9
          ],
          [
           "The King of Fighters XIV",
           8.7
          ],
          [
           "LEGO Harry Potter Collection",
           8.1
          ],
          [
           "BlazBlue: Chrono Phantasma Extend",
           7.7
          ],
          [
           "Skylanders Imaginators",
           5.5
          ],
          [
           "XCOM 2",
           8
          ],
          [
           "7 Days to Die",
           5.9
          ],
          [
           "Dead Island Definitive Collection",
           6.4
          ],
          [
           "Brothers: A Tale of Two Sons",
           8.6
          ],
          [
           "Gravity Rush Remastered",
           8.2
          ],
          [
           "Final Fantasy XIV: Heavensward",
           7.6
          ],
          [
           "Don Bradman Cricket 14",
           7.4
          ],
          [
           "Atelier Sophie: The Alchemist of the Mysterious Book",
           8.1
          ],
          [
           "Robinson: The Journey",
           6.9
          ],
          [
           "Samurai Warriors 4-II",
           7.3
          ],
          [
           "Rugby 15",
           3.4
          ],
          [
           "Digimon Story: Cyber Sleuth",
           8.5
          ],
          [
           "RIGS: Mechanized Combat League",
           7.9
          ],
          [
           "God Eater 2: Rage Burst",
           8
          ],
          [
           "Ultra Street Fighter IV",
           5.9
          ],
          [
           "EVE: Valkyrie",
           6.3
          ],
          [
           "The Crew: Wild Run",
           6.8
          ],
          [
           "Natural Doctrine",
           6
          ],
          [
           "Samurai Warriors 4: Empires",
           6.5
          ],
          [
           "Teenage Mutant Ninja Turtles: Mutants in Manhattan",
           5.5
          ],
          [
           "DriveClub VR",
           7.4
          ],
          [
           "Arslan: The Warriors of Legend",
           6.6
          ],
          [
           "Assassin's Creed Chronicles",
           6.1
          ],
          [
           "Lara Croft and the Temple of Osiris",
           6.7
          ],
          [
           "BlazBlue Central Fiction",
           7.6
          ],
          [
           "The Golf Club",
           6.3
          ],
          [
           "God Eater Resurrection",
           7.8
          ],
          [
           "Shovel Knight",
           7.6
          ],
          [
           "Mega Man Legacy Collection",
           6.1
          ],
          [
           "Resident Evil 6",
           6.7
          ],
          [
           "Song of the Deep",
           7.3
          ],
          [
           "Valentino Rossi: The Game",
           8
          ],
          [
           "Grand Ages: Medieval",
           7.1
          ],
          [
           "Toy Soldiers: War Chest",
           7.7
          ],
          [
           "Fairy Fencer F: Advent Dark Force",
           6.2
          ],
          [
           "Grand Kingdom",
           8.1
          ],
          [
           "Eagle Flight",
           7.8
          ],
          [
           "The Book of Unwritten Tales 2",
           8.6
          ],
          [
           "Terraria",
           7.9
          ],
          [
           "Broken Sword 5: The Serpent's Curse",
           7.2
          ],
          [
           "Assetto Corsa",
           6.2
          ],
          [
           "Nights of Azure",
           7.6
          ],
          [
           "Earth Defense Force 4.1: The Shadow of New Despair",
           7.9
          ],
          [
           "The Technomancer",
           6.7
          ],
          [
           "MX vs. ATV Supercross Encore",
           4.1
          ],
          [
           "Rugby World Cup 2015",
           1.9
          ],
          [
           "Handball 16",
           3
          ],
          [
           "Mighty No. 9",
           3.5
          ],
          [
           "Dead or Alive Xtreme 3: Fortune",
           7.8
          ],
          [
           "Killing Floor 2 ",
           8
          ],
          [
           "Steins;Gate 0",
           8.3
          ],
          [
           "Hatsune Miku: Project Diva X",
           7.4
          ],
          [
           "Saints Row: Gat out of Hell",
           5.7
          ],
          [
           "NASCAR Heat Evolution",
           3.8
          ],
          [
           "Child of Light",
           8
          ],
          [
           "Ride 2",
           8
          ],
          [
           "Sébastien Loeb Rally Evo",
           8.1
          ],
          [
           "Battlezone",
           7
          ],
          [
           "Nobunaga's Ambition: Sphere of Influence",
           8.1
          ],
          [
           "Nitroplus Blasterz: Heroines Infinite Duel",
           6.9
          ],
          [
           "Rugby Challenge 3",
           6.8
          ],
          [
           "Psycho-Pass: Mandatory Happiness",
           8.3
          ],
          [
           "Dead Rising",
           6.6
          ],
          [
           "Metal Gear Solid V: The Definitive Experience",
           7.8
          ],
          [
           "Exist Archive: The Other Side of the Sky",
           7.9
          ],
          [
           "Assassin's Creed Chronicles: China",
           6.4
          ],
          [
           "Infamous: First Light",
           7.5
          ],
          [
           "Tour de France 2014",
           5.1
          ],
          [
           "Duke Nukem 3D: 20th Anniversary World Tour",
           6.9
          ],
          [
           "JoJo's Bizarre Adventure: Eyes of Heaven",
           7.4
          ],
          [
           "Prison Architect",
           8
          ],
          [
           "Worms: WMD",
           7.6
          ],
          [
           "The Talos Principle",
           8.4
          ],
          [
           "Dead Rising 2",
           6.6
          ],
          [
           "The Peanuts Movie: Snoopy's Grand Adventure",
           6.6
          ],
          [
           "Aegis of Earth: Protonovus Assault",
           7.8
          ],
          [
           "Agatha Christie's The ABC Murders",
           6.2
          ],
          [
           "Legend of Kay Anniversary",
           6.4
          ],
          [
           "Omega Quintet",
           7.1
          ],
          [
           "Rugby League Live 3",
           7.6
          ],
          [
           "Here They Lie",
           6.5
          ],
          [
           "Anima - Gate of Memories",
           7.9
          ],
          [
           "Dino Dini's Kick Off Revival",
           4.5
          ],
          [
           "Touhou Genso Rondo: Bullet Ballet",
           4.7
          ],
          [
           "Paragon",
           6.1
          ],
          [
           "Darksiders: Warmastered Edition",
           8.5
          ],
          [
           "Prototype: Biohazard Bundle",
           2
          ],
          [
           "Mark McMorris Infinite Air",
           6
          ],
          [
           "Rocksmith 2014 Edition Remastered",
           7.8
          ],
          [
           "Republique",
           5.8
          ],
          [
           "Super Stardust Ultra VR",
           6.2
          ],
          [
           "Super Dungeon Bros",
           2.3
          ],
          [
           "Sherlock Holmes: The Devil's Daughter",
           6.8
          ],
          [
           "Root Letter",
           7.5
          ],
          [
           "Dungeons 2",
           7.9
          ],
          [
           "Carmageddon: Max Damage",
           5.5
          ]
         ],
         "hovertemplate": "platform=PS4<br>all_sales=%{x}<br>critic_score=%{y}<br>name=%{customdata[0]}<br>user_score=%{customdata[1]}<extra></extra>",
         "legendgroup": "PS4",
         "marker": {
          "color": "#00cc96",
          "symbol": "circle"
         },
         "mode": "markers",
         "name": "PS4",
         "showlegend": true,
         "type": "scattergl",
         "x": [
          12.620000000000001,
          8.58,
          7.66,
          7.6000000000000005,
          7.17,
          6.08,
          5.640000000000001,
          5.39,
          4.62,
          4.470000000000001,
          4.07,
          4.05,
          4.04,
          3.9699999999999998,
          3.96,
          3.96,
          3.87,
          3.8299999999999996,
          3.8,
          3.58,
          3.4200000000000004,
          3.3899999999999997,
          3.2399999999999998,
          3.01,
          2.96,
          2.86,
          2.7899999999999996,
          2.78,
          2.6900000000000004,
          2.48,
          2.4499999999999997,
          2.2600000000000002,
          2.21,
          2.19,
          2.14,
          2.11,
          2.09,
          2.07,
          2.01,
          1.98,
          1.9200000000000002,
          1.9100000000000001,
          1.8800000000000001,
          1.85,
          1.81,
          1.7900000000000003,
          1.74,
          1.7200000000000002,
          1.73,
          1.7200000000000002,
          1.6900000000000002,
          1.6600000000000001,
          1.6600000000000001,
          1.62,
          1.54,
          1.44,
          1.2699999999999998,
          1.21,
          1.15,
          1.14,
          1.13,
          1.1199999999999999,
          1.1,
          1.0799999999999998,
          1.05,
          1.02,
          0.9700000000000001,
          0.93,
          0.92,
          0.93,
          0.9,
          0.9,
          0.91,
          0.88,
          0.86,
          0.78,
          0.7600000000000001,
          0.75,
          0.73,
          0.73,
          0.72,
          0.7,
          0.71,
          0.6900000000000001,
          0.67,
          0.67,
          0.64,
          0.63,
          0.61,
          0.6,
          0.6,
          0.6,
          0.54,
          0.51,
          0.52,
          0.49000000000000005,
          0.47000000000000003,
          0.45,
          0.44,
          0.43,
          0.43,
          0.42,
          0.42,
          0.4,
          0.38999999999999996,
          0.39999999999999997,
          0.38,
          0.39,
          0.38,
          0.38,
          0.37000000000000005,
          0.36000000000000004,
          0.36,
          0.36000000000000004,
          0.35000000000000003,
          0.36,
          0.34,
          0.34,
          0.34,
          0.33,
          0.32,
          0.32,
          0.3,
          0.31,
          0.3,
          0.3,
          0.29,
          0.27,
          0.26,
          0.26,
          0.26,
          0.25,
          0.25,
          0.24000000000000002,
          0.24000000000000002,
          0.24000000000000002,
          0.24000000000000002,
          0.23,
          0.23,
          0.22,
          0.21000000000000002,
          0.19999999999999998,
          0.2,
          0.19999999999999998,
          0.2,
          0.19999999999999998,
          0.19,
          0.19,
          0.19999999999999998,
          0.18,
          0.18,
          0.18,
          0.18000000000000002,
          0.17,
          0.16,
          0.16999999999999998,
          0.16,
          0.15,
          0.13999999999999999,
          0.14,
          0.13999999999999999,
          0.13999999999999999,
          0.13999999999999999,
          0.13,
          0.13,
          0.12000000000000001,
          0.13,
          0.12,
          0.12,
          0.11,
          0.12,
          0.12000000000000001,
          0.12000000000000001,
          0.11,
          0.09999999999999999,
          0.09,
          0.1,
          0.09,
          0.1,
          0.09999999999999999,
          0.09000000000000001,
          0.09,
          0.09,
          0.08,
          0.08,
          0.08,
          0.08,
          0.08,
          0.06999999999999999,
          0.09000000000000001,
          0.06999999999999999,
          0.06999999999999999,
          0.07,
          0.08,
          0.06999999999999999,
          0.07,
          0.06999999999999999,
          0.07,
          0.06999999999999999,
          0.07,
          0.06999999999999999,
          0.060000000000000005,
          0.060000000000000005,
          0.060000000000000005,
          0.06999999999999999,
          0.060000000000000005,
          0.060000000000000005,
          0.060000000000000005,
          0.05,
          0.05,
          0.05,
          0.05,
          0.04,
          0.05,
          0.05,
          0.05,
          0.05,
          0.05,
          0.05,
          0.04,
          0.03,
          0.05,
          0.04,
          0.04,
          0.04,
          0.04,
          0.04,
          0.03,
          0.03,
          0.04,
          0.03,
          0.03,
          0.03,
          0.02,
          0.02,
          0.02,
          0.02,
          0.02,
          0.02,
          0.02,
          0.02,
          0.02,
          0.02,
          0.02,
          0.02,
          0.02,
          0.02,
          0.01,
          0.01,
          0.01,
          0.02,
          0.01,
          0.01,
          0.01,
          0.01,
          0.01,
          0.01
         ],
         "xaxis": "x",
         "y": [
          97,
          82,
          83,
          85,
          87,
          82,
          76,
          93,
          86,
          77,
          88,
          80,
          85,
          92,
          70,
          87,
          87,
          78,
          80,
          85,
          93,
          76,
          83,
          87,
          84,
          83,
          80,
          83,
          73,
          92,
          83,
          76,
          73,
          81,
          90,
          73,
          74,
          71,
          89,
          80,
          86,
          79,
          88,
          73,
          68,
          75,
          82,
          63,
          54,
          61,
          71,
          79,
          89,
          83,
          79,
          85,
          75,
          73,
          62,
          79,
          83,
          79,
          69,
          83,
          70,
          90,
          76,
          79,
          73,
          80,
          77,
          70,
          74,
          82,
          80,
          87,
          89,
          82,
          71,
          80,
          83,
          73,
          78,
          67,
          71,
          65,
          88,
          78,
          75,
          72,
          69,
          60,
          75,
          61,
          68,
          81,
          74,
          85,
          78,
          76,
          79,
          75,
          69,
          72,
          85,
          72,
          79,
          72,
          78,
          84,
          84,
          85,
          85,
          73,
          48,
          66,
          69,
          81,
          77,
          78,
          59,
          76,
          81,
          75,
          60,
          72,
          80,
          73,
          81,
          68,
          59,
          63,
          57,
          76,
          null,
          43,
          59,
          77,
          66,
          47,
          83,
          32,
          72,
          62,
          87,
          53,
          63,
          47,
          69,
          59,
          73,
          67,
          null,
          59,
          74,
          58,
          38,
          79,
          73,
          80,
          80,
          88,
          45,
          63,
          81,
          80,
          86,
          76,
          75,
          65,
          73,
          19,
          75,
          79,
          69,
          71,
          73,
          73,
          53,
          71,
          44,
          67,
          69,
          null,
          74,
          85,
          66,
          70,
          90,
          77,
          60,
          69,
          75,
          64,
          62,
          71,
          78,
          72,
          63,
          83,
          72,
          73,
          67,
          64,
          60,
          42,
          25,
          null,
          52,
          43,
          76,
          81,
          78,
          64,
          66,
          82,
          71,
          71,
          66,
          80,
          70,
          64,
          72,
          78,
          null,
          69,
          69,
          73,
          53,
          77,
          61,
          80,
          78,
          88,
          82,
          59,
          57,
          67,
          62,
          58,
          null,
          62,
          52,
          31,
          55,
          null,
          79,
          48,
          49,
          null,
          72,
          66,
          42,
          70,
          69,
          61,
          51
         ],
         "yaxis": "y"
        },
        {
         "customdata": [
          [
           "Mario Kart 8",
           9.1
          ],
          [
           "Splatoon",
           8.5
          ],
          [
           "Super Mario 3D World",
           9
          ],
          [
           "Super Mario Maker",
           8.7
          ],
          [
           "New Super Luigi U",
           7.9
          ],
          [
           "Wii Party U",
           6.8
          ],
          [
           "Mario Party 10",
           6.5
          ],
          [
           "Donkey Kong Country: Tropical Freeze",
           8.9
          ],
          [
           "Yoshi's Woolly World",
           8.5
          ],
          [
           "Hyrule Warriors",
           8.3
          ],
          [
           "Captain Toad: Treasure Tracker",
           8.6
          ],
          [
           "Pikmin 3",
           8.7
          ],
          [
           "LEGO City Undercover",
           8.2
          ],
          [
           "The Legend of Zelda: Twilight Princess HD",
           8.4
          ],
          [
           "Pokken Tournament",
           8
          ],
          [
           "Wii Fit U",
           7.7
          ],
          [
           "Xenoblade Chronicles X",
           8.9
          ],
          [
           "Bayonetta 2",
           8.2
          ],
          [
           "LEGO Marvel Super Heroes",
           8
          ],
          [
           "Just Dance 2015",
           6.6
          ],
          [
           "Skylanders: Trap Team",
           7.1
          ],
          [
           "Rayman Legends",
           8.7
          ],
          [
           "The LEGO Movie Videogame",
           7.7
          ],
          [
           "Disney Infinity",
           7.6
          ],
          [
           "Just Dance 2014",
           7.6
          ],
          [
           "Skylanders SWAP Force",
           6
          ],
          [
           "Just Dance 2016",
           6.9
          ],
          [
           "LEGO Dimensions",
           6.5
          ],
          [
           "LEGO Jurassic World",
           8.1
          ],
          [
           "Kirby and the Rainbow Curse",
           8
          ],
          [
           "Skylanders: SuperChargers",
           5.6
          ],
          [
           "Lego Batman 3: Beyond Gotham",
           7
          ],
          [
           "Mario Tennis Ultra Smash",
           5.3
          ],
          [
           "Paper Mario: Color Splash",
           6.8
          ],
          [
           "Animal Crossing: Amiibo Festival",
           4.4
          ],
          [
           "The Wonderful 101",
           8.5
          ],
          [
           "Sonic Lost World",
           7.3
          ],
          [
           "Wii Sports Club",
           7
          ],
          [
           "Star Fox: Zero",
           7.4
          ],
          [
           "Call of Duty: Ghosts",
           3.4
          ],
          [
           "Batman: Arkham Origins",
           7.4
          ],
          [
           "Sonic Boom: Rise of Lyric",
           3.6
          ],
          [
           "Assassin's Creed IV: Black Flag",
           7.7
          ],
          [
           "NES Remix",
           7.1
          ],
          [
           "LEGO Marvel's Avengers",
           6.8
          ],
          [
           "LEGO The Hobbit",
           7.8
          ],
          [
           "Disney's Planes",
           5.3
          ],
          [
           "Guitar Hero Live",
           6.1
          ],
          [
           "Injustice: Gods Among Us",
           7.9
          ],
          [
           "Resident Evil: Revelations",
           7.5
          ],
          [
           "Lego Star Wars: The Force Awakens",
           8
          ],
          [
           "Watch Dogs",
           6.4
          ],
          [
           "Rodea the Sky Soldier",
           6.5
          ],
          [
           "Tom Clancy's Splinter Cell: Blacklist",
           7.8
          ],
          [
           "LEGO Batman 2: DC Super Heroes",
           7.3
          ],
          [
           "The Walking Dead: Survival Instinct",
           4.6
          ],
          [
           "Fatal Frame: Maiden of Black Water",
           7.6
          ],
          [
           "Scribblenauts Unmasked: A DC Comics Adventure",
           6.3
          ],
          [
           "Angry Birds Star Wars",
           6.8
          ],
          [
           "Shovel Knight",
           8.3
          ],
          [
           "The Smurfs 2",
           5.6
          ],
          [
           "How to Train Your Dragon 2",
           4.9
          ],
          [
           "Pac-Man and the Ghostly Adventures 2",
           7
          ],
          [
           "One Piece: Unlimited World Red",
           7.8
          ],
          [
           "DuckTales: Remastered",
           7.9
          ],
          [
           "Devil's Third",
           6.5
          ],
          [
           "PAC-MAN and the Ghostly Adventures",
           6.5
          ],
          [
           "SpongeBob SquarePants: Plankton's Robotic Revenge",
           6.2
          ],
          [
           "Penguins of Madagascar",
           5.2
          ],
          [
           "Terraria",
           6.9
          ],
          [
           "Mighty No. 9",
           4.6
          ],
          [
           "Turbo: Super Stunt Squad",
           3.9
          ],
          [
           "Monster High 13 Wishes",
           5.5
          ],
          [
           "Sniper Elite V2",
           5.8
          ],
          [
           "Fist of the North Star: Ken's Rage 2",
           5.8
          ],
          [
           "Barbie and Her Sisters Puppy Rescue",
           2.8
          ],
          [
           "Legend of Kay Anniversary",
           7.1
          ],
          [
           "Mario vs. Donkey Kong: Tipping Stars",
           7.4
          ],
          [
           "Art Academy: Home Studio",
           8.3
          ],
          [
           "Fast Racing Neo ",
           8.5
          ]
         ],
         "hovertemplate": "platform=WiiU<br>all_sales=%{x}<br>critic_score=%{y}<br>name=%{customdata[0]}<br>user_score=%{customdata[1]}<extra></extra>",
         "legendgroup": "WiiU",
         "marker": {
          "color": "#ab63fa",
          "symbol": "circle"
         },
         "mode": "markers",
         "name": "WiiU",
         "showlegend": true,
         "type": "scattergl",
         "x": [
          7.09,
          4.4399999999999995,
          4.319999999999999,
          3.21,
          2.2300000000000004,
          1.7500000000000002,
          1.58,
          1.5299999999999998,
          1.3,
          1.23,
          1.1900000000000002,
          1.12,
          1.1,
          1.03,
          1.01,
          0.84,
          0.8400000000000001,
          0.76,
          0.74,
          0.73,
          0.7,
          0.6600000000000001,
          0.6400000000000001,
          0.6000000000000001,
          0.5900000000000001,
          0.5800000000000001,
          0.5700000000000001,
          0.53,
          0.52,
          0.51,
          0.48,
          0.45999999999999996,
          0.44000000000000006,
          0.42000000000000004,
          0.42000000000000004,
          0.4,
          0.39,
          0.38,
          0.37,
          0.35,
          0.31000000000000005,
          0.31000000000000005,
          0.29000000000000004,
          0.27,
          0.24,
          0.22,
          0.2,
          0.18999999999999997,
          0.18999999999999997,
          0.18000000000000002,
          0.15000000000000002,
          0.13,
          0.12,
          0.12000000000000001,
          0.11,
          0.12,
          0.11,
          0.09999999999999999,
          0.09999999999999999,
          0.09999999999999999,
          0.08,
          0.09,
          0.06999999999999999,
          0.06,
          0.06999999999999999,
          0.06999999999999999,
          0.04,
          0.05,
          0.03,
          0.03,
          0.03,
          0.02,
          0.02,
          0.02,
          0.02,
          0.01,
          0.01,
          0.01,
          0.01,
          0.01
         ],
         "xaxis": "x",
         "y": [
          88,
          81,
          93,
          88,
          77,
          65,
          66,
          83,
          78,
          76,
          81,
          87,
          80,
          86,
          76,
          72,
          84,
          91,
          82,
          75,
          86,
          92,
          68,
          71,
          72,
          89,
          73,
          62,
          71,
          73,
          87,
          null,
          58,
          75,
          46,
          78,
          63,
          68,
          69,
          69,
          68,
          32,
          86,
          71,
          69,
          null,
          51,
          84,
          82,
          80,
          74,
          62,
          45,
          75,
          77,
          null,
          67,
          71,
          null,
          88,
          42,
          47,
          null,
          66,
          76,
          43,
          58,
          null,
          null,
          null,
          48,
          null,
          null,
          58,
          40,
          null,
          67,
          70,
          82,
          81
         ],
         "yaxis": "y"
        },
        {
         "customdata": [
          [
           "Grand Theft Auto V",
           7.9
          ],
          [
           "Call of Duty: Advanced Warfare",
           5.4
          ],
          [
           "Halo 5: Guardians",
           6.4
          ],
          [
           "Fallout 4",
           6.2
          ],
          [
           "Assassin's Creed: Unity",
           4.1
          ],
          [
           "Destiny",
           5.5
          ],
          [
           "Gears of War: Ultimate Edition",
           7.5
          ],
          [
           "FIFA 16",
           4.4
          ],
          [
           "Halo: The Master Chief Collection",
           7.2
          ],
          [
           "Titanfall",
           6.4
          ],
          [
           "Call of Duty: Ghosts",
           4.3
          ],
          [
           "FIFA 17",
           5.5
          ],
          [
           "Call of Duty: Infinite Warfare",
           3.1
          ],
          [
           "Madden NFL 16",
           6.1
          ],
          [
           "NBA 2K16",
           6.2
          ],
          [
           "Battlefield 1",
           8.2
          ],
          [
           "Assassin's Creed IV: Black Flag",
           7.4
          ],
          [
           "Forza Motorsport 5",
           5.9
          ],
          [
           "FIFA 15",
           5.4
          ],
          [
           "Tom Clancy's The Division",
           6.9
          ],
          [
           "Battlefield 4",
           6.6
          ],
          [
           "Forza Motorsport 6",
           7.9
          ],
          [
           "NBA 2K15",
           6.3
          ],
          [
           "Far Cry 4",
           7.5
          ],
          [
           "Dead Rising 3",
           6.8
          ],
          [
           "Watch Dogs",
           5.8
          ],
          [
           "Madden NFL 15",
           6.4
          ],
          [
           "Batman: Arkham Knight",
           6.6
          ],
          [
           "Forza Horizon 2",
           8.2
          ],
          [
           "Ryse: Son of Rome",
           6.1
          ],
          [
           "Mortal Kombat X",
           7.3
          ],
          [
           "Rise of the Tomb Raider",
           8
          ],
          [
           "Middle-Earth: Shadow of Mordor",
           8
          ],
          [
           "Gears of War 4",
           6.2
          ],
          [
           "Tom Clancy's Rainbow Six: Siege",
           6.9
          ],
          [
           "The Witcher 3: Wild Hunt",
           9.2
          ],
          [
           "Assassin's Creed Syndicate",
           6.1
          ],
          [
           "Dying Light",
           7.8
          ],
          [
           "The Elder Scrolls Online",
           8.4
          ],
          [
           "Madden NFL 17",
           5.9
          ],
          [
           "Battlefield: Hardline",
           5.1
          ],
          [
           "Destiny: The Taken King",
           5.2
          ],
          [
           "FIFA 14",
           5.8
          ],
          [
           "Sunset Overdrive",
           7.7
          ],
          [
           "Forza Horizon 3",
           7.4
          ],
          [
           "Overwatch",
           5.6
          ],
          [
           "LEGO Marvel Super Heroes",
           6.8
          ],
          [
           "NBA 2K17",
           6.2
          ],
          [
           "Dragon Age: Inquisition",
           6.9
          ],
          [
           "NBA 2K14",
           5.7
          ],
          [
           "Just Cause 3",
           7
          ],
          [
           "Far Cry: Primal",
           6.4
          ],
          [
           "Madden NFL 25",
           5.9
          ],
          [
           "Rare Replay",
           7.7
          ],
          [
           "Metal Gear Solid V: The Phantom Pain",
           7.3
          ],
          [
           "Plants vs. Zombies: Garden Warfare",
           7.4
          ],
          [
           "Need for Speed Rivals",
           5.8
          ],
          [
           "Wolfenstein: The New Order",
           7.8
          ],
          [
           "The Evil Within",
           7.3
          ],
          [
           "LEGO Jurassic World",
           6.7
          ],
          [
           "The Crew",
           5.9
          ],
          [
           "Evolve",
           5.1
          ],
          [
           "Mafia III",
           4.6
          ],
          [
           "Kinect Sports Rivals",
           5.1
          ],
          [
           "WWE 2K16",
           5.7
          ],
          [
           "Titanfall 2",
           8
          ],
          [
           "WWE 2K15",
           5.7
          ],
          [
           "Quantum Break",
           6.8
          ],
          [
           "Guitar Hero Live",
           5.1
          ],
          [
           "Just Dance 2015",
           7.5
          ],
          [
           "The LEGO Movie Videogame",
           6.9
          ],
          [
           "Alien: Isolation",
           7.8
          ],
          [
           "Plants vs. Zombies: Garden Warfare 2",
           8.1
          ],
          [
           "NHL 16",
           6
          ],
          [
           "Rock Band 4",
           6.4
          ],
          [
           "EA Sports UFC",
           6.3
          ],
          [
           "Just Dance 2014",
           7
          ],
          [
           "Borderlands: The Handsome Collection",
           7.8
          ],
          [
           "Lego Batman 3: Beyond Gotham",
           7.1
          ],
          [
           "EA Sports UFC 2",
           6
          ],
          [
           "LEGO Dimensions",
           6.9
          ],
          [
           "NHL 15",
           3.2
          ],
          [
           "Dark Souls III",
           8.6
          ],
          [
           "Watch Dogs 2",
           7.7
          ],
          [
           "LEGO Marvel's Avengers",
           5.1
          ],
          [
           "Sniper Elite 3",
           6.6
          ],
          [
           "Rayman Legends",
           7.9
          ],
          [
           "Just Dance 2016",
           6.1
          ],
          [
           "Dragon Ball: XenoVerse",
           7.2
          ],
          [
           "Skylanders SWAP Force",
           5.5
          ],
          [
           "Naruto Shippuden: Ultimate Ninja Storm 4",
           8.5
          ],
          [
           "Lego Star Wars: The Force Awakens",
           7
          ],
          [
           "Metal Gear Solid V: Ground Zeroes",
           5.4
          ],
          [
           "Rory McIlroy PGA Tour",
           4.3
          ],
          [
           "LEGO The Hobbit",
           6.8
          ],
          [
           "WWE 2K17",
           5.5
          ],
          [
           "Project CARS",
           5.8
          ],
          [
           "F1 2015",
           5.3
          ],
          [
           "Trials Fusion",
           7.1
          ],
          [
           "Skylanders: SuperChargers",
           5.5
          ],
          [
           "NHL 17",
           4
          ],
          [
           "Zumba Fitness: World Party",
           6.2
          ],
          [
           "Rocket League",
           8.3
          ],
          [
           "Dishonored 2",
           6.8
          ],
          [
           "Lords of the Fallen",
           6.7
          ],
          [
           "NBA Live 15",
           6.8
          ],
          [
           "NBA Live 14",
           3.1
          ],
          [
           "Dragon Ball: Xenoverse 2",
           7.3
          ],
          [
           "Fighter Within",
           3
          ],
          [
           "Dance Central: Spotlight",
           7
          ],
          [
           "Shape Up",
           8.3
          ],
          [
           "Project Spark",
           7
          ],
          [
           "Deus Ex: Mankind Divided",
           7.2
          ],
          [
           "Mirror's Edge Catalyst",
           4.4
          ],
          [
           "Murdered: Soul Suspect",
           7
          ],
          [
           "Angry Birds Star Wars",
           6.9
          ],
          [
           "BioShock The Collection",
           8.3
          ],
          [
           "Fantasia: Music Evolved",
           7.5
          ],
          [
           "Wolfenstein: The Old Blood",
           8
          ],
          [
           "Battleborn",
           7.2
          ],
          [
           "ReCore",
           6.6
          ],
          [
           "Pro Evolution Soccer 2015",
           7.3
          ],
          [
           "Homefront: The Revolution",
           4.1
          ],
          [
           "Transformers: Devastation",
           7.9
          ],
          [
           "Life is Strange",
           8.7
          ],
          [
           "Deadpool",
           5.7
          ],
          [
           "DiRT Rally",
           8
          ],
          [
           "Tony Hawk's Pro Skater 5",
           2.1
          ],
          [
           "Batman: Return to Arkham",
           8.2
          ],
          [
           "NBA Live 16",
           5.6
          ],
          [
           "Zombie Army Trilogy",
           7.2
          ],
          [
           "Pro Evolution Soccer 2016",
           6.2
          ],
          [
           "Ride",
           5.3
          ],
          [
           "Resident Evil: Revelations 2",
           7.5
          ],
          [
           "Skylanders Imaginators",
           6
          ],
          [
           "Rugby 15",
           3.1
          ],
          [
           "Assassin's Creed The Ezio Collection",
           7.6
          ],
          [
           "The Wolf Among Us",
           8.5
          ],
          [
           "Dynasty Warriors 8: Empires",
           6.8
          ],
          [
           "BlazBlue: Chrono Phantasma Extend",
           6.3
          ],
          [
           "One Piece: Burning Blood",
           5.8
          ],
          [
           "TrackMania Turbo",
           7.7
          ],
          [
           "Song of the Deep",
           6.9
          ],
          [
           "Toy Soldiers: War Chest",
           8.4
          ],
          [
           "7 Days to Die",
           5.2
          ],
          [
           "Dead Island Definitive Collection",
           4.9
          ],
          [
           "Bladestorm: Nightmare",
           7.1
          ],
          [
           "Wasteland 2",
           7.1
          ],
          [
           "Pro Evolution Soccer 2017",
           6.1
          ],
          [
           "XCOM 2",
           8.1
          ],
          [
           "Resident Evil 6",
           6.3
          ],
          [
           "Teenage Mutant Ninja Turtles: Mutants in Manhattan",
           6
          ],
          [
           "Brothers: A Tale of Two Sons",
           8.9
          ],
          [
           "Terraria",
           7.7
          ],
          [
           "NASCAR Heat Evolution",
           1.6
          ],
          [
           "Just Dance 2017",
           8
          ],
          [
           "The Golf Club",
           5.4
          ],
          [
           "Valentino Rossi: The Game",
           8.1
          ],
          [
           "Batman: A Telltale Game Series",
           4.3
          ],
          [
           "The Technomancer",
           7.4
          ],
          [
           "Rugby World Cup 2015",
           4.3
          ],
          [
           "Carmageddon: Max Damage",
           7.1
          ],
          [
           "Arslan: The Warriors of Legend",
           5.8
          ],
          [
           "Mighty No. 9",
           4.2
          ],
          [
           "The Crew: Wild Run",
           6.6
          ],
          [
           "Back to the Future: The Game",
           7.3
          ],
          [
           "Broken Sword 5: The Serpent's Curse",
           7.2
          ],
          [
           "Mark McMorris Infinite Air",
           7.1
          ],
          [
           "Assetto Corsa",
           6.7
          ],
          [
           "Dead Rising",
           8.8
          ],
          [
           "Darksiders: Warmastered Edition",
           7.9
          ],
          [
           "Worms: WMD",
           8.1
          ],
          [
           "Prototype: Biohazard Bundle",
           3.1
          ],
          [
           "Agatha Christie's The ABC Murders",
           7.5
          ],
          [
           "Goat Simulator",
           6.3
          ],
          [
           "Ride 2",
           8.2
          ],
          [
           "Rugby League Live 3",
           7.1
          ],
          [
           "Assassin's Creed Chronicles",
           6.8
          ],
          [
           "Saints Row: Gat out of Hell",
           6
          ],
          [
           "Sébastien Loeb Rally Evo",
           8.2
          ],
          [
           "Rugby Challenge 3",
           6.6
          ],
          [
           "Prison Architect",
           6.7
          ]
         ],
         "hovertemplate": "platform=XOne<br>all_sales=%{x}<br>critic_score=%{y}<br>name=%{customdata[0]}<br>user_score=%{customdata[1]}<extra></extra>",
         "legendgroup": "XOne",
         "marker": {
          "color": "#FFA15A",
          "symbol": "circle"
         },
         "mode": "markers",
         "name": "XOne",
         "showlegend": true,
         "type": "scattergl",
         "x": [
          5.47,
          5.26,
          4.49,
          4.22,
          3.5,
          3.37,
          3.28,
          3.25,
          3.23,
          2.95,
          2.92,
          2.65,
          2.4200000000000004,
          2.42,
          2.34,
          2.25,
          2.24,
          2.1999999999999997,
          2.18,
          2.1700000000000004,
          2.02,
          1.7999999999999998,
          1.73,
          1.6400000000000001,
          1.57,
          1.5700000000000003,
          1.56,
          1.4900000000000002,
          1.4000000000000001,
          1.3900000000000001,
          1.38,
          1.3800000000000001,
          1.3599999999999999,
          1.3399999999999999,
          1.3399999999999999,
          1.3,
          1.2900000000000003,
          1.29,
          1.2800000000000002,
          1.23,
          1.21,
          1.2000000000000002,
          1.1600000000000001,
          1.1300000000000001,
          1.08,
          1.06,
          1.05,
          1.03,
          0.93,
          0.8999999999999999,
          0.91,
          0.88,
          0.8,
          0.79,
          0.75,
          0.6799999999999999,
          0.7,
          0.6800000000000002,
          0.6599999999999999,
          0.6599999999999999,
          0.6400000000000001,
          0.6300000000000001,
          0.6200000000000001,
          0.6000000000000001,
          0.5900000000000001,
          0.5700000000000001,
          0.5700000000000001,
          0.56,
          0.55,
          0.53,
          0.53,
          0.49999999999999994,
          0.4799999999999999,
          0.48,
          0.47,
          0.45999999999999996,
          0.44999999999999996,
          0.43,
          0.44,
          0.42,
          0.41,
          0.41,
          0.38999999999999996,
          0.36,
          0.33999999999999997,
          0.33999999999999997,
          0.33999999999999997,
          0.31999999999999995,
          0.31999999999999995,
          0.31000000000000005,
          0.31000000000000005,
          0.29000000000000004,
          0.28,
          0.27,
          0.27,
          0.26,
          0.26,
          0.24999999999999997,
          0.24,
          0.24000000000000002,
          0.24000000000000002,
          0.24000000000000002,
          0.24000000000000002,
          0.22,
          0.22,
          0.21,
          0.19999999999999998,
          0.19999999999999998,
          0.19999999999999998,
          0.18,
          0.18,
          0.18,
          0.16,
          0.16,
          0.16000000000000003,
          0.16999999999999998,
          0.15000000000000002,
          0.15000000000000002,
          0.15000000000000002,
          0.15000000000000002,
          0.14,
          0.14,
          0.14,
          0.14,
          0.13,
          0.13,
          0.13,
          0.12,
          0.11,
          0.10999999999999999,
          0.11,
          0.11,
          0.09999999999999999,
          0.1,
          0.09999999999999999,
          0.09,
          0.08,
          0.08,
          0.06999999999999999,
          0.07,
          0.060000000000000005,
          0.06,
          0.060000000000000005,
          0.060000000000000005,
          0.05,
          0.05,
          0.05,
          0.060000000000000005,
          0.04,
          0.04,
          0.04,
          0.04,
          0.04,
          0.04,
          0.03,
          0.03,
          0.03,
          0.03,
          0.03,
          0.02,
          0.02,
          0.02,
          0.01,
          0.02,
          0.02,
          0.02,
          0.02,
          0.01,
          0.01,
          0.01,
          0.01,
          0.01,
          0.01,
          0.01,
          0.01,
          0.01,
          0.01,
          0.01,
          0.01,
          0.01,
          0.01,
          0.01
         ],
         "xaxis": "x",
         "y": [
          97,
          81,
          84,
          88,
          72,
          75,
          82,
          84,
          85,
          86,
          78,
          84,
          78,
          84,
          86,
          87,
          null,
          79,
          82,
          80,
          81,
          87,
          82,
          82,
          78,
          78,
          80,
          85,
          86,
          60,
          86,
          86,
          87,
          84,
          74,
          91,
          78,
          74,
          77,
          83,
          71,
          89,
          88,
          81,
          91,
          91,
          null,
          90,
          85,
          86,
          71,
          77,
          73,
          84,
          95,
          76,
          75,
          79,
          79,
          70,
          64,
          74,
          67,
          60,
          72,
          87,
          56,
          77,
          81,
          70,
          69,
          78,
          80,
          80,
          79,
          70,
          71,
          80,
          74,
          76,
          80,
          59,
          87,
          83,
          71,
          63,
          91,
          66,
          67,
          null,
          81,
          76,
          76,
          60,
          69,
          68,
          81,
          64,
          80,
          76,
          77,
          73,
          87,
          88,
          71,
          53,
          36,
          73,
          23,
          74,
          58,
          73,
          83,
          72,
          51,
          53,
          84,
          77,
          75,
          71,
          63,
          79,
          49,
          75,
          85,
          null,
          86,
          39,
          77,
          60,
          62,
          85,
          54,
          75,
          78,
          20,
          74,
          null,
          58,
          null,
          60,
          76,
          66,
          60,
          35,
          67,
          48,
          77,
          87,
          87,
          63,
          55,
          81,
          84,
          null,
          75,
          64,
          74,
          null,
          68,
          null,
          52,
          null,
          55,
          65,
          null,
          77,
          null,
          63,
          null,
          80,
          75,
          56,
          66,
          53,
          null,
          null,
          null,
          65,
          63,
          null,
          74
         ],
         "yaxis": "y"
        },
        {
         "customdata": [
          [
           "Luigi's Mansion: Dark Moon",
           8.4
          ],
          [
           "Monster Hunter 4 Ultimate",
           8.7
          ],
          [
           "The Legend of Zelda: A Link Between Worlds",
           8.9
          ],
          [
           "Animal Crossing: Happy Home Designer",
           6.9
          ],
          [
           "The Legend of Zelda: Majora's Mask 3D",
           9
          ],
          [
           "Mario Party: Island Tour",
           6.3
          ],
          [
           "Kirby: Triple Deluxe",
           8.8
          ],
          [
           "Yoshi's New Island",
           6.1
          ],
          [
           "Pokemon Super Mystery Dungeon",
           8.8
          ],
          [
           "The Legend of Zelda: Tri Force Heroes",
           7.6
          ],
          [
           "Kirby: Planet Robobot",
           8.7
          ],
          [
           "Disney Magical World",
           7.5
          ],
          [
           "LEGO Marvel Super Heroes",
           5.2
          ],
          [
           "Professor Layton and the Azran Legacy",
           7.9
          ],
          [
           "Persona Q: Shadow of the Labyrinth",
           8.1
          ],
          [
           "The LEGO Movie Videogame",
           5.4
          ],
          [
           "LEGO Jurassic World",
           7.2
          ],
          [
           "Shin Megami Tensei IV",
           8.3
          ],
          [
           "Final Fantasy Explorers",
           7
          ],
          [
           "Sonic Lost World",
           6.5
          ],
          [
           "Pokemon Art Academy ",
           7.7
          ],
          [
           "Bravely Second: End Layer",
           7.4
          ],
          [
           "Mario Golf: World Tour",
           8.2
          ],
          [
           "FIFA 15",
           2.4
          ],
          [
           "Lego Batman 3: Beyond Gotham",
           6.4
          ],
          [
           "Hometown Story",
           6
          ],
          [
           "Story of Seasons",
           8.2
          ],
          [
           "Attack on Titan: Humanity in Chains",
           4.5
          ],
          [
           "One Piece: Unlimited World Red",
           7.6
          ],
          [
           "Theatrhythm Final Fantasy: Curtain Call",
           8.2
          ],
          [
           "Fossil Fighters: Frontier",
           4.8
          ],
          [
           "Angry Birds Star Wars",
           3
          ],
          [
           "Dragon Ball Z: Extreme Butoden",
           6.6
          ],
          [
           "Hatsune Miku: Project Mirai DX",
           8.5
          ],
          [
           "LEGO Legends of Chima: Laval's Journey",
           3.6
          ],
          [
           "Mario Party: Star Rush",
           6.8
          ],
          [
           "Sonic Boom: Shattered Crystal",
           6.3
          ],
          [
           "Skylanders: Trap Team",
           3.4
          ],
          [
           "Batman: Arkham Origins Blackgate",
           6.8
          ],
          [
           "Ultimate NES Remix",
           7.6
          ],
          [
           "Etrian Odyssey Untold: The Millennium Girl",
           8.2
          ],
          [
           "The Legend of Legacy",
           7.1
          ],
          [
           "Stella Glow",
           8.7
          ],
          [
           "Skylanders SWAP Force",
           6.4
          ],
          [
           "Etrian Mystery Dungeon",
           7.9
          ],
          [
           "Senran Kagura 2: Deep Crimson ",
           6.8
          ],
          [
           "Code Name: S.T.E.A.M.",
           7.7
          ],
          [
           "Dragon Ball: Fusions",
           7.6
          ],
          [
           "Mega Man Legacy Collection",
           7.1
          ],
          [
           "LEGO Marvel's Avengers",
           7.1
          ],
          [
           "7th Dragon III Code: VFD",
           8.2
          ],
          [
           "Return to PopoloCrois: A Story of Seasons Fairytale",
           6.8
          ],
          [
           "Shovel Knight",
           8.2
          ],
          [
           "Conception II: Children of the Seven Stars",
           7.7
          ],
          [
           "Lego Star Wars: The Force Awakens",
           7.8
          ],
          [
           "Disney Art Academy",
           6.8
          ],
          [
           "Scribblenauts Unmasked: A DC Comics Adventure",
           6.2
          ],
          [
           "Pokemon Rumble World",
           6.4
          ],
          [
           "Terraria",
           7.1
          ],
          [
           "Adventure Time: The Secret of the Nameless Kingdom",
           5.6
          ],
          [
           "Samurai Warriors Chronicles 3",
           6.1
          ],
          [
           "Zero Escape: Zero Time Dilemma",
           8.5
          ],
          [
           "Disney's Planes",
           4.3
          ],
          [
           "Mario vs. Donkey Kong: Tipping Stars",
           7.5
          ],
          [
           "Lord of Magna: Maiden Heaven",
           7.8
          ],
          [
           "Metroid Prime: Federation Force",
           5.1
          ],
          [
           "Shantae and the Pirate's Curse",
           8.5
          ],
          [
           "LEGO Friends",
           8.3
          ],
          [
           "Gravity Falls: Legend of the Gnome Gemulets",
           5.8
          ],
          [
           "Rodea the Sky Soldier",
           5.6
          ],
          [
           "Beyblade Evolution",
           6.3
          ],
          [
           "Yumi's Odd Odyssey",
           7.7
          ],
          [
           "Young Justice: Legacy",
           7.1
          ],
          [
           "The Peanuts Movie: Snoopy's Grand Adventure",
           8.8
          ],
          [
           "Harvest Moon: Skytree Village",
           7.4
          ],
          [
           "Phoenix Wright: Ace Attorney Trilogy",
           9
          ],
          [
           "Tenkai Knights: Brave Battle",
           2.4
          ],
          [
           "Ben 10 Omniverse 2",
           7.6
          ],
          [
           "Turbo: Super Stunt Squad",
           5.2
          ],
          [
           "Azure Striker Gunvolt",
           8.4
          ]
         ],
         "hovertemplate": "platform=3DS<br>all_sales=%{x}<br>critic_score=%{y}<br>name=%{customdata[0]}<br>user_score=%{customdata[1]}<extra></extra>",
         "legendgroup": "3DS",
         "marker": {
          "color": "#19d3f3",
          "symbol": "circle"
         },
         "mode": "markers",
         "name": "3DS",
         "showlegend": true,
         "type": "scattergl",
         "x": [
          4.59,
          3.89,
          3.1,
          3.05,
          2.34,
          1.9200000000000002,
          1.83,
          1.3800000000000001,
          1.25,
          1.11,
          0.93,
          0.93,
          0.8900000000000001,
          0.76,
          0.7200000000000001,
          0.6900000000000002,
          0.6200000000000001,
          0.5800000000000001,
          0.53,
          0.48,
          0.49,
          0.48,
          0.4800000000000001,
          0.4600000000000001,
          0.45,
          0.42999999999999994,
          0.42000000000000004,
          0.42,
          0.38,
          0.38,
          0.36,
          0.32999999999999996,
          0.33,
          0.32000000000000006,
          0.31000000000000005,
          0.31000000000000005,
          0.29000000000000004,
          0.28,
          0.27,
          0.26,
          0.26,
          0.25,
          0.24000000000000002,
          0.24,
          0.24,
          0.21000000000000002,
          0.22,
          0.21,
          0.21,
          0.18000000000000002,
          0.16,
          0.16000000000000003,
          0.15,
          0.13,
          0.13,
          0.11,
          0.09999999999999999,
          0.09,
          0.09,
          0.07,
          0.08,
          0.08,
          0.08,
          0.06,
          0.06,
          0.04,
          0.04,
          0.04,
          0.03,
          0.03,
          0.03,
          0.03,
          0.03,
          0.03,
          0.02,
          0.02,
          0.02,
          0.02,
          0.01,
          0.01
         ],
         "xaxis": "x",
         "y": [
          86,
          86,
          91,
          66,
          89,
          57,
          80,
          64,
          69,
          73,
          81,
          71,
          61,
          81,
          83,
          null,
          null,
          83,
          69,
          59,
          76,
          81,
          78,
          null,
          null,
          47,
          76,
          46,
          75,
          83,
          57,
          null,
          61,
          80,
          65,
          68,
          47,
          null,
          68,
          69,
          80,
          67,
          79,
          68,
          77,
          58,
          69,
          68,
          77,
          60,
          77,
          72,
          90,
          62,
          null,
          72,
          68,
          58,
          71,
          65,
          63,
          81,
          null,
          70,
          68,
          64,
          82,
          43,
          46,
          45,
          49,
          74,
          null,
          null,
          null,
          81,
          26,
          null,
          null,
          77
         ],
         "yaxis": "y"
        },
        {
         "customdata": [
          [
           "Just Dance 2014",
           6.2
          ],
          [
           "Skylanders SWAP Force",
           6.6
          ],
          [
           "Just Dance 2015",
           8.4
          ],
          [
           "Disney Infinity",
           4.2
          ],
          [
           "FIFA 15",
           4.3
          ],
          [
           "FIFA 14",
           4.3
          ],
          [
           "Angry Birds Star Wars",
           2.8
          ]
         ],
         "hovertemplate": "platform=Wii<br>all_sales=%{x}<br>critic_score=%{y}<br>name=%{customdata[0]}<br>user_score=%{customdata[1]}<extra></extra>",
         "legendgroup": "Wii",
         "marker": {
          "color": "#FF6692",
          "symbol": "circle"
         },
         "mode": "markers",
         "name": "Wii",
         "showlegend": true,
         "type": "scattergl",
         "x": [
          3.5799999999999996,
          2.15,
          2.01,
          1.6,
          0.56,
          0.38,
          0.26
         ],
         "xaxis": "x",
         "y": [
          null,
          null,
          null,
          null,
          null,
          null,
          null
         ],
         "yaxis": "y"
        },
        {
         "customdata": [
          [
           "The Sims 4",
           3.9
          ],
          [
           "StarCraft II: Heart of the Swarm",
           7.9
          ],
          [
           "SimCity (2013)",
           2.2
          ],
          [
           "Battlefield 4",
           6
          ],
          [
           "Fallout 4",
           5.4
          ],
          [
           "Grand Theft Auto V",
           7.9
          ],
          [
           "The Elder Scrolls Online",
           5.7
          ],
          [
           "Dragon Age: Inquisition",
           5.9
          ],
          [
           "Total War: Rome II",
           4.2
          ],
          [
           "The Witcher 3: Wild Hunt",
           9.3
          ],
          [
           "BioShock Infinite",
           8.5
          ],
          [
           "Farming Simulator 17",
           8
          ],
          [
           "Assassin's Creed IV: Black Flag",
           7.7
          ],
          [
           "Football Manager 2014",
           5.5
          ],
          [
           "Far Cry 4",
           6.7
          ],
          [
           "Crysis 3",
           6.5
          ],
          [
           "Titanfall",
           6.2
          ],
          [
           "Assassin's Creed: Unity",
           3
          ],
          [
           "Overwatch",
           6.8
          ],
          [
           "StarCraft II: Legacy of the Void",
           8.3
          ],
          [
           "World of Warcraft: Warlords of Draenor",
           5.9
          ],
          [
           "Football Manager 2015",
           6
          ],
          [
           "Wolfenstein: The New Order",
           8.2
          ],
          [
           "Watch Dogs",
           4.7
          ],
          [
           "Tom Clancy's The Division",
           5.8
          ],
          [
           "Call of Duty: Advanced Warfare",
           4.5
          ],
          [
           "FIFA 14",
           4.6
          ],
          [
           "Battlefield 1",
           7.6
          ],
          [
           "Sid Meier's Civilization: Beyond Earth",
           5.5
          ],
          [
           "Middle-Earth: Shadow of Mordor",
           8
          ],
          [
           "Football Manager 2016",
           6.9
          ],
          [
           "Company of Heroes 2",
           2.1
          ],
          [
           "World of Warcraft: Legion",
           7.5
          ],
          [
           "Batman: Arkham Origins",
           7.5
          ],
          [
           "Borderlands: The Pre-Sequel",
           6.2
          ],
          [
           "FIFA 15",
           4.2
          ],
          [
           "The Evil Within",
           5.9
          ],
          [
           "Anno 2205",
           5.9
          ],
          [
           "Need for Speed Rivals",
           3.3
          ],
          [
           "Sid Meier's Civilization VI",
           7.3
          ],
          [
           "Total War: Attila",
           7.3
          ],
          [
           "XCOM 2",
           7.1
          ],
          [
           "Tom Clancy's Rainbow Six: Siege",
           6.9
          ],
          [
           "The Sims 4: Get Together",
           7.3
          ],
          [
           "Assassin's Creed Syndicate",
           5.9
          ],
          [
           "Defiance",
           6.5
          ],
          [
           "FIFA 16",
           4.4
          ],
          [
           "Dying Light",
           7.9
          ],
          [
           "Mafia III",
           3.2
          ],
          [
           "South Park: The Stick of Truth",
           8.6
          ],
          [
           "Metro: Last Light",
           8.6
          ],
          [
           "Evolve",
           4.3
          ],
          [
           "Tom Clancy's Splinter Cell: Blacklist",
           7.4
          ],
          [
           "Saints Row IV",
           7.4
          ],
          [
           "Aliens: Colonial Marines",
           3.5
          ],
          [
           "Dark Souls II",
           7.1
          ],
          [
           "LEGO Marvel Super Heroes",
           8.1
          ],
          [
           "Far Cry: Primal",
           4.8
          ],
          [
           "The Crew",
           6.4
          ],
          [
           "Wildstar",
           7.4
          ],
          [
           "Alien: Isolation",
           8.4
          ],
          [
           "Just Cause 3",
           5.3
          ],
          [
           "Cities: Skylines",
           8.9
          ],
          [
           "Battlefield: Hardline",
           3.8
          ],
          [
           "Call of Duty: Infinite Warfare",
           3
          ],
          [
           "Total War: WARHAMMER",
           7.3
          ],
          [
           "Batman: Arkham Knight",
           2.5
          ],
          [
           "Project CARS",
           7.1
          ],
          [
           "Rise of the Tomb Raider",
           7.9
          ],
          [
           "Dishonored 2",
           6
          ],
          [
           "Tropico 5",
           7
          ],
          [
           "FIFA 17",
           4.2
          ],
          [
           "ArmA III",
           7.4
          ],
          [
           "Wasteland 2",
           7.3
          ],
          [
           "Pro Evolution Soccer 2014",
           4.4
          ],
          [
           "The Sims 4: City Living",
           5.7
          ],
          [
           "NBA 2K16",
           5.7
          ],
          [
           "F1 2014",
           4.8
          ],
          [
           "Football Manager 2017",
           4.3
          ],
          [
           "Wolfenstein: The Old Blood",
           7.6
          ],
          [
           "Risen 3: Titan Lords",
           5.7
          ],
          [
           "Battleborn",
           6.9
          ],
          [
           "Titanfall 2",
           8
          ],
          [
           "Sniper: Ghost Warrior 2",
           5.8
          ],
          [
           "Assassin's Creed: Rogue",
           7.5
          ],
          [
           "X Rebirth",
           3.3
          ],
          [
           "Metal Gear Solid V: The Phantom Pain",
           7.7
          ],
          [
           "Dark Souls III",
           8.6
          ],
          [
           "Goodbye Deponia",
           7.9
          ],
          [
           "GRID 2",
           5.7
          ],
          [
           "Mirror's Edge Catalyst",
           4.4
          ],
          [
           "Pro Evolution Soccer 2015",
           5.8
          ],
          [
           "Lego Batman 3: Beyond Gotham",
           6.8
          ],
          [
           "The LEGO Movie Videogame",
           6.8
          ],
          [
           "Street Fighter V",
           2.9
          ],
          [
           "Remember Me",
           7.4
          ],
          [
           "Rocket League",
           8.2
          ],
          [
           "Hearts of Iron IV",
           6.9
          ],
          [
           "Murdered: Soul Suspect",
           7.4
          ],
          [
           "F1 2015",
           3.6
          ],
          [
           "Mortal Kombat X",
           5.1
          ],
          [
           "The Bureau: XCOM Declassified",
           6.5
          ],
          [
           "Payday 2",
           3.4
          ],
          [
           "Grand Ages: Medieval",
           5.4
          ],
          [
           "Plants vs. Zombies: Garden Warfare 2",
           7.5
          ],
          [
           "Life is Strange",
           8.6
          ],
          [
           "Pro Evolution Soccer 2016",
           4.3
          ],
          [
           "Stellaris",
           8
          ],
          [
           "Resident Evil: Revelations",
           7
          ],
          [
           "The Sims 4: Spa Day",
           7.6
          ],
          [
           "LEGO Jurassic World",
           7.1
          ],
          [
           "Train Simulator 2016",
           4
          ],
          [
           "Lost Planet 3",
           6.2
          ],
          [
           "Castlevania: Lords of Shadow 2",
           7.7
          ],
          [
           "Transport Fever",
           7
          ],
          [
           "Homefront: The Revolution",
           3.5
          ],
          [
           "Pro Cycling Manager 2016",
           4.8
          ],
          [
           "The Night of the Rabbit",
           7.5
          ],
          [
           "Deus Ex: Mankind Divided",
           6.1
          ],
          [
           "Song of the Deep",
           6.3
          ],
          [
           "DiRT Rally",
           8.7
          ],
          [
           "Trials Fusion",
           6.8
          ],
          [
           "Transformers: Devastation",
           7.6
          ],
          [
           "The Inner World",
           8.1
          ],
          [
           "Lords of the Fallen",
           6.9
          ],
          [
           "Ride",
           4.8
          ],
          [
           "Bus Simulator 16",
           6.1
          ],
          [
           "GRID Autosport",
           6.2
          ],
          [
           "Final Fantasy XIV: Heavensward",
           7.7
          ],
          [
           "Plants vs. Zombies: Garden Warfare",
           7.8
          ],
          [
           "Sacred 3",
           1.4
          ],
          [
           "Pro Evolution Soccer 2017",
           3.7
          ],
          [
           "RollerCoaster Tycoon World",
           2.4
          ],
          [
           "Agatha Christie: The ABC Murders",
           8.5
          ],
          [
           "Lara Croft and the Temple of Osiris",
           5.4
          ],
          [
           "The Crew: Wild Run",
           7.4
          ],
          [
           "Pillars of Eternity",
           8.3
          ],
          [
           "Divinity: Original Sin",
           8.7
          ],
          [
           "The Sims 4: Luxury Party Stuff",
           5.3
          ],
          [
           "Quantum Break",
           4.3
          ],
          [
           "DuckTales: Remastered",
           7.6
          ],
          [
           "Contrast",
           7.7
          ],
          [
           "Valentino Rossi: The Game",
           6.2
          ],
          [
           "NBA 2K17",
           6.3
          ],
          [
           "War for the Overworld",
           7.7
          ],
          [
           "The Technomancer",
           6.8
          ],
          [
           "Sherlock Holmes: The Devil's Daughter",
           7.3
          ],
          [
           "Battle Worlds: Kronos",
           7.1
          ],
          [
           "Cities: Skylines Snowfall",
           7.1
          ],
          [
           "Act of Aggression",
           7.1
          ],
          [
           "Fallout Anthology",
           8.3
          ],
          [
           "TrackMania Turbo",
           6.8
          ],
          [
           "Ride 2",
           7.9
          ],
          [
           "Rugby World Cup 2015",
           1.4
          ],
          [
           "Metal Gear Solid V: Ground Zeroes",
           7.6
          ]
         ],
         "hovertemplate": "platform=PC<br>all_sales=%{x}<br>critic_score=%{y}<br>name=%{customdata[0]}<br>user_score=%{customdata[1]}<extra></extra>",
         "legendgroup": "PC",
         "marker": {
          "color": "#B6E880",
          "symbol": "circle"
         },
         "mode": "markers",
         "name": "PC",
         "showlegend": true,
         "type": "scattergl",
         "x": [
          3.0500000000000003,
          1.67,
          1.42,
          1.36,
          1.2800000000000002,
          1.1700000000000002,
          0.9000000000000001,
          0.73,
          0.72,
          0.7200000000000001,
          0.6599999999999999,
          0.65,
          0.65,
          0.63,
          0.63,
          0.6300000000000001,
          0.56,
          0.55,
          0.53,
          0.52,
          0.47,
          0.47,
          0.44999999999999996,
          0.44000000000000006,
          0.41,
          0.41000000000000003,
          0.4,
          0.38,
          0.36,
          0.35,
          0.35000000000000003,
          0.35,
          0.32000000000000006,
          0.31000000000000005,
          0.28,
          0.29000000000000004,
          0.28,
          0.26,
          0.25,
          0.24,
          0.24,
          0.22999999999999998,
          0.23,
          0.22,
          0.22,
          0.2,
          0.2,
          0.19999999999999998,
          0.19999999999999998,
          0.18000000000000002,
          0.18999999999999997,
          0.19999999999999998,
          0.18000000000000002,
          0.18999999999999997,
          0.18,
          0.17,
          0.17,
          0.16,
          0.16,
          0.16000000000000003,
          0.15000000000000002,
          0.15000000000000002,
          0.14,
          0.14,
          0.13,
          0.13,
          0.13,
          0.13,
          0.12,
          0.12000000000000001,
          0.12,
          0.12,
          0.11,
          0.09999999999999999,
          0.11,
          0.11,
          0.09999999999999999,
          0.09999999999999999,
          0.09999999999999999,
          0.08,
          0.08,
          0.09,
          0.08,
          0.08,
          0.08,
          0.08,
          0.07,
          0.07,
          0.06,
          0.06999999999999999,
          0.060000000000000005,
          0.06,
          0.06,
          0.06,
          0.05,
          0.05,
          0.05,
          0.05,
          0.05,
          0.05,
          0.05,
          0.05,
          0.05,
          0.05,
          0.04,
          0.05,
          0.04,
          0.04,
          0.04,
          0.04,
          0.04,
          0.04,
          0.04,
          0.04,
          0.03,
          0.03,
          0.03,
          0.03,
          0.03,
          0.03,
          0.03,
          0.03,
          0.03,
          0.03,
          0.03,
          0.03,
          0.03,
          0.02,
          0.02,
          0.02,
          0.02,
          0.02,
          0.02,
          0.02,
          0.02,
          0.02,
          0.02,
          0.02,
          0.01,
          0.01,
          0.01,
          0.01,
          0.01,
          0.01,
          0.01,
          0.01,
          0.01,
          0.01,
          0.01,
          0.01,
          0.01,
          0.01,
          0.01,
          0.01,
          0.01
         ],
         "xaxis": "x",
         "y": [
          70,
          86,
          64,
          81,
          84,
          96,
          71,
          85,
          76,
          93,
          94,
          64,
          84,
          85,
          80,
          76,
          86,
          70,
          91,
          88,
          87,
          80,
          81,
          77,
          79,
          78,
          87,
          88,
          81,
          84,
          81,
          80,
          88,
          74,
          75,
          82,
          68,
          72,
          76,
          88,
          80,
          88,
          79,
          72,
          74,
          64,
          81,
          75,
          63,
          85,
          82,
          77,
          82,
          86,
          45,
          91,
          78,
          74,
          71,
          82,
          81,
          74,
          85,
          71,
          73,
          86,
          70,
          83,
          86,
          86,
          75,
          84,
          74,
          81,
          74,
          77,
          null,
          61,
          81,
          76,
          65,
          69,
          85,
          52,
          74,
          33,
          91,
          89,
          80,
          80,
          74,
          82,
          null,
          68,
          74,
          65,
          86,
          83,
          59,
          61,
          76,
          66,
          79,
          63,
          82,
          83,
          76,
          78,
          77,
          null,
          72,
          null,
          61,
          58,
          70,
          54,
          64,
          75,
          83,
          73,
          86,
          80,
          74,
          72,
          73,
          68,
          46,
          78,
          86,
          78,
          57,
          69,
          43,
          66,
          73,
          74,
          89,
          87,
          null,
          66,
          66,
          62,
          72,
          90,
          65,
          56,
          65,
          71,
          72,
          71,
          null,
          79,
          78,
          null,
          80
         ],
         "yaxis": "y"
        },
        {
         "customdata": [
          [
           "Killzone: Mercenary",
           8.9
          ],
          [
           "Final Fantasy X / X-2 HD Remaster",
           8.5
          ],
          [
           "Freedom Wars",
           8.3
          ],
          [
           "Borderlands 2",
           7.6
          ],
          [
           "Tearaway",
           8.9
          ],
          [
           "FIFA 15",
           3.1
          ],
          [
           "Soul Sacrifice",
           8.2
          ],
          [
           "Batman: Arkham Origins Blackgate",
           6.8
          ],
          [
           "FIFA 14",
           1.8
          ],
          [
           "God Eater 2: Rage Burst",
           8.1
          ],
          [
           "Sword Art Online: Lost Song",
           7.1
          ],
          [
           "Dragon's Crown",
           8.4
          ],
          [
           "Toukiden: The Age of Demons",
           8
          ],
          [
           "Danganronpa: Trigger Happy Havoc",
           8.1
          ],
          [
           "Hatsune Miku: Project Diva F 2nd",
           8.4
          ],
          [
           "Persona 4: Dancing All Night",
           8.6
          ],
          [
           "Lego Batman 3: Beyond Gotham",
           7.7
          ],
          [
           "Sword Art Online: Hollow Fragment",
           7.6
          ],
          [
           "The LEGO Movie Videogame",
           5.6
          ],
          [
           "Sly Cooper: Thieves in Time",
           8.2
          ],
          [
           "The Legend of Heroes: Trails of Cold Steel",
           7.5
          ],
          [
           "Toukiden Kiwami",
           8.6
          ],
          [
           "LEGO Jurassic World",
           7.6
          ],
          [
           "Soul Sacrifice Delta",
           8.4
          ],
          [
           "World of Final Fantasy",
           8.6
          ],
          [
           "Danganronpa Another Episode: Ultra Despair Girls",
           8.4
          ],
          [
           "J Stars Victory Vs.",
           7.9
          ],
          [
           "God of War Collection",
           7.4
          ],
          [
           "God Eater Resurrection",
           8.8
          ],
          [
           "The Legend of Heroes: Trails of Cold Steel II",
           7.3
          ],
          [
           "Corpse Party: Blood Drive",
           7.4
          ],
          [
           "Valhalla Knights 3",
           6.8
          ],
          [
           "Senran Kagura: Estival Versus",
           7.4
          ],
          [
           "Danganronpa 2: Goodbye Despair",
           8.7
          ],
          [
           "Conception II: Children of the Seven Stars",
           7.6
          ],
          [
           "Digimon Story: Cyber Sleuth",
           8.8
          ],
          [
           "Demon Gaze",
           7.4
          ],
          [
           "Mobile Suit Gundam: Extreme VS Force",
           7.3
          ],
          [
           "One Piece: Pirate Warriors 3",
           6.3
          ],
          [
           "LEGO The Hobbit",
           2.5
          ],
          [
           "Oreshika: Tainted Bloodlines",
           8
          ],
          [
           "Sword Art Online: Hollow Realization",
           7
          ],
          [
           "Odin Sphere: Leifthrasir",
           7.9
          ],
          [
           "Rayman Legends",
           8.4
          ],
          [
           "Dengeki Bunko Fighting Climax",
           8.5
          ],
          [
           "LEGO Legends of Chima: Laval's Journey",
           6.6
          ],
          [
           "Deception IV: Blood Ties",
           7.5
          ],
          [
           "One Piece: Unlimited World Red",
           7.8
          ],
          [
           "Hyperdevotion Noire: Goddess Black Heart",
           7.1
          ],
          [
           "LEGO Marvel's Avengers",
           6.6
          ],
          [
           "Hatsune Miku: Project Diva X",
           8
          ],
          [
           "Hyperdimension Neptunia U: Action Unleashed",
           6.8
          ],
          [
           "MLB 13: The Show",
           7.5
          ],
          [
           "Valkyrie Drive: Bhikkhuni",
           8.5
          ],
          [
           "Samurai Warriors 4",
           8.6
          ],
          [
           "MLB 14: The Show",
           7
          ],
          [
           "Dragon Ball Z: Battle of Z",
           7.5
          ],
          [
           "Mind Zero",
           6
          ],
          [
           "Terraria",
           7.8
          ],
          [
           "Resident Evil: Revelations 2",
           7.8
          ],
          [
           "Steins;Gate",
           9.2
          ],
          [
           "Operation Abyss: New Tokyo Legacy",
           7.3
          ],
          [
           "Lego Star Wars: The Force Awakens",
           7.1
          ],
          [
           "One Piece: Burning Blood",
           7.8
          ],
          [
           "Steins;Gate 0",
           9.3
          ],
          [
           "Angry Birds Star Wars",
           2
          ],
          [
           "Invizimals: The Alliance",
           6.8
          ],
          [
           "Lost Dimension",
           8.3
          ],
          [
           "Child of Light",
           7.8
          ],
          [
           "BlazBlue: Chrono Phantasma",
           7.8
          ],
          [
           "Tokyo Twilight Ghost Hunters",
           7
          ],
          [
           "Earth Defense Force 2: Invaders from Planet Space",
           8.5
          ],
          [
           "Assassin's Creed Chronicles",
           8
          ],
          [
           "Natural Doctrine",
           7.5
          ],
          [
           "Criminal Girls: Invite Only",
           6.7
          ],
          [
           "Samurai Warriors Chronicles 3",
           7.9
          ],
          [
           "Zero Escape: Zero Time Dilemma",
           8.3
          ],
          [
           "Grand Kingdom",
           8.8
          ],
          [
           "Atelier Sophie: The Alchemist of the Mysterious Book",
           8
          ],
          [
           "Exist Archive: The Other Side of the Sky",
           8.3
          ],
          [
           "Root Letter",
           7.8
          ],
          [
           "The Wolf Among Us",
           8.4
          ],
          [
           "Gal Gun: Double Peace",
           8.1
          ],
          [
           "Ray Gigant",
           8.1
          ],
          [
           "Stranger of Sword City",
           8
          ],
          [
           "Sorcery Saga: The Curse of the Great Curry God",
           7.3
          ],
          [
           "Superdimension Neptune vs Sega Hard Girls",
           8.4
          ],
          [
           "XBLAZE Code: Embryo",
           7.4
          ],
          [
           "Putty Squad",
           8.2
          ],
          [
           "Aegis of Earth: Protonovus Assault",
           8.3
          ],
          [
           "BlazBlue: Chrono Phantasma Extend",
           6.8
          ],
          [
           "Psycho-Pass: Mandatory Happiness",
           7.3
          ],
          [
           "Dynasty Warriors 8: Empires",
           7.4
          ],
          [
           "SpongeBob: HeroPants",
           5.1
          ],
          [
           "MLB 15: The Show",
           8.8
          ],
          [
           "htoL#NiQ: The Firefly Diary",
           7.7
          ],
          [
           "Doki-Doki Universe",
           5.7
          ],
          [
           "MotoGP 14 ",
           7.5
          ],
          [
           "Xblaze: Lost Memories",
           7
          ]
         ],
         "hovertemplate": "platform=PSV<br>all_sales=%{x}<br>critic_score=%{y}<br>name=%{customdata[0]}<br>user_score=%{customdata[1]}<extra></extra>",
         "legendgroup": "PSV",
         "marker": {
          "color": "#FF97FF",
          "symbol": "circle"
         },
         "mode": "markers",
         "name": "PSV",
         "showlegend": true,
         "type": "scattergl",
         "x": [
          0.8000000000000002,
          0.8,
          0.65,
          0.64,
          0.6200000000000001,
          0.6,
          0.51,
          0.43000000000000005,
          0.41000000000000003,
          0.41000000000000003,
          0.36,
          0.36,
          0.35000000000000003,
          0.33,
          0.33,
          0.32,
          0.31,
          0.3,
          0.30000000000000004,
          0.25,
          0.23,
          0.22000000000000003,
          0.22999999999999998,
          0.22,
          0.21,
          0.21,
          0.21000000000000002,
          0.2,
          0.19,
          0.18000000000000002,
          0.18,
          0.18,
          0.16999999999999998,
          0.17,
          0.17,
          0.17,
          0.16,
          0.17,
          0.17,
          0.14,
          0.15,
          0.15000000000000002,
          0.14,
          0.14,
          0.13,
          0.13,
          0.12000000000000001,
          0.13,
          0.13,
          0.12000000000000001,
          0.11,
          0.11,
          0.12000000000000001,
          0.11,
          0.11,
          0.11,
          0.11,
          0.11,
          0.09999999999999999,
          0.11,
          0.1,
          0.09,
          0.09999999999999999,
          0.09000000000000001,
          0.09,
          0.08,
          0.08,
          0.08,
          0.06999999999999999,
          0.06999999999999999,
          0.06999999999999999,
          0.06999999999999999,
          0.07,
          0.06999999999999999,
          0.06999999999999999,
          0.06,
          0.060000000000000005,
          0.06999999999999999,
          0.06,
          0.060000000000000005,
          0.05,
          0.04,
          0.04,
          0.04,
          0.03,
          0.03,
          0.03,
          0.02,
          0.03,
          0.03,
          0.03,
          0.02,
          0.02,
          0.01,
          0.01,
          0.01,
          0.01,
          0.01,
          0.01
         ],
         "xaxis": "x",
         "y": [
          78,
          86,
          73,
          64,
          87,
          null,
          77,
          61,
          null,
          null,
          70,
          78,
          71,
          80,
          81,
          76,
          null,
          67,
          null,
          75,
          77,
          82,
          null,
          82,
          77,
          72,
          74,
          73,
          null,
          80,
          60,
          48,
          71,
          81,
          62,
          null,
          70,
          57,
          76,
          null,
          78,
          60,
          93,
          87,
          75,
          64,
          67,
          67,
          68,
          null,
          83,
          71,
          75,
          72,
          76,
          68,
          66,
          59,
          85,
          65,
          83,
          66,
          null,
          62,
          86,
          null,
          69,
          72,
          83,
          null,
          63,
          72,
          70,
          60,
          55,
          70,
          83,
          76,
          null,
          71,
          78,
          null,
          null,
          72,
          71,
          65,
          73,
          43,
          null,
          null,
          null,
          64,
          70,
          null,
          null,
          58,
          66,
          null,
          null
         ],
         "yaxis": "y"
        },
        {
         "customdata": [
          [
           "LEGO Marvel Super Heroes",
           4.8
          ]
         ],
         "hovertemplate": "platform=DS<br>all_sales=%{x}<br>critic_score=%{y}<br>name=%{customdata[0]}<br>user_score=%{customdata[1]}<extra></extra>",
         "legendgroup": "DS",
         "marker": {
          "color": "#FECB52",
          "symbol": "circle"
         },
         "mode": "markers",
         "name": "DS",
         "showlegend": true,
         "type": "scattergl",
         "x": [
          0.38
         ],
         "xaxis": "x",
         "y": [
          null
         ],
         "yaxis": "y"
        },
        {
         "customdata": [
          [
           "FIFA 14",
           3.4
          ],
          [
           "Summon Night 5",
           8.3
          ]
         ],
         "hovertemplate": "platform=PSP<br>all_sales=%{x}<br>critic_score=%{y}<br>name=%{customdata[0]}<br>user_score=%{customdata[1]}<extra></extra>",
         "legendgroup": "PSP",
         "marker": {
          "color": "#636efa",
          "symbol": "circle"
         },
         "mode": "markers",
         "name": "PSP",
         "showlegend": true,
         "type": "scattergl",
         "x": [
          0.19,
          0.15
         ],
         "xaxis": "x",
         "y": [
          null,
          74
         ],
         "yaxis": "y"
        }
       ],
       "layout": {
        "legend": {
         "title": {
          "text": "platform"
         },
         "tracegroupgap": 0
        },
        "margin": {
         "t": 60
        },
        "template": {
         "data": {
          "bar": [
           {
            "error_x": {
             "color": "#2a3f5f"
            },
            "error_y": {
             "color": "#2a3f5f"
            },
            "marker": {
             "line": {
              "color": "#E5ECF6",
              "width": 0.5
             },
             "pattern": {
              "fillmode": "overlay",
              "size": 10,
              "solidity": 0.2
             }
            },
            "type": "bar"
           }
          ],
          "barpolar": [
           {
            "marker": {
             "line": {
              "color": "#E5ECF6",
              "width": 0.5
             },
             "pattern": {
              "fillmode": "overlay",
              "size": 10,
              "solidity": 0.2
             }
            },
            "type": "barpolar"
           }
          ],
          "carpet": [
           {
            "aaxis": {
             "endlinecolor": "#2a3f5f",
             "gridcolor": "white",
             "linecolor": "white",
             "minorgridcolor": "white",
             "startlinecolor": "#2a3f5f"
            },
            "baxis": {
             "endlinecolor": "#2a3f5f",
             "gridcolor": "white",
             "linecolor": "white",
             "minorgridcolor": "white",
             "startlinecolor": "#2a3f5f"
            },
            "type": "carpet"
           }
          ],
          "choropleth": [
           {
            "colorbar": {
             "outlinewidth": 0,
             "ticks": ""
            },
            "type": "choropleth"
           }
          ],
          "contour": [
           {
            "colorbar": {
             "outlinewidth": 0,
             "ticks": ""
            },
            "colorscale": [
             [
              0,
              "#0d0887"
             ],
             [
              0.1111111111111111,
              "#46039f"
             ],
             [
              0.2222222222222222,
              "#7201a8"
             ],
             [
              0.3333333333333333,
              "#9c179e"
             ],
             [
              0.4444444444444444,
              "#bd3786"
             ],
             [
              0.5555555555555556,
              "#d8576b"
             ],
             [
              0.6666666666666666,
              "#ed7953"
             ],
             [
              0.7777777777777778,
              "#fb9f3a"
             ],
             [
              0.8888888888888888,
              "#fdca26"
             ],
             [
              1,
              "#f0f921"
             ]
            ],
            "type": "contour"
           }
          ],
          "contourcarpet": [
           {
            "colorbar": {
             "outlinewidth": 0,
             "ticks": ""
            },
            "type": "contourcarpet"
           }
          ],
          "heatmap": [
           {
            "colorbar": {
             "outlinewidth": 0,
             "ticks": ""
            },
            "colorscale": [
             [
              0,
              "#0d0887"
             ],
             [
              0.1111111111111111,
              "#46039f"
             ],
             [
              0.2222222222222222,
              "#7201a8"
             ],
             [
              0.3333333333333333,
              "#9c179e"
             ],
             [
              0.4444444444444444,
              "#bd3786"
             ],
             [
              0.5555555555555556,
              "#d8576b"
             ],
             [
              0.6666666666666666,
              "#ed7953"
             ],
             [
              0.7777777777777778,
              "#fb9f3a"
             ],
             [
              0.8888888888888888,
              "#fdca26"
             ],
             [
              1,
              "#f0f921"
             ]
            ],
            "type": "heatmap"
           }
          ],
          "heatmapgl": [
           {
            "colorbar": {
             "outlinewidth": 0,
             "ticks": ""
            },
            "colorscale": [
             [
              0,
              "#0d0887"
             ],
             [
              0.1111111111111111,
              "#46039f"
             ],
             [
              0.2222222222222222,
              "#7201a8"
             ],
             [
              0.3333333333333333,
              "#9c179e"
             ],
             [
              0.4444444444444444,
              "#bd3786"
             ],
             [
              0.5555555555555556,
              "#d8576b"
             ],
             [
              0.6666666666666666,
              "#ed7953"
             ],
             [
              0.7777777777777778,
              "#fb9f3a"
             ],
             [
              0.8888888888888888,
              "#fdca26"
             ],
             [
              1,
              "#f0f921"
             ]
            ],
            "type": "heatmapgl"
           }
          ],
          "histogram": [
           {
            "marker": {
             "pattern": {
              "fillmode": "overlay",
              "size": 10,
              "solidity": 0.2
             }
            },
            "type": "histogram"
           }
          ],
          "histogram2d": [
           {
            "colorbar": {
             "outlinewidth": 0,
             "ticks": ""
            },
            "colorscale": [
             [
              0,
              "#0d0887"
             ],
             [
              0.1111111111111111,
              "#46039f"
             ],
             [
              0.2222222222222222,
              "#7201a8"
             ],
             [
              0.3333333333333333,
              "#9c179e"
             ],
             [
              0.4444444444444444,
              "#bd3786"
             ],
             [
              0.5555555555555556,
              "#d8576b"
             ],
             [
              0.6666666666666666,
              "#ed7953"
             ],
             [
              0.7777777777777778,
              "#fb9f3a"
             ],
             [
              0.8888888888888888,
              "#fdca26"
             ],
             [
              1,
              "#f0f921"
             ]
            ],
            "type": "histogram2d"
           }
          ],
          "histogram2dcontour": [
           {
            "colorbar": {
             "outlinewidth": 0,
             "ticks": ""
            },
            "colorscale": [
             [
              0,
              "#0d0887"
             ],
             [
              0.1111111111111111,
              "#46039f"
             ],
             [
              0.2222222222222222,
              "#7201a8"
             ],
             [
              0.3333333333333333,
              "#9c179e"
             ],
             [
              0.4444444444444444,
              "#bd3786"
             ],
             [
              0.5555555555555556,
              "#d8576b"
             ],
             [
              0.6666666666666666,
              "#ed7953"
             ],
             [
              0.7777777777777778,
              "#fb9f3a"
             ],
             [
              0.8888888888888888,
              "#fdca26"
             ],
             [
              1,
              "#f0f921"
             ]
            ],
            "type": "histogram2dcontour"
           }
          ],
          "mesh3d": [
           {
            "colorbar": {
             "outlinewidth": 0,
             "ticks": ""
            },
            "type": "mesh3d"
           }
          ],
          "parcoords": [
           {
            "line": {
             "colorbar": {
              "outlinewidth": 0,
              "ticks": ""
             }
            },
            "type": "parcoords"
           }
          ],
          "pie": [
           {
            "automargin": true,
            "type": "pie"
           }
          ],
          "scatter": [
           {
            "fillpattern": {
             "fillmode": "overlay",
             "size": 10,
             "solidity": 0.2
            },
            "type": "scatter"
           }
          ],
          "scatter3d": [
           {
            "line": {
             "colorbar": {
              "outlinewidth": 0,
              "ticks": ""
             }
            },
            "marker": {
             "colorbar": {
              "outlinewidth": 0,
              "ticks": ""
             }
            },
            "type": "scatter3d"
           }
          ],
          "scattercarpet": [
           {
            "marker": {
             "colorbar": {
              "outlinewidth": 0,
              "ticks": ""
             }
            },
            "type": "scattercarpet"
           }
          ],
          "scattergeo": [
           {
            "marker": {
             "colorbar": {
              "outlinewidth": 0,
              "ticks": ""
             }
            },
            "type": "scattergeo"
           }
          ],
          "scattergl": [
           {
            "marker": {
             "colorbar": {
              "outlinewidth": 0,
              "ticks": ""
             }
            },
            "type": "scattergl"
           }
          ],
          "scattermapbox": [
           {
            "marker": {
             "colorbar": {
              "outlinewidth": 0,
              "ticks": ""
             }
            },
            "type": "scattermapbox"
           }
          ],
          "scatterpolar": [
           {
            "marker": {
             "colorbar": {
              "outlinewidth": 0,
              "ticks": ""
             }
            },
            "type": "scatterpolar"
           }
          ],
          "scatterpolargl": [
           {
            "marker": {
             "colorbar": {
              "outlinewidth": 0,
              "ticks": ""
             }
            },
            "type": "scatterpolargl"
           }
          ],
          "scatterternary": [
           {
            "marker": {
             "colorbar": {
              "outlinewidth": 0,
              "ticks": ""
             }
            },
            "type": "scatterternary"
           }
          ],
          "surface": [
           {
            "colorbar": {
             "outlinewidth": 0,
             "ticks": ""
            },
            "colorscale": [
             [
              0,
              "#0d0887"
             ],
             [
              0.1111111111111111,
              "#46039f"
             ],
             [
              0.2222222222222222,
              "#7201a8"
             ],
             [
              0.3333333333333333,
              "#9c179e"
             ],
             [
              0.4444444444444444,
              "#bd3786"
             ],
             [
              0.5555555555555556,
              "#d8576b"
             ],
             [
              0.6666666666666666,
              "#ed7953"
             ],
             [
              0.7777777777777778,
              "#fb9f3a"
             ],
             [
              0.8888888888888888,
              "#fdca26"
             ],
             [
              1,
              "#f0f921"
             ]
            ],
            "type": "surface"
           }
          ],
          "table": [
           {
            "cells": {
             "fill": {
              "color": "#EBF0F8"
             },
             "line": {
              "color": "white"
             }
            },
            "header": {
             "fill": {
              "color": "#C8D4E3"
             },
             "line": {
              "color": "white"
             }
            },
            "type": "table"
           }
          ]
         },
         "layout": {
          "annotationdefaults": {
           "arrowcolor": "#2a3f5f",
           "arrowhead": 0,
           "arrowwidth": 1
          },
          "autotypenumbers": "strict",
          "coloraxis": {
           "colorbar": {
            "outlinewidth": 0,
            "ticks": ""
           }
          },
          "colorscale": {
           "diverging": [
            [
             0,
             "#8e0152"
            ],
            [
             0.1,
             "#c51b7d"
            ],
            [
             0.2,
             "#de77ae"
            ],
            [
             0.3,
             "#f1b6da"
            ],
            [
             0.4,
             "#fde0ef"
            ],
            [
             0.5,
             "#f7f7f7"
            ],
            [
             0.6,
             "#e6f5d0"
            ],
            [
             0.7,
             "#b8e186"
            ],
            [
             0.8,
             "#7fbc41"
            ],
            [
             0.9,
             "#4d9221"
            ],
            [
             1,
             "#276419"
            ]
           ],
           "sequential": [
            [
             0,
             "#0d0887"
            ],
            [
             0.1111111111111111,
             "#46039f"
            ],
            [
             0.2222222222222222,
             "#7201a8"
            ],
            [
             0.3333333333333333,
             "#9c179e"
            ],
            [
             0.4444444444444444,
             "#bd3786"
            ],
            [
             0.5555555555555556,
             "#d8576b"
            ],
            [
             0.6666666666666666,
             "#ed7953"
            ],
            [
             0.7777777777777778,
             "#fb9f3a"
            ],
            [
             0.8888888888888888,
             "#fdca26"
            ],
            [
             1,
             "#f0f921"
            ]
           ],
           "sequentialminus": [
            [
             0,
             "#0d0887"
            ],
            [
             0.1111111111111111,
             "#46039f"
            ],
            [
             0.2222222222222222,
             "#7201a8"
            ],
            [
             0.3333333333333333,
             "#9c179e"
            ],
            [
             0.4444444444444444,
             "#bd3786"
            ],
            [
             0.5555555555555556,
             "#d8576b"
            ],
            [
             0.6666666666666666,
             "#ed7953"
            ],
            [
             0.7777777777777778,
             "#fb9f3a"
            ],
            [
             0.8888888888888888,
             "#fdca26"
            ],
            [
             1,
             "#f0f921"
            ]
           ]
          },
          "colorway": [
           "#636efa",
           "#EF553B",
           "#00cc96",
           "#ab63fa",
           "#FFA15A",
           "#19d3f3",
           "#FF6692",
           "#B6E880",
           "#FF97FF",
           "#FECB52"
          ],
          "font": {
           "color": "#2a3f5f"
          },
          "geo": {
           "bgcolor": "white",
           "lakecolor": "white",
           "landcolor": "#E5ECF6",
           "showlakes": true,
           "showland": true,
           "subunitcolor": "white"
          },
          "hoverlabel": {
           "align": "left"
          },
          "hovermode": "closest",
          "mapbox": {
           "style": "light"
          },
          "paper_bgcolor": "white",
          "plot_bgcolor": "#E5ECF6",
          "polar": {
           "angularaxis": {
            "gridcolor": "white",
            "linecolor": "white",
            "ticks": ""
           },
           "bgcolor": "#E5ECF6",
           "radialaxis": {
            "gridcolor": "white",
            "linecolor": "white",
            "ticks": ""
           }
          },
          "scene": {
           "xaxis": {
            "backgroundcolor": "#E5ECF6",
            "gridcolor": "white",
            "gridwidth": 2,
            "linecolor": "white",
            "showbackground": true,
            "ticks": "",
            "zerolinecolor": "white"
           },
           "yaxis": {
            "backgroundcolor": "#E5ECF6",
            "gridcolor": "white",
            "gridwidth": 2,
            "linecolor": "white",
            "showbackground": true,
            "ticks": "",
            "zerolinecolor": "white"
           },
           "zaxis": {
            "backgroundcolor": "#E5ECF6",
            "gridcolor": "white",
            "gridwidth": 2,
            "linecolor": "white",
            "showbackground": true,
            "ticks": "",
            "zerolinecolor": "white"
           }
          },
          "shapedefaults": {
           "line": {
            "color": "#2a3f5f"
           }
          },
          "ternary": {
           "aaxis": {
            "gridcolor": "white",
            "linecolor": "white",
            "ticks": ""
           },
           "baxis": {
            "gridcolor": "white",
            "linecolor": "white",
            "ticks": ""
           },
           "bgcolor": "#E5ECF6",
           "caxis": {
            "gridcolor": "white",
            "linecolor": "white",
            "ticks": ""
           }
          },
          "title": {
           "x": 0.05
          },
          "xaxis": {
           "automargin": true,
           "gridcolor": "white",
           "linecolor": "white",
           "ticks": "",
           "title": {
            "standoff": 15
           },
           "zerolinecolor": "white",
           "zerolinewidth": 2
          },
          "yaxis": {
           "automargin": true,
           "gridcolor": "white",
           "linecolor": "white",
           "ticks": "",
           "title": {
            "standoff": 15
           },
           "zerolinecolor": "white",
           "zerolinewidth": 2
          }
         }
        },
        "xaxis": {
         "anchor": "y",
         "domain": [
          0,
          1
         ],
         "title": {
          "text": "all_sales"
         }
        },
        "yaxis": {
         "anchor": "x",
         "domain": [
          0,
          1
         ],
         "title": {
          "text": "critic_score"
         }
        }
       }
      }
     },
     "metadata": {},
     "output_type": "display_data"
    }
   ],
   "source": [
    "px.scatter(good_data_2013, \n",
    "            x=\"all_sales\", \n",
    "            y=\"critic_score\",\n",
    "            color='platform',\n",
    "            hover_data=['name', 'user_score'])"
   ]
  },
  {
   "cell_type": "code",
   "execution_count": null,
   "metadata": {},
   "outputs": [
    {
     "data": {
      "application/vnd.plotly.v1+json": {
       "config": {
        "plotlyServerURL": "https://plot.ly"
       },
       "data": [
        {
         "customdata": [
          [
           "Grand Theft Auto V"
          ],
          [
           "Call of Duty: Ghosts"
          ],
          [
           "FIFA 14"
          ],
          [
           "The Last of Us"
          ],
          [
           "Call of Duty: Advanced Warfare"
          ],
          [
           "FIFA 15"
          ],
          [
           "Assassin's Creed IV: Black Flag"
          ],
          [
           "Battlefield 4"
          ],
          [
           "Gran Turismo 6"
          ],
          [
           "FIFA 16"
          ],
          [
           "Batman: Arkham Origins"
          ],
          [
           "God of War: Ascension"
          ],
          [
           "NBA 2K14"
          ],
          [
           "Diablo III"
          ],
          [
           "Madden NFL 25"
          ],
          [
           "LEGO Marvel Super Heroes"
          ],
          [
           "Watch Dogs"
          ],
          [
           "BioShock Infinite"
          ],
          [
           "Beyond: Two Souls"
          ],
          [
           "Destiny"
          ],
          [
           "Madden NFL 15"
          ],
          [
           "Metal Gear Rising: Revengeance"
          ],
          [
           "NBA 2K15"
          ],
          [
           "Far Cry 4"
          ],
          [
           "Assassin's Creed: Rogue"
          ],
          [
           "Dark Souls II"
          ],
          [
           "Final Fantasy X / X-2 HD Remaster"
          ],
          [
           "Need for Speed Rivals"
          ],
          [
           "Saints Row IV"
          ],
          [
           "Injustice: Gods Among Us"
          ],
          [
           "WWE 2K14"
          ],
          [
           "Lightning Returns: Final Fantasy XIII"
          ],
          [
           "Skylanders SWAP Force"
          ],
          [
           "Disney Infinity"
          ],
          [
           "Dead Space 3"
          ],
          [
           "Pro Evolution Soccer 2014"
          ],
          [
           "Tom Clancy's Splinter Cell: Blacklist"
          ],
          [
           "Naruto Shippuden: Ultimate Ninja Storm 3"
          ],
          [
           "The LEGO Movie Videogame"
          ],
          [
           "South Park: The Stick of Truth"
          ],
          [
           "Crysis 3"
          ],
          [
           "LEGO Jurassic World"
          ],
          [
           "The Evil Within"
          ],
          [
           "NCAA Football 14"
          ],
          [
           "DmC: Devil May Cry"
          ],
          [
           "WWE 2K15"
          ],
          [
           "Madden NFL 16"
          ],
          [
           "Resident Evil: Revelations"
          ],
          [
           "Lego Batman 3: Beyond Gotham"
          ],
          [
           "MLB 13: The Show"
          ],
          [
           "NBA 2K16"
          ],
          [
           "FIFA 17"
          ],
          [
           "Skylanders: Trap Team"
          ],
          [
           "Plants vs. Zombies: Garden Warfare"
          ],
          [
           "One Piece: Pirate Warriors 2"
          ],
          [
           "Metal Gear Solid V: The Phantom Pain"
          ],
          [
           "LittleBigPlanet 3"
          ],
          [
           "2014 FIFA World Cup Brazil"
          ],
          [
           "Borderlands: The Pre-Sequel"
          ],
          [
           "Aliens: Colonial Marines"
          ],
          [
           "Dead Island: Riptide"
          ],
          [
           "Dynasty Warriors 8"
          ],
          [
           "Dragon Age: Inquisition"
          ],
          [
           "Metal Gear Solid V: Ground Zeroes"
          ],
          [
           "JoJo's Bizarre Adventure: All Star Battle"
          ],
          [
           "Rayman Legends"
          ],
          [
           "Pro Evolution Soccer 2015"
          ],
          [
           "Tales of Zestiria"
          ],
          [
           "Middle-Earth: Shadow of Mordor"
          ],
          [
           "LEGO Dimensions"
          ],
          [
           "Sly Cooper: Thieves in Time"
          ],
          [
           "NHL 14"
          ],
          [
           "F1 2013"
          ],
          [
           "Dragon's Crown"
          ],
          [
           "Tales of Symphonia"
          ],
          [
           "The Walking Dead: Survival Instinct"
          ],
          [
           "WWE 2K16"
          ],
          [
           "Dragon Ball: XenoVerse"
          ],
          [
           "LEGO The Hobbit"
          ],
          [
           "Deadpool"
          ],
          [
           "Wolfenstein: The New Order"
          ],
          [
           "Naruto Shippuden: Ultimate Ninja Storm Revolution"
          ],
          [
           "MLB 14: The Show"
          ],
          [
           "Payday 2"
          ],
          [
           "Metro: Last Light"
          ],
          [
           "Battlefield: Hardline"
          ],
          [
           "Terraria"
          ],
          [
           "F1 2014"
          ],
          [
           "Metal Gear Solid: The Legacy Collection"
          ],
          [
           "Pro Evolution Soccer 2016"
          ],
          [
           "MLB 15: The Show"
          ],
          [
           "Just Dance 2014"
          ],
          [
           "GRID 2"
          ],
          [
           "Tiger Woods PGA Tour 14"
          ],
          [
           "Destiny: The Taken King"
          ],
          [
           "Skylanders: SuperChargers"
          ],
          [
           "NHL 15"
          ],
          [
           "Earth Defense Force 2025"
          ],
          [
           "Defiance"
          ],
          [
           "Sniper: Ghost Warrior 2"
          ],
          [
           "Alien: Isolation"
          ],
          [
           "Remember Me"
          ],
          [
           "Drakengard 3"
          ],
          [
           "J Stars Victory Vs."
          ],
          [
           "Dragon Ball Z: Battle of Z"
          ],
          [
           "BlazBlue: Chrono Phantasma"
          ],
          [
           "Resident Evil: Revelations 2"
          ],
          [
           "Angry Birds Star Wars"
          ],
          [
           "Hatsune Miku: Project Diva f"
          ],
          [
           "Sniper Elite 3"
          ],
          [
           "One Piece: Unlimited World Red"
          ],
          [
           "Army of Two: The Devil's Cartel"
          ],
          [
           "Guitar Hero Live"
          ],
          [
           "LEGO Marvel's Avengers"
          ],
          [
           "Samurai Warriors 4"
          ],
          [
           "Puppeteer"
          ],
          [
           "One Piece: Pirate Warriors 3"
          ],
          [
           "Just Dance 2015"
          ],
          [
           "Hatsune Miku: Project Diva F 2nd"
          ],
          [
           "The Bureau: XCOM Declassified"
          ],
          [
           "Teenage Mutant Ninja Turtles: Danger of the Ooze"
          ],
          [
           "Dynasty Warriors: Gundam Reborn"
          ],
          [
           "Killer is Dead"
          ],
          [
           "Disgaea D2: A Brighter Darkness"
          ],
          [
           "Hitman: HD Trilogy"
          ],
          [
           "Lost Planet 3"
          ],
          [
           "The Witch and the Hundred Knight"
          ],
          [
           "The Legend of Heroes: Trails of Cold Steel"
          ],
          [
           "Castlevania: Lords of Shadow 2"
          ],
          [
           "Just Dance 2016"
          ],
          [
           "Fairy Fencer F"
          ],
          [
           "Atelier Shallie: Alchemists of the Dusk Sea"
          ],
          [
           "GRID Autosport"
          ],
          [
           "Dengeki Bunko Fighting Climax"
          ],
          [
           "Ar Nosurge: Ode to an Unborn Star"
          ],
          [
           "Dynasty Warriors 8: Xtreme Legends"
          ],
          [
           "Tears to Tiara II: Heir of the Overlord"
          ],
          [
           "The Legend of Heroes: Trails of Cold Steel II"
          ],
          [
           "Farming Simulator 2013"
          ],
          [
           "WWE 2K17"
          ],
          [
           "Murdered: Soul Suspect"
          ],
          [
           "Persona 4: Arena Ultimax"
          ],
          [
           "Pro Evolution Soccer 2017"
          ],
          [
           "NBA 2K17"
          ],
          [
           "Armored Core: Verdict Day"
          ],
          [
           "Madden NFL 17"
          ],
          [
           "Deception IV: Blood Ties"
          ],
          [
           "NASCAR '14"
          ],
          [
           "Sacred 3"
          ],
          [
           "Pac-Man and the Ghostly Adventures 2"
          ],
          [
           "Young Justice: Legacy"
          ],
          [
           "Digimon All-Star Rumble"
          ],
          [
           "Yaiba: Ninja Gaiden Z"
          ],
          [
           "The Smurfs 2"
          ],
          [
           "The Wolf Among Us"
          ],
          [
           "Transformers: Devastation"
          ],
          [
           "Risen 3: Titan Lords"
          ],
          [
           "PAC-MAN and the Ghostly Adventures"
          ],
          [
           "Lost Dimension"
          ],
          [
           "Escape Dead Island"
          ],
          [
           "Saint Seiya: Brave Soldiers"
          ],
          [
           "Mugen Souls Z"
          ],
          [
           "The Guided Fate Paradox"
          ],
          [
           "Odin Sphere: Leifthrasir"
          ],
          [
           "Tony Hawk's Pro Skater 5"
          ],
          [
           "Tokyo Twilight Ghost Hunters"
          ],
          [
           "Enemy Front"
          ],
          [
           "Teenage Mutant Ninja Turtles: Mutants in Manhattan"
          ],
          [
           "Ride"
          ],
          [
           "Natural Doctrine"
          ],
          [
           "DuckTales: Remastered"
          ],
          [
           "Saint Seiya: Soldiers' Soul"
          ],
          [
           "Ride to Hell"
          ],
          [
           "BlazBlue: Chrono Phantasma Extend"
          ],
          [
           "XBLAZE Code: Embryo"
          ],
          [
           "Cabela's Big Game Hunter: Pro Hunts"
          ],
          [
           "Darkstalkers Resurrection"
          ],
          [
           "Bladestorm: Nightmare"
          ],
          [
           "MX vs. ATV Supercross"
          ],
          [
           "Final Fantasy XIV: Heavensward"
          ],
          [
           "Call of Duty: Modern Warfare Trilogy"
          ],
          [
           "The Awakened Fate Ultimatum"
          ],
          [
           "Xblaze: Lost Memories"
          ],
          [
           "Battle Princess of Arcadias"
          ],
          [
           "Invizimals: The Lost Kingdom"
          ],
          [
           "Don Bradman Cricket 14"
          ]
         ],
         "hovertemplate": "platform=PS3<br>all_sales=%{x}<br>user_score=%{y}<br>name=%{customdata[0]}<extra></extra>",
         "legendgroup": "PS3",
         "marker": {
          "color": "#636efa",
          "symbol": "circle"
         },
         "mode": "markers",
         "name": "PS3",
         "showlegend": true,
         "type": "scattergl",
         "x": [
          21.05,
          9.36,
          6.460000000000001,
          5.86,
          4.36,
          4.28,
          3.7099999999999995,
          3.4899999999999998,
          3.2299999999999995,
          2.6999999999999997,
          2.29,
          2.25,
          2.11,
          1.91,
          1.87,
          1.83,
          1.7400000000000002,
          1.6900000000000002,
          1.6400000000000001,
          1.6100000000000003,
          1.4600000000000002,
          1.42,
          1.34,
          1.29,
          1.28,
          1.2799999999999998,
          1.27,
          1.26,
          1.25,
          1.19,
          1.14,
          1.07,
          1.02,
          0.9700000000000001,
          0.9600000000000001,
          0.95,
          0.9400000000000001,
          0.9400000000000001,
          0.93,
          0.93,
          0.87,
          0.85,
          0.8500000000000001,
          0.84,
          0.7899999999999999,
          0.7799999999999999,
          0.7699999999999999,
          0.74,
          0.7300000000000001,
          0.74,
          0.7300000000000001,
          0.7300000000000001,
          0.67,
          0.66,
          0.66,
          0.6399999999999999,
          0.64,
          0.61,
          0.62,
          0.6,
          0.61,
          0.6100000000000001,
          0.59,
          0.5800000000000001,
          0.5800000000000001,
          0.5800000000000001,
          0.5800000000000001,
          0.56,
          0.56,
          0.5599999999999999,
          0.5499999999999999,
          0.54,
          0.5499999999999999,
          0.54,
          0.53,
          0.51,
          0.51,
          0.49000000000000005,
          0.46,
          0.45,
          0.44,
          0.44,
          0.43,
          0.44,
          0.42,
          0.41000000000000003,
          0.41,
          0.41000000000000003,
          0.41,
          0.39999999999999997,
          0.39,
          0.37000000000000005,
          0.38000000000000006,
          0.37000000000000005,
          0.36000000000000004,
          0.37,
          0.36,
          0.34,
          0.35000000000000003,
          0.33,
          0.33,
          0.33,
          0.31000000000000005,
          0.32000000000000006,
          0.3,
          0.31000000000000005,
          0.29000000000000004,
          0.29000000000000004,
          0.29000000000000004,
          0.28,
          0.29,
          0.28,
          0.26999999999999996,
          0.26,
          0.26,
          0.25,
          0.26,
          0.25,
          0.25,
          0.25,
          0.24000000000000002,
          0.23,
          0.23,
          0.21,
          0.2,
          0.19999999999999998,
          0.21,
          0.2,
          0.19999999999999998,
          0.19,
          0.18999999999999997,
          0.18,
          0.18000000000000002,
          0.15000000000000002,
          0.16,
          0.16,
          0.16,
          0.16,
          0.13,
          0.14,
          0.14,
          0.13,
          0.13,
          0.12000000000000001,
          0.12,
          0.11000000000000001,
          0.12,
          0.11,
          0.11,
          0.1,
          0.09,
          0.1,
          0.1,
          0.1,
          0.09000000000000001,
          0.08,
          0.08,
          0.06999999999999999,
          0.07,
          0.08,
          0.06999999999999999,
          0.08,
          0.06,
          0.06999999999999999,
          0.060000000000000005,
          0.060000000000000005,
          0.060000000000000005,
          0.05,
          0.05,
          0.060000000000000005,
          0.05,
          0.04,
          0.04,
          0.04,
          0.04,
          0.04,
          0.03,
          0.03,
          0.03,
          0.02,
          0.02,
          0.02,
          0.02,
          0.02,
          0.02,
          0.01
         ],
         "xaxis": "x",
         "y": [
          8.2,
          2.6,
          4.3,
          9.1,
          4.8,
          4.5,
          8.1,
          5.8,
          7.7,
          3.2,
          7.7,
          7.5,
          4.9,
          6.4,
          4.1,
          7.9,
          5.1,
          8.5,
          8.1,
          4.5,
          2.7,
          7.9,
          3.5,
          7.3,
          7.5,
          8.1,
          8.5,
          4.9,
          6.3,
          7.9,
          7.5,
          5.9,
          5.3,
          5.9,
          6.4,
          4.1,
          7.7,
          7.9,
          6.8,
          8.5,
          6.3,
          7.4,
          7.6,
          6.2,
          5.3,
          3.1,
          3.1,
          7.2,
          6.7,
          7.8,
          4.6,
          3.3,
          7,
          7.8,
          7.8,
          7.2,
          7.2,
          4.3,
          6.3,
          3.6,
          5.9,
          8.5,
          5.2,
          5.9,
          8.3,
          8.7,
          7.8,
          8,
          3.4,
          6.4,
          8.3,
          6,
          6.3,
          8.3,
          7.2,
          3.6,
          6,
          7.1,
          7,
          7.2,
          7.1,
          7.5,
          6.8,
          6.2,
          8.2,
          5.3,
          7.9,
          4.1,
          9,
          7.2,
          8.2,
          7.1,
          6.6,
          3.8,
          5.5,
          4.2,
          1.6,
          7.5,
          6.9,
          6,
          8.3,
          7.4,
          7.7,
          7.9,
          5.3,
          8.3,
          6.8,
          3.6,
          8.4,
          6.4,
          7.3,
          6.7,
          5.1,
          5.5,
          8,
          8.5,
          3.7,
          6.8,
          8.6,
          6.7,
          5.9,
          7.5,
          7.9,
          8.1,
          7.6,
          5.5,
          7.5,
          7.7,
          7.8,
          4.2,
          7.4,
          7.7,
          6.8,
          8.2,
          7.8,
          6.8,
          8.7,
          7.8,
          2.9,
          4.1,
          7.1,
          8.1,
          7.2,
          2,
          7.4,
          0.2,
          8.2,
          4.6,
          3.4,
          6.3,
          4.9,
          5.8,
          4.5,
          5,
          8.2,
          7.1,
          3.7,
          3.1,
          7.3,
          3.5,
          7.4,
          6.4,
          7.8,
          7,
          3.1,
          6.4,
          6,
          3.4,
          4.8,
          8.1,
          7.4,
          6.3,
          1,
          8.3,
          7.1,
          5.9,
          7.3,
          7.4,
          3.5,
          8.2,
          7,
          7.3,
          6.2,
          7.9,
          5,
          6.9
         ],
         "yaxis": "y"
        },
        {
         "customdata": [
          [
           "Grand Theft Auto V"
          ],
          [
           "Call of Duty: Ghosts"
          ],
          [
           "Call of Duty: Advanced Warfare"
          ],
          [
           "FIFA 14"
          ],
          [
           "Battlefield 4"
          ],
          [
           "Assassin's Creed IV: Black Flag"
          ],
          [
           "FIFA 15"
          ],
          [
           "NBA 2K14"
          ],
          [
           "Madden NFL 25"
          ],
          [
           "LEGO Marvel Super Heroes"
          ],
          [
           "Madden NFL 15"
          ],
          [
           "BioShock Infinite"
          ],
          [
           "Destiny"
          ],
          [
           "Batman: Arkham Origins"
          ],
          [
           "Saints Row IV"
          ],
          [
           "NBA 2K15"
          ],
          [
           "Gears of War: Judgment"
          ],
          [
           "FIFA 16"
          ],
          [
           "Disney Infinity"
          ],
          [
           "Diablo III"
          ],
          [
           "Injustice: Gods Among Us"
          ],
          [
           "Titanfall"
          ],
          [
           "Skylanders SWAP Force"
          ],
          [
           "The LEGO Movie Videogame"
          ],
          [
           "Watch Dogs"
          ],
          [
           "WWE 2K14"
          ],
          [
           "NCAA Football 14"
          ],
          [
           "Plants vs. Zombies: Garden Warfare"
          ],
          [
           "Assassin's Creed: Rogue"
          ],
          [
           "Just Dance 2014"
          ],
          [
           "Dead Space 3"
          ],
          [
           "Tom Clancy's Splinter Cell: Blacklist"
          ],
          [
           "Madden NFL 16"
          ],
          [
           "NBA 2K16"
          ],
          [
           "South Park: The Stick of Truth"
          ],
          [
           "Crysis 3"
          ],
          [
           "Far Cry 4"
          ],
          [
           "Lego Batman 3: Beyond Gotham"
          ],
          [
           "LEGO Jurassic World"
          ],
          [
           "Need for Speed Rivals"
          ],
          [
           "Forza Horizon 2"
          ],
          [
           "Dead Island: Riptide"
          ],
          [
           "Aliens: Colonial Marines"
          ],
          [
           "Dark Souls II"
          ],
          [
           "Borderlands: The Pre-Sequel"
          ],
          [
           "Terraria"
          ],
          [
           "WWE 2K15"
          ],
          [
           "The Walking Dead: Survival Instinct"
          ],
          [
           "Just Dance 2015"
          ],
          [
           "Payday 2"
          ],
          [
           "Defiance"
          ],
          [
           "NHL 14"
          ],
          [
           "LEGO Dimensions"
          ],
          [
           "Dragon Age: Inquisition"
          ],
          [
           "Naruto Shippuden: Ultimate Ninja Storm 3"
          ],
          [
           "Middle-Earth: Shadow of Mordor"
          ],
          [
           "Metal Gear Rising: Revengeance"
          ],
          [
           "The Evil Within"
          ],
          [
           "LEGO The Hobbit"
          ],
          [
           "NHL 15"
          ],
          [
           "DmC: Devil May Cry"
          ],
          [
           "Deadpool"
          ],
          [
           "WWE 2K16"
          ],
          [
           "Rayman Legends"
          ],
          [
           "2014 FIFA World Cup Brazil"
          ],
          [
           "Skylanders: SuperChargers"
          ],
          [
           "Farming Simulator 2013"
          ],
          [
           "Wolfenstein: The New Order"
          ],
          [
           "FIFA 17"
          ],
          [
           "Tiger Woods PGA Tour 14"
          ],
          [
           "Metro: Last Light"
          ],
          [
           "Destiny: The Taken King"
          ],
          [
           "Just Dance 2016"
          ],
          [
           "Rise of the Tomb Raider"
          ],
          [
           "LEGO Marvel's Avengers"
          ],
          [
           "Sniper Elite 3"
          ],
          [
           "F1 2013"
          ],
          [
           "Battlefield: Hardline"
          ],
          [
           "Alien: Isolation"
          ],
          [
           "Angry Birds Star Wars"
          ],
          [
           "GRID 2"
          ],
          [
           "Lightning Returns: Final Fantasy XIII"
          ],
          [
           "Resident Evil: Revelations"
          ],
          [
           "Army of Two: The Devil's Cartel"
          ],
          [
           "Dragon Ball: XenoVerse"
          ],
          [
           "Pro Evolution Soccer 2014"
          ],
          [
           "Guitar Hero Live"
          ],
          [
           "F1 2014"
          ],
          [
           "Naruto Shippuden: Ultimate Ninja Storm Revolution"
          ],
          [
           "The Crew"
          ],
          [
           "The Bureau: XCOM Declassified"
          ],
          [
           "Sniper: Ghost Warrior 2"
          ],
          [
           "Teenage Mutant Ninja Turtles: Danger of the Ooze"
          ],
          [
           "Metal Gear Solid V: The Phantom Pain"
          ],
          [
           "Remember Me"
          ],
          [
           "Madden NFL 17"
          ],
          [
           "Hitman: HD Trilogy"
          ],
          [
           "How to Train Your Dragon 2"
          ],
          [
           "NASCAR '14"
          ],
          [
           "NASCAR '15"
          ],
          [
           "Dynasty Warriors 8"
          ],
          [
           "Earth Defense Force 2025"
          ],
          [
           "Metal Gear Solid V: Ground Zeroes"
          ],
          [
           "Pro Evolution Soccer 2015"
          ],
          [
           "Killer is Dead"
          ],
          [
           "Lego Star Wars: The Force Awakens"
          ],
          [
           "The Smurfs 2"
          ],
          [
           "NBA 2K17"
          ],
          [
           "Lost Planet 3"
          ],
          [
           "Pac-Man and the Ghostly Adventures 2"
          ],
          [
           "Murdered: Soul Suspect"
          ],
          [
           "Pro Evolution Soccer 2016"
          ],
          [
           "Castlevania: Lords of Shadow 2"
          ],
          [
           "SpongeBob: HeroPants"
          ],
          [
           "GRID Autosport"
          ],
          [
           "Transformers: Devastation"
          ],
          [
           "Persona 4: Arena Ultimax"
          ],
          [
           "PAC-MAN and the Ghostly Adventures"
          ],
          [
           "Escape Dead Island"
          ],
          [
           "Resident Evil: Revelations 2"
          ],
          [
           "Tony Hawk's Pro Skater 5"
          ],
          [
           "Fantasia: Music Evolved"
          ],
          [
           "Dragon Ball Z: Battle of Z"
          ],
          [
           "Risen 3: Titan Lords"
          ],
          [
           "MX vs. ATV Supercross"
          ],
          [
           "Digimon All-Star Rumble"
          ],
          [
           "Adventure Time: The Secret of the Nameless Kingdom"
          ],
          [
           "Tropico 5"
          ],
          [
           "Ride to Hell"
          ],
          [
           "Sacred 3"
          ],
          [
           "SpongeBob SquarePants: Plankton's Robotic Revenge"
          ],
          [
           "Yaiba: Ninja Gaiden Z"
          ],
          [
           "Enemy Front"
          ],
          [
           "Teenage Mutant Ninja Turtles: Mutants in Manhattan"
          ],
          [
           "Pro Evolution Soccer 2017"
          ],
          [
           "Rugby World Cup 2015"
          ],
          [
           "Cabela's Big Game Hunter: Pro Hunts"
          ],
          [
           "Rugby League Live 3"
          ],
          [
           "Back to the Future: The Game"
          ],
          [
           "Kung Fu Panda: Showdown of Legendary Legends"
          ],
          [
           "Turbo: Super Stunt Squad"
          ],
          [
           "Young Justice: Legacy"
          ],
          [
           "Ben 10 Omniverse 2"
          ]
         ],
         "hovertemplate": "platform=X360<br>all_sales=%{x}<br>user_score=%{y}<br>name=%{customdata[0]}<extra></extra>",
         "legendgroup": "X360",
         "marker": {
          "color": "#EF553B",
          "symbol": "circle"
         },
         "mode": "markers",
         "name": "X360",
         "showlegend": true,
         "type": "scattergl",
         "x": [
          16.27,
          10.24,
          4.28,
          4.22,
          3.49,
          3.3099999999999996,
          2.92,
          2.52,
          2.23,
          2.22,
          2.0500000000000003,
          1.94,
          1.92,
          1.88,
          1.65,
          1.6300000000000001,
          1.5699999999999998,
          1.5699999999999998,
          1.44,
          1.4100000000000001,
          1.3800000000000001,
          1.3599999999999999,
          1.3199999999999998,
          1.27,
          1.25,
          1.11,
          1.09,
          1.07,
          1.01,
          0.99,
          0.98,
          0.9799999999999999,
          0.97,
          0.9400000000000001,
          0.9299999999999999,
          0.91,
          0.9,
          0.89,
          0.87,
          0.8,
          0.78,
          0.78,
          0.77,
          0.74,
          0.73,
          0.6799999999999999,
          0.6400000000000001,
          0.6200000000000001,
          0.6100000000000001,
          0.5700000000000001,
          0.5700000000000001,
          0.54,
          0.53,
          0.53,
          0.51,
          0.48000000000000004,
          0.48,
          0.46,
          0.45,
          0.44999999999999996,
          0.43,
          0.43,
          0.43,
          0.43,
          0.43000000000000005,
          0.42,
          0.38999999999999996,
          0.38,
          0.38,
          0.36,
          0.35,
          0.35,
          0.31000000000000005,
          0.31999999999999995,
          0.31999999999999995,
          0.31000000000000005,
          0.30000000000000004,
          0.29000000000000004,
          0.27,
          0.28,
          0.27,
          0.26,
          0.26,
          0.25,
          0.23,
          0.24,
          0.23,
          0.23,
          0.22,
          0.22,
          0.22,
          0.19999999999999998,
          0.19999999999999998,
          0.18,
          0.18,
          0.18,
          0.17,
          0.16000000000000003,
          0.16999999999999998,
          0.16999999999999998,
          0.15000000000000002,
          0.15000000000000002,
          0.14,
          0.14,
          0.12,
          0.12,
          0.12,
          0.12,
          0.12,
          0.09999999999999999,
          0.09999999999999999,
          0.09999999999999999,
          0.09,
          0.09,
          0.09,
          0.07999999999999999,
          0.07999999999999999,
          0.08,
          0.08,
          0.06999999999999999,
          0.06999999999999999,
          0.07999999999999999,
          0.060000000000000005,
          0.06,
          0.060000000000000005,
          0.07,
          0.05,
          0.05,
          0.060000000000000005,
          0.05,
          0.04,
          0.04,
          0.04,
          0.04,
          0.03,
          0.03,
          0.02,
          0.02,
          0.02,
          0.02,
          0.01,
          0.01,
          0.01
         ],
         "xaxis": "x",
         "y": [
          8.1,
          2.6,
          4.9,
          4.2,
          5.6,
          7.9,
          4.2,
          4.9,
          5.6,
          7.6,
          5.5,
          8.5,
          4.7,
          7.5,
          6.5,
          3,
          5.4,
          2.9,
          6.5,
          6.6,
          7.9,
          5.9,
          5.7,
          7.2,
          5,
          7.7,
          5.8,
          7.3,
          7.3,
          7.8,
          6.4,
          7.5,
          5.1,
          3.2,
          8.4,
          6.7,
          7,
          6.8,
          7.1,
          5.4,
          5.1,
          6.3,
          3.8,
          7.9,
          6.4,
          7.2,
          4,
          4,
          8.3,
          6.3,
          7.2,
          5.9,
          6.1,
          5.1,
          7.7,
          4.6,
          7.8,
          7.6,
          8.7,
          2.8,
          5.1,
          7.4,
          5.4,
          8.2,
          4.4,
          5.4,
          6.2,
          7.4,
          1.7,
          6.2,
          8.4,
          4.4,
          6,
          7.5,
          5.7,
          6.6,
          6.6,
          4.1,
          8.2,
          5.6,
          5.8,
          6.6,
          7.4,
          6.2,
          6.7,
          4.3,
          5.5,
          4.1,
          7.3,
          6.4,
          6.7,
          5.7,
          6.4,
          7.2,
          7.5,
          0.7,
          7.2,
          2.9,
          5.1,
          3.8,
          7.5,
          8.1,
          5.7,
          6.8,
          7.2,
          6.9,
          5.4,
          3.4,
          5.8,
          6.5,
          7.2,
          7,
          7.8,
          3.4,
          6,
          8.4,
          7.4,
          5.1,
          3.8,
          6.6,
          2.8,
          7,
          5.1,
          4.4,
          4.8,
          5.7,
          7.5,
          7.2,
          1.3,
          4.1,
          6.1,
          5.3,
          5.8,
          4.3,
          6.5,
          8,
          7.3,
          7,
          7.5,
          6.8,
          4.5,
          6.2,
          5.1
         ],
         "yaxis": "y"
        },
        {
         "customdata": [
          [
           "Grand Theft Auto V"
          ],
          [
           "FIFA 16"
          ],
          [
           "Call of Duty: Advanced Warfare"
          ],
          [
           "FIFA 17"
          ],
          [
           "Fallout 4"
          ],
          [
           "FIFA 15"
          ],
          [
           "Destiny"
          ],
          [
           "Uncharted 4: A Thief's End"
          ],
          [
           "Uncharted: The Nathan Drake Collection"
          ],
          [
           "Call of Duty: Infinite Warfare"
          ],
          [
           "Battlefield 1"
          ],
          [
           "Watch Dogs"
          ],
          [
           "Far Cry 4"
          ],
          [
           "The Witcher 3: Wild Hunt"
          ],
          [
           "Assassin's Creed: Unity"
          ],
          [
           "Batman: Arkham Knight"
          ],
          [
           "NBA 2K16"
          ],
          [
           "Call of Duty: Ghosts"
          ],
          [
           "Tom Clancy's The Division"
          ],
          [
           "Battlefield 4"
          ],
          [
           "Metal Gear Solid V: The Phantom Pain"
          ],
          [
           "Assassin's Creed Syndicate"
          ],
          [
           "Madden NFL 16"
          ],
          [
           "FIFA 14"
          ],
          [
           "Middle-Earth: Shadow of Mordor"
          ],
          [
           "Assassin's Creed IV: Black Flag"
          ],
          [
           "inFAMOUS: Second Son"
          ],
          [
           "Mortal Kombat X"
          ],
          [
           "Killzone: Shadow Fall"
          ],
          [
           "Bloodborne"
          ],
          [
           "NBA 2K15"
          ],
          [
           "Far Cry: Primal"
          ],
          [
           "Tom Clancy's Rainbow Six: Siege"
          ],
          [
           "Madden NFL 15"
          ],
          [
           "Overwatch"
          ],
          [
           "Battlefield: Hardline"
          ],
          [
           "Dying Light"
          ],
          [
           "DriveClub"
          ],
          [
           "Dragon Age: Inquisition"
          ],
          [
           "Need for Speed Rivals"
          ],
          [
           "Destiny: The Taken King"
          ],
          [
           "LittleBigPlanet 3"
          ],
          [
           "NBA 2K17"
          ],
          [
           "Just Cause 3"
          ],
          [
           "Mafia III"
          ],
          [
           "The Evil Within"
          ],
          [
           "Madden NFL 17"
          ],
          [
           "The Order: 1886"
          ],
          [
           "Knack"
          ],
          [
           "The Crew"
          ],
          [
           "No Man's Sky"
          ],
          [
           "Until Dawn"
          ],
          [
           "Dark Souls III"
          ],
          [
           "LEGO Marvel Super Heroes"
          ],
          [
           "Wolfenstein: The New Order"
          ],
          [
           "NBA 2K14"
          ],
          [
           "Metal Gear Solid V: Ground Zeroes"
          ],
          [
           "WWE 2K16"
          ],
          [
           "WWE 2K15"
          ],
          [
           "Naruto Shippuden: Ultimate Ninja Storm 4"
          ],
          [
           "Watch Dogs 2"
          ],
          [
           "Alien: Isolation"
          ],
          [
           "Dragon Ball: XenoVerse"
          ],
          [
           "Project CARS"
          ],
          [
           "EA Sports UFC"
          ],
          [
           "Rayman Legends"
          ],
          [
           "Evolve"
          ],
          [
           "EA Sports UFC 2"
          ],
          [
           "Lego Batman 3: Beyond Gotham"
          ],
          [
           "MLB 15: The Show"
          ],
          [
           "Street Fighter V"
          ],
          [
           "LEGO Jurassic World"
          ],
          [
           "Madden NFL 25"
          ],
          [
           "Borderlands: The Handsome Collection"
          ],
          [
           "Guitar Hero Live"
          ],
          [
           "Pro Evolution Soccer 2016"
          ],
          [
           "Titanfall 2"
          ],
          [
           "Pro Evolution Soccer 2015"
          ],
          [
           "LEGO Marvel's Avengers"
          ],
          [
           "LEGO Dimensions"
          ],
          [
           "MLB 14: The Show"
          ],
          [
           "Dragon Ball: Xenoverse 2"
          ],
          [
           "Lego Star Wars: The Force Awakens"
          ],
          [
           "Sniper Elite 3"
          ],
          [
           "The LEGO Movie Videogame"
          ],
          [
           "F1 2015"
          ],
          [
           "Dishonored 2"
          ],
          [
           "NHL 16"
          ],
          [
           "Plants vs. Zombies: Garden Warfare"
          ],
          [
           "LEGO The Hobbit"
          ],
          [
           "WWE 2K17"
          ],
          [
           "NHL 15"
          ],
          [
           "Resident Evil: Revelations 2"
          ],
          [
           "Rory McIlroy PGA Tour"
          ],
          [
           "Lords of the Fallen"
          ],
          [
           "Plants vs. Zombies: Garden Warfare 2"
          ],
          [
           "One Piece: Pirate Warriors 3"
          ],
          [
           "Pro Evolution Soccer 2017"
          ],
          [
           "Skylanders: Trap Team"
          ],
          [
           "Wolfenstein: The Old Blood"
          ],
          [
           "Trials Fusion"
          ],
          [
           "Just Dance 2014"
          ],
          [
           "Farming Simulator 17"
          ],
          [
           "Tales of Zestiria"
          ],
          [
           "Life is Strange"
          ],
          [
           "Until Dawn: Rush of Blood"
          ],
          [
           "Skylanders SWAP Force"
          ],
          [
           "Just Dance 2015"
          ],
          [
           "Rock Band 4"
          ],
          [
           "Deus Ex: Mankind Divided"
          ],
          [
           "BioShock The Collection"
          ],
          [
           "Rocket League"
          ],
          [
           "DiRT Rally"
          ],
          [
           "Just Dance 2016"
          ],
          [
           "Homefront: The Revolution"
          ],
          [
           "One Piece: Burning Blood"
          ],
          [
           "Mirror's Edge Catalyst"
          ],
          [
           "TrackMania Turbo"
          ],
          [
           "World of Final Fantasy"
          ],
          [
           "NHL 17"
          ],
          [
           "Murdered: Soul Suspect"
          ],
          [
           "Tropico 5"
          ],
          [
           "Skylanders: SuperChargers"
          ],
          [
           "Batman: Arkham VR"
          ],
          [
           "Deadpool"
          ],
          [
           "UEFA Euro 2016"
          ],
          [
           "Disgaea 5: Alliance of Vengeance"
          ],
          [
           "Batman: Return to Arkham"
          ],
          [
           "Tearaway Unfolded"
          ],
          [
           "Battleborn"
          ],
          [
           "PlayStation VR Worlds"
          ],
          [
           "Sword Art Online: Lost Song"
          ],
          [
           "Onechanbara Z2: Chaos"
          ],
          [
           "Samurai Warriors 4"
          ],
          [
           "Destiny: The Collection"
          ],
          [
           "NBA Live 14"
          ],
          [
           "NBA Live 15"
          ],
          [
           "Transformers: Devastation"
          ],
          [
           "Ride"
          ],
          [
           "Angry Birds Star Wars"
          ],
          [
           "The Wolf Among Us"
          ],
          [
           "Tony Hawk's Pro Skater 5"
          ],
          [
           "Assassin's Creed The Ezio Collection"
          ],
          [
           "Zombie Army Trilogy"
          ],
          [
           "Odin Sphere: Leifthrasir"
          ],
          [
           "Bound By Flame"
          ],
          [
           "Dynasty Warriors 8: Empires"
          ],
          [
           "Singstar: Ultimate Party"
          ],
          [
           "Sword Art Online: Hollow Realization"
          ],
          [
           "Saint Seiya: Soldiers' Soul"
          ],
          [
           "MotoGP 14 "
          ],
          [
           "Senran Kagura: Estival Versus"
          ],
          [
           "Back to the Future: The Game"
          ],
          [
           "NBA Live 16"
          ],
          [
           "Toukiden Kiwami"
          ],
          [
           "Bladestorm: Nightmare"
          ],
          [
           "Putty Squad"
          ],
          [
           "The King of Fighters XIV"
          ],
          [
           "LEGO Harry Potter Collection"
          ],
          [
           "BlazBlue: Chrono Phantasma Extend"
          ],
          [
           "Skylanders Imaginators"
          ],
          [
           "XCOM 2"
          ],
          [
           "7 Days to Die"
          ],
          [
           "Dead Island Definitive Collection"
          ],
          [
           "Brothers: A Tale of Two Sons"
          ],
          [
           "Gravity Rush Remastered"
          ],
          [
           "Final Fantasy XIV: Heavensward"
          ],
          [
           "Don Bradman Cricket 14"
          ],
          [
           "Atelier Sophie: The Alchemist of the Mysterious Book"
          ],
          [
           "Robinson: The Journey"
          ],
          [
           "Samurai Warriors 4-II"
          ],
          [
           "Rugby 15"
          ],
          [
           "Digimon Story: Cyber Sleuth"
          ],
          [
           "RIGS: Mechanized Combat League"
          ],
          [
           "God Eater 2: Rage Burst"
          ],
          [
           "Ultra Street Fighter IV"
          ],
          [
           "EVE: Valkyrie"
          ],
          [
           "The Crew: Wild Run"
          ],
          [
           "Natural Doctrine"
          ],
          [
           "Samurai Warriors 4: Empires"
          ],
          [
           "Teenage Mutant Ninja Turtles: Mutants in Manhattan"
          ],
          [
           "DriveClub VR"
          ],
          [
           "Arslan: The Warriors of Legend"
          ],
          [
           "Assassin's Creed Chronicles"
          ],
          [
           "Lara Croft and the Temple of Osiris"
          ],
          [
           "BlazBlue Central Fiction"
          ],
          [
           "The Golf Club"
          ],
          [
           "God Eater Resurrection"
          ],
          [
           "Shovel Knight"
          ],
          [
           "Mega Man Legacy Collection"
          ],
          [
           "Resident Evil 6"
          ],
          [
           "Song of the Deep"
          ],
          [
           "Valentino Rossi: The Game"
          ],
          [
           "Grand Ages: Medieval"
          ],
          [
           "Toy Soldiers: War Chest"
          ],
          [
           "Fairy Fencer F: Advent Dark Force"
          ],
          [
           "Grand Kingdom"
          ],
          [
           "Eagle Flight"
          ],
          [
           "The Book of Unwritten Tales 2"
          ],
          [
           "Terraria"
          ],
          [
           "Broken Sword 5: The Serpent's Curse"
          ],
          [
           "Assetto Corsa"
          ],
          [
           "Nights of Azure"
          ],
          [
           "Earth Defense Force 4.1: The Shadow of New Despair"
          ],
          [
           "The Technomancer"
          ],
          [
           "MX vs. ATV Supercross Encore"
          ],
          [
           "Rugby World Cup 2015"
          ],
          [
           "Handball 16"
          ],
          [
           "Mighty No. 9"
          ],
          [
           "Dead or Alive Xtreme 3: Fortune"
          ],
          [
           "Killing Floor 2 "
          ],
          [
           "Steins;Gate 0"
          ],
          [
           "Hatsune Miku: Project Diva X"
          ],
          [
           "Saints Row: Gat out of Hell"
          ],
          [
           "NASCAR Heat Evolution"
          ],
          [
           "Child of Light"
          ],
          [
           "Ride 2"
          ],
          [
           "Sébastien Loeb Rally Evo"
          ],
          [
           "Battlezone"
          ],
          [
           "Nobunaga's Ambition: Sphere of Influence"
          ],
          [
           "Nitroplus Blasterz: Heroines Infinite Duel"
          ],
          [
           "Rugby Challenge 3"
          ],
          [
           "Psycho-Pass: Mandatory Happiness"
          ],
          [
           "Dead Rising"
          ],
          [
           "Metal Gear Solid V: The Definitive Experience"
          ],
          [
           "Exist Archive: The Other Side of the Sky"
          ],
          [
           "Assassin's Creed Chronicles: China"
          ],
          [
           "Infamous: First Light"
          ],
          [
           "Tour de France 2014"
          ],
          [
           "Duke Nukem 3D: 20th Anniversary World Tour"
          ],
          [
           "JoJo's Bizarre Adventure: Eyes of Heaven"
          ],
          [
           "Prison Architect"
          ],
          [
           "Worms: WMD"
          ],
          [
           "The Talos Principle"
          ],
          [
           "Dead Rising 2"
          ],
          [
           "The Peanuts Movie: Snoopy's Grand Adventure"
          ],
          [
           "Aegis of Earth: Protonovus Assault"
          ],
          [
           "Agatha Christie's The ABC Murders"
          ],
          [
           "Legend of Kay Anniversary"
          ],
          [
           "Omega Quintet"
          ],
          [
           "Rugby League Live 3"
          ],
          [
           "Here They Lie"
          ],
          [
           "Anima - Gate of Memories"
          ],
          [
           "Dino Dini's Kick Off Revival"
          ],
          [
           "Touhou Genso Rondo: Bullet Ballet"
          ],
          [
           "Paragon"
          ],
          [
           "Darksiders: Warmastered Edition"
          ],
          [
           "Prototype: Biohazard Bundle"
          ],
          [
           "Mark McMorris Infinite Air"
          ],
          [
           "Rocksmith 2014 Edition Remastered"
          ],
          [
           "Republique"
          ],
          [
           "Super Stardust Ultra VR"
          ],
          [
           "Super Dungeon Bros"
          ],
          [
           "Sherlock Holmes: The Devil's Daughter"
          ],
          [
           "Root Letter"
          ],
          [
           "Dungeons 2"
          ],
          [
           "Carmageddon: Max Damage"
          ]
         ],
         "hovertemplate": "platform=PS4<br>all_sales=%{x}<br>user_score=%{y}<br>name=%{customdata[0]}<extra></extra>",
         "legendgroup": "PS4",
         "marker": {
          "color": "#00cc96",
          "symbol": "circle"
         },
         "mode": "markers",
         "name": "PS4",
         "showlegend": true,
         "type": "scattergl",
         "x": [
          12.620000000000001,
          8.58,
          7.66,
          7.6000000000000005,
          7.17,
          6.08,
          5.640000000000001,
          5.39,
          4.62,
          4.470000000000001,
          4.07,
          4.05,
          4.04,
          3.9699999999999998,
          3.96,
          3.96,
          3.87,
          3.8299999999999996,
          3.8,
          3.58,
          3.4200000000000004,
          3.3899999999999997,
          3.2399999999999998,
          3.01,
          2.96,
          2.86,
          2.7899999999999996,
          2.78,
          2.6900000000000004,
          2.48,
          2.4499999999999997,
          2.2600000000000002,
          2.21,
          2.19,
          2.14,
          2.11,
          2.09,
          2.07,
          2.01,
          1.98,
          1.9200000000000002,
          1.9100000000000001,
          1.8800000000000001,
          1.85,
          1.81,
          1.7900000000000003,
          1.74,
          1.7200000000000002,
          1.73,
          1.7200000000000002,
          1.6900000000000002,
          1.6600000000000001,
          1.6600000000000001,
          1.62,
          1.54,
          1.44,
          1.2699999999999998,
          1.21,
          1.15,
          1.14,
          1.13,
          1.1199999999999999,
          1.1,
          1.0799999999999998,
          1.05,
          1.02,
          0.9700000000000001,
          0.93,
          0.92,
          0.93,
          0.9,
          0.9,
          0.91,
          0.88,
          0.86,
          0.78,
          0.7600000000000001,
          0.75,
          0.73,
          0.73,
          0.72,
          0.7,
          0.71,
          0.6900000000000001,
          0.67,
          0.67,
          0.64,
          0.63,
          0.61,
          0.6,
          0.6,
          0.6,
          0.54,
          0.51,
          0.52,
          0.49000000000000005,
          0.47000000000000003,
          0.45,
          0.44,
          0.43,
          0.43,
          0.42,
          0.42,
          0.4,
          0.38999999999999996,
          0.39999999999999997,
          0.38,
          0.39,
          0.38,
          0.38,
          0.37000000000000005,
          0.36000000000000004,
          0.36,
          0.36000000000000004,
          0.35000000000000003,
          0.36,
          0.34,
          0.34,
          0.34,
          0.33,
          0.32,
          0.32,
          0.3,
          0.31,
          0.3,
          0.3,
          0.29,
          0.27,
          0.26,
          0.26,
          0.26,
          0.25,
          0.25,
          0.24000000000000002,
          0.24000000000000002,
          0.24000000000000002,
          0.24000000000000002,
          0.23,
          0.23,
          0.22,
          0.21000000000000002,
          0.19999999999999998,
          0.2,
          0.19999999999999998,
          0.2,
          0.19999999999999998,
          0.19,
          0.19,
          0.19999999999999998,
          0.18,
          0.18,
          0.18,
          0.18000000000000002,
          0.17,
          0.16,
          0.16999999999999998,
          0.16,
          0.15,
          0.13999999999999999,
          0.14,
          0.13999999999999999,
          0.13999999999999999,
          0.13999999999999999,
          0.13,
          0.13,
          0.12000000000000001,
          0.13,
          0.12,
          0.12,
          0.11,
          0.12,
          0.12000000000000001,
          0.12000000000000001,
          0.11,
          0.09999999999999999,
          0.09,
          0.1,
          0.09,
          0.1,
          0.09999999999999999,
          0.09000000000000001,
          0.09,
          0.09,
          0.08,
          0.08,
          0.08,
          0.08,
          0.08,
          0.06999999999999999,
          0.09000000000000001,
          0.06999999999999999,
          0.06999999999999999,
          0.07,
          0.08,
          0.06999999999999999,
          0.07,
          0.06999999999999999,
          0.07,
          0.06999999999999999,
          0.07,
          0.06999999999999999,
          0.060000000000000005,
          0.060000000000000005,
          0.060000000000000005,
          0.06999999999999999,
          0.060000000000000005,
          0.060000000000000005,
          0.060000000000000005,
          0.05,
          0.05,
          0.05,
          0.05,
          0.04,
          0.05,
          0.05,
          0.05,
          0.05,
          0.05,
          0.05,
          0.04,
          0.03,
          0.05,
          0.04,
          0.04,
          0.04,
          0.04,
          0.04,
          0.03,
          0.03,
          0.04,
          0.03,
          0.03,
          0.03,
          0.02,
          0.02,
          0.02,
          0.02,
          0.02,
          0.02,
          0.02,
          0.02,
          0.02,
          0.02,
          0.02,
          0.02,
          0.02,
          0.02,
          0.01,
          0.01,
          0.01,
          0.02,
          0.01,
          0.01,
          0.01,
          0.01,
          0.01,
          0.01
         ],
         "xaxis": "x",
         "y": [
          8.3,
          4.3,
          5.7,
          5,
          6.5,
          5.7,
          6.1,
          7.9,
          8.1,
          3.4,
          8.4,
          6.3,
          7.7,
          9.2,
          4.9,
          7.6,
          6.7,
          3.7,
          7,
          6.9,
          8.2,
          6.8,
          5.9,
          6.3,
          8.1,
          7.8,
          7.9,
          7.7,
          6.8,
          8.6,
          7,
          6.3,
          7.3,
          6.1,
          6.1,
          5,
          7.9,
          6.1,
          7.4,
          6.2,
          6,
          7.1,
          6.7,
          6.5,
          5.1,
          7.3,
          4.9,
          6.6,
          6.5,
          5.4,
          4.5,
          8.2,
          8.8,
          7.7,
          8.1,
          6.5,
          6.2,
          7.4,
          5.1,
          8.2,
          7.8,
          8.1,
          7.7,
          6.6,
          6.1,
          8.5,
          4.3,
          6.2,
          7.1,
          7.8,
          3.4,
          7,
          5.2,
          7.8,
          6.2,
          7.1,
          8.4,
          7.2,
          7,
          7.1,
          7.7,
          7.8,
          7.5,
          7.1,
          7.1,
          6.3,
          7.7,
          5.5,
          7.6,
          6.6,
          6.9,
          3.6,
          7.7,
          3.7,
          6.6,
          7.7,
          7.4,
          7.6,
          5.6,
          8,
          7.2,
          5.5,
          8.7,
          6.8,
          8.6,
          8,
          5.2,
          5.8,
          6.3,
          7.6,
          8.5,
          8.7,
          8.1,
          6.8,
          3.8,
          7.8,
          4.7,
          7.9,
          8.3,
          5.8,
          6.9,
          7.1,
          3.3,
          7.3,
          5.7,
          6.6,
          8.1,
          8.5,
          8.1,
          6.8,
          7.1,
          6.3,
          6.5,
          8.1,
          8.1,
          2.7,
          5.6,
          7.5,
          7,
          2,
          8.4,
          1.5,
          7.4,
          6.8,
          8.2,
          5.9,
          7.5,
          4.1,
          7.7,
          7.8,
          6.4,
          8,
          7.1,
          6.1,
          7.6,
          6.5,
          2.9,
          8.7,
          8.1,
          7.7,
          5.5,
          8,
          5.9,
          6.4,
          8.6,
          8.2,
          7.6,
          7.4,
          8.1,
          6.9,
          7.3,
          3.4,
          8.5,
          7.9,
          8,
          5.9,
          6.3,
          6.8,
          6,
          6.5,
          5.5,
          7.4,
          6.6,
          6.1,
          6.7,
          7.6,
          6.3,
          7.8,
          7.6,
          6.1,
          6.7,
          7.3,
          8,
          7.1,
          7.7,
          6.2,
          8.1,
          7.8,
          8.6,
          7.9,
          7.2,
          6.2,
          7.6,
          7.9,
          6.7,
          4.1,
          1.9,
          3,
          3.5,
          7.8,
          8,
          8.3,
          7.4,
          5.7,
          3.8,
          8,
          8,
          8.1,
          7,
          8.1,
          6.9,
          6.8,
          8.3,
          6.6,
          7.8,
          7.9,
          6.4,
          7.5,
          5.1,
          6.9,
          7.4,
          8,
          7.6,
          8.4,
          6.6,
          6.6,
          7.8,
          6.2,
          6.4,
          7.1,
          7.6,
          6.5,
          7.9,
          4.5,
          4.7,
          6.1,
          8.5,
          2,
          6,
          7.8,
          5.8,
          6.2,
          2.3,
          6.8,
          7.5,
          7.9,
          5.5
         ],
         "yaxis": "y"
        },
        {
         "customdata": [
          [
           "Mario Kart 8"
          ],
          [
           "Splatoon"
          ],
          [
           "Super Mario 3D World"
          ],
          [
           "Super Mario Maker"
          ],
          [
           "New Super Luigi U"
          ],
          [
           "Wii Party U"
          ],
          [
           "Mario Party 10"
          ],
          [
           "Donkey Kong Country: Tropical Freeze"
          ],
          [
           "Yoshi's Woolly World"
          ],
          [
           "Hyrule Warriors"
          ],
          [
           "Captain Toad: Treasure Tracker"
          ],
          [
           "Pikmin 3"
          ],
          [
           "LEGO City Undercover"
          ],
          [
           "The Legend of Zelda: Twilight Princess HD"
          ],
          [
           "Pokken Tournament"
          ],
          [
           "Wii Fit U"
          ],
          [
           "Xenoblade Chronicles X"
          ],
          [
           "Bayonetta 2"
          ],
          [
           "LEGO Marvel Super Heroes"
          ],
          [
           "Just Dance 2015"
          ],
          [
           "Skylanders: Trap Team"
          ],
          [
           "Rayman Legends"
          ],
          [
           "The LEGO Movie Videogame"
          ],
          [
           "Disney Infinity"
          ],
          [
           "Just Dance 2014"
          ],
          [
           "Skylanders SWAP Force"
          ],
          [
           "Just Dance 2016"
          ],
          [
           "LEGO Dimensions"
          ],
          [
           "LEGO Jurassic World"
          ],
          [
           "Kirby and the Rainbow Curse"
          ],
          [
           "Skylanders: SuperChargers"
          ],
          [
           "Lego Batman 3: Beyond Gotham"
          ],
          [
           "Mario Tennis Ultra Smash"
          ],
          [
           "Paper Mario: Color Splash"
          ],
          [
           "Animal Crossing: Amiibo Festival"
          ],
          [
           "The Wonderful 101"
          ],
          [
           "Sonic Lost World"
          ],
          [
           "Wii Sports Club"
          ],
          [
           "Star Fox: Zero"
          ],
          [
           "Call of Duty: Ghosts"
          ],
          [
           "Batman: Arkham Origins"
          ],
          [
           "Sonic Boom: Rise of Lyric"
          ],
          [
           "Assassin's Creed IV: Black Flag"
          ],
          [
           "NES Remix"
          ],
          [
           "LEGO Marvel's Avengers"
          ],
          [
           "LEGO The Hobbit"
          ],
          [
           "Disney's Planes"
          ],
          [
           "Guitar Hero Live"
          ],
          [
           "Injustice: Gods Among Us"
          ],
          [
           "Resident Evil: Revelations"
          ],
          [
           "Lego Star Wars: The Force Awakens"
          ],
          [
           "Watch Dogs"
          ],
          [
           "Rodea the Sky Soldier"
          ],
          [
           "Tom Clancy's Splinter Cell: Blacklist"
          ],
          [
           "LEGO Batman 2: DC Super Heroes"
          ],
          [
           "The Walking Dead: Survival Instinct"
          ],
          [
           "Fatal Frame: Maiden of Black Water"
          ],
          [
           "Scribblenauts Unmasked: A DC Comics Adventure"
          ],
          [
           "Angry Birds Star Wars"
          ],
          [
           "Shovel Knight"
          ],
          [
           "The Smurfs 2"
          ],
          [
           "How to Train Your Dragon 2"
          ],
          [
           "Pac-Man and the Ghostly Adventures 2"
          ],
          [
           "One Piece: Unlimited World Red"
          ],
          [
           "DuckTales: Remastered"
          ],
          [
           "Devil's Third"
          ],
          [
           "PAC-MAN and the Ghostly Adventures"
          ],
          [
           "SpongeBob SquarePants: Plankton's Robotic Revenge"
          ],
          [
           "Penguins of Madagascar"
          ],
          [
           "Terraria"
          ],
          [
           "Mighty No. 9"
          ],
          [
           "Turbo: Super Stunt Squad"
          ],
          [
           "Monster High 13 Wishes"
          ],
          [
           "Sniper Elite V2"
          ],
          [
           "Fist of the North Star: Ken's Rage 2"
          ],
          [
           "Barbie and Her Sisters Puppy Rescue"
          ],
          [
           "Legend of Kay Anniversary"
          ],
          [
           "Mario vs. Donkey Kong: Tipping Stars"
          ],
          [
           "Art Academy: Home Studio"
          ],
          [
           "Fast Racing Neo "
          ]
         ],
         "hovertemplate": "platform=WiiU<br>all_sales=%{x}<br>user_score=%{y}<br>name=%{customdata[0]}<extra></extra>",
         "legendgroup": "WiiU",
         "marker": {
          "color": "#ab63fa",
          "symbol": "circle"
         },
         "mode": "markers",
         "name": "WiiU",
         "showlegend": true,
         "type": "scattergl",
         "x": [
          7.09,
          4.4399999999999995,
          4.319999999999999,
          3.21,
          2.2300000000000004,
          1.7500000000000002,
          1.58,
          1.5299999999999998,
          1.3,
          1.23,
          1.1900000000000002,
          1.12,
          1.1,
          1.03,
          1.01,
          0.84,
          0.8400000000000001,
          0.76,
          0.74,
          0.73,
          0.7,
          0.6600000000000001,
          0.6400000000000001,
          0.6000000000000001,
          0.5900000000000001,
          0.5800000000000001,
          0.5700000000000001,
          0.53,
          0.52,
          0.51,
          0.48,
          0.45999999999999996,
          0.44000000000000006,
          0.42000000000000004,
          0.42000000000000004,
          0.4,
          0.39,
          0.38,
          0.37,
          0.35,
          0.31000000000000005,
          0.31000000000000005,
          0.29000000000000004,
          0.27,
          0.24,
          0.22,
          0.2,
          0.18999999999999997,
          0.18999999999999997,
          0.18000000000000002,
          0.15000000000000002,
          0.13,
          0.12,
          0.12000000000000001,
          0.11,
          0.12,
          0.11,
          0.09999999999999999,
          0.09999999999999999,
          0.09999999999999999,
          0.08,
          0.09,
          0.06999999999999999,
          0.06,
          0.06999999999999999,
          0.06999999999999999,
          0.04,
          0.05,
          0.03,
          0.03,
          0.03,
          0.02,
          0.02,
          0.02,
          0.02,
          0.01,
          0.01,
          0.01,
          0.01,
          0.01
         ],
         "xaxis": "x",
         "y": [
          9.1,
          8.5,
          9,
          8.7,
          7.9,
          6.8,
          6.5,
          8.9,
          8.5,
          8.3,
          8.6,
          8.7,
          8.2,
          8.4,
          8,
          7.7,
          8.9,
          8.2,
          8,
          6.6,
          7.1,
          8.7,
          7.7,
          7.6,
          7.6,
          6,
          6.9,
          6.5,
          8.1,
          8,
          5.6,
          7,
          5.3,
          6.8,
          4.4,
          8.5,
          7.3,
          7,
          7.4,
          3.4,
          7.4,
          3.6,
          7.7,
          7.1,
          6.8,
          7.8,
          5.3,
          6.1,
          7.9,
          7.5,
          8,
          6.4,
          6.5,
          7.8,
          7.3,
          4.6,
          7.6,
          6.3,
          6.8,
          8.3,
          5.6,
          4.9,
          7,
          7.8,
          7.9,
          6.5,
          6.5,
          6.2,
          5.2,
          6.9,
          4.6,
          3.9,
          5.5,
          5.8,
          5.8,
          2.8,
          7.1,
          7.4,
          8.3,
          8.5
         ],
         "yaxis": "y"
        },
        {
         "customdata": [
          [
           "Grand Theft Auto V"
          ],
          [
           "Call of Duty: Advanced Warfare"
          ],
          [
           "Halo 5: Guardians"
          ],
          [
           "Fallout 4"
          ],
          [
           "Assassin's Creed: Unity"
          ],
          [
           "Destiny"
          ],
          [
           "Gears of War: Ultimate Edition"
          ],
          [
           "FIFA 16"
          ],
          [
           "Halo: The Master Chief Collection"
          ],
          [
           "Titanfall"
          ],
          [
           "Call of Duty: Ghosts"
          ],
          [
           "FIFA 17"
          ],
          [
           "Call of Duty: Infinite Warfare"
          ],
          [
           "Madden NFL 16"
          ],
          [
           "NBA 2K16"
          ],
          [
           "Battlefield 1"
          ],
          [
           "Assassin's Creed IV: Black Flag"
          ],
          [
           "Forza Motorsport 5"
          ],
          [
           "FIFA 15"
          ],
          [
           "Tom Clancy's The Division"
          ],
          [
           "Battlefield 4"
          ],
          [
           "Forza Motorsport 6"
          ],
          [
           "NBA 2K15"
          ],
          [
           "Far Cry 4"
          ],
          [
           "Dead Rising 3"
          ],
          [
           "Watch Dogs"
          ],
          [
           "Madden NFL 15"
          ],
          [
           "Batman: Arkham Knight"
          ],
          [
           "Forza Horizon 2"
          ],
          [
           "Ryse: Son of Rome"
          ],
          [
           "Mortal Kombat X"
          ],
          [
           "Rise of the Tomb Raider"
          ],
          [
           "Middle-Earth: Shadow of Mordor"
          ],
          [
           "Gears of War 4"
          ],
          [
           "Tom Clancy's Rainbow Six: Siege"
          ],
          [
           "The Witcher 3: Wild Hunt"
          ],
          [
           "Assassin's Creed Syndicate"
          ],
          [
           "Dying Light"
          ],
          [
           "The Elder Scrolls Online"
          ],
          [
           "Madden NFL 17"
          ],
          [
           "Battlefield: Hardline"
          ],
          [
           "Destiny: The Taken King"
          ],
          [
           "FIFA 14"
          ],
          [
           "Sunset Overdrive"
          ],
          [
           "Forza Horizon 3"
          ],
          [
           "Overwatch"
          ],
          [
           "LEGO Marvel Super Heroes"
          ],
          [
           "NBA 2K17"
          ],
          [
           "Dragon Age: Inquisition"
          ],
          [
           "NBA 2K14"
          ],
          [
           "Just Cause 3"
          ],
          [
           "Far Cry: Primal"
          ],
          [
           "Madden NFL 25"
          ],
          [
           "Rare Replay"
          ],
          [
           "Metal Gear Solid V: The Phantom Pain"
          ],
          [
           "Plants vs. Zombies: Garden Warfare"
          ],
          [
           "Need for Speed Rivals"
          ],
          [
           "Wolfenstein: The New Order"
          ],
          [
           "The Evil Within"
          ],
          [
           "LEGO Jurassic World"
          ],
          [
           "The Crew"
          ],
          [
           "Evolve"
          ],
          [
           "Mafia III"
          ],
          [
           "Kinect Sports Rivals"
          ],
          [
           "WWE 2K16"
          ],
          [
           "Titanfall 2"
          ],
          [
           "WWE 2K15"
          ],
          [
           "Quantum Break"
          ],
          [
           "Guitar Hero Live"
          ],
          [
           "Just Dance 2015"
          ],
          [
           "The LEGO Movie Videogame"
          ],
          [
           "Alien: Isolation"
          ],
          [
           "Plants vs. Zombies: Garden Warfare 2"
          ],
          [
           "NHL 16"
          ],
          [
           "Rock Band 4"
          ],
          [
           "EA Sports UFC"
          ],
          [
           "Just Dance 2014"
          ],
          [
           "Borderlands: The Handsome Collection"
          ],
          [
           "Lego Batman 3: Beyond Gotham"
          ],
          [
           "EA Sports UFC 2"
          ],
          [
           "LEGO Dimensions"
          ],
          [
           "NHL 15"
          ],
          [
           "Dark Souls III"
          ],
          [
           "Watch Dogs 2"
          ],
          [
           "LEGO Marvel's Avengers"
          ],
          [
           "Sniper Elite 3"
          ],
          [
           "Rayman Legends"
          ],
          [
           "Just Dance 2016"
          ],
          [
           "Dragon Ball: XenoVerse"
          ],
          [
           "Skylanders SWAP Force"
          ],
          [
           "Naruto Shippuden: Ultimate Ninja Storm 4"
          ],
          [
           "Lego Star Wars: The Force Awakens"
          ],
          [
           "Metal Gear Solid V: Ground Zeroes"
          ],
          [
           "Rory McIlroy PGA Tour"
          ],
          [
           "LEGO The Hobbit"
          ],
          [
           "WWE 2K17"
          ],
          [
           "Project CARS"
          ],
          [
           "F1 2015"
          ],
          [
           "Trials Fusion"
          ],
          [
           "Skylanders: SuperChargers"
          ],
          [
           "NHL 17"
          ],
          [
           "Zumba Fitness: World Party"
          ],
          [
           "Rocket League"
          ],
          [
           "Dishonored 2"
          ],
          [
           "Lords of the Fallen"
          ],
          [
           "NBA Live 15"
          ],
          [
           "NBA Live 14"
          ],
          [
           "Dragon Ball: Xenoverse 2"
          ],
          [
           "Fighter Within"
          ],
          [
           "Dance Central: Spotlight"
          ],
          [
           "Shape Up"
          ],
          [
           "Project Spark"
          ],
          [
           "Deus Ex: Mankind Divided"
          ],
          [
           "Mirror's Edge Catalyst"
          ],
          [
           "Murdered: Soul Suspect"
          ],
          [
           "Angry Birds Star Wars"
          ],
          [
           "BioShock The Collection"
          ],
          [
           "Fantasia: Music Evolved"
          ],
          [
           "Wolfenstein: The Old Blood"
          ],
          [
           "Battleborn"
          ],
          [
           "ReCore"
          ],
          [
           "Pro Evolution Soccer 2015"
          ],
          [
           "Homefront: The Revolution"
          ],
          [
           "Transformers: Devastation"
          ],
          [
           "Life is Strange"
          ],
          [
           "Deadpool"
          ],
          [
           "DiRT Rally"
          ],
          [
           "Tony Hawk's Pro Skater 5"
          ],
          [
           "Batman: Return to Arkham"
          ],
          [
           "NBA Live 16"
          ],
          [
           "Zombie Army Trilogy"
          ],
          [
           "Pro Evolution Soccer 2016"
          ],
          [
           "Ride"
          ],
          [
           "Resident Evil: Revelations 2"
          ],
          [
           "Skylanders Imaginators"
          ],
          [
           "Rugby 15"
          ],
          [
           "Assassin's Creed The Ezio Collection"
          ],
          [
           "The Wolf Among Us"
          ],
          [
           "Dynasty Warriors 8: Empires"
          ],
          [
           "BlazBlue: Chrono Phantasma Extend"
          ],
          [
           "One Piece: Burning Blood"
          ],
          [
           "TrackMania Turbo"
          ],
          [
           "Song of the Deep"
          ],
          [
           "Toy Soldiers: War Chest"
          ],
          [
           "7 Days to Die"
          ],
          [
           "Dead Island Definitive Collection"
          ],
          [
           "Bladestorm: Nightmare"
          ],
          [
           "Wasteland 2"
          ],
          [
           "Pro Evolution Soccer 2017"
          ],
          [
           "XCOM 2"
          ],
          [
           "Resident Evil 6"
          ],
          [
           "Teenage Mutant Ninja Turtles: Mutants in Manhattan"
          ],
          [
           "Brothers: A Tale of Two Sons"
          ],
          [
           "Terraria"
          ],
          [
           "NASCAR Heat Evolution"
          ],
          [
           "Just Dance 2017"
          ],
          [
           "The Golf Club"
          ],
          [
           "Valentino Rossi: The Game"
          ],
          [
           "Batman: A Telltale Game Series"
          ],
          [
           "The Technomancer"
          ],
          [
           "Rugby World Cup 2015"
          ],
          [
           "Carmageddon: Max Damage"
          ],
          [
           "Arslan: The Warriors of Legend"
          ],
          [
           "Mighty No. 9"
          ],
          [
           "The Crew: Wild Run"
          ],
          [
           "Back to the Future: The Game"
          ],
          [
           "Broken Sword 5: The Serpent's Curse"
          ],
          [
           "Mark McMorris Infinite Air"
          ],
          [
           "Assetto Corsa"
          ],
          [
           "Dead Rising"
          ],
          [
           "Darksiders: Warmastered Edition"
          ],
          [
           "Worms: WMD"
          ],
          [
           "Prototype: Biohazard Bundle"
          ],
          [
           "Agatha Christie's The ABC Murders"
          ],
          [
           "Goat Simulator"
          ],
          [
           "Ride 2"
          ],
          [
           "Rugby League Live 3"
          ],
          [
           "Assassin's Creed Chronicles"
          ],
          [
           "Saints Row: Gat out of Hell"
          ],
          [
           "Sébastien Loeb Rally Evo"
          ],
          [
           "Rugby Challenge 3"
          ],
          [
           "Prison Architect"
          ]
         ],
         "hovertemplate": "platform=XOne<br>all_sales=%{x}<br>user_score=%{y}<br>name=%{customdata[0]}<extra></extra>",
         "legendgroup": "XOne",
         "marker": {
          "color": "#FFA15A",
          "symbol": "circle"
         },
         "mode": "markers",
         "name": "XOne",
         "showlegend": true,
         "type": "scattergl",
         "x": [
          5.47,
          5.26,
          4.49,
          4.22,
          3.5,
          3.37,
          3.28,
          3.25,
          3.23,
          2.95,
          2.92,
          2.65,
          2.4200000000000004,
          2.42,
          2.34,
          2.25,
          2.24,
          2.1999999999999997,
          2.18,
          2.1700000000000004,
          2.02,
          1.7999999999999998,
          1.73,
          1.6400000000000001,
          1.57,
          1.5700000000000003,
          1.56,
          1.4900000000000002,
          1.4000000000000001,
          1.3900000000000001,
          1.38,
          1.3800000000000001,
          1.3599999999999999,
          1.3399999999999999,
          1.3399999999999999,
          1.3,
          1.2900000000000003,
          1.29,
          1.2800000000000002,
          1.23,
          1.21,
          1.2000000000000002,
          1.1600000000000001,
          1.1300000000000001,
          1.08,
          1.06,
          1.05,
          1.03,
          0.93,
          0.8999999999999999,
          0.91,
          0.88,
          0.8,
          0.79,
          0.75,
          0.6799999999999999,
          0.7,
          0.6800000000000002,
          0.6599999999999999,
          0.6599999999999999,
          0.6400000000000001,
          0.6300000000000001,
          0.6200000000000001,
          0.6000000000000001,
          0.5900000000000001,
          0.5700000000000001,
          0.5700000000000001,
          0.56,
          0.55,
          0.53,
          0.53,
          0.49999999999999994,
          0.4799999999999999,
          0.48,
          0.47,
          0.45999999999999996,
          0.44999999999999996,
          0.43,
          0.44,
          0.42,
          0.41,
          0.41,
          0.38999999999999996,
          0.36,
          0.33999999999999997,
          0.33999999999999997,
          0.33999999999999997,
          0.31999999999999995,
          0.31999999999999995,
          0.31000000000000005,
          0.31000000000000005,
          0.29000000000000004,
          0.28,
          0.27,
          0.27,
          0.26,
          0.26,
          0.24999999999999997,
          0.24,
          0.24000000000000002,
          0.24000000000000002,
          0.24000000000000002,
          0.24000000000000002,
          0.22,
          0.22,
          0.21,
          0.19999999999999998,
          0.19999999999999998,
          0.19999999999999998,
          0.18,
          0.18,
          0.18,
          0.16,
          0.16,
          0.16000000000000003,
          0.16999999999999998,
          0.15000000000000002,
          0.15000000000000002,
          0.15000000000000002,
          0.15000000000000002,
          0.14,
          0.14,
          0.14,
          0.14,
          0.13,
          0.13,
          0.13,
          0.12,
          0.11,
          0.10999999999999999,
          0.11,
          0.11,
          0.09999999999999999,
          0.1,
          0.09999999999999999,
          0.09,
          0.08,
          0.08,
          0.06999999999999999,
          0.07,
          0.060000000000000005,
          0.06,
          0.060000000000000005,
          0.060000000000000005,
          0.05,
          0.05,
          0.05,
          0.060000000000000005,
          0.04,
          0.04,
          0.04,
          0.04,
          0.04,
          0.04,
          0.03,
          0.03,
          0.03,
          0.03,
          0.03,
          0.02,
          0.02,
          0.02,
          0.01,
          0.02,
          0.02,
          0.02,
          0.02,
          0.01,
          0.01,
          0.01,
          0.01,
          0.01,
          0.01,
          0.01,
          0.01,
          0.01,
          0.01,
          0.01,
          0.01,
          0.01,
          0.01,
          0.01
         ],
         "xaxis": "x",
         "y": [
          7.9,
          5.4,
          6.4,
          6.2,
          4.1,
          5.5,
          7.5,
          4.4,
          7.2,
          6.4,
          4.3,
          5.5,
          3.1,
          6.1,
          6.2,
          8.2,
          7.4,
          5.9,
          5.4,
          6.9,
          6.6,
          7.9,
          6.3,
          7.5,
          6.8,
          5.8,
          6.4,
          6.6,
          8.2,
          6.1,
          7.3,
          8,
          8,
          6.2,
          6.9,
          9.2,
          6.1,
          7.8,
          8.4,
          5.9,
          5.1,
          5.2,
          5.8,
          7.7,
          7.4,
          5.6,
          6.8,
          6.2,
          6.9,
          5.7,
          7,
          6.4,
          5.9,
          7.7,
          7.3,
          7.4,
          5.8,
          7.8,
          7.3,
          6.7,
          5.9,
          5.1,
          4.6,
          5.1,
          5.7,
          8,
          5.7,
          6.8,
          5.1,
          7.5,
          6.9,
          7.8,
          8.1,
          6,
          6.4,
          6.3,
          7,
          7.8,
          7.1,
          6,
          6.9,
          3.2,
          8.6,
          7.7,
          5.1,
          6.6,
          7.9,
          6.1,
          7.2,
          5.5,
          8.5,
          7,
          5.4,
          4.3,
          6.8,
          5.5,
          5.8,
          5.3,
          7.1,
          5.5,
          4,
          6.2,
          8.3,
          6.8,
          6.7,
          6.8,
          3.1,
          7.3,
          3,
          7,
          8.3,
          7,
          7.2,
          4.4,
          7,
          6.9,
          8.3,
          7.5,
          8,
          7.2,
          6.6,
          7.3,
          4.1,
          7.9,
          8.7,
          5.7,
          8,
          2.1,
          8.2,
          5.6,
          7.2,
          6.2,
          5.3,
          7.5,
          6,
          3.1,
          7.6,
          8.5,
          6.8,
          6.3,
          5.8,
          7.7,
          6.9,
          8.4,
          5.2,
          4.9,
          7.1,
          7.1,
          6.1,
          8.1,
          6.3,
          6,
          8.9,
          7.7,
          1.6,
          8,
          5.4,
          8.1,
          4.3,
          7.4,
          4.3,
          7.1,
          5.8,
          4.2,
          6.6,
          7.3,
          7.2,
          7.1,
          6.7,
          8.8,
          7.9,
          8.1,
          3.1,
          7.5,
          6.3,
          8.2,
          7.1,
          6.8,
          6,
          8.2,
          6.6,
          6.7
         ],
         "yaxis": "y"
        },
        {
         "customdata": [
          [
           "Luigi's Mansion: Dark Moon"
          ],
          [
           "Monster Hunter 4 Ultimate"
          ],
          [
           "The Legend of Zelda: A Link Between Worlds"
          ],
          [
           "Animal Crossing: Happy Home Designer"
          ],
          [
           "The Legend of Zelda: Majora's Mask 3D"
          ],
          [
           "Mario Party: Island Tour"
          ],
          [
           "Kirby: Triple Deluxe"
          ],
          [
           "Yoshi's New Island"
          ],
          [
           "Pokemon Super Mystery Dungeon"
          ],
          [
           "The Legend of Zelda: Tri Force Heroes"
          ],
          [
           "Kirby: Planet Robobot"
          ],
          [
           "Disney Magical World"
          ],
          [
           "LEGO Marvel Super Heroes"
          ],
          [
           "Professor Layton and the Azran Legacy"
          ],
          [
           "Persona Q: Shadow of the Labyrinth"
          ],
          [
           "The LEGO Movie Videogame"
          ],
          [
           "LEGO Jurassic World"
          ],
          [
           "Shin Megami Tensei IV"
          ],
          [
           "Final Fantasy Explorers"
          ],
          [
           "Sonic Lost World"
          ],
          [
           "Pokemon Art Academy "
          ],
          [
           "Bravely Second: End Layer"
          ],
          [
           "Mario Golf: World Tour"
          ],
          [
           "FIFA 15"
          ],
          [
           "Lego Batman 3: Beyond Gotham"
          ],
          [
           "Hometown Story"
          ],
          [
           "Story of Seasons"
          ],
          [
           "Attack on Titan: Humanity in Chains"
          ],
          [
           "One Piece: Unlimited World Red"
          ],
          [
           "Theatrhythm Final Fantasy: Curtain Call"
          ],
          [
           "Fossil Fighters: Frontier"
          ],
          [
           "Angry Birds Star Wars"
          ],
          [
           "Dragon Ball Z: Extreme Butoden"
          ],
          [
           "Hatsune Miku: Project Mirai DX"
          ],
          [
           "LEGO Legends of Chima: Laval's Journey"
          ],
          [
           "Mario Party: Star Rush"
          ],
          [
           "Sonic Boom: Shattered Crystal"
          ],
          [
           "Skylanders: Trap Team"
          ],
          [
           "Batman: Arkham Origins Blackgate"
          ],
          [
           "Ultimate NES Remix"
          ],
          [
           "Etrian Odyssey Untold: The Millennium Girl"
          ],
          [
           "The Legend of Legacy"
          ],
          [
           "Stella Glow"
          ],
          [
           "Skylanders SWAP Force"
          ],
          [
           "Etrian Mystery Dungeon"
          ],
          [
           "Senran Kagura 2: Deep Crimson "
          ],
          [
           "Code Name: S.T.E.A.M."
          ],
          [
           "Dragon Ball: Fusions"
          ],
          [
           "Mega Man Legacy Collection"
          ],
          [
           "LEGO Marvel's Avengers"
          ],
          [
           "7th Dragon III Code: VFD"
          ],
          [
           "Return to PopoloCrois: A Story of Seasons Fairytale"
          ],
          [
           "Shovel Knight"
          ],
          [
           "Conception II: Children of the Seven Stars"
          ],
          [
           "Lego Star Wars: The Force Awakens"
          ],
          [
           "Disney Art Academy"
          ],
          [
           "Scribblenauts Unmasked: A DC Comics Adventure"
          ],
          [
           "Pokemon Rumble World"
          ],
          [
           "Terraria"
          ],
          [
           "Adventure Time: The Secret of the Nameless Kingdom"
          ],
          [
           "Samurai Warriors Chronicles 3"
          ],
          [
           "Zero Escape: Zero Time Dilemma"
          ],
          [
           "Disney's Planes"
          ],
          [
           "Mario vs. Donkey Kong: Tipping Stars"
          ],
          [
           "Lord of Magna: Maiden Heaven"
          ],
          [
           "Metroid Prime: Federation Force"
          ],
          [
           "Shantae and the Pirate's Curse"
          ],
          [
           "LEGO Friends"
          ],
          [
           "Gravity Falls: Legend of the Gnome Gemulets"
          ],
          [
           "Rodea the Sky Soldier"
          ],
          [
           "Beyblade Evolution"
          ],
          [
           "Yumi's Odd Odyssey"
          ],
          [
           "Young Justice: Legacy"
          ],
          [
           "The Peanuts Movie: Snoopy's Grand Adventure"
          ],
          [
           "Harvest Moon: Skytree Village"
          ],
          [
           "Phoenix Wright: Ace Attorney Trilogy"
          ],
          [
           "Tenkai Knights: Brave Battle"
          ],
          [
           "Ben 10 Omniverse 2"
          ],
          [
           "Turbo: Super Stunt Squad"
          ],
          [
           "Azure Striker Gunvolt"
          ]
         ],
         "hovertemplate": "platform=3DS<br>all_sales=%{x}<br>user_score=%{y}<br>name=%{customdata[0]}<extra></extra>",
         "legendgroup": "3DS",
         "marker": {
          "color": "#19d3f3",
          "symbol": "circle"
         },
         "mode": "markers",
         "name": "3DS",
         "showlegend": true,
         "type": "scattergl",
         "x": [
          4.59,
          3.89,
          3.1,
          3.05,
          2.34,
          1.9200000000000002,
          1.83,
          1.3800000000000001,
          1.25,
          1.11,
          0.93,
          0.93,
          0.8900000000000001,
          0.76,
          0.7200000000000001,
          0.6900000000000002,
          0.6200000000000001,
          0.5800000000000001,
          0.53,
          0.48,
          0.49,
          0.48,
          0.4800000000000001,
          0.4600000000000001,
          0.45,
          0.42999999999999994,
          0.42000000000000004,
          0.42,
          0.38,
          0.38,
          0.36,
          0.32999999999999996,
          0.33,
          0.32000000000000006,
          0.31000000000000005,
          0.31000000000000005,
          0.29000000000000004,
          0.28,
          0.27,
          0.26,
          0.26,
          0.25,
          0.24000000000000002,
          0.24,
          0.24,
          0.21000000000000002,
          0.22,
          0.21,
          0.21,
          0.18000000000000002,
          0.16,
          0.16000000000000003,
          0.15,
          0.13,
          0.13,
          0.11,
          0.09999999999999999,
          0.09,
          0.09,
          0.07,
          0.08,
          0.08,
          0.08,
          0.06,
          0.06,
          0.04,
          0.04,
          0.04,
          0.03,
          0.03,
          0.03,
          0.03,
          0.03,
          0.03,
          0.02,
          0.02,
          0.02,
          0.02,
          0.01,
          0.01
         ],
         "xaxis": "x",
         "y": [
          8.4,
          8.7,
          8.9,
          6.9,
          9,
          6.3,
          8.8,
          6.1,
          8.8,
          7.6,
          8.7,
          7.5,
          5.2,
          7.9,
          8.1,
          5.4,
          7.2,
          8.3,
          7,
          6.5,
          7.7,
          7.4,
          8.2,
          2.4,
          6.4,
          6,
          8.2,
          4.5,
          7.6,
          8.2,
          4.8,
          3,
          6.6,
          8.5,
          3.6,
          6.8,
          6.3,
          3.4,
          6.8,
          7.6,
          8.2,
          7.1,
          8.7,
          6.4,
          7.9,
          6.8,
          7.7,
          7.6,
          7.1,
          7.1,
          8.2,
          6.8,
          8.2,
          7.7,
          7.8,
          6.8,
          6.2,
          6.4,
          7.1,
          5.6,
          6.1,
          8.5,
          4.3,
          7.5,
          7.8,
          5.1,
          8.5,
          8.3,
          5.8,
          5.6,
          6.3,
          7.7,
          7.1,
          8.8,
          7.4,
          9,
          2.4,
          7.6,
          5.2,
          8.4
         ],
         "yaxis": "y"
        },
        {
         "customdata": [
          [
           "Just Dance 2014"
          ],
          [
           "Skylanders SWAP Force"
          ],
          [
           "Just Dance 2015"
          ],
          [
           "Disney Infinity"
          ],
          [
           "FIFA 15"
          ],
          [
           "FIFA 14"
          ],
          [
           "Angry Birds Star Wars"
          ]
         ],
         "hovertemplate": "platform=Wii<br>all_sales=%{x}<br>user_score=%{y}<br>name=%{customdata[0]}<extra></extra>",
         "legendgroup": "Wii",
         "marker": {
          "color": "#FF6692",
          "symbol": "circle"
         },
         "mode": "markers",
         "name": "Wii",
         "showlegend": true,
         "type": "scattergl",
         "x": [
          3.5799999999999996,
          2.15,
          2.01,
          1.6,
          0.56,
          0.38,
          0.26
         ],
         "xaxis": "x",
         "y": [
          6.2,
          6.6,
          8.4,
          4.2,
          4.3,
          4.3,
          2.8
         ],
         "yaxis": "y"
        },
        {
         "customdata": [
          [
           "The Sims 4"
          ],
          [
           "StarCraft II: Heart of the Swarm"
          ],
          [
           "SimCity (2013)"
          ],
          [
           "Battlefield 4"
          ],
          [
           "Fallout 4"
          ],
          [
           "Grand Theft Auto V"
          ],
          [
           "The Elder Scrolls Online"
          ],
          [
           "Dragon Age: Inquisition"
          ],
          [
           "Total War: Rome II"
          ],
          [
           "The Witcher 3: Wild Hunt"
          ],
          [
           "BioShock Infinite"
          ],
          [
           "Farming Simulator 17"
          ],
          [
           "Assassin's Creed IV: Black Flag"
          ],
          [
           "Football Manager 2014"
          ],
          [
           "Far Cry 4"
          ],
          [
           "Crysis 3"
          ],
          [
           "Titanfall"
          ],
          [
           "Assassin's Creed: Unity"
          ],
          [
           "Overwatch"
          ],
          [
           "StarCraft II: Legacy of the Void"
          ],
          [
           "World of Warcraft: Warlords of Draenor"
          ],
          [
           "Football Manager 2015"
          ],
          [
           "Wolfenstein: The New Order"
          ],
          [
           "Watch Dogs"
          ],
          [
           "Tom Clancy's The Division"
          ],
          [
           "Call of Duty: Advanced Warfare"
          ],
          [
           "FIFA 14"
          ],
          [
           "Battlefield 1"
          ],
          [
           "Sid Meier's Civilization: Beyond Earth"
          ],
          [
           "Middle-Earth: Shadow of Mordor"
          ],
          [
           "Football Manager 2016"
          ],
          [
           "Company of Heroes 2"
          ],
          [
           "World of Warcraft: Legion"
          ],
          [
           "Batman: Arkham Origins"
          ],
          [
           "Borderlands: The Pre-Sequel"
          ],
          [
           "FIFA 15"
          ],
          [
           "The Evil Within"
          ],
          [
           "Anno 2205"
          ],
          [
           "Need for Speed Rivals"
          ],
          [
           "Sid Meier's Civilization VI"
          ],
          [
           "Total War: Attila"
          ],
          [
           "XCOM 2"
          ],
          [
           "Tom Clancy's Rainbow Six: Siege"
          ],
          [
           "The Sims 4: Get Together"
          ],
          [
           "Assassin's Creed Syndicate"
          ],
          [
           "Defiance"
          ],
          [
           "FIFA 16"
          ],
          [
           "Dying Light"
          ],
          [
           "Mafia III"
          ],
          [
           "South Park: The Stick of Truth"
          ],
          [
           "Metro: Last Light"
          ],
          [
           "Evolve"
          ],
          [
           "Tom Clancy's Splinter Cell: Blacklist"
          ],
          [
           "Saints Row IV"
          ],
          [
           "Aliens: Colonial Marines"
          ],
          [
           "Dark Souls II"
          ],
          [
           "LEGO Marvel Super Heroes"
          ],
          [
           "Far Cry: Primal"
          ],
          [
           "The Crew"
          ],
          [
           "Wildstar"
          ],
          [
           "Alien: Isolation"
          ],
          [
           "Just Cause 3"
          ],
          [
           "Cities: Skylines"
          ],
          [
           "Battlefield: Hardline"
          ],
          [
           "Call of Duty: Infinite Warfare"
          ],
          [
           "Total War: WARHAMMER"
          ],
          [
           "Batman: Arkham Knight"
          ],
          [
           "Project CARS"
          ],
          [
           "Rise of the Tomb Raider"
          ],
          [
           "Dishonored 2"
          ],
          [
           "Tropico 5"
          ],
          [
           "FIFA 17"
          ],
          [
           "ArmA III"
          ],
          [
           "Wasteland 2"
          ],
          [
           "Pro Evolution Soccer 2014"
          ],
          [
           "The Sims 4: City Living"
          ],
          [
           "NBA 2K16"
          ],
          [
           "F1 2014"
          ],
          [
           "Football Manager 2017"
          ],
          [
           "Wolfenstein: The Old Blood"
          ],
          [
           "Risen 3: Titan Lords"
          ],
          [
           "Battleborn"
          ],
          [
           "Titanfall 2"
          ],
          [
           "Sniper: Ghost Warrior 2"
          ],
          [
           "Assassin's Creed: Rogue"
          ],
          [
           "X Rebirth"
          ],
          [
           "Metal Gear Solid V: The Phantom Pain"
          ],
          [
           "Dark Souls III"
          ],
          [
           "Goodbye Deponia"
          ],
          [
           "GRID 2"
          ],
          [
           "Mirror's Edge Catalyst"
          ],
          [
           "Pro Evolution Soccer 2015"
          ],
          [
           "Lego Batman 3: Beyond Gotham"
          ],
          [
           "The LEGO Movie Videogame"
          ],
          [
           "Street Fighter V"
          ],
          [
           "Remember Me"
          ],
          [
           "Rocket League"
          ],
          [
           "Hearts of Iron IV"
          ],
          [
           "Murdered: Soul Suspect"
          ],
          [
           "F1 2015"
          ],
          [
           "Mortal Kombat X"
          ],
          [
           "The Bureau: XCOM Declassified"
          ],
          [
           "Payday 2"
          ],
          [
           "Grand Ages: Medieval"
          ],
          [
           "Plants vs. Zombies: Garden Warfare 2"
          ],
          [
           "Life is Strange"
          ],
          [
           "Pro Evolution Soccer 2016"
          ],
          [
           "Stellaris"
          ],
          [
           "Resident Evil: Revelations"
          ],
          [
           "The Sims 4: Spa Day"
          ],
          [
           "LEGO Jurassic World"
          ],
          [
           "Train Simulator 2016"
          ],
          [
           "Lost Planet 3"
          ],
          [
           "Castlevania: Lords of Shadow 2"
          ],
          [
           "Transport Fever"
          ],
          [
           "Homefront: The Revolution"
          ],
          [
           "Pro Cycling Manager 2016"
          ],
          [
           "The Night of the Rabbit"
          ],
          [
           "Deus Ex: Mankind Divided"
          ],
          [
           "Song of the Deep"
          ],
          [
           "DiRT Rally"
          ],
          [
           "Trials Fusion"
          ],
          [
           "Transformers: Devastation"
          ],
          [
           "The Inner World"
          ],
          [
           "Lords of the Fallen"
          ],
          [
           "Ride"
          ],
          [
           "Bus Simulator 16"
          ],
          [
           "GRID Autosport"
          ],
          [
           "Final Fantasy XIV: Heavensward"
          ],
          [
           "Plants vs. Zombies: Garden Warfare"
          ],
          [
           "Sacred 3"
          ],
          [
           "Pro Evolution Soccer 2017"
          ],
          [
           "RollerCoaster Tycoon World"
          ],
          [
           "Agatha Christie: The ABC Murders"
          ],
          [
           "Lara Croft and the Temple of Osiris"
          ],
          [
           "The Crew: Wild Run"
          ],
          [
           "Pillars of Eternity"
          ],
          [
           "Divinity: Original Sin"
          ],
          [
           "The Sims 4: Luxury Party Stuff"
          ],
          [
           "Quantum Break"
          ],
          [
           "DuckTales: Remastered"
          ],
          [
           "Contrast"
          ],
          [
           "Valentino Rossi: The Game"
          ],
          [
           "NBA 2K17"
          ],
          [
           "War for the Overworld"
          ],
          [
           "The Technomancer"
          ],
          [
           "Sherlock Holmes: The Devil's Daughter"
          ],
          [
           "Battle Worlds: Kronos"
          ],
          [
           "Cities: Skylines Snowfall"
          ],
          [
           "Act of Aggression"
          ],
          [
           "Fallout Anthology"
          ],
          [
           "TrackMania Turbo"
          ],
          [
           "Ride 2"
          ],
          [
           "Rugby World Cup 2015"
          ],
          [
           "Metal Gear Solid V: Ground Zeroes"
          ]
         ],
         "hovertemplate": "platform=PC<br>all_sales=%{x}<br>user_score=%{y}<br>name=%{customdata[0]}<extra></extra>",
         "legendgroup": "PC",
         "marker": {
          "color": "#B6E880",
          "symbol": "circle"
         },
         "mode": "markers",
         "name": "PC",
         "showlegend": true,
         "type": "scattergl",
         "x": [
          3.0500000000000003,
          1.67,
          1.42,
          1.36,
          1.2800000000000002,
          1.1700000000000002,
          0.9000000000000001,
          0.73,
          0.72,
          0.7200000000000001,
          0.6599999999999999,
          0.65,
          0.65,
          0.63,
          0.63,
          0.6300000000000001,
          0.56,
          0.55,
          0.53,
          0.52,
          0.47,
          0.47,
          0.44999999999999996,
          0.44000000000000006,
          0.41,
          0.41000000000000003,
          0.4,
          0.38,
          0.36,
          0.35,
          0.35000000000000003,
          0.35,
          0.32000000000000006,
          0.31000000000000005,
          0.28,
          0.29000000000000004,
          0.28,
          0.26,
          0.25,
          0.24,
          0.24,
          0.22999999999999998,
          0.23,
          0.22,
          0.22,
          0.2,
          0.2,
          0.19999999999999998,
          0.19999999999999998,
          0.18000000000000002,
          0.18999999999999997,
          0.19999999999999998,
          0.18000000000000002,
          0.18999999999999997,
          0.18,
          0.17,
          0.17,
          0.16,
          0.16,
          0.16000000000000003,
          0.15000000000000002,
          0.15000000000000002,
          0.14,
          0.14,
          0.13,
          0.13,
          0.13,
          0.13,
          0.12,
          0.12000000000000001,
          0.12,
          0.12,
          0.11,
          0.09999999999999999,
          0.11,
          0.11,
          0.09999999999999999,
          0.09999999999999999,
          0.09999999999999999,
          0.08,
          0.08,
          0.09,
          0.08,
          0.08,
          0.08,
          0.08,
          0.07,
          0.07,
          0.06,
          0.06999999999999999,
          0.060000000000000005,
          0.06,
          0.06,
          0.06,
          0.05,
          0.05,
          0.05,
          0.05,
          0.05,
          0.05,
          0.05,
          0.05,
          0.05,
          0.05,
          0.04,
          0.05,
          0.04,
          0.04,
          0.04,
          0.04,
          0.04,
          0.04,
          0.04,
          0.04,
          0.03,
          0.03,
          0.03,
          0.03,
          0.03,
          0.03,
          0.03,
          0.03,
          0.03,
          0.03,
          0.03,
          0.03,
          0.03,
          0.02,
          0.02,
          0.02,
          0.02,
          0.02,
          0.02,
          0.02,
          0.02,
          0.02,
          0.02,
          0.02,
          0.01,
          0.01,
          0.01,
          0.01,
          0.01,
          0.01,
          0.01,
          0.01,
          0.01,
          0.01,
          0.01,
          0.01,
          0.01,
          0.01,
          0.01,
          0.01,
          0.01
         ],
         "xaxis": "x",
         "y": [
          3.9,
          7.9,
          2.2,
          6,
          5.4,
          7.9,
          5.7,
          5.9,
          4.2,
          9.3,
          8.5,
          8,
          7.7,
          5.5,
          6.7,
          6.5,
          6.2,
          3,
          6.8,
          8.3,
          5.9,
          6,
          8.2,
          4.7,
          5.8,
          4.5,
          4.6,
          7.6,
          5.5,
          8,
          6.9,
          2.1,
          7.5,
          7.5,
          6.2,
          4.2,
          5.9,
          5.9,
          3.3,
          7.3,
          7.3,
          7.1,
          6.9,
          7.3,
          5.9,
          6.5,
          4.4,
          7.9,
          3.2,
          8.6,
          8.6,
          4.3,
          7.4,
          7.4,
          3.5,
          7.1,
          8.1,
          4.8,
          6.4,
          7.4,
          8.4,
          5.3,
          8.9,
          3.8,
          3,
          7.3,
          2.5,
          7.1,
          7.9,
          6,
          7,
          4.2,
          7.4,
          7.3,
          4.4,
          5.7,
          5.7,
          4.8,
          4.3,
          7.6,
          5.7,
          6.9,
          8,
          5.8,
          7.5,
          3.3,
          7.7,
          8.6,
          7.9,
          5.7,
          4.4,
          5.8,
          6.8,
          6.8,
          2.9,
          7.4,
          8.2,
          6.9,
          7.4,
          3.6,
          5.1,
          6.5,
          3.4,
          5.4,
          7.5,
          8.6,
          4.3,
          8,
          7,
          7.6,
          7.1,
          4,
          6.2,
          7.7,
          7,
          3.5,
          4.8,
          7.5,
          6.1,
          6.3,
          8.7,
          6.8,
          7.6,
          8.1,
          6.9,
          4.8,
          6.1,
          6.2,
          7.7,
          7.8,
          1.4,
          3.7,
          2.4,
          8.5,
          5.4,
          7.4,
          8.3,
          8.7,
          5.3,
          4.3,
          7.6,
          7.7,
          6.2,
          6.3,
          7.7,
          6.8,
          7.3,
          7.1,
          7.1,
          7.1,
          8.3,
          6.8,
          7.9,
          1.4,
          7.6
         ],
         "yaxis": "y"
        },
        {
         "customdata": [
          [
           "Killzone: Mercenary"
          ],
          [
           "Final Fantasy X / X-2 HD Remaster"
          ],
          [
           "Freedom Wars"
          ],
          [
           "Borderlands 2"
          ],
          [
           "Tearaway"
          ],
          [
           "FIFA 15"
          ],
          [
           "Soul Sacrifice"
          ],
          [
           "Batman: Arkham Origins Blackgate"
          ],
          [
           "FIFA 14"
          ],
          [
           "God Eater 2: Rage Burst"
          ],
          [
           "Sword Art Online: Lost Song"
          ],
          [
           "Dragon's Crown"
          ],
          [
           "Toukiden: The Age of Demons"
          ],
          [
           "Danganronpa: Trigger Happy Havoc"
          ],
          [
           "Hatsune Miku: Project Diva F 2nd"
          ],
          [
           "Persona 4: Dancing All Night"
          ],
          [
           "Lego Batman 3: Beyond Gotham"
          ],
          [
           "Sword Art Online: Hollow Fragment"
          ],
          [
           "The LEGO Movie Videogame"
          ],
          [
           "Sly Cooper: Thieves in Time"
          ],
          [
           "The Legend of Heroes: Trails of Cold Steel"
          ],
          [
           "Toukiden Kiwami"
          ],
          [
           "LEGO Jurassic World"
          ],
          [
           "Soul Sacrifice Delta"
          ],
          [
           "World of Final Fantasy"
          ],
          [
           "Danganronpa Another Episode: Ultra Despair Girls"
          ],
          [
           "J Stars Victory Vs."
          ],
          [
           "God of War Collection"
          ],
          [
           "God Eater Resurrection"
          ],
          [
           "The Legend of Heroes: Trails of Cold Steel II"
          ],
          [
           "Corpse Party: Blood Drive"
          ],
          [
           "Valhalla Knights 3"
          ],
          [
           "Senran Kagura: Estival Versus"
          ],
          [
           "Danganronpa 2: Goodbye Despair"
          ],
          [
           "Conception II: Children of the Seven Stars"
          ],
          [
           "Digimon Story: Cyber Sleuth"
          ],
          [
           "Demon Gaze"
          ],
          [
           "Mobile Suit Gundam: Extreme VS Force"
          ],
          [
           "One Piece: Pirate Warriors 3"
          ],
          [
           "LEGO The Hobbit"
          ],
          [
           "Oreshika: Tainted Bloodlines"
          ],
          [
           "Sword Art Online: Hollow Realization"
          ],
          [
           "Odin Sphere: Leifthrasir"
          ],
          [
           "Rayman Legends"
          ],
          [
           "Dengeki Bunko Fighting Climax"
          ],
          [
           "LEGO Legends of Chima: Laval's Journey"
          ],
          [
           "Deception IV: Blood Ties"
          ],
          [
           "One Piece: Unlimited World Red"
          ],
          [
           "Hyperdevotion Noire: Goddess Black Heart"
          ],
          [
           "LEGO Marvel's Avengers"
          ],
          [
           "Hatsune Miku: Project Diva X"
          ],
          [
           "Hyperdimension Neptunia U: Action Unleashed"
          ],
          [
           "MLB 13: The Show"
          ],
          [
           "Valkyrie Drive: Bhikkhuni"
          ],
          [
           "Samurai Warriors 4"
          ],
          [
           "MLB 14: The Show"
          ],
          [
           "Dragon Ball Z: Battle of Z"
          ],
          [
           "Mind Zero"
          ],
          [
           "Terraria"
          ],
          [
           "Resident Evil: Revelations 2"
          ],
          [
           "Steins;Gate"
          ],
          [
           "Operation Abyss: New Tokyo Legacy"
          ],
          [
           "Lego Star Wars: The Force Awakens"
          ],
          [
           "One Piece: Burning Blood"
          ],
          [
           "Steins;Gate 0"
          ],
          [
           "Angry Birds Star Wars"
          ],
          [
           "Invizimals: The Alliance"
          ],
          [
           "Lost Dimension"
          ],
          [
           "Child of Light"
          ],
          [
           "BlazBlue: Chrono Phantasma"
          ],
          [
           "Tokyo Twilight Ghost Hunters"
          ],
          [
           "Earth Defense Force 2: Invaders from Planet Space"
          ],
          [
           "Assassin's Creed Chronicles"
          ],
          [
           "Natural Doctrine"
          ],
          [
           "Criminal Girls: Invite Only"
          ],
          [
           "Samurai Warriors Chronicles 3"
          ],
          [
           "Zero Escape: Zero Time Dilemma"
          ],
          [
           "Grand Kingdom"
          ],
          [
           "Atelier Sophie: The Alchemist of the Mysterious Book"
          ],
          [
           "Exist Archive: The Other Side of the Sky"
          ],
          [
           "Root Letter"
          ],
          [
           "The Wolf Among Us"
          ],
          [
           "Gal Gun: Double Peace"
          ],
          [
           "Ray Gigant"
          ],
          [
           "Stranger of Sword City"
          ],
          [
           "Sorcery Saga: The Curse of the Great Curry God"
          ],
          [
           "Superdimension Neptune vs Sega Hard Girls"
          ],
          [
           "XBLAZE Code: Embryo"
          ],
          [
           "Putty Squad"
          ],
          [
           "Aegis of Earth: Protonovus Assault"
          ],
          [
           "BlazBlue: Chrono Phantasma Extend"
          ],
          [
           "Psycho-Pass: Mandatory Happiness"
          ],
          [
           "Dynasty Warriors 8: Empires"
          ],
          [
           "SpongeBob: HeroPants"
          ],
          [
           "MLB 15: The Show"
          ],
          [
           "htoL#NiQ: The Firefly Diary"
          ],
          [
           "Doki-Doki Universe"
          ],
          [
           "MotoGP 14 "
          ],
          [
           "Xblaze: Lost Memories"
          ]
         ],
         "hovertemplate": "platform=PSV<br>all_sales=%{x}<br>user_score=%{y}<br>name=%{customdata[0]}<extra></extra>",
         "legendgroup": "PSV",
         "marker": {
          "color": "#FF97FF",
          "symbol": "circle"
         },
         "mode": "markers",
         "name": "PSV",
         "showlegend": true,
         "type": "scattergl",
         "x": [
          0.8000000000000002,
          0.8,
          0.65,
          0.64,
          0.6200000000000001,
          0.6,
          0.51,
          0.43000000000000005,
          0.41000000000000003,
          0.41000000000000003,
          0.36,
          0.36,
          0.35000000000000003,
          0.33,
          0.33,
          0.32,
          0.31,
          0.3,
          0.30000000000000004,
          0.25,
          0.23,
          0.22000000000000003,
          0.22999999999999998,
          0.22,
          0.21,
          0.21,
          0.21000000000000002,
          0.2,
          0.19,
          0.18000000000000002,
          0.18,
          0.18,
          0.16999999999999998,
          0.17,
          0.17,
          0.17,
          0.16,
          0.17,
          0.17,
          0.14,
          0.15,
          0.15000000000000002,
          0.14,
          0.14,
          0.13,
          0.13,
          0.12000000000000001,
          0.13,
          0.13,
          0.12000000000000001,
          0.11,
          0.11,
          0.12000000000000001,
          0.11,
          0.11,
          0.11,
          0.11,
          0.11,
          0.09999999999999999,
          0.11,
          0.1,
          0.09,
          0.09999999999999999,
          0.09000000000000001,
          0.09,
          0.08,
          0.08,
          0.08,
          0.06999999999999999,
          0.06999999999999999,
          0.06999999999999999,
          0.06999999999999999,
          0.07,
          0.06999999999999999,
          0.06999999999999999,
          0.06,
          0.060000000000000005,
          0.06999999999999999,
          0.06,
          0.060000000000000005,
          0.05,
          0.04,
          0.04,
          0.04,
          0.03,
          0.03,
          0.03,
          0.02,
          0.03,
          0.03,
          0.03,
          0.02,
          0.02,
          0.01,
          0.01,
          0.01,
          0.01,
          0.01,
          0.01
         ],
         "xaxis": "x",
         "y": [
          8.9,
          8.5,
          8.3,
          7.6,
          8.9,
          3.1,
          8.2,
          6.8,
          1.8,
          8.1,
          7.1,
          8.4,
          8,
          8.1,
          8.4,
          8.6,
          7.7,
          7.6,
          5.6,
          8.2,
          7.5,
          8.6,
          7.6,
          8.4,
          8.6,
          8.4,
          7.9,
          7.4,
          8.8,
          7.3,
          7.4,
          6.8,
          7.4,
          8.7,
          7.6,
          8.8,
          7.4,
          7.3,
          6.3,
          2.5,
          8,
          7,
          7.9,
          8.4,
          8.5,
          6.6,
          7.5,
          7.8,
          7.1,
          6.6,
          8,
          6.8,
          7.5,
          8.5,
          8.6,
          7,
          7.5,
          6,
          7.8,
          7.8,
          9.2,
          7.3,
          7.1,
          7.8,
          9.3,
          2,
          6.8,
          8.3,
          7.8,
          7.8,
          7,
          8.5,
          8,
          7.5,
          6.7,
          7.9,
          8.3,
          8.8,
          8,
          8.3,
          7.8,
          8.4,
          8.1,
          8.1,
          8,
          7.3,
          8.4,
          7.4,
          8.2,
          8.3,
          6.8,
          7.3,
          7.4,
          5.1,
          8.8,
          7.7,
          5.7,
          7.5,
          7
         ],
         "yaxis": "y"
        },
        {
         "customdata": [
          [
           "LEGO Marvel Super Heroes"
          ]
         ],
         "hovertemplate": "platform=DS<br>all_sales=%{x}<br>user_score=%{y}<br>name=%{customdata[0]}<extra></extra>",
         "legendgroup": "DS",
         "marker": {
          "color": "#FECB52",
          "symbol": "circle"
         },
         "mode": "markers",
         "name": "DS",
         "showlegend": true,
         "type": "scattergl",
         "x": [
          0.38
         ],
         "xaxis": "x",
         "y": [
          4.8
         ],
         "yaxis": "y"
        },
        {
         "customdata": [
          [
           "FIFA 14"
          ],
          [
           "Summon Night 5"
          ]
         ],
         "hovertemplate": "platform=PSP<br>all_sales=%{x}<br>user_score=%{y}<br>name=%{customdata[0]}<extra></extra>",
         "legendgroup": "PSP",
         "marker": {
          "color": "#636efa",
          "symbol": "circle"
         },
         "mode": "markers",
         "name": "PSP",
         "showlegend": true,
         "type": "scattergl",
         "x": [
          0.19,
          0.15
         ],
         "xaxis": "x",
         "y": [
          3.4,
          8.3
         ],
         "yaxis": "y"
        }
       ],
       "layout": {
        "legend": {
         "title": {
          "text": "platform"
         },
         "tracegroupgap": 0
        },
        "margin": {
         "t": 60
        },
        "template": {
         "data": {
          "bar": [
           {
            "error_x": {
             "color": "#2a3f5f"
            },
            "error_y": {
             "color": "#2a3f5f"
            },
            "marker": {
             "line": {
              "color": "#E5ECF6",
              "width": 0.5
             },
             "pattern": {
              "fillmode": "overlay",
              "size": 10,
              "solidity": 0.2
             }
            },
            "type": "bar"
           }
          ],
          "barpolar": [
           {
            "marker": {
             "line": {
              "color": "#E5ECF6",
              "width": 0.5
             },
             "pattern": {
              "fillmode": "overlay",
              "size": 10,
              "solidity": 0.2
             }
            },
            "type": "barpolar"
           }
          ],
          "carpet": [
           {
            "aaxis": {
             "endlinecolor": "#2a3f5f",
             "gridcolor": "white",
             "linecolor": "white",
             "minorgridcolor": "white",
             "startlinecolor": "#2a3f5f"
            },
            "baxis": {
             "endlinecolor": "#2a3f5f",
             "gridcolor": "white",
             "linecolor": "white",
             "minorgridcolor": "white",
             "startlinecolor": "#2a3f5f"
            },
            "type": "carpet"
           }
          ],
          "choropleth": [
           {
            "colorbar": {
             "outlinewidth": 0,
             "ticks": ""
            },
            "type": "choropleth"
           }
          ],
          "contour": [
           {
            "colorbar": {
             "outlinewidth": 0,
             "ticks": ""
            },
            "colorscale": [
             [
              0,
              "#0d0887"
             ],
             [
              0.1111111111111111,
              "#46039f"
             ],
             [
              0.2222222222222222,
              "#7201a8"
             ],
             [
              0.3333333333333333,
              "#9c179e"
             ],
             [
              0.4444444444444444,
              "#bd3786"
             ],
             [
              0.5555555555555556,
              "#d8576b"
             ],
             [
              0.6666666666666666,
              "#ed7953"
             ],
             [
              0.7777777777777778,
              "#fb9f3a"
             ],
             [
              0.8888888888888888,
              "#fdca26"
             ],
             [
              1,
              "#f0f921"
             ]
            ],
            "type": "contour"
           }
          ],
          "contourcarpet": [
           {
            "colorbar": {
             "outlinewidth": 0,
             "ticks": ""
            },
            "type": "contourcarpet"
           }
          ],
          "heatmap": [
           {
            "colorbar": {
             "outlinewidth": 0,
             "ticks": ""
            },
            "colorscale": [
             [
              0,
              "#0d0887"
             ],
             [
              0.1111111111111111,
              "#46039f"
             ],
             [
              0.2222222222222222,
              "#7201a8"
             ],
             [
              0.3333333333333333,
              "#9c179e"
             ],
             [
              0.4444444444444444,
              "#bd3786"
             ],
             [
              0.5555555555555556,
              "#d8576b"
             ],
             [
              0.6666666666666666,
              "#ed7953"
             ],
             [
              0.7777777777777778,
              "#fb9f3a"
             ],
             [
              0.8888888888888888,
              "#fdca26"
             ],
             [
              1,
              "#f0f921"
             ]
            ],
            "type": "heatmap"
           }
          ],
          "heatmapgl": [
           {
            "colorbar": {
             "outlinewidth": 0,
             "ticks": ""
            },
            "colorscale": [
             [
              0,
              "#0d0887"
             ],
             [
              0.1111111111111111,
              "#46039f"
             ],
             [
              0.2222222222222222,
              "#7201a8"
             ],
             [
              0.3333333333333333,
              "#9c179e"
             ],
             [
              0.4444444444444444,
              "#bd3786"
             ],
             [
              0.5555555555555556,
              "#d8576b"
             ],
             [
              0.6666666666666666,
              "#ed7953"
             ],
             [
              0.7777777777777778,
              "#fb9f3a"
             ],
             [
              0.8888888888888888,
              "#fdca26"
             ],
             [
              1,
              "#f0f921"
             ]
            ],
            "type": "heatmapgl"
           }
          ],
          "histogram": [
           {
            "marker": {
             "pattern": {
              "fillmode": "overlay",
              "size": 10,
              "solidity": 0.2
             }
            },
            "type": "histogram"
           }
          ],
          "histogram2d": [
           {
            "colorbar": {
             "outlinewidth": 0,
             "ticks": ""
            },
            "colorscale": [
             [
              0,
              "#0d0887"
             ],
             [
              0.1111111111111111,
              "#46039f"
             ],
             [
              0.2222222222222222,
              "#7201a8"
             ],
             [
              0.3333333333333333,
              "#9c179e"
             ],
             [
              0.4444444444444444,
              "#bd3786"
             ],
             [
              0.5555555555555556,
              "#d8576b"
             ],
             [
              0.6666666666666666,
              "#ed7953"
             ],
             [
              0.7777777777777778,
              "#fb9f3a"
             ],
             [
              0.8888888888888888,
              "#fdca26"
             ],
             [
              1,
              "#f0f921"
             ]
            ],
            "type": "histogram2d"
           }
          ],
          "histogram2dcontour": [
           {
            "colorbar": {
             "outlinewidth": 0,
             "ticks": ""
            },
            "colorscale": [
             [
              0,
              "#0d0887"
             ],
             [
              0.1111111111111111,
              "#46039f"
             ],
             [
              0.2222222222222222,
              "#7201a8"
             ],
             [
              0.3333333333333333,
              "#9c179e"
             ],
             [
              0.4444444444444444,
              "#bd3786"
             ],
             [
              0.5555555555555556,
              "#d8576b"
             ],
             [
              0.6666666666666666,
              "#ed7953"
             ],
             [
              0.7777777777777778,
              "#fb9f3a"
             ],
             [
              0.8888888888888888,
              "#fdca26"
             ],
             [
              1,
              "#f0f921"
             ]
            ],
            "type": "histogram2dcontour"
           }
          ],
          "mesh3d": [
           {
            "colorbar": {
             "outlinewidth": 0,
             "ticks": ""
            },
            "type": "mesh3d"
           }
          ],
          "parcoords": [
           {
            "line": {
             "colorbar": {
              "outlinewidth": 0,
              "ticks": ""
             }
            },
            "type": "parcoords"
           }
          ],
          "pie": [
           {
            "automargin": true,
            "type": "pie"
           }
          ],
          "scatter": [
           {
            "fillpattern": {
             "fillmode": "overlay",
             "size": 10,
             "solidity": 0.2
            },
            "type": "scatter"
           }
          ],
          "scatter3d": [
           {
            "line": {
             "colorbar": {
              "outlinewidth": 0,
              "ticks": ""
             }
            },
            "marker": {
             "colorbar": {
              "outlinewidth": 0,
              "ticks": ""
             }
            },
            "type": "scatter3d"
           }
          ],
          "scattercarpet": [
           {
            "marker": {
             "colorbar": {
              "outlinewidth": 0,
              "ticks": ""
             }
            },
            "type": "scattercarpet"
           }
          ],
          "scattergeo": [
           {
            "marker": {
             "colorbar": {
              "outlinewidth": 0,
              "ticks": ""
             }
            },
            "type": "scattergeo"
           }
          ],
          "scattergl": [
           {
            "marker": {
             "colorbar": {
              "outlinewidth": 0,
              "ticks": ""
             }
            },
            "type": "scattergl"
           }
          ],
          "scattermapbox": [
           {
            "marker": {
             "colorbar": {
              "outlinewidth": 0,
              "ticks": ""
             }
            },
            "type": "scattermapbox"
           }
          ],
          "scatterpolar": [
           {
            "marker": {
             "colorbar": {
              "outlinewidth": 0,
              "ticks": ""
             }
            },
            "type": "scatterpolar"
           }
          ],
          "scatterpolargl": [
           {
            "marker": {
             "colorbar": {
              "outlinewidth": 0,
              "ticks": ""
             }
            },
            "type": "scatterpolargl"
           }
          ],
          "scatterternary": [
           {
            "marker": {
             "colorbar": {
              "outlinewidth": 0,
              "ticks": ""
             }
            },
            "type": "scatterternary"
           }
          ],
          "surface": [
           {
            "colorbar": {
             "outlinewidth": 0,
             "ticks": ""
            },
            "colorscale": [
             [
              0,
              "#0d0887"
             ],
             [
              0.1111111111111111,
              "#46039f"
             ],
             [
              0.2222222222222222,
              "#7201a8"
             ],
             [
              0.3333333333333333,
              "#9c179e"
             ],
             [
              0.4444444444444444,
              "#bd3786"
             ],
             [
              0.5555555555555556,
              "#d8576b"
             ],
             [
              0.6666666666666666,
              "#ed7953"
             ],
             [
              0.7777777777777778,
              "#fb9f3a"
             ],
             [
              0.8888888888888888,
              "#fdca26"
             ],
             [
              1,
              "#f0f921"
             ]
            ],
            "type": "surface"
           }
          ],
          "table": [
           {
            "cells": {
             "fill": {
              "color": "#EBF0F8"
             },
             "line": {
              "color": "white"
             }
            },
            "header": {
             "fill": {
              "color": "#C8D4E3"
             },
             "line": {
              "color": "white"
             }
            },
            "type": "table"
           }
          ]
         },
         "layout": {
          "annotationdefaults": {
           "arrowcolor": "#2a3f5f",
           "arrowhead": 0,
           "arrowwidth": 1
          },
          "autotypenumbers": "strict",
          "coloraxis": {
           "colorbar": {
            "outlinewidth": 0,
            "ticks": ""
           }
          },
          "colorscale": {
           "diverging": [
            [
             0,
             "#8e0152"
            ],
            [
             0.1,
             "#c51b7d"
            ],
            [
             0.2,
             "#de77ae"
            ],
            [
             0.3,
             "#f1b6da"
            ],
            [
             0.4,
             "#fde0ef"
            ],
            [
             0.5,
             "#f7f7f7"
            ],
            [
             0.6,
             "#e6f5d0"
            ],
            [
             0.7,
             "#b8e186"
            ],
            [
             0.8,
             "#7fbc41"
            ],
            [
             0.9,
             "#4d9221"
            ],
            [
             1,
             "#276419"
            ]
           ],
           "sequential": [
            [
             0,
             "#0d0887"
            ],
            [
             0.1111111111111111,
             "#46039f"
            ],
            [
             0.2222222222222222,
             "#7201a8"
            ],
            [
             0.3333333333333333,
             "#9c179e"
            ],
            [
             0.4444444444444444,
             "#bd3786"
            ],
            [
             0.5555555555555556,
             "#d8576b"
            ],
            [
             0.6666666666666666,
             "#ed7953"
            ],
            [
             0.7777777777777778,
             "#fb9f3a"
            ],
            [
             0.8888888888888888,
             "#fdca26"
            ],
            [
             1,
             "#f0f921"
            ]
           ],
           "sequentialminus": [
            [
             0,
             "#0d0887"
            ],
            [
             0.1111111111111111,
             "#46039f"
            ],
            [
             0.2222222222222222,
             "#7201a8"
            ],
            [
             0.3333333333333333,
             "#9c179e"
            ],
            [
             0.4444444444444444,
             "#bd3786"
            ],
            [
             0.5555555555555556,
             "#d8576b"
            ],
            [
             0.6666666666666666,
             "#ed7953"
            ],
            [
             0.7777777777777778,
             "#fb9f3a"
            ],
            [
             0.8888888888888888,
             "#fdca26"
            ],
            [
             1,
             "#f0f921"
            ]
           ]
          },
          "colorway": [
           "#636efa",
           "#EF553B",
           "#00cc96",
           "#ab63fa",
           "#FFA15A",
           "#19d3f3",
           "#FF6692",
           "#B6E880",
           "#FF97FF",
           "#FECB52"
          ],
          "font": {
           "color": "#2a3f5f"
          },
          "geo": {
           "bgcolor": "white",
           "lakecolor": "white",
           "landcolor": "#E5ECF6",
           "showlakes": true,
           "showland": true,
           "subunitcolor": "white"
          },
          "hoverlabel": {
           "align": "left"
          },
          "hovermode": "closest",
          "mapbox": {
           "style": "light"
          },
          "paper_bgcolor": "white",
          "plot_bgcolor": "#E5ECF6",
          "polar": {
           "angularaxis": {
            "gridcolor": "white",
            "linecolor": "white",
            "ticks": ""
           },
           "bgcolor": "#E5ECF6",
           "radialaxis": {
            "gridcolor": "white",
            "linecolor": "white",
            "ticks": ""
           }
          },
          "scene": {
           "xaxis": {
            "backgroundcolor": "#E5ECF6",
            "gridcolor": "white",
            "gridwidth": 2,
            "linecolor": "white",
            "showbackground": true,
            "ticks": "",
            "zerolinecolor": "white"
           },
           "yaxis": {
            "backgroundcolor": "#E5ECF6",
            "gridcolor": "white",
            "gridwidth": 2,
            "linecolor": "white",
            "showbackground": true,
            "ticks": "",
            "zerolinecolor": "white"
           },
           "zaxis": {
            "backgroundcolor": "#E5ECF6",
            "gridcolor": "white",
            "gridwidth": 2,
            "linecolor": "white",
            "showbackground": true,
            "ticks": "",
            "zerolinecolor": "white"
           }
          },
          "shapedefaults": {
           "line": {
            "color": "#2a3f5f"
           }
          },
          "ternary": {
           "aaxis": {
            "gridcolor": "white",
            "linecolor": "white",
            "ticks": ""
           },
           "baxis": {
            "gridcolor": "white",
            "linecolor": "white",
            "ticks": ""
           },
           "bgcolor": "#E5ECF6",
           "caxis": {
            "gridcolor": "white",
            "linecolor": "white",
            "ticks": ""
           }
          },
          "title": {
           "x": 0.05
          },
          "xaxis": {
           "automargin": true,
           "gridcolor": "white",
           "linecolor": "white",
           "ticks": "",
           "title": {
            "standoff": 15
           },
           "zerolinecolor": "white",
           "zerolinewidth": 2
          },
          "yaxis": {
           "automargin": true,
           "gridcolor": "white",
           "linecolor": "white",
           "ticks": "",
           "title": {
            "standoff": 15
           },
           "zerolinecolor": "white",
           "zerolinewidth": 2
          }
         }
        },
        "xaxis": {
         "anchor": "y",
         "domain": [
          0,
          1
         ],
         "title": {
          "text": "all_sales"
         }
        },
        "yaxis": {
         "anchor": "x",
         "domain": [
          0,
          1
         ],
         "title": {
          "text": "user_score"
         }
        }
       }
      }
     },
     "metadata": {},
     "output_type": "display_data"
    }
   ],
   "source": [
    "px.scatter(good_data_2013, \n",
    "            x=\"all_sales\", \n",
    "            y=\"user_score\",\n",
    "            color='platform',\n",
    "            hover_data=['name'])"
   ]
  },
  {
   "cell_type": "code",
   "execution_count": null,
   "metadata": {},
   "outputs": [],
   "source": [
    "# for title in platforms_2013:\n",
    "#     good_data_2013.query('platform == @title').plot(kind='scatter', x='all_sales', y='critic_score', figsize=(9,6), grid=True, title=title);\n"
   ]
  },
  {
   "cell_type": "markdown",
   "metadata": {},
   "source": [
    "<pre>\n",
    "Исключим платформы по которым не достаточн данных для анализа: DS.\n",
    "B частично по оценкам критиков.\n",
    "На других платформах пользовательские оценки влияют на продажи: \n",
    "    3DS - 24%, \n",
    "    Wii - 68%,\n",
    "    WiiU - 42%.\n",
    "На крупных консолях (PS и xone) пользовательские оценки не имеют значения.\n",
    "На ПК пользовательские оценки, как оказалось, тоже мало влияют -9%.\n",
    "Оценки критиков важнее, но не превышают 50%\n",
    "\n",
    "</pre>"
   ]
  },
  {
   "cell_type": "markdown",
   "metadata": {},
   "source": [
    "### Посмотрите на общее распределение игр по жанрам. Что можно сказать о самых прибыльных жанрах? Выделяются ли жанры с высокими и низкими продажами?"
   ]
  },
  {
   "cell_type": "code",
   "execution_count": null,
   "metadata": {},
   "outputs": [
    {
     "data": {
      "text/html": [
       "<style type=\"text/css\">\n",
       "#T_4f097_row0_col1 {\n",
       "  background-color: #023858;\n",
       "  color: #f1f1f1;\n",
       "}\n",
       "#T_4f097_row1_col1 {\n",
       "  background-color: #0a73b2;\n",
       "  color: #f1f1f1;\n",
       "}\n",
       "#T_4f097_row2_col1 {\n",
       "  background-color: #569dc8;\n",
       "  color: #f1f1f1;\n",
       "}\n",
       "#T_4f097_row3_col1 {\n",
       "  background-color: #d2d2e7;\n",
       "  color: #000000;\n",
       "}\n",
       "#T_4f097_row4_col1, #T_4f097_row5_col1 {\n",
       "  background-color: #ebe6f2;\n",
       "  color: #000000;\n",
       "}\n",
       "#T_4f097_row6_col1 {\n",
       "  background-color: #f1ebf4;\n",
       "  color: #000000;\n",
       "}\n",
       "#T_4f097_row7_col1 {\n",
       "  background-color: #f5eff6;\n",
       "  color: #000000;\n",
       "}\n",
       "#T_4f097_row8_col1 {\n",
       "  background-color: #f9f2f8;\n",
       "  color: #000000;\n",
       "}\n",
       "#T_4f097_row9_col1 {\n",
       "  background-color: #faf2f8;\n",
       "  color: #000000;\n",
       "}\n",
       "#T_4f097_row10_col1 {\n",
       "  background-color: #fbf4f9;\n",
       "  color: #000000;\n",
       "}\n",
       "#T_4f097_row11_col1 {\n",
       "  background-color: #fff7fb;\n",
       "  color: #000000;\n",
       "}\n",
       "</style>\n",
       "<table id=\"T_4f097\">\n",
       "  <thead>\n",
       "    <tr>\n",
       "      <th class=\"blank level0\" >&nbsp;</th>\n",
       "      <th id=\"T_4f097_level0_col0\" class=\"col_heading level0 col0\" >genre</th>\n",
       "      <th id=\"T_4f097_level0_col1\" class=\"col_heading level0 col1\" >all_sales</th>\n",
       "    </tr>\n",
       "  </thead>\n",
       "  <tbody>\n",
       "    <tr>\n",
       "      <th id=\"T_4f097_level0_row0\" class=\"row_heading level0 row0\" >0</th>\n",
       "      <td id=\"T_4f097_row0_col0\" class=\"data row0 col0\" >Action</td>\n",
       "      <td id=\"T_4f097_row0_col1\" class=\"data row0 col1\" >256.830000</td>\n",
       "    </tr>\n",
       "    <tr>\n",
       "      <th id=\"T_4f097_level0_row1\" class=\"row_heading level0 row1\" >8</th>\n",
       "      <td id=\"T_4f097_row1_col0\" class=\"data row1 col0\" >Shooter</td>\n",
       "      <td id=\"T_4f097_row1_col1\" class=\"data row1 col1\" >189.960000</td>\n",
       "    </tr>\n",
       "    <tr>\n",
       "      <th id=\"T_4f097_level0_row2\" class=\"row_heading level0 row2\" >10</th>\n",
       "      <td id=\"T_4f097_row2_col0\" class=\"data row2 col0\" >Sports</td>\n",
       "      <td id=\"T_4f097_row2_col1\" class=\"data row2 col1\" >144.910000</td>\n",
       "    </tr>\n",
       "    <tr>\n",
       "      <th id=\"T_4f097_level0_row3\" class=\"row_heading level0 row3\" >7</th>\n",
       "      <td id=\"T_4f097_row3_col0\" class=\"data row3 col0\" >Role-Playing</td>\n",
       "      <td id=\"T_4f097_row3_col1\" class=\"data row3 col1\" >64.190000</td>\n",
       "    </tr>\n",
       "    <tr>\n",
       "      <th id=\"T_4f097_level0_row4\" class=\"row_heading level0 row4\" >4</th>\n",
       "      <td id=\"T_4f097_row4_col0\" class=\"data row4 col0\" >Platform</td>\n",
       "      <td id=\"T_4f097_row4_col1\" class=\"data row4 col1\" >35.430000</td>\n",
       "    </tr>\n",
       "    <tr>\n",
       "      <th id=\"T_4f097_level0_row5\" class=\"row_heading level0 row5\" >6</th>\n",
       "      <td id=\"T_4f097_row5_col0\" class=\"data row5 col0\" >Racing</td>\n",
       "      <td id=\"T_4f097_row5_col1\" class=\"data row5 col1\" >35.190000</td>\n",
       "    </tr>\n",
       "    <tr>\n",
       "      <th id=\"T_4f097_level0_row6\" class=\"row_heading level0 row6\" >3</th>\n",
       "      <td id=\"T_4f097_row6_col0\" class=\"data row6 col0\" >Misc</td>\n",
       "      <td id=\"T_4f097_row6_col1\" class=\"data row6 col1\" >26.930000</td>\n",
       "    </tr>\n",
       "    <tr>\n",
       "      <th id=\"T_4f097_level0_row7\" class=\"row_heading level0 row7\" >2</th>\n",
       "      <td id=\"T_4f097_row7_col0\" class=\"data row7 col0\" >Fighting</td>\n",
       "      <td id=\"T_4f097_row7_col1\" class=\"data row7 col1\" >19.010000</td>\n",
       "    </tr>\n",
       "    <tr>\n",
       "      <th id=\"T_4f097_level0_row8\" class=\"row_heading level0 row8\" >9</th>\n",
       "      <td id=\"T_4f097_row8_col0\" class=\"data row8 col0\" >Simulation</td>\n",
       "      <td id=\"T_4f097_row8_col1\" class=\"data row8 col1\" >12.260000</td>\n",
       "    </tr>\n",
       "    <tr>\n",
       "      <th id=\"T_4f097_level0_row9\" class=\"row_heading level0 row9\" >1</th>\n",
       "      <td id=\"T_4f097_row9_col0\" class=\"data row9 col0\" >Adventure</td>\n",
       "      <td id=\"T_4f097_row9_col1\" class=\"data row9 col1\" >11.530000</td>\n",
       "    </tr>\n",
       "    <tr>\n",
       "      <th id=\"T_4f097_level0_row10\" class=\"row_heading level0 row10\" >11</th>\n",
       "      <td id=\"T_4f097_row10_col0\" class=\"data row10 col0\" >Strategy</td>\n",
       "      <td id=\"T_4f097_row10_col1\" class=\"data row10 col1\" >8.260000</td>\n",
       "    </tr>\n",
       "    <tr>\n",
       "      <th id=\"T_4f097_level0_row11\" class=\"row_heading level0 row11\" >5</th>\n",
       "      <td id=\"T_4f097_row11_col0\" class=\"data row11 col0\" >Puzzle</td>\n",
       "      <td id=\"T_4f097_row11_col1\" class=\"data row11 col1\" >2.240000</td>\n",
       "    </tr>\n",
       "  </tbody>\n",
       "</table>\n"
      ],
      "text/plain": [
       "<pandas.io.formats.style.Styler at 0x272a78a0280>"
      ]
     },
     "execution_count": 72,
     "metadata": {},
     "output_type": "execute_result"
    }
   ],
   "source": [
    "# Проверим зависимость прибыли от жанров в тот же период, т.е. 2013 -2016\n",
    "sales_by_genre = good_data_2013.groupby('genre').agg({'all_sales':'sum'}).reset_index()\n",
    "sales_by_genre.sort_values(by='all_sales', ascending=False).style.background_gradient()"
   ]
  },
  {
   "cell_type": "markdown",
   "metadata": {},
   "source": [
    "<pre>\n",
    "Самые прибыльные с 2013 года являются жанры:\n",
    "    action 257 млн (явный лидер по продажам),\n",
    "    shooter 190 млн,\n",
    "    sports 145 млн,\n",
    "    role-playing 64 млн.\n",
    "\n",
    "Самые не прибыльные оказались стратегии (8 млн продаж) и пазлы (2 млн продаж).\n",
    "</pre>"
   ]
  },
  {
   "cell_type": "markdown",
   "metadata": {},
   "source": [
    "## Определиние для пользователя каждого региона (NA, EU, JP):"
   ]
  },
  {
   "cell_type": "markdown",
   "metadata": {},
   "source": [
    "### Самые популярные платформы (топ-5). Опишите различия в долях продаж."
   ]
  },
  {
   "cell_type": "code",
   "execution_count": null,
   "metadata": {},
   "outputs": [],
   "source": [
    "# Рассматривать будем все за тот же 2013 период\n",
    "# Топ 5 платформ в Северной Америке\n",
    "top5_in_na = good_data_2013.groupby('platform').agg({'na_sales':'sum'}).reset_index()\\\n",
    "    .sort_values(by='na_sales', ascending=False)\\\n",
    "        .head(5)"
   ]
  },
  {
   "cell_type": "code",
   "execution_count": null,
   "metadata": {},
   "outputs": [
    {
     "data": {
      "application/vnd.plotly.v1+json": {
       "config": {
        "plotlyServerURL": "https://plot.ly"
       },
       "data": [
        {
         "domain": {
          "x": [
           0,
           1
          ],
          "y": [
           0,
           1
          ]
         },
         "hovertemplate": "platform=%{label}<br>na_sales=%{value}<extra></extra>",
         "labels": [
          "PS4",
          "XOne",
          "X360",
          "PS3",
          "WiiU"
         ],
         "legendgroup": "",
         "name": "",
         "showlegend": true,
         "type": "pie",
         "values": [
          84.66,
          78.61,
          69.29,
          55.29,
          23.54
         ]
        }
       ],
       "layout": {
        "legend": {
         "tracegroupgap": 0
        },
        "margin": {
         "t": 60
        },
        "template": {
         "data": {
          "bar": [
           {
            "error_x": {
             "color": "#2a3f5f"
            },
            "error_y": {
             "color": "#2a3f5f"
            },
            "marker": {
             "line": {
              "color": "#E5ECF6",
              "width": 0.5
             },
             "pattern": {
              "fillmode": "overlay",
              "size": 10,
              "solidity": 0.2
             }
            },
            "type": "bar"
           }
          ],
          "barpolar": [
           {
            "marker": {
             "line": {
              "color": "#E5ECF6",
              "width": 0.5
             },
             "pattern": {
              "fillmode": "overlay",
              "size": 10,
              "solidity": 0.2
             }
            },
            "type": "barpolar"
           }
          ],
          "carpet": [
           {
            "aaxis": {
             "endlinecolor": "#2a3f5f",
             "gridcolor": "white",
             "linecolor": "white",
             "minorgridcolor": "white",
             "startlinecolor": "#2a3f5f"
            },
            "baxis": {
             "endlinecolor": "#2a3f5f",
             "gridcolor": "white",
             "linecolor": "white",
             "minorgridcolor": "white",
             "startlinecolor": "#2a3f5f"
            },
            "type": "carpet"
           }
          ],
          "choropleth": [
           {
            "colorbar": {
             "outlinewidth": 0,
             "ticks": ""
            },
            "type": "choropleth"
           }
          ],
          "contour": [
           {
            "colorbar": {
             "outlinewidth": 0,
             "ticks": ""
            },
            "colorscale": [
             [
              0,
              "#0d0887"
             ],
             [
              0.1111111111111111,
              "#46039f"
             ],
             [
              0.2222222222222222,
              "#7201a8"
             ],
             [
              0.3333333333333333,
              "#9c179e"
             ],
             [
              0.4444444444444444,
              "#bd3786"
             ],
             [
              0.5555555555555556,
              "#d8576b"
             ],
             [
              0.6666666666666666,
              "#ed7953"
             ],
             [
              0.7777777777777778,
              "#fb9f3a"
             ],
             [
              0.8888888888888888,
              "#fdca26"
             ],
             [
              1,
              "#f0f921"
             ]
            ],
            "type": "contour"
           }
          ],
          "contourcarpet": [
           {
            "colorbar": {
             "outlinewidth": 0,
             "ticks": ""
            },
            "type": "contourcarpet"
           }
          ],
          "heatmap": [
           {
            "colorbar": {
             "outlinewidth": 0,
             "ticks": ""
            },
            "colorscale": [
             [
              0,
              "#0d0887"
             ],
             [
              0.1111111111111111,
              "#46039f"
             ],
             [
              0.2222222222222222,
              "#7201a8"
             ],
             [
              0.3333333333333333,
              "#9c179e"
             ],
             [
              0.4444444444444444,
              "#bd3786"
             ],
             [
              0.5555555555555556,
              "#d8576b"
             ],
             [
              0.6666666666666666,
              "#ed7953"
             ],
             [
              0.7777777777777778,
              "#fb9f3a"
             ],
             [
              0.8888888888888888,
              "#fdca26"
             ],
             [
              1,
              "#f0f921"
             ]
            ],
            "type": "heatmap"
           }
          ],
          "heatmapgl": [
           {
            "colorbar": {
             "outlinewidth": 0,
             "ticks": ""
            },
            "colorscale": [
             [
              0,
              "#0d0887"
             ],
             [
              0.1111111111111111,
              "#46039f"
             ],
             [
              0.2222222222222222,
              "#7201a8"
             ],
             [
              0.3333333333333333,
              "#9c179e"
             ],
             [
              0.4444444444444444,
              "#bd3786"
             ],
             [
              0.5555555555555556,
              "#d8576b"
             ],
             [
              0.6666666666666666,
              "#ed7953"
             ],
             [
              0.7777777777777778,
              "#fb9f3a"
             ],
             [
              0.8888888888888888,
              "#fdca26"
             ],
             [
              1,
              "#f0f921"
             ]
            ],
            "type": "heatmapgl"
           }
          ],
          "histogram": [
           {
            "marker": {
             "pattern": {
              "fillmode": "overlay",
              "size": 10,
              "solidity": 0.2
             }
            },
            "type": "histogram"
           }
          ],
          "histogram2d": [
           {
            "colorbar": {
             "outlinewidth": 0,
             "ticks": ""
            },
            "colorscale": [
             [
              0,
              "#0d0887"
             ],
             [
              0.1111111111111111,
              "#46039f"
             ],
             [
              0.2222222222222222,
              "#7201a8"
             ],
             [
              0.3333333333333333,
              "#9c179e"
             ],
             [
              0.4444444444444444,
              "#bd3786"
             ],
             [
              0.5555555555555556,
              "#d8576b"
             ],
             [
              0.6666666666666666,
              "#ed7953"
             ],
             [
              0.7777777777777778,
              "#fb9f3a"
             ],
             [
              0.8888888888888888,
              "#fdca26"
             ],
             [
              1,
              "#f0f921"
             ]
            ],
            "type": "histogram2d"
           }
          ],
          "histogram2dcontour": [
           {
            "colorbar": {
             "outlinewidth": 0,
             "ticks": ""
            },
            "colorscale": [
             [
              0,
              "#0d0887"
             ],
             [
              0.1111111111111111,
              "#46039f"
             ],
             [
              0.2222222222222222,
              "#7201a8"
             ],
             [
              0.3333333333333333,
              "#9c179e"
             ],
             [
              0.4444444444444444,
              "#bd3786"
             ],
             [
              0.5555555555555556,
              "#d8576b"
             ],
             [
              0.6666666666666666,
              "#ed7953"
             ],
             [
              0.7777777777777778,
              "#fb9f3a"
             ],
             [
              0.8888888888888888,
              "#fdca26"
             ],
             [
              1,
              "#f0f921"
             ]
            ],
            "type": "histogram2dcontour"
           }
          ],
          "mesh3d": [
           {
            "colorbar": {
             "outlinewidth": 0,
             "ticks": ""
            },
            "type": "mesh3d"
           }
          ],
          "parcoords": [
           {
            "line": {
             "colorbar": {
              "outlinewidth": 0,
              "ticks": ""
             }
            },
            "type": "parcoords"
           }
          ],
          "pie": [
           {
            "automargin": true,
            "type": "pie"
           }
          ],
          "scatter": [
           {
            "fillpattern": {
             "fillmode": "overlay",
             "size": 10,
             "solidity": 0.2
            },
            "type": "scatter"
           }
          ],
          "scatter3d": [
           {
            "line": {
             "colorbar": {
              "outlinewidth": 0,
              "ticks": ""
             }
            },
            "marker": {
             "colorbar": {
              "outlinewidth": 0,
              "ticks": ""
             }
            },
            "type": "scatter3d"
           }
          ],
          "scattercarpet": [
           {
            "marker": {
             "colorbar": {
              "outlinewidth": 0,
              "ticks": ""
             }
            },
            "type": "scattercarpet"
           }
          ],
          "scattergeo": [
           {
            "marker": {
             "colorbar": {
              "outlinewidth": 0,
              "ticks": ""
             }
            },
            "type": "scattergeo"
           }
          ],
          "scattergl": [
           {
            "marker": {
             "colorbar": {
              "outlinewidth": 0,
              "ticks": ""
             }
            },
            "type": "scattergl"
           }
          ],
          "scattermapbox": [
           {
            "marker": {
             "colorbar": {
              "outlinewidth": 0,
              "ticks": ""
             }
            },
            "type": "scattermapbox"
           }
          ],
          "scatterpolar": [
           {
            "marker": {
             "colorbar": {
              "outlinewidth": 0,
              "ticks": ""
             }
            },
            "type": "scatterpolar"
           }
          ],
          "scatterpolargl": [
           {
            "marker": {
             "colorbar": {
              "outlinewidth": 0,
              "ticks": ""
             }
            },
            "type": "scatterpolargl"
           }
          ],
          "scatterternary": [
           {
            "marker": {
             "colorbar": {
              "outlinewidth": 0,
              "ticks": ""
             }
            },
            "type": "scatterternary"
           }
          ],
          "surface": [
           {
            "colorbar": {
             "outlinewidth": 0,
             "ticks": ""
            },
            "colorscale": [
             [
              0,
              "#0d0887"
             ],
             [
              0.1111111111111111,
              "#46039f"
             ],
             [
              0.2222222222222222,
              "#7201a8"
             ],
             [
              0.3333333333333333,
              "#9c179e"
             ],
             [
              0.4444444444444444,
              "#bd3786"
             ],
             [
              0.5555555555555556,
              "#d8576b"
             ],
             [
              0.6666666666666666,
              "#ed7953"
             ],
             [
              0.7777777777777778,
              "#fb9f3a"
             ],
             [
              0.8888888888888888,
              "#fdca26"
             ],
             [
              1,
              "#f0f921"
             ]
            ],
            "type": "surface"
           }
          ],
          "table": [
           {
            "cells": {
             "fill": {
              "color": "#EBF0F8"
             },
             "line": {
              "color": "white"
             }
            },
            "header": {
             "fill": {
              "color": "#C8D4E3"
             },
             "line": {
              "color": "white"
             }
            },
            "type": "table"
           }
          ]
         },
         "layout": {
          "annotationdefaults": {
           "arrowcolor": "#2a3f5f",
           "arrowhead": 0,
           "arrowwidth": 1
          },
          "autotypenumbers": "strict",
          "coloraxis": {
           "colorbar": {
            "outlinewidth": 0,
            "ticks": ""
           }
          },
          "colorscale": {
           "diverging": [
            [
             0,
             "#8e0152"
            ],
            [
             0.1,
             "#c51b7d"
            ],
            [
             0.2,
             "#de77ae"
            ],
            [
             0.3,
             "#f1b6da"
            ],
            [
             0.4,
             "#fde0ef"
            ],
            [
             0.5,
             "#f7f7f7"
            ],
            [
             0.6,
             "#e6f5d0"
            ],
            [
             0.7,
             "#b8e186"
            ],
            [
             0.8,
             "#7fbc41"
            ],
            [
             0.9,
             "#4d9221"
            ],
            [
             1,
             "#276419"
            ]
           ],
           "sequential": [
            [
             0,
             "#0d0887"
            ],
            [
             0.1111111111111111,
             "#46039f"
            ],
            [
             0.2222222222222222,
             "#7201a8"
            ],
            [
             0.3333333333333333,
             "#9c179e"
            ],
            [
             0.4444444444444444,
             "#bd3786"
            ],
            [
             0.5555555555555556,
             "#d8576b"
            ],
            [
             0.6666666666666666,
             "#ed7953"
            ],
            [
             0.7777777777777778,
             "#fb9f3a"
            ],
            [
             0.8888888888888888,
             "#fdca26"
            ],
            [
             1,
             "#f0f921"
            ]
           ],
           "sequentialminus": [
            [
             0,
             "#0d0887"
            ],
            [
             0.1111111111111111,
             "#46039f"
            ],
            [
             0.2222222222222222,
             "#7201a8"
            ],
            [
             0.3333333333333333,
             "#9c179e"
            ],
            [
             0.4444444444444444,
             "#bd3786"
            ],
            [
             0.5555555555555556,
             "#d8576b"
            ],
            [
             0.6666666666666666,
             "#ed7953"
            ],
            [
             0.7777777777777778,
             "#fb9f3a"
            ],
            [
             0.8888888888888888,
             "#fdca26"
            ],
            [
             1,
             "#f0f921"
            ]
           ]
          },
          "colorway": [
           "#636efa",
           "#EF553B",
           "#00cc96",
           "#ab63fa",
           "#FFA15A",
           "#19d3f3",
           "#FF6692",
           "#B6E880",
           "#FF97FF",
           "#FECB52"
          ],
          "font": {
           "color": "#2a3f5f"
          },
          "geo": {
           "bgcolor": "white",
           "lakecolor": "white",
           "landcolor": "#E5ECF6",
           "showlakes": true,
           "showland": true,
           "subunitcolor": "white"
          },
          "hoverlabel": {
           "align": "left"
          },
          "hovermode": "closest",
          "mapbox": {
           "style": "light"
          },
          "paper_bgcolor": "white",
          "plot_bgcolor": "#E5ECF6",
          "polar": {
           "angularaxis": {
            "gridcolor": "white",
            "linecolor": "white",
            "ticks": ""
           },
           "bgcolor": "#E5ECF6",
           "radialaxis": {
            "gridcolor": "white",
            "linecolor": "white",
            "ticks": ""
           }
          },
          "scene": {
           "xaxis": {
            "backgroundcolor": "#E5ECF6",
            "gridcolor": "white",
            "gridwidth": 2,
            "linecolor": "white",
            "showbackground": true,
            "ticks": "",
            "zerolinecolor": "white"
           },
           "yaxis": {
            "backgroundcolor": "#E5ECF6",
            "gridcolor": "white",
            "gridwidth": 2,
            "linecolor": "white",
            "showbackground": true,
            "ticks": "",
            "zerolinecolor": "white"
           },
           "zaxis": {
            "backgroundcolor": "#E5ECF6",
            "gridcolor": "white",
            "gridwidth": 2,
            "linecolor": "white",
            "showbackground": true,
            "ticks": "",
            "zerolinecolor": "white"
           }
          },
          "shapedefaults": {
           "line": {
            "color": "#2a3f5f"
           }
          },
          "ternary": {
           "aaxis": {
            "gridcolor": "white",
            "linecolor": "white",
            "ticks": ""
           },
           "baxis": {
            "gridcolor": "white",
            "linecolor": "white",
            "ticks": ""
           },
           "bgcolor": "#E5ECF6",
           "caxis": {
            "gridcolor": "white",
            "linecolor": "white",
            "ticks": ""
           }
          },
          "title": {
           "x": 0.05
          },
          "xaxis": {
           "automargin": true,
           "gridcolor": "white",
           "linecolor": "white",
           "ticks": "",
           "title": {
            "standoff": 15
           },
           "zerolinecolor": "white",
           "zerolinewidth": 2
          },
          "yaxis": {
           "automargin": true,
           "gridcolor": "white",
           "linecolor": "white",
           "ticks": "",
           "title": {
            "standoff": 15
           },
           "zerolinecolor": "white",
           "zerolinewidth": 2
          }
         }
        }
       }
      }
     },
     "metadata": {},
     "output_type": "display_data"
    }
   ],
   "source": [
    "px.pie(top5_in_na, \n",
    "        values='na_sales', \n",
    "        names='platform')"
   ]
  },
  {
   "cell_type": "code",
   "execution_count": null,
   "metadata": {},
   "outputs": [
    {
     "data": {
      "text/html": [
       "<div>\n",
       "<style scoped>\n",
       "    .dataframe tbody tr th:only-of-type {\n",
       "        vertical-align: middle;\n",
       "    }\n",
       "\n",
       "    .dataframe tbody tr th {\n",
       "        vertical-align: top;\n",
       "    }\n",
       "\n",
       "    .dataframe thead th {\n",
       "        text-align: right;\n",
       "    }\n",
       "</style>\n",
       "<table border=\"1\" class=\"dataframe\">\n",
       "  <thead>\n",
       "    <tr style=\"text-align: right;\">\n",
       "      <th></th>\n",
       "      <th>platform</th>\n",
       "      <th>eu_sales</th>\n",
       "    </tr>\n",
       "  </thead>\n",
       "  <tbody>\n",
       "    <tr>\n",
       "      <th>4</th>\n",
       "      <td>PS4</td>\n",
       "      <td>112.78</td>\n",
       "    </tr>\n",
       "    <tr>\n",
       "      <th>3</th>\n",
       "      <td>PS3</td>\n",
       "      <td>59.19</td>\n",
       "    </tr>\n",
       "    <tr>\n",
       "      <th>10</th>\n",
       "      <td>XOne</td>\n",
       "      <td>43.34</td>\n",
       "    </tr>\n",
       "    <tr>\n",
       "      <th>9</th>\n",
       "      <td>X360</td>\n",
       "      <td>36.19</td>\n",
       "    </tr>\n",
       "    <tr>\n",
       "      <th>2</th>\n",
       "      <td>PC</td>\n",
       "      <td>22.16</td>\n",
       "    </tr>\n",
       "  </tbody>\n",
       "</table>\n",
       "</div>"
      ],
      "text/plain": [
       "   platform  eu_sales\n",
       "4       PS4    112.78\n",
       "3       PS3     59.19\n",
       "10     XOne     43.34\n",
       "9      X360     36.19\n",
       "2        PC     22.16"
      ]
     },
     "execution_count": 74,
     "metadata": {},
     "output_type": "execute_result"
    }
   ],
   "source": [
    "# Топ 5 платформ в Европе\n",
    "good_data_2013.groupby('platform').agg({'eu_sales':'sum'}).reset_index()\\\n",
    "    .sort_values(by='eu_sales', ascending=False)\\\n",
    "        .head(5)"
   ]
  },
  {
   "cell_type": "code",
   "execution_count": null,
   "metadata": {},
   "outputs": [
    {
     "data": {
      "text/html": [
       "<div>\n",
       "<style scoped>\n",
       "    .dataframe tbody tr th:only-of-type {\n",
       "        vertical-align: middle;\n",
       "    }\n",
       "\n",
       "    .dataframe tbody tr th {\n",
       "        vertical-align: top;\n",
       "    }\n",
       "\n",
       "    .dataframe thead th {\n",
       "        text-align: right;\n",
       "    }\n",
       "</style>\n",
       "<table border=\"1\" class=\"dataframe\">\n",
       "  <thead>\n",
       "    <tr style=\"text-align: right;\">\n",
       "      <th></th>\n",
       "      <th>platform</th>\n",
       "      <th>jp_sales</th>\n",
       "    </tr>\n",
       "  </thead>\n",
       "  <tbody>\n",
       "    <tr>\n",
       "      <th>3</th>\n",
       "      <td>PS3</td>\n",
       "      <td>14.32</td>\n",
       "    </tr>\n",
       "    <tr>\n",
       "      <th>0</th>\n",
       "      <td>3DS</td>\n",
       "      <td>14.25</td>\n",
       "    </tr>\n",
       "    <tr>\n",
       "      <th>4</th>\n",
       "      <td>PS4</td>\n",
       "      <td>9.45</td>\n",
       "    </tr>\n",
       "    <tr>\n",
       "      <th>8</th>\n",
       "      <td>WiiU</td>\n",
       "      <td>8.36</td>\n",
       "    </tr>\n",
       "    <tr>\n",
       "      <th>6</th>\n",
       "      <td>PSV</td>\n",
       "      <td>6.61</td>\n",
       "    </tr>\n",
       "  </tbody>\n",
       "</table>\n",
       "</div>"
      ],
      "text/plain": [
       "  platform  jp_sales\n",
       "3      PS3     14.32\n",
       "0      3DS     14.25\n",
       "4      PS4      9.45\n",
       "8     WiiU      8.36\n",
       "6      PSV      6.61"
      ]
     },
     "execution_count": 75,
     "metadata": {},
     "output_type": "execute_result"
    }
   ],
   "source": [
    "# Топ 5 платформ в Японии\n",
    "good_data_2013.groupby('platform').agg({'jp_sales':'sum'}).reset_index()\\\n",
    "    .sort_values(by='jp_sales', ascending=False)\\\n",
    "        .head(5)"
   ]
  },
  {
   "cell_type": "markdown",
   "metadata": {},
   "source": [
    "<pre>\n",
    "В Северной Америки популярны консоли.\n",
    "    Лидирует PS4, xone на втором месте. WiiU на пятом месте.\n",
    "    Продажи не сильно различаются У плейстейшн и Иксбокс, 85 и 79 млн соотвественно.\n",
    "\n",
    "В Европе предпочитают консоли плейстейшн и иксбокс, на пятом песте ПК.\n",
    "    Плейстейшн продается в Европе лучше всех: 113 млн.\n",
    "\n",
    "В Японии лидирует плейстешн 3,\n",
    "    Пк нет совсем. только приставки.\n",
    "    На втором месте 3DS\n",
    "    Продажи, на удивление, в Японии ниже чем в Америке и Европе. \n",
    "    Максимум 14 млн.\n",
    "\n",
    "    \n",
    "</pre>"
   ]
  },
  {
   "cell_type": "markdown",
   "metadata": {},
   "source": [
    "### Самые популярные жанры (топ-5). Поясните разницу."
   ]
  },
  {
   "cell_type": "code",
   "execution_count": null,
   "metadata": {},
   "outputs": [
    {
     "name": "stdout",
     "output_type": "stream",
     "text": [
      "Северная Америка \n",
      "            genre  na_sales\n",
      "0         Action    108.43\n",
      "8        Shooter     90.15\n",
      "10        Sports     64.14\n",
      "7   Role-Playing     24.02\n",
      "4       Platform     15.53\n",
      "Европа \n",
      "            genre  eu_sales\n",
      "0         Action    100.49\n",
      "8        Shooter     71.00\n",
      "10        Sports     59.38\n",
      "7   Role-Playing     19.82\n",
      "6         Racing     17.46\n",
      "Япония \n",
      "           genre  jp_sales\n",
      "0        Action     16.13\n",
      "7  Role-Playing     13.68\n",
      "8       Shooter      5.79\n",
      "4      Platform      4.17\n",
      "3          Misc      3.12\n"
     ]
    }
   ],
   "source": [
    "\n",
    "def top_5(regions: list, category: str) -> list:\n",
    "    top_5 = []\n",
    "    for region in regions:\n",
    "        top_5.append(good_data_2013.groupby(category).agg({region:'sum'}).reset_index()\\\n",
    "            .sort_values(by=region, ascending=False)\\\n",
    "                .head(5))\n",
    "    return top_5\n",
    "\n",
    "regions = ['na_sales', 'eu_sales', 'jp_sales']\n",
    "\n",
    "\n",
    "print('Северная Америка \\n', top_5(regions, 'genre')[0])\n",
    "print('Европа \\n', top_5(regions, 'genre')[1])\n",
    "print('Япония \\n', top_5(regions, 'genre')[2])"
   ]
  },
  {
   "cell_type": "code",
   "execution_count": null,
   "metadata": {},
   "outputs": [
    {
     "data": {
      "application/vnd.plotly.v1+json": {
       "config": {
        "plotlyServerURL": "https://plot.ly"
       },
       "data": [
        {
         "domain": {
          "x": [
           0,
           1
          ],
          "y": [
           0,
           1
          ]
         },
         "hovertemplate": "genre=%{label}<br>na_sales=%{value}<extra></extra>",
         "labels": [
          "Action",
          "Shooter",
          "Sports",
          "Role-Playing",
          "Platform"
         ],
         "legendgroup": "",
         "name": "",
         "showlegend": true,
         "type": "pie",
         "values": [
          108.43,
          90.15,
          64.14,
          24.02,
          15.53
         ]
        }
       ],
       "layout": {
        "legend": {
         "tracegroupgap": 0
        },
        "margin": {
         "t": 60
        },
        "template": {
         "data": {
          "bar": [
           {
            "error_x": {
             "color": "#2a3f5f"
            },
            "error_y": {
             "color": "#2a3f5f"
            },
            "marker": {
             "line": {
              "color": "#E5ECF6",
              "width": 0.5
             },
             "pattern": {
              "fillmode": "overlay",
              "size": 10,
              "solidity": 0.2
             }
            },
            "type": "bar"
           }
          ],
          "barpolar": [
           {
            "marker": {
             "line": {
              "color": "#E5ECF6",
              "width": 0.5
             },
             "pattern": {
              "fillmode": "overlay",
              "size": 10,
              "solidity": 0.2
             }
            },
            "type": "barpolar"
           }
          ],
          "carpet": [
           {
            "aaxis": {
             "endlinecolor": "#2a3f5f",
             "gridcolor": "white",
             "linecolor": "white",
             "minorgridcolor": "white",
             "startlinecolor": "#2a3f5f"
            },
            "baxis": {
             "endlinecolor": "#2a3f5f",
             "gridcolor": "white",
             "linecolor": "white",
             "minorgridcolor": "white",
             "startlinecolor": "#2a3f5f"
            },
            "type": "carpet"
           }
          ],
          "choropleth": [
           {
            "colorbar": {
             "outlinewidth": 0,
             "ticks": ""
            },
            "type": "choropleth"
           }
          ],
          "contour": [
           {
            "colorbar": {
             "outlinewidth": 0,
             "ticks": ""
            },
            "colorscale": [
             [
              0,
              "#0d0887"
             ],
             [
              0.1111111111111111,
              "#46039f"
             ],
             [
              0.2222222222222222,
              "#7201a8"
             ],
             [
              0.3333333333333333,
              "#9c179e"
             ],
             [
              0.4444444444444444,
              "#bd3786"
             ],
             [
              0.5555555555555556,
              "#d8576b"
             ],
             [
              0.6666666666666666,
              "#ed7953"
             ],
             [
              0.7777777777777778,
              "#fb9f3a"
             ],
             [
              0.8888888888888888,
              "#fdca26"
             ],
             [
              1,
              "#f0f921"
             ]
            ],
            "type": "contour"
           }
          ],
          "contourcarpet": [
           {
            "colorbar": {
             "outlinewidth": 0,
             "ticks": ""
            },
            "type": "contourcarpet"
           }
          ],
          "heatmap": [
           {
            "colorbar": {
             "outlinewidth": 0,
             "ticks": ""
            },
            "colorscale": [
             [
              0,
              "#0d0887"
             ],
             [
              0.1111111111111111,
              "#46039f"
             ],
             [
              0.2222222222222222,
              "#7201a8"
             ],
             [
              0.3333333333333333,
              "#9c179e"
             ],
             [
              0.4444444444444444,
              "#bd3786"
             ],
             [
              0.5555555555555556,
              "#d8576b"
             ],
             [
              0.6666666666666666,
              "#ed7953"
             ],
             [
              0.7777777777777778,
              "#fb9f3a"
             ],
             [
              0.8888888888888888,
              "#fdca26"
             ],
             [
              1,
              "#f0f921"
             ]
            ],
            "type": "heatmap"
           }
          ],
          "heatmapgl": [
           {
            "colorbar": {
             "outlinewidth": 0,
             "ticks": ""
            },
            "colorscale": [
             [
              0,
              "#0d0887"
             ],
             [
              0.1111111111111111,
              "#46039f"
             ],
             [
              0.2222222222222222,
              "#7201a8"
             ],
             [
              0.3333333333333333,
              "#9c179e"
             ],
             [
              0.4444444444444444,
              "#bd3786"
             ],
             [
              0.5555555555555556,
              "#d8576b"
             ],
             [
              0.6666666666666666,
              "#ed7953"
             ],
             [
              0.7777777777777778,
              "#fb9f3a"
             ],
             [
              0.8888888888888888,
              "#fdca26"
             ],
             [
              1,
              "#f0f921"
             ]
            ],
            "type": "heatmapgl"
           }
          ],
          "histogram": [
           {
            "marker": {
             "pattern": {
              "fillmode": "overlay",
              "size": 10,
              "solidity": 0.2
             }
            },
            "type": "histogram"
           }
          ],
          "histogram2d": [
           {
            "colorbar": {
             "outlinewidth": 0,
             "ticks": ""
            },
            "colorscale": [
             [
              0,
              "#0d0887"
             ],
             [
              0.1111111111111111,
              "#46039f"
             ],
             [
              0.2222222222222222,
              "#7201a8"
             ],
             [
              0.3333333333333333,
              "#9c179e"
             ],
             [
              0.4444444444444444,
              "#bd3786"
             ],
             [
              0.5555555555555556,
              "#d8576b"
             ],
             [
              0.6666666666666666,
              "#ed7953"
             ],
             [
              0.7777777777777778,
              "#fb9f3a"
             ],
             [
              0.8888888888888888,
              "#fdca26"
             ],
             [
              1,
              "#f0f921"
             ]
            ],
            "type": "histogram2d"
           }
          ],
          "histogram2dcontour": [
           {
            "colorbar": {
             "outlinewidth": 0,
             "ticks": ""
            },
            "colorscale": [
             [
              0,
              "#0d0887"
             ],
             [
              0.1111111111111111,
              "#46039f"
             ],
             [
              0.2222222222222222,
              "#7201a8"
             ],
             [
              0.3333333333333333,
              "#9c179e"
             ],
             [
              0.4444444444444444,
              "#bd3786"
             ],
             [
              0.5555555555555556,
              "#d8576b"
             ],
             [
              0.6666666666666666,
              "#ed7953"
             ],
             [
              0.7777777777777778,
              "#fb9f3a"
             ],
             [
              0.8888888888888888,
              "#fdca26"
             ],
             [
              1,
              "#f0f921"
             ]
            ],
            "type": "histogram2dcontour"
           }
          ],
          "mesh3d": [
           {
            "colorbar": {
             "outlinewidth": 0,
             "ticks": ""
            },
            "type": "mesh3d"
           }
          ],
          "parcoords": [
           {
            "line": {
             "colorbar": {
              "outlinewidth": 0,
              "ticks": ""
             }
            },
            "type": "parcoords"
           }
          ],
          "pie": [
           {
            "automargin": true,
            "type": "pie"
           }
          ],
          "scatter": [
           {
            "fillpattern": {
             "fillmode": "overlay",
             "size": 10,
             "solidity": 0.2
            },
            "type": "scatter"
           }
          ],
          "scatter3d": [
           {
            "line": {
             "colorbar": {
              "outlinewidth": 0,
              "ticks": ""
             }
            },
            "marker": {
             "colorbar": {
              "outlinewidth": 0,
              "ticks": ""
             }
            },
            "type": "scatter3d"
           }
          ],
          "scattercarpet": [
           {
            "marker": {
             "colorbar": {
              "outlinewidth": 0,
              "ticks": ""
             }
            },
            "type": "scattercarpet"
           }
          ],
          "scattergeo": [
           {
            "marker": {
             "colorbar": {
              "outlinewidth": 0,
              "ticks": ""
             }
            },
            "type": "scattergeo"
           }
          ],
          "scattergl": [
           {
            "marker": {
             "colorbar": {
              "outlinewidth": 0,
              "ticks": ""
             }
            },
            "type": "scattergl"
           }
          ],
          "scattermapbox": [
           {
            "marker": {
             "colorbar": {
              "outlinewidth": 0,
              "ticks": ""
             }
            },
            "type": "scattermapbox"
           }
          ],
          "scatterpolar": [
           {
            "marker": {
             "colorbar": {
              "outlinewidth": 0,
              "ticks": ""
             }
            },
            "type": "scatterpolar"
           }
          ],
          "scatterpolargl": [
           {
            "marker": {
             "colorbar": {
              "outlinewidth": 0,
              "ticks": ""
             }
            },
            "type": "scatterpolargl"
           }
          ],
          "scatterternary": [
           {
            "marker": {
             "colorbar": {
              "outlinewidth": 0,
              "ticks": ""
             }
            },
            "type": "scatterternary"
           }
          ],
          "surface": [
           {
            "colorbar": {
             "outlinewidth": 0,
             "ticks": ""
            },
            "colorscale": [
             [
              0,
              "#0d0887"
             ],
             [
              0.1111111111111111,
              "#46039f"
             ],
             [
              0.2222222222222222,
              "#7201a8"
             ],
             [
              0.3333333333333333,
              "#9c179e"
             ],
             [
              0.4444444444444444,
              "#bd3786"
             ],
             [
              0.5555555555555556,
              "#d8576b"
             ],
             [
              0.6666666666666666,
              "#ed7953"
             ],
             [
              0.7777777777777778,
              "#fb9f3a"
             ],
             [
              0.8888888888888888,
              "#fdca26"
             ],
             [
              1,
              "#f0f921"
             ]
            ],
            "type": "surface"
           }
          ],
          "table": [
           {
            "cells": {
             "fill": {
              "color": "#EBF0F8"
             },
             "line": {
              "color": "white"
             }
            },
            "header": {
             "fill": {
              "color": "#C8D4E3"
             },
             "line": {
              "color": "white"
             }
            },
            "type": "table"
           }
          ]
         },
         "layout": {
          "annotationdefaults": {
           "arrowcolor": "#2a3f5f",
           "arrowhead": 0,
           "arrowwidth": 1
          },
          "autotypenumbers": "strict",
          "coloraxis": {
           "colorbar": {
            "outlinewidth": 0,
            "ticks": ""
           }
          },
          "colorscale": {
           "diverging": [
            [
             0,
             "#8e0152"
            ],
            [
             0.1,
             "#c51b7d"
            ],
            [
             0.2,
             "#de77ae"
            ],
            [
             0.3,
             "#f1b6da"
            ],
            [
             0.4,
             "#fde0ef"
            ],
            [
             0.5,
             "#f7f7f7"
            ],
            [
             0.6,
             "#e6f5d0"
            ],
            [
             0.7,
             "#b8e186"
            ],
            [
             0.8,
             "#7fbc41"
            ],
            [
             0.9,
             "#4d9221"
            ],
            [
             1,
             "#276419"
            ]
           ],
           "sequential": [
            [
             0,
             "#0d0887"
            ],
            [
             0.1111111111111111,
             "#46039f"
            ],
            [
             0.2222222222222222,
             "#7201a8"
            ],
            [
             0.3333333333333333,
             "#9c179e"
            ],
            [
             0.4444444444444444,
             "#bd3786"
            ],
            [
             0.5555555555555556,
             "#d8576b"
            ],
            [
             0.6666666666666666,
             "#ed7953"
            ],
            [
             0.7777777777777778,
             "#fb9f3a"
            ],
            [
             0.8888888888888888,
             "#fdca26"
            ],
            [
             1,
             "#f0f921"
            ]
           ],
           "sequentialminus": [
            [
             0,
             "#0d0887"
            ],
            [
             0.1111111111111111,
             "#46039f"
            ],
            [
             0.2222222222222222,
             "#7201a8"
            ],
            [
             0.3333333333333333,
             "#9c179e"
            ],
            [
             0.4444444444444444,
             "#bd3786"
            ],
            [
             0.5555555555555556,
             "#d8576b"
            ],
            [
             0.6666666666666666,
             "#ed7953"
            ],
            [
             0.7777777777777778,
             "#fb9f3a"
            ],
            [
             0.8888888888888888,
             "#fdca26"
            ],
            [
             1,
             "#f0f921"
            ]
           ]
          },
          "colorway": [
           "#636efa",
           "#EF553B",
           "#00cc96",
           "#ab63fa",
           "#FFA15A",
           "#19d3f3",
           "#FF6692",
           "#B6E880",
           "#FF97FF",
           "#FECB52"
          ],
          "font": {
           "color": "#2a3f5f"
          },
          "geo": {
           "bgcolor": "white",
           "lakecolor": "white",
           "landcolor": "#E5ECF6",
           "showlakes": true,
           "showland": true,
           "subunitcolor": "white"
          },
          "hoverlabel": {
           "align": "left"
          },
          "hovermode": "closest",
          "mapbox": {
           "style": "light"
          },
          "paper_bgcolor": "white",
          "plot_bgcolor": "#E5ECF6",
          "polar": {
           "angularaxis": {
            "gridcolor": "white",
            "linecolor": "white",
            "ticks": ""
           },
           "bgcolor": "#E5ECF6",
           "radialaxis": {
            "gridcolor": "white",
            "linecolor": "white",
            "ticks": ""
           }
          },
          "scene": {
           "xaxis": {
            "backgroundcolor": "#E5ECF6",
            "gridcolor": "white",
            "gridwidth": 2,
            "linecolor": "white",
            "showbackground": true,
            "ticks": "",
            "zerolinecolor": "white"
           },
           "yaxis": {
            "backgroundcolor": "#E5ECF6",
            "gridcolor": "white",
            "gridwidth": 2,
            "linecolor": "white",
            "showbackground": true,
            "ticks": "",
            "zerolinecolor": "white"
           },
           "zaxis": {
            "backgroundcolor": "#E5ECF6",
            "gridcolor": "white",
            "gridwidth": 2,
            "linecolor": "white",
            "showbackground": true,
            "ticks": "",
            "zerolinecolor": "white"
           }
          },
          "shapedefaults": {
           "line": {
            "color": "#2a3f5f"
           }
          },
          "ternary": {
           "aaxis": {
            "gridcolor": "white",
            "linecolor": "white",
            "ticks": ""
           },
           "baxis": {
            "gridcolor": "white",
            "linecolor": "white",
            "ticks": ""
           },
           "bgcolor": "#E5ECF6",
           "caxis": {
            "gridcolor": "white",
            "linecolor": "white",
            "ticks": ""
           }
          },
          "title": {
           "x": 0.05
          },
          "xaxis": {
           "automargin": true,
           "gridcolor": "white",
           "linecolor": "white",
           "ticks": "",
           "title": {
            "standoff": 15
           },
           "zerolinecolor": "white",
           "zerolinewidth": 2
          },
          "yaxis": {
           "automargin": true,
           "gridcolor": "white",
           "linecolor": "white",
           "ticks": "",
           "title": {
            "standoff": 15
           },
           "zerolinecolor": "white",
           "zerolinewidth": 2
          }
         }
        }
       }
      }
     },
     "metadata": {},
     "output_type": "display_data"
    },
    {
     "data": {
      "application/vnd.plotly.v1+json": {
       "config": {
        "plotlyServerURL": "https://plot.ly"
       },
       "data": [
        {
         "domain": {
          "x": [
           0,
           1
          ],
          "y": [
           0,
           1
          ]
         },
         "hovertemplate": "genre=%{label}<br>eu_sales=%{value}<extra></extra>",
         "labels": [
          "Action",
          "Shooter",
          "Sports",
          "Role-Playing",
          "Racing"
         ],
         "legendgroup": "",
         "name": "",
         "showlegend": true,
         "type": "pie",
         "values": [
          100.49,
          71,
          59.38,
          19.82,
          17.46
         ]
        }
       ],
       "layout": {
        "legend": {
         "tracegroupgap": 0
        },
        "margin": {
         "t": 60
        },
        "template": {
         "data": {
          "bar": [
           {
            "error_x": {
             "color": "#2a3f5f"
            },
            "error_y": {
             "color": "#2a3f5f"
            },
            "marker": {
             "line": {
              "color": "#E5ECF6",
              "width": 0.5
             },
             "pattern": {
              "fillmode": "overlay",
              "size": 10,
              "solidity": 0.2
             }
            },
            "type": "bar"
           }
          ],
          "barpolar": [
           {
            "marker": {
             "line": {
              "color": "#E5ECF6",
              "width": 0.5
             },
             "pattern": {
              "fillmode": "overlay",
              "size": 10,
              "solidity": 0.2
             }
            },
            "type": "barpolar"
           }
          ],
          "carpet": [
           {
            "aaxis": {
             "endlinecolor": "#2a3f5f",
             "gridcolor": "white",
             "linecolor": "white",
             "minorgridcolor": "white",
             "startlinecolor": "#2a3f5f"
            },
            "baxis": {
             "endlinecolor": "#2a3f5f",
             "gridcolor": "white",
             "linecolor": "white",
             "minorgridcolor": "white",
             "startlinecolor": "#2a3f5f"
            },
            "type": "carpet"
           }
          ],
          "choropleth": [
           {
            "colorbar": {
             "outlinewidth": 0,
             "ticks": ""
            },
            "type": "choropleth"
           }
          ],
          "contour": [
           {
            "colorbar": {
             "outlinewidth": 0,
             "ticks": ""
            },
            "colorscale": [
             [
              0,
              "#0d0887"
             ],
             [
              0.1111111111111111,
              "#46039f"
             ],
             [
              0.2222222222222222,
              "#7201a8"
             ],
             [
              0.3333333333333333,
              "#9c179e"
             ],
             [
              0.4444444444444444,
              "#bd3786"
             ],
             [
              0.5555555555555556,
              "#d8576b"
             ],
             [
              0.6666666666666666,
              "#ed7953"
             ],
             [
              0.7777777777777778,
              "#fb9f3a"
             ],
             [
              0.8888888888888888,
              "#fdca26"
             ],
             [
              1,
              "#f0f921"
             ]
            ],
            "type": "contour"
           }
          ],
          "contourcarpet": [
           {
            "colorbar": {
             "outlinewidth": 0,
             "ticks": ""
            },
            "type": "contourcarpet"
           }
          ],
          "heatmap": [
           {
            "colorbar": {
             "outlinewidth": 0,
             "ticks": ""
            },
            "colorscale": [
             [
              0,
              "#0d0887"
             ],
             [
              0.1111111111111111,
              "#46039f"
             ],
             [
              0.2222222222222222,
              "#7201a8"
             ],
             [
              0.3333333333333333,
              "#9c179e"
             ],
             [
              0.4444444444444444,
              "#bd3786"
             ],
             [
              0.5555555555555556,
              "#d8576b"
             ],
             [
              0.6666666666666666,
              "#ed7953"
             ],
             [
              0.7777777777777778,
              "#fb9f3a"
             ],
             [
              0.8888888888888888,
              "#fdca26"
             ],
             [
              1,
              "#f0f921"
             ]
            ],
            "type": "heatmap"
           }
          ],
          "heatmapgl": [
           {
            "colorbar": {
             "outlinewidth": 0,
             "ticks": ""
            },
            "colorscale": [
             [
              0,
              "#0d0887"
             ],
             [
              0.1111111111111111,
              "#46039f"
             ],
             [
              0.2222222222222222,
              "#7201a8"
             ],
             [
              0.3333333333333333,
              "#9c179e"
             ],
             [
              0.4444444444444444,
              "#bd3786"
             ],
             [
              0.5555555555555556,
              "#d8576b"
             ],
             [
              0.6666666666666666,
              "#ed7953"
             ],
             [
              0.7777777777777778,
              "#fb9f3a"
             ],
             [
              0.8888888888888888,
              "#fdca26"
             ],
             [
              1,
              "#f0f921"
             ]
            ],
            "type": "heatmapgl"
           }
          ],
          "histogram": [
           {
            "marker": {
             "pattern": {
              "fillmode": "overlay",
              "size": 10,
              "solidity": 0.2
             }
            },
            "type": "histogram"
           }
          ],
          "histogram2d": [
           {
            "colorbar": {
             "outlinewidth": 0,
             "ticks": ""
            },
            "colorscale": [
             [
              0,
              "#0d0887"
             ],
             [
              0.1111111111111111,
              "#46039f"
             ],
             [
              0.2222222222222222,
              "#7201a8"
             ],
             [
              0.3333333333333333,
              "#9c179e"
             ],
             [
              0.4444444444444444,
              "#bd3786"
             ],
             [
              0.5555555555555556,
              "#d8576b"
             ],
             [
              0.6666666666666666,
              "#ed7953"
             ],
             [
              0.7777777777777778,
              "#fb9f3a"
             ],
             [
              0.8888888888888888,
              "#fdca26"
             ],
             [
              1,
              "#f0f921"
             ]
            ],
            "type": "histogram2d"
           }
          ],
          "histogram2dcontour": [
           {
            "colorbar": {
             "outlinewidth": 0,
             "ticks": ""
            },
            "colorscale": [
             [
              0,
              "#0d0887"
             ],
             [
              0.1111111111111111,
              "#46039f"
             ],
             [
              0.2222222222222222,
              "#7201a8"
             ],
             [
              0.3333333333333333,
              "#9c179e"
             ],
             [
              0.4444444444444444,
              "#bd3786"
             ],
             [
              0.5555555555555556,
              "#d8576b"
             ],
             [
              0.6666666666666666,
              "#ed7953"
             ],
             [
              0.7777777777777778,
              "#fb9f3a"
             ],
             [
              0.8888888888888888,
              "#fdca26"
             ],
             [
              1,
              "#f0f921"
             ]
            ],
            "type": "histogram2dcontour"
           }
          ],
          "mesh3d": [
           {
            "colorbar": {
             "outlinewidth": 0,
             "ticks": ""
            },
            "type": "mesh3d"
           }
          ],
          "parcoords": [
           {
            "line": {
             "colorbar": {
              "outlinewidth": 0,
              "ticks": ""
             }
            },
            "type": "parcoords"
           }
          ],
          "pie": [
           {
            "automargin": true,
            "type": "pie"
           }
          ],
          "scatter": [
           {
            "fillpattern": {
             "fillmode": "overlay",
             "size": 10,
             "solidity": 0.2
            },
            "type": "scatter"
           }
          ],
          "scatter3d": [
           {
            "line": {
             "colorbar": {
              "outlinewidth": 0,
              "ticks": ""
             }
            },
            "marker": {
             "colorbar": {
              "outlinewidth": 0,
              "ticks": ""
             }
            },
            "type": "scatter3d"
           }
          ],
          "scattercarpet": [
           {
            "marker": {
             "colorbar": {
              "outlinewidth": 0,
              "ticks": ""
             }
            },
            "type": "scattercarpet"
           }
          ],
          "scattergeo": [
           {
            "marker": {
             "colorbar": {
              "outlinewidth": 0,
              "ticks": ""
             }
            },
            "type": "scattergeo"
           }
          ],
          "scattergl": [
           {
            "marker": {
             "colorbar": {
              "outlinewidth": 0,
              "ticks": ""
             }
            },
            "type": "scattergl"
           }
          ],
          "scattermapbox": [
           {
            "marker": {
             "colorbar": {
              "outlinewidth": 0,
              "ticks": ""
             }
            },
            "type": "scattermapbox"
           }
          ],
          "scatterpolar": [
           {
            "marker": {
             "colorbar": {
              "outlinewidth": 0,
              "ticks": ""
             }
            },
            "type": "scatterpolar"
           }
          ],
          "scatterpolargl": [
           {
            "marker": {
             "colorbar": {
              "outlinewidth": 0,
              "ticks": ""
             }
            },
            "type": "scatterpolargl"
           }
          ],
          "scatterternary": [
           {
            "marker": {
             "colorbar": {
              "outlinewidth": 0,
              "ticks": ""
             }
            },
            "type": "scatterternary"
           }
          ],
          "surface": [
           {
            "colorbar": {
             "outlinewidth": 0,
             "ticks": ""
            },
            "colorscale": [
             [
              0,
              "#0d0887"
             ],
             [
              0.1111111111111111,
              "#46039f"
             ],
             [
              0.2222222222222222,
              "#7201a8"
             ],
             [
              0.3333333333333333,
              "#9c179e"
             ],
             [
              0.4444444444444444,
              "#bd3786"
             ],
             [
              0.5555555555555556,
              "#d8576b"
             ],
             [
              0.6666666666666666,
              "#ed7953"
             ],
             [
              0.7777777777777778,
              "#fb9f3a"
             ],
             [
              0.8888888888888888,
              "#fdca26"
             ],
             [
              1,
              "#f0f921"
             ]
            ],
            "type": "surface"
           }
          ],
          "table": [
           {
            "cells": {
             "fill": {
              "color": "#EBF0F8"
             },
             "line": {
              "color": "white"
             }
            },
            "header": {
             "fill": {
              "color": "#C8D4E3"
             },
             "line": {
              "color": "white"
             }
            },
            "type": "table"
           }
          ]
         },
         "layout": {
          "annotationdefaults": {
           "arrowcolor": "#2a3f5f",
           "arrowhead": 0,
           "arrowwidth": 1
          },
          "autotypenumbers": "strict",
          "coloraxis": {
           "colorbar": {
            "outlinewidth": 0,
            "ticks": ""
           }
          },
          "colorscale": {
           "diverging": [
            [
             0,
             "#8e0152"
            ],
            [
             0.1,
             "#c51b7d"
            ],
            [
             0.2,
             "#de77ae"
            ],
            [
             0.3,
             "#f1b6da"
            ],
            [
             0.4,
             "#fde0ef"
            ],
            [
             0.5,
             "#f7f7f7"
            ],
            [
             0.6,
             "#e6f5d0"
            ],
            [
             0.7,
             "#b8e186"
            ],
            [
             0.8,
             "#7fbc41"
            ],
            [
             0.9,
             "#4d9221"
            ],
            [
             1,
             "#276419"
            ]
           ],
           "sequential": [
            [
             0,
             "#0d0887"
            ],
            [
             0.1111111111111111,
             "#46039f"
            ],
            [
             0.2222222222222222,
             "#7201a8"
            ],
            [
             0.3333333333333333,
             "#9c179e"
            ],
            [
             0.4444444444444444,
             "#bd3786"
            ],
            [
             0.5555555555555556,
             "#d8576b"
            ],
            [
             0.6666666666666666,
             "#ed7953"
            ],
            [
             0.7777777777777778,
             "#fb9f3a"
            ],
            [
             0.8888888888888888,
             "#fdca26"
            ],
            [
             1,
             "#f0f921"
            ]
           ],
           "sequentialminus": [
            [
             0,
             "#0d0887"
            ],
            [
             0.1111111111111111,
             "#46039f"
            ],
            [
             0.2222222222222222,
             "#7201a8"
            ],
            [
             0.3333333333333333,
             "#9c179e"
            ],
            [
             0.4444444444444444,
             "#bd3786"
            ],
            [
             0.5555555555555556,
             "#d8576b"
            ],
            [
             0.6666666666666666,
             "#ed7953"
            ],
            [
             0.7777777777777778,
             "#fb9f3a"
            ],
            [
             0.8888888888888888,
             "#fdca26"
            ],
            [
             1,
             "#f0f921"
            ]
           ]
          },
          "colorway": [
           "#636efa",
           "#EF553B",
           "#00cc96",
           "#ab63fa",
           "#FFA15A",
           "#19d3f3",
           "#FF6692",
           "#B6E880",
           "#FF97FF",
           "#FECB52"
          ],
          "font": {
           "color": "#2a3f5f"
          },
          "geo": {
           "bgcolor": "white",
           "lakecolor": "white",
           "landcolor": "#E5ECF6",
           "showlakes": true,
           "showland": true,
           "subunitcolor": "white"
          },
          "hoverlabel": {
           "align": "left"
          },
          "hovermode": "closest",
          "mapbox": {
           "style": "light"
          },
          "paper_bgcolor": "white",
          "plot_bgcolor": "#E5ECF6",
          "polar": {
           "angularaxis": {
            "gridcolor": "white",
            "linecolor": "white",
            "ticks": ""
           },
           "bgcolor": "#E5ECF6",
           "radialaxis": {
            "gridcolor": "white",
            "linecolor": "white",
            "ticks": ""
           }
          },
          "scene": {
           "xaxis": {
            "backgroundcolor": "#E5ECF6",
            "gridcolor": "white",
            "gridwidth": 2,
            "linecolor": "white",
            "showbackground": true,
            "ticks": "",
            "zerolinecolor": "white"
           },
           "yaxis": {
            "backgroundcolor": "#E5ECF6",
            "gridcolor": "white",
            "gridwidth": 2,
            "linecolor": "white",
            "showbackground": true,
            "ticks": "",
            "zerolinecolor": "white"
           },
           "zaxis": {
            "backgroundcolor": "#E5ECF6",
            "gridcolor": "white",
            "gridwidth": 2,
            "linecolor": "white",
            "showbackground": true,
            "ticks": "",
            "zerolinecolor": "white"
           }
          },
          "shapedefaults": {
           "line": {
            "color": "#2a3f5f"
           }
          },
          "ternary": {
           "aaxis": {
            "gridcolor": "white",
            "linecolor": "white",
            "ticks": ""
           },
           "baxis": {
            "gridcolor": "white",
            "linecolor": "white",
            "ticks": ""
           },
           "bgcolor": "#E5ECF6",
           "caxis": {
            "gridcolor": "white",
            "linecolor": "white",
            "ticks": ""
           }
          },
          "title": {
           "x": 0.05
          },
          "xaxis": {
           "automargin": true,
           "gridcolor": "white",
           "linecolor": "white",
           "ticks": "",
           "title": {
            "standoff": 15
           },
           "zerolinecolor": "white",
           "zerolinewidth": 2
          },
          "yaxis": {
           "automargin": true,
           "gridcolor": "white",
           "linecolor": "white",
           "ticks": "",
           "title": {
            "standoff": 15
           },
           "zerolinecolor": "white",
           "zerolinewidth": 2
          }
         }
        }
       }
      }
     },
     "metadata": {},
     "output_type": "display_data"
    },
    {
     "data": {
      "application/vnd.plotly.v1+json": {
       "config": {
        "plotlyServerURL": "https://plot.ly"
       },
       "data": [
        {
         "domain": {
          "x": [
           0,
           1
          ],
          "y": [
           0,
           1
          ]
         },
         "hovertemplate": "genre=%{label}<br>jp_sales=%{value}<extra></extra>",
         "labels": [
          "Action",
          "Role-Playing",
          "Shooter",
          "Platform",
          "Misc"
         ],
         "legendgroup": "",
         "name": "",
         "showlegend": true,
         "type": "pie",
         "values": [
          16.13,
          13.68,
          5.79,
          4.17,
          3.12
         ]
        }
       ],
       "layout": {
        "legend": {
         "tracegroupgap": 0
        },
        "margin": {
         "t": 60
        },
        "template": {
         "data": {
          "bar": [
           {
            "error_x": {
             "color": "#2a3f5f"
            },
            "error_y": {
             "color": "#2a3f5f"
            },
            "marker": {
             "line": {
              "color": "#E5ECF6",
              "width": 0.5
             },
             "pattern": {
              "fillmode": "overlay",
              "size": 10,
              "solidity": 0.2
             }
            },
            "type": "bar"
           }
          ],
          "barpolar": [
           {
            "marker": {
             "line": {
              "color": "#E5ECF6",
              "width": 0.5
             },
             "pattern": {
              "fillmode": "overlay",
              "size": 10,
              "solidity": 0.2
             }
            },
            "type": "barpolar"
           }
          ],
          "carpet": [
           {
            "aaxis": {
             "endlinecolor": "#2a3f5f",
             "gridcolor": "white",
             "linecolor": "white",
             "minorgridcolor": "white",
             "startlinecolor": "#2a3f5f"
            },
            "baxis": {
             "endlinecolor": "#2a3f5f",
             "gridcolor": "white",
             "linecolor": "white",
             "minorgridcolor": "white",
             "startlinecolor": "#2a3f5f"
            },
            "type": "carpet"
           }
          ],
          "choropleth": [
           {
            "colorbar": {
             "outlinewidth": 0,
             "ticks": ""
            },
            "type": "choropleth"
           }
          ],
          "contour": [
           {
            "colorbar": {
             "outlinewidth": 0,
             "ticks": ""
            },
            "colorscale": [
             [
              0,
              "#0d0887"
             ],
             [
              0.1111111111111111,
              "#46039f"
             ],
             [
              0.2222222222222222,
              "#7201a8"
             ],
             [
              0.3333333333333333,
              "#9c179e"
             ],
             [
              0.4444444444444444,
              "#bd3786"
             ],
             [
              0.5555555555555556,
              "#d8576b"
             ],
             [
              0.6666666666666666,
              "#ed7953"
             ],
             [
              0.7777777777777778,
              "#fb9f3a"
             ],
             [
              0.8888888888888888,
              "#fdca26"
             ],
             [
              1,
              "#f0f921"
             ]
            ],
            "type": "contour"
           }
          ],
          "contourcarpet": [
           {
            "colorbar": {
             "outlinewidth": 0,
             "ticks": ""
            },
            "type": "contourcarpet"
           }
          ],
          "heatmap": [
           {
            "colorbar": {
             "outlinewidth": 0,
             "ticks": ""
            },
            "colorscale": [
             [
              0,
              "#0d0887"
             ],
             [
              0.1111111111111111,
              "#46039f"
             ],
             [
              0.2222222222222222,
              "#7201a8"
             ],
             [
              0.3333333333333333,
              "#9c179e"
             ],
             [
              0.4444444444444444,
              "#bd3786"
             ],
             [
              0.5555555555555556,
              "#d8576b"
             ],
             [
              0.6666666666666666,
              "#ed7953"
             ],
             [
              0.7777777777777778,
              "#fb9f3a"
             ],
             [
              0.8888888888888888,
              "#fdca26"
             ],
             [
              1,
              "#f0f921"
             ]
            ],
            "type": "heatmap"
           }
          ],
          "heatmapgl": [
           {
            "colorbar": {
             "outlinewidth": 0,
             "ticks": ""
            },
            "colorscale": [
             [
              0,
              "#0d0887"
             ],
             [
              0.1111111111111111,
              "#46039f"
             ],
             [
              0.2222222222222222,
              "#7201a8"
             ],
             [
              0.3333333333333333,
              "#9c179e"
             ],
             [
              0.4444444444444444,
              "#bd3786"
             ],
             [
              0.5555555555555556,
              "#d8576b"
             ],
             [
              0.6666666666666666,
              "#ed7953"
             ],
             [
              0.7777777777777778,
              "#fb9f3a"
             ],
             [
              0.8888888888888888,
              "#fdca26"
             ],
             [
              1,
              "#f0f921"
             ]
            ],
            "type": "heatmapgl"
           }
          ],
          "histogram": [
           {
            "marker": {
             "pattern": {
              "fillmode": "overlay",
              "size": 10,
              "solidity": 0.2
             }
            },
            "type": "histogram"
           }
          ],
          "histogram2d": [
           {
            "colorbar": {
             "outlinewidth": 0,
             "ticks": ""
            },
            "colorscale": [
             [
              0,
              "#0d0887"
             ],
             [
              0.1111111111111111,
              "#46039f"
             ],
             [
              0.2222222222222222,
              "#7201a8"
             ],
             [
              0.3333333333333333,
              "#9c179e"
             ],
             [
              0.4444444444444444,
              "#bd3786"
             ],
             [
              0.5555555555555556,
              "#d8576b"
             ],
             [
              0.6666666666666666,
              "#ed7953"
             ],
             [
              0.7777777777777778,
              "#fb9f3a"
             ],
             [
              0.8888888888888888,
              "#fdca26"
             ],
             [
              1,
              "#f0f921"
             ]
            ],
            "type": "histogram2d"
           }
          ],
          "histogram2dcontour": [
           {
            "colorbar": {
             "outlinewidth": 0,
             "ticks": ""
            },
            "colorscale": [
             [
              0,
              "#0d0887"
             ],
             [
              0.1111111111111111,
              "#46039f"
             ],
             [
              0.2222222222222222,
              "#7201a8"
             ],
             [
              0.3333333333333333,
              "#9c179e"
             ],
             [
              0.4444444444444444,
              "#bd3786"
             ],
             [
              0.5555555555555556,
              "#d8576b"
             ],
             [
              0.6666666666666666,
              "#ed7953"
             ],
             [
              0.7777777777777778,
              "#fb9f3a"
             ],
             [
              0.8888888888888888,
              "#fdca26"
             ],
             [
              1,
              "#f0f921"
             ]
            ],
            "type": "histogram2dcontour"
           }
          ],
          "mesh3d": [
           {
            "colorbar": {
             "outlinewidth": 0,
             "ticks": ""
            },
            "type": "mesh3d"
           }
          ],
          "parcoords": [
           {
            "line": {
             "colorbar": {
              "outlinewidth": 0,
              "ticks": ""
             }
            },
            "type": "parcoords"
           }
          ],
          "pie": [
           {
            "automargin": true,
            "type": "pie"
           }
          ],
          "scatter": [
           {
            "fillpattern": {
             "fillmode": "overlay",
             "size": 10,
             "solidity": 0.2
            },
            "type": "scatter"
           }
          ],
          "scatter3d": [
           {
            "line": {
             "colorbar": {
              "outlinewidth": 0,
              "ticks": ""
             }
            },
            "marker": {
             "colorbar": {
              "outlinewidth": 0,
              "ticks": ""
             }
            },
            "type": "scatter3d"
           }
          ],
          "scattercarpet": [
           {
            "marker": {
             "colorbar": {
              "outlinewidth": 0,
              "ticks": ""
             }
            },
            "type": "scattercarpet"
           }
          ],
          "scattergeo": [
           {
            "marker": {
             "colorbar": {
              "outlinewidth": 0,
              "ticks": ""
             }
            },
            "type": "scattergeo"
           }
          ],
          "scattergl": [
           {
            "marker": {
             "colorbar": {
              "outlinewidth": 0,
              "ticks": ""
             }
            },
            "type": "scattergl"
           }
          ],
          "scattermapbox": [
           {
            "marker": {
             "colorbar": {
              "outlinewidth": 0,
              "ticks": ""
             }
            },
            "type": "scattermapbox"
           }
          ],
          "scatterpolar": [
           {
            "marker": {
             "colorbar": {
              "outlinewidth": 0,
              "ticks": ""
             }
            },
            "type": "scatterpolar"
           }
          ],
          "scatterpolargl": [
           {
            "marker": {
             "colorbar": {
              "outlinewidth": 0,
              "ticks": ""
             }
            },
            "type": "scatterpolargl"
           }
          ],
          "scatterternary": [
           {
            "marker": {
             "colorbar": {
              "outlinewidth": 0,
              "ticks": ""
             }
            },
            "type": "scatterternary"
           }
          ],
          "surface": [
           {
            "colorbar": {
             "outlinewidth": 0,
             "ticks": ""
            },
            "colorscale": [
             [
              0,
              "#0d0887"
             ],
             [
              0.1111111111111111,
              "#46039f"
             ],
             [
              0.2222222222222222,
              "#7201a8"
             ],
             [
              0.3333333333333333,
              "#9c179e"
             ],
             [
              0.4444444444444444,
              "#bd3786"
             ],
             [
              0.5555555555555556,
              "#d8576b"
             ],
             [
              0.6666666666666666,
              "#ed7953"
             ],
             [
              0.7777777777777778,
              "#fb9f3a"
             ],
             [
              0.8888888888888888,
              "#fdca26"
             ],
             [
              1,
              "#f0f921"
             ]
            ],
            "type": "surface"
           }
          ],
          "table": [
           {
            "cells": {
             "fill": {
              "color": "#EBF0F8"
             },
             "line": {
              "color": "white"
             }
            },
            "header": {
             "fill": {
              "color": "#C8D4E3"
             },
             "line": {
              "color": "white"
             }
            },
            "type": "table"
           }
          ]
         },
         "layout": {
          "annotationdefaults": {
           "arrowcolor": "#2a3f5f",
           "arrowhead": 0,
           "arrowwidth": 1
          },
          "autotypenumbers": "strict",
          "coloraxis": {
           "colorbar": {
            "outlinewidth": 0,
            "ticks": ""
           }
          },
          "colorscale": {
           "diverging": [
            [
             0,
             "#8e0152"
            ],
            [
             0.1,
             "#c51b7d"
            ],
            [
             0.2,
             "#de77ae"
            ],
            [
             0.3,
             "#f1b6da"
            ],
            [
             0.4,
             "#fde0ef"
            ],
            [
             0.5,
             "#f7f7f7"
            ],
            [
             0.6,
             "#e6f5d0"
            ],
            [
             0.7,
             "#b8e186"
            ],
            [
             0.8,
             "#7fbc41"
            ],
            [
             0.9,
             "#4d9221"
            ],
            [
             1,
             "#276419"
            ]
           ],
           "sequential": [
            [
             0,
             "#0d0887"
            ],
            [
             0.1111111111111111,
             "#46039f"
            ],
            [
             0.2222222222222222,
             "#7201a8"
            ],
            [
             0.3333333333333333,
             "#9c179e"
            ],
            [
             0.4444444444444444,
             "#bd3786"
            ],
            [
             0.5555555555555556,
             "#d8576b"
            ],
            [
             0.6666666666666666,
             "#ed7953"
            ],
            [
             0.7777777777777778,
             "#fb9f3a"
            ],
            [
             0.8888888888888888,
             "#fdca26"
            ],
            [
             1,
             "#f0f921"
            ]
           ],
           "sequentialminus": [
            [
             0,
             "#0d0887"
            ],
            [
             0.1111111111111111,
             "#46039f"
            ],
            [
             0.2222222222222222,
             "#7201a8"
            ],
            [
             0.3333333333333333,
             "#9c179e"
            ],
            [
             0.4444444444444444,
             "#bd3786"
            ],
            [
             0.5555555555555556,
             "#d8576b"
            ],
            [
             0.6666666666666666,
             "#ed7953"
            ],
            [
             0.7777777777777778,
             "#fb9f3a"
            ],
            [
             0.8888888888888888,
             "#fdca26"
            ],
            [
             1,
             "#f0f921"
            ]
           ]
          },
          "colorway": [
           "#636efa",
           "#EF553B",
           "#00cc96",
           "#ab63fa",
           "#FFA15A",
           "#19d3f3",
           "#FF6692",
           "#B6E880",
           "#FF97FF",
           "#FECB52"
          ],
          "font": {
           "color": "#2a3f5f"
          },
          "geo": {
           "bgcolor": "white",
           "lakecolor": "white",
           "landcolor": "#E5ECF6",
           "showlakes": true,
           "showland": true,
           "subunitcolor": "white"
          },
          "hoverlabel": {
           "align": "left"
          },
          "hovermode": "closest",
          "mapbox": {
           "style": "light"
          },
          "paper_bgcolor": "white",
          "plot_bgcolor": "#E5ECF6",
          "polar": {
           "angularaxis": {
            "gridcolor": "white",
            "linecolor": "white",
            "ticks": ""
           },
           "bgcolor": "#E5ECF6",
           "radialaxis": {
            "gridcolor": "white",
            "linecolor": "white",
            "ticks": ""
           }
          },
          "scene": {
           "xaxis": {
            "backgroundcolor": "#E5ECF6",
            "gridcolor": "white",
            "gridwidth": 2,
            "linecolor": "white",
            "showbackground": true,
            "ticks": "",
            "zerolinecolor": "white"
           },
           "yaxis": {
            "backgroundcolor": "#E5ECF6",
            "gridcolor": "white",
            "gridwidth": 2,
            "linecolor": "white",
            "showbackground": true,
            "ticks": "",
            "zerolinecolor": "white"
           },
           "zaxis": {
            "backgroundcolor": "#E5ECF6",
            "gridcolor": "white",
            "gridwidth": 2,
            "linecolor": "white",
            "showbackground": true,
            "ticks": "",
            "zerolinecolor": "white"
           }
          },
          "shapedefaults": {
           "line": {
            "color": "#2a3f5f"
           }
          },
          "ternary": {
           "aaxis": {
            "gridcolor": "white",
            "linecolor": "white",
            "ticks": ""
           },
           "baxis": {
            "gridcolor": "white",
            "linecolor": "white",
            "ticks": ""
           },
           "bgcolor": "#E5ECF6",
           "caxis": {
            "gridcolor": "white",
            "linecolor": "white",
            "ticks": ""
           }
          },
          "title": {
           "x": 0.05
          },
          "xaxis": {
           "automargin": true,
           "gridcolor": "white",
           "linecolor": "white",
           "ticks": "",
           "title": {
            "standoff": 15
           },
           "zerolinecolor": "white",
           "zerolinewidth": 2
          },
          "yaxis": {
           "automargin": true,
           "gridcolor": "white",
           "linecolor": "white",
           "ticks": "",
           "title": {
            "standoff": 15
           },
           "zerolinecolor": "white",
           "zerolinewidth": 2
          }
         }
        }
       }
      }
     },
     "metadata": {},
     "output_type": "display_data"
    }
   ],
   "source": [
    "for i in range(len(regions)):\n",
    "        px.pie(top_5(regions, 'genre')[i],\n",
    "                values=regions[i], \n",
    "                names='genre').show()"
   ]
  },
  {
   "cell_type": "markdown",
   "metadata": {},
   "source": [
    "<pre>\n",
    "По жанрам Северная Америка и Европа похожи, различия в количестве продаж.\n",
    "В Японии на первом месте жанр action, на втором ролевые игры. \n",
    "На третьем шутеры.\n",
    "В Я понии ролевые игры любят больше.\n",
    "\n",
    "</pre>"
   ]
  },
  {
   "cell_type": "markdown",
   "metadata": {},
   "source": [
    "### Влияет ли рейтинг ESRB на продажи в отдельном регионе?"
   ]
  },
  {
   "cell_type": "code",
   "execution_count": null,
   "metadata": {},
   "outputs": [
    {
     "name": "stdout",
     "output_type": "stream",
     "text": [
      "Северная Америка \n",
      "     rating  na_sales\n",
      "2        M    164.64\n",
      "0        E     78.24\n",
      "1     E10+     51.97\n",
      "3        T     49.60\n",
      "4  unrated      1.63\n",
      "Европа \n",
      "     rating  eu_sales\n",
      "2        M    144.32\n",
      "0        E     81.98\n",
      "3        T     41.78\n",
      "1     E10+     39.98\n",
      "4  unrated      2.71\n",
      "Япония \n",
      "     rating  jp_sales\n",
      "3        T     18.80\n",
      "0        E     14.81\n",
      "2        M     14.05\n",
      "1     E10+      5.76\n",
      "4  unrated      0.44\n"
     ]
    }
   ],
   "source": [
    "print('Северная Америка \\n', top_5(regions, 'rating')[0])\n",
    "print('Европа \\n', top_5(regions, 'rating')[1])\n",
    "print('Япония \\n', top_5(regions, 'rating')[2])"
   ]
  },
  {
   "cell_type": "markdown",
   "metadata": {},
   "source": [
    "<pre>\n",
    "В Америке и в Евроме лучше всего продаются взрослые игры. \n",
    "В то время как в Японии лидируют подростковые.\n",
    "Игры для детей занимают 5 место.\n",
    "Игры для всех на втором месте.\n",
    "</pre>"
   ]
  },
  {
   "cell_type": "markdown",
   "metadata": {},
   "source": [
    "## Проверка гипотезы"
   ]
  },
  {
   "cell_type": "markdown",
   "metadata": {},
   "source": [
    "### Средние пользовательские рейтинги платформ Xbox One и PC одинаковые;"
   ]
  },
  {
   "cell_type": "markdown",
   "metadata": {},
   "source": [
    "```\n",
    "H_0: пользовательские рейтинги (user_score) для платформы xbox = (user_score) для ПК.\n",
    "H_a: Пользовательский рейтинг (user_score) платформы \"xbox\" ≠ пользовательскому рейтингу (user_score) для ПК.\n",
    "alpha = 0.05\n",
    "```"
   ]
  },
  {
   "cell_type": "code",
   "execution_count": null,
   "metadata": {},
   "outputs": [],
   "source": [
    "user_score_xone = good_data_2013.query('platform == \"XOne\"')['user_score']"
   ]
  },
  {
   "cell_type": "code",
   "execution_count": null,
   "metadata": {},
   "outputs": [],
   "source": [
    "user_score_pc = good_data_2013.query('platform == \"PC\"')['user_score']"
   ]
  },
  {
   "cell_type": "code",
   "execution_count": null,
   "metadata": {},
   "outputs": [
    {
     "data": {
      "text/plain": [
       "array([3.9, 7.9, 2.2, 6. , 5.4, 5.7, 5.9, 4.2, 9.3, 8.5, 8. , 7.7, 5.5,\n",
       "       6.7, 6.5, 6.2, 3. , 6.8, 8.3, 8.2, 4.7, 5.8, 4.5, 4.6, 7.6, 6.9,\n",
       "       2.1, 7.5, 3.3, 7.3, 7.1, 4.4, 3.2, 8.6, 4.3, 7.4, 3.5, 8.1, 4.8,\n",
       "       6.4, 8.4, 5.3, 8.9, 3.8, 2.5, 7. , 2.9, 3.6, 5.1, 3.4, 4. , 6.1,\n",
       "       6.3, 8.7, 7.8, 1.4, 3.7, 2.4])"
      ]
     },
     "execution_count": 80,
     "metadata": {},
     "output_type": "execute_result"
    }
   ],
   "source": [
    "user_score_pc.unique()"
   ]
  },
  {
   "cell_type": "code",
   "execution_count": null,
   "metadata": {},
   "outputs": [
    {
     "name": "stdout",
     "output_type": "stream",
     "text": [
      "0.14759594013430463\n",
      "Не получилось отвергнуть нулевую гипотезу\n"
     ]
    }
   ],
   "source": [
    "results = st.ttest_ind(\n",
    "    user_score_xone, \n",
    "    user_score_pc, \n",
    "    equal_var=False)\n",
    "\n",
    "alpha = 0.05 # значение уровня значимости\n",
    "\n",
    "# вывод значения p-value на экран \n",
    "# условный оператор с выводом строки с ответом\n",
    "\n",
    "\n",
    "print(results.pvalue)\n",
    "\n",
    "if results.pvalue < alpha:\n",
    "    print(\"Отвергаем нулевую гипотезу\")\n",
    "else:\n",
    "    print(\"Не получилось отвергнуть нулевую гипотезу\") "
   ]
  },
  {
   "cell_type": "markdown",
   "metadata": {},
   "source": [
    "### Средние пользовательские рейтинги жанров Action (англ. «действие», экшен-игры) и Sports (англ. «спортивные соревнования») разные"
   ]
  },
  {
   "cell_type": "markdown",
   "metadata": {},
   "source": [
    "```\n",
    "H_0: пользовательские рейтинги (user_score) для жанра action = (user_score) для жанра спорт.\n",
    "H_a: Пользовательский рейтинг (user_score) для жанра action ≠ пользовательскому рейтингу (user_score) для жанра спорт.\n",
    "alpha = 0.05\n",
    "```"
   ]
  },
  {
   "cell_type": "code",
   "execution_count": null,
   "metadata": {},
   "outputs": [],
   "source": [
    "user_score_action = good_data_2013.query('genre == \"Action\"')['user_score']"
   ]
  },
  {
   "cell_type": "code",
   "execution_count": null,
   "metadata": {},
   "outputs": [],
   "source": [
    "user_score_sport = good_data_2013.query('genre == \"Sports\"')['user_score']"
   ]
  },
  {
   "cell_type": "code",
   "execution_count": null,
   "metadata": {},
   "outputs": [
    {
     "name": "stdout",
     "output_type": "stream",
     "text": [
      "1.4460039700704318e-20\n",
      "Отвергаем нулевую гипотезу\n"
     ]
    }
   ],
   "source": [
    "results = st.ttest_ind(\n",
    "    user_score_action, \n",
    "    user_score_sport, \n",
    "    equal_var=False)\n",
    "\n",
    "alpha = 0.05 # значение уровня значимости\n",
    "\n",
    "# вывод значения p-value на экран \n",
    "# условный оператор с выводом строки с ответом\n",
    "\n",
    "\n",
    "print(results.pvalue)\n",
    "\n",
    "if results.pvalue < alpha:\n",
    "    print(\"Отвергаем нулевую гипотезу\")\n",
    "else:\n",
    "    print(\"Не получилось отвергнуть нулевую гипотезу\") "
   ]
  },
  {
   "cell_type": "markdown",
   "metadata": {},
   "source": [
    "## Conclusion"
   ]
  },
  {
   "cell_type": "markdown",
   "metadata": {},
   "source": [
    "<div style='\n",
    "    border-radius: 21px; \n",
    "    padding: 8px;\n",
    "    max-width: 70%;\n",
    "    resize: both;\n",
    "    overflow: auto;\n",
    "    background-color: gray;\n",
    "    color: white;\n",
    "    font: 1em bold \"Courier New\", monospace;\n",
    "    margin: 20px auto;\n",
    "    padding: 17px;\n",
    "    letter-spacing: 3px;'>\n",
    "<pre>\n",
    "Кличество игр за весь период и статистика роста и спада.\n",
    "    Анализ данных за период 1980 по 2016 год.\n",
    "    С 1992 года количество игр начало резко увеличиваться. \n",
    "    Пик приходится на 2008 и 2009 годы, 1427 и 1426 игр соответственно.\n",
    "    после 2009 года начинается спад выпускаемых игр.\n",
    "    Рассмотрели все периоды, так как чем больше данных тем качественне статистика по ним.\n",
    "    Видно что 1983 по 1990 период стабильности по выпускаемому количеству игр, резких спадов или ростов нет.\n",
    "    После этого идет резкий рост и резкий спад.\n",
    "\n",
    "\n",
    "Гипотеза зависимости продаж от цикл жизни платформ.\n",
    "    Старые платформы просуществовали около 10 лет, такие как 2600 и NES\n",
    "    Переход платформу нового поколения заниммает от 2 до 4 лет: GB > GBA 2 года, PS > PS2 4 года, PS2 > PS3 6 лет.\n",
    "    Игры на консолях самые прибыльные: PS/PS2/PS3, X360, Wii, DS\n",
    "    Актуальные платформы - новые версии консолей(PS4), новые приставки и ПК.\n",
    "\n",
    "    Самые продаваемые игры на платформах.\n",
    "        Лидеры по продажам - XOne (средняя прибыль больше 40) и PS4 (средняя прибыль больше 80).\n",
    "        На втором месте по продажам 3DS и PS3, больше 30.\n",
    "        Средняя прибыль X360 яуть превышает 20.\n",
    "        Остальные меньше 20.\n",
    "        У PS3 и X360 видно что прадажи идут на спад, Q3 длиннее Q1\n",
    "    \n",
    "    Гипотиза подтвердилась, для каждой платформы есть росс, пик и спад продаж. Особенно актуально для консолей.\n",
    "    С выходом новой версии консоли пик продаж переходит на них.\n",
    "    Исключение составляет ПК, для него обновляется только железо, оэто там продажи постоянно есть.\n",
    "\n",
    "\n",
    "\n",
    "Выберем для дальнейшего анализа период начала все еще актуальных платвфор, в игры, которох играют по настоящий момент.\n",
    "2013 - 2016 гг.\n",
    "\n",
    "\n",
    "Гипотеза зависимости продаж от пользовательских оценок и оценок критиков.\n",
    "    Исключим платформы по которым не достаточн данных для анализа: DS.\n",
    "    И частично по оценкам критиков.\n",
    "    Платформы, где оценки влияют на продажи: \n",
    "        3DS - 24%, \n",
    "        Wii - 68%,\n",
    "        WiiU - 42%.\n",
    "    На крупных консолях (PS и xone) пользовательские оценки не имеют значения.\n",
    "    На ПК пользовательские оценки, как оказалось, тоже мало влияют -9%.\n",
    "    Оценки критиков важнее, но не превышают 50%\n",
    "\n",
    "    Гипотиза частично подтвердилась. Оценки действительно влияют на продажи, но есть зависимость от платформы.\n",
    "    Для всех платформ есть зависимость от оценок критиков.\n",
    "    Но не для всех консолей, есть зависимость от пользовательских оценок.\n",
    "\n",
    "\n",
    "Гипотиза зависимости продаж от жанра игры.\n",
    "    Самые прибыльные с 2013 года являются жанры:\n",
    "        action 257 млн (явный лидер по продажам),\n",
    "        shooter 190 млн,\n",
    "        sports 145 млн,\n",
    "        role-playing 64 млн.\n",
    "    \n",
    "    Самые не прибыльные оказались стратегии (8 млн продаж) и пазлы (2 млн продаж).\n",
    "\n",
    "    Гипотиза подтвердилась: некоторые жанры действительно намного популярнее других.\n",
    "\n",
    "\n",
    "Гипотиза предпочтения пользователей в зависимости от страны.\n",
    "    Различия по платформам:\n",
    "        В Северной Америки популярны консоли.\n",
    "            Лидирует PS4, xone на втором месте. WiiU на пятом месте.\n",
    "            Продажи не сильно различаются У плейстейшн и Иксбокс, 85 и 79 млн соотвественно.\n",
    "        \n",
    "        В Европе предпочитают консоли плейстейшн и иксбокс, на пятом песте ПК.\n",
    "            Плейстейшн продается в Европе лучше всех: 113 млн.\n",
    "        \n",
    "        В Японии лидирует плейстешн 3,\n",
    "            Пк нет совсем. только приставки.\n",
    "            На втором месте 3DS\n",
    "            Продажи, на удивление, в Японии ниже чем в Америке и Европе. \n",
    "            Максимум 14 млн.\n",
    "\n",
    "    Различия по жанрам:\n",
    "        По жанрам Северная Америка и Европа похожи, различия в количестве продаж.\n",
    "        В Японии на первом месте жанр action, на втором ролевые игры. \n",
    "        На третьем шутеры.\n",
    "        В Я понии ролевые игры любят больше.\n",
    "    \n",
    "    Различия по рейтингу:\n",
    "        В Америке и в Евроме лучше всего продаются взрослые игры. \n",
    "        В то время как в Японии лидируют подростковые.\n",
    "        Игры для детей занимают 5 место.\n",
    "        Игры для всех на втором месте.\n",
    "\n",
    "    Гипотиза частично подтвердилась: Для Америки и Европы различия не такие большие, \n",
    "    а вот у пользователей из Японии уже сильно прослеживаются другие предпочтения, \n",
    "    чем у пользователей из Европы и Америки. \n",
    "    Поэтому надо учитывать эти заличия при продвижении игр.\n",
    "\n",
    "\n",
    "Гипотеза Средние пользовательские рейтинги платформ Xbox One и PC одинаковые\n",
    "    0.14759594013430463\n",
    "    Не получилось отвергнуть нулевую гипотезу\n",
    "\n",
    "Средние пользовательские рейтинги жанров Action (англ. «действие», экшен-игры) и Sports (англ. «спортивные соревнования») разные\n",
    "    1.4460039700704318e-20\n",
    "    Отвергаем нулевую гипотезу\n",
    "</pre></div>"
   ]
  }
 ],
 "metadata": {
  "kernelspec": {
   "display_name": "Python 3.10.0 ('.env_jupyter': venv)",
   "language": "python",
   "name": "python3"
  },
  "language_info": {
   "codemirror_mode": {
    "name": "ipython",
    "version": 3
   },
   "file_extension": ".py",
   "mimetype": "text/x-python",
   "name": "python",
   "nbconvert_exporter": "python",
   "pygments_lexer": "ipython3",
   "version": "3.10.0"
  },
  "orig_nbformat": 4,
  "vscode": {
   "interpreter": {
    "hash": "acd7119d548134a99e6f9d1f29df8db3a357202429f0f56f73b34e23b90bc877"
   }
  }
 },
 "nbformat": 4,
 "nbformat_minor": 2
}
