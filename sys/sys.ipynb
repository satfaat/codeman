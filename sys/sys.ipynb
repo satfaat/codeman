{
 "cells": [
  {
   "cell_type": "code",
   "execution_count": 1,
   "metadata": {},
   "outputs": [],
   "source": [
    "import os, sys\n",
    "import subprocess, platform\n",
    "\n",
    "from datetime import datetime"
   ]
  },
  {
   "cell_type": "code",
   "execution_count": 46,
   "metadata": {},
   "outputs": [],
   "source": [
    "import uuid\n",
    "import re"
   ]
  },
  {
   "cell_type": "code",
   "execution_count": 17,
   "metadata": {},
   "outputs": [],
   "source": [
    "import socket"
   ]
  },
  {
   "cell_type": "code",
   "execution_count": null,
   "metadata": {},
   "outputs": [],
   "source": [
    "os.name"
   ]
  },
  {
   "cell_type": "markdown",
   "metadata": {},
   "source": [
    "## system info"
   ]
  },
  {
   "cell_type": "code",
   "execution_count": null,
   "metadata": {},
   "outputs": [],
   "source": [
    "Id = subprocess.check_output(['systeminfo']).decode('utf-8').split('\\n')\n",
    "new = []\n",
    "\n",
    "for item in Id:\n",
    "\tnew.append(str(item.split(\"\\r\")[:-1]))\n",
    "for i in new:\n",
    "    print(i[2:-2])"
   ]
  },
  {
   "cell_type": "code",
   "execution_count": null,
   "metadata": {},
   "outputs": [],
   "source": [
    "info = {}\n",
    "\n",
    "info[\"platform details\"] = platform.platform()\n",
    "info[\"system name\"] = platform.system()\n",
    "info[\"processor name\"] = platform.processor()\n",
    "info[\"architectural detail\"] = platform.architecture()\n",
    "\n",
    "# printing the details\n",
    "for i, j in info.items():\n",
    "\tprint(i, \" - \", j)"
   ]
  },
  {
   "cell_type": "code",
   "execution_count": null,
   "metadata": {},
   "outputs": [],
   "source": [
    "platform.uname()"
   ]
  },
  {
   "cell_type": "code",
   "execution_count": null,
   "metadata": {},
   "outputs": [],
   "source": [
    "hex(uuid.getnode())"
   ]
  },
  {
   "cell_type": "code",
   "execution_count": null,
   "metadata": {},
   "outputs": [],
   "source": [
    "print (\"The MAC address in formatted way is : \", end=\"\")\n",
    "print (\n",
    "    ':'.join(\n",
    "            ['{:02x}'.format((uuid.getnode() >> ele) & 0xff)\n",
    "            for ele in range(0,8*6,8)\n",
    "            ][::-1]\n",
    "            )\n",
    "    )\n",
    "print (':'.join(re.findall('..', '%012x' % uuid.getnode())))"
   ]
  },
  {
   "cell_type": "code",
   "execution_count": null,
   "metadata": {},
   "outputs": [],
   "source": [
    "socket.gethostbyname('google.com')"
   ]
  },
  {
   "cell_type": "code",
   "execution_count": null,
   "metadata": {},
   "outputs": [],
   "source": [
    "# translate hostname to IPv4\n",
    "target = 'google.com' #socket.gethostbyname(sys.argv[1])\n",
    "\n",
    "\n",
    "print(\"-\" * 50)\n",
    "print(\"Scanning Target: \",  target)\n",
    "print(\"Scanning started at:\" + str(datetime.now()))\n",
    "print(\"-\" * 50)\n",
    "\n",
    "try:\n",
    "\t# will scan ports between 1 to 65,535\n",
    "\tfor port in range(1,65535):\n",
    "\t\ts = socket.socket(socket.AF_INET, socket.SOCK_STREAM)\n",
    "\t\tsocket.setdefaulttimeout(1)\n",
    "\t\t# returns an error indicator\n",
    "\t\tresult = s.connect_ex((target, port))\n",
    "\t\tif result == 0:\n",
    "\t\t\tprint(\"Port {} is open\".format(port))\n",
    "\t\ts.close()\n",
    "except KeyboardInterrupt:\n",
    "\t\tprint(\"\\n Exiting Program !!!!\")\n",
    "\t\tsys.exit()\n",
    "except socket.gaierror:\n",
    "\t\tprint(\"\\n Hostname Could Not Be Resolved !!!!\")\n",
    "\t\tsys.exit()\n",
    "except socket.error:\n",
    "\t\tprint(\"\\ Server not responding !!!!\")\n",
    "\t\tsys.exit()"
   ]
  },
  {
   "cell_type": "markdown",
   "metadata": {},
   "source": [
    "## Files manipulating"
   ]
  },
  {
   "cell_type": "code",
   "execution_count": 2,
   "metadata": {},
   "outputs": [
    {
     "data": {
      "text/plain": [
       "'C:\\\\WINDOWS'"
      ]
     },
     "execution_count": 2,
     "metadata": {},
     "output_type": "execute_result"
    }
   ],
   "source": [
    "os.getenv('WINDIR')"
   ]
  },
  {
   "cell_type": "code",
   "execution_count": 3,
   "metadata": {},
   "outputs": [
    {
     "data": {
      "text/plain": [
       "'C:\\\\WINDOWS\\\\explorer.exe'"
      ]
     },
     "execution_count": 3,
     "metadata": {},
     "output_type": "execute_result"
    }
   ],
   "source": [
    "explorer = os.path.join(os.getenv('WINDIR'), 'explorer.exe')\n",
    "explorer"
   ]
  },
  {
   "cell_type": "code",
   "execution_count": null,
   "metadata": {},
   "outputs": [],
   "source": [
    "subprocess.Popen('explorer \"C:\\\\Users\\\\uname\\\\AppData\\\\Local\\\\pnpm\"')"
   ]
  }
 ],
 "metadata": {
  "kernelspec": {
   "display_name": "Python 3.10.0 ('.env_jupyter': venv)",
   "language": "python",
   "name": "python3"
  },
  "language_info": {
   "codemirror_mode": {
    "name": "ipython",
    "version": 3
   },
   "file_extension": ".py",
   "mimetype": "text/x-python",
   "name": "python",
   "nbconvert_exporter": "python",
   "pygments_lexer": "ipython3",
   "version": "3.10.0"
  },
  "orig_nbformat": 4,
  "vscode": {
   "interpreter": {
    "hash": "acd7119d548134a99e6f9d1f29df8db3a357202429f0f56f73b34e23b90bc877"
   }
  }
 },
 "nbformat": 4,
 "nbformat_minor": 2
}
