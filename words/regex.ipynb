{
 "cells": [
  {
   "cell_type": "code",
   "execution_count": 1,
   "metadata": {},
   "outputs": [],
   "source": [
    "import re"
   ]
  },
  {
   "cell_type": "code",
   "execution_count": 2,
   "metadata": {},
   "outputs": [],
   "source": [
    "js = '^(http(s):\\/\\/.)[-a-zA-Z0-9@:%._\\+~#=]{2,256}\\.[a-z]{2,6}\\b([-a-zA-Z0-9@:%_\\+.~#?&//=]*)$'\n",
    "py = '^((http|https)://)[-a-zA-Z0-9@:%._\\\\+~#?&//=]{2,256}\\\\.[a-z]{2,6}\\\\b([-a-zA-Z0-9@:%._\\\\+~#?&//=]*)$'"
   ]
  },
  {
   "cell_type": "code",
   "execution_count": 3,
   "metadata": {},
   "outputs": [],
   "source": [
    "def validateURL(url):\n",
    "    r = re.compile(py)\n",
    " \n",
    "    if (re.search(r, url)):\n",
    "        print(\"Valid\")\n",
    "    else:\n",
    "        print(\"Not Valid\")"
   ]
  },
  {
   "cell_type": "code",
   "execution_count": null,
   "metadata": {
    "vscode": {
     "languageId": "javascript"
    }
   },
   "outputs": [],
   "source": [
    "function validateURL(url) {\n",
    "    if(/^(http(s):\\/\\/.)[-a-zA-Z0-9@:%._\\+~#=]{2,256}\\.[a-z]{2,6}\\b([-a-zA-Z0-9@:%_\\+.~#?&//=]*)$/g.test(url)) {\n",
    "         console.log('Valid');\n",
    "     } else {\n",
    "         console.log('Not Valid');\n",
    "     }\n",
    " }"
   ]
  },
  {
   "cell_type": "code",
   "execution_count": null,
   "metadata": {},
   "outputs": [],
   "source": [
    "def checkMasterCardNo(cardNo):\n",
    "    regex = \"^5[1-5][0-9]{14}|^(222[1-9]|22[3-9]\\\\d|2[3-6]\\\\d{2}|27[0-1]\\\\d|2720)[0-9]{12}$\"\n",
    "    r = re.compile(regex)\n",
    " \n",
    "    if (re.search(r, cardNo)):\n",
    "        print(\"Valid\")\n",
    "    else:\n",
    "        print(\"Not Valid\")"
   ]
  },
  {
   "cell_type": "code",
   "execution_count": null,
   "metadata": {},
   "outputs": [],
   "source": [
    "def checkVisaCardNo(cardNo):\n",
    "    regex = \"^4[0-9]{12}(?:[0-9]{3})?$\"\n",
    "    r = re.compile(regex)\n",
    " \n",
    "    if (re.search(r, cardNo)):\n",
    "        print(\"Valid\")\n",
    "    else:\n",
    "        print(\"Not Valid\")"
   ]
  },
  {
   "cell_type": "code",
   "execution_count": null,
   "metadata": {},
   "outputs": [],
   "source": [
    "def checkAmericanExpressCardNo(cardNo):\n",
    "    regex = \"^3[47][0-9]{13}$\"\n",
    "    r = re.compile(regex)\n",
    " \n",
    "    if (re.search(r, cardNo)):\n",
    "        print(\"Valid\")\n",
    "    else:\n",
    "        print(\"Not Valid\")"
   ]
  },
  {
   "cell_type": "code",
   "execution_count": null,
   "metadata": {},
   "outputs": [],
   "source": [
    "def checkUsername(username):\n",
    "    regex = \"^[A-Za-z]\\\\w{4,14}$\"\n",
    "    r = re.compile(regex)\n",
    " \n",
    "    if (re.search(r, username)):\n",
    "        print(\"Valid\")\n",
    "    else:\n",
    "        print(\"Not Valid\")"
   ]
  },
  {
   "cell_type": "code",
   "execution_count": null,
   "metadata": {
    "vscode": {
     "languageId": "javascript"
    }
   },
   "outputs": [],
   "source": [
    "function checkUsername(user) {\n",
    "    if(/^[A-Za-z][A-Za-z0-9_]{4,14}$/.test(user)) {\n",
    "        console.log('Valid');\n",
    "    } else {\n",
    "        console.log('Not Valid');\n",
    "    }\n",
    "}"
   ]
  },
  {
   "cell_type": "code",
   "execution_count": null,
   "metadata": {},
   "outputs": [],
   "source": [
    "def checkEmailId(email):\n",
    "    regex = \"^[\\w.-]+@([\\w-]+\\.)+[\\w-]{2,4}$\"\n",
    "    r = re.compile(regex)\n",
    "    if (re.search(r, email)):\n",
    "        print(\"Valid\")\n",
    "    else:\n",
    "        print(\"Not Valid\")"
   ]
  },
  {
   "cell_type": "code",
   "execution_count": null,
   "metadata": {},
   "outputs": [],
   "source": [
    "def checkPasswordStrength(password):\n",
    "    regex = \"(?=.*[a-z])(?=.*[A-Z])(?=.*[0-9])(?=.*[^A-Za-z0-9])(?=.{8,})\"\n",
    "    r = re.compile(regex)\n",
    " \n",
    "    if (re.search(r, password)):\n",
    "        print(\"Strong Password\")\n",
    "    else:\n",
    "        print(\"Weak Password\")"
   ]
  },
  {
   "cell_type": "code",
   "execution_count": null,
   "metadata": {},
   "outputs": [],
   "source": [
    "def checkDateFormat(date):\n",
    "    regex = \"^(0[1-9]|1[012])[- /.](0[1-9]|[12][0-9]|3[01])[- /.](19|20)\\d\\d$\"\n",
    "    r = re.compile(regex)\n",
    "    if(re.search(r, date)):\n",
    "        print(\"Valid\")\n",
    "    else:\n",
    "        print(\"Not Valid\")"
   ]
  },
  {
   "cell_type": "code",
   "execution_count": null,
   "metadata": {},
   "outputs": [],
   "source": [
    "def checkEmptyString(str):\n",
    "   regex = \"^$\"\n",
    "   r = re.compile(regex)\n",
    " \n",
    "   if (re.search(r, str)):\n",
    "       print(\"The given string is empty\")\n",
    "   else:\n",
    "       print(\"The given string is not empty\")"
   ]
  },
  {
   "cell_type": "code",
   "execution_count": null,
   "metadata": {},
   "outputs": [],
   "source": [
    "def validateZIPCode(code):\n",
    "    regex = \"^[0-9]{5}(?:-[0-9]{4})?$\"\n",
    "    r = re.compile(regex)\n",
    " \n",
    "    if (re.search(r, code)):\n",
    "        print(\"Valid\")\n",
    "    else:\n",
    "        print(\"Not Valid\")"
   ]
  }
 ],
 "metadata": {
  "kernelspec": {
   "display_name": "Python 3.10.0 ('.env_jupyter': venv)",
   "language": "python",
   "name": "python3"
  },
  "language_info": {
   "codemirror_mode": {
    "name": "ipython",
    "version": 3
   },
   "file_extension": ".py",
   "mimetype": "text/x-python",
   "name": "python",
   "nbconvert_exporter": "python",
   "pygments_lexer": "ipython3",
   "version": "3.10.0"
  },
  "orig_nbformat": 4,
  "vscode": {
   "interpreter": {
    "hash": "acd7119d548134a99e6f9d1f29df8db3a357202429f0f56f73b34e23b90bc877"
   }
  }
 },
 "nbformat": 4,
 "nbformat_minor": 2
}
